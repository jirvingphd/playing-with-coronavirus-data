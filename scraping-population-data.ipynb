{
 "metadata": {
  "language_info": {
   "codemirror_mode": {
    "name": "ipython",
    "version": 3
   },
   "file_extension": ".py",
   "mimetype": "text/x-python",
   "name": "python",
   "nbconvert_exporter": "python",
   "pygments_lexer": "ipython3",
   "version": "3.6.11-final"
  },
  "orig_nbformat": 2,
  "kernelspec": {
   "name": "learn-env",
   "display_name": "learn-env"
  }
 },
 "nbformat": 4,
 "nbformat_minor": 2,
 "cells": [
  {
   "source": [
    "# Scraping Country Population Data for COVID Dashboard"
   ],
   "cell_type": "markdown",
   "metadata": {}
  },
  {
   "source": [
    "- Want to normalize statistics according to population\n",
    "- Plan is to scrape the table from: \n",
    "    - https://www.worldometers.info/world-population/population-by-country/ \n",
    "\n",
    "- Actually, nevermind. Will use Kaggle:\n",
    "    - https://www.kaggle.com/tanuprabhu/population-by-country-2020?select=population_by_country_2020.csv"
   ],
   "cell_type": "markdown",
   "metadata": {}
  },
  {
   "cell_type": "code",
   "execution_count": 12,
   "metadata": {},
   "outputs": [
    {
     "output_type": "stream",
     "name": "stdout",
     "text": [
      "fsds v0.2.27 loaded.  Read the docs: https://fs-ds.readthedocs.io/en/latest/ \n"
     ]
    },
    {
     "output_type": "display_data",
     "data": {
      "text/plain": "<pandas.io.formats.style.Styler at 0x7fef71b93860>",
      "text/html": "<style  type=\"text/css\" >\n</style><table id=\"T_8ad59752_1bad_11eb_ad8c_acde48001122\" ><caption>Loaded Packages and Handles</caption><thead>    <tr>        <th class=\"col_heading level0 col0\" >Handle</th>        <th class=\"col_heading level0 col1\" >Package</th>        <th class=\"col_heading level0 col2\" >Description</th>    </tr></thead><tbody>\n                <tr>\n                                <td id=\"T_8ad59752_1bad_11eb_ad8c_acde48001122row0_col0\" class=\"data row0 col0\" >dp</td>\n                        <td id=\"T_8ad59752_1bad_11eb_ad8c_acde48001122row0_col1\" class=\"data row0 col1\" >IPython.display</td>\n                        <td id=\"T_8ad59752_1bad_11eb_ad8c_acde48001122row0_col2\" class=\"data row0 col2\" >Display modules with helpful display and clearing commands.</td>\n            </tr>\n            <tr>\n                                <td id=\"T_8ad59752_1bad_11eb_ad8c_acde48001122row1_col0\" class=\"data row1 col0\" >fs</td>\n                        <td id=\"T_8ad59752_1bad_11eb_ad8c_acde48001122row1_col1\" class=\"data row1 col1\" >fsds</td>\n                        <td id=\"T_8ad59752_1bad_11eb_ad8c_acde48001122row1_col2\" class=\"data row1 col2\" >Custom data science bootcamp student package</td>\n            </tr>\n            <tr>\n                                <td id=\"T_8ad59752_1bad_11eb_ad8c_acde48001122row2_col0\" class=\"data row2 col0\" >mpl</td>\n                        <td id=\"T_8ad59752_1bad_11eb_ad8c_acde48001122row2_col1\" class=\"data row2 col1\" >matplotlib</td>\n                        <td id=\"T_8ad59752_1bad_11eb_ad8c_acde48001122row2_col2\" class=\"data row2 col2\" >Matplotlib's base OOP module with formatting artists</td>\n            </tr>\n            <tr>\n                                <td id=\"T_8ad59752_1bad_11eb_ad8c_acde48001122row3_col0\" class=\"data row3 col0\" >plt</td>\n                        <td id=\"T_8ad59752_1bad_11eb_ad8c_acde48001122row3_col1\" class=\"data row3 col1\" >matplotlib.pyplot</td>\n                        <td id=\"T_8ad59752_1bad_11eb_ad8c_acde48001122row3_col2\" class=\"data row3 col2\" >Matplotlib's matlab-like plotting module</td>\n            </tr>\n            <tr>\n                                <td id=\"T_8ad59752_1bad_11eb_ad8c_acde48001122row4_col0\" class=\"data row4 col0\" >np</td>\n                        <td id=\"T_8ad59752_1bad_11eb_ad8c_acde48001122row4_col1\" class=\"data row4 col1\" >numpy</td>\n                        <td id=\"T_8ad59752_1bad_11eb_ad8c_acde48001122row4_col2\" class=\"data row4 col2\" >scientific computing with Python</td>\n            </tr>\n            <tr>\n                                <td id=\"T_8ad59752_1bad_11eb_ad8c_acde48001122row5_col0\" class=\"data row5 col0\" >pd</td>\n                        <td id=\"T_8ad59752_1bad_11eb_ad8c_acde48001122row5_col1\" class=\"data row5 col1\" >pandas</td>\n                        <td id=\"T_8ad59752_1bad_11eb_ad8c_acde48001122row5_col2\" class=\"data row5 col2\" >High performance data structures and tools</td>\n            </tr>\n            <tr>\n                                <td id=\"T_8ad59752_1bad_11eb_ad8c_acde48001122row6_col0\" class=\"data row6 col0\" >sns</td>\n                        <td id=\"T_8ad59752_1bad_11eb_ad8c_acde48001122row6_col1\" class=\"data row6 col1\" >seaborn</td>\n                        <td id=\"T_8ad59752_1bad_11eb_ad8c_acde48001122row6_col2\" class=\"data row6 col2\" >High-level data visualization library based on matplotlib</td>\n            </tr>\n    </tbody></table>"
     },
     "metadata": {}
    },
    {
     "output_type": "display_data",
     "data": {
      "text/html": "        <script type=\"text/javascript\">\n        window.PlotlyConfig = {MathJaxConfig: 'local'};\n        if (window.MathJax) {MathJax.Hub.Config({SVG: {font: \"STIX-Web\"}});}\n        if (typeof require !== 'undefined') {\n        require.undef(\"plotly\");\n        requirejs.config({\n            paths: {\n                'plotly': ['https://cdn.plot.ly/plotly-latest.min']\n            }\n        });\n        require(['plotly'], function(Plotly) {\n            window._Plotly = Plotly;\n        });\n        }\n        </script>\n        "
     },
     "metadata": {}
    },
    {
     "output_type": "display_data",
     "data": {
      "text/html": "        <script type=\"text/javascript\">\n        window.PlotlyConfig = {MathJaxConfig: 'local'};\n        if (window.MathJax) {MathJax.Hub.Config({SVG: {font: \"STIX-Web\"}});}\n        if (typeof require !== 'undefined') {\n        require.undef(\"plotly\");\n        requirejs.config({\n            paths: {\n                'plotly': ['https://cdn.plot.ly/plotly-latest.min']\n            }\n        });\n        require(['plotly'], function(Plotly) {\n            window._Plotly = Plotly;\n        });\n        }\n        </script>\n        "
     },
     "metadata": {}
    },
    {
     "output_type": "stream",
     "name": "stdout",
     "text": [
      "[i] Pandas .iplot() method activated.\n"
     ]
    }
   ],
   "source": [
    "!pip install -U fsds\n",
    "from fsds.imports import *"
   ]
  },
  {
   "cell_type": "code",
   "execution_count": 13,
   "metadata": {},
   "outputs": [
    {
     "output_type": "display_data",
     "data": {
      "text/html": "        <script type=\"text/javascript\">\n        window.PlotlyConfig = {MathJaxConfig: 'local'};\n        if (window.MathJax) {MathJax.Hub.Config({SVG: {font: \"STIX-Web\"}});}\n        if (typeof require !== 'undefined') {\n        require.undef(\"plotly\");\n        requirejs.config({\n            paths: {\n                'plotly': ['https://cdn.plot.ly/plotly-latest.min']\n            }\n        });\n        require(['plotly'], function(Plotly) {\n            window._Plotly = Plotly;\n        });\n        }\n        </script>\n        "
     },
     "metadata": {}
    },
    {
     "output_type": "display_data",
     "data": {
      "text/html": "        <script type=\"text/javascript\">\n        window.PlotlyConfig = {MathJaxConfig: 'local'};\n        if (window.MathJax) {MathJax.Hub.Config({SVG: {font: \"STIX-Web\"}});}\n        if (typeof require !== 'undefined') {\n        require.undef(\"plotly\");\n        requirejs.config({\n            paths: {\n                'plotly': ['https://cdn.plot.ly/plotly-latest.min']\n            }\n        });\n        require(['plotly'], function(Plotly) {\n            window._Plotly = Plotly;\n        });\n        }\n        </script>\n        "
     },
     "metadata": {}
    }
   ],
   "source": [
    "import functions as fn"
   ]
  },
  {
   "cell_type": "code",
   "execution_count": 14,
   "metadata": {},
   "outputs": [],
   "source": [
    "# import requests, bs4\n",
    "\n",
    "# r = requests.get('https://www.worldometers.info/world-population/population-by-country/ ')\n",
    "# soup = bs4.BeautifulSoup(r.content)"
   ]
  },
  {
   "cell_type": "code",
   "execution_count": 15,
   "metadata": {},
   "outputs": [],
   "source": [
    "# len(soup.find_all('table'))"
   ]
  },
  {
   "cell_type": "code",
   "execution_count": 16,
   "metadata": {},
   "outputs": [],
   "source": [
    "# soup.find_all('tbody')"
   ]
  },
  {
   "source": [],
   "cell_type": "markdown",
   "metadata": {}
  },
  {
   "source": [
    "## Using Kaggle Dataset"
   ],
   "cell_type": "markdown",
   "metadata": {}
  },
  {
   "cell_type": "code",
   "execution_count": 17,
   "metadata": {},
   "outputs": [
    {
     "output_type": "execute_result",
     "data": {
      "text/plain": [
       "    Country (or dependency)  Population (2020) Yearly Change  Net Change  \\\n",
       "0                     China         1440297825        0.39 %     5540090   \n",
       "1                     India         1382345085        0.99 %    13586631   \n",
       "2             United States          331341050        0.59 %     1937734   \n",
       "3                 Indonesia          274021604        1.07 %     2898047   \n",
       "4                  Pakistan          221612785        2.00 %     4327022   \n",
       "..                      ...                ...           ...         ...   \n",
       "230              Montserrat               4993        0.06 %           3   \n",
       "231        Falkland Islands               3497        3.05 %         103   \n",
       "232                    Niue               1628        0.68 %          11   \n",
       "233                 Tokelau               1360        1.27 %          17   \n",
       "234                Holy See                801        0.25 %           2   \n",
       "\n",
       "     Density (P/Km²)  Land Area (Km²)  Migrants (net) Fert. Rate Med. Age  \\\n",
       "0                153          9388211       -348399.0        1.7       38   \n",
       "1                464          2973190       -532687.0        2.2       28   \n",
       "2                 36          9147420        954806.0        1.8       38   \n",
       "3                151          1811570        -98955.0        2.3       30   \n",
       "4                287           770880       -233379.0        3.6       23   \n",
       "..               ...              ...             ...        ...      ...   \n",
       "230               50              100             NaN       N.A.     N.A.   \n",
       "231                0            12170             NaN       N.A.     N.A.   \n",
       "232                6              260             NaN       N.A.     N.A.   \n",
       "233              136               10             NaN       N.A.     N.A.   \n",
       "234             2003                0             NaN       N.A.     N.A.   \n",
       "\n",
       "    Urban Pop % World Share  \n",
       "0          61 %     18.47 %  \n",
       "1          35 %     17.70 %  \n",
       "2          83 %      4.25 %  \n",
       "3          56 %      3.51 %  \n",
       "4          35 %      2.83 %  \n",
       "..          ...         ...  \n",
       "230        10 %      0.00 %  \n",
       "231        66 %      0.00 %  \n",
       "232        46 %      0.00 %  \n",
       "233         0 %      0.00 %  \n",
       "234        N.A.      0.00 %  \n",
       "\n",
       "[235 rows x 11 columns]"
      ],
      "text/html": "<div>\n<style scoped>\n    .dataframe tbody tr th:only-of-type {\n        vertical-align: middle;\n    }\n\n    .dataframe tbody tr th {\n        vertical-align: top;\n    }\n\n    .dataframe thead th {\n        text-align: right;\n    }\n</style>\n<table border=\"1\" class=\"dataframe\">\n  <thead>\n    <tr style=\"text-align: right;\">\n      <th></th>\n      <th>Country (or dependency)</th>\n      <th>Population (2020)</th>\n      <th>Yearly Change</th>\n      <th>Net Change</th>\n      <th>Density (P/Km²)</th>\n      <th>Land Area (Km²)</th>\n      <th>Migrants (net)</th>\n      <th>Fert. Rate</th>\n      <th>Med. Age</th>\n      <th>Urban Pop %</th>\n      <th>World Share</th>\n    </tr>\n  </thead>\n  <tbody>\n    <tr>\n      <th>0</th>\n      <td>China</td>\n      <td>1440297825</td>\n      <td>0.39 %</td>\n      <td>5540090</td>\n      <td>153</td>\n      <td>9388211</td>\n      <td>-348399.0</td>\n      <td>1.7</td>\n      <td>38</td>\n      <td>61 %</td>\n      <td>18.47 %</td>\n    </tr>\n    <tr>\n      <th>1</th>\n      <td>India</td>\n      <td>1382345085</td>\n      <td>0.99 %</td>\n      <td>13586631</td>\n      <td>464</td>\n      <td>2973190</td>\n      <td>-532687.0</td>\n      <td>2.2</td>\n      <td>28</td>\n      <td>35 %</td>\n      <td>17.70 %</td>\n    </tr>\n    <tr>\n      <th>2</th>\n      <td>United States</td>\n      <td>331341050</td>\n      <td>0.59 %</td>\n      <td>1937734</td>\n      <td>36</td>\n      <td>9147420</td>\n      <td>954806.0</td>\n      <td>1.8</td>\n      <td>38</td>\n      <td>83 %</td>\n      <td>4.25 %</td>\n    </tr>\n    <tr>\n      <th>3</th>\n      <td>Indonesia</td>\n      <td>274021604</td>\n      <td>1.07 %</td>\n      <td>2898047</td>\n      <td>151</td>\n      <td>1811570</td>\n      <td>-98955.0</td>\n      <td>2.3</td>\n      <td>30</td>\n      <td>56 %</td>\n      <td>3.51 %</td>\n    </tr>\n    <tr>\n      <th>4</th>\n      <td>Pakistan</td>\n      <td>221612785</td>\n      <td>2.00 %</td>\n      <td>4327022</td>\n      <td>287</td>\n      <td>770880</td>\n      <td>-233379.0</td>\n      <td>3.6</td>\n      <td>23</td>\n      <td>35 %</td>\n      <td>2.83 %</td>\n    </tr>\n    <tr>\n      <th>...</th>\n      <td>...</td>\n      <td>...</td>\n      <td>...</td>\n      <td>...</td>\n      <td>...</td>\n      <td>...</td>\n      <td>...</td>\n      <td>...</td>\n      <td>...</td>\n      <td>...</td>\n      <td>...</td>\n    </tr>\n    <tr>\n      <th>230</th>\n      <td>Montserrat</td>\n      <td>4993</td>\n      <td>0.06 %</td>\n      <td>3</td>\n      <td>50</td>\n      <td>100</td>\n      <td>NaN</td>\n      <td>N.A.</td>\n      <td>N.A.</td>\n      <td>10 %</td>\n      <td>0.00 %</td>\n    </tr>\n    <tr>\n      <th>231</th>\n      <td>Falkland Islands</td>\n      <td>3497</td>\n      <td>3.05 %</td>\n      <td>103</td>\n      <td>0</td>\n      <td>12170</td>\n      <td>NaN</td>\n      <td>N.A.</td>\n      <td>N.A.</td>\n      <td>66 %</td>\n      <td>0.00 %</td>\n    </tr>\n    <tr>\n      <th>232</th>\n      <td>Niue</td>\n      <td>1628</td>\n      <td>0.68 %</td>\n      <td>11</td>\n      <td>6</td>\n      <td>260</td>\n      <td>NaN</td>\n      <td>N.A.</td>\n      <td>N.A.</td>\n      <td>46 %</td>\n      <td>0.00 %</td>\n    </tr>\n    <tr>\n      <th>233</th>\n      <td>Tokelau</td>\n      <td>1360</td>\n      <td>1.27 %</td>\n      <td>17</td>\n      <td>136</td>\n      <td>10</td>\n      <td>NaN</td>\n      <td>N.A.</td>\n      <td>N.A.</td>\n      <td>0 %</td>\n      <td>0.00 %</td>\n    </tr>\n    <tr>\n      <th>234</th>\n      <td>Holy See</td>\n      <td>801</td>\n      <td>0.25 %</td>\n      <td>2</td>\n      <td>2003</td>\n      <td>0</td>\n      <td>NaN</td>\n      <td>N.A.</td>\n      <td>N.A.</td>\n      <td>N.A.</td>\n      <td>0.00 %</td>\n    </tr>\n  </tbody>\n</table>\n<p>235 rows × 11 columns</p>\n</div>"
     },
     "metadata": {},
     "execution_count": 17
    }
   ],
   "source": [
    "pop = pd.read_csv('Reference Data/population_by_country_2020.csv')\n",
    "pop"
   ]
  },
  {
   "cell_type": "code",
   "execution_count": 20,
   "metadata": {},
   "outputs": [
    {
     "output_type": "stream",
     "name": "stdout",
     "text": [
      "[i] DOWNLOADING DATA USING KAGGLE API\n",
      "\thttps://www.kaggle.com/sudalairajkumar/novel-corona-virus-2019-dataset\n",
      "\t- Downloaded dataset .zip and extracted to:\"New Data/\"\n",
      "\t- Extraction Complete.\n"
     ]
    },
    {
     "output_type": "display_data",
     "data": {
      "text/plain": "        Date Province/State  Country/Region  Confirmed  Deaths  Recovered\n0 2020-01-22          Anhui  Mainland China        1.0     0.0        0.0\n1 2020-01-22        Beijing  Mainland China       14.0     0.0        0.0\n2 2020-01-22      Chongqing  Mainland China        6.0     0.0        0.0\n3 2020-01-22         Fujian  Mainland China        1.0     0.0        0.0\n4 2020-01-22          Gansu  Mainland China        0.0     0.0        0.0",
      "text/html": "<div>\n<style scoped>\n    .dataframe tbody tr th:only-of-type {\n        vertical-align: middle;\n    }\n\n    .dataframe tbody tr th {\n        vertical-align: top;\n    }\n\n    .dataframe thead th {\n        text-align: right;\n    }\n</style>\n<table border=\"1\" class=\"dataframe\">\n  <thead>\n    <tr style=\"text-align: right;\">\n      <th></th>\n      <th>Date</th>\n      <th>Province/State</th>\n      <th>Country/Region</th>\n      <th>Confirmed</th>\n      <th>Deaths</th>\n      <th>Recovered</th>\n    </tr>\n  </thead>\n  <tbody>\n    <tr>\n      <th>0</th>\n      <td>2020-01-22</td>\n      <td>Anhui</td>\n      <td>Mainland China</td>\n      <td>1.0</td>\n      <td>0.0</td>\n      <td>0.0</td>\n    </tr>\n    <tr>\n      <th>1</th>\n      <td>2020-01-22</td>\n      <td>Beijing</td>\n      <td>Mainland China</td>\n      <td>14.0</td>\n      <td>0.0</td>\n      <td>0.0</td>\n    </tr>\n    <tr>\n      <th>2</th>\n      <td>2020-01-22</td>\n      <td>Chongqing</td>\n      <td>Mainland China</td>\n      <td>6.0</td>\n      <td>0.0</td>\n      <td>0.0</td>\n    </tr>\n    <tr>\n      <th>3</th>\n      <td>2020-01-22</td>\n      <td>Fujian</td>\n      <td>Mainland China</td>\n      <td>1.0</td>\n      <td>0.0</td>\n      <td>0.0</td>\n    </tr>\n    <tr>\n      <th>4</th>\n      <td>2020-01-22</td>\n      <td>Gansu</td>\n      <td>Mainland China</td>\n      <td>0.0</td>\n      <td>0.0</td>\n      <td>0.0</td>\n    </tr>\n  </tbody>\n</table>\n</div>"
     },
     "metadata": {}
    },
    {
     "output_type": "stream",
     "name": "stdout",
     "text": [
      "[i] There are 223 countries in the datatset\n[i] Dates Covered:\n\tFrom 01-22-2020 to 09-23-2020\n"
     ]
    }
   ],
   "source": [
    "corona = fn.CoronaData(verbose=True,run_workflow=True)\n",
    "df_world=corona.df"
   ]
  },
  {
   "cell_type": "code",
   "execution_count": 21,
   "metadata": {},
   "outputs": [],
   "source": [
    "## Get WORLD dictionary with all countries\n",
    "grouping_col = 'Country/Region'\n",
    "countries = list(df_world.groupby(grouping_col).groups.keys())\n",
    "\n",
    "WORLD = {}\n",
    "for country in countries:\n",
    "#     print(country)\n",
    "    WORLD[country] = fn.get_group_ts(df_world,country, grouping_col)"
   ]
  },
  {
   "cell_type": "code",
   "execution_count": 24,
   "metadata": {},
   "outputs": [
    {
     "output_type": "execute_result",
     "data": {
      "text/plain": [
       "            Russia - Confirmed  Russia - Deaths  Russia - Recovered\n",
       "Date                                                               \n",
       "2020-01-31                 2.0              0.0                 0.0\n",
       "2020-02-01                 2.0              0.0                 0.0\n",
       "2020-02-02                 2.0              0.0                 0.0\n",
       "2020-02-03                 2.0              0.0                 0.0\n",
       "2020-02-04                 2.0              0.0                 0.0\n",
       "...                        ...              ...                 ...\n",
       "2020-09-19           1092915.0          19270.0            903545.0\n",
       "2020-09-20           1098958.0          19349.0            906431.0\n",
       "2020-09-21           1105048.0          19420.0            909026.0\n",
       "2020-09-22           1111157.0          19575.0            914923.0\n",
       "2020-09-23           1117487.0          19720.0            920602.0\n",
       "\n",
       "[237 rows x 3 columns]"
      ],
      "text/html": "<div>\n<style scoped>\n    .dataframe tbody tr th:only-of-type {\n        vertical-align: middle;\n    }\n\n    .dataframe tbody tr th {\n        vertical-align: top;\n    }\n\n    .dataframe thead th {\n        text-align: right;\n    }\n</style>\n<table border=\"1\" class=\"dataframe\">\n  <thead>\n    <tr style=\"text-align: right;\">\n      <th></th>\n      <th>Russia - Confirmed</th>\n      <th>Russia - Deaths</th>\n      <th>Russia - Recovered</th>\n    </tr>\n    <tr>\n      <th>Date</th>\n      <th></th>\n      <th></th>\n      <th></th>\n    </tr>\n  </thead>\n  <tbody>\n    <tr>\n      <th>2020-01-31</th>\n      <td>2.0</td>\n      <td>0.0</td>\n      <td>0.0</td>\n    </tr>\n    <tr>\n      <th>2020-02-01</th>\n      <td>2.0</td>\n      <td>0.0</td>\n      <td>0.0</td>\n    </tr>\n    <tr>\n      <th>2020-02-02</th>\n      <td>2.0</td>\n      <td>0.0</td>\n      <td>0.0</td>\n    </tr>\n    <tr>\n      <th>2020-02-03</th>\n      <td>2.0</td>\n      <td>0.0</td>\n      <td>0.0</td>\n    </tr>\n    <tr>\n      <th>2020-02-04</th>\n      <td>2.0</td>\n      <td>0.0</td>\n      <td>0.0</td>\n    </tr>\n    <tr>\n      <th>...</th>\n      <td>...</td>\n      <td>...</td>\n      <td>...</td>\n    </tr>\n    <tr>\n      <th>2020-09-19</th>\n      <td>1092915.0</td>\n      <td>19270.0</td>\n      <td>903545.0</td>\n    </tr>\n    <tr>\n      <th>2020-09-20</th>\n      <td>1098958.0</td>\n      <td>19349.0</td>\n      <td>906431.0</td>\n    </tr>\n    <tr>\n      <th>2020-09-21</th>\n      <td>1105048.0</td>\n      <td>19420.0</td>\n      <td>909026.0</td>\n    </tr>\n    <tr>\n      <th>2020-09-22</th>\n      <td>1111157.0</td>\n      <td>19575.0</td>\n      <td>914923.0</td>\n    </tr>\n    <tr>\n      <th>2020-09-23</th>\n      <td>1117487.0</td>\n      <td>19720.0</td>\n      <td>920602.0</td>\n    </tr>\n  </tbody>\n</table>\n<p>237 rows × 3 columns</p>\n</div>"
     },
     "metadata": {},
     "execution_count": 24
    }
   ],
   "source": [
    "WORLD['Russia']"
   ]
  },
  {
   "cell_type": "code",
   "execution_count": 27,
   "metadata": {},
   "outputs": [
    {
     "output_type": "execute_result",
     "data": {
      "text/plain": [
       "  Country (or dependency)  Population (2020) Yearly Change  Net Change  \\\n",
       "8                  Russia          145945524        0.04 %       62206   \n",
       "\n",
       "   Density (P/Km²)  Land Area (Km²)  Migrants (net) Fert. Rate Med. Age  \\\n",
       "8                9         16376870        182456.0        1.8       40   \n",
       "\n",
       "  Urban Pop % World Share  \n",
       "8        74 %      1.87 %  "
      ],
      "text/html": "<div>\n<style scoped>\n    .dataframe tbody tr th:only-of-type {\n        vertical-align: middle;\n    }\n\n    .dataframe tbody tr th {\n        vertical-align: top;\n    }\n\n    .dataframe thead th {\n        text-align: right;\n    }\n</style>\n<table border=\"1\" class=\"dataframe\">\n  <thead>\n    <tr style=\"text-align: right;\">\n      <th></th>\n      <th>Country (or dependency)</th>\n      <th>Population (2020)</th>\n      <th>Yearly Change</th>\n      <th>Net Change</th>\n      <th>Density (P/Km²)</th>\n      <th>Land Area (Km²)</th>\n      <th>Migrants (net)</th>\n      <th>Fert. Rate</th>\n      <th>Med. Age</th>\n      <th>Urban Pop %</th>\n      <th>World Share</th>\n    </tr>\n  </thead>\n  <tbody>\n    <tr>\n      <th>8</th>\n      <td>Russia</td>\n      <td>145945524</td>\n      <td>0.04 %</td>\n      <td>62206</td>\n      <td>9</td>\n      <td>16376870</td>\n      <td>182456.0</td>\n      <td>1.8</td>\n      <td>40</td>\n      <td>74 %</td>\n      <td>1.87 %</td>\n    </tr>\n  </tbody>\n</table>\n</div>"
     },
     "metadata": {},
     "execution_count": 27
    }
   ],
   "source": [
    "pop[pop['Country (or dependency)']=='Russia']"
   ]
  },
  {
   "cell_type": "code",
   "execution_count": 30,
   "metadata": {},
   "outputs": [
    {
     "output_type": "execute_result",
     "data": {
      "text/plain": [
       "              country  population\n",
       "0               China  1440297825\n",
       "1               India  1382345085\n",
       "2       United States   331341050\n",
       "3           Indonesia   274021604\n",
       "4            Pakistan   221612785\n",
       "..                ...         ...\n",
       "230        Montserrat        4993\n",
       "231  Falkland Islands        3497\n",
       "232              Niue        1628\n",
       "233           Tokelau        1360\n",
       "234          Holy See         801\n",
       "\n",
       "[235 rows x 2 columns]"
      ],
      "text/html": "<div>\n<style scoped>\n    .dataframe tbody tr th:only-of-type {\n        vertical-align: middle;\n    }\n\n    .dataframe tbody tr th {\n        vertical-align: top;\n    }\n\n    .dataframe thead th {\n        text-align: right;\n    }\n</style>\n<table border=\"1\" class=\"dataframe\">\n  <thead>\n    <tr style=\"text-align: right;\">\n      <th></th>\n      <th>country</th>\n      <th>population</th>\n    </tr>\n  </thead>\n  <tbody>\n    <tr>\n      <th>0</th>\n      <td>China</td>\n      <td>1440297825</td>\n    </tr>\n    <tr>\n      <th>1</th>\n      <td>India</td>\n      <td>1382345085</td>\n    </tr>\n    <tr>\n      <th>2</th>\n      <td>United States</td>\n      <td>331341050</td>\n    </tr>\n    <tr>\n      <th>3</th>\n      <td>Indonesia</td>\n      <td>274021604</td>\n    </tr>\n    <tr>\n      <th>4</th>\n      <td>Pakistan</td>\n      <td>221612785</td>\n    </tr>\n    <tr>\n      <th>...</th>\n      <td>...</td>\n      <td>...</td>\n    </tr>\n    <tr>\n      <th>230</th>\n      <td>Montserrat</td>\n      <td>4993</td>\n    </tr>\n    <tr>\n      <th>231</th>\n      <td>Falkland Islands</td>\n      <td>3497</td>\n    </tr>\n    <tr>\n      <th>232</th>\n      <td>Niue</td>\n      <td>1628</td>\n    </tr>\n    <tr>\n      <th>233</th>\n      <td>Tokelau</td>\n      <td>1360</td>\n    </tr>\n    <tr>\n      <th>234</th>\n      <td>Holy See</td>\n      <td>801</td>\n    </tr>\n  </tbody>\n</table>\n<p>235 rows × 2 columns</p>\n</div>"
     },
     "metadata": {},
     "execution_count": 30
    }
   ],
   "source": [
    "pop = pop[['Country (or dependency)','Population (2020)']]\n",
    "pop.columns= ['country','population']\n",
    "pop"
   ]
  },
  {
   "cell_type": "code",
   "execution_count": 36,
   "metadata": {},
   "outputs": [
    {
     "output_type": "execute_result",
     "data": {
      "text/plain": [
       "(235, 223)"
      ]
     },
     "metadata": {},
     "execution_count": 36
    }
   ],
   "source": [
    "countries_world = list(WORLD.keys())\n",
    "countries_pop = pop['country'].unique().tolist()\n",
    "len(countries_pop),len(countries_world)"
   ]
  },
  {
   "cell_type": "code",
   "execution_count": 42,
   "metadata": {},
   "outputs": [
    {
     "output_type": "execute_result",
     "data": {
      "text/plain": [
       "[' Azerbaijan',\n",
       " \"('St. Martin',)\",\n",
       " 'Bahamas, The',\n",
       " 'Burma',\n",
       " 'Cape Verde',\n",
       " 'Congo (Brazzaville)',\n",
       " 'Congo (Kinshasa)',\n",
       " 'Curacao',\n",
       " 'Czech Republic',\n",
       " 'Diamond Princess',\n",
       " 'East Timor',\n",
       " 'Faroe Islands',\n",
       " 'Gambia, The',\n",
       " 'Guernsey',\n",
       " 'Ivory Coast',\n",
       " 'Jersey',\n",
       " 'Kosovo',\n",
       " 'MS Zaandam',\n",
       " 'Macau',\n",
       " 'Mainland China',\n",
       " 'North Ireland',\n",
       " 'Others',\n",
       " 'Palestine',\n",
       " 'Republic of Ireland',\n",
       " 'Republic of the Congo',\n",
       " 'Reunion',\n",
       " 'Saint Kitts and Nevis',\n",
       " 'Saint Vincent and the Grenadines',\n",
       " 'Sao Tome and Principe',\n",
       " 'St. Martin',\n",
       " 'The Bahamas',\n",
       " 'The Gambia',\n",
       " 'UK',\n",
       " 'US',\n",
       " 'Vatican City',\n",
       " 'West Bank and Gaza',\n",
       " 'occupied Palestinian territory']"
      ]
     },
     "metadata": {},
     "execution_count": 42
    }
   ],
   "source": [
    "## Countries in Covid Data that are NOT in population data\n",
    "unmatched_countries = list(filter(lambda x: x not in countries_pop,countries_world))\n",
    "unmatched_countries"
   ]
  },
  {
   "cell_type": "code",
   "execution_count": 41,
   "metadata": {},
   "outputs": [
    {
     "output_type": "execute_result",
     "data": {
      "text/plain": [
       "['China',\n",
       " 'United States',\n",
       " 'DR Congo',\n",
       " 'United Kingdom',\n",
       " 'Myanmar',\n",
       " \"Côte d'Ivoire\",\n",
       " 'North Korea',\n",
       " 'Czech Republic (Czechia)',\n",
       " 'Turkmenistan',\n",
       " 'Congo',\n",
       " 'State of Palestine',\n",
       " 'Réunion',\n",
       " 'Solomon Islands',\n",
       " 'Macao',\n",
       " 'Vanuatu',\n",
       " 'New Caledonia',\n",
       " 'French Polynesia',\n",
       " 'Sao Tome & Principe',\n",
       " 'Samoa',\n",
       " 'Curaçao',\n",
       " 'Kiribati',\n",
       " 'Micronesia',\n",
       " 'St. Vincent & Grenadines',\n",
       " 'Tonga',\n",
       " 'U.S. Virgin Islands',\n",
       " 'Isle of Man',\n",
       " 'Bermuda',\n",
       " 'Marshall Islands',\n",
       " 'Northern Mariana Islands',\n",
       " 'American Samoa',\n",
       " 'Saint Kitts & Nevis',\n",
       " 'Faeroe Islands',\n",
       " 'Sint Maarten',\n",
       " 'Turks and Caicos',\n",
       " 'Saint Martin',\n",
       " 'British Virgin Islands',\n",
       " 'Caribbean Netherlands',\n",
       " 'Palau',\n",
       " 'Cook Islands',\n",
       " 'Anguilla',\n",
       " 'Tuvalu',\n",
       " 'Wallis & Futuna',\n",
       " 'Nauru',\n",
       " 'Saint Helena',\n",
       " 'Saint Pierre & Miquelon',\n",
       " 'Montserrat',\n",
       " 'Falkland Islands',\n",
       " 'Niue',\n",
       " 'Tokelau']"
      ]
     },
     "metadata": {},
     "execution_count": 41
    }
   ],
   "source": [
    "unmatched_populaton_countries =list(filter(lambda x: x not in countries_world,countries_pop))\n",
    "unmatched_populaton_countries"
   ]
  },
  {
   "cell_type": "code",
   "execution_count": null,
   "metadata": {},
   "outputs": [],
   "source": [
    "rename_dict = {''}"
   ]
  }
 ]
}