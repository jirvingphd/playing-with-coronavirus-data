{
 "cells": [
  {
   "cell_type": "markdown",
   "metadata": {},
   "source": [
    "# Exploring Options for Replacing Covid Tracking Project Data_08-2021"
   ]
  },
  {
   "cell_type": "markdown",
   "metadata": {},
   "source": [
    "- 07/11/21"
   ]
  },
  {
   "cell_type": "markdown",
   "metadata": {},
   "source": [
    ">NOTE: ~~SEE~~ **SAVE** FINAL WORKFLOW IN \"`Replacing Covid Tracking Project - Simplified Workflow.ipynb` and the final script in `data_acquisition.py`"
   ]
  },
  {
   "cell_type": "markdown",
   "metadata": {},
   "source": [
    "## Goal"
   ]
  },
  {
   "cell_type": "markdown",
   "metadata": {},
   "source": [
    "- As of 03/07/21 the Covid Tracking Project has stopped collecting new data. \n",
    "    - https://covidtracking.com/data\n",
    "    - This was the primary backbone of my modeling and dashboard and needs to be replaced/ \n",
    "    - While I already have an alternative coronavirus source for time series from Kaggle, I want to have the ICU capacity and hospitalization records.\n",
    "    \n",
    "    \n",
    "- Federal Data: \n",
    "    - Covid Tracking Project provides info on alternative data sources. https://covidtracking.com/analysis-updates/federal-covid-data-101-how-to-find-data\n",
    "        - related posts: https://covidtracking.com/analysis-updates/category/federal-covid-data-101\n",
    "    - They also provide a simple approach for the general public: https://covidtracking.com/analysis-updates/simple-covid-data"
   ]
  },
  {
   "cell_type": "code",
   "execution_count": null,
   "metadata": {},
   "outputs": [],
   "source": []
  },
  {
   "cell_type": "markdown",
   "metadata": {},
   "source": [
    "- COVID-19 hospitalization data training:\n",
    "    - Video: https://www.youtube.com/watch?v=TGAHQt1Rkf8\n",
    "    - Presentaation (my copy): https://docs.google.com/presentation/d/1p5XNS7b9_R40zaBgC5EiWvP1Vs7UJiAXPQ3WP-U9PjI/edit?usp=sharing"
   ]
  },
  {
   "cell_type": "markdown",
   "metadata": {},
   "source": [
    "# The Code"
   ]
  },
  {
   "cell_type": "markdown",
   "metadata": {},
   "source": [
    "## Existing Code/Data"
   ]
  },
  {
   "cell_type": "code",
   "execution_count": 505,
   "metadata": {
    "ExecuteTime": {
     "end_time": "2021-08-14T18:53:47.069935Z",
     "start_time": "2021-08-14T18:53:47.023275Z"
    }
   },
   "outputs": [],
   "source": [
    "# !pip install -U fsds\n",
    "from fsds.imports import *\n",
    "\n",
    "import os,zipfile,json,joblib\n",
    "pd.set_option('display.max_columns',0)"
   ]
  },
  {
   "cell_type": "code",
   "execution_count": 506,
   "metadata": {
    "ExecuteTime": {
     "end_time": "2021-08-14T18:53:47.143488Z",
     "start_time": "2021-08-14T18:53:47.072414Z"
    }
   },
   "outputs": [],
   "source": [
    "plt.rcParams['figure.figsize'] = [12,6]"
   ]
  },
  {
   "cell_type": "code",
   "execution_count": 507,
   "metadata": {
    "ExecuteTime": {
     "end_time": "2021-08-14T18:53:47.194220Z",
     "start_time": "2021-08-14T18:53:47.146210Z"
    }
   },
   "outputs": [
    {
     "name": "stdout",
     "output_type": "stream",
     "text": [
      "The autoreload extension is already loaded. To reload it, use:\n",
      "  %reload_ext autoreload\n"
     ]
    }
   ],
   "source": [
    "## Appending folder with functions\n",
    "%load_ext autoreload \n",
    "%autoreload 2\n",
    "# import sys\n",
    "# sys.path.append('.')\n",
    "\n",
    "import functions as fn\n",
    "# help(fn)"
   ]
  },
  {
   "cell_type": "code",
   "execution_count": 508,
   "metadata": {
    "ExecuteTime": {
     "end_time": "2021-08-14T18:53:47.242861Z",
     "start_time": "2021-08-14T18:53:47.196727Z"
    }
   },
   "outputs": [],
   "source": [
    "# ## original class for using The Covid Tracking Project API\n",
    "# covid = fn.CovidTrackingProject(verbose=True)\n",
    "# covid"
   ]
  },
  {
   "cell_type": "code",
   "execution_count": 509,
   "metadata": {
    "ExecuteTime": {
     "end_time": "2021-08-14T18:53:47.291105Z",
     "start_time": "2021-08-14T18:53:47.244972Z"
    }
   },
   "outputs": [],
   "source": [
    "# covid.df"
   ]
  },
  {
   "cell_type": "markdown",
   "metadata": {},
   "source": [
    "## Columns to Find"
   ]
  },
  {
   "cell_type": "markdown",
   "metadata": {},
   "source": [
    "#### Columns to find from the covid tracking project dataset: \n",
    "\n",
    "- \"hospitalizedCurrently\"/\"hospitalizedCumulative\"\n",
    "- \"inIcuCurrently\",\"inIcuCumulative\"\n",
    "- \"onVentilatorCurrently\",\"onVentilatorCumulative\""
   ]
  },
  {
   "cell_type": "markdown",
   "metadata": {},
   "source": [
    "# New Data Sources"
   ]
  },
  {
   "cell_type": "markdown",
   "metadata": {},
   "source": [
    "## Kaggle"
   ]
  },
  {
   "cell_type": "markdown",
   "metadata": {},
   "source": [
    "### Covid-19 Data From Johns Hopkins University"
   ]
  },
  {
   "cell_type": "markdown",
   "metadata": {},
   "source": [
    "- https://www.kaggle.com/antgoldbloom/covid19-data-from-john-hopkins-university\n",
    "- Comes with CONVENIENT_ files and RAW_ files."
   ]
  },
  {
   "cell_type": "code",
   "execution_count": 510,
   "metadata": {
    "ExecuteTime": {
     "end_time": "2021-08-14T18:53:47.339183Z",
     "start_time": "2021-08-14T18:53:47.292954Z"
    }
   },
   "outputs": [],
   "source": [
    "## Specifying data storage folders\n",
    "fpath_raw = r\"data_raw\"\n",
    "fpath_clean = r\"data/\"\n",
    "[os.makedirs(fpath,exist_ok=True) for fpath in [fpath_clean,fpath_raw]];\n",
    "# sorted(os.listdir())"
   ]
  },
  {
   "cell_type": "code",
   "execution_count": 511,
   "metadata": {
    "ExecuteTime": {
     "end_time": "2021-08-14T18:53:48.531184Z",
     "start_time": "2021-08-14T18:53:47.341206Z"
    }
   },
   "outputs": [
    {
     "name": "stdout",
     "output_type": "stream",
     "text": [
      "covid19-data-from-john-hopkins-university.zip: Skipping, found more recently modified local copy (use --force to force download)\r\n"
     ]
    },
    {
     "data": {
      "text/plain": [
       "['CONVENIENT_global_confirmed_cases.csv',\n",
       " 'CONVENIENT_global_deaths.csv',\n",
       " 'CONVENIENT_global_metadata.csv',\n",
       " 'CONVENIENT_us_confirmed_cases.csv',\n",
       " 'CONVENIENT_us_deaths.csv',\n",
       " 'CONVENIENT_us_metadata.csv',\n",
       " 'RAW_global_confirmed_cases.csv',\n",
       " 'RAW_global_deaths.csv',\n",
       " 'RAW_us_confirmed_cases.csv',\n",
       " 'RAW_us_deaths.csv']"
      ]
     },
     "execution_count": 511,
     "metadata": {},
     "output_type": "execute_result"
    }
   ],
   "source": [
    "## Download kaggle jhu data and make zipfile object\n",
    "!kaggle datasets download -p \"{fpath_raw}\" -d antgoldbloom/covid19-data-from-john-hopkins-university\n",
    "\n",
    "jhu_data_zip = zipfile.ZipFile(os.path.join(fpath_raw,'covid19-data-from-john-hopkins-university.zip'))\n",
    "jhu_data_zip.namelist()"
   ]
  },
  {
   "cell_type": "code",
   "execution_count": null,
   "metadata": {
    "ExecuteTime": {
     "end_time": "2021-08-12T14:37:18.176102Z",
     "start_time": "2021-08-12T14:37:18.117418Z"
    }
   },
   "outputs": [],
   "source": []
  },
  {
   "cell_type": "code",
   "execution_count": 512,
   "metadata": {
    "ExecuteTime": {
     "end_time": "2021-08-14T18:53:48.595324Z",
     "start_time": "2021-08-14T18:53:48.536955Z"
    }
   },
   "outputs": [],
   "source": [
    "# ## Files to extract\n",
    "# import os \n",
    "\n",
    "# files_to_extract = ['RAW_us_confirmed_cases.csv','CONVENIENT_us_confirmed_cases.csv',\n",
    "#                     'RAW_us_deaths.csv','CONVENIENT_us_deaths.csv','CONVENIENT_us_metadata.csv']\n",
    "# for i,file in enumerate(files_to_extract):\n",
    "#     print(f\"{i}. {file}\")\n",
    "#     jhu_data_zip.extract(file,path=fpath_raw)"
   ]
  },
  {
   "cell_type": "code",
   "execution_count": 513,
   "metadata": {
    "ExecuteTime": {
     "end_time": "2021-08-14T18:53:48.650401Z",
     "start_time": "2021-08-14T18:53:48.599466Z"
    }
   },
   "outputs": [],
   "source": [
    "# import os\n",
    "\n",
    "# ## raw vs conv cases\n",
    "# raw_us_cases = pd.read_csv(files_to_extract[0],low_memory=False)\n",
    "# conv_us_cases = pd.read_csv(files_to_extract[1],low_memory=False)\n",
    "# display(raw_us_cases.head().style.set_caption('raw_us_cases'),\n",
    "#        conv_us_cases.head().style.set_caption('conv_us_cases'))\n",
    "\n",
    "# print('---'*30)\n",
    "\n",
    "# ## raw vs conv deaths \n",
    "# raw_us_deaths = pd.read_csv(files_to_extract[2],low_memory=False)\n",
    "# conv_us_deaths = pd.read_csv(files_to_extract[3],low_memory=False)\n",
    "# display(raw_us_deaths.head().style.set_caption('raw_us_deaths'),\n",
    "#        conv_us_deaths.head().style.set_caption('conv_us_deaths'))"
   ]
  },
  {
   "cell_type": "markdown",
   "metadata": {},
   "source": [
    "- **The RAW_ files** are closer to what I have been working with already so I will stick with those. "
   ]
  },
  {
   "cell_type": "code",
   "execution_count": 514,
   "metadata": {
    "ExecuteTime": {
     "end_time": "2021-08-14T18:53:48.706619Z",
     "start_time": "2021-08-14T18:53:48.653063Z"
    }
   },
   "outputs": [],
   "source": [
    "# # metadata\n",
    "# conv_metadata = pd.read_csv(files_to_extract[4],low_memory=False)\n",
    "# conv_metadata"
   ]
  },
  {
   "cell_type": "markdown",
   "metadata": {},
   "source": [
    "### Notes re: kaggle source above"
   ]
  },
  {
   "cell_type": "markdown",
   "metadata": {},
   "source": [
    "#### Adding State Abbreviations"
   ]
  },
  {
   "cell_type": "markdown",
   "metadata": {},
   "source": [
    "- Adding 2 letter abbrevtions (more appropriate for column name prefix)\n"
   ]
  },
  {
   "cell_type": "code",
   "execution_count": 515,
   "metadata": {
    "ExecuteTime": {
     "end_time": "2021-08-14T18:53:48.782421Z",
     "start_time": "2021-08-14T18:53:48.709174Z"
    }
   },
   "outputs": [
    {
     "data": {
      "text/plain": [
       "dict_keys(['Alabama', 'Alaska', 'Arizona', 'Arkansas', 'California', 'Colorado', 'Connecticut', 'Delaware', 'District of Columbia', 'Florida', 'Georgia', 'Hawaii', 'Idaho', 'Illinois', 'Indiana', 'Iowa', 'Kansas', 'Kentucky', 'Louisiana', 'Maine', 'Montana', 'Nebraska', 'Nevada', 'New Hampshire', 'New Jersey', 'New Mexico', 'New York', 'North Carolina', 'North Dakota', 'Ohio', 'Oklahoma', 'Oregon', 'Maryland', 'Massachusetts', 'Michigan', 'Minnesota', 'Mississippi', 'Missouri', 'Pennsylvania', 'Rhode Island', 'South Carolina', 'South Dakota', 'Tennessee', 'Texas', 'Utah', 'Vermont', 'Virginia', 'Washington', 'West Virginia', 'Wisconsin', 'Wyoming', 'Puerto Rico'])"
      ]
     },
     "execution_count": 515,
     "metadata": {},
     "output_type": "execute_result"
    }
   ],
   "source": [
    "state_abbrevs = pd.read_csv('Reference Data/united_states_abbreviations.csv')\n",
    "# state_abbrevs.head()\n",
    "\n",
    "## Making dicts of Name:Abbrev and Abbrev:Name\n",
    "state_to_abbrevs_map = dict(zip(state_abbrevs['State'],state_abbrevs['Abbreviation']))\n",
    "abbrev_to_state_map = dict(zip(state_abbrevs['Abbreviation'],state_abbrevs['State']))\n",
    "\n",
    "state_to_abbrevs_map.keys()"
   ]
  },
  {
   "cell_type": "markdown",
   "metadata": {},
   "source": [
    "### prep `df_metadata`"
   ]
  },
  {
   "cell_type": "code",
   "execution_count": 516,
   "metadata": {
    "ExecuteTime": {
     "end_time": "2021-08-14T18:53:48.888094Z",
     "start_time": "2021-08-14T18:53:48.784993Z"
    }
   },
   "outputs": [
    {
     "name": "stdout",
     "output_type": "stream",
     "text": [
      "Province_State    0\n",
      "State_Code        6\n",
      "Admin2            6\n",
      "Population        0\n",
      "Lat               0\n",
      "Long              0\n",
      "dtype: int64\n"
     ]
    },
    {
     "data": {
      "text/html": [
       "<div>\n",
       "<style scoped>\n",
       "    .dataframe tbody tr th:only-of-type {\n",
       "        vertical-align: middle;\n",
       "    }\n",
       "\n",
       "    .dataframe tbody tr th {\n",
       "        vertical-align: top;\n",
       "    }\n",
       "\n",
       "    .dataframe thead th {\n",
       "        text-align: right;\n",
       "    }\n",
       "</style>\n",
       "<table border=\"1\" class=\"dataframe\">\n",
       "  <thead>\n",
       "    <tr style=\"text-align: right;\">\n",
       "      <th></th>\n",
       "      <th>Province_State</th>\n",
       "      <th>State_Code</th>\n",
       "      <th>Admin2</th>\n",
       "      <th>Population</th>\n",
       "      <th>Lat</th>\n",
       "      <th>Long</th>\n",
       "    </tr>\n",
       "  </thead>\n",
       "  <tbody>\n",
       "    <tr>\n",
       "      <th>0</th>\n",
       "      <td>Alabama</td>\n",
       "      <td>AL</td>\n",
       "      <td>Autauga</td>\n",
       "      <td>55869</td>\n",
       "      <td>32.539527</td>\n",
       "      <td>-86.644082</td>\n",
       "    </tr>\n",
       "    <tr>\n",
       "      <th>1</th>\n",
       "      <td>Alabama</td>\n",
       "      <td>AL</td>\n",
       "      <td>Baldwin</td>\n",
       "      <td>223234</td>\n",
       "      <td>30.727750</td>\n",
       "      <td>-87.722071</td>\n",
       "    </tr>\n",
       "    <tr>\n",
       "      <th>2</th>\n",
       "      <td>Alabama</td>\n",
       "      <td>AL</td>\n",
       "      <td>Barbour</td>\n",
       "      <td>24686</td>\n",
       "      <td>31.868263</td>\n",
       "      <td>-85.387129</td>\n",
       "    </tr>\n",
       "    <tr>\n",
       "      <th>3</th>\n",
       "      <td>Alabama</td>\n",
       "      <td>AL</td>\n",
       "      <td>Bibb</td>\n",
       "      <td>22394</td>\n",
       "      <td>32.996421</td>\n",
       "      <td>-87.125115</td>\n",
       "    </tr>\n",
       "    <tr>\n",
       "      <th>4</th>\n",
       "      <td>Alabama</td>\n",
       "      <td>AL</td>\n",
       "      <td>Blount</td>\n",
       "      <td>57826</td>\n",
       "      <td>33.982109</td>\n",
       "      <td>-86.567906</td>\n",
       "    </tr>\n",
       "    <tr>\n",
       "      <th>...</th>\n",
       "      <td>...</td>\n",
       "      <td>...</td>\n",
       "      <td>...</td>\n",
       "      <td>...</td>\n",
       "      <td>...</td>\n",
       "      <td>...</td>\n",
       "    </tr>\n",
       "    <tr>\n",
       "      <th>3337</th>\n",
       "      <td>Wyoming</td>\n",
       "      <td>WY</td>\n",
       "      <td>Teton</td>\n",
       "      <td>23464</td>\n",
       "      <td>43.935225</td>\n",
       "      <td>-110.589080</td>\n",
       "    </tr>\n",
       "    <tr>\n",
       "      <th>3338</th>\n",
       "      <td>Wyoming</td>\n",
       "      <td>WY</td>\n",
       "      <td>Uinta</td>\n",
       "      <td>20226</td>\n",
       "      <td>41.287818</td>\n",
       "      <td>-110.547578</td>\n",
       "    </tr>\n",
       "    <tr>\n",
       "      <th>3339</th>\n",
       "      <td>Wyoming</td>\n",
       "      <td>WY</td>\n",
       "      <td>Unassigned</td>\n",
       "      <td>0</td>\n",
       "      <td>0.000000</td>\n",
       "      <td>0.000000</td>\n",
       "    </tr>\n",
       "    <tr>\n",
       "      <th>3340</th>\n",
       "      <td>Wyoming</td>\n",
       "      <td>WY</td>\n",
       "      <td>Washakie</td>\n",
       "      <td>7805</td>\n",
       "      <td>43.904516</td>\n",
       "      <td>-107.680187</td>\n",
       "    </tr>\n",
       "    <tr>\n",
       "      <th>3341</th>\n",
       "      <td>Wyoming</td>\n",
       "      <td>WY</td>\n",
       "      <td>Weston</td>\n",
       "      <td>6927</td>\n",
       "      <td>43.839612</td>\n",
       "      <td>-104.567488</td>\n",
       "    </tr>\n",
       "  </tbody>\n",
       "</table>\n",
       "<p>3336 rows × 6 columns</p>\n",
       "</div>"
      ],
      "text/plain": [
       "     Province_State State_Code      Admin2  Population        Lat        Long\n",
       "0           Alabama         AL     Autauga       55869  32.539527  -86.644082\n",
       "1           Alabama         AL     Baldwin      223234  30.727750  -87.722071\n",
       "2           Alabama         AL     Barbour       24686  31.868263  -85.387129\n",
       "3           Alabama         AL        Bibb       22394  32.996421  -87.125115\n",
       "4           Alabama         AL      Blount       57826  33.982109  -86.567906\n",
       "...             ...        ...         ...         ...        ...         ...\n",
       "3337        Wyoming         WY       Teton       23464  43.935225 -110.589080\n",
       "3338        Wyoming         WY       Uinta       20226  41.287818 -110.547578\n",
       "3339        Wyoming         WY  Unassigned           0   0.000000    0.000000\n",
       "3340        Wyoming         WY    Washakie        7805  43.904516 -107.680187\n",
       "3341        Wyoming         WY      Weston        6927  43.839612 -104.567488\n",
       "\n",
       "[3336 rows x 6 columns]"
      ]
     },
     "execution_count": 516,
     "metadata": {},
     "output_type": "execute_result"
    }
   ],
   "source": [
    "# metadata\n",
    "file = 'CONVENIENT_us_metadata.csv'\n",
    "jhu_data_zip.extract(file,path=fpath_raw)\n",
    "df_metadata = pd.read_csv(os.path.join(fpath_raw,file))\n",
    "\n",
    "## Adding State Abbrevas to kaggle metadata\n",
    "df_metadata.insert(1,'State_Code',df_metadata['Province_State'].map(state_to_abbrevs_map))\n",
    "print(df_metadata.isna().sum())\n",
    "\n",
    "## Dropping us territories\n",
    "df_metadata.dropna(subset=['State_Code'], inplace=True)\n",
    "\n",
    "## Saving county info\n",
    "df_metadata.to_csv(os.path.join(fpath_clean,\"us_metadata_counties.csv\"),index=False)\n",
    "df_metadata"
   ]
  },
  {
   "cell_type": "code",
   "execution_count": 517,
   "metadata": {
    "ExecuteTime": {
     "end_time": "2021-08-14T18:53:48.961192Z",
     "start_time": "2021-08-14T18:53:48.889961Z"
    }
   },
   "outputs": [
    {
     "data": {
      "text/html": [
       "<div>\n",
       "<style scoped>\n",
       "    .dataframe tbody tr th:only-of-type {\n",
       "        vertical-align: middle;\n",
       "    }\n",
       "\n",
       "    .dataframe tbody tr th {\n",
       "        vertical-align: top;\n",
       "    }\n",
       "\n",
       "    .dataframe thead th {\n",
       "        text-align: right;\n",
       "    }\n",
       "</style>\n",
       "<table border=\"1\" class=\"dataframe\">\n",
       "  <thead>\n",
       "    <tr style=\"text-align: right;\">\n",
       "      <th></th>\n",
       "      <th>Province_State</th>\n",
       "      <th>State_Code</th>\n",
       "      <th>Population</th>\n",
       "      <th>Lat</th>\n",
       "      <th>Long</th>\n",
       "    </tr>\n",
       "  </thead>\n",
       "  <tbody>\n",
       "    <tr>\n",
       "      <th>0</th>\n",
       "      <td>Alabama</td>\n",
       "      <td>AL</td>\n",
       "      <td>4903185</td>\n",
       "      <td>31.931113</td>\n",
       "      <td>-84.196785</td>\n",
       "    </tr>\n",
       "    <tr>\n",
       "      <th>1</th>\n",
       "      <td>Alaska</td>\n",
       "      <td>AK</td>\n",
       "      <td>740995</td>\n",
       "      <td>56.628273</td>\n",
       "      <td>-139.571540</td>\n",
       "    </tr>\n",
       "    <tr>\n",
       "      <th>2</th>\n",
       "      <td>Arizona</td>\n",
       "      <td>AZ</td>\n",
       "      <td>7278717</td>\n",
       "      <td>29.714033</td>\n",
       "      <td>-98.349911</td>\n",
       "    </tr>\n",
       "    <tr>\n",
       "      <th>3</th>\n",
       "      <td>Arkansas</td>\n",
       "      <td>AR</td>\n",
       "      <td>3017804</td>\n",
       "      <td>34.005087</td>\n",
       "      <td>-90.033096</td>\n",
       "    </tr>\n",
       "    <tr>\n",
       "      <th>4</th>\n",
       "      <td>California</td>\n",
       "      <td>CA</td>\n",
       "      <td>39512223</td>\n",
       "      <td>36.582496</td>\n",
       "      <td>-116.704308</td>\n",
       "    </tr>\n",
       "    <tr>\n",
       "      <th>5</th>\n",
       "      <td>Colorado</td>\n",
       "      <td>CO</td>\n",
       "      <td>5758736</td>\n",
       "      <td>37.755612</td>\n",
       "      <td>-102.289687</td>\n",
       "    </tr>\n",
       "    <tr>\n",
       "      <th>6</th>\n",
       "      <td>Connecticut</td>\n",
       "      <td>CT</td>\n",
       "      <td>3565287</td>\n",
       "      <td>33.290944</td>\n",
       "      <td>-58.125464</td>\n",
       "    </tr>\n",
       "    <tr>\n",
       "      <th>7</th>\n",
       "      <td>Delaware</td>\n",
       "      <td>DE</td>\n",
       "      <td>973764</td>\n",
       "      <td>23.465566</td>\n",
       "      <td>-45.319942</td>\n",
       "    </tr>\n",
       "    <tr>\n",
       "      <th>8</th>\n",
       "      <td>District of Columbia</td>\n",
       "      <td>DC</td>\n",
       "      <td>705749</td>\n",
       "      <td>12.968059</td>\n",
       "      <td>-25.672187</td>\n",
       "    </tr>\n",
       "    <tr>\n",
       "      <th>9</th>\n",
       "      <td>Florida</td>\n",
       "      <td>FL</td>\n",
       "      <td>21477737</td>\n",
       "      <td>28.101892</td>\n",
       "      <td>-80.303621</td>\n",
       "    </tr>\n",
       "    <tr>\n",
       "      <th>10</th>\n",
       "      <td>Georgia</td>\n",
       "      <td>GA</td>\n",
       "      <td>10617423</td>\n",
       "      <td>32.400973</td>\n",
       "      <td>-82.539201</td>\n",
       "    </tr>\n",
       "    <tr>\n",
       "      <th>11</th>\n",
       "      <td>Hawaii</td>\n",
       "      <td>HI</td>\n",
       "      <td>1415872</td>\n",
       "      <td>15.020202</td>\n",
       "      <td>-112.373740</td>\n",
       "    </tr>\n",
       "    <tr>\n",
       "      <th>12</th>\n",
       "      <td>Idaho</td>\n",
       "      <td>ID</td>\n",
       "      <td>1787065</td>\n",
       "      <td>42.338906</td>\n",
       "      <td>-109.483598</td>\n",
       "    </tr>\n",
       "    <tr>\n",
       "      <th>13</th>\n",
       "      <td>Illinois</td>\n",
       "      <td>IL</td>\n",
       "      <td>12671821</td>\n",
       "      <td>39.077394</td>\n",
       "      <td>-87.463362</td>\n",
       "    </tr>\n",
       "    <tr>\n",
       "      <th>14</th>\n",
       "      <td>Indiana</td>\n",
       "      <td>IN</td>\n",
       "      <td>6732219</td>\n",
       "      <td>38.989750</td>\n",
       "      <td>-84.384131</td>\n",
       "    </tr>\n",
       "    <tr>\n",
       "      <th>15</th>\n",
       "      <td>Iowa</td>\n",
       "      <td>IA</td>\n",
       "      <td>3155070</td>\n",
       "      <td>41.197635</td>\n",
       "      <td>-91.614717</td>\n",
       "    </tr>\n",
       "    <tr>\n",
       "      <th>16</th>\n",
       "      <td>Kansas</td>\n",
       "      <td>KS</td>\n",
       "      <td>2913314</td>\n",
       "      <td>37.766026</td>\n",
       "      <td>-96.251195</td>\n",
       "    </tr>\n",
       "    <tr>\n",
       "      <th>17</th>\n",
       "      <td>Kentucky</td>\n",
       "      <td>KY</td>\n",
       "      <td>4467673</td>\n",
       "      <td>37.005387</td>\n",
       "      <td>-83.803171</td>\n",
       "    </tr>\n",
       "    <tr>\n",
       "      <th>18</th>\n",
       "      <td>Louisiana</td>\n",
       "      <td>LA</td>\n",
       "      <td>4648794</td>\n",
       "      <td>30.150233</td>\n",
       "      <td>-89.041636</td>\n",
       "    </tr>\n",
       "    <tr>\n",
       "      <th>19</th>\n",
       "      <td>Maine</td>\n",
       "      <td>ME</td>\n",
       "      <td>1344212</td>\n",
       "      <td>39.722390</td>\n",
       "      <td>-61.798905</td>\n",
       "    </tr>\n",
       "    <tr>\n",
       "      <th>20</th>\n",
       "      <td>Maryland</td>\n",
       "      <td>MD</td>\n",
       "      <td>6045680</td>\n",
       "      <td>36.013773</td>\n",
       "      <td>-70.777355</td>\n",
       "    </tr>\n",
       "    <tr>\n",
       "      <th>21</th>\n",
       "      <td>Massachusetts</td>\n",
       "      <td>MA</td>\n",
       "      <td>6892503</td>\n",
       "      <td>37.117303</td>\n",
       "      <td>-63.016296</td>\n",
       "    </tr>\n",
       "    <tr>\n",
       "      <th>22</th>\n",
       "      <td>Michigan</td>\n",
       "      <td>MI</td>\n",
       "      <td>9986857</td>\n",
       "      <td>42.018626</td>\n",
       "      <td>-81.265296</td>\n",
       "    </tr>\n",
       "    <tr>\n",
       "      <th>23</th>\n",
       "      <td>Minnesota</td>\n",
       "      <td>MN</td>\n",
       "      <td>5639632</td>\n",
       "      <td>44.528372</td>\n",
       "      <td>-92.308909</td>\n",
       "    </tr>\n",
       "    <tr>\n",
       "      <th>24</th>\n",
       "      <td>Mississippi</td>\n",
       "      <td>MS</td>\n",
       "      <td>2976149</td>\n",
       "      <td>32.011947</td>\n",
       "      <td>-87.511304</td>\n",
       "    </tr>\n",
       "    <tr>\n",
       "      <th>25</th>\n",
       "      <td>Missouri</td>\n",
       "      <td>MO</td>\n",
       "      <td>6626371</td>\n",
       "      <td>37.804955</td>\n",
       "      <td>-90.931699</td>\n",
       "    </tr>\n",
       "    <tr>\n",
       "      <th>26</th>\n",
       "      <td>Montana</td>\n",
       "      <td>MT</td>\n",
       "      <td>1068778</td>\n",
       "      <td>45.354874</td>\n",
       "      <td>-105.917623</td>\n",
       "    </tr>\n",
       "    <tr>\n",
       "      <th>27</th>\n",
       "      <td>Nebraska</td>\n",
       "      <td>NE</td>\n",
       "      <td>1934408</td>\n",
       "      <td>40.451862</td>\n",
       "      <td>-96.953980</td>\n",
       "    </tr>\n",
       "    <tr>\n",
       "      <th>28</th>\n",
       "      <td>Nevada</td>\n",
       "      <td>NV</td>\n",
       "      <td>3080156</td>\n",
       "      <td>35.123787</td>\n",
       "      <td>-105.188836</td>\n",
       "    </tr>\n",
       "    <tr>\n",
       "      <th>29</th>\n",
       "      <td>New Hampshire</td>\n",
       "      <td>NH</td>\n",
       "      <td>1359711</td>\n",
       "      <td>36.232477</td>\n",
       "      <td>-59.648047</td>\n",
       "    </tr>\n",
       "    <tr>\n",
       "      <th>30</th>\n",
       "      <td>New Jersey</td>\n",
       "      <td>NJ</td>\n",
       "      <td>8882190</td>\n",
       "      <td>36.783272</td>\n",
       "      <td>-68.133541</td>\n",
       "    </tr>\n",
       "    <tr>\n",
       "      <th>31</th>\n",
       "      <td>New Mexico</td>\n",
       "      <td>NM</td>\n",
       "      <td>2096829</td>\n",
       "      <td>32.575110</td>\n",
       "      <td>-99.836416</td>\n",
       "    </tr>\n",
       "    <tr>\n",
       "      <th>32</th>\n",
       "      <td>New York</td>\n",
       "      <td>NY</td>\n",
       "      <td>19453561</td>\n",
       "      <td>41.214647</td>\n",
       "      <td>-73.115615</td>\n",
       "    </tr>\n",
       "    <tr>\n",
       "      <th>33</th>\n",
       "      <td>North Carolina</td>\n",
       "      <td>NC</td>\n",
       "      <td>10488084</td>\n",
       "      <td>34.925696</td>\n",
       "      <td>-77.942254</td>\n",
       "    </tr>\n",
       "    <tr>\n",
       "      <th>34</th>\n",
       "      <td>North Dakota</td>\n",
       "      <td>ND</td>\n",
       "      <td>762062</td>\n",
       "      <td>45.670106</td>\n",
       "      <td>-96.603961</td>\n",
       "    </tr>\n",
       "    <tr>\n",
       "      <th>35</th>\n",
       "      <td>Ohio</td>\n",
       "      <td>OH</td>\n",
       "      <td>11689100</td>\n",
       "      <td>39.414877</td>\n",
       "      <td>-80.994621</td>\n",
       "    </tr>\n",
       "    <tr>\n",
       "      <th>36</th>\n",
       "      <td>Oklahoma</td>\n",
       "      <td>OK</td>\n",
       "      <td>3956971</td>\n",
       "      <td>34.603132</td>\n",
       "      <td>-94.789339</td>\n",
       "    </tr>\n",
       "    <tr>\n",
       "      <th>37</th>\n",
       "      <td>Oregon</td>\n",
       "      <td>OR</td>\n",
       "      <td>4217737</td>\n",
       "      <td>42.150695</td>\n",
       "      <td>-115.083398</td>\n",
       "    </tr>\n",
       "    <tr>\n",
       "      <th>38</th>\n",
       "      <td>Pennsylvania</td>\n",
       "      <td>PA</td>\n",
       "      <td>12801989</td>\n",
       "      <td>39.634946</td>\n",
       "      <td>-75.365598</td>\n",
       "    </tr>\n",
       "    <tr>\n",
       "      <th>39</th>\n",
       "      <td>Puerto Rico</td>\n",
       "      <td>PR</td>\n",
       "      <td>3754939</td>\n",
       "      <td>17.783793</td>\n",
       "      <td>-64.747252</td>\n",
       "    </tr>\n",
       "    <tr>\n",
       "      <th>40</th>\n",
       "      <td>Rhode Island</td>\n",
       "      <td>RI</td>\n",
       "      <td>1059361</td>\n",
       "      <td>29.753673</td>\n",
       "      <td>-51.045789</td>\n",
       "    </tr>\n",
       "    <tr>\n",
       "      <th>41</th>\n",
       "      <td>South Carolina</td>\n",
       "      <td>SC</td>\n",
       "      <td>5148714</td>\n",
       "      <td>32.542577</td>\n",
       "      <td>-77.609091</td>\n",
       "    </tr>\n",
       "    <tr>\n",
       "      <th>42</th>\n",
       "      <td>South Dakota</td>\n",
       "      <td>SD</td>\n",
       "      <td>884659</td>\n",
       "      <td>42.970557</td>\n",
       "      <td>-96.389735</td>\n",
       "    </tr>\n",
       "    <tr>\n",
       "      <th>43</th>\n",
       "      <td>Tennessee</td>\n",
       "      <td>TN</td>\n",
       "      <td>6829174</td>\n",
       "      <td>35.145203</td>\n",
       "      <td>-84.333285</td>\n",
       "    </tr>\n",
       "    <tr>\n",
       "      <th>44</th>\n",
       "      <td>Texas</td>\n",
       "      <td>TX</td>\n",
       "      <td>28995881</td>\n",
       "      <td>31.413295</td>\n",
       "      <td>-97.882342</td>\n",
       "    </tr>\n",
       "    <tr>\n",
       "      <th>45</th>\n",
       "      <td>Utah</td>\n",
       "      <td>UT</td>\n",
       "      <td>3205958</td>\n",
       "      <td>37.528405</td>\n",
       "      <td>-105.527566</td>\n",
       "    </tr>\n",
       "    <tr>\n",
       "      <th>46</th>\n",
       "      <td>Vermont</td>\n",
       "      <td>VT</td>\n",
       "      <td>623989</td>\n",
       "      <td>38.639559</td>\n",
       "      <td>-63.598833</td>\n",
       "    </tr>\n",
       "    <tr>\n",
       "      <th>47</th>\n",
       "      <td>Virginia</td>\n",
       "      <td>VA</td>\n",
       "      <td>8535519</td>\n",
       "      <td>37.009615</td>\n",
       "      <td>-77.350546</td>\n",
       "    </tr>\n",
       "    <tr>\n",
       "      <th>48</th>\n",
       "      <td>Washington</td>\n",
       "      <td>WA</td>\n",
       "      <td>7614893</td>\n",
       "      <td>44.929699</td>\n",
       "      <td>-114.830478</td>\n",
       "    </tr>\n",
       "    <tr>\n",
       "      <th>49</th>\n",
       "      <td>West Virginia</td>\n",
       "      <td>WV</td>\n",
       "      <td>1792147</td>\n",
       "      <td>37.452350</td>\n",
       "      <td>-77.788772</td>\n",
       "    </tr>\n",
       "    <tr>\n",
       "      <th>50</th>\n",
       "      <td>Wisconsin</td>\n",
       "      <td>WI</td>\n",
       "      <td>5822434</td>\n",
       "      <td>43.195275</td>\n",
       "      <td>-87.371008</td>\n",
       "    </tr>\n",
       "    <tr>\n",
       "      <th>51</th>\n",
       "      <td>Wyoming</td>\n",
       "      <td>WY</td>\n",
       "      <td>578759</td>\n",
       "      <td>39.639935</td>\n",
       "      <td>-98.580983</td>\n",
       "    </tr>\n",
       "  </tbody>\n",
       "</table>\n",
       "</div>"
      ],
      "text/plain": [
       "          Province_State State_Code  Population        Lat        Long\n",
       "0                Alabama         AL     4903185  31.931113  -84.196785\n",
       "1                 Alaska         AK      740995  56.628273 -139.571540\n",
       "2                Arizona         AZ     7278717  29.714033  -98.349911\n",
       "3               Arkansas         AR     3017804  34.005087  -90.033096\n",
       "4             California         CA    39512223  36.582496 -116.704308\n",
       "5               Colorado         CO     5758736  37.755612 -102.289687\n",
       "6            Connecticut         CT     3565287  33.290944  -58.125464\n",
       "7               Delaware         DE      973764  23.465566  -45.319942\n",
       "8   District of Columbia         DC      705749  12.968059  -25.672187\n",
       "9                Florida         FL    21477737  28.101892  -80.303621\n",
       "10               Georgia         GA    10617423  32.400973  -82.539201\n",
       "11                Hawaii         HI     1415872  15.020202 -112.373740\n",
       "12                 Idaho         ID     1787065  42.338906 -109.483598\n",
       "13              Illinois         IL    12671821  39.077394  -87.463362\n",
       "14               Indiana         IN     6732219  38.989750  -84.384131\n",
       "15                  Iowa         IA     3155070  41.197635  -91.614717\n",
       "16                Kansas         KS     2913314  37.766026  -96.251195\n",
       "17              Kentucky         KY     4467673  37.005387  -83.803171\n",
       "18             Louisiana         LA     4648794  30.150233  -89.041636\n",
       "19                 Maine         ME     1344212  39.722390  -61.798905\n",
       "20              Maryland         MD     6045680  36.013773  -70.777355\n",
       "21         Massachusetts         MA     6892503  37.117303  -63.016296\n",
       "22              Michigan         MI     9986857  42.018626  -81.265296\n",
       "23             Minnesota         MN     5639632  44.528372  -92.308909\n",
       "24           Mississippi         MS     2976149  32.011947  -87.511304\n",
       "25              Missouri         MO     6626371  37.804955  -90.931699\n",
       "26               Montana         MT     1068778  45.354874 -105.917623\n",
       "27              Nebraska         NE     1934408  40.451862  -96.953980\n",
       "28                Nevada         NV     3080156  35.123787 -105.188836\n",
       "29         New Hampshire         NH     1359711  36.232477  -59.648047\n",
       "30            New Jersey         NJ     8882190  36.783272  -68.133541\n",
       "31            New Mexico         NM     2096829  32.575110  -99.836416\n",
       "32              New York         NY    19453561  41.214647  -73.115615\n",
       "33        North Carolina         NC    10488084  34.925696  -77.942254\n",
       "34          North Dakota         ND      762062  45.670106  -96.603961\n",
       "35                  Ohio         OH    11689100  39.414877  -80.994621\n",
       "36              Oklahoma         OK     3956971  34.603132  -94.789339\n",
       "37                Oregon         OR     4217737  42.150695 -115.083398\n",
       "38          Pennsylvania         PA    12801989  39.634946  -75.365598\n",
       "39           Puerto Rico         PR     3754939  17.783793  -64.747252\n",
       "40          Rhode Island         RI     1059361  29.753673  -51.045789\n",
       "41        South Carolina         SC     5148714  32.542577  -77.609091\n",
       "42          South Dakota         SD      884659  42.970557  -96.389735\n",
       "43             Tennessee         TN     6829174  35.145203  -84.333285\n",
       "44                 Texas         TX    28995881  31.413295  -97.882342\n",
       "45                  Utah         UT     3205958  37.528405 -105.527566\n",
       "46               Vermont         VT      623989  38.639559  -63.598833\n",
       "47              Virginia         VA     8535519  37.009615  -77.350546\n",
       "48            Washington         WA     7614893  44.929699 -114.830478\n",
       "49         West Virginia         WV     1792147  37.452350  -77.788772\n",
       "50             Wisconsin         WI     5822434  43.195275  -87.371008\n",
       "51               Wyoming         WY      578759  39.639935  -98.580983"
      ]
     },
     "execution_count": 517,
     "metadata": {},
     "output_type": "execute_result"
    }
   ],
   "source": [
    "## Saving a states-only version with aggregated populations and mean lat/long\n",
    "df_state_metadata = df_metadata.groupby('Province_State',as_index=False).agg({'Population':'sum',\n",
    "                                               \"Lat\":'mean',\"Long\":\"mean\"})\n",
    "df_state_metadata.insert(1,'State_Code',df_state_metadata['Province_State'].map(state_to_abbrevs_map))\n",
    "df_state_metadata.to_csv(os.path.join(fpath_clean,\"us_metadata_states.csv\"),index=False)\n",
    "df_state_metadata"
   ]
  },
  {
   "cell_type": "code",
   "execution_count": 518,
   "metadata": {
    "ExecuteTime": {
     "end_time": "2021-08-14T18:53:49.015343Z",
     "start_time": "2021-08-14T18:53:48.963295Z"
    }
   },
   "outputs": [
    {
     "data": {
      "text/plain": [
       "'data/state_names_to_codes_map.joblib'"
      ]
     },
     "execution_count": 518,
     "metadata": {},
     "output_type": "execute_result"
    }
   ],
   "source": [
    "## Make new mapper dicts from the final values in metadata\n",
    "state_to_abbrevs_meta = dict(zip(df_state_metadata['Province_State'],df_state_metadata['State_Code']))\n",
    "abbrev_to_state_meta = dict(zip(df_state_metadata['State_Code'],df_state_metadata['Province_State']))\n",
    "\n",
    "## Same mappers as joblib files\n",
    "joblib.dump(state_to_abbrevs_meta, os.path.join(fpath_clean,'state_names_to_codes_map.joblib'))\n",
    "joblib.dump(abbrev_to_state_meta, os.path.join(fpath_clean,'state_codes_to_names_map.joblib'))\n",
    "\n",
    "## save mapper fo state to code for function\n",
    "mapper_path = os.path.join(fpath_clean,'state_names_to_codes_map.joblib')\n",
    "mapper_path"
   ]
  },
  {
   "cell_type": "markdown",
   "metadata": {},
   "source": [
    "### Def Functions"
   ]
  },
  {
   "cell_type": "code",
   "execution_count": 519,
   "metadata": {
    "ExecuteTime": {
     "end_time": "2021-08-14T18:53:49.073434Z",
     "start_time": "2021-08-14T18:53:49.017573Z"
    }
   },
   "outputs": [],
   "source": [
    "def load_raw_ts_file(jhu_data_zip, file = 'RAW_us_confirmed_cases.csv',\n",
    "                     mapper_path='data/state_names_to_codes_map.joblib',\n",
    "                    verbose=True):\n",
    "    \n",
    "    if verbose: \n",
    "        print(f\"Loading data from {file}\")\n",
    "    state_to_abbrevs_meta = joblib.load(mapper_path)\n",
    "    \n",
    "    ## Extract and load csv\n",
    "    jhu_data_zip.extract(file)\n",
    "    data = pd.read_csv(file)\n",
    "    \n",
    "    ## Drop states not included in metadata\n",
    "    data.insert(1,'State_Code',data['Province_State'].map(state_to_abbrevs_meta))\n",
    "    data.dropna(subset=['State_Code'],inplace=True)\n",
    "    return data\n",
    "\n",
    "\n",
    "\n",
    "def melt_df_to_ts(df_cases,value_name, var_name='Date',\n",
    "                  multi_index_cols=['State_Code','Date'],\n",
    "                  id_cols = ['Province_State',\"State_Code\",'Admin2'],\n",
    "                  cols_to_drop=['iso2','iso3','code3','UID','Country_Region',\n",
    "                                'Combined_Key','Lat','Long_','FIPS']):\n",
    "    \n",
    "#     value_cols = [c for c in df_cases.columns if c not in [*cols_to_drop,*id_cols]]\n",
    "    \n",
    "    ## Remove any cols not in the actual dataframe\n",
    "    id_cols = [c for c in id_cols if c in df_cases.columns] \n",
    "    cols_to_drop = [c for c in cols_to_drop if c in df_cases.columns] \n",
    "    \n",
    "    ## CHECKING FOR NON-DATE COLS TO REMOVE\n",
    "    value_cols = [c for c in df_cases.columns if c not in [*id_cols,*cols_to_drop]]\n",
    "    value_cols = list(filter(lambda x: len(x.split('/'))>1,value_cols))\n",
    "    \n",
    "    \n",
    "    df_cases_ts = pd.melt(df_cases, \n",
    "                          id_vars=id_cols, value_vars=value_cols,\n",
    "                          var_name=var_name, value_name=value_name)\n",
    "    \n",
    "    df_cases_ts['Date'] = pd.to_datetime(df_cases_ts['Date'])\n",
    "    df_cases_ts = df_cases_ts.set_index(multi_index_cols).sort_index()\n",
    "    return df_cases_ts"
   ]
  },
  {
   "cell_type": "markdown",
   "metadata": {},
   "source": [
    "### Prep ` df_cases_ts`"
   ]
  },
  {
   "cell_type": "code",
   "execution_count": 520,
   "metadata": {
    "ExecuteTime": {
     "end_time": "2021-08-14T18:53:50.395765Z",
     "start_time": "2021-08-14T18:53:49.076046Z"
    }
   },
   "outputs": [
    {
     "name": "stdout",
     "output_type": "stream",
     "text": [
      "Loading data from RAW_us_confirmed_cases.csv\n"
     ]
    },
    {
     "data": {
      "text/html": [
       "<div>\n",
       "<style scoped>\n",
       "    .dataframe tbody tr th:only-of-type {\n",
       "        vertical-align: middle;\n",
       "    }\n",
       "\n",
       "    .dataframe tbody tr th {\n",
       "        vertical-align: top;\n",
       "    }\n",
       "\n",
       "    .dataframe thead th {\n",
       "        text-align: right;\n",
       "    }\n",
       "</style>\n",
       "<table border=\"1\" class=\"dataframe\">\n",
       "  <thead>\n",
       "    <tr style=\"text-align: right;\">\n",
       "      <th></th>\n",
       "      <th></th>\n",
       "      <th>Province_State</th>\n",
       "      <th>Admin2</th>\n",
       "      <th>Cases</th>\n",
       "    </tr>\n",
       "    <tr>\n",
       "      <th>State_Code</th>\n",
       "      <th>Date</th>\n",
       "      <th></th>\n",
       "      <th></th>\n",
       "      <th></th>\n",
       "    </tr>\n",
       "  </thead>\n",
       "  <tbody>\n",
       "    <tr>\n",
       "      <th rowspan=\"5\" valign=\"top\">AK</th>\n",
       "      <th>2020-01-22</th>\n",
       "      <td>Alaska</td>\n",
       "      <td>Aleutians East</td>\n",
       "      <td>0</td>\n",
       "    </tr>\n",
       "    <tr>\n",
       "      <th>2020-01-22</th>\n",
       "      <td>Alaska</td>\n",
       "      <td>Aleutians West</td>\n",
       "      <td>0</td>\n",
       "    </tr>\n",
       "    <tr>\n",
       "      <th>2020-01-22</th>\n",
       "      <td>Alaska</td>\n",
       "      <td>Anchorage</td>\n",
       "      <td>0</td>\n",
       "    </tr>\n",
       "    <tr>\n",
       "      <th>2020-01-22</th>\n",
       "      <td>Alaska</td>\n",
       "      <td>Bethel</td>\n",
       "      <td>0</td>\n",
       "    </tr>\n",
       "    <tr>\n",
       "      <th>2020-01-22</th>\n",
       "      <td>Alaska</td>\n",
       "      <td>Bristol Bay</td>\n",
       "      <td>0</td>\n",
       "    </tr>\n",
       "    <tr>\n",
       "      <th>...</th>\n",
       "      <th>...</th>\n",
       "      <td>...</td>\n",
       "      <td>...</td>\n",
       "      <td>...</td>\n",
       "    </tr>\n",
       "    <tr>\n",
       "      <th rowspan=\"5\" valign=\"top\">WY</th>\n",
       "      <th>2021-08-13</th>\n",
       "      <td>Wyoming</td>\n",
       "      <td>Teton</td>\n",
       "      <td>4068</td>\n",
       "    </tr>\n",
       "    <tr>\n",
       "      <th>2021-08-13</th>\n",
       "      <td>Wyoming</td>\n",
       "      <td>Uinta</td>\n",
       "      <td>2593</td>\n",
       "    </tr>\n",
       "    <tr>\n",
       "      <th>2021-08-13</th>\n",
       "      <td>Wyoming</td>\n",
       "      <td>Unassigned</td>\n",
       "      <td>0</td>\n",
       "    </tr>\n",
       "    <tr>\n",
       "      <th>2021-08-13</th>\n",
       "      <td>Wyoming</td>\n",
       "      <td>Washakie</td>\n",
       "      <td>967</td>\n",
       "    </tr>\n",
       "    <tr>\n",
       "      <th>2021-08-13</th>\n",
       "      <td>Wyoming</td>\n",
       "      <td>Weston</td>\n",
       "      <td>705</td>\n",
       "    </tr>\n",
       "  </tbody>\n",
       "</table>\n",
       "<p>1901520 rows × 3 columns</p>\n",
       "</div>"
      ],
      "text/plain": [
       "                      Province_State          Admin2  Cases\n",
       "State_Code Date                                            \n",
       "AK         2020-01-22         Alaska  Aleutians East      0\n",
       "           2020-01-22         Alaska  Aleutians West      0\n",
       "           2020-01-22         Alaska       Anchorage      0\n",
       "           2020-01-22         Alaska          Bethel      0\n",
       "           2020-01-22         Alaska     Bristol Bay      0\n",
       "...                              ...             ...    ...\n",
       "WY         2021-08-13        Wyoming           Teton   4068\n",
       "           2021-08-13        Wyoming           Uinta   2593\n",
       "           2021-08-13        Wyoming      Unassigned      0\n",
       "           2021-08-13        Wyoming        Washakie    967\n",
       "           2021-08-13        Wyoming          Weston    705\n",
       "\n",
       "[1901520 rows x 3 columns]"
      ]
     },
     "execution_count": 520,
     "metadata": {},
     "output_type": "execute_result"
    }
   ],
   "source": [
    "## Prep ` df_cases_ts`\n",
    "df_cases = load_raw_ts_file(jhu_data_zip, file = 'RAW_us_confirmed_cases.csv',)\n",
    "df_cases_ts = melt_df_to_ts(df_cases,'Cases')\n",
    "df_cases_ts"
   ]
  },
  {
   "cell_type": "markdown",
   "metadata": {},
   "source": [
    "### Prep ` df_deaths_ts`"
   ]
  },
  {
   "cell_type": "code",
   "execution_count": 521,
   "metadata": {
    "ExecuteTime": {
     "end_time": "2021-08-14T18:53:51.592941Z",
     "start_time": "2021-08-14T18:53:50.397674Z"
    }
   },
   "outputs": [
    {
     "name": "stdout",
     "output_type": "stream",
     "text": [
      "Loading data from RAW_us_deaths.csv\n"
     ]
    },
    {
     "data": {
      "text/html": [
       "<div>\n",
       "<style scoped>\n",
       "    .dataframe tbody tr th:only-of-type {\n",
       "        vertical-align: middle;\n",
       "    }\n",
       "\n",
       "    .dataframe tbody tr th {\n",
       "        vertical-align: top;\n",
       "    }\n",
       "\n",
       "    .dataframe thead th {\n",
       "        text-align: right;\n",
       "    }\n",
       "</style>\n",
       "<table border=\"1\" class=\"dataframe\">\n",
       "  <thead>\n",
       "    <tr style=\"text-align: right;\">\n",
       "      <th></th>\n",
       "      <th></th>\n",
       "      <th>Province_State</th>\n",
       "      <th>Admin2</th>\n",
       "      <th>Deaths</th>\n",
       "    </tr>\n",
       "    <tr>\n",
       "      <th>State_Code</th>\n",
       "      <th>Date</th>\n",
       "      <th></th>\n",
       "      <th></th>\n",
       "      <th></th>\n",
       "    </tr>\n",
       "  </thead>\n",
       "  <tbody>\n",
       "    <tr>\n",
       "      <th rowspan=\"5\" valign=\"top\">AK</th>\n",
       "      <th>2020-01-22</th>\n",
       "      <td>Alaska</td>\n",
       "      <td>Aleutians East</td>\n",
       "      <td>0</td>\n",
       "    </tr>\n",
       "    <tr>\n",
       "      <th>2020-01-22</th>\n",
       "      <td>Alaska</td>\n",
       "      <td>Aleutians West</td>\n",
       "      <td>0</td>\n",
       "    </tr>\n",
       "    <tr>\n",
       "      <th>2020-01-22</th>\n",
       "      <td>Alaska</td>\n",
       "      <td>Anchorage</td>\n",
       "      <td>0</td>\n",
       "    </tr>\n",
       "    <tr>\n",
       "      <th>2020-01-22</th>\n",
       "      <td>Alaska</td>\n",
       "      <td>Bethel</td>\n",
       "      <td>0</td>\n",
       "    </tr>\n",
       "    <tr>\n",
       "      <th>2020-01-22</th>\n",
       "      <td>Alaska</td>\n",
       "      <td>Bristol Bay</td>\n",
       "      <td>0</td>\n",
       "    </tr>\n",
       "    <tr>\n",
       "      <th>...</th>\n",
       "      <th>...</th>\n",
       "      <td>...</td>\n",
       "      <td>...</td>\n",
       "      <td>...</td>\n",
       "    </tr>\n",
       "    <tr>\n",
       "      <th rowspan=\"5\" valign=\"top\">WY</th>\n",
       "      <th>2021-08-13</th>\n",
       "      <td>Wyoming</td>\n",
       "      <td>Teton</td>\n",
       "      <td>11</td>\n",
       "    </tr>\n",
       "    <tr>\n",
       "      <th>2021-08-13</th>\n",
       "      <td>Wyoming</td>\n",
       "      <td>Uinta</td>\n",
       "      <td>14</td>\n",
       "    </tr>\n",
       "    <tr>\n",
       "      <th>2021-08-13</th>\n",
       "      <td>Wyoming</td>\n",
       "      <td>Unassigned</td>\n",
       "      <td>0</td>\n",
       "    </tr>\n",
       "    <tr>\n",
       "      <th>2021-08-13</th>\n",
       "      <td>Wyoming</td>\n",
       "      <td>Washakie</td>\n",
       "      <td>26</td>\n",
       "    </tr>\n",
       "    <tr>\n",
       "      <th>2021-08-13</th>\n",
       "      <td>Wyoming</td>\n",
       "      <td>Weston</td>\n",
       "      <td>6</td>\n",
       "    </tr>\n",
       "  </tbody>\n",
       "</table>\n",
       "<p>1901520 rows × 3 columns</p>\n",
       "</div>"
      ],
      "text/plain": [
       "                      Province_State          Admin2  Deaths\n",
       "State_Code Date                                             \n",
       "AK         2020-01-22         Alaska  Aleutians East       0\n",
       "           2020-01-22         Alaska  Aleutians West       0\n",
       "           2020-01-22         Alaska       Anchorage       0\n",
       "           2020-01-22         Alaska          Bethel       0\n",
       "           2020-01-22         Alaska     Bristol Bay       0\n",
       "...                              ...             ...     ...\n",
       "WY         2021-08-13        Wyoming           Teton      11\n",
       "           2021-08-13        Wyoming           Uinta      14\n",
       "           2021-08-13        Wyoming      Unassigned       0\n",
       "           2021-08-13        Wyoming        Washakie      26\n",
       "           2021-08-13        Wyoming          Weston       6\n",
       "\n",
       "[1901520 rows x 3 columns]"
      ]
     },
     "execution_count": 521,
     "metadata": {},
     "output_type": "execute_result"
    }
   ],
   "source": [
    "## Prep df_deaths_ts\n",
    "df_deaths = load_raw_ts_file(jhu_data_zip,file = 'RAW_us_deaths.csv')\n",
    "df_deaths_ts = melt_df_to_ts(df_deaths,'Deaths')\n",
    "df_deaths_ts"
   ]
  },
  {
   "cell_type": "markdown",
   "metadata": {},
   "source": [
    "### Test Concat"
   ]
  },
  {
   "cell_type": "code",
   "execution_count": 522,
   "metadata": {
    "ExecuteTime": {
     "end_time": "2021-08-14T18:53:51.646459Z",
     "start_time": "2021-08-14T18:53:51.595279Z"
    }
   },
   "outputs": [],
   "source": [
    "# pd.concat([df_cases_ts.loc['Alabama','Confirmed Cases'],df_deaths_ts.loc['Alabama','Deaths']])"
   ]
  },
  {
   "cell_type": "code",
   "execution_count": 523,
   "metadata": {
    "ExecuteTime": {
     "end_time": "2021-08-14T18:53:52.377379Z",
     "start_time": "2021-08-14T18:53:51.648551Z"
    }
   },
   "outputs": [
    {
     "data": {
      "text/html": [
       "<div>\n",
       "<style scoped>\n",
       "    .dataframe tbody tr th:only-of-type {\n",
       "        vertical-align: middle;\n",
       "    }\n",
       "\n",
       "    .dataframe tbody tr th {\n",
       "        vertical-align: top;\n",
       "    }\n",
       "\n",
       "    .dataframe thead th {\n",
       "        text-align: right;\n",
       "    }\n",
       "</style>\n",
       "<table border=\"1\" class=\"dataframe\">\n",
       "  <thead>\n",
       "    <tr style=\"text-align: right;\">\n",
       "      <th></th>\n",
       "      <th></th>\n",
       "      <th>Province_State</th>\n",
       "      <th>Admin2</th>\n",
       "      <th>Cases</th>\n",
       "      <th>Province_State</th>\n",
       "      <th>Admin2</th>\n",
       "      <th>Deaths</th>\n",
       "    </tr>\n",
       "    <tr>\n",
       "      <th>State_Code</th>\n",
       "      <th>Date</th>\n",
       "      <th></th>\n",
       "      <th></th>\n",
       "      <th></th>\n",
       "      <th></th>\n",
       "      <th></th>\n",
       "      <th></th>\n",
       "    </tr>\n",
       "  </thead>\n",
       "  <tbody>\n",
       "    <tr>\n",
       "      <th rowspan=\"5\" valign=\"top\">AK</th>\n",
       "      <th>2020-01-22</th>\n",
       "      <td>Alaska</td>\n",
       "      <td>Aleutians East</td>\n",
       "      <td>0</td>\n",
       "      <td>Alaska</td>\n",
       "      <td>Aleutians East</td>\n",
       "      <td>0</td>\n",
       "    </tr>\n",
       "    <tr>\n",
       "      <th>2020-01-22</th>\n",
       "      <td>Alaska</td>\n",
       "      <td>Aleutians West</td>\n",
       "      <td>0</td>\n",
       "      <td>Alaska</td>\n",
       "      <td>Aleutians West</td>\n",
       "      <td>0</td>\n",
       "    </tr>\n",
       "    <tr>\n",
       "      <th>2020-01-22</th>\n",
       "      <td>Alaska</td>\n",
       "      <td>Anchorage</td>\n",
       "      <td>0</td>\n",
       "      <td>Alaska</td>\n",
       "      <td>Anchorage</td>\n",
       "      <td>0</td>\n",
       "    </tr>\n",
       "    <tr>\n",
       "      <th>2020-01-22</th>\n",
       "      <td>Alaska</td>\n",
       "      <td>Bethel</td>\n",
       "      <td>0</td>\n",
       "      <td>Alaska</td>\n",
       "      <td>Bethel</td>\n",
       "      <td>0</td>\n",
       "    </tr>\n",
       "    <tr>\n",
       "      <th>2020-01-22</th>\n",
       "      <td>Alaska</td>\n",
       "      <td>Bristol Bay</td>\n",
       "      <td>0</td>\n",
       "      <td>Alaska</td>\n",
       "      <td>Bristol Bay</td>\n",
       "      <td>0</td>\n",
       "    </tr>\n",
       "    <tr>\n",
       "      <th>...</th>\n",
       "      <th>...</th>\n",
       "      <td>...</td>\n",
       "      <td>...</td>\n",
       "      <td>...</td>\n",
       "      <td>...</td>\n",
       "      <td>...</td>\n",
       "      <td>...</td>\n",
       "    </tr>\n",
       "    <tr>\n",
       "      <th rowspan=\"5\" valign=\"top\">WY</th>\n",
       "      <th>2021-08-13</th>\n",
       "      <td>Wyoming</td>\n",
       "      <td>Teton</td>\n",
       "      <td>4068</td>\n",
       "      <td>Wyoming</td>\n",
       "      <td>Teton</td>\n",
       "      <td>11</td>\n",
       "    </tr>\n",
       "    <tr>\n",
       "      <th>2021-08-13</th>\n",
       "      <td>Wyoming</td>\n",
       "      <td>Uinta</td>\n",
       "      <td>2593</td>\n",
       "      <td>Wyoming</td>\n",
       "      <td>Uinta</td>\n",
       "      <td>14</td>\n",
       "    </tr>\n",
       "    <tr>\n",
       "      <th>2021-08-13</th>\n",
       "      <td>Wyoming</td>\n",
       "      <td>Unassigned</td>\n",
       "      <td>0</td>\n",
       "      <td>Wyoming</td>\n",
       "      <td>Unassigned</td>\n",
       "      <td>0</td>\n",
       "    </tr>\n",
       "    <tr>\n",
       "      <th>2021-08-13</th>\n",
       "      <td>Wyoming</td>\n",
       "      <td>Washakie</td>\n",
       "      <td>967</td>\n",
       "      <td>Wyoming</td>\n",
       "      <td>Washakie</td>\n",
       "      <td>26</td>\n",
       "    </tr>\n",
       "    <tr>\n",
       "      <th>2021-08-13</th>\n",
       "      <td>Wyoming</td>\n",
       "      <td>Weston</td>\n",
       "      <td>705</td>\n",
       "      <td>Wyoming</td>\n",
       "      <td>Weston</td>\n",
       "      <td>6</td>\n",
       "    </tr>\n",
       "  </tbody>\n",
       "</table>\n",
       "<p>1901520 rows × 6 columns</p>\n",
       "</div>"
      ],
      "text/plain": [
       "                      Province_State          Admin2  ...          Admin2 Deaths\n",
       "State_Code Date                                       ...                       \n",
       "AK         2020-01-22         Alaska  Aleutians East  ...  Aleutians East      0\n",
       "           2020-01-22         Alaska  Aleutians West  ...  Aleutians West      0\n",
       "           2020-01-22         Alaska       Anchorage  ...       Anchorage      0\n",
       "           2020-01-22         Alaska          Bethel  ...          Bethel      0\n",
       "           2020-01-22         Alaska     Bristol Bay  ...     Bristol Bay      0\n",
       "...                              ...             ...  ...             ...    ...\n",
       "WY         2021-08-13        Wyoming           Teton  ...           Teton     11\n",
       "           2021-08-13        Wyoming           Uinta  ...           Uinta     14\n",
       "           2021-08-13        Wyoming      Unassigned  ...      Unassigned      0\n",
       "           2021-08-13        Wyoming        Washakie  ...        Washakie     26\n",
       "           2021-08-13        Wyoming          Weston  ...          Weston      6\n",
       "\n",
       "[1901520 rows x 6 columns]"
      ]
     },
     "execution_count": 523,
     "metadata": {},
     "output_type": "execute_result"
    }
   ],
   "source": [
    "pd.concat([df_cases_ts,df_deaths_ts],axis=1)"
   ]
  },
  {
   "cell_type": "markdown",
   "metadata": {},
   "source": [
    "### Join Dataset and Make STATES dict"
   ]
  },
  {
   "cell_type": "code",
   "execution_count": 524,
   "metadata": {
    "ExecuteTime": {
     "end_time": "2021-08-14T18:53:52.428160Z",
     "start_time": "2021-08-14T18:53:52.379355Z"
    }
   },
   "outputs": [
    {
     "data": {
      "text/plain": [
       "52"
      ]
     },
     "execution_count": 524,
     "metadata": {},
     "output_type": "execute_result"
    }
   ],
   "source": [
    "unique_states = list(abbrev_to_state_meta.keys())\n",
    "len(unique_states)"
   ]
  },
  {
   "cell_type": "code",
   "execution_count": 525,
   "metadata": {
    "ExecuteTime": {
     "end_time": "2021-08-14T18:53:52.479140Z",
     "start_time": "2021-08-14T18:53:52.430135Z"
    }
   },
   "outputs": [
    {
     "name": "stdout",
     "output_type": "stream",
     "text": [
      "['AL', 'AK', 'AZ', 'AR', 'CA', 'CO', 'CT', 'DE', 'DC', 'FL', 'GA', 'HI', 'ID', 'IL', 'IN', 'IA', 'KS', 'KY', 'LA', 'ME', 'MD', 'MA', 'MI', 'MN', 'MS', 'MO', 'MT', 'NE', 'NV', 'NH', 'NJ', 'NM', 'NY', 'NC', 'ND', 'OH', 'OK', 'OR', 'PA', 'PR', 'RI', 'SC', 'SD', 'TN', 'TX', 'UT', 'VT', 'VA', 'WA', 'WV', 'WI', 'WY']\n"
     ]
    }
   ],
   "source": [
    "print(unique_states)"
   ]
  },
  {
   "cell_type": "code",
   "execution_count": 526,
   "metadata": {
    "ExecuteTime": {
     "end_time": "2021-08-14T18:53:52.532517Z",
     "start_time": "2021-08-14T18:53:52.481302Z"
    }
   },
   "outputs": [],
   "source": [
    "# state='NY'\n",
    "# df_cases_temp = df_cases_ts.loc[state].reset_index()\n",
    "# df_deaths_temp = df_deaths_ts.loc[state].reset_index()\n",
    "\n",
    "# ## Merge using date and Admin2/county\n",
    "# df_merged = pd.merge(df_cases_temp, df_deaths_temp, on=['Date','Admin2'])\n",
    "# df_merged_ts = df_merged.set_index(\"Date\").resample('D').sum()\n",
    "\n",
    "# df_merged_ts.columns = [f\"{c}-{state}\" for c in df_merged_ts.columns]\n",
    "# df_merged_ts"
   ]
  },
  {
   "cell_type": "code",
   "execution_count": 527,
   "metadata": {
    "ExecuteTime": {
     "end_time": "2021-08-14T18:53:54.804378Z",
     "start_time": "2021-08-14T18:53:52.541355Z"
    }
   },
   "outputs": [
    {
     "data": {
      "text/plain": [
       "dict_keys(['AL', 'AK', 'AZ', 'AR', 'CA', 'CO', 'CT', 'DE', 'DC', 'FL', 'GA', 'HI', 'ID', 'IL', 'IN', 'IA', 'KS', 'KY', 'LA', 'ME', 'MD', 'MA', 'MI', 'MN', 'MS', 'MO', 'MT', 'NE', 'NV', 'NH', 'NJ', 'NM', 'NY', 'NC', 'ND', 'OH', 'OK', 'OR', 'PA', 'PR', 'RI', 'SC', 'SD', 'TN', 'TX', 'UT', 'VT', 'VA', 'WA', 'WV', 'WI', 'WY'])"
      ]
     },
     "execution_count": 527,
     "metadata": {},
     "output_type": "execute_result"
    }
   ],
   "source": [
    "STATES = {}\n",
    "\n",
    "for state in unique_states:\n",
    "    ## Reset the state's datafranes for pd.merge\n",
    "    df_cases_temp = df_cases_ts.loc[state].reset_index()\n",
    "    df_deaths_temp = df_deaths_ts.loc[state].reset_index()\n",
    "\n",
    "    ## Merge using date and Admin2/county\n",
    "    df_merged = pd.merge(df_cases_temp, df_deaths_temp, on=['Date','Admin2'])\n",
    "    df_merged_ts = df_merged.set_index(\"Date\").resample('D').sum()\n",
    "\n",
    "    df_merged_ts.columns = [f\"{c}-{state}\" for c in df_merged_ts.columns]    \n",
    "    \n",
    "    STATES[state] = df_merged_ts.copy()\n",
    "\n",
    "STATES.keys()"
   ]
  },
  {
   "cell_type": "code",
   "execution_count": 528,
   "metadata": {
    "ExecuteTime": {
     "end_time": "2021-08-14T18:53:54.858901Z",
     "start_time": "2021-08-14T18:53:54.808501Z"
    }
   },
   "outputs": [
    {
     "data": {
      "text/html": [
       "<div>\n",
       "<style scoped>\n",
       "    .dataframe tbody tr th:only-of-type {\n",
       "        vertical-align: middle;\n",
       "    }\n",
       "\n",
       "    .dataframe tbody tr th {\n",
       "        vertical-align: top;\n",
       "    }\n",
       "\n",
       "    .dataframe thead th {\n",
       "        text-align: right;\n",
       "    }\n",
       "</style>\n",
       "<table border=\"1\" class=\"dataframe\">\n",
       "  <thead>\n",
       "    <tr style=\"text-align: right;\">\n",
       "      <th></th>\n",
       "      <th>Cases-NY</th>\n",
       "      <th>Deaths-NY</th>\n",
       "    </tr>\n",
       "    <tr>\n",
       "      <th>Date</th>\n",
       "      <th></th>\n",
       "      <th></th>\n",
       "    </tr>\n",
       "  </thead>\n",
       "  <tbody>\n",
       "    <tr>\n",
       "      <th>2020-01-22</th>\n",
       "      <td>0</td>\n",
       "      <td>0</td>\n",
       "    </tr>\n",
       "    <tr>\n",
       "      <th>2020-01-23</th>\n",
       "      <td>0</td>\n",
       "      <td>0</td>\n",
       "    </tr>\n",
       "    <tr>\n",
       "      <th>2020-01-24</th>\n",
       "      <td>0</td>\n",
       "      <td>0</td>\n",
       "    </tr>\n",
       "    <tr>\n",
       "      <th>2020-01-25</th>\n",
       "      <td>0</td>\n",
       "      <td>0</td>\n",
       "    </tr>\n",
       "    <tr>\n",
       "      <th>2020-01-26</th>\n",
       "      <td>0</td>\n",
       "      <td>0</td>\n",
       "    </tr>\n",
       "    <tr>\n",
       "      <th>...</th>\n",
       "      <td>...</td>\n",
       "      <td>...</td>\n",
       "    </tr>\n",
       "    <tr>\n",
       "      <th>2021-08-09</th>\n",
       "      <td>2178724</td>\n",
       "      <td>53750</td>\n",
       "    </tr>\n",
       "    <tr>\n",
       "      <th>2021-08-10</th>\n",
       "      <td>2180696</td>\n",
       "      <td>53758</td>\n",
       "    </tr>\n",
       "    <tr>\n",
       "      <th>2021-08-11</th>\n",
       "      <td>2187349</td>\n",
       "      <td>53797</td>\n",
       "    </tr>\n",
       "    <tr>\n",
       "      <th>2021-08-12</th>\n",
       "      <td>2192224</td>\n",
       "      <td>53828</td>\n",
       "    </tr>\n",
       "    <tr>\n",
       "      <th>2021-08-13</th>\n",
       "      <td>2196866</td>\n",
       "      <td>53840</td>\n",
       "    </tr>\n",
       "  </tbody>\n",
       "</table>\n",
       "<p>570 rows × 2 columns</p>\n",
       "</div>"
      ],
      "text/plain": [
       "            Cases-NY  Deaths-NY\n",
       "Date                           \n",
       "2020-01-22         0          0\n",
       "2020-01-23         0          0\n",
       "2020-01-24         0          0\n",
       "2020-01-25         0          0\n",
       "2020-01-26         0          0\n",
       "...              ...        ...\n",
       "2021-08-09   2178724      53750\n",
       "2021-08-10   2180696      53758\n",
       "2021-08-11   2187349      53797\n",
       "2021-08-12   2192224      53828\n",
       "2021-08-13   2196866      53840\n",
       "\n",
       "[570 rows x 2 columns]"
      ]
     },
     "execution_count": 528,
     "metadata": {},
     "output_type": "execute_result"
    }
   ],
   "source": [
    "STATES['NY']"
   ]
  },
  {
   "cell_type": "code",
   "execution_count": 529,
   "metadata": {
    "ExecuteTime": {
     "end_time": "2021-08-14T18:53:55.309207Z",
     "start_time": "2021-08-14T18:53:54.860680Z"
    }
   },
   "outputs": [
    {
     "data": {
      "text/plain": [
       "array([<AxesSubplot:xlabel='Date'>, <AxesSubplot:xlabel='Date'>],\n",
       "      dtype=object)"
      ]
     },
     "execution_count": 529,
     "metadata": {},
     "output_type": "execute_result"
    },
    {
     "data": {
      "image/png": "[encoded data removed]",
      "text/plain": [
       "<Figure size 864x432 with 2 Axes>"
      ]
     },
     "metadata": {
      "needs_background": "light"
     },
     "output_type": "display_data"
    }
   ],
   "source": [
    "df_cumulative = STATES['NY'].copy()\n",
    "df_cumulative.plot(subplots=True)"
   ]
  },
  {
   "cell_type": "code",
   "execution_count": 530,
   "metadata": {
    "ExecuteTime": {
     "end_time": "2021-08-14T18:53:56.030642Z",
     "start_time": "2021-08-14T18:53:55.311183Z"
    }
   },
   "outputs": [
    {
     "data": {
      "text/plain": [
       "array([<AxesSubplot:xlabel='Date'>, <AxesSubplot:xlabel='Date'>],\n",
       "      dtype=object)"
      ]
     },
     "execution_count": 530,
     "metadata": {},
     "output_type": "execute_result"
    },
    {
     "data": {
      "image/png": "[encoded data removed]",
      "text/plain": [
       "<Figure size 864x432 with 2 Axes>"
      ]
     },
     "metadata": {
      "needs_background": "light"
     },
     "output_type": "display_data"
    }
   ],
   "source": [
    "df_diff = STATES['NY'].copy().diff().fillna(0)\n",
    "df_diff.plot(subplots=True)"
   ]
  },
  {
   "cell_type": "markdown",
   "metadata": {},
   "source": [
    "### Saving CSVs"
   ]
  },
  {
   "cell_type": "code",
   "execution_count": 531,
   "metadata": {
    "ExecuteTime": {
     "end_time": "2021-08-14T18:53:56.083894Z",
     "start_time": "2021-08-14T18:53:56.032587Z"
    }
   },
   "outputs": [
    {
     "data": {
      "text/plain": [
       "[]"
      ]
     },
     "execution_count": 531,
     "metadata": {},
     "output_type": "execute_result"
    }
   ],
   "source": [
    "import os\n",
    "# folder = \"./data/\"\n",
    "folder = os.path.join(fpath_clean,'state_data/')\n",
    "os.makedirs(folder,exist_ok=True)\n",
    "os.listdir(folder)"
   ]
  },
  {
   "cell_type": "markdown",
   "metadata": {},
   "source": [
    "### Test Join- Maryland Deaths and Cases Data"
   ]
  },
  {
   "cell_type": "code",
   "execution_count": 532,
   "metadata": {
    "ExecuteTime": {
     "end_time": "2021-08-14T18:53:56.134953Z",
     "start_time": "2021-08-14T18:53:56.085660Z"
    }
   },
   "outputs": [],
   "source": [
    "# ## Testing md data -  reset index for multi-column join\n",
    "# md_cases = df_cases_ts.loc['Maryland'].reset_index()\n",
    "# md_cases"
   ]
  },
  {
   "cell_type": "code",
   "execution_count": 533,
   "metadata": {
    "ExecuteTime": {
     "end_time": "2021-08-14T18:53:56.189360Z",
     "start_time": "2021-08-14T18:53:56.137365Z"
    }
   },
   "outputs": [],
   "source": [
    "# ## Testing md data -  reset index for multi-column join\n",
    "# md_deaths = df_deaths_ts.loc['Maryland'].reset_index()\n",
    "# md_deaths"
   ]
  },
  {
   "cell_type": "code",
   "execution_count": 534,
   "metadata": {
    "ExecuteTime": {
     "end_time": "2021-08-14T18:53:56.239035Z",
     "start_time": "2021-08-14T18:53:56.191385Z"
    }
   },
   "outputs": [],
   "source": [
    "# df_md = pd.merge(md_cases, md_deaths, on=['Date','Admin2'])\n",
    "# df_md = df_md.set_index(\"Date\").resample('D').sum()\n",
    "\n",
    "# df_md.plot(subplots=True)"
   ]
  },
  {
   "cell_type": "code",
   "execution_count": 535,
   "metadata": {
    "ExecuteTime": {
     "end_time": "2021-08-14T18:53:56.289272Z",
     "start_time": "2021-08-14T18:53:56.241655Z"
    }
   },
   "outputs": [],
   "source": [
    "# df_md_diff = df_md.diff().fillna(0)#.plot(subplots=True)\n",
    "# df_md_diff.plot(subplots=True)"
   ]
  },
  {
   "cell_type": "markdown",
   "metadata": {},
   "source": [
    "- "
   ]
  },
  {
   "cell_type": "markdown",
   "metadata": {},
   "source": [
    "___"
   ]
  },
  {
   "cell_type": "markdown",
   "metadata": {},
   "source": [
    "# UP TO HERE ADDED TO - SIMPLIFIED WORKFLOW NOTEBOOK"
   ]
  },
  {
   "cell_type": "markdown",
   "metadata": {},
   "source": [
    "## Previous Hospital Data"
   ]
  },
  {
   "cell_type": "code",
   "execution_count": 536,
   "metadata": {
    "ExecuteTime": {
     "end_time": "2021-08-14T18:53:57.672868Z",
     "start_time": "2021-08-14T18:53:56.291313Z"
    }
   },
   "outputs": [
    {
     "name": "stdout",
     "output_type": "stream",
     "text": [
      "[i] DOWNLOADING DATASETS FROM COVID TRACKING PROJECT\n",
      "\thttps://covidtracking.com/data\n",
      "\t- File saved as: \"New Data/states_metadata.csv\"\n",
      "ERROR\n",
      "\t- File saved as: \"New Data/us.csv\"\n",
      "\t- File saved as: \"New Data/states.csv\"\n",
      "states\n"
     ]
    },
    {
     "data": {
      "text/plain": [
       "------------------------------------------------------------\n",
       "[i] CovidTrackingProject Contents:\n",
       "------------------------------------------------------------\n",
       "\n",
       "METHODS:\n",
       "\tdownload_state_daily\n",
       "\tdownload_state_meta\n",
       "\tdownload_us_daily\n",
       "\tget_csv_save_load\n",
       "\tget_df\n",
       "\tget_group_ts\n",
       "\thelp\n",
       "\n",
       "ATTRIBUTES\n",
       "\tbase_folder\n",
       "\tbase_url\n",
       "\tcolumns\n",
       "\tcolumns_us\n",
       "\tdf\n",
       "\tdf_states\n",
       "\tdf_us\n",
       "\turls"
      ]
     },
     "execution_count": 536,
     "metadata": {},
     "output_type": "execute_result"
    }
   ],
   "source": [
    "## original class for using The Covid Tracking Project API\n",
    "covid = fn.CovidTrackingProject(verbose=True)\n",
    "covid"
   ]
  },
  {
   "cell_type": "code",
   "execution_count": 537,
   "metadata": {
    "ExecuteTime": {
     "end_time": "2021-08-14T18:53:57.756323Z",
     "start_time": "2021-08-14T18:53:57.674758Z"
    }
   },
   "outputs": [
    {
     "data": {
      "text/html": [
       "<div>\n",
       "<style scoped>\n",
       "    .dataframe tbody tr th:only-of-type {\n",
       "        vertical-align: middle;\n",
       "    }\n",
       "\n",
       "    .dataframe tbody tr th {\n",
       "        vertical-align: top;\n",
       "    }\n",
       "\n",
       "    .dataframe thead th {\n",
       "        text-align: right;\n",
       "    }\n",
       "</style>\n",
       "<table border=\"1\" class=\"dataframe\">\n",
       "  <thead>\n",
       "    <tr style=\"text-align: right;\">\n",
       "      <th></th>\n",
       "      <th>positive</th>\n",
       "      <th>negative</th>\n",
       "      <th>death</th>\n",
       "      <th>recovered</th>\n",
       "      <th>hospitalizedCurrently</th>\n",
       "      <th>hospitalizedCumulative</th>\n",
       "      <th>inIcuCurrently</th>\n",
       "      <th>inIcuCumulative</th>\n",
       "      <th>onVentilatorCurrently</th>\n",
       "      <th>onVentilatorCumulative</th>\n",
       "      <th>states</th>\n",
       "      <th>pending</th>\n",
       "      <th>dateChecked</th>\n",
       "      <th>hash</th>\n",
       "    </tr>\n",
       "    <tr>\n",
       "      <th>date</th>\n",
       "      <th></th>\n",
       "      <th></th>\n",
       "      <th></th>\n",
       "      <th></th>\n",
       "      <th></th>\n",
       "      <th></th>\n",
       "      <th></th>\n",
       "      <th></th>\n",
       "      <th></th>\n",
       "      <th></th>\n",
       "      <th></th>\n",
       "      <th></th>\n",
       "      <th></th>\n",
       "      <th></th>\n",
       "    </tr>\n",
       "  </thead>\n",
       "  <tbody>\n",
       "    <tr>\n",
       "      <th>2021-03-07</th>\n",
       "      <td>28756489.0</td>\n",
       "      <td>74582825.0</td>\n",
       "      <td>515151.0</td>\n",
       "      <td>NaN</td>\n",
       "      <td>40199.0</td>\n",
       "      <td>776361.0</td>\n",
       "      <td>8134.0</td>\n",
       "      <td>45475.0</td>\n",
       "      <td>2802.0</td>\n",
       "      <td>4281.0</td>\n",
       "      <td>56</td>\n",
       "      <td>11808.0</td>\n",
       "      <td>2021-03-07T24:00:00Z</td>\n",
       "      <td>a80d0063822e251249fd9a44730c49cb23defd83</td>\n",
       "    </tr>\n",
       "    <tr>\n",
       "      <th>2021-03-06</th>\n",
       "      <td>28714654.0</td>\n",
       "      <td>74450990.0</td>\n",
       "      <td>514309.0</td>\n",
       "      <td>NaN</td>\n",
       "      <td>41401.0</td>\n",
       "      <td>775635.0</td>\n",
       "      <td>8409.0</td>\n",
       "      <td>45453.0</td>\n",
       "      <td>2811.0</td>\n",
       "      <td>4280.0</td>\n",
       "      <td>56</td>\n",
       "      <td>11783.0</td>\n",
       "      <td>2021-03-06T24:00:00Z</td>\n",
       "      <td>dae5e558c24adb86686bbd58c08cce5f610b8bb0</td>\n",
       "    </tr>\n",
       "    <tr>\n",
       "      <th>2021-03-05</th>\n",
       "      <td>28654639.0</td>\n",
       "      <td>74307155.0</td>\n",
       "      <td>512629.0</td>\n",
       "      <td>NaN</td>\n",
       "      <td>42541.0</td>\n",
       "      <td>775132.0</td>\n",
       "      <td>8634.0</td>\n",
       "      <td>45373.0</td>\n",
       "      <td>2889.0</td>\n",
       "      <td>4275.0</td>\n",
       "      <td>56</td>\n",
       "      <td>12213.0</td>\n",
       "      <td>2021-03-05T24:00:00Z</td>\n",
       "      <td>724844c01659d0103801c57c0f72bf8cc8ab025c</td>\n",
       "    </tr>\n",
       "    <tr>\n",
       "      <th>2021-03-04</th>\n",
       "      <td>28585852.0</td>\n",
       "      <td>74035238.0</td>\n",
       "      <td>510408.0</td>\n",
       "      <td>NaN</td>\n",
       "      <td>44172.0</td>\n",
       "      <td>772351.0</td>\n",
       "      <td>8970.0</td>\n",
       "      <td>45293.0</td>\n",
       "      <td>2973.0</td>\n",
       "      <td>4267.0</td>\n",
       "      <td>56</td>\n",
       "      <td>12405.0</td>\n",
       "      <td>2021-03-04T24:00:00Z</td>\n",
       "      <td>5c549ad30f9abf48dc5de36d20fa707014be1ff3</td>\n",
       "    </tr>\n",
       "    <tr>\n",
       "      <th>2021-03-03</th>\n",
       "      <td>28520365.0</td>\n",
       "      <td>73857281.0</td>\n",
       "      <td>508665.0</td>\n",
       "      <td>NaN</td>\n",
       "      <td>45462.0</td>\n",
       "      <td>770821.0</td>\n",
       "      <td>9359.0</td>\n",
       "      <td>45214.0</td>\n",
       "      <td>3094.0</td>\n",
       "      <td>4260.0</td>\n",
       "      <td>56</td>\n",
       "      <td>11778.0</td>\n",
       "      <td>2021-03-03T24:00:00Z</td>\n",
       "      <td>fef6c425d2b773a9221fe353f13852f3e4a4bfb0</td>\n",
       "    </tr>\n",
       "    <tr>\n",
       "      <th>...</th>\n",
       "      <td>...</td>\n",
       "      <td>...</td>\n",
       "      <td>...</td>\n",
       "      <td>...</td>\n",
       "      <td>...</td>\n",
       "      <td>...</td>\n",
       "      <td>...</td>\n",
       "      <td>...</td>\n",
       "      <td>...</td>\n",
       "      <td>...</td>\n",
       "      <td>...</td>\n",
       "      <td>...</td>\n",
       "      <td>...</td>\n",
       "      <td>...</td>\n",
       "    </tr>\n",
       "    <tr>\n",
       "      <th>2020-01-17</th>\n",
       "      <td>0.0</td>\n",
       "      <td>NaN</td>\n",
       "      <td>NaN</td>\n",
       "      <td>NaN</td>\n",
       "      <td>NaN</td>\n",
       "      <td>NaN</td>\n",
       "      <td>NaN</td>\n",
       "      <td>NaN</td>\n",
       "      <td>NaN</td>\n",
       "      <td>NaN</td>\n",
       "      <td>1</td>\n",
       "      <td>NaN</td>\n",
       "      <td>2020-01-17T24:00:00Z</td>\n",
       "      <td>5fd7ed7fb0f83565ea0aaaf5ff6104e5860be2d6</td>\n",
       "    </tr>\n",
       "    <tr>\n",
       "      <th>2020-01-16</th>\n",
       "      <td>0.0</td>\n",
       "      <td>NaN</td>\n",
       "      <td>NaN</td>\n",
       "      <td>NaN</td>\n",
       "      <td>NaN</td>\n",
       "      <td>NaN</td>\n",
       "      <td>NaN</td>\n",
       "      <td>NaN</td>\n",
       "      <td>NaN</td>\n",
       "      <td>NaN</td>\n",
       "      <td>1</td>\n",
       "      <td>NaN</td>\n",
       "      <td>2020-01-16T24:00:00Z</td>\n",
       "      <td>4c0f2ea879eefec1a18a93bcd8a382ea56cd452d</td>\n",
       "    </tr>\n",
       "    <tr>\n",
       "      <th>2020-01-15</th>\n",
       "      <td>0.0</td>\n",
       "      <td>NaN</td>\n",
       "      <td>NaN</td>\n",
       "      <td>NaN</td>\n",
       "      <td>NaN</td>\n",
       "      <td>NaN</td>\n",
       "      <td>NaN</td>\n",
       "      <td>NaN</td>\n",
       "      <td>NaN</td>\n",
       "      <td>NaN</td>\n",
       "      <td>1</td>\n",
       "      <td>NaN</td>\n",
       "      <td>2020-01-15T24:00:00Z</td>\n",
       "      <td>8a449023413eea473277416e9e30ae126c6af047</td>\n",
       "    </tr>\n",
       "    <tr>\n",
       "      <th>2020-01-14</th>\n",
       "      <td>0.0</td>\n",
       "      <td>NaN</td>\n",
       "      <td>NaN</td>\n",
       "      <td>NaN</td>\n",
       "      <td>NaN</td>\n",
       "      <td>NaN</td>\n",
       "      <td>NaN</td>\n",
       "      <td>NaN</td>\n",
       "      <td>NaN</td>\n",
       "      <td>NaN</td>\n",
       "      <td>1</td>\n",
       "      <td>NaN</td>\n",
       "      <td>2020-01-14T24:00:00Z</td>\n",
       "      <td>fe399466a3dfbe0221a18ed5cacb39a3882d72f8</td>\n",
       "    </tr>\n",
       "    <tr>\n",
       "      <th>2020-01-13</th>\n",
       "      <td>NaN</td>\n",
       "      <td>NaN</td>\n",
       "      <td>NaN</td>\n",
       "      <td>NaN</td>\n",
       "      <td>NaN</td>\n",
       "      <td>NaN</td>\n",
       "      <td>NaN</td>\n",
       "      <td>NaN</td>\n",
       "      <td>NaN</td>\n",
       "      <td>NaN</td>\n",
       "      <td>1</td>\n",
       "      <td>NaN</td>\n",
       "      <td>2020-01-13T24:00:00Z</td>\n",
       "      <td>5672debf187b183735be63f6bd85834ead0047ff</td>\n",
       "    </tr>\n",
       "  </tbody>\n",
       "</table>\n",
       "<p>420 rows × 14 columns</p>\n",
       "</div>"
      ],
      "text/plain": [
       "              positive  ...                                      hash\n",
       "date                    ...                                          \n",
       "2021-03-07  28756489.0  ...  a80d0063822e251249fd9a44730c49cb23defd83\n",
       "2021-03-06  28714654.0  ...  dae5e558c24adb86686bbd58c08cce5f610b8bb0\n",
       "2021-03-05  28654639.0  ...  724844c01659d0103801c57c0f72bf8cc8ab025c\n",
       "2021-03-04  28585852.0  ...  5c549ad30f9abf48dc5de36d20fa707014be1ff3\n",
       "2021-03-03  28520365.0  ...  fef6c425d2b773a9221fe353f13852f3e4a4bfb0\n",
       "...                ...  ...                                       ...\n",
       "2020-01-17         0.0  ...  5fd7ed7fb0f83565ea0aaaf5ff6104e5860be2d6\n",
       "2020-01-16         0.0  ...  4c0f2ea879eefec1a18a93bcd8a382ea56cd452d\n",
       "2020-01-15         0.0  ...  8a449023413eea473277416e9e30ae126c6af047\n",
       "2020-01-14         0.0  ...  fe399466a3dfbe0221a18ed5cacb39a3882d72f8\n",
       "2020-01-13         NaN  ...  5672debf187b183735be63f6bd85834ead0047ff\n",
       "\n",
       "[420 rows x 14 columns]"
      ]
     },
     "execution_count": 537,
     "metadata": {},
     "output_type": "execute_result"
    }
   ],
   "source": [
    "# md = covid.get_group_ts('MD')\n",
    "# md\n",
    "df_prev = covid.df_us.copy()\n",
    "df_prev"
   ]
  },
  {
   "cell_type": "markdown",
   "metadata": {},
   "source": [
    "### Columns to find from the covid tracking project dataset: \n",
    "\n",
    "- Old: \"hospitalizedCurrently\"/\"hospitalizedCumulative\"\n",
    "    - New: \"inpatient_beds_utilization\"\n",
    "- \"inIcuCurrently\",\"inIcuCumulative\"\n",
    "    - New: \"adult_icu_bed_utilization\n",
    "- \"onVentilatorCurrently\",\"onVentilatorCumulative\""
   ]
  },
  {
   "cell_type": "code",
   "execution_count": 538,
   "metadata": {
    "ExecuteTime": {
     "end_time": "2021-08-14T18:53:57.817203Z",
     "start_time": "2021-08-14T18:53:57.758842Z"
    }
   },
   "outputs": [
    {
     "data": {
      "text/plain": [
       "date\n",
       "2021-03-07    40199.0\n",
       "2021-03-06    41401.0\n",
       "2021-03-05    42541.0\n",
       "2021-03-04    44172.0\n",
       "2021-03-03    45462.0\n",
       "               ...   \n",
       "2020-01-17        NaN\n",
       "2020-01-16        NaN\n",
       "2020-01-15        NaN\n",
       "2020-01-14        NaN\n",
       "2020-01-13        NaN\n",
       "Name: hospitalizedCurrently, Length: 420, dtype: float64"
      ]
     },
     "execution_count": 538,
     "metadata": {},
     "output_type": "execute_result"
    }
   ],
   "source": [
    "df_prev['hospitalizedCurrently']"
   ]
  },
  {
   "cell_type": "code",
   "execution_count": 539,
   "metadata": {
    "ExecuteTime": {
     "end_time": "2021-08-14T18:53:58.172738Z",
     "start_time": "2021-08-14T18:53:57.819280Z"
    }
   },
   "outputs": [
    {
     "data": {
      "text/plain": [
       "<AxesSubplot:xlabel='date'>"
      ]
     },
     "execution_count": 539,
     "metadata": {},
     "output_type": "execute_result"
    },
    {
     "data": {
      "image/png": "[encoded data removed]",
      "text/plain": [
       "<Figure size 864x432 with 1 Axes>"
      ]
     },
     "metadata": {
      "needs_background": "light"
     },
     "output_type": "display_data"
    }
   ],
   "source": [
    "cols_to_find = ['hospitalizedCurrently','hospitalizedCumulative',\n",
    "               'inIcuCurrently','inIcuCumulative','onVentilatorCurrently',\n",
    "               'onVentilatorCumulative']\n",
    "df_prev[cols_to_find].plot()"
   ]
  },
  {
   "cell_type": "markdown",
   "metadata": {},
   "source": [
    "## New Data.Gov Hospital Data"
   ]
  },
  {
   "cell_type": "markdown",
   "metadata": {},
   "source": [
    "### `\"COVID-19 Reported Patient Impact and Hospital Capacity by State Timeseries API\"`\n",
    "- https://healthdata.gov/Hospital/COVID-19-Reported-Patient-Impact-and-Hospital-Capa/g62h-syeh"
   ]
  },
  {
   "cell_type": "markdown",
   "metadata": {},
   "source": [
    "- API URL (csv): https://healthdata.gov/resource/g62h-syeh.csv\n",
    "- ~~geojson url: https://healthdata.gov/resource/g62h-syeh.geojson~~"
   ]
  },
  {
   "cell_type": "code",
   "execution_count": 540,
   "metadata": {
    "ExecuteTime": {
     "end_time": "2021-08-14T18:53:58.226768Z",
     "start_time": "2021-08-14T18:53:58.174979Z"
    }
   },
   "outputs": [],
   "source": [
    "# df1_downloaded = pd.read_csv('/Users/jamesirving/Downloads/COVID-19_Reported_Patient_Impact_and_Hospital_Capacity_by_State_Timeseries.csv')\n",
    "# df1_downloaded"
   ]
  },
  {
   "cell_type": "code",
   "execution_count": 541,
   "metadata": {
    "ExecuteTime": {
     "end_time": "2021-08-14T18:53:59.086266Z",
     "start_time": "2021-08-14T18:53:58.228977Z"
    }
   },
   "outputs": [
    {
     "data": {
      "text/html": [
       "<div>\n",
       "<style scoped>\n",
       "    .dataframe tbody tr th:only-of-type {\n",
       "        vertical-align: middle;\n",
       "    }\n",
       "\n",
       "    .dataframe tbody tr th {\n",
       "        vertical-align: top;\n",
       "    }\n",
       "\n",
       "    .dataframe thead th {\n",
       "        text-align: right;\n",
       "    }\n",
       "</style>\n",
       "<table border=\"1\" class=\"dataframe\">\n",
       "  <thead>\n",
       "    <tr style=\"text-align: right;\">\n",
       "      <th></th>\n",
       "      <th>state</th>\n",
       "      <th>date</th>\n",
       "      <th>critical_staffing_shortage_today_yes</th>\n",
       "      <th>critical_staffing_shortage_today_no</th>\n",
       "      <th>critical_staffing_shortage_today_not_reported</th>\n",
       "      <th>critical_staffing_shortage_anticipated_within_week_yes</th>\n",
       "      <th>critical_staffing_shortage_anticipated_within_week_no</th>\n",
       "      <th>critical_staffing_shortage_anticipated_within_week_not_reported</th>\n",
       "      <th>hospital_onset_covid</th>\n",
       "      <th>hospital_onset_covid_coverage</th>\n",
       "      <th>inpatient_beds</th>\n",
       "      <th>inpatient_beds_coverage</th>\n",
       "      <th>inpatient_beds_used</th>\n",
       "      <th>inpatient_beds_used_coverage</th>\n",
       "      <th>inpatient_beds_used_covid</th>\n",
       "      <th>inpatient_beds_used_covid_coverage</th>\n",
       "      <th>previous_day_admission_adult_covid_confirmed</th>\n",
       "      <th>previous_day_admission_adult_covid_confirmed_coverage</th>\n",
       "      <th>previous_day_admission_adult_covid_suspected</th>\n",
       "      <th>previous_day_admission_adult_covid_suspected_coverage</th>\n",
       "      <th>previous_day_admission_pediatric_covid_confirmed</th>\n",
       "      <th>previous_day_admission_pediatric_covid_confirmed_coverage</th>\n",
       "      <th>previous_day_admission_pediatric_covid_suspected</th>\n",
       "      <th>previous_day_admission_pediatric_covid_suspected_coverage</th>\n",
       "      <th>staffed_adult_icu_bed_occupancy</th>\n",
       "      <th>staffed_adult_icu_bed_occupancy_coverage</th>\n",
       "      <th>staffed_icu_adult_patients_confirmed_and_suspected_covid</th>\n",
       "      <th>staffed_icu_adult_patients_confirmed_and_suspected_covid_coverage</th>\n",
       "      <th>staffed_icu_adult_patients_confirmed_covid</th>\n",
       "      <th>staffed_icu_adult_patients_confirmed_covid_coverage</th>\n",
       "      <th>total_adult_patients_hospitalized_confirmed_and_suspected_covid</th>\n",
       "      <th>total_adult_patients_hospitalized_confirmed_and_suspected_covid_coverage</th>\n",
       "      <th>total_adult_patients_hospitalized_confirmed_covid</th>\n",
       "      <th>total_adult_patients_hospitalized_confirmed_covid_coverage</th>\n",
       "      <th>total_pediatric_patients_hospitalized_confirmed_and_suspected_covid</th>\n",
       "      <th>total_pediatric_patients_hospitalized_confirmed_and_suspected_covid_coverage</th>\n",
       "      <th>total_pediatric_patients_hospitalized_confirmed_covid</th>\n",
       "      <th>total_pediatric_patients_hospitalized_confirmed_covid_coverage</th>\n",
       "      <th>total_staffed_adult_icu_beds</th>\n",
       "      <th>total_staffed_adult_icu_beds_coverage</th>\n",
       "      <th>...</th>\n",
       "      <th>adult_icu_bed_utilization_denominator</th>\n",
       "      <th>geocoded_state</th>\n",
       "      <th>previous_day_admission_adult_covid_confirmed_18_19</th>\n",
       "      <th>previous_day_admission_adult_covid_confirmed_18_19_coverage</th>\n",
       "      <th>previous_day_admission_adult_covid_confirmed_20_29</th>\n",
       "      <th>previous_day_admission_adult_covid_confirmed_20_29_coverage</th>\n",
       "      <th>previous_day_admission_adult_covid_confirmed_30_39</th>\n",
       "      <th>previous_day_admission_adult_covid_confirmed_30_39_coverage</th>\n",
       "      <th>previous_day_admission_adult_covid_confirmed_40_49</th>\n",
       "      <th>previous_day_admission_adult_covid_confirmed_40_49_coverage</th>\n",
       "      <th>previous_day_admission_adult_covid_confirmed_50_59</th>\n",
       "      <th>previous_day_admission_adult_covid_confirmed_50_59_coverage</th>\n",
       "      <th>previous_day_admission_adult_covid_confirmed_60_69</th>\n",
       "      <th>previous_day_admission_adult_covid_confirmed_60_69_coverage</th>\n",
       "      <th>previous_day_admission_adult_covid_confirmed_70_79</th>\n",
       "      <th>previous_day_admission_adult_covid_confirmed_70_79_coverage</th>\n",
       "      <th>previous_day_admission_adult_covid_confirmed_80</th>\n",
       "      <th>previous_day_admission_adult_covid_confirmed_80_coverage</th>\n",
       "      <th>previous_day_admission_adult_covid_confirmed_unknown</th>\n",
       "      <th>previous_day_admission_adult_covid_confirmed_unknown_coverage</th>\n",
       "      <th>previous_day_admission_adult_covid_suspected_18_19</th>\n",
       "      <th>previous_day_admission_adult_covid_suspected_18_19_coverage</th>\n",
       "      <th>previous_day_admission_adult_covid_suspected_20_29</th>\n",
       "      <th>previous_day_admission_adult_covid_suspected_20_29_coverage</th>\n",
       "      <th>previous_day_admission_adult_covid_suspected_30_39</th>\n",
       "      <th>previous_day_admission_adult_covid_suspected_30_39_coverage</th>\n",
       "      <th>previous_day_admission_adult_covid_suspected_40_49</th>\n",
       "      <th>previous_day_admission_adult_covid_suspected_40_49_coverage</th>\n",
       "      <th>previous_day_admission_adult_covid_suspected_50_59</th>\n",
       "      <th>previous_day_admission_adult_covid_suspected_50_59_coverage</th>\n",
       "      <th>previous_day_admission_adult_covid_suspected_60_69</th>\n",
       "      <th>previous_day_admission_adult_covid_suspected_60_69_coverage</th>\n",
       "      <th>previous_day_admission_adult_covid_suspected_70_79</th>\n",
       "      <th>previous_day_admission_adult_covid_suspected_70_79_coverage</th>\n",
       "      <th>previous_day_admission_adult_covid_suspected_80_</th>\n",
       "      <th>previous_day_admission_adult_covid_suspected_80_coverage</th>\n",
       "      <th>previous_day_admission_adult_covid_suspected_unknown</th>\n",
       "      <th>previous_day_admission_adult_covid_suspected_unknown_coverage</th>\n",
       "      <th>deaths_covid</th>\n",
       "      <th>deaths_covid_coverage</th>\n",
       "    </tr>\n",
       "  </thead>\n",
       "  <tbody>\n",
       "    <tr>\n",
       "      <th>42</th>\n",
       "      <td>AL</td>\n",
       "      <td>2020-02-15</td>\n",
       "      <td>0</td>\n",
       "      <td>0</td>\n",
       "      <td>1</td>\n",
       "      <td>0</td>\n",
       "      <td>0</td>\n",
       "      <td>1</td>\n",
       "      <td>NaN</td>\n",
       "      <td>0</td>\n",
       "      <td>6</td>\n",
       "      <td>1</td>\n",
       "      <td>NaN</td>\n",
       "      <td>0</td>\n",
       "      <td>NaN</td>\n",
       "      <td>0</td>\n",
       "      <td>NaN</td>\n",
       "      <td>0</td>\n",
       "      <td>NaN</td>\n",
       "      <td>0</td>\n",
       "      <td>NaN</td>\n",
       "      <td>0</td>\n",
       "      <td>NaN</td>\n",
       "      <td>0</td>\n",
       "      <td>NaN</td>\n",
       "      <td>0</td>\n",
       "      <td>NaN</td>\n",
       "      <td>0</td>\n",
       "      <td>NaN</td>\n",
       "      <td>0</td>\n",
       "      <td>NaN</td>\n",
       "      <td>0</td>\n",
       "      <td>NaN</td>\n",
       "      <td>0</td>\n",
       "      <td>NaN</td>\n",
       "      <td>0</td>\n",
       "      <td>NaN</td>\n",
       "      <td>0</td>\n",
       "      <td>NaN</td>\n",
       "      <td>0</td>\n",
       "      <td>...</td>\n",
       "      <td>NaN</td>\n",
       "      <td>NaN</td>\n",
       "      <td>NaN</td>\n",
       "      <td>0</td>\n",
       "      <td>NaN</td>\n",
       "      <td>0</td>\n",
       "      <td>NaN</td>\n",
       "      <td>0</td>\n",
       "      <td>NaN</td>\n",
       "      <td>0</td>\n",
       "      <td>NaN</td>\n",
       "      <td>0</td>\n",
       "      <td>NaN</td>\n",
       "      <td>0</td>\n",
       "      <td>NaN</td>\n",
       "      <td>0</td>\n",
       "      <td>NaN</td>\n",
       "      <td>0</td>\n",
       "      <td>NaN</td>\n",
       "      <td>0</td>\n",
       "      <td>NaN</td>\n",
       "      <td>0</td>\n",
       "      <td>NaN</td>\n",
       "      <td>0</td>\n",
       "      <td>NaN</td>\n",
       "      <td>0</td>\n",
       "      <td>NaN</td>\n",
       "      <td>0</td>\n",
       "      <td>NaN</td>\n",
       "      <td>0</td>\n",
       "      <td>NaN</td>\n",
       "      <td>0</td>\n",
       "      <td>NaN</td>\n",
       "      <td>0</td>\n",
       "      <td>NaN</td>\n",
       "      <td>0</td>\n",
       "      <td>NaN</td>\n",
       "      <td>0</td>\n",
       "      <td>NaN</td>\n",
       "      <td>0</td>\n",
       "    </tr>\n",
       "    <tr>\n",
       "      <th>41</th>\n",
       "      <td>AL</td>\n",
       "      <td>2020-02-25</td>\n",
       "      <td>0</td>\n",
       "      <td>0</td>\n",
       "      <td>1</td>\n",
       "      <td>0</td>\n",
       "      <td>0</td>\n",
       "      <td>1</td>\n",
       "      <td>NaN</td>\n",
       "      <td>0</td>\n",
       "      <td>6</td>\n",
       "      <td>1</td>\n",
       "      <td>NaN</td>\n",
       "      <td>0</td>\n",
       "      <td>NaN</td>\n",
       "      <td>0</td>\n",
       "      <td>NaN</td>\n",
       "      <td>0</td>\n",
       "      <td>NaN</td>\n",
       "      <td>0</td>\n",
       "      <td>NaN</td>\n",
       "      <td>0</td>\n",
       "      <td>NaN</td>\n",
       "      <td>0</td>\n",
       "      <td>NaN</td>\n",
       "      <td>0</td>\n",
       "      <td>NaN</td>\n",
       "      <td>0</td>\n",
       "      <td>NaN</td>\n",
       "      <td>0</td>\n",
       "      <td>NaN</td>\n",
       "      <td>0</td>\n",
       "      <td>NaN</td>\n",
       "      <td>0</td>\n",
       "      <td>NaN</td>\n",
       "      <td>0</td>\n",
       "      <td>NaN</td>\n",
       "      <td>0</td>\n",
       "      <td>NaN</td>\n",
       "      <td>0</td>\n",
       "      <td>...</td>\n",
       "      <td>NaN</td>\n",
       "      <td>NaN</td>\n",
       "      <td>NaN</td>\n",
       "      <td>0</td>\n",
       "      <td>NaN</td>\n",
       "      <td>0</td>\n",
       "      <td>NaN</td>\n",
       "      <td>0</td>\n",
       "      <td>NaN</td>\n",
       "      <td>0</td>\n",
       "      <td>NaN</td>\n",
       "      <td>0</td>\n",
       "      <td>NaN</td>\n",
       "      <td>0</td>\n",
       "      <td>NaN</td>\n",
       "      <td>0</td>\n",
       "      <td>NaN</td>\n",
       "      <td>0</td>\n",
       "      <td>NaN</td>\n",
       "      <td>0</td>\n",
       "      <td>NaN</td>\n",
       "      <td>0</td>\n",
       "      <td>NaN</td>\n",
       "      <td>0</td>\n",
       "      <td>NaN</td>\n",
       "      <td>0</td>\n",
       "      <td>NaN</td>\n",
       "      <td>0</td>\n",
       "      <td>NaN</td>\n",
       "      <td>0</td>\n",
       "      <td>NaN</td>\n",
       "      <td>0</td>\n",
       "      <td>NaN</td>\n",
       "      <td>0</td>\n",
       "      <td>NaN</td>\n",
       "      <td>0</td>\n",
       "      <td>NaN</td>\n",
       "      <td>0</td>\n",
       "      <td>NaN</td>\n",
       "      <td>0</td>\n",
       "    </tr>\n",
       "    <tr>\n",
       "      <th>40</th>\n",
       "      <td>MO</td>\n",
       "      <td>2020-02-29</td>\n",
       "      <td>0</td>\n",
       "      <td>0</td>\n",
       "      <td>1</td>\n",
       "      <td>0</td>\n",
       "      <td>0</td>\n",
       "      <td>1</td>\n",
       "      <td>0.0</td>\n",
       "      <td>1</td>\n",
       "      <td>12</td>\n",
       "      <td>1</td>\n",
       "      <td>NaN</td>\n",
       "      <td>0</td>\n",
       "      <td>0.0</td>\n",
       "      <td>1</td>\n",
       "      <td>NaN</td>\n",
       "      <td>0</td>\n",
       "      <td>NaN</td>\n",
       "      <td>0</td>\n",
       "      <td>NaN</td>\n",
       "      <td>0</td>\n",
       "      <td>NaN</td>\n",
       "      <td>0</td>\n",
       "      <td>NaN</td>\n",
       "      <td>0</td>\n",
       "      <td>NaN</td>\n",
       "      <td>0</td>\n",
       "      <td>NaN</td>\n",
       "      <td>0</td>\n",
       "      <td>NaN</td>\n",
       "      <td>0</td>\n",
       "      <td>NaN</td>\n",
       "      <td>0</td>\n",
       "      <td>NaN</td>\n",
       "      <td>0</td>\n",
       "      <td>NaN</td>\n",
       "      <td>0</td>\n",
       "      <td>NaN</td>\n",
       "      <td>0</td>\n",
       "      <td>...</td>\n",
       "      <td>NaN</td>\n",
       "      <td>NaN</td>\n",
       "      <td>NaN</td>\n",
       "      <td>0</td>\n",
       "      <td>NaN</td>\n",
       "      <td>0</td>\n",
       "      <td>NaN</td>\n",
       "      <td>0</td>\n",
       "      <td>NaN</td>\n",
       "      <td>0</td>\n",
       "      <td>NaN</td>\n",
       "      <td>0</td>\n",
       "      <td>NaN</td>\n",
       "      <td>0</td>\n",
       "      <td>NaN</td>\n",
       "      <td>0</td>\n",
       "      <td>NaN</td>\n",
       "      <td>0</td>\n",
       "      <td>NaN</td>\n",
       "      <td>0</td>\n",
       "      <td>NaN</td>\n",
       "      <td>0</td>\n",
       "      <td>NaN</td>\n",
       "      <td>0</td>\n",
       "      <td>NaN</td>\n",
       "      <td>0</td>\n",
       "      <td>NaN</td>\n",
       "      <td>0</td>\n",
       "      <td>NaN</td>\n",
       "      <td>0</td>\n",
       "      <td>NaN</td>\n",
       "      <td>0</td>\n",
       "      <td>NaN</td>\n",
       "      <td>0</td>\n",
       "      <td>NaN</td>\n",
       "      <td>0</td>\n",
       "      <td>NaN</td>\n",
       "      <td>0</td>\n",
       "      <td>0.0</td>\n",
       "      <td>1</td>\n",
       "    </tr>\n",
       "    <tr>\n",
       "      <th>53</th>\n",
       "      <td>IA</td>\n",
       "      <td>2020-03-05</td>\n",
       "      <td>0</td>\n",
       "      <td>0</td>\n",
       "      <td>4</td>\n",
       "      <td>0</td>\n",
       "      <td>0</td>\n",
       "      <td>4</td>\n",
       "      <td>0.0</td>\n",
       "      <td>3</td>\n",
       "      <td>198</td>\n",
       "      <td>4</td>\n",
       "      <td>46.0</td>\n",
       "      <td>3</td>\n",
       "      <td>3.0</td>\n",
       "      <td>3</td>\n",
       "      <td>NaN</td>\n",
       "      <td>0</td>\n",
       "      <td>NaN</td>\n",
       "      <td>0</td>\n",
       "      <td>NaN</td>\n",
       "      <td>0</td>\n",
       "      <td>NaN</td>\n",
       "      <td>0</td>\n",
       "      <td>NaN</td>\n",
       "      <td>0</td>\n",
       "      <td>NaN</td>\n",
       "      <td>0</td>\n",
       "      <td>NaN</td>\n",
       "      <td>0</td>\n",
       "      <td>NaN</td>\n",
       "      <td>0</td>\n",
       "      <td>NaN</td>\n",
       "      <td>0</td>\n",
       "      <td>NaN</td>\n",
       "      <td>0</td>\n",
       "      <td>NaN</td>\n",
       "      <td>0</td>\n",
       "      <td>NaN</td>\n",
       "      <td>0</td>\n",
       "      <td>...</td>\n",
       "      <td>NaN</td>\n",
       "      <td>NaN</td>\n",
       "      <td>NaN</td>\n",
       "      <td>0</td>\n",
       "      <td>NaN</td>\n",
       "      <td>0</td>\n",
       "      <td>NaN</td>\n",
       "      <td>0</td>\n",
       "      <td>NaN</td>\n",
       "      <td>0</td>\n",
       "      <td>NaN</td>\n",
       "      <td>0</td>\n",
       "      <td>NaN</td>\n",
       "      <td>0</td>\n",
       "      <td>NaN</td>\n",
       "      <td>0</td>\n",
       "      <td>NaN</td>\n",
       "      <td>0</td>\n",
       "      <td>NaN</td>\n",
       "      <td>0</td>\n",
       "      <td>NaN</td>\n",
       "      <td>0</td>\n",
       "      <td>NaN</td>\n",
       "      <td>0</td>\n",
       "      <td>NaN</td>\n",
       "      <td>0</td>\n",
       "      <td>NaN</td>\n",
       "      <td>0</td>\n",
       "      <td>NaN</td>\n",
       "      <td>0</td>\n",
       "      <td>NaN</td>\n",
       "      <td>0</td>\n",
       "      <td>NaN</td>\n",
       "      <td>0</td>\n",
       "      <td>NaN</td>\n",
       "      <td>0</td>\n",
       "      <td>NaN</td>\n",
       "      <td>0</td>\n",
       "      <td>0.0</td>\n",
       "      <td>3</td>\n",
       "    </tr>\n",
       "    <tr>\n",
       "      <th>916</th>\n",
       "      <td>KY</td>\n",
       "      <td>2020-03-05</td>\n",
       "      <td>0</td>\n",
       "      <td>0</td>\n",
       "      <td>2</td>\n",
       "      <td>0</td>\n",
       "      <td>0</td>\n",
       "      <td>2</td>\n",
       "      <td>0.0</td>\n",
       "      <td>2</td>\n",
       "      <td>320</td>\n",
       "      <td>2</td>\n",
       "      <td>158.0</td>\n",
       "      <td>2</td>\n",
       "      <td>1.0</td>\n",
       "      <td>2</td>\n",
       "      <td>NaN</td>\n",
       "      <td>0</td>\n",
       "      <td>NaN</td>\n",
       "      <td>0</td>\n",
       "      <td>NaN</td>\n",
       "      <td>0</td>\n",
       "      <td>NaN</td>\n",
       "      <td>0</td>\n",
       "      <td>NaN</td>\n",
       "      <td>0</td>\n",
       "      <td>NaN</td>\n",
       "      <td>0</td>\n",
       "      <td>NaN</td>\n",
       "      <td>0</td>\n",
       "      <td>NaN</td>\n",
       "      <td>0</td>\n",
       "      <td>NaN</td>\n",
       "      <td>0</td>\n",
       "      <td>NaN</td>\n",
       "      <td>0</td>\n",
       "      <td>NaN</td>\n",
       "      <td>0</td>\n",
       "      <td>NaN</td>\n",
       "      <td>0</td>\n",
       "      <td>...</td>\n",
       "      <td>NaN</td>\n",
       "      <td>NaN</td>\n",
       "      <td>NaN</td>\n",
       "      <td>0</td>\n",
       "      <td>NaN</td>\n",
       "      <td>0</td>\n",
       "      <td>NaN</td>\n",
       "      <td>0</td>\n",
       "      <td>NaN</td>\n",
       "      <td>0</td>\n",
       "      <td>NaN</td>\n",
       "      <td>0</td>\n",
       "      <td>NaN</td>\n",
       "      <td>0</td>\n",
       "      <td>NaN</td>\n",
       "      <td>0</td>\n",
       "      <td>NaN</td>\n",
       "      <td>0</td>\n",
       "      <td>NaN</td>\n",
       "      <td>0</td>\n",
       "      <td>NaN</td>\n",
       "      <td>0</td>\n",
       "      <td>NaN</td>\n",
       "      <td>0</td>\n",
       "      <td>NaN</td>\n",
       "      <td>0</td>\n",
       "      <td>NaN</td>\n",
       "      <td>0</td>\n",
       "      <td>NaN</td>\n",
       "      <td>0</td>\n",
       "      <td>NaN</td>\n",
       "      <td>0</td>\n",
       "      <td>NaN</td>\n",
       "      <td>0</td>\n",
       "      <td>NaN</td>\n",
       "      <td>0</td>\n",
       "      <td>NaN</td>\n",
       "      <td>0</td>\n",
       "      <td>0.0</td>\n",
       "      <td>2</td>\n",
       "    </tr>\n",
       "    <tr>\n",
       "      <th>...</th>\n",
       "      <td>...</td>\n",
       "      <td>...</td>\n",
       "      <td>...</td>\n",
       "      <td>...</td>\n",
       "      <td>...</td>\n",
       "      <td>...</td>\n",
       "      <td>...</td>\n",
       "      <td>...</td>\n",
       "      <td>...</td>\n",
       "      <td>...</td>\n",
       "      <td>...</td>\n",
       "      <td>...</td>\n",
       "      <td>...</td>\n",
       "      <td>...</td>\n",
       "      <td>...</td>\n",
       "      <td>...</td>\n",
       "      <td>...</td>\n",
       "      <td>...</td>\n",
       "      <td>...</td>\n",
       "      <td>...</td>\n",
       "      <td>...</td>\n",
       "      <td>...</td>\n",
       "      <td>...</td>\n",
       "      <td>...</td>\n",
       "      <td>...</td>\n",
       "      <td>...</td>\n",
       "      <td>...</td>\n",
       "      <td>...</td>\n",
       "      <td>...</td>\n",
       "      <td>...</td>\n",
       "      <td>...</td>\n",
       "      <td>...</td>\n",
       "      <td>...</td>\n",
       "      <td>...</td>\n",
       "      <td>...</td>\n",
       "      <td>...</td>\n",
       "      <td>...</td>\n",
       "      <td>...</td>\n",
       "      <td>...</td>\n",
       "      <td>...</td>\n",
       "      <td>...</td>\n",
       "      <td>...</td>\n",
       "      <td>...</td>\n",
       "      <td>...</td>\n",
       "      <td>...</td>\n",
       "      <td>...</td>\n",
       "      <td>...</td>\n",
       "      <td>...</td>\n",
       "      <td>...</td>\n",
       "      <td>...</td>\n",
       "      <td>...</td>\n",
       "      <td>...</td>\n",
       "      <td>...</td>\n",
       "      <td>...</td>\n",
       "      <td>...</td>\n",
       "      <td>...</td>\n",
       "      <td>...</td>\n",
       "      <td>...</td>\n",
       "      <td>...</td>\n",
       "      <td>...</td>\n",
       "      <td>...</td>\n",
       "      <td>...</td>\n",
       "      <td>...</td>\n",
       "      <td>...</td>\n",
       "      <td>...</td>\n",
       "      <td>...</td>\n",
       "      <td>...</td>\n",
       "      <td>...</td>\n",
       "      <td>...</td>\n",
       "      <td>...</td>\n",
       "      <td>...</td>\n",
       "      <td>...</td>\n",
       "      <td>...</td>\n",
       "      <td>...</td>\n",
       "      <td>...</td>\n",
       "      <td>...</td>\n",
       "      <td>...</td>\n",
       "      <td>...</td>\n",
       "      <td>...</td>\n",
       "      <td>...</td>\n",
       "      <td>...</td>\n",
       "    </tr>\n",
       "    <tr>\n",
       "      <th>381</th>\n",
       "      <td>IL</td>\n",
       "      <td>2020-12-29</td>\n",
       "      <td>25</td>\n",
       "      <td>151</td>\n",
       "      <td>15</td>\n",
       "      <td>23</td>\n",
       "      <td>153</td>\n",
       "      <td>15</td>\n",
       "      <td>66.0</td>\n",
       "      <td>186</td>\n",
       "      <td>30183</td>\n",
       "      <td>191</td>\n",
       "      <td>20481.0</td>\n",
       "      <td>191</td>\n",
       "      <td>4329.0</td>\n",
       "      <td>186</td>\n",
       "      <td>441.0</td>\n",
       "      <td>191</td>\n",
       "      <td>462.0</td>\n",
       "      <td>186</td>\n",
       "      <td>6.0</td>\n",
       "      <td>186</td>\n",
       "      <td>24.0</td>\n",
       "      <td>186</td>\n",
       "      <td>2381.0</td>\n",
       "      <td>191</td>\n",
       "      <td>895.0</td>\n",
       "      <td>186</td>\n",
       "      <td>819.0</td>\n",
       "      <td>191</td>\n",
       "      <td>4276.0</td>\n",
       "      <td>186</td>\n",
       "      <td>3748.0</td>\n",
       "      <td>191</td>\n",
       "      <td>53.0</td>\n",
       "      <td>186</td>\n",
       "      <td>24.0</td>\n",
       "      <td>186</td>\n",
       "      <td>3577.0</td>\n",
       "      <td>191</td>\n",
       "      <td>...</td>\n",
       "      <td>3577.0</td>\n",
       "      <td>NaN</td>\n",
       "      <td>1.0</td>\n",
       "      <td>189</td>\n",
       "      <td>20.0</td>\n",
       "      <td>189</td>\n",
       "      <td>26.0</td>\n",
       "      <td>189</td>\n",
       "      <td>24.0</td>\n",
       "      <td>190</td>\n",
       "      <td>68.0</td>\n",
       "      <td>190</td>\n",
       "      <td>90.0</td>\n",
       "      <td>190</td>\n",
       "      <td>108.0</td>\n",
       "      <td>190</td>\n",
       "      <td>100.0</td>\n",
       "      <td>190</td>\n",
       "      <td>4.0</td>\n",
       "      <td>182</td>\n",
       "      <td>8.0</td>\n",
       "      <td>184</td>\n",
       "      <td>30.0</td>\n",
       "      <td>184</td>\n",
       "      <td>33.0</td>\n",
       "      <td>184</td>\n",
       "      <td>51.0</td>\n",
       "      <td>185</td>\n",
       "      <td>74.0</td>\n",
       "      <td>184</td>\n",
       "      <td>85.0</td>\n",
       "      <td>185</td>\n",
       "      <td>93.0</td>\n",
       "      <td>185</td>\n",
       "      <td>80.0</td>\n",
       "      <td>185</td>\n",
       "      <td>8.0</td>\n",
       "      <td>177</td>\n",
       "      <td>68.0</td>\n",
       "      <td>186</td>\n",
       "    </tr>\n",
       "    <tr>\n",
       "      <th>981</th>\n",
       "      <td>NC</td>\n",
       "      <td>2020-12-29</td>\n",
       "      <td>6</td>\n",
       "      <td>108</td>\n",
       "      <td>4</td>\n",
       "      <td>6</td>\n",
       "      <td>108</td>\n",
       "      <td>4</td>\n",
       "      <td>30.0</td>\n",
       "      <td>114</td>\n",
       "      <td>22020</td>\n",
       "      <td>118</td>\n",
       "      <td>17122.0</td>\n",
       "      <td>118</td>\n",
       "      <td>3546.0</td>\n",
       "      <td>114</td>\n",
       "      <td>384.0</td>\n",
       "      <td>118</td>\n",
       "      <td>291.0</td>\n",
       "      <td>114</td>\n",
       "      <td>5.0</td>\n",
       "      <td>114</td>\n",
       "      <td>12.0</td>\n",
       "      <td>114</td>\n",
       "      <td>2092.0</td>\n",
       "      <td>118</td>\n",
       "      <td>789.0</td>\n",
       "      <td>114</td>\n",
       "      <td>787.0</td>\n",
       "      <td>118</td>\n",
       "      <td>3513.0</td>\n",
       "      <td>114</td>\n",
       "      <td>3237.0</td>\n",
       "      <td>118</td>\n",
       "      <td>33.0</td>\n",
       "      <td>114</td>\n",
       "      <td>21.0</td>\n",
       "      <td>114</td>\n",
       "      <td>2498.0</td>\n",
       "      <td>118</td>\n",
       "      <td>...</td>\n",
       "      <td>2498.0</td>\n",
       "      <td>NaN</td>\n",
       "      <td>2.0</td>\n",
       "      <td>118</td>\n",
       "      <td>12.0</td>\n",
       "      <td>118</td>\n",
       "      <td>16.0</td>\n",
       "      <td>118</td>\n",
       "      <td>24.0</td>\n",
       "      <td>118</td>\n",
       "      <td>53.0</td>\n",
       "      <td>118</td>\n",
       "      <td>86.0</td>\n",
       "      <td>118</td>\n",
       "      <td>98.0</td>\n",
       "      <td>118</td>\n",
       "      <td>93.0</td>\n",
       "      <td>118</td>\n",
       "      <td>0.0</td>\n",
       "      <td>118</td>\n",
       "      <td>0.0</td>\n",
       "      <td>114</td>\n",
       "      <td>13.0</td>\n",
       "      <td>114</td>\n",
       "      <td>16.0</td>\n",
       "      <td>114</td>\n",
       "      <td>28.0</td>\n",
       "      <td>114</td>\n",
       "      <td>50.0</td>\n",
       "      <td>114</td>\n",
       "      <td>46.0</td>\n",
       "      <td>114</td>\n",
       "      <td>75.0</td>\n",
       "      <td>114</td>\n",
       "      <td>63.0</td>\n",
       "      <td>114</td>\n",
       "      <td>0.0</td>\n",
       "      <td>114</td>\n",
       "      <td>57.0</td>\n",
       "      <td>114</td>\n",
       "    </tr>\n",
       "    <tr>\n",
       "      <th>66</th>\n",
       "      <td>NJ</td>\n",
       "      <td>2020-12-29</td>\n",
       "      <td>10</td>\n",
       "      <td>66</td>\n",
       "      <td>2</td>\n",
       "      <td>10</td>\n",
       "      <td>66</td>\n",
       "      <td>2</td>\n",
       "      <td>171.0</td>\n",
       "      <td>77</td>\n",
       "      <td>20476</td>\n",
       "      <td>78</td>\n",
       "      <td>15186.0</td>\n",
       "      <td>78</td>\n",
       "      <td>3833.0</td>\n",
       "      <td>77</td>\n",
       "      <td>420.0</td>\n",
       "      <td>78</td>\n",
       "      <td>202.0</td>\n",
       "      <td>77</td>\n",
       "      <td>1.0</td>\n",
       "      <td>77</td>\n",
       "      <td>5.0</td>\n",
       "      <td>77</td>\n",
       "      <td>1660.0</td>\n",
       "      <td>78</td>\n",
       "      <td>664.0</td>\n",
       "      <td>77</td>\n",
       "      <td>648.0</td>\n",
       "      <td>78</td>\n",
       "      <td>3817.0</td>\n",
       "      <td>77</td>\n",
       "      <td>3598.0</td>\n",
       "      <td>78</td>\n",
       "      <td>16.0</td>\n",
       "      <td>77</td>\n",
       "      <td>6.0</td>\n",
       "      <td>77</td>\n",
       "      <td>2432.0</td>\n",
       "      <td>78</td>\n",
       "      <td>...</td>\n",
       "      <td>2432.0</td>\n",
       "      <td>NaN</td>\n",
       "      <td>1.0</td>\n",
       "      <td>78</td>\n",
       "      <td>13.0</td>\n",
       "      <td>78</td>\n",
       "      <td>22.0</td>\n",
       "      <td>78</td>\n",
       "      <td>36.0</td>\n",
       "      <td>78</td>\n",
       "      <td>57.0</td>\n",
       "      <td>78</td>\n",
       "      <td>82.0</td>\n",
       "      <td>78</td>\n",
       "      <td>97.0</td>\n",
       "      <td>78</td>\n",
       "      <td>97.0</td>\n",
       "      <td>78</td>\n",
       "      <td>15.0</td>\n",
       "      <td>78</td>\n",
       "      <td>1.0</td>\n",
       "      <td>77</td>\n",
       "      <td>14.0</td>\n",
       "      <td>77</td>\n",
       "      <td>9.0</td>\n",
       "      <td>77</td>\n",
       "      <td>15.0</td>\n",
       "      <td>77</td>\n",
       "      <td>25.0</td>\n",
       "      <td>77</td>\n",
       "      <td>24.0</td>\n",
       "      <td>77</td>\n",
       "      <td>26.0</td>\n",
       "      <td>77</td>\n",
       "      <td>31.0</td>\n",
       "      <td>77</td>\n",
       "      <td>57.0</td>\n",
       "      <td>77</td>\n",
       "      <td>66.0</td>\n",
       "      <td>77</td>\n",
       "    </tr>\n",
       "    <tr>\n",
       "      <th>889</th>\n",
       "      <td>WY</td>\n",
       "      <td>2020-12-30</td>\n",
       "      <td>5</td>\n",
       "      <td>24</td>\n",
       "      <td>2</td>\n",
       "      <td>6</td>\n",
       "      <td>23</td>\n",
       "      <td>2</td>\n",
       "      <td>5.0</td>\n",
       "      <td>29</td>\n",
       "      <td>1721</td>\n",
       "      <td>31</td>\n",
       "      <td>829.0</td>\n",
       "      <td>31</td>\n",
       "      <td>125.0</td>\n",
       "      <td>29</td>\n",
       "      <td>19.0</td>\n",
       "      <td>31</td>\n",
       "      <td>15.0</td>\n",
       "      <td>29</td>\n",
       "      <td>0.0</td>\n",
       "      <td>29</td>\n",
       "      <td>2.0</td>\n",
       "      <td>29</td>\n",
       "      <td>56.0</td>\n",
       "      <td>31</td>\n",
       "      <td>25.0</td>\n",
       "      <td>29</td>\n",
       "      <td>25.0</td>\n",
       "      <td>31</td>\n",
       "      <td>125.0</td>\n",
       "      <td>29</td>\n",
       "      <td>117.0</td>\n",
       "      <td>31</td>\n",
       "      <td>0.0</td>\n",
       "      <td>29</td>\n",
       "      <td>0.0</td>\n",
       "      <td>29</td>\n",
       "      <td>138.0</td>\n",
       "      <td>31</td>\n",
       "      <td>...</td>\n",
       "      <td>138.0</td>\n",
       "      <td>NaN</td>\n",
       "      <td>0.0</td>\n",
       "      <td>31</td>\n",
       "      <td>0.0</td>\n",
       "      <td>31</td>\n",
       "      <td>0.0</td>\n",
       "      <td>31</td>\n",
       "      <td>1.0</td>\n",
       "      <td>31</td>\n",
       "      <td>2.0</td>\n",
       "      <td>31</td>\n",
       "      <td>8.0</td>\n",
       "      <td>31</td>\n",
       "      <td>2.0</td>\n",
       "      <td>31</td>\n",
       "      <td>6.0</td>\n",
       "      <td>31</td>\n",
       "      <td>0.0</td>\n",
       "      <td>31</td>\n",
       "      <td>0.0</td>\n",
       "      <td>29</td>\n",
       "      <td>0.0</td>\n",
       "      <td>29</td>\n",
       "      <td>0.0</td>\n",
       "      <td>29</td>\n",
       "      <td>2.0</td>\n",
       "      <td>29</td>\n",
       "      <td>3.0</td>\n",
       "      <td>29</td>\n",
       "      <td>3.0</td>\n",
       "      <td>29</td>\n",
       "      <td>4.0</td>\n",
       "      <td>29</td>\n",
       "      <td>3.0</td>\n",
       "      <td>29</td>\n",
       "      <td>0.0</td>\n",
       "      <td>29</td>\n",
       "      <td>0.0</td>\n",
       "      <td>29</td>\n",
       "    </tr>\n",
       "    <tr>\n",
       "      <th>39</th>\n",
       "      <td>VI</td>\n",
       "      <td>2021-07-04</td>\n",
       "      <td>2</td>\n",
       "      <td>0</td>\n",
       "      <td>0</td>\n",
       "      <td>2</td>\n",
       "      <td>0</td>\n",
       "      <td>0</td>\n",
       "      <td>0.0</td>\n",
       "      <td>2</td>\n",
       "      <td>168</td>\n",
       "      <td>2</td>\n",
       "      <td>89.0</td>\n",
       "      <td>2</td>\n",
       "      <td>5.0</td>\n",
       "      <td>2</td>\n",
       "      <td>1.0</td>\n",
       "      <td>2</td>\n",
       "      <td>0.0</td>\n",
       "      <td>2</td>\n",
       "      <td>0.0</td>\n",
       "      <td>2</td>\n",
       "      <td>0.0</td>\n",
       "      <td>2</td>\n",
       "      <td>7.0</td>\n",
       "      <td>2</td>\n",
       "      <td>2.0</td>\n",
       "      <td>2</td>\n",
       "      <td>2.0</td>\n",
       "      <td>2</td>\n",
       "      <td>5.0</td>\n",
       "      <td>2</td>\n",
       "      <td>4.0</td>\n",
       "      <td>2</td>\n",
       "      <td>0.0</td>\n",
       "      <td>2</td>\n",
       "      <td>0.0</td>\n",
       "      <td>2</td>\n",
       "      <td>20.0</td>\n",
       "      <td>2</td>\n",
       "      <td>...</td>\n",
       "      <td>20.0</td>\n",
       "      <td>NaN</td>\n",
       "      <td>0.0</td>\n",
       "      <td>2</td>\n",
       "      <td>0.0</td>\n",
       "      <td>1</td>\n",
       "      <td>0.0</td>\n",
       "      <td>1</td>\n",
       "      <td>0.0</td>\n",
       "      <td>1</td>\n",
       "      <td>0.0</td>\n",
       "      <td>1</td>\n",
       "      <td>0.0</td>\n",
       "      <td>1</td>\n",
       "      <td>0.0</td>\n",
       "      <td>1</td>\n",
       "      <td>0.0</td>\n",
       "      <td>1</td>\n",
       "      <td>1.0</td>\n",
       "      <td>2</td>\n",
       "      <td>0.0</td>\n",
       "      <td>2</td>\n",
       "      <td>0.0</td>\n",
       "      <td>1</td>\n",
       "      <td>0.0</td>\n",
       "      <td>1</td>\n",
       "      <td>0.0</td>\n",
       "      <td>1</td>\n",
       "      <td>0.0</td>\n",
       "      <td>1</td>\n",
       "      <td>0.0</td>\n",
       "      <td>1</td>\n",
       "      <td>0.0</td>\n",
       "      <td>1</td>\n",
       "      <td>0.0</td>\n",
       "      <td>1</td>\n",
       "      <td>0.0</td>\n",
       "      <td>2</td>\n",
       "      <td>0.0</td>\n",
       "      <td>2</td>\n",
       "    </tr>\n",
       "  </tbody>\n",
       "</table>\n",
       "<p>1000 rows × 99 columns</p>\n",
       "</div>"
      ],
      "text/plain": [
       "    state       date  ...  deaths_covid  deaths_covid_coverage\n",
       "42     AL 2020-02-15  ...           NaN                      0\n",
       "41     AL 2020-02-25  ...           NaN                      0\n",
       "40     MO 2020-02-29  ...           0.0                      1\n",
       "53     IA 2020-03-05  ...           0.0                      3\n",
       "916    KY 2020-03-05  ...           0.0                      2\n",
       "..    ...        ...  ...           ...                    ...\n",
       "381    IL 2020-12-29  ...          68.0                    186\n",
       "981    NC 2020-12-29  ...          57.0                    114\n",
       "66     NJ 2020-12-29  ...          66.0                     77\n",
       "889    WY 2020-12-30  ...           0.0                     29\n",
       "39     VI 2021-07-04  ...           0.0                      2\n",
       "\n",
       "[1000 rows x 99 columns]"
      ]
     },
     "execution_count": 541,
     "metadata": {},
     "output_type": "execute_result"
    }
   ],
   "source": [
    "base_url = 'https://healthdata.gov/resource/g62h-syeh.csv'\n",
    "df1 = pd.read_csv(base_url)\n",
    "df1['date'] = pd.to_datetime(df1['date'])\n",
    "df1.sort_values('date')"
   ]
  },
  {
   "cell_type": "markdown",
   "metadata": {},
   "source": [
    "### Why do I get more data if I download? Pagination?\n",
    "- https://dev.socrata.com/docs/paging.html"
   ]
  },
  {
   "cell_type": "code",
   "execution_count": 542,
   "metadata": {
    "ExecuteTime": {
     "end_time": "2021-08-14T18:53:59.135730Z",
     "start_time": "2021-08-14T18:53:59.088107Z"
    }
   },
   "outputs": [],
   "source": [
    "# url =base_url+\"?$offset=1000\"\n",
    "# pd.read_csv(url)"
   ]
  },
  {
   "cell_type": "code",
   "execution_count": 543,
   "metadata": {
    "ExecuteTime": {
     "end_time": "2021-08-14T18:53:59.188145Z",
     "start_time": "2021-08-14T18:53:59.137897Z"
    }
   },
   "outputs": [],
   "source": [
    "## Getting Hospital Capacity Data\n",
    "# base_url = 'https://healthdata.gov/resource/g62h-syeh.csv'\n",
    "# df1 = pd.read_csv(base_url)\n",
    "# df1['date'] = pd.to_datetime(df1['date'])\n",
    "# df1 = df1.sort_values(['state','date'])\n",
    "# df1"
   ]
  },
  {
   "cell_type": "code",
   "execution_count": null,
   "metadata": {},
   "outputs": [],
   "source": []
  },
  {
   "cell_type": "markdown",
   "metadata": {},
   "source": [
    "### Def Function to Get Pages of Data from HHS"
   ]
  },
  {
   "cell_type": "code",
   "execution_count": 544,
   "metadata": {
    "ExecuteTime": {
     "end_time": "2021-08-14T18:53:59.242005Z",
     "start_time": "2021-08-14T18:53:59.190580Z"
    }
   },
   "outputs": [],
   "source": [
    "def get_hospital_data():\n",
    "    offset = 0\n",
    "    ## Getting Hospital Capacity Data\n",
    "    base_url = 'https://healthdata.gov/resource/g62h-syeh.csv'\n",
    "    page = 0\n",
    "    results = []\n",
    "\n",
    "    ## seting random, large page-len\n",
    "    page_len = 1000\n",
    "\n",
    "    while (page_len>0):\n",
    "        try:\n",
    "            print(f\"[i] Page {page} (offset = {offset})\")\n",
    "            url = base_url+f\"?$offset={offset}\"\n",
    "            df_temp = pd.read_csv(url)\n",
    "            results.append(df_temp)\n",
    "\n",
    "            page_len = len(df_temp)\n",
    "            offset+=page_len\n",
    "            page+=1\n",
    "        except Exception as e:\n",
    "            print('[!] ERROR:')\n",
    "            print(e)\n",
    "            print('-- returning raw results list instead of dataframe..')\n",
    "            return results\n",
    "        \n",
    "    return pd.concat(results)\n",
    "\n",
    "# hospital_df = get_hospital_data()\n",
    "# hospital_df"
   ]
  },
  {
   "cell_type": "code",
   "execution_count": 545,
   "metadata": {
    "ExecuteTime": {
     "end_time": "2021-08-14T18:54:09.858469Z",
     "start_time": "2021-08-14T18:53:59.244271Z"
    }
   },
   "outputs": [
    {
     "name": "stdout",
     "output_type": "stream",
     "text": [
      "[i] Page 0 (offset = 0)\n",
      "[i] Page 1 (offset = 1000)\n",
      "[i] Page 2 (offset = 2000)\n",
      "[i] Page 3 (offset = 3000)\n",
      "[i] Page 4 (offset = 4000)\n",
      "[i] Page 5 (offset = 5000)\n",
      "[i] Page 6 (offset = 6000)\n",
      "[i] Page 7 (offset = 7000)\n",
      "[i] Page 8 (offset = 8000)\n",
      "[i] Page 9 (offset = 9000)\n",
      "[i] Page 10 (offset = 10000)\n",
      "[i] Page 11 (offset = 11000)\n",
      "[i] Page 12 (offset = 12000)\n",
      "[i] Page 13 (offset = 13000)\n",
      "[i] Page 14 (offset = 14000)\n",
      "[i] Page 15 (offset = 15000)\n",
      "[i] Page 16 (offset = 16000)\n",
      "[i] Page 17 (offset = 17000)\n",
      "[i] Page 18 (offset = 18000)\n",
      "[i] Page 19 (offset = 19000)\n",
      "[i] Page 20 (offset = 20000)\n",
      "[i] Page 21 (offset = 21000)\n"
     ]
    },
    {
     "ename": "KeyboardInterrupt",
     "evalue": "",
     "output_type": "error",
     "traceback": [
      "\u001b[0;31m---------------------------------------------------------------------------\u001b[0m",
      "\u001b[0;31mKeyboardInterrupt\u001b[0m                         Traceback (most recent call last)",
      "\u001b[0;32m<ipython-input-545-b1d12530f916>\u001b[0m in \u001b[0;36m<module>\u001b[0;34m\u001b[0m\n\u001b[1;32m      1\u001b[0m \u001b[0;31m## Get hospital data with function\u001b[0m\u001b[0;34m\u001b[0m\u001b[0;34m\u001b[0m\u001b[0;34m\u001b[0m\u001b[0m\n\u001b[0;32m----> 2\u001b[0;31m \u001b[0mdf1\u001b[0m \u001b[0;34m=\u001b[0m \u001b[0mget_hospital_data\u001b[0m\u001b[0;34m(\u001b[0m\u001b[0;34m)\u001b[0m\u001b[0;34m\u001b[0m\u001b[0;34m\u001b[0m\u001b[0m\n\u001b[0m\u001b[1;32m      3\u001b[0m \u001b[0mdf1\u001b[0m\u001b[0;34m[\u001b[0m\u001b[0;34m'date'\u001b[0m\u001b[0;34m]\u001b[0m \u001b[0;34m=\u001b[0m \u001b[0mpd\u001b[0m\u001b[0;34m.\u001b[0m\u001b[0mto_datetime\u001b[0m\u001b[0;34m(\u001b[0m\u001b[0mdf1\u001b[0m\u001b[0;34m[\u001b[0m\u001b[0;34m'date'\u001b[0m\u001b[0;34m]\u001b[0m\u001b[0;34m)\u001b[0m\u001b[0;34m\u001b[0m\u001b[0;34m\u001b[0m\u001b[0m\n\u001b[1;32m      4\u001b[0m \u001b[0mdf1\u001b[0m \u001b[0;34m=\u001b[0m \u001b[0mdf1\u001b[0m\u001b[0;34m.\u001b[0m\u001b[0msort_values\u001b[0m\u001b[0;34m(\u001b[0m\u001b[0;34m[\u001b[0m\u001b[0;34m'state'\u001b[0m\u001b[0;34m,\u001b[0m\u001b[0;34m'date'\u001b[0m\u001b[0;34m]\u001b[0m\u001b[0;34m)\u001b[0m\u001b[0;34m\u001b[0m\u001b[0;34m\u001b[0m\u001b[0m\n\u001b[1;32m      5\u001b[0m \u001b[0mdf1\u001b[0m\u001b[0;34m\u001b[0m\u001b[0;34m\u001b[0m\u001b[0m\n",
      "\u001b[0;32m<ipython-input-544-c3f2858cc5a9>\u001b[0m in \u001b[0;36mget_hospital_data\u001b[0;34m()\u001b[0m\n\u001b[1;32m     13\u001b[0m             \u001b[0mprint\u001b[0m\u001b[0;34m(\u001b[0m\u001b[0;34mf\"[i] Page {page} (offset = {offset})\"\u001b[0m\u001b[0;34m)\u001b[0m\u001b[0;34m\u001b[0m\u001b[0;34m\u001b[0m\u001b[0m\n\u001b[1;32m     14\u001b[0m             \u001b[0murl\u001b[0m \u001b[0;34m=\u001b[0m \u001b[0mbase_url\u001b[0m\u001b[0;34m+\u001b[0m\u001b[0;34mf\"?$offset={offset}\"\u001b[0m\u001b[0;34m\u001b[0m\u001b[0;34m\u001b[0m\u001b[0m\n\u001b[0;32m---> 15\u001b[0;31m             \u001b[0mdf_temp\u001b[0m \u001b[0;34m=\u001b[0m \u001b[0mpd\u001b[0m\u001b[0;34m.\u001b[0m\u001b[0mread_csv\u001b[0m\u001b[0;34m(\u001b[0m\u001b[0murl\u001b[0m\u001b[0;34m)\u001b[0m\u001b[0;34m\u001b[0m\u001b[0;34m\u001b[0m\u001b[0m\n\u001b[0m\u001b[1;32m     16\u001b[0m             \u001b[0mresults\u001b[0m\u001b[0;34m.\u001b[0m\u001b[0mappend\u001b[0m\u001b[0;34m(\u001b[0m\u001b[0mdf_temp\u001b[0m\u001b[0;34m)\u001b[0m\u001b[0;34m\u001b[0m\u001b[0;34m\u001b[0m\u001b[0m\n\u001b[1;32m     17\u001b[0m \u001b[0;34m\u001b[0m\u001b[0m\n",
      "\u001b[0;32m/opt/anaconda3/envs/learn-env-new/lib/python3.8/site-packages/pandas/util/_decorators.py\u001b[0m in \u001b[0;36mwrapper\u001b[0;34m(*args, **kwargs)\u001b[0m\n\u001b[1;32m    309\u001b[0m                     \u001b[0mstacklevel\u001b[0m\u001b[0;34m=\u001b[0m\u001b[0mstacklevel\u001b[0m\u001b[0;34m,\u001b[0m\u001b[0;34m\u001b[0m\u001b[0;34m\u001b[0m\u001b[0m\n\u001b[1;32m    310\u001b[0m                 )\n\u001b[0;32m--> 311\u001b[0;31m             \u001b[0;32mreturn\u001b[0m \u001b[0mfunc\u001b[0m\u001b[0;34m(\u001b[0m\u001b[0;34m*\u001b[0m\u001b[0margs\u001b[0m\u001b[0;34m,\u001b[0m \u001b[0;34m**\u001b[0m\u001b[0mkwargs\u001b[0m\u001b[0;34m)\u001b[0m\u001b[0;34m\u001b[0m\u001b[0;34m\u001b[0m\u001b[0m\n\u001b[0m\u001b[1;32m    312\u001b[0m \u001b[0;34m\u001b[0m\u001b[0m\n\u001b[1;32m    313\u001b[0m         \u001b[0;32mreturn\u001b[0m \u001b[0mwrapper\u001b[0m\u001b[0;34m\u001b[0m\u001b[0;34m\u001b[0m\u001b[0m\n",
      "\u001b[0;32m/opt/anaconda3/envs/learn-env-new/lib/python3.8/site-packages/pandas/io/parsers/readers.py\u001b[0m in \u001b[0;36mread_csv\u001b[0;34m(filepath_or_buffer, sep, delimiter, header, names, index_col, usecols, squeeze, prefix, mangle_dupe_cols, dtype, engine, converters, true_values, false_values, skipinitialspace, skiprows, skipfooter, nrows, na_values, keep_default_na, na_filter, verbose, skip_blank_lines, parse_dates, infer_datetime_format, keep_date_col, date_parser, dayfirst, cache_dates, iterator, chunksize, compression, thousands, decimal, lineterminator, quotechar, quoting, doublequote, escapechar, comment, encoding, encoding_errors, dialect, error_bad_lines, warn_bad_lines, on_bad_lines, delim_whitespace, low_memory, memory_map, float_precision, storage_options)\u001b[0m\n\u001b[1;32m    584\u001b[0m     \u001b[0mkwds\u001b[0m\u001b[0;34m.\u001b[0m\u001b[0mupdate\u001b[0m\u001b[0;34m(\u001b[0m\u001b[0mkwds_defaults\u001b[0m\u001b[0;34m)\u001b[0m\u001b[0;34m\u001b[0m\u001b[0;34m\u001b[0m\u001b[0m\n\u001b[1;32m    585\u001b[0m \u001b[0;34m\u001b[0m\u001b[0m\n\u001b[0;32m--> 586\u001b[0;31m     \u001b[0;32mreturn\u001b[0m \u001b[0m_read\u001b[0m\u001b[0;34m(\u001b[0m\u001b[0mfilepath_or_buffer\u001b[0m\u001b[0;34m,\u001b[0m \u001b[0mkwds\u001b[0m\u001b[0;34m)\u001b[0m\u001b[0;34m\u001b[0m\u001b[0;34m\u001b[0m\u001b[0m\n\u001b[0m\u001b[1;32m    587\u001b[0m \u001b[0;34m\u001b[0m\u001b[0m\n\u001b[1;32m    588\u001b[0m \u001b[0;34m\u001b[0m\u001b[0m\n",
      "\u001b[0;32m/opt/anaconda3/envs/learn-env-new/lib/python3.8/site-packages/pandas/io/parsers/readers.py\u001b[0m in \u001b[0;36m_read\u001b[0;34m(filepath_or_buffer, kwds)\u001b[0m\n\u001b[1;32m    480\u001b[0m \u001b[0;34m\u001b[0m\u001b[0m\n\u001b[1;32m    481\u001b[0m     \u001b[0;31m# Create the parser.\u001b[0m\u001b[0;34m\u001b[0m\u001b[0;34m\u001b[0m\u001b[0;34m\u001b[0m\u001b[0m\n\u001b[0;32m--> 482\u001b[0;31m     \u001b[0mparser\u001b[0m \u001b[0;34m=\u001b[0m \u001b[0mTextFileReader\u001b[0m\u001b[0;34m(\u001b[0m\u001b[0mfilepath_or_buffer\u001b[0m\u001b[0;34m,\u001b[0m \u001b[0;34m**\u001b[0m\u001b[0mkwds\u001b[0m\u001b[0;34m)\u001b[0m\u001b[0;34m\u001b[0m\u001b[0;34m\u001b[0m\u001b[0m\n\u001b[0m\u001b[1;32m    483\u001b[0m \u001b[0;34m\u001b[0m\u001b[0m\n\u001b[1;32m    484\u001b[0m     \u001b[0;32mif\u001b[0m \u001b[0mchunksize\u001b[0m \u001b[0;32mor\u001b[0m \u001b[0miterator\u001b[0m\u001b[0;34m:\u001b[0m\u001b[0;34m\u001b[0m\u001b[0;34m\u001b[0m\u001b[0m\n",
      "\u001b[0;32m/opt/anaconda3/envs/learn-env-new/lib/python3.8/site-packages/pandas/io/parsers/readers.py\u001b[0m in \u001b[0;36m__init__\u001b[0;34m(self, f, engine, **kwds)\u001b[0m\n\u001b[1;32m    809\u001b[0m             \u001b[0mself\u001b[0m\u001b[0;34m.\u001b[0m\u001b[0moptions\u001b[0m\u001b[0;34m[\u001b[0m\u001b[0;34m\"has_index_names\"\u001b[0m\u001b[0;34m]\u001b[0m \u001b[0;34m=\u001b[0m \u001b[0mkwds\u001b[0m\u001b[0;34m[\u001b[0m\u001b[0;34m\"has_index_names\"\u001b[0m\u001b[0;34m]\u001b[0m\u001b[0;34m\u001b[0m\u001b[0;34m\u001b[0m\u001b[0m\n\u001b[1;32m    810\u001b[0m \u001b[0;34m\u001b[0m\u001b[0m\n\u001b[0;32m--> 811\u001b[0;31m         \u001b[0mself\u001b[0m\u001b[0;34m.\u001b[0m\u001b[0m_engine\u001b[0m \u001b[0;34m=\u001b[0m \u001b[0mself\u001b[0m\u001b[0;34m.\u001b[0m\u001b[0m_make_engine\u001b[0m\u001b[0;34m(\u001b[0m\u001b[0mself\u001b[0m\u001b[0;34m.\u001b[0m\u001b[0mengine\u001b[0m\u001b[0;34m)\u001b[0m\u001b[0;34m\u001b[0m\u001b[0;34m\u001b[0m\u001b[0m\n\u001b[0m\u001b[1;32m    812\u001b[0m \u001b[0;34m\u001b[0m\u001b[0m\n\u001b[1;32m    813\u001b[0m     \u001b[0;32mdef\u001b[0m \u001b[0mclose\u001b[0m\u001b[0;34m(\u001b[0m\u001b[0mself\u001b[0m\u001b[0;34m)\u001b[0m\u001b[0;34m:\u001b[0m\u001b[0;34m\u001b[0m\u001b[0;34m\u001b[0m\u001b[0m\n",
      "\u001b[0;32m/opt/anaconda3/envs/learn-env-new/lib/python3.8/site-packages/pandas/io/parsers/readers.py\u001b[0m in \u001b[0;36m_make_engine\u001b[0;34m(self, engine)\u001b[0m\n\u001b[1;32m   1038\u001b[0m             )\n\u001b[1;32m   1039\u001b[0m         \u001b[0;31m# error: Too many arguments for \"ParserBase\"\u001b[0m\u001b[0;34m\u001b[0m\u001b[0;34m\u001b[0m\u001b[0;34m\u001b[0m\u001b[0m\n\u001b[0;32m-> 1040\u001b[0;31m         \u001b[0;32mreturn\u001b[0m \u001b[0mmapping\u001b[0m\u001b[0;34m[\u001b[0m\u001b[0mengine\u001b[0m\u001b[0;34m]\u001b[0m\u001b[0;34m(\u001b[0m\u001b[0mself\u001b[0m\u001b[0;34m.\u001b[0m\u001b[0mf\u001b[0m\u001b[0;34m,\u001b[0m \u001b[0;34m**\u001b[0m\u001b[0mself\u001b[0m\u001b[0;34m.\u001b[0m\u001b[0moptions\u001b[0m\u001b[0;34m)\u001b[0m  \u001b[0;31m# type: ignore[call-arg]\u001b[0m\u001b[0;34m\u001b[0m\u001b[0;34m\u001b[0m\u001b[0m\n\u001b[0m\u001b[1;32m   1041\u001b[0m \u001b[0;34m\u001b[0m\u001b[0m\n\u001b[1;32m   1042\u001b[0m     \u001b[0;32mdef\u001b[0m \u001b[0m_failover_to_python\u001b[0m\u001b[0;34m(\u001b[0m\u001b[0mself\u001b[0m\u001b[0;34m)\u001b[0m\u001b[0;34m:\u001b[0m\u001b[0;34m\u001b[0m\u001b[0;34m\u001b[0m\u001b[0m\n",
      "\u001b[0;32m/opt/anaconda3/envs/learn-env-new/lib/python3.8/site-packages/pandas/io/parsers/c_parser_wrapper.py\u001b[0m in \u001b[0;36m__init__\u001b[0;34m(self, src, **kwds)\u001b[0m\n\u001b[1;32m     49\u001b[0m \u001b[0;34m\u001b[0m\u001b[0m\n\u001b[1;32m     50\u001b[0m         \u001b[0;31m# open handles\u001b[0m\u001b[0;34m\u001b[0m\u001b[0;34m\u001b[0m\u001b[0;34m\u001b[0m\u001b[0m\n\u001b[0;32m---> 51\u001b[0;31m         \u001b[0mself\u001b[0m\u001b[0;34m.\u001b[0m\u001b[0m_open_handles\u001b[0m\u001b[0;34m(\u001b[0m\u001b[0msrc\u001b[0m\u001b[0;34m,\u001b[0m \u001b[0mkwds\u001b[0m\u001b[0;34m)\u001b[0m\u001b[0;34m\u001b[0m\u001b[0;34m\u001b[0m\u001b[0m\n\u001b[0m\u001b[1;32m     52\u001b[0m         \u001b[0;32massert\u001b[0m \u001b[0mself\u001b[0m\u001b[0;34m.\u001b[0m\u001b[0mhandles\u001b[0m \u001b[0;32mis\u001b[0m \u001b[0;32mnot\u001b[0m \u001b[0;32mNone\u001b[0m\u001b[0;34m\u001b[0m\u001b[0;34m\u001b[0m\u001b[0m\n\u001b[1;32m     53\u001b[0m \u001b[0;34m\u001b[0m\u001b[0m\n",
      "\u001b[0;32m/opt/anaconda3/envs/learn-env-new/lib/python3.8/site-packages/pandas/io/parsers/base_parser.py\u001b[0m in \u001b[0;36m_open_handles\u001b[0;34m(self, src, kwds)\u001b[0m\n\u001b[1;32m    220\u001b[0m         \u001b[0mLet\u001b[0m \u001b[0mthe\u001b[0m \u001b[0mreaders\u001b[0m \u001b[0mopen\u001b[0m \u001b[0mIOHandles\u001b[0m \u001b[0mafter\u001b[0m \u001b[0mthey\u001b[0m \u001b[0mare\u001b[0m \u001b[0mdone\u001b[0m \u001b[0;32mwith\u001b[0m \u001b[0mtheir\u001b[0m \u001b[0mpotential\u001b[0m \u001b[0mraises\u001b[0m\u001b[0;34m.\u001b[0m\u001b[0;34m\u001b[0m\u001b[0;34m\u001b[0m\u001b[0m\n\u001b[1;32m    221\u001b[0m         \"\"\"\n\u001b[0;32m--> 222\u001b[0;31m         self.handles = get_handle(\n\u001b[0m\u001b[1;32m    223\u001b[0m             \u001b[0msrc\u001b[0m\u001b[0;34m,\u001b[0m\u001b[0;34m\u001b[0m\u001b[0;34m\u001b[0m\u001b[0m\n\u001b[1;32m    224\u001b[0m             \u001b[0;34m\"r\"\u001b[0m\u001b[0;34m,\u001b[0m\u001b[0;34m\u001b[0m\u001b[0;34m\u001b[0m\u001b[0m\n",
      "\u001b[0;32m/opt/anaconda3/envs/learn-env-new/lib/python3.8/site-packages/pandas/io/common.py\u001b[0m in \u001b[0;36mget_handle\u001b[0;34m(path_or_buf, mode, encoding, compression, memory_map, is_text, errors, storage_options)\u001b[0m\n\u001b[1;32m    606\u001b[0m \u001b[0;34m\u001b[0m\u001b[0m\n\u001b[1;32m    607\u001b[0m     \u001b[0;31m# open URLs\u001b[0m\u001b[0;34m\u001b[0m\u001b[0;34m\u001b[0m\u001b[0;34m\u001b[0m\u001b[0m\n\u001b[0;32m--> 608\u001b[0;31m     ioargs = _get_filepath_or_buffer(\n\u001b[0m\u001b[1;32m    609\u001b[0m         \u001b[0mpath_or_buf\u001b[0m\u001b[0;34m,\u001b[0m\u001b[0;34m\u001b[0m\u001b[0;34m\u001b[0m\u001b[0m\n\u001b[1;32m    610\u001b[0m         \u001b[0mencoding\u001b[0m\u001b[0;34m=\u001b[0m\u001b[0mencoding\u001b[0m\u001b[0;34m,\u001b[0m\u001b[0;34m\u001b[0m\u001b[0;34m\u001b[0m\u001b[0m\n",
      "\u001b[0;32m/opt/anaconda3/envs/learn-env-new/lib/python3.8/site-packages/pandas/io/common.py\u001b[0m in \u001b[0;36m_get_filepath_or_buffer\u001b[0;34m(filepath_or_buffer, encoding, compression, mode, storage_options)\u001b[0m\n\u001b[1;32m    314\u001b[0m                 \u001b[0;31m# Override compression based on Content-Encoding header\u001b[0m\u001b[0;34m\u001b[0m\u001b[0;34m\u001b[0m\u001b[0;34m\u001b[0m\u001b[0m\n\u001b[1;32m    315\u001b[0m                 \u001b[0mcompression\u001b[0m \u001b[0;34m=\u001b[0m \u001b[0;34m{\u001b[0m\u001b[0;34m\"method\"\u001b[0m\u001b[0;34m:\u001b[0m \u001b[0;34m\"gzip\"\u001b[0m\u001b[0;34m}\u001b[0m\u001b[0;34m\u001b[0m\u001b[0;34m\u001b[0m\u001b[0m\n\u001b[0;32m--> 316\u001b[0;31m             \u001b[0mreader\u001b[0m \u001b[0;34m=\u001b[0m \u001b[0mBytesIO\u001b[0m\u001b[0;34m(\u001b[0m\u001b[0mreq\u001b[0m\u001b[0;34m.\u001b[0m\u001b[0mread\u001b[0m\u001b[0;34m(\u001b[0m\u001b[0;34m)\u001b[0m\u001b[0;34m)\u001b[0m\u001b[0;34m\u001b[0m\u001b[0;34m\u001b[0m\u001b[0m\n\u001b[0m\u001b[1;32m    317\u001b[0m         return IOArgs(\n\u001b[1;32m    318\u001b[0m             \u001b[0mfilepath_or_buffer\u001b[0m\u001b[0;34m=\u001b[0m\u001b[0mreader\u001b[0m\u001b[0;34m,\u001b[0m\u001b[0;34m\u001b[0m\u001b[0;34m\u001b[0m\u001b[0m\n",
      "\u001b[0;32m/opt/anaconda3/envs/learn-env-new/lib/python3.8/http/client.py\u001b[0m in \u001b[0;36mread\u001b[0;34m(self, amt)\u001b[0m\n\u001b[1;32m    463\u001b[0m \u001b[0;34m\u001b[0m\u001b[0m\n\u001b[1;32m    464\u001b[0m             \u001b[0;32mif\u001b[0m \u001b[0mself\u001b[0m\u001b[0;34m.\u001b[0m\u001b[0mchunked\u001b[0m\u001b[0;34m:\u001b[0m\u001b[0;34m\u001b[0m\u001b[0;34m\u001b[0m\u001b[0m\n\u001b[0;32m--> 465\u001b[0;31m                 \u001b[0;32mreturn\u001b[0m \u001b[0mself\u001b[0m\u001b[0;34m.\u001b[0m\u001b[0m_readall_chunked\u001b[0m\u001b[0;34m(\u001b[0m\u001b[0;34m)\u001b[0m\u001b[0;34m\u001b[0m\u001b[0;34m\u001b[0m\u001b[0m\n\u001b[0m\u001b[1;32m    466\u001b[0m \u001b[0;34m\u001b[0m\u001b[0m\n\u001b[1;32m    467\u001b[0m             \u001b[0;32mif\u001b[0m \u001b[0mself\u001b[0m\u001b[0;34m.\u001b[0m\u001b[0mlength\u001b[0m \u001b[0;32mis\u001b[0m \u001b[0;32mNone\u001b[0m\u001b[0;34m:\u001b[0m\u001b[0;34m\u001b[0m\u001b[0;34m\u001b[0m\u001b[0m\n",
      "\u001b[0;32m/opt/anaconda3/envs/learn-env-new/lib/python3.8/http/client.py\u001b[0m in \u001b[0;36m_readall_chunked\u001b[0;34m(self)\u001b[0m\n\u001b[1;32m    573\u001b[0m                 \u001b[0;32mif\u001b[0m \u001b[0mchunk_left\u001b[0m \u001b[0;32mis\u001b[0m \u001b[0;32mNone\u001b[0m\u001b[0;34m:\u001b[0m\u001b[0;34m\u001b[0m\u001b[0;34m\u001b[0m\u001b[0m\n\u001b[1;32m    574\u001b[0m                     \u001b[0;32mbreak\u001b[0m\u001b[0;34m\u001b[0m\u001b[0;34m\u001b[0m\u001b[0m\n\u001b[0;32m--> 575\u001b[0;31m                 \u001b[0mvalue\u001b[0m\u001b[0;34m.\u001b[0m\u001b[0mappend\u001b[0m\u001b[0;34m(\u001b[0m\u001b[0mself\u001b[0m\u001b[0;34m.\u001b[0m\u001b[0m_safe_read\u001b[0m\u001b[0;34m(\u001b[0m\u001b[0mchunk_left\u001b[0m\u001b[0;34m)\u001b[0m\u001b[0;34m)\u001b[0m\u001b[0;34m\u001b[0m\u001b[0;34m\u001b[0m\u001b[0m\n\u001b[0m\u001b[1;32m    576\u001b[0m                 \u001b[0mself\u001b[0m\u001b[0;34m.\u001b[0m\u001b[0mchunk_left\u001b[0m \u001b[0;34m=\u001b[0m \u001b[0;36m0\u001b[0m\u001b[0;34m\u001b[0m\u001b[0;34m\u001b[0m\u001b[0m\n\u001b[1;32m    577\u001b[0m             \u001b[0;32mreturn\u001b[0m \u001b[0;34mb''\u001b[0m\u001b[0;34m.\u001b[0m\u001b[0mjoin\u001b[0m\u001b[0;34m(\u001b[0m\u001b[0mvalue\u001b[0m\u001b[0;34m)\u001b[0m\u001b[0;34m\u001b[0m\u001b[0;34m\u001b[0m\u001b[0m\n",
      "\u001b[0;32m/opt/anaconda3/envs/learn-env-new/lib/python3.8/http/client.py\u001b[0m in \u001b[0;36m_safe_read\u001b[0;34m(self, amt)\u001b[0m\n\u001b[1;32m    610\u001b[0m         \u001b[0mIncompleteRead\u001b[0m \u001b[0mexception\u001b[0m \u001b[0mcan\u001b[0m \u001b[0mbe\u001b[0m \u001b[0mused\u001b[0m \u001b[0mto\u001b[0m \u001b[0mdetect\u001b[0m \u001b[0mthe\u001b[0m \u001b[0mproblem\u001b[0m\u001b[0;34m.\u001b[0m\u001b[0;34m\u001b[0m\u001b[0;34m\u001b[0m\u001b[0m\n\u001b[1;32m    611\u001b[0m         \"\"\"\n\u001b[0;32m--> 612\u001b[0;31m         \u001b[0mdata\u001b[0m \u001b[0;34m=\u001b[0m \u001b[0mself\u001b[0m\u001b[0;34m.\u001b[0m\u001b[0mfp\u001b[0m\u001b[0;34m.\u001b[0m\u001b[0mread\u001b[0m\u001b[0;34m(\u001b[0m\u001b[0mamt\u001b[0m\u001b[0;34m)\u001b[0m\u001b[0;34m\u001b[0m\u001b[0;34m\u001b[0m\u001b[0m\n\u001b[0m\u001b[1;32m    613\u001b[0m         \u001b[0;32mif\u001b[0m \u001b[0mlen\u001b[0m\u001b[0;34m(\u001b[0m\u001b[0mdata\u001b[0m\u001b[0;34m)\u001b[0m \u001b[0;34m<\u001b[0m \u001b[0mamt\u001b[0m\u001b[0;34m:\u001b[0m\u001b[0;34m\u001b[0m\u001b[0;34m\u001b[0m\u001b[0m\n\u001b[1;32m    614\u001b[0m             \u001b[0;32mraise\u001b[0m \u001b[0mIncompleteRead\u001b[0m\u001b[0;34m(\u001b[0m\u001b[0mdata\u001b[0m\u001b[0;34m,\u001b[0m \u001b[0mamt\u001b[0m\u001b[0;34m-\u001b[0m\u001b[0mlen\u001b[0m\u001b[0;34m(\u001b[0m\u001b[0mdata\u001b[0m\u001b[0;34m)\u001b[0m\u001b[0;34m)\u001b[0m\u001b[0;34m\u001b[0m\u001b[0;34m\u001b[0m\u001b[0m\n",
      "\u001b[0;32m/opt/anaconda3/envs/learn-env-new/lib/python3.8/socket.py\u001b[0m in \u001b[0;36mreadinto\u001b[0;34m(self, b)\u001b[0m\n\u001b[1;32m    667\u001b[0m         \u001b[0;32mwhile\u001b[0m \u001b[0;32mTrue\u001b[0m\u001b[0;34m:\u001b[0m\u001b[0;34m\u001b[0m\u001b[0;34m\u001b[0m\u001b[0m\n\u001b[1;32m    668\u001b[0m             \u001b[0;32mtry\u001b[0m\u001b[0;34m:\u001b[0m\u001b[0;34m\u001b[0m\u001b[0;34m\u001b[0m\u001b[0m\n\u001b[0;32m--> 669\u001b[0;31m                 \u001b[0;32mreturn\u001b[0m \u001b[0mself\u001b[0m\u001b[0;34m.\u001b[0m\u001b[0m_sock\u001b[0m\u001b[0;34m.\u001b[0m\u001b[0mrecv_into\u001b[0m\u001b[0;34m(\u001b[0m\u001b[0mb\u001b[0m\u001b[0;34m)\u001b[0m\u001b[0;34m\u001b[0m\u001b[0;34m\u001b[0m\u001b[0m\n\u001b[0m\u001b[1;32m    670\u001b[0m             \u001b[0;32mexcept\u001b[0m \u001b[0mtimeout\u001b[0m\u001b[0;34m:\u001b[0m\u001b[0;34m\u001b[0m\u001b[0;34m\u001b[0m\u001b[0m\n\u001b[1;32m    671\u001b[0m                 \u001b[0mself\u001b[0m\u001b[0;34m.\u001b[0m\u001b[0m_timeout_occurred\u001b[0m \u001b[0;34m=\u001b[0m \u001b[0;32mTrue\u001b[0m\u001b[0;34m\u001b[0m\u001b[0;34m\u001b[0m\u001b[0m\n",
      "\u001b[0;32m/opt/anaconda3/envs/learn-env-new/lib/python3.8/ssl.py\u001b[0m in \u001b[0;36mrecv_into\u001b[0;34m(self, buffer, nbytes, flags)\u001b[0m\n\u001b[1;32m   1239\u001b[0m                   \u001b[0;34m\"non-zero flags not allowed in calls to recv_into() on %s\"\u001b[0m \u001b[0;34m%\u001b[0m\u001b[0;34m\u001b[0m\u001b[0;34m\u001b[0m\u001b[0m\n\u001b[1;32m   1240\u001b[0m                   self.__class__)\n\u001b[0;32m-> 1241\u001b[0;31m             \u001b[0;32mreturn\u001b[0m \u001b[0mself\u001b[0m\u001b[0;34m.\u001b[0m\u001b[0mread\u001b[0m\u001b[0;34m(\u001b[0m\u001b[0mnbytes\u001b[0m\u001b[0;34m,\u001b[0m \u001b[0mbuffer\u001b[0m\u001b[0;34m)\u001b[0m\u001b[0;34m\u001b[0m\u001b[0;34m\u001b[0m\u001b[0m\n\u001b[0m\u001b[1;32m   1242\u001b[0m         \u001b[0;32melse\u001b[0m\u001b[0;34m:\u001b[0m\u001b[0;34m\u001b[0m\u001b[0;34m\u001b[0m\u001b[0m\n\u001b[1;32m   1243\u001b[0m             \u001b[0;32mreturn\u001b[0m \u001b[0msuper\u001b[0m\u001b[0;34m(\u001b[0m\u001b[0;34m)\u001b[0m\u001b[0;34m.\u001b[0m\u001b[0mrecv_into\u001b[0m\u001b[0;34m(\u001b[0m\u001b[0mbuffer\u001b[0m\u001b[0;34m,\u001b[0m \u001b[0mnbytes\u001b[0m\u001b[0;34m,\u001b[0m \u001b[0mflags\u001b[0m\u001b[0;34m)\u001b[0m\u001b[0;34m\u001b[0m\u001b[0;34m\u001b[0m\u001b[0m\n",
      "\u001b[0;32m/opt/anaconda3/envs/learn-env-new/lib/python3.8/ssl.py\u001b[0m in \u001b[0;36mread\u001b[0;34m(self, len, buffer)\u001b[0m\n\u001b[1;32m   1097\u001b[0m         \u001b[0;32mtry\u001b[0m\u001b[0;34m:\u001b[0m\u001b[0;34m\u001b[0m\u001b[0;34m\u001b[0m\u001b[0m\n\u001b[1;32m   1098\u001b[0m             \u001b[0;32mif\u001b[0m \u001b[0mbuffer\u001b[0m \u001b[0;32mis\u001b[0m \u001b[0;32mnot\u001b[0m \u001b[0;32mNone\u001b[0m\u001b[0;34m:\u001b[0m\u001b[0;34m\u001b[0m\u001b[0;34m\u001b[0m\u001b[0m\n\u001b[0;32m-> 1099\u001b[0;31m                 \u001b[0;32mreturn\u001b[0m \u001b[0mself\u001b[0m\u001b[0;34m.\u001b[0m\u001b[0m_sslobj\u001b[0m\u001b[0;34m.\u001b[0m\u001b[0mread\u001b[0m\u001b[0;34m(\u001b[0m\u001b[0mlen\u001b[0m\u001b[0;34m,\u001b[0m \u001b[0mbuffer\u001b[0m\u001b[0;34m)\u001b[0m\u001b[0;34m\u001b[0m\u001b[0;34m\u001b[0m\u001b[0m\n\u001b[0m\u001b[1;32m   1100\u001b[0m             \u001b[0;32melse\u001b[0m\u001b[0;34m:\u001b[0m\u001b[0;34m\u001b[0m\u001b[0;34m\u001b[0m\u001b[0m\n\u001b[1;32m   1101\u001b[0m                 \u001b[0;32mreturn\u001b[0m \u001b[0mself\u001b[0m\u001b[0;34m.\u001b[0m\u001b[0m_sslobj\u001b[0m\u001b[0;34m.\u001b[0m\u001b[0mread\u001b[0m\u001b[0;34m(\u001b[0m\u001b[0mlen\u001b[0m\u001b[0;34m)\u001b[0m\u001b[0;34m\u001b[0m\u001b[0;34m\u001b[0m\u001b[0m\n",
      "\u001b[0;31mKeyboardInterrupt\u001b[0m: "
     ]
    }
   ],
   "source": [
    "## Get hospital data with function\n",
    "df1 = get_hospital_data()\n",
    "df1['date'] = pd.to_datetime(df1['date'])\n",
    "df1 = df1.sort_values(['state','date'])\n",
    "df1"
   ]
  },
  {
   "cell_type": "code",
   "execution_count": null,
   "metadata": {
    "ExecuteTime": {
     "end_time": "2021-08-14T18:54:09.862013Z",
     "start_time": "2021-08-14T18:53:47.187Z"
    }
   },
   "outputs": [],
   "source": [
    "unique_states_hospitals = df1['state'].unique()\n",
    "unique_states_hospitals"
   ]
  },
  {
   "cell_type": "code",
   "execution_count": null,
   "metadata": {
    "ExecuteTime": {
     "end_time": "2021-08-14T18:54:09.863574Z",
     "start_time": "2021-08-14T18:53:47.190Z"
    }
   },
   "outputs": [],
   "source": [
    "[c for c in df1.columns if 'vent' in c]"
   ]
  },
  {
   "cell_type": "code",
   "execution_count": null,
   "metadata": {
    "ExecuteTime": {
     "end_time": "2021-08-14T18:54:09.865163Z",
     "start_time": "2021-08-14T18:53:47.194Z"
    }
   },
   "outputs": [],
   "source": [
    "# df1 = df1.set_index(['state','date'])\n",
    "# df1"
   ]
  },
  {
   "cell_type": "markdown",
   "metadata": {},
   "source": [
    "- Need to reconcile what dates are and are not included"
   ]
  },
  {
   "cell_type": "code",
   "execution_count": null,
   "metadata": {
    "ExecuteTime": {
     "end_time": "2021-08-14T17:20:25.048820Z",
     "start_time": "2021-08-14T17:20:25.001753Z"
    }
   },
   "outputs": [],
   "source": []
  },
  {
   "cell_type": "code",
   "execution_count": null,
   "metadata": {
    "ExecuteTime": {
     "end_time": "2021-08-14T18:54:09.866515Z",
     "start_time": "2021-08-14T18:53:47.203Z"
    }
   },
   "outputs": [],
   "source": [
    "df1"
   ]
  },
  {
   "cell_type": "markdown",
   "metadata": {},
   "source": [
    "#### [Column Notes](https://healthdata.gov/Hospital/COVID-19-Reported-Patient-Impact-and-Hospital-Capa/g62h-syeh)\n",
    "- General Naming Schemes:\n",
    "    - \"...coverage\" columns:\n",
    "        - coverage columns seem to all represent # of hospitals reporting for that stat. \n",
    "    - \"...utilization\" columns:\n",
    "        - seem to be the metrics I am looking for\n",
    "            - have \"utilization\",+'_denominator'+'numerator\" columns for each\n",
    "    \n",
    "    \n",
    "    \n",
    "- Groups of columns:\n",
    "    - \"critical_staffing_shortage\" columns:\n",
    "        - \"critical_staffing_shortage_today\"...\n",
    "            - yes, no, not_reported\n",
    "        - \"critical_staffing_anticipated_within_week\"....\n",
    "            - yes,no,not_reported\n",
    "    - \"hospital_onset\"...\n",
    "    - \"inpatient_beds\"...\n",
    "    - \"previous_day_admission\"..\n",
    "        "
   ]
  },
  {
   "cell_type": "code",
   "execution_count": null,
   "metadata": {
    "ExecuteTime": {
     "end_time": "2021-08-14T18:54:09.867801Z",
     "start_time": "2021-08-14T18:53:47.208Z"
    }
   },
   "outputs": [],
   "source": [
    "## Save columns removed from main dataframe\n",
    "df_hospital_meta = df1[['state','date',*coverage_cols]].copy()\n",
    "df_hospital_meta.head()"
   ]
  },
  {
   "cell_type": "code",
   "execution_count": null,
   "metadata": {},
   "outputs": [],
   "source": []
  },
  {
   "cell_type": "markdown",
   "metadata": {
    "ExecuteTime": {
     "end_time": "2021-08-13T23:08:14.500012Z",
     "start_time": "2021-08-13T23:08:14.406611Z"
    }
   },
   "source": [
    "### Column Sorting Approach"
   ]
  },
  {
   "cell_type": "markdown",
   "metadata": {},
   "source": [
    "- Remove less in THIS notebook, save for modeling notebook.\n",
    "- Filter out big-categories of unwanted column names before finding specific-category column names\n",
    "    - staffing\n",
    "    - previous_data\n",
    "    - coverage"
   ]
  },
  {
   "cell_type": "code",
   "execution_count": null,
   "metadata": {
    "ExecuteTime": {
     "end_time": "2021-08-14T18:54:09.868979Z",
     "start_time": "2021-08-14T18:53:47.213Z"
    }
   },
   "outputs": [],
   "source": [
    "from copy import deepcopy\n",
    "COLUMNS = {}"
   ]
  },
  {
   "cell_type": "code",
   "execution_count": null,
   "metadata": {
    "ExecuteTime": {
     "end_time": "2021-08-14T18:54:09.870288Z",
     "start_time": "2021-08-14T18:53:47.216Z"
    }
   },
   "outputs": [],
   "source": [
    "## SAVING unwanted columns to COLUMNS dict\n",
    "drop_col_expressions = ['staffing','previous_day','coverage']\n",
    "for expr in drop_col_expressions:\n",
    "    COLUMNS[expr] = [c for c in df1.columns if expr in c]\n",
    "    \n",
    "COLUMNS.keys()"
   ]
  },
  {
   "cell_type": "code",
   "execution_count": null,
   "metadata": {
    "ExecuteTime": {
     "end_time": "2021-08-14T18:54:09.871802Z",
     "start_time": "2021-08-14T18:53:47.219Z"
    }
   },
   "outputs": [],
   "source": [
    "# from: https://www.geeksforgeeks.org/python-concatenate-dictionary-value-lists/\n",
    "from itertools import chain\n",
    "DROP_COLS = set(list(chain(*COLUMNS.values())))\n",
    "DROP_COLS"
   ]
  },
  {
   "cell_type": "code",
   "execution_count": null,
   "metadata": {
    "ExecuteTime": {
     "end_time": "2021-08-14T18:54:09.872975Z",
     "start_time": "2021-08-14T18:53:47.223Z"
    }
   },
   "outputs": [],
   "source": [
    "### REPLACED ABOVE\n",
    "# ## collecting lists of colun names (see md cell above with notes )\n",
    "\n",
    "# ## unneeded cols\n",
    "# staffing_cols = [c for c in df1.columns if \"staffing\" in c]\n",
    "# previous_day_cols = [c for c in df1.columns if \"previous_day\" in c]\n",
    "# coverage_cols = [c for c in df1.columns if \"coverage\" in c]\n",
    "\n",
    "# COLUMNS['staffing'] = deepcopy(staffing_cols)\n",
    "# COLUMNS['coverage'] = deepcopy(coverage_cols)\n",
    "# COLUMNS['previous_day'] = \n",
    "\n",
    "# DROP_COLS = list(set([*staffing_cols,*previous_day_cols,*coverage_cols]))\n",
    "# len(DROP_COLS)"
   ]
  },
  {
   "cell_type": "markdown",
   "metadata": {},
   "source": [
    "## 🎗**BOOKMARK 08/13 - SIMPLIFYING HHS DATA WORKFLOW**"
   ]
  },
  {
   "cell_type": "markdown",
   "metadata": {},
   "source": [
    "### OOP Way: `ColumnDict`"
   ]
  },
  {
   "cell_type": "code",
   "execution_count": null,
   "metadata": {
    "ExecuteTime": {
     "end_time": "2021-08-14T18:54:09.874343Z",
     "start_time": "2021-08-14T18:53:47.226Z"
    }
   },
   "outputs": [],
   "source": [
    "# help(dict)"
   ]
  },
  {
   "cell_type": "code",
   "execution_count": 552,
   "metadata": {
    "ExecuteTime": {
     "end_time": "2021-08-14T18:56:57.742822Z",
     "start_time": "2021-08-14T18:56:57.684136Z"
    }
   },
   "outputs": [],
   "source": [
    "class ColumnDict(dict):\n",
    "    \"\"\"Inherits from a normal dictionary.\n",
    "    \n",
    "    Methods:\n",
    "        find_expr_cols: methods for finding columns based on expressions\n",
    "                        saves the column names under with the expression  as key\n",
    "        get_all_values: gets list of all unique values stored in dict\n",
    "    Adds \n",
    "    Also saved keep_keys True/False dict of expressions that should be kept or dropped\n",
    "    \"\"\"\n",
    "    keep_keys = {True:list(),False:list(),'id':list()} # Expressions \n",
    "    keep_cols = {True:list(),False:list()} # column names\n",
    "    \n",
    "    def __init__(self, id_cols=[],*args,**kwargs):\n",
    "\n",
    "        self.id_cols=id_cols\n",
    "        ## Empty list of keep keys/cols\n",
    "#         self['id'] = self.id_cols\n",
    "        self.keep_keys = {True:list(),False:list(),'id':self.id_cols} # Expressions \n",
    "        self.keep_cols = {True:[*self.id_cols],False:list()} # column names\n",
    "    #     id_cols = list() ## id columns to be auto-kept \n",
    "        super().__init__(*args,**kwargs)\n",
    "    \n",
    "        \n",
    "\n",
    "    \n",
    "    def get_all_values(self,keep=None):\n",
    "        \"\"\"Retrieves list of unique column names:\n",
    "        Args:\n",
    "            keep (None, True, False): determines subset of columns returned\n",
    "            # Adapter from: https://www.geeksforgeeks.org/python-concatenate-dictionary-value-lists/\n",
    "            \"\"\"\n",
    "        if keep is None:\n",
    "            from itertools import chain\n",
    "            return [*self.id_cols,*set(list(chain(*self.values())))]\n",
    "        \n",
    "        elif keep==True:\n",
    "            col_list = list(set(self.keep_cols[keep]))\n",
    "            return [*self.id_cols, *[c for c in col_list if c not in self.id_cols]]\n",
    "#             return list(set([*self.id_cols,*]))\n",
    "        elif keep==False:\n",
    "            return list(set(self.keep_cols[keep]))\n",
    "\n",
    "        \n",
    "        \n",
    "    def find_expr_cols(self,expressions,df,keep,exlcude_known_cols=None):\n",
    "        \"\"\"Saves lists of column names as values in dict\n",
    "        Args:\n",
    "            Expresssions (str,list): patterns to find in column names \n",
    "            df (DataFrame): dataframe to check\n",
    "            keep (bool): saves expr and cols keep_cols/keep_keys as True or False\n",
    "            \n",
    "        TO DO:\n",
    "            exlcude_known_cols (NOT IMPLEMENTED YET): will check if found columns \n",
    "                                are already in any of the known lists of cols\n",
    "                                \n",
    "                                \n",
    "                                \n",
    "        EXAMPLE USAAGE:\n",
    "        >>> COLUMNS = ColumnDict()\n",
    "        >>> COLUMNS.find_expr_cols(['staffing','previous_day','coverage'],\n",
    "                                    df1,keep=False)\n",
    "        \"\"\"\n",
    "            \n",
    "        if isinstance(expressions,str):\n",
    "                expressions = [expressions]\n",
    "                \n",
    "        for expr in expressions:\n",
    "            found_cols = [c for c in df.columns if expr in c]\n",
    "            self[expr] = found_cols\n",
    "\n",
    "            ## Save exression and fond_cols to keep_keys/keep_cols\n",
    "            self.keep_keys[keep].append(expr)\n",
    "            \n",
    "            [self.keep_cols[keep].append(c) for c in found_cols if c not in self.keep_cols[keep]]\n",
    "\n",
    "\n",
    "\n"
   ]
  },
  {
   "cell_type": "code",
   "execution_count": 553,
   "metadata": {
    "ExecuteTime": {
     "end_time": "2021-08-14T18:56:57.988644Z",
     "start_time": "2021-08-14T18:56:57.936375Z"
    }
   },
   "outputs": [
    {
     "data": {
      "text/plain": [
       "['state',\n",
       " 'date',\n",
       " 'inpatient_beds',\n",
       " 'inpatient_beds_coverage',\n",
       " 'inpatient_beds_used',\n",
       " 'inpatient_beds_used_coverage',\n",
       " 'inpatient_beds_used_covid',\n",
       " 'inpatient_beds_used_covid_coverage',\n",
       " 'inpatient_beds_utilization',\n",
       " 'inpatient_beds_utilization_coverage',\n",
       " 'inpatient_beds_utilization_numerator',\n",
       " 'inpatient_beds_utilization_denominator',\n",
       " 'inpatient_bed_covid_utilization',\n",
       " 'inpatient_bed_covid_utilization_coverage',\n",
       " 'inpatient_bed_covid_utilization_numerator',\n",
       " 'inpatient_bed_covid_utilization_denominator',\n",
       " 'staffed_adult_icu_bed_occupancy',\n",
       " 'staffed_adult_icu_bed_occupancy_coverage',\n",
       " 'total_staffed_adult_icu_beds',\n",
       " 'total_staffed_adult_icu_beds_coverage',\n",
       " 'adult_icu_bed_covid_utilization',\n",
       " 'adult_icu_bed_covid_utilization_coverage',\n",
       " 'adult_icu_bed_covid_utilization_numerator',\n",
       " 'adult_icu_bed_covid_utilization_denominator',\n",
       " 'adult_icu_bed_utilization',\n",
       " 'adult_icu_bed_utilization_coverage',\n",
       " 'adult_icu_bed_utilization_numerator',\n",
       " 'adult_icu_bed_utilization_denominator',\n",
       " 'total_adult_patients_hospitalized_confirmed_and_suspected_covid',\n",
       " 'total_adult_patients_hospitalized_confirmed_and_suspected_covid_coverage',\n",
       " 'total_adult_patients_hospitalized_confirmed_covid',\n",
       " 'total_adult_patients_hospitalized_confirmed_covid_coverage',\n",
       " 'total_pediatric_patients_hospitalized_confirmed_and_suspected_covid',\n",
       " 'total_pediatric_patients_hospitalized_confirmed_and_suspected_covid_coverage',\n",
       " 'total_pediatric_patients_hospitalized_confirmed_covid',\n",
       " 'total_pediatric_patients_hospitalized_confirmed_covid_coverage',\n",
       " 'percent_of_inpatients_with_covid',\n",
       " 'percent_of_inpatients_with_covid_coverage',\n",
       " 'percent_of_inpatients_with_covid_numerator',\n",
       " 'percent_of_inpatients_with_covid_denominator',\n",
       " 'deaths_covid',\n",
       " 'deaths_covid_coverage']"
      ]
     },
     "execution_count": 553,
     "metadata": {},
     "output_type": "execute_result"
    }
   ],
   "source": [
    "COLUMNS = ColumnDict(id_cols=['state','date'])\n",
    "# COLUMNS.id_cols.extend(['state','date']) # saving meta data\n",
    "\n",
    "## saving names to DROP to COLUMNS dict\n",
    "drop_col_expressions = ['staff','previous_day','coverage','onset']\n",
    "COLUMNS.find_expr_cols(drop_col_expressions,df1,keep=False)\n",
    "\n",
    "\n",
    "## saving names to KEEP to COLUMNS dict\n",
    "\n",
    "keep_col_expressions = ['inpatient_bed','adult_icu_bed','utilization',\n",
    "                        'total_adult_patients','total_pediatric_patients',\n",
    "                       'percent_of_inpatients_with_covid','deaths']\n",
    "COLUMNS.find_expr_cols(keep_col_expressions,df1,keep=True)\n",
    "\n",
    "COLUMNS.keep_cols[True]"
   ]
  },
  {
   "cell_type": "code",
   "execution_count": 554,
   "metadata": {
    "ExecuteTime": {
     "end_time": "2021-08-14T18:57:00.139349Z",
     "start_time": "2021-08-14T18:57:00.091305Z"
    }
   },
   "outputs": [
    {
     "data": {
      "text/plain": [
       "['state', 'date']"
      ]
     },
     "execution_count": 554,
     "metadata": {},
     "output_type": "execute_result"
    }
   ],
   "source": [
    "COLUMNS.id_cols"
   ]
  },
  {
   "cell_type": "code",
   "execution_count": 555,
   "metadata": {
    "ExecuteTime": {
     "end_time": "2021-08-14T18:57:10.176918Z",
     "start_time": "2021-08-14T18:57:10.128573Z"
    }
   },
   "outputs": [
    {
     "data": {
      "text/plain": [
       "{True: ['inpatient_bed',\n",
       "  'adult_icu_bed',\n",
       "  'utilization',\n",
       "  'total_adult_patients',\n",
       "  'total_pediatric_patients',\n",
       "  'percent_of_inpatients_with_covid',\n",
       "  'deaths'],\n",
       " False: ['staff', 'previous_day', 'coverage', 'onset'],\n",
       " 'id': ['state', 'date']}"
      ]
     },
     "execution_count": 555,
     "metadata": {},
     "output_type": "execute_result"
    }
   ],
   "source": [
    "COLUMNS.keep_keys"
   ]
  },
  {
   "cell_type": "code",
   "execution_count": 556,
   "metadata": {
    "ExecuteTime": {
     "end_time": "2021-08-14T18:57:18.896833Z",
     "start_time": "2021-08-14T18:57:18.847498Z"
    }
   },
   "outputs": [
    {
     "data": {
      "text/plain": [
       "{True: ['state',\n",
       "  'date',\n",
       "  'inpatient_beds',\n",
       "  'inpatient_beds_coverage',\n",
       "  'inpatient_beds_used',\n",
       "  'inpatient_beds_used_coverage',\n",
       "  'inpatient_beds_used_covid',\n",
       "  'inpatient_beds_used_covid_coverage',\n",
       "  'inpatient_beds_utilization',\n",
       "  'inpatient_beds_utilization_coverage',\n",
       "  'inpatient_beds_utilization_numerator',\n",
       "  'inpatient_beds_utilization_denominator',\n",
       "  'inpatient_bed_covid_utilization',\n",
       "  'inpatient_bed_covid_utilization_coverage',\n",
       "  'inpatient_bed_covid_utilization_numerator',\n",
       "  'inpatient_bed_covid_utilization_denominator',\n",
       "  'staffed_adult_icu_bed_occupancy',\n",
       "  'staffed_adult_icu_bed_occupancy_coverage',\n",
       "  'total_staffed_adult_icu_beds',\n",
       "  'total_staffed_adult_icu_beds_coverage',\n",
       "  'adult_icu_bed_covid_utilization',\n",
       "  'adult_icu_bed_covid_utilization_coverage',\n",
       "  'adult_icu_bed_covid_utilization_numerator',\n",
       "  'adult_icu_bed_covid_utilization_denominator',\n",
       "  'adult_icu_bed_utilization',\n",
       "  'adult_icu_bed_utilization_coverage',\n",
       "  'adult_icu_bed_utilization_numerator',\n",
       "  'adult_icu_bed_utilization_denominator',\n",
       "  'total_adult_patients_hospitalized_confirmed_and_suspected_covid',\n",
       "  'total_adult_patients_hospitalized_confirmed_and_suspected_covid_coverage',\n",
       "  'total_adult_patients_hospitalized_confirmed_covid',\n",
       "  'total_adult_patients_hospitalized_confirmed_covid_coverage',\n",
       "  'total_pediatric_patients_hospitalized_confirmed_and_suspected_covid',\n",
       "  'total_pediatric_patients_hospitalized_confirmed_and_suspected_covid_coverage',\n",
       "  'total_pediatric_patients_hospitalized_confirmed_covid',\n",
       "  'total_pediatric_patients_hospitalized_confirmed_covid_coverage',\n",
       "  'percent_of_inpatients_with_covid',\n",
       "  'percent_of_inpatients_with_covid_coverage',\n",
       "  'percent_of_inpatients_with_covid_numerator',\n",
       "  'percent_of_inpatients_with_covid_denominator',\n",
       "  'deaths_covid',\n",
       "  'deaths_covid_coverage'],\n",
       " False: ['critical_staffing_shortage_today_yes',\n",
       "  'critical_staffing_shortage_today_no',\n",
       "  'critical_staffing_shortage_today_not_reported',\n",
       "  'critical_staffing_shortage_anticipated_within_week_yes',\n",
       "  'critical_staffing_shortage_anticipated_within_week_no',\n",
       "  'critical_staffing_shortage_anticipated_within_week_not_reported',\n",
       "  'staffed_adult_icu_bed_occupancy',\n",
       "  'staffed_adult_icu_bed_occupancy_coverage',\n",
       "  'staffed_icu_adult_patients_confirmed_and_suspected_covid',\n",
       "  'staffed_icu_adult_patients_confirmed_and_suspected_covid_coverage',\n",
       "  'staffed_icu_adult_patients_confirmed_covid',\n",
       "  'staffed_icu_adult_patients_confirmed_covid_coverage',\n",
       "  'total_staffed_adult_icu_beds',\n",
       "  'total_staffed_adult_icu_beds_coverage',\n",
       "  'previous_day_admission_adult_covid_confirmed',\n",
       "  'previous_day_admission_adult_covid_confirmed_coverage',\n",
       "  'previous_day_admission_adult_covid_suspected',\n",
       "  'previous_day_admission_adult_covid_suspected_coverage',\n",
       "  'previous_day_admission_pediatric_covid_confirmed',\n",
       "  'previous_day_admission_pediatric_covid_confirmed_coverage',\n",
       "  'previous_day_admission_pediatric_covid_suspected',\n",
       "  'previous_day_admission_pediatric_covid_suspected_coverage',\n",
       "  'previous_day_admission_adult_covid_confirmed_18_19',\n",
       "  'previous_day_admission_adult_covid_confirmed_18_19_coverage',\n",
       "  'previous_day_admission_adult_covid_confirmed_20_29',\n",
       "  'previous_day_admission_adult_covid_confirmed_20_29_coverage',\n",
       "  'previous_day_admission_adult_covid_confirmed_30_39',\n",
       "  'previous_day_admission_adult_covid_confirmed_30_39_coverage',\n",
       "  'previous_day_admission_adult_covid_confirmed_40_49',\n",
       "  'previous_day_admission_adult_covid_confirmed_40_49_coverage',\n",
       "  'previous_day_admission_adult_covid_confirmed_50_59',\n",
       "  'previous_day_admission_adult_covid_confirmed_50_59_coverage',\n",
       "  'previous_day_admission_adult_covid_confirmed_60_69',\n",
       "  'previous_day_admission_adult_covid_confirmed_60_69_coverage',\n",
       "  'previous_day_admission_adult_covid_confirmed_70_79',\n",
       "  'previous_day_admission_adult_covid_confirmed_70_79_coverage',\n",
       "  'previous_day_admission_adult_covid_confirmed_80',\n",
       "  'previous_day_admission_adult_covid_confirmed_80_coverage',\n",
       "  'previous_day_admission_adult_covid_confirmed_unknown',\n",
       "  'previous_day_admission_adult_covid_confirmed_unknown_coverage',\n",
       "  'previous_day_admission_adult_covid_suspected_18_19',\n",
       "  'previous_day_admission_adult_covid_suspected_18_19_coverage',\n",
       "  'previous_day_admission_adult_covid_suspected_20_29',\n",
       "  'previous_day_admission_adult_covid_suspected_20_29_coverage',\n",
       "  'previous_day_admission_adult_covid_suspected_30_39',\n",
       "  'previous_day_admission_adult_covid_suspected_30_39_coverage',\n",
       "  'previous_day_admission_adult_covid_suspected_40_49',\n",
       "  'previous_day_admission_adult_covid_suspected_40_49_coverage',\n",
       "  'previous_day_admission_adult_covid_suspected_50_59',\n",
       "  'previous_day_admission_adult_covid_suspected_50_59_coverage',\n",
       "  'previous_day_admission_adult_covid_suspected_60_69',\n",
       "  'previous_day_admission_adult_covid_suspected_60_69_coverage',\n",
       "  'previous_day_admission_adult_covid_suspected_70_79',\n",
       "  'previous_day_admission_adult_covid_suspected_70_79_coverage',\n",
       "  'previous_day_admission_adult_covid_suspected_80_',\n",
       "  'previous_day_admission_adult_covid_suspected_80_coverage',\n",
       "  'previous_day_admission_adult_covid_suspected_unknown',\n",
       "  'previous_day_admission_adult_covid_suspected_unknown_coverage',\n",
       "  'hospital_onset_covid_coverage',\n",
       "  'inpatient_beds_coverage',\n",
       "  'inpatient_beds_used_coverage',\n",
       "  'inpatient_beds_used_covid_coverage',\n",
       "  'total_adult_patients_hospitalized_confirmed_and_suspected_covid_coverage',\n",
       "  'total_adult_patients_hospitalized_confirmed_covid_coverage',\n",
       "  'total_pediatric_patients_hospitalized_confirmed_and_suspected_covid_coverage',\n",
       "  'total_pediatric_patients_hospitalized_confirmed_covid_coverage',\n",
       "  'inpatient_beds_utilization_coverage',\n",
       "  'percent_of_inpatients_with_covid_coverage',\n",
       "  'inpatient_bed_covid_utilization_coverage',\n",
       "  'adult_icu_bed_covid_utilization_coverage',\n",
       "  'adult_icu_bed_utilization_coverage',\n",
       "  'deaths_covid_coverage',\n",
       "  'hospital_onset_covid']}"
      ]
     },
     "execution_count": 556,
     "metadata": {},
     "output_type": "execute_result"
    }
   ],
   "source": [
    "COLUMNS.keep_cols"
   ]
  },
  {
   "cell_type": "code",
   "execution_count": 557,
   "metadata": {
    "ExecuteTime": {
     "end_time": "2021-08-14T18:57:29.107614Z",
     "start_time": "2021-08-14T18:57:29.059920Z"
    }
   },
   "outputs": [
    {
     "data": {
      "text/plain": [
       "98"
      ]
     },
     "execution_count": 557,
     "metadata": {},
     "output_type": "execute_result"
    }
   ],
   "source": [
    "len(COLUMNS.get_all_values(keep=None))"
   ]
  },
  {
   "cell_type": "code",
   "execution_count": 558,
   "metadata": {
    "ExecuteTime": {
     "end_time": "2021-08-14T18:57:31.926803Z",
     "start_time": "2021-08-14T18:57:31.879068Z"
    }
   },
   "outputs": [
    {
     "data": {
      "text/plain": [
       "42"
      ]
     },
     "execution_count": 558,
     "metadata": {},
     "output_type": "execute_result"
    }
   ],
   "source": [
    "len(COLUMNS.get_all_values(keep=True))"
   ]
  },
  {
   "cell_type": "code",
   "execution_count": 560,
   "metadata": {
    "ExecuteTime": {
     "end_time": "2021-08-14T18:57:41.456241Z",
     "start_time": "2021-08-14T18:57:41.407839Z"
    }
   },
   "outputs": [
    {
     "data": {
      "text/plain": [
       "73"
      ]
     },
     "execution_count": 560,
     "metadata": {},
     "output_type": "execute_result"
    }
   ],
   "source": [
    "len(COLUMNS.get_all_values(keep=False))"
   ]
  },
  {
   "cell_type": "code",
   "execution_count": null,
   "metadata": {
    "ExecuteTime": {
     "end_time": "2021-08-14T18:54:09.888787Z",
     "start_time": "2021-08-14T18:53:47.266Z"
    }
   },
   "outputs": [],
   "source": [
    "# DROP_COLS"
   ]
  },
  {
   "cell_type": "code",
   "execution_count": null,
   "metadata": {
    "ExecuteTime": {
     "end_time": "2021-08-14T18:54:09.889980Z",
     "start_time": "2021-08-14T18:53:47.269Z"
    }
   },
   "outputs": [],
   "source": [
    "# ## SAFE TEMP DF FOR FILTERING \n",
    "# df_temp = df1.drop(columns=COLUMNS.get_all_values(keep=False)).copy()\n",
    "# df_temp"
   ]
  },
  {
   "cell_type": "code",
   "execution_count": null,
   "metadata": {
    "ExecuteTime": {
     "end_time": "2021-08-14T18:54:09.890987Z",
     "start_time": "2021-08-14T18:53:47.272Z"
    }
   },
   "outputs": [],
   "source": [
    "# [c for c in df_temp.columns if 'inpatient_beds' in c]"
   ]
  },
  {
   "cell_type": "code",
   "execution_count": 561,
   "metadata": {
    "ExecuteTime": {
     "end_time": "2021-08-14T18:57:52.015137Z",
     "start_time": "2021-08-14T18:57:51.968611Z"
    }
   },
   "outputs": [],
   "source": [
    "# KEEP_COLS = COLUMNS.get_all_values(True)\n",
    "# KEEP_COLS"
   ]
  },
  {
   "cell_type": "code",
   "execution_count": 562,
   "metadata": {
    "ExecuteTime": {
     "end_time": "2021-08-14T18:57:52.339206Z",
     "start_time": "2021-08-14T18:57:52.292879Z"
    }
   },
   "outputs": [],
   "source": [
    "# ## needed cols (utilization )\n",
    "# # raw_inpatient_beds =  ['inpatient_beds','inpatient_beds_used','inpatient_beds_used_covid']\n",
    "\n",
    "# inpatient_bed_util_cols = [c for c in df_temp.columns if 'inpatient_beds_utilization' in c]\n",
    "# adult_icu_util_cols = [c for c in df_temp.columns if 'adult_icu_bed_utilization'in c]\n",
    "\n",
    "\n",
    "# ## COMBINING ABOVE LISTS INTO DROP AND KEEP LISTS\n",
    "# KEEP_COLS = list(set(['date','state',*inpatient_bed_util_cols,*adult_icu_util_cols,\n",
    "#             *raw_inpatient_beds]))\n",
    "# len(KEEP_COLS)"
   ]
  },
  {
   "cell_type": "code",
   "execution_count": null,
   "metadata": {
    "ExecuteTime": {
     "end_time": "2021-08-14T18:54:09.897029Z",
     "start_time": "2021-08-14T18:53:47.292Z"
    }
   },
   "outputs": [],
   "source": [
    "# missed_cols = [ c for c in df1.columns if c not in [*DROP_COLS,*UNSURE_COLS,*KEEP_COLS]]\n",
    "# missed_cols"
   ]
  },
  {
   "cell_type": "markdown",
   "metadata": {},
   "source": [
    "### Making `df_hospitals`"
   ]
  },
  {
   "cell_type": "code",
   "execution_count": 546,
   "metadata": {
    "ExecuteTime": {
     "end_time": "2021-08-14T18:55:11.683906Z",
     "start_time": "2021-08-14T18:54:52.509317Z"
    }
   },
   "outputs": [
    {
     "name": "stdout",
     "output_type": "stream",
     "text": [
      "[i] Page 0 (offset = 0)\n",
      "[i] Page 1 (offset = 1000)\n",
      "[i] Page 2 (offset = 2000)\n",
      "[i] Page 3 (offset = 3000)\n",
      "[i] Page 4 (offset = 4000)\n",
      "[i] Page 5 (offset = 5000)\n",
      "[i] Page 6 (offset = 6000)\n",
      "[i] Page 7 (offset = 7000)\n",
      "[i] Page 8 (offset = 8000)\n",
      "[i] Page 9 (offset = 9000)\n",
      "[i] Page 10 (offset = 10000)\n",
      "[i] Page 11 (offset = 11000)\n",
      "[i] Page 12 (offset = 12000)\n",
      "[i] Page 13 (offset = 13000)\n",
      "[i] Page 14 (offset = 14000)\n",
      "[i] Page 15 (offset = 15000)\n",
      "[i] Page 16 (offset = 16000)\n",
      "[i] Page 17 (offset = 17000)\n",
      "[i] Page 18 (offset = 18000)\n",
      "[i] Page 19 (offset = 19000)\n",
      "[i] Page 20 (offset = 20000)\n",
      "[i] Page 21 (offset = 21000)\n",
      "[i] Page 22 (offset = 22000)\n",
      "[i] Page 23 (offset = 23000)\n",
      "[i] Page 24 (offset = 24000)\n",
      "[i] Page 25 (offset = 25000)\n",
      "[i] Page 26 (offset = 26000)\n",
      "[i] Page 27 (offset = 27000)\n",
      "[i] Page 28 (offset = 28000)\n",
      "[i] Page 29 (offset = 28424)\n"
     ]
    },
    {
     "data": {
      "text/plain": [
       "['state',\n",
       " 'date',\n",
       " 'inpatient_beds',\n",
       " 'inpatient_beds_coverage',\n",
       " 'inpatient_beds_used',\n",
       " 'inpatient_beds_used_coverage',\n",
       " 'inpatient_beds_used_covid',\n",
       " 'inpatient_beds_used_covid_coverage',\n",
       " 'inpatient_beds_utilization',\n",
       " 'inpatient_beds_utilization_coverage',\n",
       " 'inpatient_beds_utilization_numerator',\n",
       " 'inpatient_beds_utilization_denominator',\n",
       " 'inpatient_bed_covid_utilization',\n",
       " 'inpatient_bed_covid_utilization_coverage',\n",
       " 'inpatient_bed_covid_utilization_numerator',\n",
       " 'inpatient_bed_covid_utilization_denominator',\n",
       " 'staffed_adult_icu_bed_occupancy',\n",
       " 'staffed_adult_icu_bed_occupancy_coverage',\n",
       " 'total_staffed_adult_icu_beds',\n",
       " 'total_staffed_adult_icu_beds_coverage',\n",
       " 'adult_icu_bed_covid_utilization',\n",
       " 'adult_icu_bed_covid_utilization_coverage',\n",
       " 'adult_icu_bed_covid_utilization_numerator',\n",
       " 'adult_icu_bed_covid_utilization_denominator',\n",
       " 'adult_icu_bed_utilization',\n",
       " 'adult_icu_bed_utilization_coverage',\n",
       " 'adult_icu_bed_utilization_numerator',\n",
       " 'adult_icu_bed_utilization_denominator',\n",
       " 'total_adult_patients_hospitalized_confirmed_and_suspected_covid',\n",
       " 'total_adult_patients_hospitalized_confirmed_and_suspected_covid_coverage',\n",
       " 'total_adult_patients_hospitalized_confirmed_covid',\n",
       " 'total_adult_patients_hospitalized_confirmed_covid_coverage',\n",
       " 'total_pediatric_patients_hospitalized_confirmed_and_suspected_covid',\n",
       " 'total_pediatric_patients_hospitalized_confirmed_and_suspected_covid_coverage',\n",
       " 'total_pediatric_patients_hospitalized_confirmed_covid',\n",
       " 'total_pediatric_patients_hospitalized_confirmed_covid_coverage',\n",
       " 'percent_of_inpatients_with_covid',\n",
       " 'percent_of_inpatients_with_covid_coverage',\n",
       " 'percent_of_inpatients_with_covid_numerator',\n",
       " 'percent_of_inpatients_with_covid_denominator',\n",
       " 'deaths_covid',\n",
       " 'deaths_covid_coverage']"
      ]
     },
     "execution_count": 546,
     "metadata": {},
     "output_type": "execute_result"
    }
   ],
   "source": [
    "FULL_WORKFLOW =True\n",
    "\n",
    "if FULL_WORKFLOW:\n",
    "    ## Get hospital data with function\n",
    "\n",
    "    df1 = get_hospital_data()\n",
    "    df1['date'] = pd.to_datetime(df1['date'])\n",
    "    df1 = df1.sort_values(['state','date'])\n",
    "\n",
    "\n",
    "COLUMNS = ColumnDict(id_cols=['state','date'])\n",
    "\n",
    "## saving names to DROP to COLUMNS dict\n",
    "drop_col_expressions = ['staff','previous_day','coverage','onset']\n",
    "COLUMNS.find_expr_cols(drop_col_expressions,df1,keep=False)\n",
    "\n",
    "\n",
    "## saving names to KEEP to COLUMNS dict\n",
    "keep_col_expressions = ['inpatient_bed','adult_icu_bed','utilization',\n",
    "                        'total_adult_patients','total_pediatric_patients',\n",
    "                       'percent_of_inpatients_with_covid','deaths']\n",
    "COLUMNS.find_expr_cols(keep_col_expressions,df1,keep=True)\n",
    "\n",
    "COLUMNS.keep_cols[True]"
   ]
  },
  {
   "cell_type": "code",
   "execution_count": 551,
   "metadata": {
    "ExecuteTime": {
     "end_time": "2021-08-14T18:55:40.232793Z",
     "start_time": "2021-08-14T18:55:40.078446Z"
    }
   },
   "outputs": [
    {
     "data": {
      "text/html": [
       "<div>\n",
       "<style scoped>\n",
       "    .dataframe tbody tr th:only-of-type {\n",
       "        vertical-align: middle;\n",
       "    }\n",
       "\n",
       "    .dataframe tbody tr th {\n",
       "        vertical-align: top;\n",
       "    }\n",
       "\n",
       "    .dataframe thead th {\n",
       "        text-align: right;\n",
       "    }\n",
       "</style>\n",
       "<table border=\"1\" class=\"dataframe\">\n",
       "  <thead>\n",
       "    <tr style=\"text-align: right;\">\n",
       "      <th></th>\n",
       "      <th></th>\n",
       "      <th>total_adult_patients_hospitalized_confirmed_covid_coverage</th>\n",
       "      <th>adult_icu_bed_utilization</th>\n",
       "      <th>deaths_covid</th>\n",
       "      <th>total_pediatric_patients_hospitalized_confirmed_and_suspected_covid_coverage</th>\n",
       "      <th>percent_of_inpatients_with_covid</th>\n",
       "      <th>adult_icu_bed_covid_utilization</th>\n",
       "      <th>adult_icu_bed_covid_utilization_denominator</th>\n",
       "      <th>inpatient_beds_used_covid_coverage</th>\n",
       "      <th>inpatient_bed_covid_utilization</th>\n",
       "      <th>percent_of_inpatients_with_covid_denominator</th>\n",
       "      <th>inpatient_beds_utilization_numerator</th>\n",
       "      <th>total_staffed_adult_icu_beds</th>\n",
       "      <th>adult_icu_bed_covid_utilization_numerator</th>\n",
       "      <th>inpatient_beds_utilization_coverage</th>\n",
       "      <th>inpatient_bed_covid_utilization_numerator</th>\n",
       "      <th>total_pediatric_patients_hospitalized_confirmed_and_suspected_covid</th>\n",
       "      <th>inpatient_beds</th>\n",
       "      <th>total_adult_patients_hospitalized_confirmed_covid</th>\n",
       "      <th>adult_icu_bed_utilization_numerator</th>\n",
       "      <th>inpatient_beds_coverage</th>\n",
       "      <th>total_adult_patients_hospitalized_confirmed_and_suspected_covid</th>\n",
       "      <th>total_pediatric_patients_hospitalized_confirmed_covid_coverage</th>\n",
       "      <th>adult_icu_bed_utilization_denominator</th>\n",
       "      <th>inpatient_beds_utilization</th>\n",
       "      <th>inpatient_beds_used_covid</th>\n",
       "      <th>inpatient_beds_utilization_denominator</th>\n",
       "      <th>adult_icu_bed_utilization_coverage</th>\n",
       "      <th>total_staffed_adult_icu_beds_coverage</th>\n",
       "      <th>percent_of_inpatients_with_covid_numerator</th>\n",
       "      <th>inpatient_beds_used_coverage</th>\n",
       "      <th>total_adult_patients_hospitalized_confirmed_and_suspected_covid_coverage</th>\n",
       "      <th>deaths_covid_coverage</th>\n",
       "      <th>adult_icu_bed_covid_utilization_coverage</th>\n",
       "      <th>inpatient_bed_covid_utilization_coverage</th>\n",
       "      <th>inpatient_beds_used</th>\n",
       "      <th>percent_of_inpatients_with_covid_coverage</th>\n",
       "      <th>staffed_adult_icu_bed_occupancy</th>\n",
       "      <th>inpatient_bed_covid_utilization_denominator</th>\n",
       "      <th>total_pediatric_patients_hospitalized_confirmed_covid</th>\n",
       "      <th>staffed_adult_icu_bed_occupancy_coverage</th>\n",
       "    </tr>\n",
       "    <tr>\n",
       "      <th>state</th>\n",
       "      <th>date</th>\n",
       "      <th></th>\n",
       "      <th></th>\n",
       "      <th></th>\n",
       "      <th></th>\n",
       "      <th></th>\n",
       "      <th></th>\n",
       "      <th></th>\n",
       "      <th></th>\n",
       "      <th></th>\n",
       "      <th></th>\n",
       "      <th></th>\n",
       "      <th></th>\n",
       "      <th></th>\n",
       "      <th></th>\n",
       "      <th></th>\n",
       "      <th></th>\n",
       "      <th></th>\n",
       "      <th></th>\n",
       "      <th></th>\n",
       "      <th></th>\n",
       "      <th></th>\n",
       "      <th></th>\n",
       "      <th></th>\n",
       "      <th></th>\n",
       "      <th></th>\n",
       "      <th></th>\n",
       "      <th></th>\n",
       "      <th></th>\n",
       "      <th></th>\n",
       "      <th></th>\n",
       "      <th></th>\n",
       "      <th></th>\n",
       "      <th></th>\n",
       "      <th></th>\n",
       "      <th></th>\n",
       "      <th></th>\n",
       "      <th></th>\n",
       "      <th></th>\n",
       "      <th></th>\n",
       "      <th></th>\n",
       "    </tr>\n",
       "  </thead>\n",
       "  <tbody>\n",
       "    <tr>\n",
       "      <th rowspan=\"5\" valign=\"top\">AK</th>\n",
       "      <th>2020-03-23</th>\n",
       "      <td>0</td>\n",
       "      <td>NaN</td>\n",
       "      <td>0.0</td>\n",
       "      <td>0</td>\n",
       "      <td>0.142857</td>\n",
       "      <td>NaN</td>\n",
       "      <td>NaN</td>\n",
       "      <td>1</td>\n",
       "      <td>0.053571</td>\n",
       "      <td>21.0</td>\n",
       "      <td>21.0</td>\n",
       "      <td>NaN</td>\n",
       "      <td>NaN</td>\n",
       "      <td>1.0</td>\n",
       "      <td>3.0</td>\n",
       "      <td>NaN</td>\n",
       "      <td>56.0</td>\n",
       "      <td>NaN</td>\n",
       "      <td>NaN</td>\n",
       "      <td>1</td>\n",
       "      <td>NaN</td>\n",
       "      <td>0</td>\n",
       "      <td>NaN</td>\n",
       "      <td>0.375000</td>\n",
       "      <td>3.0</td>\n",
       "      <td>56.0</td>\n",
       "      <td>NaN</td>\n",
       "      <td>0</td>\n",
       "      <td>3.0</td>\n",
       "      <td>1</td>\n",
       "      <td>0</td>\n",
       "      <td>1</td>\n",
       "      <td>NaN</td>\n",
       "      <td>1.0</td>\n",
       "      <td>21.0</td>\n",
       "      <td>1.0</td>\n",
       "      <td>NaN</td>\n",
       "      <td>56.0</td>\n",
       "      <td>NaN</td>\n",
       "      <td>0</td>\n",
       "    </tr>\n",
       "    <tr>\n",
       "      <th>2020-03-24</th>\n",
       "      <td>0</td>\n",
       "      <td>NaN</td>\n",
       "      <td>0.0</td>\n",
       "      <td>0</td>\n",
       "      <td>0.150000</td>\n",
       "      <td>NaN</td>\n",
       "      <td>NaN</td>\n",
       "      <td>1</td>\n",
       "      <td>0.053571</td>\n",
       "      <td>20.0</td>\n",
       "      <td>20.0</td>\n",
       "      <td>NaN</td>\n",
       "      <td>NaN</td>\n",
       "      <td>1.0</td>\n",
       "      <td>3.0</td>\n",
       "      <td>NaN</td>\n",
       "      <td>56.0</td>\n",
       "      <td>NaN</td>\n",
       "      <td>NaN</td>\n",
       "      <td>1</td>\n",
       "      <td>NaN</td>\n",
       "      <td>0</td>\n",
       "      <td>NaN</td>\n",
       "      <td>0.357143</td>\n",
       "      <td>3.0</td>\n",
       "      <td>56.0</td>\n",
       "      <td>NaN</td>\n",
       "      <td>0</td>\n",
       "      <td>3.0</td>\n",
       "      <td>1</td>\n",
       "      <td>0</td>\n",
       "      <td>1</td>\n",
       "      <td>NaN</td>\n",
       "      <td>1.0</td>\n",
       "      <td>20.0</td>\n",
       "      <td>1.0</td>\n",
       "      <td>NaN</td>\n",
       "      <td>56.0</td>\n",
       "      <td>NaN</td>\n",
       "      <td>0</td>\n",
       "    </tr>\n",
       "    <tr>\n",
       "      <th>2020-03-25</th>\n",
       "      <td>0</td>\n",
       "      <td>NaN</td>\n",
       "      <td>0.0</td>\n",
       "      <td>0</td>\n",
       "      <td>0.066667</td>\n",
       "      <td>NaN</td>\n",
       "      <td>NaN</td>\n",
       "      <td>1</td>\n",
       "      <td>0.017857</td>\n",
       "      <td>15.0</td>\n",
       "      <td>15.0</td>\n",
       "      <td>NaN</td>\n",
       "      <td>NaN</td>\n",
       "      <td>1.0</td>\n",
       "      <td>1.0</td>\n",
       "      <td>NaN</td>\n",
       "      <td>56.0</td>\n",
       "      <td>NaN</td>\n",
       "      <td>NaN</td>\n",
       "      <td>1</td>\n",
       "      <td>NaN</td>\n",
       "      <td>0</td>\n",
       "      <td>NaN</td>\n",
       "      <td>0.267857</td>\n",
       "      <td>1.0</td>\n",
       "      <td>56.0</td>\n",
       "      <td>NaN</td>\n",
       "      <td>0</td>\n",
       "      <td>1.0</td>\n",
       "      <td>1</td>\n",
       "      <td>0</td>\n",
       "      <td>1</td>\n",
       "      <td>NaN</td>\n",
       "      <td>1.0</td>\n",
       "      <td>15.0</td>\n",
       "      <td>1.0</td>\n",
       "      <td>NaN</td>\n",
       "      <td>56.0</td>\n",
       "      <td>NaN</td>\n",
       "      <td>0</td>\n",
       "    </tr>\n",
       "    <tr>\n",
       "      <th>2020-03-26</th>\n",
       "      <td>0</td>\n",
       "      <td>NaN</td>\n",
       "      <td>0.0</td>\n",
       "      <td>0</td>\n",
       "      <td>0.125000</td>\n",
       "      <td>NaN</td>\n",
       "      <td>NaN</td>\n",
       "      <td>1</td>\n",
       "      <td>0.035714</td>\n",
       "      <td>16.0</td>\n",
       "      <td>16.0</td>\n",
       "      <td>NaN</td>\n",
       "      <td>NaN</td>\n",
       "      <td>1.0</td>\n",
       "      <td>2.0</td>\n",
       "      <td>NaN</td>\n",
       "      <td>56.0</td>\n",
       "      <td>NaN</td>\n",
       "      <td>NaN</td>\n",
       "      <td>1</td>\n",
       "      <td>NaN</td>\n",
       "      <td>0</td>\n",
       "      <td>NaN</td>\n",
       "      <td>0.285714</td>\n",
       "      <td>2.0</td>\n",
       "      <td>56.0</td>\n",
       "      <td>NaN</td>\n",
       "      <td>0</td>\n",
       "      <td>2.0</td>\n",
       "      <td>1</td>\n",
       "      <td>0</td>\n",
       "      <td>1</td>\n",
       "      <td>NaN</td>\n",
       "      <td>1.0</td>\n",
       "      <td>16.0</td>\n",
       "      <td>1.0</td>\n",
       "      <td>NaN</td>\n",
       "      <td>56.0</td>\n",
       "      <td>NaN</td>\n",
       "      <td>0</td>\n",
       "    </tr>\n",
       "    <tr>\n",
       "      <th>2020-03-27</th>\n",
       "      <td>0</td>\n",
       "      <td>NaN</td>\n",
       "      <td>0.0</td>\n",
       "      <td>0</td>\n",
       "      <td>0.043478</td>\n",
       "      <td>NaN</td>\n",
       "      <td>NaN</td>\n",
       "      <td>2</td>\n",
       "      <td>0.012346</td>\n",
       "      <td>23.0</td>\n",
       "      <td>23.0</td>\n",
       "      <td>NaN</td>\n",
       "      <td>NaN</td>\n",
       "      <td>2.0</td>\n",
       "      <td>1.0</td>\n",
       "      <td>NaN</td>\n",
       "      <td>81.0</td>\n",
       "      <td>NaN</td>\n",
       "      <td>NaN</td>\n",
       "      <td>2</td>\n",
       "      <td>NaN</td>\n",
       "      <td>0</td>\n",
       "      <td>NaN</td>\n",
       "      <td>0.283951</td>\n",
       "      <td>1.0</td>\n",
       "      <td>81.0</td>\n",
       "      <td>NaN</td>\n",
       "      <td>0</td>\n",
       "      <td>1.0</td>\n",
       "      <td>2</td>\n",
       "      <td>0</td>\n",
       "      <td>2</td>\n",
       "      <td>NaN</td>\n",
       "      <td>2.0</td>\n",
       "      <td>23.0</td>\n",
       "      <td>2.0</td>\n",
       "      <td>NaN</td>\n",
       "      <td>81.0</td>\n",
       "      <td>NaN</td>\n",
       "      <td>0</td>\n",
       "    </tr>\n",
       "    <tr>\n",
       "      <th>...</th>\n",
       "      <th>...</th>\n",
       "      <td>...</td>\n",
       "      <td>...</td>\n",
       "      <td>...</td>\n",
       "      <td>...</td>\n",
       "      <td>...</td>\n",
       "      <td>...</td>\n",
       "      <td>...</td>\n",
       "      <td>...</td>\n",
       "      <td>...</td>\n",
       "      <td>...</td>\n",
       "      <td>...</td>\n",
       "      <td>...</td>\n",
       "      <td>...</td>\n",
       "      <td>...</td>\n",
       "      <td>...</td>\n",
       "      <td>...</td>\n",
       "      <td>...</td>\n",
       "      <td>...</td>\n",
       "      <td>...</td>\n",
       "      <td>...</td>\n",
       "      <td>...</td>\n",
       "      <td>...</td>\n",
       "      <td>...</td>\n",
       "      <td>...</td>\n",
       "      <td>...</td>\n",
       "      <td>...</td>\n",
       "      <td>...</td>\n",
       "      <td>...</td>\n",
       "      <td>...</td>\n",
       "      <td>...</td>\n",
       "      <td>...</td>\n",
       "      <td>...</td>\n",
       "      <td>...</td>\n",
       "      <td>...</td>\n",
       "      <td>...</td>\n",
       "      <td>...</td>\n",
       "      <td>...</td>\n",
       "      <td>...</td>\n",
       "      <td>...</td>\n",
       "      <td>...</td>\n",
       "    </tr>\n",
       "    <tr>\n",
       "      <th rowspan=\"5\" valign=\"top\">WY</th>\n",
       "      <th>2021-08-10</th>\n",
       "      <td>29</td>\n",
       "      <td>0.455882</td>\n",
       "      <td>2.0</td>\n",
       "      <td>27</td>\n",
       "      <td>0.155125</td>\n",
       "      <td>0.168000</td>\n",
       "      <td>125.0</td>\n",
       "      <td>27</td>\n",
       "      <td>0.072258</td>\n",
       "      <td>722.0</td>\n",
       "      <td>734.0</td>\n",
       "      <td>136.0</td>\n",
       "      <td>21.0</td>\n",
       "      <td>29.0</td>\n",
       "      <td>112.0</td>\n",
       "      <td>0.0</td>\n",
       "      <td>1610.0</td>\n",
       "      <td>100.0</td>\n",
       "      <td>62.0</td>\n",
       "      <td>29</td>\n",
       "      <td>112.0</td>\n",
       "      <td>27</td>\n",
       "      <td>136.0</td>\n",
       "      <td>0.455901</td>\n",
       "      <td>112.0</td>\n",
       "      <td>1610.0</td>\n",
       "      <td>29.0</td>\n",
       "      <td>29</td>\n",
       "      <td>112.0</td>\n",
       "      <td>29</td>\n",
       "      <td>27</td>\n",
       "      <td>27</td>\n",
       "      <td>27.0</td>\n",
       "      <td>27.0</td>\n",
       "      <td>734.0</td>\n",
       "      <td>27.0</td>\n",
       "      <td>62.0</td>\n",
       "      <td>1550.0</td>\n",
       "      <td>0.0</td>\n",
       "      <td>29</td>\n",
       "    </tr>\n",
       "    <tr>\n",
       "      <th>2021-08-11</th>\n",
       "      <td>31</td>\n",
       "      <td>0.459854</td>\n",
       "      <td>2.0</td>\n",
       "      <td>29</td>\n",
       "      <td>0.135036</td>\n",
       "      <td>0.206349</td>\n",
       "      <td>126.0</td>\n",
       "      <td>29</td>\n",
       "      <td>0.065487</td>\n",
       "      <td>822.0</td>\n",
       "      <td>837.0</td>\n",
       "      <td>137.0</td>\n",
       "      <td>26.0</td>\n",
       "      <td>31.0</td>\n",
       "      <td>111.0</td>\n",
       "      <td>0.0</td>\n",
       "      <td>1755.0</td>\n",
       "      <td>97.0</td>\n",
       "      <td>63.0</td>\n",
       "      <td>31</td>\n",
       "      <td>111.0</td>\n",
       "      <td>29</td>\n",
       "      <td>137.0</td>\n",
       "      <td>0.476923</td>\n",
       "      <td>111.0</td>\n",
       "      <td>1755.0</td>\n",
       "      <td>31.0</td>\n",
       "      <td>31</td>\n",
       "      <td>111.0</td>\n",
       "      <td>31</td>\n",
       "      <td>29</td>\n",
       "      <td>29</td>\n",
       "      <td>29.0</td>\n",
       "      <td>29.0</td>\n",
       "      <td>837.0</td>\n",
       "      <td>29.0</td>\n",
       "      <td>63.0</td>\n",
       "      <td>1695.0</td>\n",
       "      <td>0.0</td>\n",
       "      <td>31</td>\n",
       "    </tr>\n",
       "    <tr>\n",
       "      <th>2021-08-12</th>\n",
       "      <td>31</td>\n",
       "      <td>0.463235</td>\n",
       "      <td>1.0</td>\n",
       "      <td>29</td>\n",
       "      <td>0.125598</td>\n",
       "      <td>0.200000</td>\n",
       "      <td>125.0</td>\n",
       "      <td>29</td>\n",
       "      <td>0.061947</td>\n",
       "      <td>836.0</td>\n",
       "      <td>852.0</td>\n",
       "      <td>136.0</td>\n",
       "      <td>25.0</td>\n",
       "      <td>31.0</td>\n",
       "      <td>105.0</td>\n",
       "      <td>0.0</td>\n",
       "      <td>1755.0</td>\n",
       "      <td>99.0</td>\n",
       "      <td>63.0</td>\n",
       "      <td>31</td>\n",
       "      <td>105.0</td>\n",
       "      <td>29</td>\n",
       "      <td>136.0</td>\n",
       "      <td>0.485470</td>\n",
       "      <td>105.0</td>\n",
       "      <td>1755.0</td>\n",
       "      <td>31.0</td>\n",
       "      <td>31</td>\n",
       "      <td>105.0</td>\n",
       "      <td>31</td>\n",
       "      <td>29</td>\n",
       "      <td>29</td>\n",
       "      <td>29.0</td>\n",
       "      <td>29.0</td>\n",
       "      <td>852.0</td>\n",
       "      <td>29.0</td>\n",
       "      <td>63.0</td>\n",
       "      <td>1695.0</td>\n",
       "      <td>0.0</td>\n",
       "      <td>31</td>\n",
       "    </tr>\n",
       "    <tr>\n",
       "      <th>2021-08-13</th>\n",
       "      <td>31</td>\n",
       "      <td>0.423358</td>\n",
       "      <td>1.0</td>\n",
       "      <td>29</td>\n",
       "      <td>0.128916</td>\n",
       "      <td>0.214286</td>\n",
       "      <td>126.0</td>\n",
       "      <td>29</td>\n",
       "      <td>0.063127</td>\n",
       "      <td>830.0</td>\n",
       "      <td>846.0</td>\n",
       "      <td>137.0</td>\n",
       "      <td>27.0</td>\n",
       "      <td>31.0</td>\n",
       "      <td>107.0</td>\n",
       "      <td>0.0</td>\n",
       "      <td>1755.0</td>\n",
       "      <td>100.0</td>\n",
       "      <td>58.0</td>\n",
       "      <td>31</td>\n",
       "      <td>107.0</td>\n",
       "      <td>29</td>\n",
       "      <td>137.0</td>\n",
       "      <td>0.482051</td>\n",
       "      <td>107.0</td>\n",
       "      <td>1755.0</td>\n",
       "      <td>31.0</td>\n",
       "      <td>31</td>\n",
       "      <td>107.0</td>\n",
       "      <td>31</td>\n",
       "      <td>29</td>\n",
       "      <td>29</td>\n",
       "      <td>29.0</td>\n",
       "      <td>29.0</td>\n",
       "      <td>846.0</td>\n",
       "      <td>29.0</td>\n",
       "      <td>58.0</td>\n",
       "      <td>1695.0</td>\n",
       "      <td>0.0</td>\n",
       "      <td>31</td>\n",
       "    </tr>\n",
       "    <tr>\n",
       "      <th>2021-08-14</th>\n",
       "      <td>31</td>\n",
       "      <td>0.423358</td>\n",
       "      <td>1.0</td>\n",
       "      <td>29</td>\n",
       "      <td>0.128916</td>\n",
       "      <td>0.214286</td>\n",
       "      <td>126.0</td>\n",
       "      <td>29</td>\n",
       "      <td>0.063127</td>\n",
       "      <td>830.0</td>\n",
       "      <td>846.0</td>\n",
       "      <td>137.0</td>\n",
       "      <td>27.0</td>\n",
       "      <td>31.0</td>\n",
       "      <td>107.0</td>\n",
       "      <td>0.0</td>\n",
       "      <td>1755.0</td>\n",
       "      <td>100.0</td>\n",
       "      <td>58.0</td>\n",
       "      <td>31</td>\n",
       "      <td>107.0</td>\n",
       "      <td>29</td>\n",
       "      <td>137.0</td>\n",
       "      <td>0.482051</td>\n",
       "      <td>107.0</td>\n",
       "      <td>1755.0</td>\n",
       "      <td>31.0</td>\n",
       "      <td>31</td>\n",
       "      <td>107.0</td>\n",
       "      <td>31</td>\n",
       "      <td>29</td>\n",
       "      <td>29</td>\n",
       "      <td>29.0</td>\n",
       "      <td>29.0</td>\n",
       "      <td>846.0</td>\n",
       "      <td>29.0</td>\n",
       "      <td>58.0</td>\n",
       "      <td>1695.0</td>\n",
       "      <td>0.0</td>\n",
       "      <td>31</td>\n",
       "    </tr>\n",
       "  </tbody>\n",
       "</table>\n",
       "<p>28424 rows × 40 columns</p>\n",
       "</div>"
      ],
      "text/plain": [
       "                 total_adult_patients_hospitalized_confirmed_covid_coverage  ...  staffed_adult_icu_bed_occupancy_coverage\n",
       "state date                                                                   ...                                          \n",
       "AK    2020-03-23                                                  0          ...                                         0\n",
       "      2020-03-24                                                  0          ...                                         0\n",
       "      2020-03-25                                                  0          ...                                         0\n",
       "      2020-03-26                                                  0          ...                                         0\n",
       "      2020-03-27                                                  0          ...                                         0\n",
       "...                                                             ...          ...                                       ...\n",
       "WY    2021-08-10                                                 29          ...                                        29\n",
       "      2021-08-11                                                 31          ...                                        31\n",
       "      2021-08-12                                                 31          ...                                        31\n",
       "      2021-08-13                                                 31          ...                                        31\n",
       "      2021-08-14                                                 31          ...                                        31\n",
       "\n",
       "[28424 rows x 40 columns]"
      ]
     },
     "execution_count": 551,
     "metadata": {},
     "output_type": "execute_result"
    }
   ],
   "source": [
    "## Making df_hospitals\n",
    "df_hospitals = df1[COLUMNS.get_all_values(keep=True)].copy()\n",
    "df_hospitals = df_hospitals.set_index(COLUMNS.id_cols).sort_index()\n",
    "df_hospitals#.loc['MD',['inpatient_beds_utilization']].plot()"
   ]
  },
  {
   "cell_type": "markdown",
   "metadata": {},
   "source": [
    "# Back to `1_Replacing Covid Tracking Project - Simplified Workflow.ipynb` for joining data"
   ]
  },
  {
   "cell_type": "code",
   "execution_count": null,
   "metadata": {
    "ExecuteTime": {
     "end_time": "2021-08-14T18:54:09.902114Z",
     "start_time": "2021-08-14T18:53:47.308Z"
    }
   },
   "outputs": [],
   "source": [
    "raise Exception(\"Stop here for today!\")"
   ]
  },
  {
   "cell_type": "code",
   "execution_count": null,
   "metadata": {},
   "outputs": [],
   "source": []
  },
  {
   "cell_type": "markdown",
   "metadata": {},
   "source": [
    "### Saving My CSVs"
   ]
  },
  {
   "cell_type": "code",
   "execution_count": null,
   "metadata": {},
   "outputs": [],
   "source": []
  },
  {
   "cell_type": "code",
   "execution_count": null,
   "metadata": {},
   "outputs": [],
   "source": []
  },
  {
   "cell_type": "code",
   "execution_count": null,
   "metadata": {},
   "outputs": [],
   "source": []
  },
  {
   "cell_type": "code",
   "execution_count": null,
   "metadata": {},
   "outputs": [],
   "source": []
  },
  {
   "cell_type": "code",
   "execution_count": null,
   "metadata": {},
   "outputs": [],
   "source": []
  },
  {
   "cell_type": "markdown",
   "metadata": {},
   "source": [
    "### Testing Data using 1 state"
   ]
  },
  {
   "cell_type": "code",
   "execution_count": null,
   "metadata": {
    "ExecuteTime": {
     "end_time": "2021-08-14T18:54:09.903162Z",
     "start_time": "2021-08-14T18:53:47.319Z"
    }
   },
   "outputs": [],
   "source": [
    "df1['state'].value_counts().sort_index().head(15)"
   ]
  },
  {
   "cell_type": "code",
   "execution_count": null,
   "metadata": {
    "ExecuteTime": {
     "end_time": "2021-08-14T18:54:09.904304Z",
     "start_time": "2021-08-14T18:53:47.322Z"
    }
   },
   "outputs": [],
   "source": [
    "## Processing 1 state\n",
    "state = df1.groupby('state').get_group('MD')\n",
    "state = state.set_index('date').sort_index()\n",
    "state"
   ]
  },
  {
   "cell_type": "code",
   "execution_count": null,
   "metadata": {
    "ExecuteTime": {
     "end_time": "2021-08-14T18:54:09.905491Z",
     "start_time": "2021-08-14T18:53:47.325Z"
    }
   },
   "outputs": [],
   "source": [
    "# state = state.resample('D').asfreq()\n",
    "# state['inpatient_beds'].plot()"
   ]
  },
  {
   "cell_type": "markdown",
   "metadata": {},
   "source": [
    "#### Notes:\n",
    "- Contains only 15 rows of data per state (?)\n",
    "    - Try changing the arguments for the API \n",
    "        - [Api Docs[(https://dev.socrata.com/foundry/healthdata.gov/g62h-syeh)\n",
    "    "
   ]
  },
  {
   "cell_type": "code",
   "execution_count": null,
   "metadata": {},
   "outputs": [],
   "source": []
  },
  {
   "cell_type": "code",
   "execution_count": null,
   "metadata": {},
   "outputs": [],
   "source": []
  },
  {
   "cell_type": "code",
   "execution_count": null,
   "metadata": {},
   "outputs": [],
   "source": []
  },
  {
   "cell_type": "code",
   "execution_count": null,
   "metadata": {},
   "outputs": [],
   "source": []
  },
  {
   "cell_type": "markdown",
   "metadata": {},
   "source": [
    "### ❌\"COVID-19 Reported Patient Impact and Hospital Capacity by State\" [NOT TIME SERIES!!!]\n",
    "\n",
    "- https://healthdata.gov/dataset/COVID-19-Reported-Patient-Impact-and-Hospital-Capa/6xf2-c3ie"
   ]
  },
  {
   "cell_type": "code",
   "execution_count": null,
   "metadata": {
    "ExecuteTime": {
     "end_time": "2021-08-14T18:54:09.906525Z",
     "start_time": "2021-08-14T18:53:47.334Z"
    }
   },
   "outputs": [],
   "source": [
    "# ## JSON way - From https://dev.socrata.com/foundry/healthdata.gov/6xf2-c3ie\n",
    "\n",
    "# #!/usr/bin/env python\n",
    "\n",
    "# # make sure to install these packages before running:\n",
    "# # pip install pandas\n",
    "# # pip install sodapy\n",
    "\n",
    "# import pandas as pd\n",
    "# from sodapy import Socrata\n",
    "\n",
    "# # Unauthenticated client only works with public data sets. Note 'None'\n",
    "# # in place of application token, and no username or password:\n",
    "# client = Socrata(\"healthdata.gov\", None)\n",
    "\n",
    "# # Example authenticated client (needed for non-public datasets):\n",
    "# # client = Socrata(healthdata.gov,\n",
    "# #                  MyAppToken,\n",
    "# #                  userame=\"user@example.com\",\n",
    "# #                  password=\"AFakePassword\")\n",
    "\n",
    "# # First 2000 results, returned as JSON from API / converted to Python list of\n",
    "# # dictionaries by sodapy.\n",
    "# results = client.get(\"6xf2-c3ie\", limit=2000)\n",
    "\n",
    "# # Convert to pandas DataFrame\n",
    "# results_df = pd.DataFrame.from_records(results)\n",
    "# results_df"
   ]
  },
  {
   "cell_type": "code",
   "execution_count": null,
   "metadata": {
    "ExecuteTime": {
     "end_time": "2021-08-14T18:54:09.907689Z",
     "start_time": "2021-08-14T18:53:47.337Z"
    }
   },
   "outputs": [],
   "source": [
    "# ## CSV way\n",
    "# url =\"https://healthdata.gov/resource/6xf2-c3ie.csv\"\n",
    "# df0 = pd.read_csv(url,parse_dates=True)\n",
    "# df0\n"
   ]
  },
  {
   "cell_type": "code",
   "execution_count": null,
   "metadata": {
    "ExecuteTime": {
     "end_time": "2021-08-14T18:54:09.908965Z",
     "start_time": "2021-08-14T18:53:47.340Z"
    }
   },
   "outputs": [],
   "source": [
    "# df0.info()"
   ]
  },
  {
   "cell_type": "code",
   "execution_count": null,
   "metadata": {
    "ExecuteTime": {
     "end_time": "2021-08-14T18:54:09.910229Z",
     "start_time": "2021-08-14T18:53:47.344Z"
    }
   },
   "outputs": [],
   "source": [
    "# df0.nunique()"
   ]
  },
  {
   "cell_type": "code",
   "execution_count": null,
   "metadata": {},
   "outputs": [],
   "source": []
  }
 ],
 "metadata": {
  "kernelspec": {
   "display_name": "learn-env-new",
   "language": "python",
   "name": "learn-env-new"
  },
  "language_info": {
   "codemirror_mode": {
    "name": "ipython",
    "version": 3
   },
   "file_extension": ".py",
   "mimetype": "text/x-python",
   "name": "python",
   "nbconvert_exporter": "python",
   "pygments_lexer": "ipython3",
   "version": "3.8.5"
  },
  "toc": {
   "base_numbering": 1,
   "nav_menu": {},
   "number_sections": true,
   "sideBar": true,
   "skip_h1_title": false,
   "title_cell": "Table of Contents",
   "title_sidebar": "Contents",
   "toc_cell": false,
   "toc_position": {
    "height": "calc(100% - 180px)",
    "left": "10px",
    "top": "150px",
    "width": "288px"
   },
   "toc_section_display": true,
   "toc_window_display": true
  }
 },
 "nbformat": 4,
 "nbformat_minor": 4
}
