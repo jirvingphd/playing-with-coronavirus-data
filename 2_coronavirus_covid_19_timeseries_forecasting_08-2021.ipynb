{
 "cells": [
  {
   "cell_type": "markdown",
   "metadata": {
    "id": "A-DATSDPqVQr"
   },
   "source": [
    "# Companion Notebook to `playing-with-coronavirus-data` \n",
    "- [GitHub Repo](https://github.com/jirvingphd/playing-with-coronavirus-data)\n",
    "- James M. Irivng, Ph.D.\n",
    "- james.irving.phd@gmail.com"
   ]
  },
  {
   "cell_type": "markdown",
   "metadata": {},
   "source": [
    "> **NOTE: DATA ACQUISITION IS BEING RE-WORKED IN \"Exploring Options for Replacing Covid Tracking Project Data_08-2021.ipnynb\"** -08/12/21"
   ]
  },
  {
   "cell_type": "markdown",
   "metadata": {},
   "source": [
    "# Business Problem"
   ]
  },
  {
   "cell_type": "markdown",
   "metadata": {},
   "source": [
    "- Covid-19 and the various strains that have since emerged has upended modern life and fundamental changed how we function as a society.\n",
    "- Part of what has made it difficult to tackle the pandemic is due to differences between states, state laws/policies, and a lack of public understanding about the predictability of the surges in cases. \n"
   ]
  },
  {
   "cell_type": "markdown",
   "metadata": {},
   "source": [
    "### Goal"
   ]
  },
  {
   "cell_type": "markdown",
   "metadata": {},
   "source": [
    "- The goal of this notebook is to produce a workflow for producing forecasts of the following metrics at least 1 week ahead of time. \n",
    "    - Confirmed Cases\n",
    "    - Number of Deaths\n",
    "    - ICU Capacity\n",
    "    \n",
    "- The stretch goal for the project is to create a streamlit dashboard for getting state-level forecasts for any state in the US, using fresh daily data.\n",
    "    "
   ]
  },
  {
   "cell_type": "markdown",
   "metadata": {},
   "source": [
    "### Methodology"
   ]
  },
  {
   "cell_type": "markdown",
   "metadata": {},
   "source": [
    "- To select 3-5 prototypical states representing very different time courses/\n",
    "- Initial Thoughts:\n",
    "    - NY\n",
    "    - TX\n",
    "    - FL\n",
    "    - MD\n",
    "    - LA"
   ]
  },
  {
   "cell_type": "markdown",
   "metadata": {},
   "source": [
    "- See `data_acquisition.py`> `FULL_WORKFLOW()` and `1_Replacing Covid Tracking Project - Simplified Workflow.ipynb` for details (for now)\n"
   ]
  },
  {
   "cell_type": "markdown",
   "metadata": {},
   "source": [
    "# OBTAIN"
   ]
  },
  {
   "cell_type": "code",
   "execution_count": null,
   "metadata": {
    "ExecuteTime": {
     "end_time": "2021-08-15T18:45:49.579058Z",
     "start_time": "2021-08-15T18:45:49.530822Z"
    }
   },
   "outputs": [],
   "source": [
    "RUN_FULL_WORKFLOW=False"
   ]
  },
  {
   "cell_type": "code",
   "execution_count": null,
   "metadata": {
    "ExecuteTime": {
     "end_time": "2021-08-15T18:45:49.646704Z",
     "start_time": "2021-08-15T18:45:49.581326Z"
    },
    "colab": {
     "base_uri": "https://localhost:8080/"
    },
    "id": "vLOxx9K-i8oU",
    "outputId": "56dca539-24db-4ed9-f39b-c5e3fa82ad7d"
   },
   "outputs": [],
   "source": [
    "# !pip install fsds\n",
    "# !pip install pmdarima\n",
    "\n",
    "from fsds.imports import *\n",
    "import os,glob,sys\n",
    "import re\n",
    "\n",
    "import plotly.express as px\n",
    "import plotly.graph_objects as go\n",
    "import plotly.io as pio\n",
    "pio.templates.default = \"plotly_dark\"\n",
    "\n",
    "plt.rcParams['figure.figsize'] = (12,6)\n",
    "pd.set_option('display.max_columns',0)\n",
    "\n",
    "import statsmodels.tsa.api as tsa"
   ]
  },
  {
   "cell_type": "code",
   "execution_count": null,
   "metadata": {
    "ExecuteTime": {
     "end_time": "2021-08-15T18:45:49.700734Z",
     "start_time": "2021-08-15T18:45:49.649375Z"
    }
   },
   "outputs": [],
   "source": [
    "%load_ext autoreload\n",
    "%autoreload 2\n",
    "import data_acquisition as da\n",
    "import coronavirus_functions as fn"
   ]
  },
  {
   "cell_type": "markdown",
   "metadata": {},
   "source": [
    "## Data"
   ]
  },
  {
   "cell_type": "markdown",
   "metadata": {},
   "source": [
    "> Data is stored as both separate csvs for each state as well as one big dictionary in a joblib file."
   ]
  },
  {
   "cell_type": "code",
   "execution_count": null,
   "metadata": {
    "ExecuteTime": {
     "end_time": "2021-08-15T18:46:04.725070Z",
     "start_time": "2021-08-15T18:46:04.431725Z"
    }
   },
   "outputs": [],
   "source": [
    "## Uncomment Cell to acquire new data\n",
    "if RUN_FULL_WORKFLOW:\n",
    "    df_states,STATES=da.FULL_WORKFLOW()\n",
    "else:\n",
    "    print(f\"[i] Using previously downloaded data...\")\n",
    "    df_states = pd.read_csv('data/combined_us_states_full_data.csv')\n",
    "    STATES = joblib.load('data/STATE_DICT.joblib')\n",
    "\n",
    "display(df_states.head())\n",
    "STATES.keys()"
   ]
  },
  {
   "cell_type": "markdown",
   "metadata": {},
   "source": [
    "# EDA"
   ]
  },
  {
   "cell_type": "markdown",
   "metadata": {},
   "source": [
    "## Selecting Final Hospital Columns to Use"
   ]
  },
  {
   "cell_type": "code",
   "execution_count": null,
   "metadata": {
    "ExecuteTime": {
     "end_time": "2021-08-12T13:57:40.142081Z",
     "start_time": "2021-08-12T13:57:40.088712Z"
    }
   },
   "outputs": [],
   "source": [
    "def get_state(STATES, state='NY',drop_cols=True,drop_exprs=['coverage','denominator' ]):\n",
    "    df_state= STATES[state].copy()\n",
    "    \n",
    "    \n",
    "    if drop_cols:\n",
    "        cols_to_drop = []\n",
    "        for expr in drop_exprs:\n",
    "            cols_to_drop.extend([c for c in df_state.columns if expr.lower() in c.lower()])\n",
    "        df_state = df_state.drop(columns=cols_to_drop)\n",
    "        \n",
    "    return df_state"
   ]
  },
  {
   "cell_type": "code",
   "execution_count": null,
   "metadata": {
    "ExecuteTime": {
     "end_time": "2021-08-15T18:46:31.588916Z",
     "start_time": "2021-08-15T18:46:31.463953Z"
    }
   },
   "outputs": [],
   "source": [
    "STATES['MD']"
   ]
  },
  {
   "cell_type": "markdown",
   "metadata": {},
   "source": [
    "### NY"
   ]
  },
  {
   "cell_type": "code",
   "execution_count": null,
   "metadata": {
    "ExecuteTime": {
     "end_time": "2021-08-12T13:57:41.367709Z",
     "start_time": "2021-08-12T13:57:41.296473Z"
    }
   },
   "outputs": [],
   "source": [
    "ny = get_state(STATES,'NY')\n",
    "ny"
   ]
  },
  {
   "cell_type": "code",
   "execution_count": null,
   "metadata": {
    "ExecuteTime": {
     "end_time": "2021-08-11T23:03:29.694321Z",
     "start_time": "2021-08-11T23:03:29.654158Z"
    }
   },
   "outputs": [],
   "source": [
    "## make subplotsplot of time series # of cases vs utilization \n",
    "df_state = ny.copy()\n",
    "drop_cols = [c for c in df_state.columns if ('numerator' in c)| ('denominator' in c)]\n",
    "# df_state.drop(columns=drop_cols,inplace=True)\n",
    "util_cols = [c for c in df_state.columns if c.endswith('utilization') ]\n",
    "other_cols = [c for c in df_state.columns if c not in util_cols]\n",
    "util_cols"
   ]
  },
  {
   "cell_type": "code",
   "execution_count": null,
   "metadata": {
    "ExecuteTime": {
     "end_time": "2021-08-11T23:03:29.767026Z",
     "start_time": "2021-08-11T23:03:29.697278Z"
    }
   },
   "outputs": [],
   "source": [
    "df_state"
   ]
  },
  {
   "cell_type": "code",
   "execution_count": null,
   "metadata": {
    "ExecuteTime": {
     "end_time": "2021-08-11T23:03:30.890323Z",
     "start_time": "2021-08-11T23:03:29.771503Z"
    }
   },
   "outputs": [],
   "source": [
    "## 3 subplots\n",
    "fig, axes = plt.subplots(nrows=4,figsize=(12,9))\n",
    "\n",
    "# 1: cases\n",
    "sns.lineplot(data = df_state,x=df_state.index,color='black', y='# Cases',\n",
    "             ax=axes[0],label='# Cases')#.plot(ax=axes[0])\n",
    "# 2: deaths\n",
    "sns.lineplot(data = df_state,x=df_state.index,color='red',\n",
    "             y='# Deaths',ax=axes[1],label='# Deaths')#.plot(ax=axes[0])\n",
    "\n",
    "# 3: icu utilization\n",
    "sns.lineplot(data=ny, x=df_state.index, y='inpatient_beds_utilization_numerator',\n",
    "            ax=axes[2], color='darkgreen',label='inpatient_beds_utilization_numerator')\n",
    "\n",
    "# 4: icu utilization\n",
    "sns.lineplot(data=ny, x=df_state.index, y='adult_icu_bed_utilization_numerator',\n",
    "            ax=axes[3], color='darkred',label='adult_icu_bed_utilization_numerator')\n",
    "plt.tight_layout()"
   ]
  },
  {
   "cell_type": "code",
   "execution_count": null,
   "metadata": {
    "ExecuteTime": {
     "end_time": "2021-08-11T23:03:30.942054Z",
     "start_time": "2021-08-11T23:03:30.893718Z"
    },
    "colab": {
     "base_uri": "https://localhost:8080/",
     "height": 17
    },
    "id": "KByhN6pykJGP",
    "outputId": "1f4e7776-0000-4dc1-de34-708ae6c2b925"
   },
   "outputs": [],
   "source": [
    "## Appending folder with functions\n",
    "# %load_ext autoreload \n",
    "# %autoreload 2\n",
    "# import sys\n",
    "# sys.path.append('.')\n",
    "\n",
    "# import functions as fn\n",
    "# help(fn)"
   ]
  },
  {
   "cell_type": "code",
   "execution_count": null,
   "metadata": {
    "ExecuteTime": {
     "end_time": "2021-08-11T23:03:31.001366Z",
     "start_time": "2021-08-11T23:03:30.944170Z"
    }
   },
   "outputs": [],
   "source": [
    "def plot_state(df_state, title='State Covid Statistics',figsize=(10,8)):\n",
    "    drop_cols = [c for c in df_state.columns if ('numerator' in c)| ('denominator' in c)]\n",
    "    df_state.drop(columns=drop_cols,inplace=True)\n",
    "    util_cols = [c for c in df_state.columns if c.endswith('utilization') ]\n",
    "    other_cols = [c for c in df_state.columns if c not in util_cols]\n",
    "\n",
    "    ## 3 subplots\n",
    "    fig, axes = plt.subplots(nrows=4,figsize=figsize)\n",
    "    fig.suptitle(title)\n",
    "\n",
    "    # 1: cases\n",
    "    sns.lineplot(data = df_state,x=df_state.index,color='black', y='# Cases',\n",
    "                 ax=axes[0],label='# Cases')#.plot(ax=axes[0])\n",
    "    # 2: deaths\n",
    "    sns.lineplot(data = df_state,x=df_state.index,color='red',\n",
    "                 y='# Deaths',ax=axes[1],label='# Deaths')#.plot(ax=axes[0])\n",
    "\n",
    "    # 3: icu utilization\n",
    "    sns.lineplot(data=ny, x=df_state.index, y='inpatient_beds_utilization',\n",
    "                ax=axes[2], color='darkgreen',label='inpatient_beds_utilization')\n",
    "\n",
    "    # 4: icu utilization\n",
    "    sns.lineplot(data=ny, x=df_state.index, y='adult_icu_bed_utilization',\n",
    "                ax=axes[3], color='darkred',label='adult_icu_bed_utilization')\n",
    "    plt.tight_layout()\n",
    "    return fig"
   ]
  },
  {
   "cell_type": "code",
   "execution_count": null,
   "metadata": {},
   "outputs": [],
   "source": []
  },
  {
   "cell_type": "code",
   "execution_count": null,
   "metadata": {
    "ExecuteTime": {
     "end_time": "2021-08-11T23:03:32.076351Z",
     "start_time": "2021-08-11T23:03:31.003955Z"
    }
   },
   "outputs": [],
   "source": [
    "plot_state(ny);"
   ]
  },
  {
   "cell_type": "markdown",
   "metadata": {},
   "source": [
    "# Time Series Modeling"
   ]
  },
  {
   "cell_type": "markdown",
   "metadata": {},
   "source": [
    "## Functions"
   ]
  },
  {
   "cell_type": "code",
   "execution_count": null,
   "metadata": {
    "ExecuteTime": {
     "end_time": "2021-08-11T23:03:32.333201Z",
     "start_time": "2021-08-11T23:03:32.078405Z"
    }
   },
   "outputs": [],
   "source": [
    "### FORECAST SPECIFIC FUNCTIONS\n",
    "from statsmodels.tsa.statespace.sarimax import SARIMAX\n",
    "import statsmodels.api as sms\n",
    "import statsmodels.tsa.api as tsa\n",
    "\n",
    "# def get_forecast(model,steps=12):\n",
    "#     pred = model.get_forecast(steps=steps)\n",
    "#     forecast = pred.conf_int()\n",
    "#     forecast.columns = ['Lower CI','Upper CI']\n",
    "#     forecast['Forecast'] = pred.predicted_mean\n",
    "#     return forecast\n",
    "\n",
    "    \n",
    "# def plot_forecast(model,ts,last_n_lags=52,future_steps=12):\n",
    "#     forecast_df = get_forecast(model,steps=future_steps)\n",
    "\n",
    "#     fig,ax = plt.subplots(figsize=(12,5))\n",
    "#     ts.iloc[-last_n_lags:].plot(label='True Data')\n",
    "#     forecast_df['Forecast'].plot(ax=ax)\n",
    "#     ax.fill_between(forecast_df.index,\n",
    "#                     forecast_df['Lower CI'], forecast_df['Upper CI'],alpha=0.6)\n",
    "#     ax.legend()\n",
    "#     ax.set(title=f'Forecasted {ts.name}')\n",
    "#     return fig,ax\n",
    "\n",
    "\n",
    "# def evaluate_model(model,ts,last_n_lags =52,steps=12):\n",
    "#     display(model.summary())\n",
    "#     model.plot_diagnostics();\n",
    "#     fig,ax=plot_forecast(model,ts,future_steps=steps,last_n_lags=last_n_lags)\n",
    "#     return fig,ax"
   ]
  },
  {
   "cell_type": "code",
   "execution_count": null,
   "metadata": {
    "ExecuteTime": {
     "end_time": "2021-08-11T23:03:32.531932Z",
     "start_time": "2021-08-11T23:03:32.334858Z"
    },
    "id": "9aPEQnwXpTCF"
   },
   "outputs": [],
   "source": [
    "from pmdarima import auto_arima\n",
    "\n",
    "# def get_ts(df,col,fill_val=np.nan,**kwargs):\n",
    "#     ts = df[col].fillna(value=fill_val)\n",
    "#     return ts\n",
    "\n",
    "\n",
    "\n",
    "# def get_best_model(ts,start_p=0,start_q=0,start_P=0,start_Q=0,m=7,\n",
    "#                    as_sarimax = True, **kwargs):\n",
    "    \n",
    "#     auto_model = auto_arima(ts,start_p=start_p,\n",
    "#                             start_q=start_q,start_P=start_P,start_Q=start_Q,m=m,)\n",
    "#     print(f\"[i] Best parameters found:\")\n",
    "#     display(auto_model.summary())\n",
    "\n",
    "#     if as_sarimax:\n",
    "#         model = SARIMAX(ts,order=auto_model.order, \n",
    "#                 seasonal_order =auto_model.seasonal_order,\n",
    "#                 enforce_invertibility=False,freq='D').fit()\n",
    "#         return model\n",
    "\n",
    "#     else:\n",
    "#         return auto_model\n",
    "\n",
    "# # def get_forecast(model,steps=14):\n",
    "# #     forecast = model.get_forecast(steps=steps)\n",
    "# #     forecast_df = forecast.conf_int()\n",
    "# #     forecast_df['Forecast'] = forecast.predicted_mean\n",
    "# #     forecast_df.columns = ['lower','upper','Forecast']\n",
    "# #     return forecast_df\n",
    "\n",
    "    \n",
    "# def plot_forecast(model,ts,last_n_days=60,future_steps=14):\n",
    "#     forecast_df = get_forecast(model,steps=future_steps)\n",
    "\n",
    "#     fig,ax = plt.subplots(figsize=(12,5))\n",
    "#     ts.iloc[-last_n_days:].plot(label='True Data')\n",
    "#     forecast_df['forecast'].plot(ax=ax)\n",
    "#     ax.fill_between(forecast_df.index,\n",
    "#                     forecast_df['lower'], forecast_df['upper'],alpha=0.6)\n",
    "#     ax.legend()\n",
    "#     ax.set(title=f'Forecasted {ts.name}')\n",
    "#     return fig,ax"
   ]
  },
  {
   "cell_type": "markdown",
   "metadata": {},
   "source": [
    "## NY"
   ]
  },
  {
   "cell_type": "code",
   "execution_count": null,
   "metadata": {
    "ExecuteTime": {
     "end_time": "2021-08-11T23:03:33.608498Z",
     "start_time": "2021-08-11T23:03:32.533867Z"
    }
   },
   "outputs": [],
   "source": [
    "plot_state(ny);"
   ]
  },
  {
   "cell_type": "markdown",
   "metadata": {
    "id": "pLrabV-ersER"
   },
   "source": [
    "### Checking Seasonal Decompose for Seasonality to Use"
   ]
  },
  {
   "cell_type": "code",
   "execution_count": null,
   "metadata": {
    "ExecuteTime": {
     "end_time": "2021-08-11T23:03:33.842531Z",
     "start_time": "2021-08-11T23:03:33.610013Z"
    }
   },
   "outputs": [],
   "source": [
    "ts = ny['# Cases'].copy()\n",
    "ts.plot()"
   ]
  },
  {
   "cell_type": "markdown",
   "metadata": {},
   "source": [
    "### Number of Cases"
   ]
  },
  {
   "cell_type": "code",
   "execution_count": null,
   "metadata": {
    "ExecuteTime": {
     "end_time": "2021-08-11T23:03:34.631991Z",
     "start_time": "2021-08-11T23:03:33.844325Z"
    },
    "colab": {
     "base_uri": "https://localhost:8080/",
     "height": 441
    },
    "id": "SMMxLcVFn041",
    "outputId": "09cc9c27-009f-42d5-b1c3-62f868353ee5"
   },
   "outputs": [],
   "source": [
    "decomp = tsa.seasonal_decompose(ts)\n",
    "decomp.plot();"
   ]
  },
  {
   "cell_type": "code",
   "execution_count": null,
   "metadata": {
    "ExecuteTime": {
     "end_time": "2021-08-11T23:03:34.922241Z",
     "start_time": "2021-08-11T23:03:34.633911Z"
    },
    "colab": {
     "base_uri": "https://localhost:8080/",
     "height": 440
    },
    "id": "V6OJUaIaoNKM",
    "outputId": "058029a6-d035-49aa-9eab-882db278d33b"
   },
   "outputs": [],
   "source": [
    "ax = decomp.seasonal.loc['01-2021'].plot()\n",
    "ax.grid(which='both')"
   ]
  },
  {
   "cell_type": "markdown",
   "metadata": {
    "id": "_SrV8Rzyn0MU"
   },
   "source": [
    "- Seasonality appears to be ~7 days"
   ]
  },
  {
   "cell_type": "code",
   "execution_count": null,
   "metadata": {
    "ExecuteTime": {
     "end_time": "2021-08-11T23:03:35.285265Z",
     "start_time": "2021-08-11T23:03:34.924156Z"
    }
   },
   "outputs": [],
   "source": [
    "fn.stationarity_check(ts.diff(7).dropna(),window=4)"
   ]
  },
  {
   "cell_type": "code",
   "execution_count": null,
   "metadata": {
    "ExecuteTime": {
     "end_time": "2021-08-11T23:03:35.509172Z",
     "start_time": "2021-08-11T23:03:35.286978Z"
    }
   },
   "outputs": [],
   "source": [
    "ts.plot()"
   ]
  },
  {
   "cell_type": "code",
   "execution_count": null,
   "metadata": {
    "ExecuteTime": {
     "end_time": "2021-08-11T23:03:35.564066Z",
     "start_time": "2021-08-11T23:03:35.510981Z"
    }
   },
   "outputs": [],
   "source": [
    "ts.shape[0]-30"
   ]
  },
  {
   "cell_type": "code",
   "execution_count": null,
   "metadata": {
    "ExecuteTime": {
     "end_time": "2021-08-11T23:03:35.619503Z",
     "start_time": "2021-08-11T23:03:35.566253Z"
    }
   },
   "outputs": [],
   "source": [
    "n=30"
   ]
  },
  {
   "cell_type": "code",
   "execution_count": null,
   "metadata": {
    "ExecuteTime": {
     "end_time": "2021-08-11T23:03:35.678746Z",
     "start_time": "2021-08-11T23:03:35.621508Z"
    }
   },
   "outputs": [],
   "source": [
    "def train_test_split_ts(ts,test_size=0.9,split_index=None):\n",
    "    \"\"\"Uses test size by default, split_index overrides it\"\"\"\n",
    "    if split_index is not None:\n",
    "        tts_cutoff = split_index\n",
    "    else:\n",
    "        tts_cutoff = round(ts.shape[0]*0.9)\n",
    "    fmt = \"%m-%d-%Y\"\n",
    "    cutoff_time = ts.index[tts_cutoff]\n",
    "    print(f\"Using a cutoff index of {tts_cutoff}, which = {cutoff_time.strftime(fmt)}\")\n",
    "    \n",
    "      ## Use the tts cutoff to do Train test split and plot\n",
    "    train = ts.iloc[:tts_cutoff]\n",
    "    test = ts.iloc[tts_cutoff:]\n",
    "\n",
    "    ## Plot\n",
    "    ax = train.plot(label='train')\n",
    "    test.plot(label='test')\n",
    "    ax.legend()\n",
    "    ax.set(ylabel=ts.name)\n",
    "    ax.axvline(cutoff_time,color='k',ls=':',label=cutoff_time.strftime(fmt))\n",
    "    ax.legend()\n",
    "    ax.set_title(f\"Train Test Split for {ts.name}\")\n",
    "    return train, test\n"
   ]
  },
  {
   "cell_type": "code",
   "execution_count": null,
   "metadata": {
    "ExecuteTime": {
     "end_time": "2021-08-11T23:03:36.016500Z",
     "start_time": "2021-08-11T23:03:35.680716Z"
    }
   },
   "outputs": [],
   "source": [
    "train,test = train_test_split_ts(ts,split_index=-30)"
   ]
  },
  {
   "cell_type": "code",
   "execution_count": null,
   "metadata": {
    "ExecuteTime": {
     "end_time": "2021-08-11T23:03:36.070637Z",
     "start_time": "2021-08-11T23:03:36.018495Z"
    },
    "id": "SVfzTpF_nIcA"
   },
   "outputs": [],
   "source": [
    "# ## train test spit\n",
    "# # get the tts_cutoff  (the # of timesteps/rows to split at)\n",
    "# tts_cutoff = round(ts.shape[0]*0.9)\n",
    "# tts_cutoff"
   ]
  },
  {
   "cell_type": "code",
   "execution_count": null,
   "metadata": {
    "ExecuteTime": {
     "end_time": "2021-08-11T23:03:36.124867Z",
     "start_time": "2021-08-11T23:03:36.072792Z"
    }
   },
   "outputs": [],
   "source": [
    "# ## Use the tts cutoff to do Train test split and plot\n",
    "# train = ts.iloc[:tts_cutoff]\n",
    "# test = ts.iloc[tts_cutoff:]\n",
    "\n",
    "# ## Plot\n",
    "# ax = train.plot(label='train')\n",
    "# test.plot(label='test')\n",
    "# ax.legend()"
   ]
  },
  {
   "cell_type": "code",
   "execution_count": null,
   "metadata": {
    "ExecuteTime": {
     "end_time": "2021-08-11T23:03:36.465089Z",
     "start_time": "2021-08-11T23:03:36.132343Z"
    }
   },
   "outputs": [],
   "source": [
    "## check staationarity \n",
    "fn.stationarity_check(train.diff(7).dropna(), window=7)"
   ]
  },
  {
   "cell_type": "code",
   "execution_count": null,
   "metadata": {
    "ExecuteTime": {
     "end_time": "2021-08-11T23:03:36.834003Z",
     "start_time": "2021-08-11T23:03:36.468468Z"
    }
   },
   "outputs": [],
   "source": [
    "m=7\n",
    "fig,axes = plt.subplots(nrows=2, sharex=True)\n",
    "tsa.graphics.plot_acf(train,ax=axes[0],title='Autocorrelation')\n",
    "\n",
    "tsa.graphics.plot_acf(train.diff(m).dropna(),ax=axes[1],title=f'Autocorrelation-Post Differencing (m={m})');\n",
    "[a.grid(which='both',axis='x') for a in axes]"
   ]
  },
  {
   "cell_type": "code",
   "execution_count": null,
   "metadata": {
    "ExecuteTime": {
     "end_time": "2021-08-11T23:03:37.169460Z",
     "start_time": "2021-08-11T23:03:36.836682Z"
    }
   },
   "outputs": [],
   "source": [
    "fig,axes = plt.subplots(nrows=2, sharex=True)\n",
    "tsa.graphics.plot_pacf(train,ax=axes[0],title='Partial-Autocorrelation')\n",
    "\n",
    "tsa.graphics.plot_pacf(train.diff(m).dropna(),ax=axes[1],title=f'Partial Autocorrelation-Post Differencing (m={m})');\n",
    "[a.grid(which='both',axis='x') for a in axes]"
   ]
  },
  {
   "cell_type": "markdown",
   "metadata": {},
   "source": [
    "> Add notes about COVID insights from acf/pacf"
   ]
  },
  {
   "cell_type": "markdown",
   "metadata": {},
   "source": [
    "# BOOKMARK"
   ]
  },
  {
   "cell_type": "code",
   "execution_count": null,
   "metadata": {
    "ExecuteTime": {
     "end_time": "2021-08-11T23:09:43.764656Z",
     "start_time": "2021-08-11T23:09:43.703507Z"
    }
   },
   "outputs": [],
   "source": [
    "## funtionize diagnosing\n",
    "def diagnose_model(model):\n",
    "    \"\"\"Takes a fit statsmodels model and displays the .summary \n",
    "    and plots the built-in plot.diagnostics()\"\"\"\n",
    "    display(model.summary())\n",
    "    model.plot_diagnostics()\n",
    "    plt.tight_layout()\n",
    "    \n",
    "    \n",
    "def get_df_from_pred(forecast_or_pred,forecast_label='Forecast'):\n",
    "    \"\"\"Takes a PredictionResultsWrapper from statsmodels\n",
    "    extracts the confidence intervals and predicted mean and returns in a df\"\"\"\n",
    "    forecast_df = forecast_or_pred.conf_int()\n",
    "    forecast_df.columns = ['Lower CI','Upper CI']\n",
    "    forecast_df[forecast_label] = forecast_or_pred.predicted_mean\n",
    "    return forecast_df\n",
    "\n",
    "\n",
    "def plot_forecast(model,ts,last_n_lags=365,future_steps=12):\n",
    "    forecast_df = get_forecast(model,steps=future_steps)\n",
    "\n",
    "    fig,ax = plt.subplots(figsize=(12,5))\n",
    "    ts.iloc[-last_n_lags:].plot(label='True Data')\n",
    "    forecast_df['Forecast'].plot(ax=ax)\n",
    "    ax.fill_between(forecast_df.index,\n",
    "                    forecast_df['Lower CI'], forecast_df['Upper CI'],alpha=0.6)\n",
    "    ax.legend()\n",
    "    ax.set(title=f'Forecasted {ts.name}')\n",
    "    return fig,ax\n",
    "\n",
    "\n",
    "### SHOULD I GET RID OF THIS FUNCTION?\n",
    "def plot_forecast_from_df(forecast_df,ts_diff=None,orig_label='True Data',\n",
    "                          forecast_label='Forecast',\n",
    "                          last_n_lags=52,figsize=(10,4)):\n",
    "    \"\"\"Takes a forecast_df from get_df_from_pred and optionally \n",
    "    the training/original time series.\n",
    "    \n",
    "    Plots the original ts, the predicted mean and the \n",
    "    confidence invtervals (using fill between)\"\"\"\n",
    "    fig,ax = plt.subplots(figsize=figsize)\n",
    "\n",
    "    if ts_diff is not None:\n",
    "        ts_diff.iloc[-last_n_lags:].plot(label='True Data')\n",
    "        \n",
    "   \n",
    "    forecast_df['Forecast'].plot(ax=ax,label=forecast_label)\n",
    "    ax.fill_between(forecast_df.index,\n",
    "                    forecast_df['Lower CI'], \n",
    "                    forecast_df['Upper CI'],color='g',alpha=0.3)\n",
    "    ax.legend()\n",
    "    ax.set(title=f'Forecasted {ts_diff.name}')\n",
    "    return fig,ax\n",
    "        \n",
    "    \n",
    "def get_forecast(model,steps=14):\n",
    "    forecast = model.get_forecast(steps=steps)\n",
    "    forecast_df = forecast.conf_int()\n",
    "    forecast_df['Forecast'] = forecast.predicted_mean\n",
    "    forecast_df.columns = ['lower','upper','Forecast']\n",
    "    return forecast_df\n",
    "    \n",
    "    \n",
    "    \n",
    "def evaluate_model(model,train,test,steps=None):\n",
    "    diagnose_model(model)\n",
    "    \n",
    "    if steps is None:\n",
    "        steps=len(test)\n",
    "    \n",
    "#     forecast = model.get_forecast(steps=steps)\n",
    "#     forecast_df = get_df_from_pred(forecast)\n",
    "    \n",
    "#     fig, ax = plot_forecast_from_df(forecast_df,ts_diff=ts,\n",
    "#                                     last_n_lags=365)\n",
    "    fig, ax = plot_forecast(model,train,future_steps=steps)\n",
    "    \n",
    "    if test is not None:\n",
    "        test.plot(ax=ax,label='Test Data')\n",
    "        ax.legend()\n",
    "    return fig,ax\n",
    "           "
   ]
  },
  {
   "cell_type": "code",
   "execution_count": null,
   "metadata": {
    "ExecuteTime": {
     "end_time": "2021-08-11T23:10:21.287680Z",
     "start_time": "2021-08-11T23:09:45.120143Z"
    },
    "colab": {
     "base_uri": "https://localhost:8080/"
    },
    "id": "wrBLGbZ2nYQS",
    "outputId": "84a126a6-a191-429a-e679-6313b7e0840a"
   },
   "outputs": [],
   "source": [
    "from pmdarima import auto_arima\n",
    "\n",
    "auto_model = auto_arima(train,start_p=0,start_q=0,start_P=0,start_Q=0,m=7,trace=False)\n",
    "auto_model.summary()"
   ]
  },
  {
   "cell_type": "code",
   "execution_count": null,
   "metadata": {
    "ExecuteTime": {
     "end_time": "2021-08-11T23:10:22.277972Z",
     "start_time": "2021-08-11T23:10:21.290806Z"
    },
    "colab": {
     "base_uri": "https://localhost:8080/"
    },
    "id": "u9lEfH3roi87",
    "outputId": "394731f0-f82b-45b8-f36d-1ab385866427",
    "scrolled": false
   },
   "outputs": [],
   "source": [
    "model = tsa.SARIMAX(train,order=auto_model.order, \n",
    "                seasonal_order =auto_model.seasonal_order,\n",
    "                enforce_invertibility=False,freq='D').fit()\n",
    "display(model.summary())\n",
    "model.plot_diagnostics();"
   ]
  },
  {
   "cell_type": "code",
   "execution_count": null,
   "metadata": {
    "ExecuteTime": {
     "end_time": "2021-08-11T23:10:23.449858Z",
     "start_time": "2021-08-11T23:10:22.281225Z"
    },
    "scrolled": false
   },
   "outputs": [],
   "source": [
    "# fn.plot_forecast(model,)\n",
    "evaluate_model(model,train,test,)"
   ]
  },
  {
   "cell_type": "code",
   "execution_count": null,
   "metadata": {
    "ExecuteTime": {
     "end_time": "2021-08-11T23:04:16.015941Z",
     "start_time": "2021-08-11T23:03:25.314Z"
    }
   },
   "outputs": [],
   "source": [
    "## Next: if happy, train on entire ts"
   ]
  },
  {
   "cell_type": "code",
   "execution_count": null,
   "metadata": {
    "ExecuteTime": {
     "end_time": "2021-08-11T23:04:16.017526Z",
     "start_time": "2021-08-11T23:03:25.317Z"
    }
   },
   "outputs": [],
   "source": [
    "model = tsa.SARIMAX(ts,order=auto_model.order, \n",
    "                seasonal_order =auto_model.seasonal_order,\n",
    "                enforce_invertibility=False,freq='D').fit()\n",
    "display(model.summary())\n",
    "model.plot_diagnostics();"
   ]
  },
  {
   "cell_type": "code",
   "execution_count": null,
   "metadata": {
    "ExecuteTime": {
     "end_time": "2021-08-11T23:04:16.019058Z",
     "start_time": "2021-08-11T23:03:25.322Z"
    }
   },
   "outputs": [],
   "source": [
    "plot_forecast(model, ts,last_n_lags=500)"
   ]
  },
  {
   "cell_type": "markdown",
   "metadata": {},
   "source": [
    "## Old Data"
   ]
  },
  {
   "cell_type": "code",
   "execution_count": null,
   "metadata": {
    "ExecuteTime": {
     "end_time": "2021-08-11T23:04:16.020901Z",
     "start_time": "2021-08-11T23:03:25.325Z"
    }
   },
   "outputs": [],
   "source": [
    "# covid = fn.CovidTrackingProject(verbose=True)\n",
    "# covid"
   ]
  },
  {
   "cell_type": "code",
   "execution_count": null,
   "metadata": {
    "ExecuteTime": {
     "end_time": "2021-08-11T23:04:16.023038Z",
     "start_time": "2021-08-11T23:03:25.328Z"
    }
   },
   "outputs": [],
   "source": [
    "# covid.df_states"
   ]
  },
  {
   "cell_type": "markdown",
   "metadata": {},
   "source": [
    "## Updating Workflow Due to CovidTracking Project API shutting down"
   ]
  },
  {
   "cell_type": "markdown",
   "metadata": {},
   "source": [
    "- Reverting to using Kaggle dataset. \n"
   ]
  },
  {
   "cell_type": "markdown",
   "metadata": {},
   "source": [
    "# UPDATING "
   ]
  },
  {
   "cell_type": "code",
   "execution_count": null,
   "metadata": {
    "ExecuteTime": {
     "end_time": "2021-08-11T23:04:16.024683Z",
     "start_time": "2021-08-11T23:03:25.330Z"
    }
   },
   "outputs": [],
   "source": [
    "cols_to_grab = ['# Cases','# Deaths','inpatient_beds_utilization','adult_icu_bed_utilization']\n",
    "df_state = STATES['MD'][cols_to_grab].copy()\n",
    "df_state"
   ]
  },
  {
   "cell_type": "code",
   "execution_count": null,
   "metadata": {},
   "outputs": [],
   "source": []
  },
  {
   "cell_type": "code",
   "execution_count": null,
   "metadata": {
    "ExecuteTime": {
     "end_time": "2021-08-11T23:04:16.025939Z",
     "start_time": "2021-08-11T23:03:25.333Z"
    }
   },
   "outputs": [],
   "source": [
    "\n",
    "\n",
    "# ## Get df for curr state and resample, keeping the last point for each day\n",
    "# state_df = df.loc[df['state']==state]\n",
    "# state_df = state_df.resample('D').last()\n",
    "\n",
    "# ## save each col into its own dict key\n",
    "# state_ts_dict = {}\n",
    "# for col in cols_to_grab:\n",
    "#     curr_ts = state_df[col].rename(f\"{state}-{col}\")\n",
    "#     state_ts_dict[col] = curr_ts\n",
    "# state_ts_dict"
   ]
  },
  {
   "cell_type": "code",
   "execution_count": null,
   "metadata": {
    "ExecuteTime": {
     "end_time": "2021-08-11T23:04:16.027496Z",
     "start_time": "2021-08-11T23:03:25.336Z"
    }
   },
   "outputs": [],
   "source": [
    "# cols_to_grab = ['Confirmed','Deaths','Recovered']\n",
    "# state_data = {}\n",
    "# for state in state_list:\n",
    "\n",
    "#     ## Get df for curr state and resample, keeping the last point for each day\n",
    "#     state_df = df.loc[df['state']==state]\n",
    "#     state_df = state_df.resample('D').last()\n",
    "\n",
    "#     ## save each col into its own dict key\n",
    "#     state_ts_dict = {}\n",
    "#     for col in cols_to_grab:\n",
    "#         curr_ts = state_df[col].rename(f\"{state}-{col}\")\n",
    "#         state_ts_dict[col] = curr_ts\n",
    "#     state_data[state] = pd.DataFrame(state_ts_dict)"
   ]
  },
  {
   "cell_type": "code",
   "execution_count": null,
   "metadata": {
    "ExecuteTime": {
     "end_time": "2021-08-11T23:04:16.028972Z",
     "start_time": "2021-08-11T23:03:25.339Z"
    }
   },
   "outputs": [],
   "source": [
    "# ## pull out md confirmed\n",
    "# ts = state_data['MD']#['Confirmed']\n",
    "# ts"
   ]
  },
  {
   "cell_type": "markdown",
   "metadata": {},
   "source": [
    "# TEST MODELING"
   ]
  },
  {
   "cell_type": "code",
   "execution_count": null,
   "metadata": {
    "ExecuteTime": {
     "end_time": "2021-08-11T23:04:16.030948Z",
     "start_time": "2021-08-11T23:03:25.341Z"
    }
   },
   "outputs": [],
   "source": [
    "df_state.columns"
   ]
  },
  {
   "cell_type": "code",
   "execution_count": null,
   "metadata": {
    "ExecuteTime": {
     "end_time": "2021-08-11T23:04:16.032462Z",
     "start_time": "2021-08-11T23:03:25.343Z"
    }
   },
   "outputs": [],
   "source": [
    "ts = df_state['# Cases']\n",
    "ts.plot()"
   ]
  },
  {
   "cell_type": "code",
   "execution_count": null,
   "metadata": {
    "ExecuteTime": {
     "end_time": "2021-08-11T23:04:16.033853Z",
     "start_time": "2021-08-11T23:03:25.346Z"
    }
   },
   "outputs": [],
   "source": [
    "ts2 = df_state['adult_icu_bed_utilization']\n",
    "ts2.plot()"
   ]
  },
  {
   "cell_type": "code",
   "execution_count": null,
   "metadata": {
    "ExecuteTime": {
     "end_time": "2021-08-11T23:04:16.035225Z",
     "start_time": "2021-08-11T23:03:25.348Z"
    }
   },
   "outputs": [],
   "source": [
    "ts3 = df_state['# Deaths']\n",
    "ts3.plot()"
   ]
  },
  {
   "cell_type": "markdown",
   "metadata": {},
   "source": []
  },
  {
   "cell_type": "code",
   "execution_count": null,
   "metadata": {},
   "outputs": [],
   "source": []
  },
  {
   "cell_type": "code",
   "execution_count": null,
   "metadata": {
    "ExecuteTime": {
     "end_time": "2021-08-11T23:04:16.036918Z",
     "start_time": "2021-08-11T23:03:25.352Z"
    },
    "colab": {
     "base_uri": "https://localhost:8080/"
    },
    "id": "us31SZqHo7AT",
    "outputId": "e991ea78-633c-4bed-f700-d155df1cea0a"
   },
   "outputs": [],
   "source": [
    "##Getting forecast\n",
    "forecast = model.get_forecast(steps=14)\n",
    "\n",
    "forecast_df = forecast.conf_int()\n",
    "forecast_df['Forecast'] = forecast.predicted_mean\n",
    "forecast_df.columns = ['lower','upper','forecast']\n",
    "forecast_df"
   ]
  },
  {
   "cell_type": "code",
   "execution_count": null,
   "metadata": {
    "ExecuteTime": {
     "end_time": "2021-08-11T23:04:16.038769Z",
     "start_time": "2021-08-11T23:03:25.355Z"
    },
    "colab": {
     "base_uri": "https://localhost:8080/"
    },
    "id": "nIe_V0EUo-9i",
    "outputId": "12adf0ce-fa7d-40bc-cf6b-9eb64e6cc87e"
   },
   "outputs": [],
   "source": [
    "last_n_days = 60\n",
    "fig,ax = plt.subplots(figsize=(12,5))\n",
    "ts.iloc[-last_n_days:].plot(label='True Data')\n",
    "forecast_df['forecast'].plot(ax=ax)\n",
    "ax.fill_between(forecast_df.index,\n",
    "                forecast_df['lower'], forecast_df['upper'],alpha=0.6)\n",
    "ax.legend()\n",
    "ax.set(title='Forecasted Hospitalizations (Current) for Maryland')\n",
    "# ax.plot()"
   ]
  }
 ],
 "metadata": {
  "colab": {
   "collapsed_sections": [],
   "name": "coronavirus/covid-19 forecasting.ipynb",
   "provenance": [],
   "toc_visible": true
  },
  "kernelspec": {
   "display_name": "learn-env-new",
   "language": "python",
   "name": "learn-env-new"
  },
  "language_info": {
   "codemirror_mode": {
    "name": "ipython",
    "version": 3
   },
   "file_extension": ".py",
   "mimetype": "text/x-python",
   "name": "python",
   "nbconvert_exporter": "python",
   "pygments_lexer": "ipython3",
   "version": "3.8.5"
  },
  "toc": {
   "base_numbering": 1,
   "nav_menu": {},
   "number_sections": true,
   "sideBar": true,
   "skip_h1_title": false,
   "title_cell": "Table of Contents",
   "title_sidebar": "Contents",
   "toc_cell": false,
   "toc_position": {
    "height": "calc(100% - 180px)",
    "left": "10px",
    "top": "150px",
    "width": "261.812px"
   },
   "toc_section_display": true,
   "toc_window_display": true
  }
 },
 "nbformat": 4,
 "nbformat_minor": 1
}
