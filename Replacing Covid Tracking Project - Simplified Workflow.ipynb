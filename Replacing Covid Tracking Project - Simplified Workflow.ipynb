{
 "cells": [
  {
   "cell_type": "markdown",
   "metadata": {},
   "source": [
    "# Replacing Covid Tracking Project - Simplified Workflow"
   ]
  },
  {
   "cell_type": "markdown",
   "metadata": {},
   "source": [
    ">NOTE: ~~See  final workflow in the final script: `data_acquisition.py`~~ **as of 08/12, the development of the data acquisition code has moved back to \"`Exploring Options for Replacing Covid Tracking Project Data_08-2021.ipynb`\"**"
   ]
  },
  {
   "cell_type": "markdown",
   "metadata": {},
   "source": [
    "- 08/09/21\n",
    "\n",
    "- This is a companion notebook to `Exploring Options for Replacing Covid Tracking Project Data_08-2021`\n",
    "- The goal is to only save the final pieces of code required to produce the dataset, and to exclude testing things out and info displays"
   ]
  },
  {
   "cell_type": "markdown",
   "metadata": {},
   "source": [
    "## Summary"
   ]
  },
  {
   "cell_type": "markdown",
   "metadata": {},
   "source": [
    "- Download kaggle data for the deaths and cases counts\n",
    "- Download Socrata HHS data for hospital info\n",
    "- Get all as daily frequency and with State Abbrevs before merging"
   ]
  },
  {
   "cell_type": "code",
   "execution_count": 1,
   "metadata": {
    "ExecuteTime": {
     "end_time": "2021-08-13T22:51:46.799043Z",
     "start_time": "2021-08-13T22:51:44.220973Z"
    }
   },
   "outputs": [
    {
     "name": "stdout",
     "output_type": "stream",
     "text": [
      "fsds v0.3.2 loaded.  Read the docs: https://fs-ds.readthedocs.io/en/latest/ \n"
     ]
    },
    {
     "data": {
      "text/html": [
       "<style type=\"text/css\">\n",
       "</style>\n",
       "<table id=\"T_d51a3_\">\n",
       "  <caption>Loaded Packages and Handles</caption>\n",
       "  <thead>\n",
       "    <tr>\n",
       "      <th class=\"col_heading level0 col0\" >Handle</th>\n",
       "      <th class=\"col_heading level0 col1\" >Package</th>\n",
       "      <th class=\"col_heading level0 col2\" >Description</th>\n",
       "    </tr>\n",
       "  </thead>\n",
       "  <tbody>\n",
       "    <tr>\n",
       "      <td id=\"T_d51a3_row0_col0\" class=\"data row0 col0\" >dp</td>\n",
       "      <td id=\"T_d51a3_row0_col1\" class=\"data row0 col1\" >IPython.display</td>\n",
       "      <td id=\"T_d51a3_row0_col2\" class=\"data row0 col2\" >Display modules with helpful display and clearing commands.</td>\n",
       "    </tr>\n",
       "    <tr>\n",
       "      <td id=\"T_d51a3_row1_col0\" class=\"data row1 col0\" >fs</td>\n",
       "      <td id=\"T_d51a3_row1_col1\" class=\"data row1 col1\" >fsds</td>\n",
       "      <td id=\"T_d51a3_row1_col2\" class=\"data row1 col2\" >Custom data science bootcamp student package</td>\n",
       "    </tr>\n",
       "    <tr>\n",
       "      <td id=\"T_d51a3_row2_col0\" class=\"data row2 col0\" >mpl</td>\n",
       "      <td id=\"T_d51a3_row2_col1\" class=\"data row2 col1\" >matplotlib</td>\n",
       "      <td id=\"T_d51a3_row2_col2\" class=\"data row2 col2\" >Matplotlib's base OOP module with formatting artists</td>\n",
       "    </tr>\n",
       "    <tr>\n",
       "      <td id=\"T_d51a3_row3_col0\" class=\"data row3 col0\" >plt</td>\n",
       "      <td id=\"T_d51a3_row3_col1\" class=\"data row3 col1\" >matplotlib.pyplot</td>\n",
       "      <td id=\"T_d51a3_row3_col2\" class=\"data row3 col2\" >Matplotlib's matlab-like plotting module</td>\n",
       "    </tr>\n",
       "    <tr>\n",
       "      <td id=\"T_d51a3_row4_col0\" class=\"data row4 col0\" >np</td>\n",
       "      <td id=\"T_d51a3_row4_col1\" class=\"data row4 col1\" >numpy</td>\n",
       "      <td id=\"T_d51a3_row4_col2\" class=\"data row4 col2\" >scientific computing with Python</td>\n",
       "    </tr>\n",
       "    <tr>\n",
       "      <td id=\"T_d51a3_row5_col0\" class=\"data row5 col0\" >pd</td>\n",
       "      <td id=\"T_d51a3_row5_col1\" class=\"data row5 col1\" >pandas</td>\n",
       "      <td id=\"T_d51a3_row5_col2\" class=\"data row5 col2\" >High performance data structures and tools</td>\n",
       "    </tr>\n",
       "    <tr>\n",
       "      <td id=\"T_d51a3_row6_col0\" class=\"data row6 col0\" >sns</td>\n",
       "      <td id=\"T_d51a3_row6_col1\" class=\"data row6 col1\" >seaborn</td>\n",
       "      <td id=\"T_d51a3_row6_col2\" class=\"data row6 col2\" >High-level data visualization library based on matplotlib</td>\n",
       "    </tr>\n",
       "  </tbody>\n",
       "</table>\n"
      ],
      "text/plain": [
       "<pandas.io.formats.style.Styler at 0x7fd664d914c0>"
      ]
     },
     "metadata": {},
     "output_type": "display_data"
    }
   ],
   "source": [
    "# !pip install -U fsds\n",
    "from fsds.imports import *\n",
    "\n",
    "import os,zipfile,json,joblib\n",
    "pd.set_option('display.max_columns',0)"
   ]
  },
  {
   "cell_type": "code",
   "execution_count": 2,
   "metadata": {
    "ExecuteTime": {
     "end_time": "2021-08-13T22:51:48.379298Z",
     "start_time": "2021-08-13T22:51:46.801496Z"
    }
   },
   "outputs": [
    {
     "data": {
      "text/html": [
       "        <script type=\"text/javascript\">\n",
       "        window.PlotlyConfig = {MathJaxConfig: 'local'};\n",
       "        if (window.MathJax) {MathJax.Hub.Config({SVG: {font: \"STIX-Web\"}});}\n",
       "        if (typeof require !== 'undefined') {\n",
       "        require.undef(\"plotly\");\n",
       "        requirejs.config({\n",
       "            paths: {\n",
       "                'plotly': ['https://cdn.plot.ly/plotly-latest.min']\n",
       "            }\n",
       "        });\n",
       "        require(['plotly'], function(Plotly) {\n",
       "            window._Plotly = Plotly;\n",
       "        });\n",
       "        }\n",
       "        </script>\n",
       "        "
      ]
     },
     "metadata": {},
     "output_type": "display_data"
    },
    {
     "data": {
      "text/html": [
       "        <script type=\"text/javascript\">\n",
       "        window.PlotlyConfig = {MathJaxConfig: 'local'};\n",
       "        if (window.MathJax) {MathJax.Hub.Config({SVG: {font: \"STIX-Web\"}});}\n",
       "        if (typeof require !== 'undefined') {\n",
       "        require.undef(\"plotly\");\n",
       "        requirejs.config({\n",
       "            paths: {\n",
       "                'plotly': ['https://cdn.plot.ly/plotly-latest.min']\n",
       "            }\n",
       "        });\n",
       "        require(['plotly'], function(Plotly) {\n",
       "            window._Plotly = Plotly;\n",
       "        });\n",
       "        }\n",
       "        </script>\n",
       "        "
      ]
     },
     "metadata": {},
     "output_type": "display_data"
    },
    {
     "data": {
      "text/html": [
       "        <script type=\"text/javascript\">\n",
       "        window.PlotlyConfig = {MathJaxConfig: 'local'};\n",
       "        if (window.MathJax) {MathJax.Hub.Config({SVG: {font: \"STIX-Web\"}});}\n",
       "        if (typeof require !== 'undefined') {\n",
       "        require.undef(\"plotly\");\n",
       "        requirejs.config({\n",
       "            paths: {\n",
       "                'plotly': ['https://cdn.plot.ly/plotly-latest.min']\n",
       "            }\n",
       "        });\n",
       "        require(['plotly'], function(Plotly) {\n",
       "            window._Plotly = Plotly;\n",
       "        });\n",
       "        }\n",
       "        </script>\n",
       "        "
      ]
     },
     "metadata": {},
     "output_type": "display_data"
    }
   ],
   "source": [
    "## Appending folder with functions\n",
    "%load_ext autoreload \n",
    "%autoreload 2\n",
    "# import sys\n",
    "# sys.path.append('.')\n",
    "\n",
    "import functions as fn\n",
    "# help(fn)"
   ]
  },
  {
   "cell_type": "markdown",
   "metadata": {},
   "source": [
    "# Data"
   ]
  },
  {
   "cell_type": "markdown",
   "metadata": {},
   "source": [
    "## Specifying File Destinations"
   ]
  },
  {
   "cell_type": "code",
   "execution_count": 3,
   "metadata": {
    "ExecuteTime": {
     "end_time": "2021-08-13T22:51:48.446544Z",
     "start_time": "2021-08-13T22:51:48.382565Z"
    }
   },
   "outputs": [],
   "source": [
    "## Specifying data storage folders\n",
    "fpath_raw = r\"data_raw\"\n",
    "fpath_clean = r\"data/\"\n",
    "[os.makedirs(fpath,exist_ok=True) for fpath in [fpath_clean,fpath_raw]];"
   ]
  },
  {
   "cell_type": "markdown",
   "metadata": {},
   "source": [
    "## Covid-19 Data From Johns Hopkins University"
   ]
  },
  {
   "cell_type": "markdown",
   "metadata": {},
   "source": [
    "- https://www.kaggle.com/antgoldbloom/covid19-data-from-john-hopkins-university\n",
    "- Comes with CONVENIENT_ files and RAW_ files."
   ]
  },
  {
   "cell_type": "code",
   "execution_count": 4,
   "metadata": {
    "ExecuteTime": {
     "end_time": "2021-08-13T22:51:49.555774Z",
     "start_time": "2021-08-13T22:51:48.449734Z"
    }
   },
   "outputs": [
    {
     "name": "stdout",
     "output_type": "stream",
     "text": [
      "covid19-data-from-john-hopkins-university.zip: Skipping, found more recently modified local copy (use --force to force download)\r\n"
     ]
    },
    {
     "data": {
      "text/plain": [
       "['CONVENIENT_global_confirmed_cases.csv',\n",
       " 'CONVENIENT_global_deaths.csv',\n",
       " 'CONVENIENT_global_metadata.csv',\n",
       " 'CONVENIENT_us_confirmed_cases.csv',\n",
       " 'CONVENIENT_us_deaths.csv',\n",
       " 'CONVENIENT_us_metadata.csv',\n",
       " 'RAW_global_confirmed_cases.csv',\n",
       " 'RAW_global_deaths.csv',\n",
       " 'RAW_us_confirmed_cases.csv',\n",
       " 'RAW_us_deaths.csv']"
      ]
     },
     "execution_count": 4,
     "metadata": {},
     "output_type": "execute_result"
    }
   ],
   "source": [
    "## Download kaggle jhu data and make zipfile object\n",
    "!kaggle datasets download -p \"{fpath_raw}\" -d antgoldbloom/covid19-data-from-john-hopkins-university\n",
    "\n",
    "jhu_data_zip = zipfile.ZipFile(os.path.join(fpath_raw,'covid19-data-from-john-hopkins-university.zip'))\n",
    "jhu_data_zip.namelist()"
   ]
  },
  {
   "cell_type": "code",
   "execution_count": 5,
   "metadata": {
    "ExecuteTime": {
     "end_time": "2021-08-13T22:51:49.623284Z",
     "start_time": "2021-08-13T22:51:49.558588Z"
    }
   },
   "outputs": [],
   "source": [
    "## Getting State Abbrevs\n",
    "state_abbrevs = pd.read_csv('Reference Data/united_states_abbreviations.csv')\n",
    "\n",
    "## Making dicts of Name:Abbrev and Abbrev:Name\n",
    "state_to_abbrevs_map = dict(zip(state_abbrevs['State'],state_abbrevs['Abbreviation']))\n",
    "abbrev_to_state_map = dict(zip(state_abbrevs['Abbreviation'],state_abbrevs['State']))\n",
    "# state_to_abbrevs_map"
   ]
  },
  {
   "cell_type": "code",
   "execution_count": null,
   "metadata": {},
   "outputs": [],
   "source": []
  },
  {
   "cell_type": "markdown",
   "metadata": {},
   "source": [
    "### prep `df_metadata`"
   ]
  },
  {
   "cell_type": "code",
   "execution_count": 6,
   "metadata": {
    "ExecuteTime": {
     "end_time": "2021-08-13T22:51:49.741493Z",
     "start_time": "2021-08-13T22:51:49.626115Z"
    }
   },
   "outputs": [
    {
     "name": "stdout",
     "output_type": "stream",
     "text": [
      "Province_State    0\n",
      "State_Code        6\n",
      "Admin2            6\n",
      "Population        0\n",
      "Lat               0\n",
      "Long              0\n",
      "dtype: int64\n"
     ]
    },
    {
     "data": {
      "text/html": [
       "<div>\n",
       "<style scoped>\n",
       "    .dataframe tbody tr th:only-of-type {\n",
       "        vertical-align: middle;\n",
       "    }\n",
       "\n",
       "    .dataframe tbody tr th {\n",
       "        vertical-align: top;\n",
       "    }\n",
       "\n",
       "    .dataframe thead th {\n",
       "        text-align: right;\n",
       "    }\n",
       "</style>\n",
       "<table border=\"1\" class=\"dataframe\">\n",
       "  <thead>\n",
       "    <tr style=\"text-align: right;\">\n",
       "      <th></th>\n",
       "      <th>Province_State</th>\n",
       "      <th>State_Code</th>\n",
       "      <th>Admin2</th>\n",
       "      <th>Population</th>\n",
       "      <th>Lat</th>\n",
       "      <th>Long</th>\n",
       "    </tr>\n",
       "  </thead>\n",
       "  <tbody>\n",
       "    <tr>\n",
       "      <th>0</th>\n",
       "      <td>Alabama</td>\n",
       "      <td>AL</td>\n",
       "      <td>Autauga</td>\n",
       "      <td>55869</td>\n",
       "      <td>32.539527</td>\n",
       "      <td>-86.644082</td>\n",
       "    </tr>\n",
       "    <tr>\n",
       "      <th>1</th>\n",
       "      <td>Alabama</td>\n",
       "      <td>AL</td>\n",
       "      <td>Baldwin</td>\n",
       "      <td>223234</td>\n",
       "      <td>30.727750</td>\n",
       "      <td>-87.722071</td>\n",
       "    </tr>\n",
       "    <tr>\n",
       "      <th>2</th>\n",
       "      <td>Alabama</td>\n",
       "      <td>AL</td>\n",
       "      <td>Barbour</td>\n",
       "      <td>24686</td>\n",
       "      <td>31.868263</td>\n",
       "      <td>-85.387129</td>\n",
       "    </tr>\n",
       "    <tr>\n",
       "      <th>3</th>\n",
       "      <td>Alabama</td>\n",
       "      <td>AL</td>\n",
       "      <td>Bibb</td>\n",
       "      <td>22394</td>\n",
       "      <td>32.996421</td>\n",
       "      <td>-87.125115</td>\n",
       "    </tr>\n",
       "    <tr>\n",
       "      <th>4</th>\n",
       "      <td>Alabama</td>\n",
       "      <td>AL</td>\n",
       "      <td>Blount</td>\n",
       "      <td>57826</td>\n",
       "      <td>33.982109</td>\n",
       "      <td>-86.567906</td>\n",
       "    </tr>\n",
       "    <tr>\n",
       "      <th>...</th>\n",
       "      <td>...</td>\n",
       "      <td>...</td>\n",
       "      <td>...</td>\n",
       "      <td>...</td>\n",
       "      <td>...</td>\n",
       "      <td>...</td>\n",
       "    </tr>\n",
       "    <tr>\n",
       "      <th>3337</th>\n",
       "      <td>Wyoming</td>\n",
       "      <td>WY</td>\n",
       "      <td>Teton</td>\n",
       "      <td>23464</td>\n",
       "      <td>43.935225</td>\n",
       "      <td>-110.589080</td>\n",
       "    </tr>\n",
       "    <tr>\n",
       "      <th>3338</th>\n",
       "      <td>Wyoming</td>\n",
       "      <td>WY</td>\n",
       "      <td>Uinta</td>\n",
       "      <td>20226</td>\n",
       "      <td>41.287818</td>\n",
       "      <td>-110.547578</td>\n",
       "    </tr>\n",
       "    <tr>\n",
       "      <th>3339</th>\n",
       "      <td>Wyoming</td>\n",
       "      <td>WY</td>\n",
       "      <td>Unassigned</td>\n",
       "      <td>0</td>\n",
       "      <td>0.000000</td>\n",
       "      <td>0.000000</td>\n",
       "    </tr>\n",
       "    <tr>\n",
       "      <th>3340</th>\n",
       "      <td>Wyoming</td>\n",
       "      <td>WY</td>\n",
       "      <td>Washakie</td>\n",
       "      <td>7805</td>\n",
       "      <td>43.904516</td>\n",
       "      <td>-107.680187</td>\n",
       "    </tr>\n",
       "    <tr>\n",
       "      <th>3341</th>\n",
       "      <td>Wyoming</td>\n",
       "      <td>WY</td>\n",
       "      <td>Weston</td>\n",
       "      <td>6927</td>\n",
       "      <td>43.839612</td>\n",
       "      <td>-104.567488</td>\n",
       "    </tr>\n",
       "  </tbody>\n",
       "</table>\n",
       "<p>3336 rows × 6 columns</p>\n",
       "</div>"
      ],
      "text/plain": [
       "     Province_State State_Code      Admin2  Population        Lat        Long\n",
       "0           Alabama         AL     Autauga       55869  32.539527  -86.644082\n",
       "1           Alabama         AL     Baldwin      223234  30.727750  -87.722071\n",
       "2           Alabama         AL     Barbour       24686  31.868263  -85.387129\n",
       "3           Alabama         AL        Bibb       22394  32.996421  -87.125115\n",
       "4           Alabama         AL      Blount       57826  33.982109  -86.567906\n",
       "...             ...        ...         ...         ...        ...         ...\n",
       "3337        Wyoming         WY       Teton       23464  43.935225 -110.589080\n",
       "3338        Wyoming         WY       Uinta       20226  41.287818 -110.547578\n",
       "3339        Wyoming         WY  Unassigned           0   0.000000    0.000000\n",
       "3340        Wyoming         WY    Washakie        7805  43.904516 -107.680187\n",
       "3341        Wyoming         WY      Weston        6927  43.839612 -104.567488\n",
       "\n",
       "[3336 rows x 6 columns]"
      ]
     },
     "execution_count": 6,
     "metadata": {},
     "output_type": "execute_result"
    }
   ],
   "source": [
    "# metadata\n",
    "file = 'CONVENIENT_us_metadata.csv'\n",
    "jhu_data_zip.extract(file,path=fpath_raw)\n",
    "df_metadata = pd.read_csv(os.path.join(fpath_raw,file))\n",
    "\n",
    "## Adding State Abbrevas to kaggle metadata\n",
    "df_metadata.insert(1,'State_Code',df_metadata['Province_State'].map(state_to_abbrevs_map))\n",
    "print(df_metadata.isna().sum())\n",
    "\n",
    "## Dropping us territories\n",
    "df_metadata.dropna(subset=['State_Code'], inplace=True)\n",
    "\n",
    "## Saving county info\n",
    "df_metadata.to_csv(os.path.join(fpath_clean,\"us_metadata_counties.csv\"),index=False)\n",
    "df_metadata"
   ]
  },
  {
   "cell_type": "code",
   "execution_count": 7,
   "metadata": {
    "ExecuteTime": {
     "end_time": "2021-08-13T22:51:49.825762Z",
     "start_time": "2021-08-13T22:51:49.744333Z"
    }
   },
   "outputs": [
    {
     "data": {
      "text/html": [
       "<div>\n",
       "<style scoped>\n",
       "    .dataframe tbody tr th:only-of-type {\n",
       "        vertical-align: middle;\n",
       "    }\n",
       "\n",
       "    .dataframe tbody tr th {\n",
       "        vertical-align: top;\n",
       "    }\n",
       "\n",
       "    .dataframe thead th {\n",
       "        text-align: right;\n",
       "    }\n",
       "</style>\n",
       "<table border=\"1\" class=\"dataframe\">\n",
       "  <thead>\n",
       "    <tr style=\"text-align: right;\">\n",
       "      <th></th>\n",
       "      <th>Province_State</th>\n",
       "      <th>State_Code</th>\n",
       "      <th>Population</th>\n",
       "      <th>Lat</th>\n",
       "      <th>Long</th>\n",
       "    </tr>\n",
       "  </thead>\n",
       "  <tbody>\n",
       "    <tr>\n",
       "      <th>0</th>\n",
       "      <td>Alabama</td>\n",
       "      <td>AL</td>\n",
       "      <td>4903185</td>\n",
       "      <td>31.931113</td>\n",
       "      <td>-84.196785</td>\n",
       "    </tr>\n",
       "    <tr>\n",
       "      <th>1</th>\n",
       "      <td>Alaska</td>\n",
       "      <td>AK</td>\n",
       "      <td>740995</td>\n",
       "      <td>56.628273</td>\n",
       "      <td>-139.571540</td>\n",
       "    </tr>\n",
       "    <tr>\n",
       "      <th>2</th>\n",
       "      <td>Arizona</td>\n",
       "      <td>AZ</td>\n",
       "      <td>7278717</td>\n",
       "      <td>29.714033</td>\n",
       "      <td>-98.349911</td>\n",
       "    </tr>\n",
       "    <tr>\n",
       "      <th>3</th>\n",
       "      <td>Arkansas</td>\n",
       "      <td>AR</td>\n",
       "      <td>3017804</td>\n",
       "      <td>34.005087</td>\n",
       "      <td>-90.033096</td>\n",
       "    </tr>\n",
       "    <tr>\n",
       "      <th>4</th>\n",
       "      <td>California</td>\n",
       "      <td>CA</td>\n",
       "      <td>39512223</td>\n",
       "      <td>36.582496</td>\n",
       "      <td>-116.704308</td>\n",
       "    </tr>\n",
       "    <tr>\n",
       "      <th>5</th>\n",
       "      <td>Colorado</td>\n",
       "      <td>CO</td>\n",
       "      <td>5758736</td>\n",
       "      <td>37.755612</td>\n",
       "      <td>-102.289687</td>\n",
       "    </tr>\n",
       "    <tr>\n",
       "      <th>6</th>\n",
       "      <td>Connecticut</td>\n",
       "      <td>CT</td>\n",
       "      <td>3565287</td>\n",
       "      <td>33.290944</td>\n",
       "      <td>-58.125464</td>\n",
       "    </tr>\n",
       "    <tr>\n",
       "      <th>7</th>\n",
       "      <td>Delaware</td>\n",
       "      <td>DE</td>\n",
       "      <td>973764</td>\n",
       "      <td>23.465566</td>\n",
       "      <td>-45.319942</td>\n",
       "    </tr>\n",
       "    <tr>\n",
       "      <th>8</th>\n",
       "      <td>District of Columbia</td>\n",
       "      <td>DC</td>\n",
       "      <td>705749</td>\n",
       "      <td>12.968059</td>\n",
       "      <td>-25.672187</td>\n",
       "    </tr>\n",
       "    <tr>\n",
       "      <th>9</th>\n",
       "      <td>Florida</td>\n",
       "      <td>FL</td>\n",
       "      <td>21477737</td>\n",
       "      <td>28.101892</td>\n",
       "      <td>-80.303621</td>\n",
       "    </tr>\n",
       "    <tr>\n",
       "      <th>10</th>\n",
       "      <td>Georgia</td>\n",
       "      <td>GA</td>\n",
       "      <td>10617423</td>\n",
       "      <td>32.400973</td>\n",
       "      <td>-82.539201</td>\n",
       "    </tr>\n",
       "    <tr>\n",
       "      <th>11</th>\n",
       "      <td>Hawaii</td>\n",
       "      <td>HI</td>\n",
       "      <td>1415872</td>\n",
       "      <td>15.020202</td>\n",
       "      <td>-112.373740</td>\n",
       "    </tr>\n",
       "    <tr>\n",
       "      <th>12</th>\n",
       "      <td>Idaho</td>\n",
       "      <td>ID</td>\n",
       "      <td>1787065</td>\n",
       "      <td>42.338906</td>\n",
       "      <td>-109.483598</td>\n",
       "    </tr>\n",
       "    <tr>\n",
       "      <th>13</th>\n",
       "      <td>Illinois</td>\n",
       "      <td>IL</td>\n",
       "      <td>12671821</td>\n",
       "      <td>39.077394</td>\n",
       "      <td>-87.463362</td>\n",
       "    </tr>\n",
       "    <tr>\n",
       "      <th>14</th>\n",
       "      <td>Indiana</td>\n",
       "      <td>IN</td>\n",
       "      <td>6732219</td>\n",
       "      <td>38.989750</td>\n",
       "      <td>-84.384131</td>\n",
       "    </tr>\n",
       "    <tr>\n",
       "      <th>15</th>\n",
       "      <td>Iowa</td>\n",
       "      <td>IA</td>\n",
       "      <td>3155070</td>\n",
       "      <td>41.197635</td>\n",
       "      <td>-91.614717</td>\n",
       "    </tr>\n",
       "    <tr>\n",
       "      <th>16</th>\n",
       "      <td>Kansas</td>\n",
       "      <td>KS</td>\n",
       "      <td>2913314</td>\n",
       "      <td>37.766026</td>\n",
       "      <td>-96.251195</td>\n",
       "    </tr>\n",
       "    <tr>\n",
       "      <th>17</th>\n",
       "      <td>Kentucky</td>\n",
       "      <td>KY</td>\n",
       "      <td>4467673</td>\n",
       "      <td>37.005387</td>\n",
       "      <td>-83.803171</td>\n",
       "    </tr>\n",
       "    <tr>\n",
       "      <th>18</th>\n",
       "      <td>Louisiana</td>\n",
       "      <td>LA</td>\n",
       "      <td>4648794</td>\n",
       "      <td>30.150233</td>\n",
       "      <td>-89.041636</td>\n",
       "    </tr>\n",
       "    <tr>\n",
       "      <th>19</th>\n",
       "      <td>Maine</td>\n",
       "      <td>ME</td>\n",
       "      <td>1344212</td>\n",
       "      <td>39.722390</td>\n",
       "      <td>-61.798905</td>\n",
       "    </tr>\n",
       "    <tr>\n",
       "      <th>20</th>\n",
       "      <td>Maryland</td>\n",
       "      <td>MD</td>\n",
       "      <td>6045680</td>\n",
       "      <td>36.013773</td>\n",
       "      <td>-70.777355</td>\n",
       "    </tr>\n",
       "    <tr>\n",
       "      <th>21</th>\n",
       "      <td>Massachusetts</td>\n",
       "      <td>MA</td>\n",
       "      <td>6892503</td>\n",
       "      <td>37.117303</td>\n",
       "      <td>-63.016296</td>\n",
       "    </tr>\n",
       "    <tr>\n",
       "      <th>22</th>\n",
       "      <td>Michigan</td>\n",
       "      <td>MI</td>\n",
       "      <td>9986857</td>\n",
       "      <td>42.018626</td>\n",
       "      <td>-81.265296</td>\n",
       "    </tr>\n",
       "    <tr>\n",
       "      <th>23</th>\n",
       "      <td>Minnesota</td>\n",
       "      <td>MN</td>\n",
       "      <td>5639632</td>\n",
       "      <td>44.528372</td>\n",
       "      <td>-92.308909</td>\n",
       "    </tr>\n",
       "    <tr>\n",
       "      <th>24</th>\n",
       "      <td>Mississippi</td>\n",
       "      <td>MS</td>\n",
       "      <td>2976149</td>\n",
       "      <td>32.011947</td>\n",
       "      <td>-87.511304</td>\n",
       "    </tr>\n",
       "    <tr>\n",
       "      <th>25</th>\n",
       "      <td>Missouri</td>\n",
       "      <td>MO</td>\n",
       "      <td>6626371</td>\n",
       "      <td>37.804955</td>\n",
       "      <td>-90.931699</td>\n",
       "    </tr>\n",
       "    <tr>\n",
       "      <th>26</th>\n",
       "      <td>Montana</td>\n",
       "      <td>MT</td>\n",
       "      <td>1068778</td>\n",
       "      <td>45.354874</td>\n",
       "      <td>-105.917623</td>\n",
       "    </tr>\n",
       "    <tr>\n",
       "      <th>27</th>\n",
       "      <td>Nebraska</td>\n",
       "      <td>NE</td>\n",
       "      <td>1934408</td>\n",
       "      <td>40.451862</td>\n",
       "      <td>-96.953980</td>\n",
       "    </tr>\n",
       "    <tr>\n",
       "      <th>28</th>\n",
       "      <td>Nevada</td>\n",
       "      <td>NV</td>\n",
       "      <td>3080156</td>\n",
       "      <td>35.123787</td>\n",
       "      <td>-105.188836</td>\n",
       "    </tr>\n",
       "    <tr>\n",
       "      <th>29</th>\n",
       "      <td>New Hampshire</td>\n",
       "      <td>NH</td>\n",
       "      <td>1359711</td>\n",
       "      <td>36.232477</td>\n",
       "      <td>-59.648047</td>\n",
       "    </tr>\n",
       "    <tr>\n",
       "      <th>30</th>\n",
       "      <td>New Jersey</td>\n",
       "      <td>NJ</td>\n",
       "      <td>8882190</td>\n",
       "      <td>36.783272</td>\n",
       "      <td>-68.133541</td>\n",
       "    </tr>\n",
       "    <tr>\n",
       "      <th>31</th>\n",
       "      <td>New Mexico</td>\n",
       "      <td>NM</td>\n",
       "      <td>2096829</td>\n",
       "      <td>32.575110</td>\n",
       "      <td>-99.836416</td>\n",
       "    </tr>\n",
       "    <tr>\n",
       "      <th>32</th>\n",
       "      <td>New York</td>\n",
       "      <td>NY</td>\n",
       "      <td>19453561</td>\n",
       "      <td>41.214647</td>\n",
       "      <td>-73.115615</td>\n",
       "    </tr>\n",
       "    <tr>\n",
       "      <th>33</th>\n",
       "      <td>North Carolina</td>\n",
       "      <td>NC</td>\n",
       "      <td>10488084</td>\n",
       "      <td>34.925696</td>\n",
       "      <td>-77.942254</td>\n",
       "    </tr>\n",
       "    <tr>\n",
       "      <th>34</th>\n",
       "      <td>North Dakota</td>\n",
       "      <td>ND</td>\n",
       "      <td>762062</td>\n",
       "      <td>45.670106</td>\n",
       "      <td>-96.603961</td>\n",
       "    </tr>\n",
       "    <tr>\n",
       "      <th>35</th>\n",
       "      <td>Ohio</td>\n",
       "      <td>OH</td>\n",
       "      <td>11689100</td>\n",
       "      <td>39.414877</td>\n",
       "      <td>-80.994621</td>\n",
       "    </tr>\n",
       "    <tr>\n",
       "      <th>36</th>\n",
       "      <td>Oklahoma</td>\n",
       "      <td>OK</td>\n",
       "      <td>3956971</td>\n",
       "      <td>34.603132</td>\n",
       "      <td>-94.789339</td>\n",
       "    </tr>\n",
       "    <tr>\n",
       "      <th>37</th>\n",
       "      <td>Oregon</td>\n",
       "      <td>OR</td>\n",
       "      <td>4217737</td>\n",
       "      <td>42.150695</td>\n",
       "      <td>-115.083398</td>\n",
       "    </tr>\n",
       "    <tr>\n",
       "      <th>38</th>\n",
       "      <td>Pennsylvania</td>\n",
       "      <td>PA</td>\n",
       "      <td>12801989</td>\n",
       "      <td>39.634946</td>\n",
       "      <td>-75.365598</td>\n",
       "    </tr>\n",
       "    <tr>\n",
       "      <th>39</th>\n",
       "      <td>Puerto Rico</td>\n",
       "      <td>PR</td>\n",
       "      <td>3754939</td>\n",
       "      <td>17.783793</td>\n",
       "      <td>-64.747252</td>\n",
       "    </tr>\n",
       "    <tr>\n",
       "      <th>40</th>\n",
       "      <td>Rhode Island</td>\n",
       "      <td>RI</td>\n",
       "      <td>1059361</td>\n",
       "      <td>29.753673</td>\n",
       "      <td>-51.045789</td>\n",
       "    </tr>\n",
       "    <tr>\n",
       "      <th>41</th>\n",
       "      <td>South Carolina</td>\n",
       "      <td>SC</td>\n",
       "      <td>5148714</td>\n",
       "      <td>32.542577</td>\n",
       "      <td>-77.609091</td>\n",
       "    </tr>\n",
       "    <tr>\n",
       "      <th>42</th>\n",
       "      <td>South Dakota</td>\n",
       "      <td>SD</td>\n",
       "      <td>884659</td>\n",
       "      <td>42.970557</td>\n",
       "      <td>-96.389735</td>\n",
       "    </tr>\n",
       "    <tr>\n",
       "      <th>43</th>\n",
       "      <td>Tennessee</td>\n",
       "      <td>TN</td>\n",
       "      <td>6829174</td>\n",
       "      <td>35.145203</td>\n",
       "      <td>-84.333285</td>\n",
       "    </tr>\n",
       "    <tr>\n",
       "      <th>44</th>\n",
       "      <td>Texas</td>\n",
       "      <td>TX</td>\n",
       "      <td>28995881</td>\n",
       "      <td>31.413295</td>\n",
       "      <td>-97.882342</td>\n",
       "    </tr>\n",
       "    <tr>\n",
       "      <th>45</th>\n",
       "      <td>Utah</td>\n",
       "      <td>UT</td>\n",
       "      <td>3205958</td>\n",
       "      <td>37.528405</td>\n",
       "      <td>-105.527566</td>\n",
       "    </tr>\n",
       "    <tr>\n",
       "      <th>46</th>\n",
       "      <td>Vermont</td>\n",
       "      <td>VT</td>\n",
       "      <td>623989</td>\n",
       "      <td>38.639559</td>\n",
       "      <td>-63.598833</td>\n",
       "    </tr>\n",
       "    <tr>\n",
       "      <th>47</th>\n",
       "      <td>Virginia</td>\n",
       "      <td>VA</td>\n",
       "      <td>8535519</td>\n",
       "      <td>37.009615</td>\n",
       "      <td>-77.350546</td>\n",
       "    </tr>\n",
       "    <tr>\n",
       "      <th>48</th>\n",
       "      <td>Washington</td>\n",
       "      <td>WA</td>\n",
       "      <td>7614893</td>\n",
       "      <td>44.929699</td>\n",
       "      <td>-114.830478</td>\n",
       "    </tr>\n",
       "    <tr>\n",
       "      <th>49</th>\n",
       "      <td>West Virginia</td>\n",
       "      <td>WV</td>\n",
       "      <td>1792147</td>\n",
       "      <td>37.452350</td>\n",
       "      <td>-77.788772</td>\n",
       "    </tr>\n",
       "    <tr>\n",
       "      <th>50</th>\n",
       "      <td>Wisconsin</td>\n",
       "      <td>WI</td>\n",
       "      <td>5822434</td>\n",
       "      <td>43.195275</td>\n",
       "      <td>-87.371008</td>\n",
       "    </tr>\n",
       "    <tr>\n",
       "      <th>51</th>\n",
       "      <td>Wyoming</td>\n",
       "      <td>WY</td>\n",
       "      <td>578759</td>\n",
       "      <td>39.639935</td>\n",
       "      <td>-98.580983</td>\n",
       "    </tr>\n",
       "  </tbody>\n",
       "</table>\n",
       "</div>"
      ],
      "text/plain": [
       "          Province_State State_Code  Population        Lat        Long\n",
       "0                Alabama         AL     4903185  31.931113  -84.196785\n",
       "1                 Alaska         AK      740995  56.628273 -139.571540\n",
       "2                Arizona         AZ     7278717  29.714033  -98.349911\n",
       "3               Arkansas         AR     3017804  34.005087  -90.033096\n",
       "4             California         CA    39512223  36.582496 -116.704308\n",
       "5               Colorado         CO     5758736  37.755612 -102.289687\n",
       "6            Connecticut         CT     3565287  33.290944  -58.125464\n",
       "7               Delaware         DE      973764  23.465566  -45.319942\n",
       "8   District of Columbia         DC      705749  12.968059  -25.672187\n",
       "9                Florida         FL    21477737  28.101892  -80.303621\n",
       "10               Georgia         GA    10617423  32.400973  -82.539201\n",
       "11                Hawaii         HI     1415872  15.020202 -112.373740\n",
       "12                 Idaho         ID     1787065  42.338906 -109.483598\n",
       "13              Illinois         IL    12671821  39.077394  -87.463362\n",
       "14               Indiana         IN     6732219  38.989750  -84.384131\n",
       "15                  Iowa         IA     3155070  41.197635  -91.614717\n",
       "16                Kansas         KS     2913314  37.766026  -96.251195\n",
       "17              Kentucky         KY     4467673  37.005387  -83.803171\n",
       "18             Louisiana         LA     4648794  30.150233  -89.041636\n",
       "19                 Maine         ME     1344212  39.722390  -61.798905\n",
       "20              Maryland         MD     6045680  36.013773  -70.777355\n",
       "21         Massachusetts         MA     6892503  37.117303  -63.016296\n",
       "22              Michigan         MI     9986857  42.018626  -81.265296\n",
       "23             Minnesota         MN     5639632  44.528372  -92.308909\n",
       "24           Mississippi         MS     2976149  32.011947  -87.511304\n",
       "25              Missouri         MO     6626371  37.804955  -90.931699\n",
       "26               Montana         MT     1068778  45.354874 -105.917623\n",
       "27              Nebraska         NE     1934408  40.451862  -96.953980\n",
       "28                Nevada         NV     3080156  35.123787 -105.188836\n",
       "29         New Hampshire         NH     1359711  36.232477  -59.648047\n",
       "30            New Jersey         NJ     8882190  36.783272  -68.133541\n",
       "31            New Mexico         NM     2096829  32.575110  -99.836416\n",
       "32              New York         NY    19453561  41.214647  -73.115615\n",
       "33        North Carolina         NC    10488084  34.925696  -77.942254\n",
       "34          North Dakota         ND      762062  45.670106  -96.603961\n",
       "35                  Ohio         OH    11689100  39.414877  -80.994621\n",
       "36              Oklahoma         OK     3956971  34.603132  -94.789339\n",
       "37                Oregon         OR     4217737  42.150695 -115.083398\n",
       "38          Pennsylvania         PA    12801989  39.634946  -75.365598\n",
       "39           Puerto Rico         PR     3754939  17.783793  -64.747252\n",
       "40          Rhode Island         RI     1059361  29.753673  -51.045789\n",
       "41        South Carolina         SC     5148714  32.542577  -77.609091\n",
       "42          South Dakota         SD      884659  42.970557  -96.389735\n",
       "43             Tennessee         TN     6829174  35.145203  -84.333285\n",
       "44                 Texas         TX    28995881  31.413295  -97.882342\n",
       "45                  Utah         UT     3205958  37.528405 -105.527566\n",
       "46               Vermont         VT      623989  38.639559  -63.598833\n",
       "47              Virginia         VA     8535519  37.009615  -77.350546\n",
       "48            Washington         WA     7614893  44.929699 -114.830478\n",
       "49         West Virginia         WV     1792147  37.452350  -77.788772\n",
       "50             Wisconsin         WI     5822434  43.195275  -87.371008\n",
       "51               Wyoming         WY      578759  39.639935  -98.580983"
      ]
     },
     "execution_count": 7,
     "metadata": {},
     "output_type": "execute_result"
    }
   ],
   "source": [
    "## Saving a states-only version with aggregated populations and mean lat/long\n",
    "df_state_metadata = df_metadata.groupby('Province_State',as_index=False).agg({'Population':'sum',\n",
    "                                               \"Lat\":'mean',\"Long\":\"mean\"})\n",
    "df_state_metadata.insert(1,'State_Code',df_state_metadata['Province_State'].map(state_to_abbrevs_map))\n",
    "df_state_metadata.to_csv(os.path.join(fpath_clean,\"us_metadata_states.csv\"),index=False)\n",
    "df_state_metadata"
   ]
  },
  {
   "cell_type": "code",
   "execution_count": 8,
   "metadata": {
    "ExecuteTime": {
     "end_time": "2021-08-13T22:51:49.894390Z",
     "start_time": "2021-08-13T22:51:49.831538Z"
    }
   },
   "outputs": [
    {
     "data": {
      "text/plain": [
       "'data/state_names_to_codes_map.joblib'"
      ]
     },
     "execution_count": 8,
     "metadata": {},
     "output_type": "execute_result"
    }
   ],
   "source": [
    "## Making and saving remapping dicts\n",
    "import joblib\n",
    "\n",
    "state_to_abbrevs_meta = dict(zip(df_state_metadata['Province_State'],df_state_metadata['State_Code']))\n",
    "abbrev_to_state_meta = dict(zip(df_state_metadata['State_Code'],df_state_metadata['Province_State']))\n",
    "\n",
    "joblib.dump(state_to_abbrevs_meta, os.path.join(fpath_clean,'state_names_to_codes_map.joblib'))\n",
    "joblib.dump(abbrev_to_state_meta, os.path.join(fpath_clean,'state_codes_to_names_map.joblib'))\n",
    "\n",
    "## save mapper fo state to code for function\n",
    "mapper_path = os.path.join(fpath_clean,'state_names_to_codes_map.joblib')\n",
    "mapper_path"
   ]
  },
  {
   "cell_type": "code",
   "execution_count": null,
   "metadata": {
    "ExecuteTime": {
     "end_time": "2021-08-09T21:07:12.991155Z",
     "start_time": "2021-08-09T21:07:12.927866Z"
    }
   },
   "outputs": [],
   "source": []
  },
  {
   "cell_type": "code",
   "execution_count": 9,
   "metadata": {
    "ExecuteTime": {
     "end_time": "2021-08-13T22:51:49.960430Z",
     "start_time": "2021-08-13T22:51:49.899471Z"
    }
   },
   "outputs": [],
   "source": [
    "def load_raw_ts_file(jhu_data_zip, file = 'RAW_us_confirmed_cases.csv',\n",
    "                     mapper_path='data/state_names_to_codes_map.joblib',\n",
    "                    verbose=True):\n",
    "    \n",
    "    if verbose: \n",
    "        print(f\"Loading data from {file}\")\n",
    "    state_to_abbrevs_meta = joblib.load(mapper_path)\n",
    "    \n",
    "    ## Extract and load csv\n",
    "    jhu_data_zip.extract(file)\n",
    "    data = pd.read_csv(file)\n",
    "    \n",
    "    ## Drop states not included in metadata\n",
    "    data.insert(1,'State_Code',data['Province_State'].map(state_to_abbrevs_meta))\n",
    "    data.dropna(subset=['State_Code'],inplace=True)\n",
    "    return data\n",
    "\n",
    "\n",
    "\n",
    "def melt_df_to_ts(df_cases,value_name, var_name='Date',\n",
    "                  multi_index_cols=['State_Code','Date'],\n",
    "                  id_cols = ['Province_State',\"State_Code\",'Admin2'],\n",
    "                  cols_to_drop=['iso2','iso3','code3','UID','Country_Region',\n",
    "                                'Combined_Key','Lat','Long_','FIPS']):\n",
    "    \n",
    "#     value_cols = [c for c in df_cases.columns if c not in [*cols_to_drop,*id_cols]]\n",
    "    \n",
    "    ## Remove any cols not in the actual dataframe\n",
    "    id_cols = [c for c in id_cols if c in df_cases.columns] \n",
    "    cols_to_drop = [c for c in cols_to_drop if c in df_cases.columns] \n",
    "    \n",
    "    ## CHECKING FOR NON-DATE COLS TO REMOVE\n",
    "    value_cols = [c for c in df_cases.columns if c not in [*id_cols,*cols_to_drop]]\n",
    "    value_cols = list(filter(lambda x: len(x.split('/'))>1,value_cols))\n",
    "    \n",
    "    \n",
    "    df_cases_ts = pd.melt(df_cases, \n",
    "                          id_vars=id_cols, value_vars=value_cols,\n",
    "                          var_name=var_name, value_name=value_name)\n",
    "    \n",
    "    df_cases_ts['Date'] = pd.to_datetime(df_cases_ts['Date'])\n",
    "    df_cases_ts = df_cases_ts.set_index(multi_index_cols).sort_index()\n",
    "    return df_cases_ts"
   ]
  },
  {
   "cell_type": "code",
   "execution_count": 10,
   "metadata": {
    "ExecuteTime": {
     "end_time": "2021-08-13T22:51:51.250390Z",
     "start_time": "2021-08-13T22:51:49.963533Z"
    }
   },
   "outputs": [
    {
     "name": "stdout",
     "output_type": "stream",
     "text": [
      "Loading data from RAW_us_confirmed_cases.csv\n"
     ]
    },
    {
     "data": {
      "text/html": [
       "<div>\n",
       "<style scoped>\n",
       "    .dataframe tbody tr th:only-of-type {\n",
       "        vertical-align: middle;\n",
       "    }\n",
       "\n",
       "    .dataframe tbody tr th {\n",
       "        vertical-align: top;\n",
       "    }\n",
       "\n",
       "    .dataframe thead th {\n",
       "        text-align: right;\n",
       "    }\n",
       "</style>\n",
       "<table border=\"1\" class=\"dataframe\">\n",
       "  <thead>\n",
       "    <tr style=\"text-align: right;\">\n",
       "      <th></th>\n",
       "      <th></th>\n",
       "      <th>Province_State</th>\n",
       "      <th>Admin2</th>\n",
       "      <th>Cases</th>\n",
       "    </tr>\n",
       "    <tr>\n",
       "      <th>State_Code</th>\n",
       "      <th>Date</th>\n",
       "      <th></th>\n",
       "      <th></th>\n",
       "      <th></th>\n",
       "    </tr>\n",
       "  </thead>\n",
       "  <tbody>\n",
       "    <tr>\n",
       "      <th rowspan=\"5\" valign=\"top\">AK</th>\n",
       "      <th>2020-01-22</th>\n",
       "      <td>Alaska</td>\n",
       "      <td>Aleutians East</td>\n",
       "      <td>0</td>\n",
       "    </tr>\n",
       "    <tr>\n",
       "      <th>2020-01-22</th>\n",
       "      <td>Alaska</td>\n",
       "      <td>Aleutians West</td>\n",
       "      <td>0</td>\n",
       "    </tr>\n",
       "    <tr>\n",
       "      <th>2020-01-22</th>\n",
       "      <td>Alaska</td>\n",
       "      <td>Anchorage</td>\n",
       "      <td>0</td>\n",
       "    </tr>\n",
       "    <tr>\n",
       "      <th>2020-01-22</th>\n",
       "      <td>Alaska</td>\n",
       "      <td>Bethel</td>\n",
       "      <td>0</td>\n",
       "    </tr>\n",
       "    <tr>\n",
       "      <th>2020-01-22</th>\n",
       "      <td>Alaska</td>\n",
       "      <td>Bristol Bay</td>\n",
       "      <td>0</td>\n",
       "    </tr>\n",
       "    <tr>\n",
       "      <th>...</th>\n",
       "      <th>...</th>\n",
       "      <td>...</td>\n",
       "      <td>...</td>\n",
       "      <td>...</td>\n",
       "    </tr>\n",
       "    <tr>\n",
       "      <th rowspan=\"5\" valign=\"top\">WY</th>\n",
       "      <th>2021-08-12</th>\n",
       "      <td>Wyoming</td>\n",
       "      <td>Teton</td>\n",
       "      <td>4044</td>\n",
       "    </tr>\n",
       "    <tr>\n",
       "      <th>2021-08-12</th>\n",
       "      <td>Wyoming</td>\n",
       "      <td>Uinta</td>\n",
       "      <td>2559</td>\n",
       "    </tr>\n",
       "    <tr>\n",
       "      <th>2021-08-12</th>\n",
       "      <td>Wyoming</td>\n",
       "      <td>Unassigned</td>\n",
       "      <td>0</td>\n",
       "    </tr>\n",
       "    <tr>\n",
       "      <th>2021-08-12</th>\n",
       "      <td>Wyoming</td>\n",
       "      <td>Washakie</td>\n",
       "      <td>968</td>\n",
       "    </tr>\n",
       "    <tr>\n",
       "      <th>2021-08-12</th>\n",
       "      <td>Wyoming</td>\n",
       "      <td>Weston</td>\n",
       "      <td>701</td>\n",
       "    </tr>\n",
       "  </tbody>\n",
       "</table>\n",
       "<p>1898184 rows × 3 columns</p>\n",
       "</div>"
      ],
      "text/plain": [
       "                      Province_State          Admin2  Cases\n",
       "State_Code Date                                            \n",
       "AK         2020-01-22         Alaska  Aleutians East      0\n",
       "           2020-01-22         Alaska  Aleutians West      0\n",
       "           2020-01-22         Alaska       Anchorage      0\n",
       "           2020-01-22         Alaska          Bethel      0\n",
       "           2020-01-22         Alaska     Bristol Bay      0\n",
       "...                              ...             ...    ...\n",
       "WY         2021-08-12        Wyoming           Teton   4044\n",
       "           2021-08-12        Wyoming           Uinta   2559\n",
       "           2021-08-12        Wyoming      Unassigned      0\n",
       "           2021-08-12        Wyoming        Washakie    968\n",
       "           2021-08-12        Wyoming          Weston    701\n",
       "\n",
       "[1898184 rows x 3 columns]"
      ]
     },
     "execution_count": 10,
     "metadata": {},
     "output_type": "execute_result"
    }
   ],
   "source": [
    "## Prep ` df_cases_ts`\n",
    "df_cases = load_raw_ts_file(jhu_data_zip, file = 'RAW_us_confirmed_cases.csv',)\n",
    "df_cases_ts = melt_df_to_ts(df_cases,'Cases')\n",
    "df_cases_ts"
   ]
  },
  {
   "cell_type": "code",
   "execution_count": 11,
   "metadata": {
    "ExecuteTime": {
     "end_time": "2021-08-13T22:51:52.430150Z",
     "start_time": "2021-08-13T22:51:51.252306Z"
    }
   },
   "outputs": [
    {
     "name": "stdout",
     "output_type": "stream",
     "text": [
      "Loading data from RAW_us_deaths.csv\n"
     ]
    },
    {
     "data": {
      "text/html": [
       "<div>\n",
       "<style scoped>\n",
       "    .dataframe tbody tr th:only-of-type {\n",
       "        vertical-align: middle;\n",
       "    }\n",
       "\n",
       "    .dataframe tbody tr th {\n",
       "        vertical-align: top;\n",
       "    }\n",
       "\n",
       "    .dataframe thead th {\n",
       "        text-align: right;\n",
       "    }\n",
       "</style>\n",
       "<table border=\"1\" class=\"dataframe\">\n",
       "  <thead>\n",
       "    <tr style=\"text-align: right;\">\n",
       "      <th></th>\n",
       "      <th></th>\n",
       "      <th>Province_State</th>\n",
       "      <th>Admin2</th>\n",
       "      <th>Deaths</th>\n",
       "    </tr>\n",
       "    <tr>\n",
       "      <th>State_Code</th>\n",
       "      <th>Date</th>\n",
       "      <th></th>\n",
       "      <th></th>\n",
       "      <th></th>\n",
       "    </tr>\n",
       "  </thead>\n",
       "  <tbody>\n",
       "    <tr>\n",
       "      <th rowspan=\"5\" valign=\"top\">AK</th>\n",
       "      <th>2020-01-22</th>\n",
       "      <td>Alaska</td>\n",
       "      <td>Aleutians East</td>\n",
       "      <td>0</td>\n",
       "    </tr>\n",
       "    <tr>\n",
       "      <th>2020-01-22</th>\n",
       "      <td>Alaska</td>\n",
       "      <td>Aleutians West</td>\n",
       "      <td>0</td>\n",
       "    </tr>\n",
       "    <tr>\n",
       "      <th>2020-01-22</th>\n",
       "      <td>Alaska</td>\n",
       "      <td>Anchorage</td>\n",
       "      <td>0</td>\n",
       "    </tr>\n",
       "    <tr>\n",
       "      <th>2020-01-22</th>\n",
       "      <td>Alaska</td>\n",
       "      <td>Bethel</td>\n",
       "      <td>0</td>\n",
       "    </tr>\n",
       "    <tr>\n",
       "      <th>2020-01-22</th>\n",
       "      <td>Alaska</td>\n",
       "      <td>Bristol Bay</td>\n",
       "      <td>0</td>\n",
       "    </tr>\n",
       "    <tr>\n",
       "      <th>...</th>\n",
       "      <th>...</th>\n",
       "      <td>...</td>\n",
       "      <td>...</td>\n",
       "      <td>...</td>\n",
       "    </tr>\n",
       "    <tr>\n",
       "      <th rowspan=\"5\" valign=\"top\">WY</th>\n",
       "      <th>2021-08-12</th>\n",
       "      <td>Wyoming</td>\n",
       "      <td>Teton</td>\n",
       "      <td>11</td>\n",
       "    </tr>\n",
       "    <tr>\n",
       "      <th>2021-08-12</th>\n",
       "      <td>Wyoming</td>\n",
       "      <td>Uinta</td>\n",
       "      <td>14</td>\n",
       "    </tr>\n",
       "    <tr>\n",
       "      <th>2021-08-12</th>\n",
       "      <td>Wyoming</td>\n",
       "      <td>Unassigned</td>\n",
       "      <td>0</td>\n",
       "    </tr>\n",
       "    <tr>\n",
       "      <th>2021-08-12</th>\n",
       "      <td>Wyoming</td>\n",
       "      <td>Washakie</td>\n",
       "      <td>26</td>\n",
       "    </tr>\n",
       "    <tr>\n",
       "      <th>2021-08-12</th>\n",
       "      <td>Wyoming</td>\n",
       "      <td>Weston</td>\n",
       "      <td>6</td>\n",
       "    </tr>\n",
       "  </tbody>\n",
       "</table>\n",
       "<p>1898184 rows × 3 columns</p>\n",
       "</div>"
      ],
      "text/plain": [
       "                      Province_State          Admin2  Deaths\n",
       "State_Code Date                                             \n",
       "AK         2020-01-22         Alaska  Aleutians East       0\n",
       "           2020-01-22         Alaska  Aleutians West       0\n",
       "           2020-01-22         Alaska       Anchorage       0\n",
       "           2020-01-22         Alaska          Bethel       0\n",
       "           2020-01-22         Alaska     Bristol Bay       0\n",
       "...                              ...             ...     ...\n",
       "WY         2021-08-12        Wyoming           Teton      11\n",
       "           2021-08-12        Wyoming           Uinta      14\n",
       "           2021-08-12        Wyoming      Unassigned       0\n",
       "           2021-08-12        Wyoming        Washakie      26\n",
       "           2021-08-12        Wyoming          Weston       6\n",
       "\n",
       "[1898184 rows x 3 columns]"
      ]
     },
     "execution_count": 11,
     "metadata": {},
     "output_type": "execute_result"
    }
   ],
   "source": [
    "## Prep df_deaths_ts\n",
    "df_deaths = load_raw_ts_file(jhu_data_zip,file = 'RAW_us_deaths.csv')\n",
    "df_deaths_ts = melt_df_to_ts(df_deaths,'Deaths')\n",
    "df_deaths_ts"
   ]
  },
  {
   "cell_type": "code",
   "execution_count": 12,
   "metadata": {
    "ExecuteTime": {
     "end_time": "2021-08-13T22:51:53.125466Z",
     "start_time": "2021-08-13T22:51:52.432087Z"
    }
   },
   "outputs": [
    {
     "data": {
      "text/html": [
       "<div>\n",
       "<style scoped>\n",
       "    .dataframe tbody tr th:only-of-type {\n",
       "        vertical-align: middle;\n",
       "    }\n",
       "\n",
       "    .dataframe tbody tr th {\n",
       "        vertical-align: top;\n",
       "    }\n",
       "\n",
       "    .dataframe thead th {\n",
       "        text-align: right;\n",
       "    }\n",
       "</style>\n",
       "<table border=\"1\" class=\"dataframe\">\n",
       "  <thead>\n",
       "    <tr style=\"text-align: right;\">\n",
       "      <th></th>\n",
       "      <th></th>\n",
       "      <th>Province_State</th>\n",
       "      <th>Admin2</th>\n",
       "      <th>Cases</th>\n",
       "      <th>Province_State</th>\n",
       "      <th>Admin2</th>\n",
       "      <th>Deaths</th>\n",
       "    </tr>\n",
       "    <tr>\n",
       "      <th>State_Code</th>\n",
       "      <th>Date</th>\n",
       "      <th></th>\n",
       "      <th></th>\n",
       "      <th></th>\n",
       "      <th></th>\n",
       "      <th></th>\n",
       "      <th></th>\n",
       "    </tr>\n",
       "  </thead>\n",
       "  <tbody>\n",
       "    <tr>\n",
       "      <th rowspan=\"5\" valign=\"top\">AK</th>\n",
       "      <th>2020-01-22</th>\n",
       "      <td>Alaska</td>\n",
       "      <td>Aleutians East</td>\n",
       "      <td>0</td>\n",
       "      <td>Alaska</td>\n",
       "      <td>Aleutians East</td>\n",
       "      <td>0</td>\n",
       "    </tr>\n",
       "    <tr>\n",
       "      <th>2020-01-22</th>\n",
       "      <td>Alaska</td>\n",
       "      <td>Aleutians West</td>\n",
       "      <td>0</td>\n",
       "      <td>Alaska</td>\n",
       "      <td>Aleutians West</td>\n",
       "      <td>0</td>\n",
       "    </tr>\n",
       "    <tr>\n",
       "      <th>2020-01-22</th>\n",
       "      <td>Alaska</td>\n",
       "      <td>Anchorage</td>\n",
       "      <td>0</td>\n",
       "      <td>Alaska</td>\n",
       "      <td>Anchorage</td>\n",
       "      <td>0</td>\n",
       "    </tr>\n",
       "    <tr>\n",
       "      <th>2020-01-22</th>\n",
       "      <td>Alaska</td>\n",
       "      <td>Bethel</td>\n",
       "      <td>0</td>\n",
       "      <td>Alaska</td>\n",
       "      <td>Bethel</td>\n",
       "      <td>0</td>\n",
       "    </tr>\n",
       "    <tr>\n",
       "      <th>2020-01-22</th>\n",
       "      <td>Alaska</td>\n",
       "      <td>Bristol Bay</td>\n",
       "      <td>0</td>\n",
       "      <td>Alaska</td>\n",
       "      <td>Bristol Bay</td>\n",
       "      <td>0</td>\n",
       "    </tr>\n",
       "    <tr>\n",
       "      <th>...</th>\n",
       "      <th>...</th>\n",
       "      <td>...</td>\n",
       "      <td>...</td>\n",
       "      <td>...</td>\n",
       "      <td>...</td>\n",
       "      <td>...</td>\n",
       "      <td>...</td>\n",
       "    </tr>\n",
       "    <tr>\n",
       "      <th rowspan=\"5\" valign=\"top\">WY</th>\n",
       "      <th>2021-08-12</th>\n",
       "      <td>Wyoming</td>\n",
       "      <td>Teton</td>\n",
       "      <td>4044</td>\n",
       "      <td>Wyoming</td>\n",
       "      <td>Teton</td>\n",
       "      <td>11</td>\n",
       "    </tr>\n",
       "    <tr>\n",
       "      <th>2021-08-12</th>\n",
       "      <td>Wyoming</td>\n",
       "      <td>Uinta</td>\n",
       "      <td>2559</td>\n",
       "      <td>Wyoming</td>\n",
       "      <td>Uinta</td>\n",
       "      <td>14</td>\n",
       "    </tr>\n",
       "    <tr>\n",
       "      <th>2021-08-12</th>\n",
       "      <td>Wyoming</td>\n",
       "      <td>Unassigned</td>\n",
       "      <td>0</td>\n",
       "      <td>Wyoming</td>\n",
       "      <td>Unassigned</td>\n",
       "      <td>0</td>\n",
       "    </tr>\n",
       "    <tr>\n",
       "      <th>2021-08-12</th>\n",
       "      <td>Wyoming</td>\n",
       "      <td>Washakie</td>\n",
       "      <td>968</td>\n",
       "      <td>Wyoming</td>\n",
       "      <td>Washakie</td>\n",
       "      <td>26</td>\n",
       "    </tr>\n",
       "    <tr>\n",
       "      <th>2021-08-12</th>\n",
       "      <td>Wyoming</td>\n",
       "      <td>Weston</td>\n",
       "      <td>701</td>\n",
       "      <td>Wyoming</td>\n",
       "      <td>Weston</td>\n",
       "      <td>6</td>\n",
       "    </tr>\n",
       "  </tbody>\n",
       "</table>\n",
       "<p>1898184 rows × 6 columns</p>\n",
       "</div>"
      ],
      "text/plain": [
       "                      Province_State          Admin2  Cases Province_State          Admin2  Deaths\n",
       "State_Code Date                                                                                   \n",
       "AK         2020-01-22         Alaska  Aleutians East      0         Alaska  Aleutians East       0\n",
       "           2020-01-22         Alaska  Aleutians West      0         Alaska  Aleutians West       0\n",
       "           2020-01-22         Alaska       Anchorage      0         Alaska       Anchorage       0\n",
       "           2020-01-22         Alaska          Bethel      0         Alaska          Bethel       0\n",
       "           2020-01-22         Alaska     Bristol Bay      0         Alaska     Bristol Bay       0\n",
       "...                              ...             ...    ...            ...             ...     ...\n",
       "WY         2021-08-12        Wyoming           Teton   4044        Wyoming           Teton      11\n",
       "           2021-08-12        Wyoming           Uinta   2559        Wyoming           Uinta      14\n",
       "           2021-08-12        Wyoming      Unassigned      0        Wyoming      Unassigned       0\n",
       "           2021-08-12        Wyoming        Washakie    968        Wyoming        Washakie      26\n",
       "           2021-08-12        Wyoming          Weston    701        Wyoming          Weston       6\n",
       "\n",
       "[1898184 rows x 6 columns]"
      ]
     },
     "execution_count": 12,
     "metadata": {},
     "output_type": "execute_result"
    }
   ],
   "source": [
    "pd.concat([df_cases_ts,df_deaths_ts],axis=1)"
   ]
  },
  {
   "cell_type": "markdown",
   "metadata": {},
   "source": [
    "### Join Dataset and Make STATES dict"
   ]
  },
  {
   "cell_type": "code",
   "execution_count": 13,
   "metadata": {
    "ExecuteTime": {
     "end_time": "2021-08-13T22:51:53.169582Z",
     "start_time": "2021-08-13T22:51:53.126927Z"
    }
   },
   "outputs": [
    {
     "data": {
      "text/plain": [
       "52"
      ]
     },
     "execution_count": 13,
     "metadata": {},
     "output_type": "execute_result"
    }
   ],
   "source": [
    "unique_states = list(abbrev_to_state_meta.keys())\n",
    "len(unique_states)"
   ]
  },
  {
   "cell_type": "code",
   "execution_count": 14,
   "metadata": {
    "ExecuteTime": {
     "end_time": "2021-08-13T22:51:55.273692Z",
     "start_time": "2021-08-13T22:51:53.171876Z"
    }
   },
   "outputs": [
    {
     "data": {
      "text/plain": [
       "dict_keys(['AL', 'AK', 'AZ', 'AR', 'CA', 'CO', 'CT', 'DE', 'DC', 'FL', 'GA', 'HI', 'ID', 'IL', 'IN', 'IA', 'KS', 'KY', 'LA', 'ME', 'MD', 'MA', 'MI', 'MN', 'MS', 'MO', 'MT', 'NE', 'NV', 'NH', 'NJ', 'NM', 'NY', 'NC', 'ND', 'OH', 'OK', 'OR', 'PA', 'PR', 'RI', 'SC', 'SD', 'TN', 'TX', 'UT', 'VT', 'VA', 'WA', 'WV', 'WI', 'WY'])"
      ]
     },
     "execution_count": 14,
     "metadata": {},
     "output_type": "execute_result"
    }
   ],
   "source": [
    "STATES = {}\n",
    "\n",
    "for state in unique_states:\n",
    "    ## Reset the state's datafranes for pd.merge\n",
    "    df_cases_temp = df_cases_ts.loc[state].reset_index()\n",
    "    df_deaths_temp = df_deaths_ts.loc[state].reset_index()\n",
    "\n",
    "    ## Merge using date and Admin2/county\n",
    "    df_merged = pd.merge(df_cases_temp, df_deaths_temp, on=['Date','Admin2'])\n",
    "    df_merged_ts = df_merged.set_index(\"Date\").resample('D').sum()\n",
    "\n",
    "    df_merged_ts.columns = [f\"{c}-{state}\" for c in df_merged_ts.columns]    \n",
    "    \n",
    "    STATES[state] = df_merged_ts.copy()\n",
    "\n",
    "STATES.keys()"
   ]
  },
  {
   "cell_type": "code",
   "execution_count": 15,
   "metadata": {
    "ExecuteTime": {
     "end_time": "2021-08-13T22:51:55.320869Z",
     "start_time": "2021-08-13T22:51:55.275339Z"
    }
   },
   "outputs": [
    {
     "data": {
      "text/plain": [
       "[]"
      ]
     },
     "execution_count": 15,
     "metadata": {},
     "output_type": "execute_result"
    }
   ],
   "source": [
    "## Saving CSVs\n",
    "folder = os.path.join(fpath_clean,'state_data/')\n",
    "os.makedirs(folder,exist_ok=True)\n",
    "os.listdir(folder)"
   ]
  },
  {
   "cell_type": "code",
   "execution_count": 16,
   "metadata": {
    "ExecuteTime": {
     "end_time": "2021-08-13T22:51:55.772646Z",
     "start_time": "2021-08-13T22:51:55.322693Z"
    }
   },
   "outputs": [
    {
     "ename": "Exception",
     "evalue": "Stop here",
     "output_type": "error",
     "traceback": [
      "\u001b[0;31m---------------------------------------------------------------------------\u001b[0m",
      "\u001b[0;31mException\u001b[0m                                 Traceback (most recent call last)",
      "\u001b[0;32m<ipython-input-16-b0553b8dfe68>\u001b[0m in \u001b[0;36m<module>\u001b[0;34m\u001b[0m\n\u001b[0;32m----> 1\u001b[0;31m \u001b[0;32mraise\u001b[0m \u001b[0mException\u001b[0m\u001b[0;34m(\u001b[0m\u001b[0;34m'Stop here'\u001b[0m\u001b[0;34m)\u001b[0m\u001b[0;34m\u001b[0m\u001b[0;34m\u001b[0m\u001b[0m\n\u001b[0m",
      "\u001b[0;31mException\u001b[0m: Stop here"
     ]
    }
   ],
   "source": [
    "raise Exception('Stop here')"
   ]
  },
  {
   "cell_type": "markdown",
   "metadata": {},
   "source": [
    "# OLD BELOW"
   ]
  },
  {
   "cell_type": "code",
   "execution_count": null,
   "metadata": {
    "ExecuteTime": {
     "end_time": "2021-08-09T22:53:56.152912Z",
     "start_time": "2021-08-09T22:53:24.240350Z"
    }
   },
   "outputs": [],
   "source": [
    "## Prep Hospital Data\n",
    "\n",
    "df1 = get_hospital_data()\n",
    "df1['date'] = pd.to_datetime(df1['date'])\n",
    "\n",
    "## Remnaming state columsn to match\n",
    "df1 = df1.rename({'state':'State_Code'},axis=1)\n",
    "df1['Province_State'] = df1['State_Code'].map(abbrev_to_state_map)\n",
    "df1 = df1[df1['Province_State'].isin(state_abbrevs['State'])]\n",
    "df1 = df1.sort_values(['Province_State','date'])\n",
    "df1 = df1.drop_duplicates(keep='first')\n",
    "df1"
   ]
  },
  {
   "cell_type": "markdown",
   "metadata": {},
   "source": [
    "### Making `df_hospitals`"
   ]
  },
  {
   "cell_type": "code",
   "execution_count": null,
   "metadata": {
    "ExecuteTime": {
     "end_time": "2021-08-09T22:53:56.190829Z",
     "start_time": "2021-08-09T22:53:56.154449Z"
    }
   },
   "outputs": [],
   "source": [
    "## needed cols (utilization )\n",
    "inpatient_bed_util_cols = [c for c in df1.columns if 'inpatient_beds_utilization' in c]\n",
    "adult_icu_util_cols = [c for c in df1.columns if 'adult_icu_bed_utilization'in c]\n",
    "KEEP_COLS = ['date','Province_State','State_Code',*inpatient_bed_util_cols,*adult_icu_util_cols]"
   ]
  },
  {
   "cell_type": "code",
   "execution_count": null,
   "metadata": {
    "ExecuteTime": {
     "end_time": "2021-08-09T22:53:56.437053Z",
     "start_time": "2021-08-09T22:53:56.192529Z"
    }
   },
   "outputs": [],
   "source": [
    "df1[df1.duplicated(keep=False)]"
   ]
  },
  {
   "cell_type": "code",
   "execution_count": null,
   "metadata": {
    "ExecuteTime": {
     "end_time": "2021-08-09T22:53:56.530384Z",
     "start_time": "2021-08-09T22:53:56.439013Z"
    }
   },
   "outputs": [],
   "source": [
    "## Making df_hospitals\n",
    "df_hospitals = df1[KEEP_COLS].copy()\n",
    "df_hospitals = df_hospitals.set_index(['State_Code','date']).sort_index()\n",
    "df_hospitals#.loc['MD',['inpatient_beds_utilization']].plot()"
   ]
  },
  {
   "cell_type": "code",
   "execution_count": null,
   "metadata": {},
   "outputs": [],
   "source": []
  },
  {
   "cell_type": "markdown",
   "metadata": {},
   "source": [
    "## Comparing the 3 tables"
   ]
  },
  {
   "cell_type": "code",
   "execution_count": null,
   "metadata": {
    "ExecuteTime": {
     "end_time": "2021-08-09T22:53:56.609618Z",
     "start_time": "2021-08-09T22:53:56.532205Z"
    }
   },
   "outputs": [],
   "source": [
    "df_hospitals"
   ]
  },
  {
   "cell_type": "code",
   "execution_count": null,
   "metadata": {
    "ExecuteTime": {
     "end_time": "2021-08-09T22:53:56.675377Z",
     "start_time": "2021-08-09T22:53:56.611647Z"
    }
   },
   "outputs": [],
   "source": [
    "df_deaths_ts"
   ]
  },
  {
   "cell_type": "code",
   "execution_count": null,
   "metadata": {
    "ExecuteTime": {
     "end_time": "2021-08-09T22:53:56.741146Z",
     "start_time": "2021-08-09T22:53:56.677828Z"
    }
   },
   "outputs": [],
   "source": [
    "df_cases_ts"
   ]
  },
  {
   "cell_type": "code",
   "execution_count": null,
   "metadata": {
    "ExecuteTime": {
     "end_time": "2021-08-09T22:53:56.788019Z",
     "start_time": "2021-08-09T22:53:56.743337Z"
    }
   },
   "outputs": [],
   "source": [
    "# raise Exception('Stop here!')"
   ]
  },
  {
   "cell_type": "markdown",
   "metadata": {},
   "source": [
    "## Join Dataset and Make STATES dict\n",
    "- Note: try to join hospital data here too??"
   ]
  },
  {
   "cell_type": "code",
   "execution_count": null,
   "metadata": {
    "ExecuteTime": {
     "end_time": "2021-08-09T22:53:56.850936Z",
     "start_time": "2021-08-09T22:53:56.790092Z"
    }
   },
   "outputs": [],
   "source": [
    "unique_states = np.unique(df_hospitals.index.get_level_values(0))\n",
    "len(unique_states)"
   ]
  },
  {
   "cell_type": "markdown",
   "metadata": {},
   "source": [
    "### Test individual state before making loop"
   ]
  },
  {
   "cell_type": "code",
   "execution_count": null,
   "metadata": {
    "ExecuteTime": {
     "end_time": "2021-08-09T22:58:15.140023Z",
     "start_time": "2021-08-09T22:58:15.070456Z"
    }
   },
   "outputs": [],
   "source": [
    "## ESSENTIAL BLOCK FOR LOOP\n",
    "state = 'MD'\n",
    "df_cases_temp = df_cases_ts.loc[state].sort_index().resample(\"D\").sum().diff().fillna(0)\n",
    "df_deaths_temp = df_deaths_ts.loc[state].sort_index().resample(\"D\").sum().diff().fillna(0)\n",
    "df_hospital_temp = df_hospitals.loc[state].drop(columns='Province_State').sort_index().resample(\"D\").asfreq().ffill().fillna(0)"
   ]
  },
  {
   "cell_type": "code",
   "execution_count": null,
   "metadata": {
    "ExecuteTime": {
     "end_time": "2021-08-09T22:58:15.750992Z",
     "start_time": "2021-08-09T22:58:15.680778Z"
    }
   },
   "outputs": [],
   "source": [
    "df_hospital_temp"
   ]
  },
  {
   "cell_type": "code",
   "execution_count": null,
   "metadata": {
    "ExecuteTime": {
     "end_time": "2021-08-09T22:58:16.975039Z",
     "start_time": "2021-08-09T22:58:16.347374Z"
    }
   },
   "outputs": [],
   "source": [
    "df_cases_temp.plot()\n",
    "df_deaths_temp.plot()\n",
    "df_hospital_temp.plot()"
   ]
  },
  {
   "cell_type": "code",
   "execution_count": null,
   "metadata": {
    "ExecuteTime": {
     "end_time": "2021-08-09T22:58:17.050481Z",
     "start_time": "2021-08-09T22:58:16.976684Z"
    }
   },
   "outputs": [],
   "source": [
    "\n",
    "display(df_cases_temp.head(),df_deaths_temp.head(),df_hospital_temp.head())"
   ]
  },
  {
   "cell_type": "markdown",
   "metadata": {},
   "source": [
    "### Attempting Various versions of joins"
   ]
  },
  {
   "cell_type": "code",
   "execution_count": null,
   "metadata": {
    "ExecuteTime": {
     "end_time": "2021-08-09T22:56:58.613437Z",
     "start_time": "2021-08-09T22:56:58.534910Z"
    }
   },
   "outputs": [],
   "source": [
    "df_state = pd.concat([df_cases_temp,df_deaths_temp,df_hospital_temp],axis=1).fillna(0)#.loc['03-2020':]\n",
    "df_state"
   ]
  },
  {
   "cell_type": "markdown",
   "metadata": {},
   "source": [
    "> ABOVE WAS TEST FOR LOOP BELOW"
   ]
  },
  {
   "cell_type": "markdown",
   "metadata": {},
   "source": [
    "# FULL LOOP"
   ]
  },
  {
   "cell_type": "code",
   "execution_count": null,
   "metadata": {
    "ExecuteTime": {
     "end_time": "2021-08-09T23:07:15.233364Z",
     "start_time": "2021-08-09T23:07:13.091924Z"
    }
   },
   "outputs": [],
   "source": [
    "STATES = {}\n",
    "DATA_FOLDER = \"./data/\"\n",
    "\n",
    "for state in unique_states:\n",
    "    df_cases_temp = df_cases_ts.loc[state].sort_index().resample(\"D\").sum().diff().fillna(0)\n",
    "    df_deaths_temp = df_deaths_ts.loc[state].sort_index().resample(\"D\").sum().diff().fillna(0)\n",
    "    df_hospital_temp = df_hospitals.loc[state].drop(columns='Province_State').sort_index().resample(\"D\").asfreq().ffill().fillna(0)\n",
    "    \n",
    "    df_state = pd.concat([df_cases_temp,df_deaths_temp,df_hospital_temp],axis=1).fillna(0)#.loc['03-2020':]\n",
    "    df_state.to_csv(f\"{DATA_FOLDER}combined_data_{state}.csv.gz\",compression='gzip')   \n",
    "    STATES[state] = df_state.copy()\n",
    "\n",
    "STATES.keys()"
   ]
  },
  {
   "cell_type": "code",
   "execution_count": null,
   "metadata": {
    "ExecuteTime": {
     "end_time": "2021-08-09T22:58:34.361060Z",
     "start_time": "2021-08-09T22:58:34.289371Z"
    }
   },
   "outputs": [],
   "source": [
    "STATES['MD']"
   ]
  },
  {
   "cell_type": "markdown",
   "metadata": {},
   "source": [
    "## Saving Data"
   ]
  },
  {
   "cell_type": "code",
   "execution_count": null,
   "metadata": {
    "ExecuteTime": {
     "end_time": "2021-08-09T22:58:39.278492Z",
     "start_time": "2021-08-09T22:58:39.186807Z"
    }
   },
   "outputs": [],
   "source": [
    "import joblib\n",
    "joblib.dump(STATES,'data/STATE_DICT.joblib')"
   ]
  },
  {
   "cell_type": "code",
   "execution_count": null,
   "metadata": {
    "ExecuteTime": {
     "end_time": "2021-08-09T22:58:39.753344Z",
     "start_time": "2021-08-09T22:58:39.643871Z"
    }
   },
   "outputs": [],
   "source": [
    "STATES_LOADED = joblib.load('data/STATE_DICT.joblib')\n",
    "STATES_LOADED['TX']"
   ]
  },
  {
   "cell_type": "code",
   "execution_count": null,
   "metadata": {
    "ExecuteTime": {
     "end_time": "2021-08-09T22:58:40.548547Z",
     "start_time": "2021-08-09T22:58:40.180066Z"
    }
   },
   "outputs": [],
   "source": [
    "STATES_LOADED['TX'].plot()"
   ]
  },
  {
   "cell_type": "code",
   "execution_count": null,
   "metadata": {},
   "outputs": [],
   "source": []
  }
 ],
 "metadata": {
  "kernelspec": {
   "display_name": "learn-env-new",
   "language": "python",
   "name": "learn-env-new"
  },
  "language_info": {
   "codemirror_mode": {
    "name": "ipython",
    "version": 3
   },
   "file_extension": ".py",
   "mimetype": "text/x-python",
   "name": "python",
   "nbconvert_exporter": "python",
   "pygments_lexer": "ipython3",
   "version": "3.8.5"
  },
  "toc": {
   "base_numbering": 1,
   "nav_menu": {},
   "number_sections": true,
   "sideBar": true,
   "skip_h1_title": false,
   "title_cell": "Table of Contents",
   "title_sidebar": "Contents",
   "toc_cell": false,
   "toc_position": {
    "height": "calc(100% - 180px)",
    "left": "10px",
    "top": "150px",
    "width": "288px"
   },
   "toc_section_display": true,
   "toc_window_display": true
  }
 },
 "nbformat": 4,
 "nbformat_minor": 4
}
