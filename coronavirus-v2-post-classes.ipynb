{
 "cells": [
  {
   "cell_type": "markdown",
   "metadata": {},
   "source": [
    "# Playing with Coronavirus Timeseries\n",
    "\n",
    "- https://www.kaggle.com/sudalairajkumar/novel-corona-virus-2019-dataset\n"
   ]
  },
  {
   "cell_type": "markdown",
   "metadata": {},
   "source": [
    "## Notes"
   ]
  },
  {
   "cell_type": "markdown",
   "metadata": {},
   "source": [
    "- This notebook uses 2 classes (based on a BaseDataset class) to load in data from both a kaggle dataset (novel coronavirus 2019) and the Covid Tracking Project data"
   ]
  },
  {
   "cell_type": "markdown",
   "metadata": {},
   "source": [
    "## To Do:"
   ]
  },
  {
   "cell_type": "markdown",
   "metadata": {},
   "source": [
    "- [x] Add data from Covid Tracking Project's API\n",
    "    - https://covidtracking.com/api\n",
    "    \n",
    "- [ ] Move app styling to a css file in a new `assets/` folder"
   ]
  },
  {
   "cell_type": "markdown",
   "metadata": {},
   "source": [
    "- Functions and classes are in functions.py"
   ]
  },
  {
   "cell_type": "markdown",
   "metadata": {},
   "source": [
    "### RESOURCES FOR FUTURE\n",
    "- RAFAEL STUDY GROUP FOR MAKING A MAP\n",
    "    - https://www.youtube.com/watch?v=MAhK7NHXEOg&feature=emb_logo\n",
    "    - https://github.com/erdosn/additional-topic-plotly"
   ]
  },
  {
   "cell_type": "code",
   "execution_count": null,
   "metadata": {
    "ExecuteTime": {
     "end_time": "2020-07-04T02:15:20.253826Z",
     "start_time": "2020-07-04T02:15:15.048093Z"
    }
   },
   "outputs": [],
   "source": [
    "import plotly.express as px\n",
    "import plotly.graph_objects as go\n",
    "import plotly.io as pio\n",
    "pio.templates.default = \"plotly_dark\"\n",
    "\n",
    "import cufflinks as cf\n",
    "cf.go_offline()\n",
    "cf.set_config_file(sharing='public',theme='solar',offline=True)"
   ]
  },
  {
   "cell_type": "code",
   "execution_count": null,
   "metadata": {
    "ExecuteTime": {
     "end_time": "2020-07-04T02:15:23.328165Z",
     "start_time": "2020-07-04T02:15:20.255307Z"
    }
   },
   "outputs": [],
   "source": [
    "import os,glob,sys\n",
    "import re\n",
    "\n",
    "!pip install -U fsds\n",
    "from fsds.imports import *"
   ]
  },
  {
   "cell_type": "code",
   "execution_count": null,
   "metadata": {
    "ExecuteTime": {
     "end_time": "2020-07-04T02:15:23.564123Z",
     "start_time": "2020-07-04T02:15:23.329894Z"
    }
   },
   "outputs": [],
   "source": [
    "import functions as fn\n",
    "\n",
    "%load_ext autoreload\n",
    "%autoreload 2"
   ]
  },
  {
   "cell_type": "code",
   "execution_count": null,
   "metadata": {
    "ExecuteTime": {
     "end_time": "2020-07-04T02:15:23.618836Z",
     "start_time": "2020-07-04T02:15:23.565939Z"
    },
    "scrolled": false
   },
   "outputs": [],
   "source": [
    "help(fn)"
   ]
  },
  {
   "cell_type": "markdown",
   "metadata": {},
   "source": [
    "# Main Kaggle Dataset - Get US States"
   ]
  },
  {
   "cell_type": "markdown",
   "metadata": {},
   "source": [
    "# 📦class `CoronaData`"
   ]
  },
  {
   "cell_type": "code",
   "execution_count": null,
   "metadata": {
    "ExecuteTime": {
     "end_time": "2020-07-04T02:15:23.669197Z",
     "start_time": "2020-07-04T02:15:23.620408Z"
    },
    "scrolled": false
   },
   "outputs": [],
   "source": [
    "from functions import BaselineData\n",
    "from functions import CoronaData\n",
    "# fs.ihelp(CoronaData,0)"
   ]
  },
  {
   "cell_type": "code",
   "execution_count": null,
   "metadata": {
    "ExecuteTime": {
     "end_time": "2020-07-04T02:15:25.458311Z",
     "start_time": "2020-07-04T02:15:23.670842Z"
    },
    "code_folding": [],
    "tags": []
   },
   "outputs": [],
   "source": [
    "corona = CoronaData(verbose=True,run_workflow=True)"
   ]
  },
  {
   "cell_type": "code",
   "execution_count": null,
   "metadata": {
    "ExecuteTime": {
     "end_time": "2020-07-04T02:15:25.525907Z",
     "start_time": "2020-07-04T02:15:25.460139Z"
    }
   },
   "outputs": [],
   "source": [
    "df_world = corona.df.copy()\n",
    "countries = list(df_world.groupby('Country/Region').groups.keys())\n",
    "len(countries)"
   ]
  },
  {
   "cell_type": "markdown",
   "metadata": {},
   "source": [
    "## 07/02 - Making these methods into standalones"
   ]
  },
  {
   "cell_type": "code",
   "execution_count": null,
   "metadata": {
    "ExecuteTime": {
     "end_time": "2020-07-04T02:15:25.584743Z",
     "start_time": "2020-07-04T02:15:25.528291Z"
    }
   },
   "outputs": [],
   "source": [
    "def set_datetime_index(df_,col='Date',drop=True):#,drop_old=False):\n",
    "        \"\"\"Returns df with specified column as datetime index\"\"\"\n",
    "        import pandas as pd\n",
    "            \n",
    "        ## Copy to avoid edits to orig\n",
    "        df = df_.copy()\n",
    "        \n",
    "        ## Convert to date time\n",
    "        df[col] = pd.to_datetime(df[col],infer_datetime_format=True)\n",
    "        \n",
    "        ## Set as index\n",
    "        df.set_index(df[col],drop=False,inplace=True)\n",
    "        \n",
    "        if drop:\n",
    "            # Drop the column if it is present\n",
    "            if col in df.columns:\n",
    "                df.drop(columns=col,inplace=True)\n",
    "            \n",
    "        return df\n",
    "    \n",
    "def set_freq_resample(df,date_col='Date',freq='D', agg_func='sum'):\n",
    "    \n",
    "    if isinstance(df.index,pd.DatetimeIndex)==False:\n",
    "        df = set_datetime_index(df,col=date_col)\n",
    "        \n",
    "    ts  = df.resample(freq).agg(agg_func).copy()\n",
    "    return ts\n",
    "    \n",
    "    \n",
    "    \n",
    "def get_group_ts(df,group_name,group_col='state',\n",
    "                     ts_col=None, freq='D', agg_func='sum'):\n",
    "        \"\"\"Take df_us and extracts state's data as then Freq/Aggregation provided\"\"\"\n",
    "        from IPython.display import display\n",
    "\n",
    "            \n",
    "        try:\n",
    "            ## Get state_df group\n",
    "            group_df = df.groupby(group_col).get_group(group_name).copy()#.resample(freq).agg(agg)\n",
    "        except Exception:\n",
    "            display(df.head())\n",
    "            return None\n",
    "        \n",
    "        group_df = set_freq_resample(group_df.copy(),freq=freq,agg_func=agg_func)\n",
    "#         ## Resample and aggregate state data\n",
    "#         group_df = group_df.resample(freq).agg(agg_func)\n",
    "\n",
    "\n",
    "        ## Get and Rename Sum Cols \n",
    "        orig_cols = group_df.columns\n",
    "\n",
    "        ## Create Renamed Sum columns\n",
    "        for col in orig_cols:\n",
    "            group_df[f\"{group_name} - {col}\"] = group_df[col]\n",
    "\n",
    "        ## Drop original cols\n",
    "        group_df.drop(orig_cols,axis=1,inplace=True)\n",
    "\n",
    "        if ts_col is not None:\n",
    "            ts_cols_selected = [col for col in group_df.columns if ts_col in col]\n",
    "            group_df = group_df[ts_cols_selected]\n",
    "\n",
    "        return group_df "
   ]
  },
  {
   "cell_type": "code",
   "execution_count": null,
   "metadata": {
    "ExecuteTime": {
     "end_time": "2020-07-04T02:15:25.676895Z",
     "start_time": "2020-07-04T02:15:25.586715Z"
    }
   },
   "outputs": [],
   "source": [
    "ts_world = set_datetime_index(df_world)\n",
    "ts_world"
   ]
  },
  {
   "cell_type": "code",
   "execution_count": null,
   "metadata": {
    "ExecuteTime": {
     "end_time": "2020-07-04T02:15:25.749979Z",
     "start_time": "2020-07-04T02:15:25.679181Z"
    }
   },
   "outputs": [],
   "source": [
    "get_group_ts(df_world,'Italy','Country/Region')"
   ]
  },
  {
   "cell_type": "code",
   "execution_count": null,
   "metadata": {
    "ExecuteTime": {
     "end_time": "2020-07-04T02:15:25.800986Z",
     "start_time": "2020-07-04T02:15:25.751628Z"
    }
   },
   "outputs": [],
   "source": [
    "# isinstance(ts_world.index,pd.DatetimeIndex)\n",
    "\n",
    "# isinstance(df_world.index, pd.Timestamp)\n",
    "\n",
    "# isinstance(df_world.index, pd.RangeIndex)"
   ]
  },
  {
   "cell_type": "code",
   "execution_count": null,
   "metadata": {
    "ExecuteTime": {
     "end_time": "2020-07-04T02:15:25.869004Z",
     "start_time": "2020-07-04T02:15:25.802633Z"
    }
   },
   "outputs": [],
   "source": [
    "set_datetime_index(df_world)"
   ]
  },
  {
   "cell_type": "markdown",
   "metadata": {},
   "source": [
    "## Making World Version of Corona Dash"
   ]
  },
  {
   "cell_type": "code",
   "execution_count": null,
   "metadata": {
    "ExecuteTime": {
     "end_time": "2020-07-04T02:15:27.992810Z",
     "start_time": "2020-07-04T02:15:25.870324Z"
    }
   },
   "outputs": [],
   "source": [
    "grouper = df_world.groupby('Country/Region')\n",
    "countries = list(grouper.groups.keys())\n",
    "\n",
    "WORLD = {}\n",
    "for country in countries:\n",
    "#     print(country)\n",
    "    WORLD[country] = get_group_ts(df_world,country, \"Country/Region\")\n",
    "    "
   ]
  },
  {
   "cell_type": "code",
   "execution_count": null,
   "metadata": {
    "ExecuteTime": {
     "end_time": "2020-07-04T02:15:28.044269Z",
     "start_time": "2020-07-04T02:15:27.993974Z"
    }
   },
   "outputs": [],
   "source": [
    "def plot_group_ts(df, group_list,group_col, plot_cols = ['Confirmed'],\n",
    "                  df_only=False,\n",
    "                new_only=False,plot_scatter=True,show=False,\n",
    "                 width=1000,height=700):\n",
    "    \"\"\"Plots the plot_cols for every state in state_list.\n",
    "    Returns plotly figure\n",
    "    New as of 06/21\"\"\"\n",
    "    import pandas as pd \n",
    "    import numpy as np\n",
    "    ## Get state dataframes\n",
    "    \n",
    "    concat_dfs = []  \n",
    "    GROUPS = {}\n",
    "    \n",
    "    ## Get each state\n",
    "    for group in group_list:\n",
    "\n",
    "        # Grab each state's df and save to STATES\n",
    "        dfs = get_group_ts(df,group,group_col)\n",
    "        GROUPS[group] = dfs\n",
    "\n",
    "        ## for each plot_cols, find all columns that contain that col name\n",
    "        for plot_col in plot_cols:\n",
    "            concat_dfs.append(dfs[[col for col in dfs.columns if col.endswith(plot_col)]])#plot_col in col]])\n",
    "\n",
    "    ## Concatenate final dfs\n",
    "    plot_df = pd.concat(concat_dfs,axis=1)#[STATES[s] for s in plot_states],axis=1).iplot()\n",
    "    \n",
    "    \n",
    "    ## Set title and df if new_only\n",
    "    if new_only:\n",
    "        plot_df = plot_df.diff()\n",
    "        title = \"Coronavirus Cases by State - New Cases\"\n",
    "    else:\n",
    "        title = 'Coronavirus Cases by State - Cumulative'\n",
    "    \n",
    "    ## Reset Indes\n",
    "    plot_df.reset_index(inplace=True)\n",
    "    \n",
    "    \n",
    "    ## Return Df or plot\n",
    "    if df_only==False:\n",
    "\n",
    "        if np.any(['per capita' in x.lower() for x in plot_cols]):\n",
    "            value_name = \"# of Cases - Per Capita\"\n",
    "        else:\n",
    "            value_name='# of Cases'\n",
    "        pfig_df_melt = plot_df.melt(id_vars=['Date'],var_name='Group',\n",
    "                                    value_name=value_name)\n",
    "        \n",
    "        if plot_scatter:\n",
    "            plot_func = px.scatter\n",
    "        else:\n",
    "            plot_func = px.line\n",
    "            \n",
    "            \n",
    "        # Plot concatenated dfs\n",
    "        pfig = plot_func(pfig_df_melt,x='Date',y=value_name,color='Group',\n",
    "                      title=title,template='plotly_dark',width=width,height=height)        \n",
    "#         pfig.update_xaxes(rangeslider_visible=True)\n",
    "\n",
    "#         pfig.update_layout(legend_orientation=\"h\")\n",
    "\n",
    "#         pfig.update_layout(\n",
    "#             xaxis=dict(\n",
    "#                 rangeselector=dict(\n",
    "#                     buttons=list([\n",
    "#                         dict(count=7,\n",
    "#                              label=\"1week\",\n",
    "#                              step=\"day\",\n",
    "#                              stepmode=\"backward\"),\n",
    "#                         dict(count=14,\n",
    "#                              label=\"2weeks\",\n",
    "#                              step=\"day\",\n",
    "#                              stepmode=\"backward\"),\n",
    "#                         dict(count=1,\n",
    "#                              label=\"1m\",\n",
    "#                              step=\"month\",\n",
    "#                              stepmode=\"backward\"),\n",
    "#                         dict(count=6,\n",
    "#                              label=\"6m\",\n",
    "#                              step=\"month\",\n",
    "#                              stepmode=\"backward\"),\n",
    "\n",
    "#                         dict(step=\"all\")\n",
    "#                     ])\n",
    "#                 ),\n",
    "#                 rangeslider=dict(\n",
    "#                     visible=True\n",
    "#                 ),\n",
    "#                 type=\"date\"\n",
    "#             )\n",
    "#         )\n",
    "        \n",
    "        if show:\n",
    "            pfig.show()\n",
    "                \n",
    "        return pfig\n",
    "    \n",
    "    else:\n",
    "        return plot_df#.reset_index()"
   ]
  },
  {
   "cell_type": "code",
   "execution_count": null,
   "metadata": {
    "ExecuteTime": {
     "end_time": "2020-07-04T02:15:28.088939Z",
     "start_time": "2020-07-04T02:15:28.045815Z"
    }
   },
   "outputs": [],
   "source": [
    "import plotly.express as px\n",
    "# px.scatter()"
   ]
  },
  {
   "cell_type": "code",
   "execution_count": null,
   "metadata": {
    "ExecuteTime": {
     "end_time": "2020-07-04T02:15:28.467412Z",
     "start_time": "2020-07-04T02:15:28.090226Z"
    }
   },
   "outputs": [],
   "source": [
    "pfig = plot_group_ts(df_world,group_list=['US','Italy','Canada',\n",
    "                                  'Germany'],group_col='Country/Region',\n",
    "                     new_only=True,plot_scatter=False,height=500)\n",
    "pfig"
   ]
  },
  {
   "cell_type": "code",
   "execution_count": null,
   "metadata": {
    "ExecuteTime": {
     "end_time": "2020-07-04T02:15:28.510524Z",
     "start_time": "2020-07-04T02:15:28.468668Z"
    }
   },
   "outputs": [],
   "source": [
    "# WORLD['US'].diff().plot()"
   ]
  },
  {
   "cell_type": "code",
   "execution_count": null,
   "metadata": {
    "ExecuteTime": {
     "end_time": "2020-07-04T02:15:28.554200Z",
     "start_time": "2020-07-04T02:15:28.511986Z"
    }
   },
   "outputs": [],
   "source": [
    "# WORLD['Italy'].diff().plot()"
   ]
  },
  {
   "cell_type": "code",
   "execution_count": null,
   "metadata": {
    "ExecuteTime": {
     "end_time": "2020-07-04T02:15:28.596067Z",
     "start_time": "2020-07-04T02:15:28.555435Z"
    }
   },
   "outputs": [],
   "source": [
    "# df = corona.df_us.copy()\n",
    "\n",
    "# ## Report Total Cases\n",
    "# total_cases = df.groupby('state').sum()[['Confirmed','Deaths']]\n",
    "# total_cases.sort_values('Confirmed',0,0).head(20).style.bar(['Deaths','Confirmed'])"
   ]
  },
  {
   "cell_type": "markdown",
   "metadata": {},
   "source": [
    "#  📕Covid Tracking Project Data"
   ]
  },
  {
   "cell_type": "markdown",
   "metadata": {},
   "source": [
    "https://covidtracking.com/api\n",
    "\n",
    "`/api/v1/states/{state}/screenshots.csv`"
   ]
  },
  {
   "cell_type": "code",
   "execution_count": null,
   "metadata": {
    "ExecuteTime": {
     "end_time": "2020-07-04T02:15:28.641643Z",
     "start_time": "2020-07-04T02:15:28.597256Z"
    }
   },
   "outputs": [],
   "source": [
    "from fsds.imports import *\n",
    "import datetime as dt\n",
    "import requests\n",
    "import json,urllib\n",
    "pd.set_option('display.max_columns',0)"
   ]
  },
  {
   "cell_type": "markdown",
   "metadata": {},
   "source": [
    "### Get US Daily\n"
   ]
  },
  {
   "cell_type": "markdown",
   "metadata": {},
   "source": [
    "## 📦 class `CovidTrackingProject`"
   ]
  },
  {
   "cell_type": "code",
   "execution_count": null,
   "metadata": {
    "ExecuteTime": {
     "end_time": "2020-07-04T02:15:28.690669Z",
     "start_time": "2020-07-04T02:15:28.642996Z"
    }
   },
   "outputs": [],
   "source": [
    "from functions import CovidTrackingProject"
   ]
  },
  {
   "cell_type": "code",
   "execution_count": null,
   "metadata": {
    "ExecuteTime": {
     "end_time": "2020-07-04T02:15:29.889280Z",
     "start_time": "2020-07-04T02:15:28.691935Z"
    },
    "tags": []
   },
   "outputs": [],
   "source": [
    "covid=CovidTrackingProject(download=True,verbose=True)\n",
    "covid"
   ]
  },
  {
   "cell_type": "code",
   "execution_count": null,
   "metadata": {
    "ExecuteTime": {
     "end_time": "2020-07-04T02:16:04.135055Z",
     "start_time": "2020-07-04T02:16:04.087911Z"
    }
   },
   "outputs": [],
   "source": [
    "covid.columns_us['good']"
   ]
  },
  {
   "cell_type": "code",
   "execution_count": null,
   "metadata": {
    "ExecuteTime": {
     "end_time": "2020-07-04T02:18:42.346770Z",
     "start_time": "2020-07-04T02:18:42.266082Z"
    }
   },
   "outputs": [],
   "source": [
    "# covid.df_us[['positive','negative','death','recovered',\n",
    "# 'hospitalizedCurrently', 'hospitalizedCumulative',\n",
    "#  'inIcuCurrently', 'inIcuCumulative', \n",
    "#  'onVentilatorCurrently','onVentilatorCumulative', \n",
    "#  'states','pending','dateChecked', 'hash',]]"
   ]
  },
  {
   "cell_type": "code",
   "execution_count": null,
   "metadata": {
    "ExecuteTime": {
     "end_time": "2020-07-04T02:15:51.874858Z",
     "start_time": "2020-07-04T02:15:51.826601Z"
    }
   },
   "outputs": [],
   "source": [
    "covid.columns['good']"
   ]
  },
  {
   "cell_type": "code",
   "execution_count": null,
   "metadata": {
    "ExecuteTime": {
     "end_time": "2020-07-04T02:15:34.329974Z",
     "start_time": "2020-07-04T02:15:34.230046Z"
    }
   },
   "outputs": [],
   "source": [
    "covid.df_states"
   ]
  },
  {
   "cell_type": "code",
   "execution_count": null,
   "metadata": {
    "ExecuteTime": {
     "end_time": "2020-07-03T19:25:33.358051Z",
     "start_time": "2020-07-03T19:25:33.312185Z"
    }
   },
   "outputs": [],
   "source": [
    "df_us = covid.df_us.copy()\n",
    "# sorted(list(df_us.columns))\n",
    "df_us.columns"
   ]
  },
  {
   "cell_type": "code",
   "execution_count": null,
   "metadata": {
    "ExecuteTime": {
     "end_time": "2020-07-03T19:04:18.270830Z",
     "start_time": "2020-07-03T19:04:09.184Z"
    }
   },
   "outputs": [],
   "source": [
    "# df_us['fips']"
   ]
  },
  {
   "cell_type": "code",
   "execution_count": null,
   "metadata": {
    "ExecuteTime": {
     "end_time": "2020-07-03T19:25:46.570797Z",
     "start_time": "2020-07-03T19:25:46.526188Z"
    }
   },
   "outputs": [],
   "source": [
    "good_us_cols = ['dateChecked','death', 'hash', 'hospitalizedCumulative',\n",
    " 'hospitalizedCurrently','inIcuCumulative', 'inIcuCurrently',\n",
    " 'negative', 'onVentilatorCumulative', 'onVentilatorCurrently',\n",
    " 'pending','positive','recovered','states']\n",
    "\n",
    "dep_us_cols = ['hospitalized', 'lastModified', 'total', \n",
    "             'totalTestResults', 'posNeg', 'deathIncrease',\n",
    "            'hospitalizedIncrease', 'negativeIncrease', 'positiveIncrease', \n",
    "            'totalTestResultsIncrease']#[col for col in df_us.columns if col not in good_us_cols]\n",
    "# print(dep_cols)"
   ]
  },
  {
   "cell_type": "code",
   "execution_count": null,
   "metadata": {
    "ExecuteTime": {
     "end_time": "2020-07-03T19:25:58.514030Z",
     "start_time": "2020-07-03T19:25:58.433061Z"
    },
    "tags": []
   },
   "outputs": [],
   "source": [
    "df = covid.df_us[covid.columns_us['good']].copy()\n",
    "df[good_us_cols]"
   ]
  },
  {
   "cell_type": "code",
   "execution_count": null,
   "metadata": {
    "ExecuteTime": {
     "end_time": "2020-07-03T19:04:18.273607Z",
     "start_time": "2020-07-03T19:04:09.191Z"
    },
    "tags": []
   },
   "outputs": [],
   "source": [
    "covid"
   ]
  },
  {
   "cell_type": "code",
   "execution_count": null,
   "metadata": {
    "ExecuteTime": {
     "end_time": "2020-07-03T19:04:18.274757Z",
     "start_time": "2020-07-03T19:04:09.194Z"
    }
   },
   "outputs": [],
   "source": [
    "covid.US"
   ]
  },
  {
   "cell_type": "markdown",
   "metadata": {
    "heading_collapsed": true
   },
   "source": [
    "# APPENDIX"
   ]
  },
  {
   "cell_type": "code",
   "execution_count": null,
   "metadata": {
    "ExecuteTime": {
     "end_time": "2020-07-03T19:04:18.275603Z",
     "start_time": "2020-07-03T19:04:09.196Z"
    },
    "hidden": true
   },
   "outputs": [],
   "source": [
    "## Load in Fips Data\n",
    "fips = pd.read_csv('Reference Data/ZIP-COUNTY-FIPS_2018-03.csv')\n",
    "fips.groupby('STATE').get_group(\"NY\")['STCOUNTYFP'].value_counts()"
   ]
  },
  {
   "cell_type": "code",
   "execution_count": null,
   "metadata": {
    "ExecuteTime": {
     "end_time": "2020-07-03T19:04:18.276686Z",
     "start_time": "2020-07-03T19:04:09.199Z"
    },
    "hidden": true
   },
   "outputs": [],
   "source": [
    "fips.loc[fips['STCOUNTYFP']==36]"
   ]
  },
  {
   "cell_type": "code",
   "execution_count": null,
   "metadata": {
    "ExecuteTime": {
     "end_time": "2020-07-03T19:04:18.277538Z",
     "start_time": "2020-07-03T19:04:09.201Z"
    },
    "hidden": true
   },
   "outputs": [],
   "source": [
    "\n",
    "df = covid.STATES\n",
    "df['fips']"
   ]
  },
  {
   "cell_type": "code",
   "execution_count": null,
   "metadata": {
    "ExecuteTime": {
     "end_time": "2020-07-03T19:04:18.278485Z",
     "start_time": "2020-07-03T19:04:09.203Z"
    },
    "hidden": true
   },
   "outputs": [],
   "source": [
    "# #     def __init__(self):\n",
    "# tracking = CovidTrackingProject()\n",
    "# states_daily = tracking.download_state_daily()\n",
    "# us_daily=tracking.download_us_daily()\n",
    "# state_meta = tracking.download_state_meta()\n",
    "# display(states_daily.head(),us_daily.head(),state_meta.head())"
   ]
  },
  {
   "cell_type": "code",
   "execution_count": null,
   "metadata": {
    "ExecuteTime": {
     "end_time": "2020-07-03T19:04:18.279345Z",
     "start_time": "2020-07-03T19:04:09.205Z"
    },
    "hidden": true,
    "tags": []
   },
   "outputs": [],
   "source": [
    "covid = CovidTrackingProject(download=True)\n",
    "state_meta = covid.data['states_metadata']\n",
    "states_daily = covid.data['states']\n",
    "state_list = state_meta['state'].unique()\n",
    "states_daily"
   ]
  },
  {
   "cell_type": "code",
   "execution_count": null,
   "metadata": {
    "ExecuteTime": {
     "end_time": "2020-07-03T19:04:18.280393Z",
     "start_time": "2020-07-03T19:04:09.207Z"
    },
    "hidden": true
   },
   "outputs": [],
   "source": [
    "from pandas_profiling import ProfileReport"
   ]
  },
  {
   "cell_type": "code",
   "execution_count": null,
   "metadata": {
    "ExecuteTime": {
     "end_time": "2020-07-03T19:04:18.281310Z",
     "start_time": "2020-07-03T19:04:09.210Z"
    },
    "hidden": true,
    "scrolled": false
   },
   "outputs": [],
   "source": [
    "report  = ProfileReport(states_daily)\n"
   ]
  },
  {
   "cell_type": "markdown",
   "metadata": {
    "hidden": true
   },
   "source": [
    "## NOTES: COLUMNS TO PLOT"
   ]
  },
  {
   "cell_type": "markdown",
   "metadata": {
    "hidden": true
   },
   "source": [
    "- Basic Stats:\n",
    "    - death: cumulative total people died\n",
    "    - positive: total number people positive so far\n",
    "    - negative\n",
    "    - recovered\n",
    "    \n",
    "\n",
    "- Hospitalization:\n",
    "    - hospitalizedCumulative: total number hospital so far(recovered and dead)\n",
    "    - hospitalizedCurrently: \n",
    "    - hospitalizedIncrease\n",
    "\n",
    "\n",
    "- ICU:\n",
    "    - inIcuCumulative: total number hospital so far(recovered and dead)\n",
    "    - inIcuCurrently: \n",
    "    \n",
    "- Ventilator \n",
    "    - onVentilatorCumulative\n",
    "    - onVentilatorCurrently\n"
   ]
  },
  {
   "cell_type": "code",
   "execution_count": null,
   "metadata": {
    "ExecuteTime": {
     "end_time": "2020-07-03T19:04:18.282414Z",
     "start_time": "2020-07-03T19:04:09.212Z"
    },
    "hidden": true
   },
   "outputs": [],
   "source": [
    "\n",
    "covid.columns"
   ]
  },
  {
   "cell_type": "code",
   "execution_count": null,
   "metadata": {
    "ExecuteTime": {
     "end_time": "2020-07-03T19:04:18.283298Z",
     "start_time": "2020-07-03T19:04:09.214Z"
    },
    "hidden": true
   },
   "outputs": [],
   "source": [
    "NY = states_daily.groupby('state').get_group('NY')[covid.columns['good']]\n",
    "NY"
   ]
  },
  {
   "cell_type": "code",
   "execution_count": null,
   "metadata": {
    "hidden": true
   },
   "outputs": [],
   "source": []
  },
  {
   "cell_type": "markdown",
   "metadata": {},
   "source": [
    "# 🗺Adding Mapping"
   ]
  },
  {
   "cell_type": "markdown",
   "metadata": {
    "ExecuteTime": {
     "end_time": "2020-07-02T02:06:08.498706Z",
     "start_time": "2020-07-02T02:06:08.496433Z"
    }
   },
   "source": [
    "## Geocoding"
   ]
  },
  {
   "cell_type": "code",
   "execution_count": null,
   "metadata": {
    "ExecuteTime": {
     "end_time": "2020-07-03T19:04:18.284220Z",
     "start_time": "2020-07-03T19:04:09.218Z"
    }
   },
   "outputs": [],
   "source": [
    "df = corona.df_us\n",
    "df"
   ]
  },
  {
   "cell_type": "code",
   "execution_count": null,
   "metadata": {
    "ExecuteTime": {
     "end_time": "2020-07-03T19:04:18.285103Z",
     "start_time": "2020-07-03T19:04:09.220Z"
    }
   },
   "outputs": [],
   "source": [
    "# !pip install geopandas\n",
    "# !pip install geopy"
   ]
  },
  {
   "cell_type": "code",
   "execution_count": null,
   "metadata": {
    "ExecuteTime": {
     "end_time": "2020-07-03T19:04:18.286022Z",
     "start_time": "2020-07-03T19:04:09.222Z"
    }
   },
   "outputs": [],
   "source": [
    "from geopy.geocoders import Nominatim\n",
    "locator = Nominatim(user_agent=\"myGeocoder\")\n",
    "res = locator.geocode('Baltimore')\n",
    "res.latitude,res.longitude"
   ]
  },
  {
   "cell_type": "markdown",
   "metadata": {
    "ExecuteTime": {
     "end_time": "2020-07-02T02:06:25.776409Z",
     "start_time": "2020-07-02T02:06:25.774464Z"
    }
   },
   "source": [
    "## Folium"
   ]
  },
  {
   "cell_type": "code",
   "execution_count": null,
   "metadata": {
    "ExecuteTime": {
     "end_time": "2020-07-03T19:04:18.286890Z",
     "start_time": "2020-07-03T19:04:09.225Z"
    }
   },
   "outputs": [],
   "source": [
    "# import folium\n",
    "# center = (res.latitude,res.longitude) #(resp['region']['center']['latitude'],resp['region']['center']['longitude'])\n",
    "\n",
    "# popup = folium.Popup(f\"Latitude={center[0]}, Longitude={center[1]}\")\n",
    "# marker = folium.Marker(center,popup)\n",
    "# mymap = folium.Map(center)\n",
    "# marker.add_to(mymap)\n",
    "# mymap"
   ]
  }
 ],
 "metadata": {
  "file_extension": ".py",
  "kernelspec": {
   "display_name": "Python 3.6.9 64-bit",
   "language": "python",
   "name": "python36964bit03393eb90e194b7a9fdc02111cc1aa9d"
  },
  "language_info": {
   "codemirror_mode": {
    "name": "ipython",
    "version": 3
   },
   "file_extension": ".py",
   "mimetype": "text/x-python",
   "name": "python",
   "nbconvert_exporter": "python",
   "pygments_lexer": "ipython3",
   "version": "3.6.9"
  },
  "mimetype": "text/x-python",
  "name": "python",
  "npconvert_exporter": "python",
  "pygments_lexer": "ipython3",
  "toc": {
   "base_numbering": 1,
   "nav_menu": {},
   "number_sections": false,
   "sideBar": true,
   "skip_h1_title": false,
   "title_cell": "Table of Contents",
   "title_sidebar": "Contents",
   "toc_cell": false,
   "toc_position": {
    "height": "calc(100% - 180px)",
    "left": "10px",
    "top": "150px",
    "width": "232.719px"
   },
   "toc_section_display": true,
   "toc_window_display": true
  },
  "version": 3
 },
 "nbformat": 4,
 "nbformat_minor": 2
}
