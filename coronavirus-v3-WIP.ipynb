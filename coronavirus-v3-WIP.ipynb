{
 "cells": [
  {
   "cell_type": "markdown",
   "metadata": {},
   "source": [
    "# Playing with Coronavirus Timeseries -v3\n",
    "\n",
    "- https://www.kaggle.com/sudalairajkumar/novel-corona-virus-2019-dataset\n"
   ]
  },
  {
   "cell_type": "markdown",
   "metadata": {},
   "source": [
    "- 07/10/20\n",
    "- James M. Irving, Ph.D."
   ]
  },
  {
   "cell_type": "markdown",
   "metadata": {},
   "source": [
    "## Notes:"
   ]
  },
  {
   "cell_type": "markdown",
   "metadata": {},
   "source": [
    "- This notebook is the 3rd iteration of the dashboard.\n",
    "- I will only run minimal code needed to get the data to begin visualizing.\n",
    "\n",
    "- The plan is to add additional information/plots"
   ]
  },
  {
   "cell_type": "code",
   "execution_count": 1,
   "metadata": {
    "ExecuteTime": {
     "end_time": "2020-11-19T23:02:07.117078Z",
     "start_time": "2020-11-19T23:02:01.995533Z"
    },
    "tags": []
   },
   "outputs": [
    {
     "name": "stdout",
     "output_type": "stream",
     "text": [
      "fsds v0.2.27 loaded.  Read the docs: https://fs-ds.readthedocs.io/en/latest/ \n"
     ]
    },
    {
     "data": {
      "text/html": [
       "<style  type=\"text/css\" >\n",
       "</style><table id=\"T_3e9e7242_2abb_11eb_83eb_acde48001122\" ><caption>Loaded Packages and Handles</caption><thead>    <tr>        <th class=\"col_heading level0 col0\" >Handle</th>        <th class=\"col_heading level0 col1\" >Package</th>        <th class=\"col_heading level0 col2\" >Description</th>    </tr></thead><tbody>\n",
       "                <tr>\n",
       "                                <td id=\"T_3e9e7242_2abb_11eb_83eb_acde48001122row0_col0\" class=\"data row0 col0\" >dp</td>\n",
       "                        <td id=\"T_3e9e7242_2abb_11eb_83eb_acde48001122row0_col1\" class=\"data row0 col1\" >IPython.display</td>\n",
       "                        <td id=\"T_3e9e7242_2abb_11eb_83eb_acde48001122row0_col2\" class=\"data row0 col2\" >Display modules with helpful display and clearing commands.</td>\n",
       "            </tr>\n",
       "            <tr>\n",
       "                                <td id=\"T_3e9e7242_2abb_11eb_83eb_acde48001122row1_col0\" class=\"data row1 col0\" >fs</td>\n",
       "                        <td id=\"T_3e9e7242_2abb_11eb_83eb_acde48001122row1_col1\" class=\"data row1 col1\" >fsds</td>\n",
       "                        <td id=\"T_3e9e7242_2abb_11eb_83eb_acde48001122row1_col2\" class=\"data row1 col2\" >Custom data science bootcamp student package</td>\n",
       "            </tr>\n",
       "            <tr>\n",
       "                                <td id=\"T_3e9e7242_2abb_11eb_83eb_acde48001122row2_col0\" class=\"data row2 col0\" >mpl</td>\n",
       "                        <td id=\"T_3e9e7242_2abb_11eb_83eb_acde48001122row2_col1\" class=\"data row2 col1\" >matplotlib</td>\n",
       "                        <td id=\"T_3e9e7242_2abb_11eb_83eb_acde48001122row2_col2\" class=\"data row2 col2\" >Matplotlib's base OOP module with formatting artists</td>\n",
       "            </tr>\n",
       "            <tr>\n",
       "                                <td id=\"T_3e9e7242_2abb_11eb_83eb_acde48001122row3_col0\" class=\"data row3 col0\" >plt</td>\n",
       "                        <td id=\"T_3e9e7242_2abb_11eb_83eb_acde48001122row3_col1\" class=\"data row3 col1\" >matplotlib.pyplot</td>\n",
       "                        <td id=\"T_3e9e7242_2abb_11eb_83eb_acde48001122row3_col2\" class=\"data row3 col2\" >Matplotlib's matlab-like plotting module</td>\n",
       "            </tr>\n",
       "            <tr>\n",
       "                                <td id=\"T_3e9e7242_2abb_11eb_83eb_acde48001122row4_col0\" class=\"data row4 col0\" >np</td>\n",
       "                        <td id=\"T_3e9e7242_2abb_11eb_83eb_acde48001122row4_col1\" class=\"data row4 col1\" >numpy</td>\n",
       "                        <td id=\"T_3e9e7242_2abb_11eb_83eb_acde48001122row4_col2\" class=\"data row4 col2\" >scientific computing with Python</td>\n",
       "            </tr>\n",
       "            <tr>\n",
       "                                <td id=\"T_3e9e7242_2abb_11eb_83eb_acde48001122row5_col0\" class=\"data row5 col0\" >pd</td>\n",
       "                        <td id=\"T_3e9e7242_2abb_11eb_83eb_acde48001122row5_col1\" class=\"data row5 col1\" >pandas</td>\n",
       "                        <td id=\"T_3e9e7242_2abb_11eb_83eb_acde48001122row5_col2\" class=\"data row5 col2\" >High performance data structures and tools</td>\n",
       "            </tr>\n",
       "            <tr>\n",
       "                                <td id=\"T_3e9e7242_2abb_11eb_83eb_acde48001122row6_col0\" class=\"data row6 col0\" >sns</td>\n",
       "                        <td id=\"T_3e9e7242_2abb_11eb_83eb_acde48001122row6_col1\" class=\"data row6 col1\" >seaborn</td>\n",
       "                        <td id=\"T_3e9e7242_2abb_11eb_83eb_acde48001122row6_col2\" class=\"data row6 col2\" >High-level data visualization library based on matplotlib</td>\n",
       "            </tr>\n",
       "    </tbody></table>"
      ],
      "text/plain": [
       "<pandas.io.formats.style.Styler at 0x7f87bec27390>"
      ]
     },
     "metadata": {},
     "output_type": "display_data"
    },
    {
     "data": {
      "text/html": [
       "        <script type=\"text/javascript\">\n",
       "        window.PlotlyConfig = {MathJaxConfig: 'local'};\n",
       "        if (window.MathJax) {MathJax.Hub.Config({SVG: {font: \"STIX-Web\"}});}\n",
       "        if (typeof require !== 'undefined') {\n",
       "        require.undef(\"plotly\");\n",
       "        requirejs.config({\n",
       "            paths: {\n",
       "                'plotly': ['https://cdn.plot.ly/plotly-latest.min']\n",
       "            }\n",
       "        });\n",
       "        require(['plotly'], function(Plotly) {\n",
       "            window._Plotly = Plotly;\n",
       "        });\n",
       "        }\n",
       "        </script>\n",
       "        "
      ]
     },
     "metadata": {},
     "output_type": "display_data"
    },
    {
     "data": {
      "text/html": [
       "        <script type=\"text/javascript\">\n",
       "        window.PlotlyConfig = {MathJaxConfig: 'local'};\n",
       "        if (window.MathJax) {MathJax.Hub.Config({SVG: {font: \"STIX-Web\"}});}\n",
       "        if (typeof require !== 'undefined') {\n",
       "        require.undef(\"plotly\");\n",
       "        requirejs.config({\n",
       "            paths: {\n",
       "                'plotly': ['https://cdn.plot.ly/plotly-latest.min']\n",
       "            }\n",
       "        });\n",
       "        require(['plotly'], function(Plotly) {\n",
       "            window._Plotly = Plotly;\n",
       "        });\n",
       "        }\n",
       "        </script>\n",
       "        "
      ]
     },
     "metadata": {},
     "output_type": "display_data"
    },
    {
     "name": "stdout",
     "output_type": "stream",
     "text": [
      "[i] Pandas .iplot() method activated.\n"
     ]
    }
   ],
   "source": [
    "!pip install -U fsds\n",
    "from fsds.imports import *"
   ]
  },
  {
   "cell_type": "code",
   "execution_count": 2,
   "metadata": {
    "ExecuteTime": {
     "end_time": "2020-11-19T23:02:08.138529Z",
     "start_time": "2020-11-19T23:02:07.118935Z"
    }
   },
   "outputs": [
    {
     "data": {
      "text/html": [
       "        <script type=\"text/javascript\">\n",
       "        window.PlotlyConfig = {MathJaxConfig: 'local'};\n",
       "        if (window.MathJax) {MathJax.Hub.Config({SVG: {font: \"STIX-Web\"}});}\n",
       "        if (typeof require !== 'undefined') {\n",
       "        require.undef(\"plotly\");\n",
       "        requirejs.config({\n",
       "            paths: {\n",
       "                'plotly': ['https://cdn.plot.ly/plotly-latest.min']\n",
       "            }\n",
       "        });\n",
       "        require(['plotly'], function(Plotly) {\n",
       "            window._Plotly = Plotly;\n",
       "        });\n",
       "        }\n",
       "        </script>\n",
       "        "
      ]
     },
     "metadata": {},
     "output_type": "display_data"
    },
    {
     "data": {
      "text/html": [
       "        <script type=\"text/javascript\">\n",
       "        window.PlotlyConfig = {MathJaxConfig: 'local'};\n",
       "        if (window.MathJax) {MathJax.Hub.Config({SVG: {font: \"STIX-Web\"}});}\n",
       "        if (typeof require !== 'undefined') {\n",
       "        require.undef(\"plotly\");\n",
       "        requirejs.config({\n",
       "            paths: {\n",
       "                'plotly': ['https://cdn.plot.ly/plotly-latest.min']\n",
       "            }\n",
       "        });\n",
       "        require(['plotly'], function(Plotly) {\n",
       "            window._Plotly = Plotly;\n",
       "        });\n",
       "        }\n",
       "        </script>\n",
       "        "
      ]
     },
     "metadata": {},
     "output_type": "display_data"
    },
    {
     "data": {
      "text/html": [
       "        <script type=\"text/javascript\">\n",
       "        window.PlotlyConfig = {MathJaxConfig: 'local'};\n",
       "        if (window.MathJax) {MathJax.Hub.Config({SVG: {font: \"STIX-Web\"}});}\n",
       "        if (typeof require !== 'undefined') {\n",
       "        require.undef(\"plotly\");\n",
       "        requirejs.config({\n",
       "            paths: {\n",
       "                'plotly': ['https://cdn.plot.ly/plotly-latest.min']\n",
       "            }\n",
       "        });\n",
       "        require(['plotly'], function(Plotly) {\n",
       "            window._Plotly = Plotly;\n",
       "        });\n",
       "        }\n",
       "        </script>\n",
       "        "
      ]
     },
     "metadata": {},
     "output_type": "display_data"
    },
    {
     "data": {
      "text/html": [
       "        <script type=\"text/javascript\">\n",
       "        window.PlotlyConfig = {MathJaxConfig: 'local'};\n",
       "        if (window.MathJax) {MathJax.Hub.Config({SVG: {font: \"STIX-Web\"}});}\n",
       "        if (typeof require !== 'undefined') {\n",
       "        require.undef(\"plotly\");\n",
       "        requirejs.config({\n",
       "            paths: {\n",
       "                'plotly': ['https://cdn.plot.ly/plotly-latest.min']\n",
       "            }\n",
       "        });\n",
       "        require(['plotly'], function(Plotly) {\n",
       "            window._Plotly = Plotly;\n",
       "        });\n",
       "        }\n",
       "        </script>\n",
       "        "
      ]
     },
     "metadata": {},
     "output_type": "display_data"
    }
   ],
   "source": [
    "import os,glob,sys\n",
    "import re\n",
    "import plotly.express as px\n",
    "import plotly.graph_objects as go\n",
    "import plotly.io as pio\n",
    "pio.templates.default = \"plotly_dark\"\n",
    "\n",
    "import cufflinks as cf\n",
    "cf.go_offline()\n",
    "cf.set_config_file(sharing='public',theme='solar',offline=True)\n",
    "\n",
    "import functions as fn\n",
    "\n",
    "%load_ext autoreload\n",
    "%autoreload 2"
   ]
  },
  {
   "cell_type": "markdown",
   "metadata": {},
   "source": [
    "# Main Kaggle Dataset - Get US States"
   ]
  },
  {
   "cell_type": "markdown",
   "metadata": {},
   "source": [
    "# 📦class `CoronaData`"
   ]
  },
  {
   "cell_type": "code",
   "execution_count": 3,
   "metadata": {
    "ExecuteTime": {
     "end_time": "2020-11-19T23:02:09.855976Z",
     "start_time": "2020-11-19T23:02:08.140707Z"
    },
    "code_folding": [],
    "tags": []
   },
   "outputs": [
    {
     "name": "stdout",
     "output_type": "stream",
     "text": [
      "[i] DOWNLOADING DATA USING KAGGLE API\n",
      "\thttps://www.kaggle.com/sudalairajkumar/novel-corona-virus-2019-dataset\n",
      "\t- Downloaded dataset .zip and extracted to:\"New Data/\"\n",
      "\t- Extraction Complete.\n"
     ]
    },
    {
     "data": {
      "text/html": [
       "<div>\n",
       "<style scoped>\n",
       "    .dataframe tbody tr th:only-of-type {\n",
       "        vertical-align: middle;\n",
       "    }\n",
       "\n",
       "    .dataframe tbody tr th {\n",
       "        vertical-align: top;\n",
       "    }\n",
       "\n",
       "    .dataframe thead th {\n",
       "        text-align: right;\n",
       "    }\n",
       "</style>\n",
       "<table border=\"1\" class=\"dataframe\">\n",
       "  <thead>\n",
       "    <tr style=\"text-align: right;\">\n",
       "      <th></th>\n",
       "      <th>Date</th>\n",
       "      <th>Province/State</th>\n",
       "      <th>Country/Region</th>\n",
       "      <th>Confirmed</th>\n",
       "      <th>Deaths</th>\n",
       "      <th>Recovered</th>\n",
       "    </tr>\n",
       "  </thead>\n",
       "  <tbody>\n",
       "    <tr>\n",
       "      <th>0</th>\n",
       "      <td>2020-01-22</td>\n",
       "      <td>Anhui</td>\n",
       "      <td>Mainland China</td>\n",
       "      <td>1.0</td>\n",
       "      <td>0.0</td>\n",
       "      <td>0.0</td>\n",
       "    </tr>\n",
       "    <tr>\n",
       "      <th>1</th>\n",
       "      <td>2020-01-22</td>\n",
       "      <td>Beijing</td>\n",
       "      <td>Mainland China</td>\n",
       "      <td>14.0</td>\n",
       "      <td>0.0</td>\n",
       "      <td>0.0</td>\n",
       "    </tr>\n",
       "    <tr>\n",
       "      <th>2</th>\n",
       "      <td>2020-01-22</td>\n",
       "      <td>Chongqing</td>\n",
       "      <td>Mainland China</td>\n",
       "      <td>6.0</td>\n",
       "      <td>0.0</td>\n",
       "      <td>0.0</td>\n",
       "    </tr>\n",
       "    <tr>\n",
       "      <th>3</th>\n",
       "      <td>2020-01-22</td>\n",
       "      <td>Fujian</td>\n",
       "      <td>Mainland China</td>\n",
       "      <td>1.0</td>\n",
       "      <td>0.0</td>\n",
       "      <td>0.0</td>\n",
       "    </tr>\n",
       "    <tr>\n",
       "      <th>4</th>\n",
       "      <td>2020-01-22</td>\n",
       "      <td>Gansu</td>\n",
       "      <td>Mainland China</td>\n",
       "      <td>0.0</td>\n",
       "      <td>0.0</td>\n",
       "      <td>0.0</td>\n",
       "    </tr>\n",
       "  </tbody>\n",
       "</table>\n",
       "</div>"
      ],
      "text/plain": [
       "        Date Province/State  Country/Region  Confirmed  Deaths  Recovered\n",
       "0 2020-01-22          Anhui  Mainland China        1.0     0.0        0.0\n",
       "1 2020-01-22        Beijing  Mainland China       14.0     0.0        0.0\n",
       "2 2020-01-22      Chongqing  Mainland China        6.0     0.0        0.0\n",
       "3 2020-01-22         Fujian  Mainland China        1.0     0.0        0.0\n",
       "4 2020-01-22          Gansu  Mainland China        0.0     0.0        0.0"
      ]
     },
     "metadata": {},
     "output_type": "display_data"
    },
    {
     "name": "stdout",
     "output_type": "stream",
     "text": [
      "[i] There are 226 countries in the datatset\n",
      "[i] Dates Covered:\n",
      "\tFrom 01-22-2020 to 11-15-2020\n"
     ]
    },
    {
     "data": {
      "text/plain": [
       "------------------------------------------------------------\n",
       "[i] CovidTrackingProject Contents:\n",
       "------------------------------------------------------------\n",
       "\n",
       "METHODS:\n",
       "\tcalculate_per_capita\n",
       "\tdownload_coronavirus_data\n",
       "\tget_and_clean_US\n",
       "\tget_data_fpath\n",
       "\tget_group_ts\n",
       "\tload_raw_df\n",
       "\tload_us_reference_info\n",
       "\tset_datetime_index\n",
       "\n",
       "ATTRIBUTES\n",
       "\tSTATES\n",
       "\tdf\n",
       "\tdf_us\n",
       "\traw_df\n",
       "\treference_data"
      ]
     },
     "execution_count": 3,
     "metadata": {},
     "output_type": "execute_result"
    }
   ],
   "source": [
    "corona = fn.CoronaData(verbose=True,run_workflow=True)\n",
    "corona"
   ]
  },
  {
   "cell_type": "code",
   "execution_count": 4,
   "metadata": {
    "ExecuteTime": {
     "end_time": "2020-11-19T23:02:09.952497Z",
     "start_time": "2020-11-19T23:02:09.857947Z"
    }
   },
   "outputs": [],
   "source": [
    "# raw_df = corona._df\n",
    "# raw_df['Country/Region'].value_counts()#.sort_index().tail(20)"
   ]
  },
  {
   "cell_type": "code",
   "execution_count": 5,
   "metadata": {
    "ExecuteTime": {
     "end_time": "2020-11-19T23:02:10.077671Z",
     "start_time": "2020-11-19T23:02:09.954264Z"
    }
   },
   "outputs": [
    {
     "data": {
      "text/html": [
       "<div>\n",
       "<style scoped>\n",
       "    .dataframe tbody tr th:only-of-type {\n",
       "        vertical-align: middle;\n",
       "    }\n",
       "\n",
       "    .dataframe tbody tr th {\n",
       "        vertical-align: top;\n",
       "    }\n",
       "\n",
       "    .dataframe thead th {\n",
       "        text-align: right;\n",
       "    }\n",
       "</style>\n",
       "<table border=\"1\" class=\"dataframe\">\n",
       "  <thead>\n",
       "    <tr style=\"text-align: right;\">\n",
       "      <th></th>\n",
       "      <th>Date</th>\n",
       "      <th>Province/State</th>\n",
       "      <th>Country/Region</th>\n",
       "      <th>Confirmed</th>\n",
       "      <th>Deaths</th>\n",
       "      <th>Recovered</th>\n",
       "    </tr>\n",
       "  </thead>\n",
       "  <tbody>\n",
       "    <tr>\n",
       "      <th>31</th>\n",
       "      <td>2020-01-22</td>\n",
       "      <td>Washington</td>\n",
       "      <td>US</td>\n",
       "      <td>1.0</td>\n",
       "      <td>0.0</td>\n",
       "      <td>0.0</td>\n",
       "    </tr>\n",
       "    <tr>\n",
       "      <th>69</th>\n",
       "      <td>2020-01-23</td>\n",
       "      <td>Washington</td>\n",
       "      <td>US</td>\n",
       "      <td>1.0</td>\n",
       "      <td>0.0</td>\n",
       "      <td>0.0</td>\n",
       "    </tr>\n",
       "    <tr>\n",
       "      <th>117</th>\n",
       "      <td>2020-01-24</td>\n",
       "      <td>Washington</td>\n",
       "      <td>US</td>\n",
       "      <td>1.0</td>\n",
       "      <td>0.0</td>\n",
       "      <td>0.0</td>\n",
       "    </tr>\n",
       "    <tr>\n",
       "      <th>118</th>\n",
       "      <td>2020-01-24</td>\n",
       "      <td>Chicago</td>\n",
       "      <td>US</td>\n",
       "      <td>1.0</td>\n",
       "      <td>0.0</td>\n",
       "      <td>0.0</td>\n",
       "    </tr>\n",
       "    <tr>\n",
       "      <th>158</th>\n",
       "      <td>2020-01-25</td>\n",
       "      <td>Washington</td>\n",
       "      <td>US</td>\n",
       "      <td>1.0</td>\n",
       "      <td>0.0</td>\n",
       "      <td>0.0</td>\n",
       "    </tr>\n",
       "    <tr>\n",
       "      <th>...</th>\n",
       "      <td>...</td>\n",
       "      <td>...</td>\n",
       "      <td>...</td>\n",
       "      <td>...</td>\n",
       "      <td>...</td>\n",
       "      <td>...</td>\n",
       "    </tr>\n",
       "    <tr>\n",
       "      <th>156259</th>\n",
       "      <td>2020-11-15</td>\n",
       "      <td>Virginia</td>\n",
       "      <td>US</td>\n",
       "      <td>201960.0</td>\n",
       "      <td>3800.0</td>\n",
       "      <td>0.0</td>\n",
       "    </tr>\n",
       "    <tr>\n",
       "      <th>156268</th>\n",
       "      <td>2020-11-15</td>\n",
       "      <td>Washington</td>\n",
       "      <td>US</td>\n",
       "      <td>130040.0</td>\n",
       "      <td>2519.0</td>\n",
       "      <td>0.0</td>\n",
       "    </tr>\n",
       "    <tr>\n",
       "      <th>156271</th>\n",
       "      <td>2020-11-15</td>\n",
       "      <td>West Virginia</td>\n",
       "      <td>US</td>\n",
       "      <td>33659.0</td>\n",
       "      <td>582.0</td>\n",
       "      <td>0.0</td>\n",
       "    </tr>\n",
       "    <tr>\n",
       "      <th>156273</th>\n",
       "      <td>2020-11-15</td>\n",
       "      <td>Wisconsin</td>\n",
       "      <td>US</td>\n",
       "      <td>329924.0</td>\n",
       "      <td>2751.0</td>\n",
       "      <td>0.0</td>\n",
       "    </tr>\n",
       "    <tr>\n",
       "      <th>156274</th>\n",
       "      <td>2020-11-15</td>\n",
       "      <td>Wyoming</td>\n",
       "      <td>US</td>\n",
       "      <td>22494.0</td>\n",
       "      <td>144.0</td>\n",
       "      <td>0.0</td>\n",
       "    </tr>\n",
       "  </tbody>\n",
       "</table>\n",
       "<p>15430 rows × 6 columns</p>\n",
       "</div>"
      ],
      "text/plain": [
       "             Date Province/State Country/Region  Confirmed  Deaths  Recovered\n",
       "31     2020-01-22     Washington             US        1.0     0.0        0.0\n",
       "69     2020-01-23     Washington             US        1.0     0.0        0.0\n",
       "117    2020-01-24     Washington             US        1.0     0.0        0.0\n",
       "118    2020-01-24        Chicago             US        1.0     0.0        0.0\n",
       "158    2020-01-25     Washington             US        1.0     0.0        0.0\n",
       "...           ...            ...            ...        ...     ...        ...\n",
       "156259 2020-11-15       Virginia             US   201960.0  3800.0        0.0\n",
       "156268 2020-11-15     Washington             US   130040.0  2519.0        0.0\n",
       "156271 2020-11-15  West Virginia             US    33659.0   582.0        0.0\n",
       "156273 2020-11-15      Wisconsin             US   329924.0  2751.0        0.0\n",
       "156274 2020-11-15        Wyoming             US    22494.0   144.0        0.0\n",
       "\n",
       "[15430 rows x 6 columns]"
      ]
     },
     "execution_count": 5,
     "metadata": {},
     "output_type": "execute_result"
    }
   ],
   "source": [
    "raw_df = corona._df\n",
    "# sorted(raw_df['Country/Region'].unique())\n",
    "us = raw_df.groupby('Country/Region').get_group(\"US\")\n",
    "us"
   ]
  },
  {
   "cell_type": "code",
   "execution_count": null,
   "metadata": {},
   "outputs": [],
   "source": []
  },
  {
   "cell_type": "code",
   "execution_count": null,
   "metadata": {},
   "outputs": [],
   "source": []
  },
  {
   "cell_type": "code",
   "execution_count": 6,
   "metadata": {
    "ExecuteTime": {
     "end_time": "2020-11-19T23:02:10.179653Z",
     "start_time": "2020-11-19T23:02:10.079348Z"
    }
   },
   "outputs": [],
   "source": [
    "df_world = corona.df"
   ]
  },
  {
   "cell_type": "code",
   "execution_count": 7,
   "metadata": {
    "ExecuteTime": {
     "end_time": "2020-11-19T23:02:10.279184Z",
     "start_time": "2020-11-19T23:02:10.181474Z"
    }
   },
   "outputs": [],
   "source": [
    "# pfig = fn.plot_group_ts(corona.df,group_list=['US','Italy','Canada',\n",
    "#                                   'Germany',\n",
    "#                                         'Mainland China'],group_col='Country/Region',\n",
    "#                      new_only=True,plot_scatter=False,width=900,height=600)\n",
    "# pfig"
   ]
  },
  {
   "cell_type": "code",
   "execution_count": 8,
   "metadata": {
    "ExecuteTime": {
     "end_time": "2020-11-19T23:02:13.345119Z",
     "start_time": "2020-11-19T23:02:10.282386Z"
    }
   },
   "outputs": [],
   "source": [
    "## Get WORLD dictionary with all countries\n",
    "grouping_col = 'Country/Region'\n",
    "countries = list(df_world.groupby(grouping_col).groups.keys())\n",
    "\n",
    "WORLD = {}\n",
    "for country in countries:\n",
    "#     print(country)\n",
    "    WORLD[country] = fn.get_group_ts(df_world,country, grouping_col)"
   ]
  },
  {
   "cell_type": "markdown",
   "metadata": {},
   "source": [
    "# 🗺Adding Mapping - 07/08"
   ]
  },
  {
   "cell_type": "markdown",
   "metadata": {},
   "source": [
    "https://plotly.com/python/mapbox-county-choropleth/"
   ]
  },
  {
   "cell_type": "code",
   "execution_count": 9,
   "metadata": {
    "ExecuteTime": {
     "end_time": "2020-11-19T23:02:13.454317Z",
     "start_time": "2020-11-19T23:02:13.347456Z"
    }
   },
   "outputs": [
    {
     "data": {
      "text/html": [
       "<div>\n",
       "<style scoped>\n",
       "    .dataframe tbody tr th:only-of-type {\n",
       "        vertical-align: middle;\n",
       "    }\n",
       "\n",
       "    .dataframe tbody tr th {\n",
       "        vertical-align: top;\n",
       "    }\n",
       "\n",
       "    .dataframe thead th {\n",
       "        text-align: right;\n",
       "    }\n",
       "</style>\n",
       "<table border=\"1\" class=\"dataframe\">\n",
       "  <thead>\n",
       "    <tr style=\"text-align: right;\">\n",
       "      <th></th>\n",
       "      <th>Province/State</th>\n",
       "      <th>Country/Region</th>\n",
       "      <th>Confirmed</th>\n",
       "      <th>Deaths</th>\n",
       "      <th>Recovered</th>\n",
       "      <th>state</th>\n",
       "      <th>Confirmed Per Capita</th>\n",
       "      <th>Deaths Per Capita</th>\n",
       "      <th>Recovered Per Capita</th>\n",
       "    </tr>\n",
       "    <tr>\n",
       "      <th>Date</th>\n",
       "      <th></th>\n",
       "      <th></th>\n",
       "      <th></th>\n",
       "      <th></th>\n",
       "      <th></th>\n",
       "      <th></th>\n",
       "      <th></th>\n",
       "      <th></th>\n",
       "      <th></th>\n",
       "    </tr>\n",
       "  </thead>\n",
       "  <tbody>\n",
       "    <tr>\n",
       "      <th>2020-01-22</th>\n",
       "      <td>Washington</td>\n",
       "      <td>US</td>\n",
       "      <td>1.0</td>\n",
       "      <td>0.0</td>\n",
       "      <td>0.0</td>\n",
       "      <td>WA</td>\n",
       "      <td>1.313216e-07</td>\n",
       "      <td>0.000000</td>\n",
       "      <td>0.0</td>\n",
       "    </tr>\n",
       "    <tr>\n",
       "      <th>2020-01-23</th>\n",
       "      <td>Washington</td>\n",
       "      <td>US</td>\n",
       "      <td>1.0</td>\n",
       "      <td>0.0</td>\n",
       "      <td>0.0</td>\n",
       "      <td>WA</td>\n",
       "      <td>1.313216e-07</td>\n",
       "      <td>0.000000</td>\n",
       "      <td>0.0</td>\n",
       "    </tr>\n",
       "    <tr>\n",
       "      <th>2020-01-24</th>\n",
       "      <td>Washington</td>\n",
       "      <td>US</td>\n",
       "      <td>1.0</td>\n",
       "      <td>0.0</td>\n",
       "      <td>0.0</td>\n",
       "      <td>WA</td>\n",
       "      <td>1.313216e-07</td>\n",
       "      <td>0.000000</td>\n",
       "      <td>0.0</td>\n",
       "    </tr>\n",
       "    <tr>\n",
       "      <th>2020-01-25</th>\n",
       "      <td>Washington</td>\n",
       "      <td>US</td>\n",
       "      <td>1.0</td>\n",
       "      <td>0.0</td>\n",
       "      <td>0.0</td>\n",
       "      <td>WA</td>\n",
       "      <td>1.313216e-07</td>\n",
       "      <td>0.000000</td>\n",
       "      <td>0.0</td>\n",
       "    </tr>\n",
       "    <tr>\n",
       "      <th>2020-01-26</th>\n",
       "      <td>Washington</td>\n",
       "      <td>US</td>\n",
       "      <td>1.0</td>\n",
       "      <td>0.0</td>\n",
       "      <td>0.0</td>\n",
       "      <td>WA</td>\n",
       "      <td>1.313216e-07</td>\n",
       "      <td>0.000000</td>\n",
       "      <td>0.0</td>\n",
       "    </tr>\n",
       "    <tr>\n",
       "      <th>...</th>\n",
       "      <td>...</td>\n",
       "      <td>...</td>\n",
       "      <td>...</td>\n",
       "      <td>...</td>\n",
       "      <td>...</td>\n",
       "      <td>...</td>\n",
       "      <td>...</td>\n",
       "      <td>...</td>\n",
       "      <td>...</td>\n",
       "    </tr>\n",
       "    <tr>\n",
       "      <th>2020-11-11</th>\n",
       "      <td>Puerto Rico</td>\n",
       "      <td>US</td>\n",
       "      <td>39120.0</td>\n",
       "      <td>901.0</td>\n",
       "      <td>0.0</td>\n",
       "      <td>PR</td>\n",
       "      <td>1.224914e-02</td>\n",
       "      <td>0.000282</td>\n",
       "      <td>0.0</td>\n",
       "    </tr>\n",
       "    <tr>\n",
       "      <th>2020-11-12</th>\n",
       "      <td>Puerto Rico</td>\n",
       "      <td>US</td>\n",
       "      <td>40452.0</td>\n",
       "      <td>909.0</td>\n",
       "      <td>0.0</td>\n",
       "      <td>PR</td>\n",
       "      <td>1.266621e-02</td>\n",
       "      <td>0.000285</td>\n",
       "      <td>0.0</td>\n",
       "    </tr>\n",
       "    <tr>\n",
       "      <th>2020-11-13</th>\n",
       "      <td>Puerto Rico</td>\n",
       "      <td>US</td>\n",
       "      <td>41119.0</td>\n",
       "      <td>914.0</td>\n",
       "      <td>0.0</td>\n",
       "      <td>PR</td>\n",
       "      <td>1.287506e-02</td>\n",
       "      <td>0.000286</td>\n",
       "      <td>0.0</td>\n",
       "    </tr>\n",
       "    <tr>\n",
       "      <th>2020-11-14</th>\n",
       "      <td>Puerto Rico</td>\n",
       "      <td>US</td>\n",
       "      <td>41772.0</td>\n",
       "      <td>921.0</td>\n",
       "      <td>0.0</td>\n",
       "      <td>PR</td>\n",
       "      <td>1.307952e-02</td>\n",
       "      <td>0.000288</td>\n",
       "      <td>0.0</td>\n",
       "    </tr>\n",
       "    <tr>\n",
       "      <th>2020-11-15</th>\n",
       "      <td>Puerto Rico</td>\n",
       "      <td>US</td>\n",
       "      <td>42479.0</td>\n",
       "      <td>935.0</td>\n",
       "      <td>0.0</td>\n",
       "      <td>PR</td>\n",
       "      <td>1.330090e-02</td>\n",
       "      <td>0.000293</td>\n",
       "      <td>0.0</td>\n",
       "    </tr>\n",
       "  </tbody>\n",
       "</table>\n",
       "<p>13925 rows × 9 columns</p>\n",
       "</div>"
      ],
      "text/plain": [
       "           Province/State Country/Region  Confirmed  Deaths  Recovered state  \\\n",
       "Date                                                                           \n",
       "2020-01-22     Washington             US        1.0     0.0        0.0    WA   \n",
       "2020-01-23     Washington             US        1.0     0.0        0.0    WA   \n",
       "2020-01-24     Washington             US        1.0     0.0        0.0    WA   \n",
       "2020-01-25     Washington             US        1.0     0.0        0.0    WA   \n",
       "2020-01-26     Washington             US        1.0     0.0        0.0    WA   \n",
       "...                   ...            ...        ...     ...        ...   ...   \n",
       "2020-11-11    Puerto Rico             US    39120.0   901.0        0.0    PR   \n",
       "2020-11-12    Puerto Rico             US    40452.0   909.0        0.0    PR   \n",
       "2020-11-13    Puerto Rico             US    41119.0   914.0        0.0    PR   \n",
       "2020-11-14    Puerto Rico             US    41772.0   921.0        0.0    PR   \n",
       "2020-11-15    Puerto Rico             US    42479.0   935.0        0.0    PR   \n",
       "\n",
       "            Confirmed Per Capita  Deaths Per Capita  Recovered Per Capita  \n",
       "Date                                                                       \n",
       "2020-01-22          1.313216e-07           0.000000                   0.0  \n",
       "2020-01-23          1.313216e-07           0.000000                   0.0  \n",
       "2020-01-24          1.313216e-07           0.000000                   0.0  \n",
       "2020-01-25          1.313216e-07           0.000000                   0.0  \n",
       "2020-01-26          1.313216e-07           0.000000                   0.0  \n",
       "...                          ...                ...                   ...  \n",
       "2020-11-11          1.224914e-02           0.000282                   0.0  \n",
       "2020-11-12          1.266621e-02           0.000285                   0.0  \n",
       "2020-11-13          1.287506e-02           0.000286                   0.0  \n",
       "2020-11-14          1.307952e-02           0.000288                   0.0  \n",
       "2020-11-15          1.330090e-02           0.000293                   0.0  \n",
       "\n",
       "[13925 rows x 9 columns]"
      ]
     },
     "execution_count": 9,
     "metadata": {},
     "output_type": "execute_result"
    }
   ],
   "source": [
    "df_states = corona.df_us\n",
    "df_states"
   ]
  },
  {
   "cell_type": "code",
   "execution_count": 10,
   "metadata": {
    "ExecuteTime": {
     "end_time": "2020-11-19T23:02:13.546467Z",
     "start_time": "2020-11-19T23:02:13.456003Z"
    }
   },
   "outputs": [],
   "source": [
    "plot_cols=['Confirmed', 'Deaths','Recovered', 'Confirmed Per Capita',\n",
    "           'Deaths Per Capita','Recovered Per Capita']"
   ]
  },
  {
   "cell_type": "code",
   "execution_count": 12,
   "metadata": {
    "ExecuteTime": {
     "end_time": "2020-11-19T23:13:47.013928Z",
     "start_time": "2020-11-19T23:13:46.600589Z"
    }
   },
   "outputs": [
    {
     "data": {
      "text/plain": [
       "<AxesSubplot:xlabel='Date'>"
      ]
     },
     "execution_count": 12,
     "metadata": {},
     "output_type": "execute_result"
    },
    {
     "data": {
      "image/png": "[encoded data removed]",
      "text/plain": [
       "<Figure size 432x288 with 1 Axes>"
      ]
     },
     "metadata": {
      "needs_background": "light"
     },
     "output_type": "display_data"
    }
   ],
   "source": [
    "md =df_states.groupby('Province/State').get_group(\"Maryland\")\n",
    "# md.set_index('Date')),inplace=True)\n",
    "md[plot_cols].diff().plot()"
   ]
  },
  {
   "cell_type": "code",
   "execution_count": 14,
   "metadata": {
    "ExecuteTime": {
     "end_time": "2020-11-19T23:13:54.689057Z",
     "start_time": "2020-11-19T23:13:54.551113Z"
    }
   },
   "outputs": [
    {
     "data": {
      "text/html": [
       "<div>\n",
       "<style scoped>\n",
       "    .dataframe tbody tr th:only-of-type {\n",
       "        vertical-align: middle;\n",
       "    }\n",
       "\n",
       "    .dataframe tbody tr th {\n",
       "        vertical-align: top;\n",
       "    }\n",
       "\n",
       "    .dataframe thead th {\n",
       "        text-align: right;\n",
       "    }\n",
       "</style>\n",
       "<table border=\"1\" class=\"dataframe\">\n",
       "  <thead>\n",
       "    <tr style=\"text-align: right;\">\n",
       "      <th></th>\n",
       "      <th>state</th>\n",
       "      <th>Province/State</th>\n",
       "      <th>Country/Region</th>\n",
       "      <th>Confirmed</th>\n",
       "      <th>Deaths</th>\n",
       "      <th>Recovered</th>\n",
       "      <th>Confirmed Per Capita</th>\n",
       "      <th>Deaths Per Capita</th>\n",
       "      <th>Recovered Per Capita</th>\n",
       "    </tr>\n",
       "  </thead>\n",
       "  <tbody>\n",
       "    <tr>\n",
       "      <th>0</th>\n",
       "      <td>AK</td>\n",
       "      <td>Alaska</td>\n",
       "      <td>US</td>\n",
       "      <td>23814.0</td>\n",
       "      <td>98.0</td>\n",
       "      <td>0.0</td>\n",
       "      <td>0.032553</td>\n",
       "      <td>0.000134</td>\n",
       "      <td>0.000000e+00</td>\n",
       "    </tr>\n",
       "    <tr>\n",
       "      <th>1</th>\n",
       "      <td>AL</td>\n",
       "      <td>Alabama</td>\n",
       "      <td>US</td>\n",
       "      <td>217822.0</td>\n",
       "      <td>3248.0</td>\n",
       "      <td>0.0</td>\n",
       "      <td>0.044425</td>\n",
       "      <td>0.000662</td>\n",
       "      <td>0.000000e+00</td>\n",
       "    </tr>\n",
       "    <tr>\n",
       "      <th>2</th>\n",
       "      <td>AR</td>\n",
       "      <td>Arkansas</td>\n",
       "      <td>US</td>\n",
       "      <td>133040.0</td>\n",
       "      <td>2183.0</td>\n",
       "      <td>0.0</td>\n",
       "      <td>0.044085</td>\n",
       "      <td>0.000723</td>\n",
       "      <td>0.000000e+00</td>\n",
       "    </tr>\n",
       "    <tr>\n",
       "      <th>3</th>\n",
       "      <td>AZ</td>\n",
       "      <td>Tempe, AZ</td>\n",
       "      <td>US</td>\n",
       "      <td>275436.0</td>\n",
       "      <td>6302.0</td>\n",
       "      <td>1.0</td>\n",
       "      <td>0.037841</td>\n",
       "      <td>0.000866</td>\n",
       "      <td>1.373868e-07</td>\n",
       "    </tr>\n",
       "    <tr>\n",
       "      <th>4</th>\n",
       "      <td>CA</td>\n",
       "      <td>Yolo County, CA</td>\n",
       "      <td>US</td>\n",
       "      <td>1032095.0</td>\n",
       "      <td>18262.0</td>\n",
       "      <td>6.0</td>\n",
       "      <td>0.026121</td>\n",
       "      <td>0.000462</td>\n",
       "      <td>1.518517e-07</td>\n",
       "    </tr>\n",
       "  </tbody>\n",
       "</table>\n",
       "</div>"
      ],
      "text/plain": [
       "  state   Province/State Country/Region  Confirmed   Deaths  Recovered  \\\n",
       "0    AK           Alaska             US    23814.0     98.0        0.0   \n",
       "1    AL          Alabama             US   217822.0   3248.0        0.0   \n",
       "2    AR         Arkansas             US   133040.0   2183.0        0.0   \n",
       "3    AZ        Tempe, AZ             US   275436.0   6302.0        1.0   \n",
       "4    CA  Yolo County, CA             US  1032095.0  18262.0        6.0   \n",
       "\n",
       "   Confirmed Per Capita  Deaths Per Capita  Recovered Per Capita  \n",
       "0              0.032553           0.000134          0.000000e+00  \n",
       "1              0.044425           0.000662          0.000000e+00  \n",
       "2              0.044085           0.000723          0.000000e+00  \n",
       "3              0.037841           0.000866          1.373868e-07  \n",
       "4              0.026121           0.000462          1.518517e-07  "
      ]
     },
     "execution_count": 14,
     "metadata": {},
     "output_type": "execute_result"
    }
   ],
   "source": [
    "## Get maximum value for cases by state\n",
    "max_corona = df_states.groupby('state').max().reset_index()\n",
    "max_corona.head()"
   ]
  },
  {
   "cell_type": "code",
   "execution_count": 15,
   "metadata": {
    "ExecuteTime": {
     "end_time": "2020-11-19T23:13:54.823263Z",
     "start_time": "2020-11-19T23:13:54.691559Z"
    }
   },
   "outputs": [
    {
     "data": {
      "text/html": [
       "<div>\n",
       "<style scoped>\n",
       "    .dataframe tbody tr th:only-of-type {\n",
       "        vertical-align: middle;\n",
       "    }\n",
       "\n",
       "    .dataframe tbody tr th {\n",
       "        vertical-align: top;\n",
       "    }\n",
       "\n",
       "    .dataframe thead th {\n",
       "        text-align: right;\n",
       "    }\n",
       "</style>\n",
       "<table border=\"1\" class=\"dataframe\">\n",
       "  <thead>\n",
       "    <tr style=\"text-align: right;\">\n",
       "      <th></th>\n",
       "      <th>Date</th>\n",
       "      <th>Province/State</th>\n",
       "      <th>Country/Region</th>\n",
       "      <th>Confirmed</th>\n",
       "      <th>Deaths</th>\n",
       "      <th>Recovered</th>\n",
       "      <th>state</th>\n",
       "      <th>Confirmed Per Capita</th>\n",
       "      <th>Deaths Per Capita</th>\n",
       "      <th>Recovered Per Capita</th>\n",
       "    </tr>\n",
       "  </thead>\n",
       "  <tbody>\n",
       "    <tr>\n",
       "      <th>0</th>\n",
       "      <td>2020-01-22</td>\n",
       "      <td>Washington</td>\n",
       "      <td>US</td>\n",
       "      <td>1.0</td>\n",
       "      <td>0.0</td>\n",
       "      <td>0.0</td>\n",
       "      <td>WA</td>\n",
       "      <td>1.313216e-07</td>\n",
       "      <td>0.000000</td>\n",
       "      <td>0.0</td>\n",
       "    </tr>\n",
       "    <tr>\n",
       "      <th>1</th>\n",
       "      <td>2020-01-23</td>\n",
       "      <td>Washington</td>\n",
       "      <td>US</td>\n",
       "      <td>1.0</td>\n",
       "      <td>0.0</td>\n",
       "      <td>0.0</td>\n",
       "      <td>WA</td>\n",
       "      <td>1.313216e-07</td>\n",
       "      <td>0.000000</td>\n",
       "      <td>0.0</td>\n",
       "    </tr>\n",
       "    <tr>\n",
       "      <th>2</th>\n",
       "      <td>2020-01-24</td>\n",
       "      <td>Washington</td>\n",
       "      <td>US</td>\n",
       "      <td>1.0</td>\n",
       "      <td>0.0</td>\n",
       "      <td>0.0</td>\n",
       "      <td>WA</td>\n",
       "      <td>1.313216e-07</td>\n",
       "      <td>0.000000</td>\n",
       "      <td>0.0</td>\n",
       "    </tr>\n",
       "    <tr>\n",
       "      <th>3</th>\n",
       "      <td>2020-01-25</td>\n",
       "      <td>Washington</td>\n",
       "      <td>US</td>\n",
       "      <td>1.0</td>\n",
       "      <td>0.0</td>\n",
       "      <td>0.0</td>\n",
       "      <td>WA</td>\n",
       "      <td>1.313216e-07</td>\n",
       "      <td>0.000000</td>\n",
       "      <td>0.0</td>\n",
       "    </tr>\n",
       "    <tr>\n",
       "      <th>4</th>\n",
       "      <td>2020-01-26</td>\n",
       "      <td>Washington</td>\n",
       "      <td>US</td>\n",
       "      <td>1.0</td>\n",
       "      <td>0.0</td>\n",
       "      <td>0.0</td>\n",
       "      <td>WA</td>\n",
       "      <td>1.313216e-07</td>\n",
       "      <td>0.000000</td>\n",
       "      <td>0.0</td>\n",
       "    </tr>\n",
       "    <tr>\n",
       "      <th>...</th>\n",
       "      <td>...</td>\n",
       "      <td>...</td>\n",
       "      <td>...</td>\n",
       "      <td>...</td>\n",
       "      <td>...</td>\n",
       "      <td>...</td>\n",
       "      <td>...</td>\n",
       "      <td>...</td>\n",
       "      <td>...</td>\n",
       "      <td>...</td>\n",
       "    </tr>\n",
       "    <tr>\n",
       "      <th>13920</th>\n",
       "      <td>2020-11-11</td>\n",
       "      <td>Puerto Rico</td>\n",
       "      <td>US</td>\n",
       "      <td>39120.0</td>\n",
       "      <td>901.0</td>\n",
       "      <td>0.0</td>\n",
       "      <td>PR</td>\n",
       "      <td>1.224914e-02</td>\n",
       "      <td>0.000282</td>\n",
       "      <td>0.0</td>\n",
       "    </tr>\n",
       "    <tr>\n",
       "      <th>13921</th>\n",
       "      <td>2020-11-12</td>\n",
       "      <td>Puerto Rico</td>\n",
       "      <td>US</td>\n",
       "      <td>40452.0</td>\n",
       "      <td>909.0</td>\n",
       "      <td>0.0</td>\n",
       "      <td>PR</td>\n",
       "      <td>1.266621e-02</td>\n",
       "      <td>0.000285</td>\n",
       "      <td>0.0</td>\n",
       "    </tr>\n",
       "    <tr>\n",
       "      <th>13922</th>\n",
       "      <td>2020-11-13</td>\n",
       "      <td>Puerto Rico</td>\n",
       "      <td>US</td>\n",
       "      <td>41119.0</td>\n",
       "      <td>914.0</td>\n",
       "      <td>0.0</td>\n",
       "      <td>PR</td>\n",
       "      <td>1.287506e-02</td>\n",
       "      <td>0.000286</td>\n",
       "      <td>0.0</td>\n",
       "    </tr>\n",
       "    <tr>\n",
       "      <th>13923</th>\n",
       "      <td>2020-11-14</td>\n",
       "      <td>Puerto Rico</td>\n",
       "      <td>US</td>\n",
       "      <td>41772.0</td>\n",
       "      <td>921.0</td>\n",
       "      <td>0.0</td>\n",
       "      <td>PR</td>\n",
       "      <td>1.307952e-02</td>\n",
       "      <td>0.000288</td>\n",
       "      <td>0.0</td>\n",
       "    </tr>\n",
       "    <tr>\n",
       "      <th>13924</th>\n",
       "      <td>2020-11-15</td>\n",
       "      <td>Puerto Rico</td>\n",
       "      <td>US</td>\n",
       "      <td>42479.0</td>\n",
       "      <td>935.0</td>\n",
       "      <td>0.0</td>\n",
       "      <td>PR</td>\n",
       "      <td>1.330090e-02</td>\n",
       "      <td>0.000293</td>\n",
       "      <td>0.0</td>\n",
       "    </tr>\n",
       "  </tbody>\n",
       "</table>\n",
       "<p>13925 rows × 10 columns</p>\n",
       "</div>"
      ],
      "text/plain": [
       "            Date Province/State Country/Region  Confirmed  Deaths  Recovered  \\\n",
       "0     2020-01-22     Washington             US        1.0     0.0        0.0   \n",
       "1     2020-01-23     Washington             US        1.0     0.0        0.0   \n",
       "2     2020-01-24     Washington             US        1.0     0.0        0.0   \n",
       "3     2020-01-25     Washington             US        1.0     0.0        0.0   \n",
       "4     2020-01-26     Washington             US        1.0     0.0        0.0   \n",
       "...          ...            ...            ...        ...     ...        ...   \n",
       "13920 2020-11-11    Puerto Rico             US    39120.0   901.0        0.0   \n",
       "13921 2020-11-12    Puerto Rico             US    40452.0   909.0        0.0   \n",
       "13922 2020-11-13    Puerto Rico             US    41119.0   914.0        0.0   \n",
       "13923 2020-11-14    Puerto Rico             US    41772.0   921.0        0.0   \n",
       "13924 2020-11-15    Puerto Rico             US    42479.0   935.0        0.0   \n",
       "\n",
       "      state  Confirmed Per Capita  Deaths Per Capita  Recovered Per Capita  \n",
       "0        WA          1.313216e-07           0.000000                   0.0  \n",
       "1        WA          1.313216e-07           0.000000                   0.0  \n",
       "2        WA          1.313216e-07           0.000000                   0.0  \n",
       "3        WA          1.313216e-07           0.000000                   0.0  \n",
       "4        WA          1.313216e-07           0.000000                   0.0  \n",
       "...     ...                   ...                ...                   ...  \n",
       "13920    PR          1.224914e-02           0.000282                   0.0  \n",
       "13921    PR          1.266621e-02           0.000285                   0.0  \n",
       "13922    PR          1.287506e-02           0.000286                   0.0  \n",
       "13923    PR          1.307952e-02           0.000288                   0.0  \n",
       "13924    PR          1.330090e-02           0.000293                   0.0  \n",
       "\n",
       "[13925 rows x 10 columns]"
      ]
     },
     "execution_count": 15,
     "metadata": {},
     "output_type": "execute_result"
    }
   ],
   "source": [
    "df_states.reset_index(inplace=True)\n",
    "df_states"
   ]
  },
  {
   "cell_type": "code",
   "execution_count": 16,
   "metadata": {
    "ExecuteTime": {
     "end_time": "2020-11-19T23:13:54.995136Z",
     "start_time": "2020-11-19T23:13:54.826429Z"
    },
    "scrolled": false
   },
   "outputs": [
    {
     "data": {
      "application/vnd.plotly.v1+json": {
       "config": {
        "plotlyServerURL": "https://plot.ly",
        "scrollZoom": false
       },
       "data": [
        {
         "coloraxis": "coloraxis",
         "customdata": [
          [
           23814,
           98,
           0
          ],
          [
           217822,
           3248,
           0
          ],
          [
           133040,
           2183,
           0
          ],
          [
           275436,
           6302,
           1
          ],
          [
           1032095,
           18262,
           6
          ],
          [
           163417,
           2546,
           0
          ],
          [
           88645,
           4737,
           0
          ],
          [
           18977,
           660,
           0
          ],
          [
           28803,
           736,
           0
          ],
          [
           885201,
           17518,
           0
          ],
          [
           424989,
           8957,
           0
          ],
          [
           16759,
           222,
           0
          ],
          [
           186314,
           1989,
           0
          ],
          [
           82245,
           759,
           0
          ],
          [
           573616,
           11162,
           2
          ],
          [
           251597,
           4910,
           0
          ],
          [
           117564,
           1184,
           0
          ],
          [
           137586,
           1661,
           1
          ],
          [
           201981,
           6121,
           0
          ],
          [
           188275,
           10329,
           1
          ],
          [
           165930,
           4302,
           3
          ],
          [
           8944,
           165,
           0
          ],
          [
           275792,
           8376,
           5
          ],
          [
           223581,
           2961,
           0
          ],
          [
           244541,
           3387,
           0
          ],
          [
           134309,
           3543,
           0
          ],
          [
           47158,
           520,
           0
          ],
          [
           312235,
           4806,
           0
          ],
          [
           63796,
           736,
           0
          ],
          [
           98161,
           779,
           0
          ],
          [
           14682,
           499,
           0
          ],
          [
           279274,
           16566,
           1
          ],
          [
           64201,
           1215,
           0
          ],
          [
           120183,
           1909,
           0
          ],
          [
           560200,
           34032,
           0
          ],
          [
           298096,
           5722,
           0
          ],
          [
           154128,
           1528,
           0
          ],
          [
           56880,
           761,
           0
          ],
          [
           268696,
           9290,
           0
          ],
          [
           72166,
           935,
           0
          ],
          [
           41529,
           1254,
           0
          ],
          [
           195507,
           4112,
           0
          ],
          [
           65381,
           644,
           0
          ],
          [
           310937,
           3893,
           0
          ],
          [
           1059753,
           20002,
           0
          ],
          [
           153808,
           718,
           0
          ],
          [
           201960,
           3800,
           0
          ],
          [
           2889,
           59,
           0
          ],
          [
           130040,
           2519,
           1
          ],
          [
           329924,
           2751,
           1
          ],
          [
           33659,
           582,
           0
          ],
          [
           22494,
           144,
           0
          ]
         ],
         "geo": "geo",
         "hovertemplate": "<b>%{hovertext}</b><br><br>state=%{location}<br>Confirmed=%{z}<br>Deaths=%{customdata[1]}<br>Recovered=%{customdata[2]}<extra></extra>",
         "hovertext": [
          "AK",
          "AL",
          "AR",
          "AZ",
          "CA",
          "CO",
          "CT",
          "DC",
          "DE",
          "FL",
          "GA",
          "HI",
          "IA",
          "ID",
          "IL",
          "IN",
          "KS",
          "KY",
          "LA",
          "MA",
          "MD",
          "ME",
          "MI",
          "MN",
          "MO",
          "MS",
          "MT",
          "NC",
          "ND",
          "NE",
          "NH",
          "NJ",
          "NM",
          "NV",
          "NY",
          "OH",
          "OK",
          "OR",
          "PA",
          "PR",
          "RI",
          "SC",
          "SD",
          "TN",
          "TX",
          "UT",
          "VA",
          "VT",
          "WA",
          "WI",
          "WV",
          "WY"
         ],
         "locationmode": "USA-states",
         "locations": [
          "AK",
          "AL",
          "AR",
          "AZ",
          "CA",
          "CO",
          "CT",
          "DC",
          "DE",
          "FL",
          "GA",
          "HI",
          "IA",
          "ID",
          "IL",
          "IN",
          "KS",
          "KY",
          "LA",
          "MA",
          "MD",
          "ME",
          "MI",
          "MN",
          "MO",
          "MS",
          "MT",
          "NC",
          "ND",
          "NE",
          "NH",
          "NJ",
          "NM",
          "NV",
          "NY",
          "OH",
          "OK",
          "OR",
          "PA",
          "PR",
          "RI",
          "SC",
          "SD",
          "TN",
          "TX",
          "UT",
          "VA",
          "VT",
          "WA",
          "WI",
          "WV",
          "WY"
         ],
         "name": "",
         "type": "choropleth",
         "z": [
          23814,
          217822,
          133040,
          275436,
          1032095,
          163417,
          88645,
          18977,
          28803,
          885201,
          424989,
          16759,
          186314,
          82245,
          573616,
          251597,
          117564,
          137586,
          201981,
          188275,
          165930,
          8944,
          275792,
          223581,
          244541,
          134309,
          47158,
          312235,
          63796,
          98161,
          14682,
          279274,
          64201,
          120183,
          560200,
          298096,
          154128,
          56880,
          268696,
          72166,
          41529,
          195507,
          65381,
          310937,
          1059753,
          153808,
          201960,
          2889,
          130040,
          329924,
          33659,
          22494
         ]
        }
       ],
       "layout": {
        "coloraxis": {
         "colorbar": {
          "title": {
           "text": "Confirmed"
          }
         },
         "colorscale": [
          [
           0,
           "rgb(255,245,240)"
          ],
          [
           0.125,
           "rgb(254,224,210)"
          ],
          [
           0.25,
           "rgb(252,187,161)"
          ],
          [
           0.375,
           "rgb(252,146,114)"
          ],
          [
           0.5,
           "rgb(251,106,74)"
          ],
          [
           0.625,
           "rgb(239,59,44)"
          ],
          [
           0.75,
           "rgb(203,24,29)"
          ],
          [
           0.875,
           "rgb(165,15,21)"
          ],
          [
           1,
           "rgb(103,0,13)"
          ]
         ]
        },
        "geo": {
         "center": {},
         "domain": {
          "x": [
           0,
           1
          ],
          "y": [
           0,
           1
          ]
         },
         "scope": "usa"
        },
        "legend": {
         "tracegroupgap": 0
        },
        "template": {
         "data": {
          "bar": [
           {
            "error_x": {
             "color": "#f2f5fa"
            },
            "error_y": {
             "color": "#f2f5fa"
            },
            "marker": {
             "line": {
              "color": "rgb(17,17,17)",
              "width": 0.5
             }
            },
            "type": "bar"
           }
          ],
          "barpolar": [
           {
            "marker": {
             "line": {
              "color": "rgb(17,17,17)",
              "width": 0.5
             }
            },
            "type": "barpolar"
           }
          ],
          "carpet": [
           {
            "aaxis": {
             "endlinecolor": "#A2B1C6",
             "gridcolor": "#506784",
             "linecolor": "#506784",
             "minorgridcolor": "#506784",
             "startlinecolor": "#A2B1C6"
            },
            "baxis": {
             "endlinecolor": "#A2B1C6",
             "gridcolor": "#506784",
             "linecolor": "#506784",
             "minorgridcolor": "#506784",
             "startlinecolor": "#A2B1C6"
            },
            "type": "carpet"
           }
          ],
          "choropleth": [
           {
            "colorbar": {
             "outlinewidth": 0,
             "ticks": ""
            },
            "type": "choropleth"
           }
          ],
          "contour": [
           {
            "colorbar": {
             "outlinewidth": 0,
             "ticks": ""
            },
            "colorscale": [
             [
              0,
              "#0d0887"
             ],
             [
              0.1111111111111111,
              "#46039f"
             ],
             [
              0.2222222222222222,
              "#7201a8"
             ],
             [
              0.3333333333333333,
              "#9c179e"
             ],
             [
              0.4444444444444444,
              "#bd3786"
             ],
             [
              0.5555555555555556,
              "#d8576b"
             ],
             [
              0.6666666666666666,
              "#ed7953"
             ],
             [
              0.7777777777777778,
              "#fb9f3a"
             ],
             [
              0.8888888888888888,
              "#fdca26"
             ],
             [
              1,
              "#f0f921"
             ]
            ],
            "type": "contour"
           }
          ],
          "contourcarpet": [
           {
            "colorbar": {
             "outlinewidth": 0,
             "ticks": ""
            },
            "type": "contourcarpet"
           }
          ],
          "heatmap": [
           {
            "colorbar": {
             "outlinewidth": 0,
             "ticks": ""
            },
            "colorscale": [
             [
              0,
              "#0d0887"
             ],
             [
              0.1111111111111111,
              "#46039f"
             ],
             [
              0.2222222222222222,
              "#7201a8"
             ],
             [
              0.3333333333333333,
              "#9c179e"
             ],
             [
              0.4444444444444444,
              "#bd3786"
             ],
             [
              0.5555555555555556,
              "#d8576b"
             ],
             [
              0.6666666666666666,
              "#ed7953"
             ],
             [
              0.7777777777777778,
              "#fb9f3a"
             ],
             [
              0.8888888888888888,
              "#fdca26"
             ],
             [
              1,
              "#f0f921"
             ]
            ],
            "type": "heatmap"
           }
          ],
          "heatmapgl": [
           {
            "colorbar": {
             "outlinewidth": 0,
             "ticks": ""
            },
            "colorscale": [
             [
              0,
              "#0d0887"
             ],
             [
              0.1111111111111111,
              "#46039f"
             ],
             [
              0.2222222222222222,
              "#7201a8"
             ],
             [
              0.3333333333333333,
              "#9c179e"
             ],
             [
              0.4444444444444444,
              "#bd3786"
             ],
             [
              0.5555555555555556,
              "#d8576b"
             ],
             [
              0.6666666666666666,
              "#ed7953"
             ],
             [
              0.7777777777777778,
              "#fb9f3a"
             ],
             [
              0.8888888888888888,
              "#fdca26"
             ],
             [
              1,
              "#f0f921"
             ]
            ],
            "type": "heatmapgl"
           }
          ],
          "histogram": [
           {
            "marker": {
             "colorbar": {
              "outlinewidth": 0,
              "ticks": ""
             }
            },
            "type": "histogram"
           }
          ],
          "histogram2d": [
           {
            "colorbar": {
             "outlinewidth": 0,
             "ticks": ""
            },
            "colorscale": [
             [
              0,
              "#0d0887"
             ],
             [
              0.1111111111111111,
              "#46039f"
             ],
             [
              0.2222222222222222,
              "#7201a8"
             ],
             [
              0.3333333333333333,
              "#9c179e"
             ],
             [
              0.4444444444444444,
              "#bd3786"
             ],
             [
              0.5555555555555556,
              "#d8576b"
             ],
             [
              0.6666666666666666,
              "#ed7953"
             ],
             [
              0.7777777777777778,
              "#fb9f3a"
             ],
             [
              0.8888888888888888,
              "#fdca26"
             ],
             [
              1,
              "#f0f921"
             ]
            ],
            "type": "histogram2d"
           }
          ],
          "histogram2dcontour": [
           {
            "colorbar": {
             "outlinewidth": 0,
             "ticks": ""
            },
            "colorscale": [
             [
              0,
              "#0d0887"
             ],
             [
              0.1111111111111111,
              "#46039f"
             ],
             [
              0.2222222222222222,
              "#7201a8"
             ],
             [
              0.3333333333333333,
              "#9c179e"
             ],
             [
              0.4444444444444444,
              "#bd3786"
             ],
             [
              0.5555555555555556,
              "#d8576b"
             ],
             [
              0.6666666666666666,
              "#ed7953"
             ],
             [
              0.7777777777777778,
              "#fb9f3a"
             ],
             [
              0.8888888888888888,
              "#fdca26"
             ],
             [
              1,
              "#f0f921"
             ]
            ],
            "type": "histogram2dcontour"
           }
          ],
          "mesh3d": [
           {
            "colorbar": {
             "outlinewidth": 0,
             "ticks": ""
            },
            "type": "mesh3d"
           }
          ],
          "parcoords": [
           {
            "line": {
             "colorbar": {
              "outlinewidth": 0,
              "ticks": ""
             }
            },
            "type": "parcoords"
           }
          ],
          "pie": [
           {
            "automargin": true,
            "type": "pie"
           }
          ],
          "scatter": [
           {
            "marker": {
             "line": {
              "color": "#283442"
             }
            },
            "type": "scatter"
           }
          ],
          "scatter3d": [
           {
            "line": {
             "colorbar": {
              "outlinewidth": 0,
              "ticks": ""
             }
            },
            "marker": {
             "colorbar": {
              "outlinewidth": 0,
              "ticks": ""
             }
            },
            "type": "scatter3d"
           }
          ],
          "scattercarpet": [
           {
            "marker": {
             "colorbar": {
              "outlinewidth": 0,
              "ticks": ""
             }
            },
            "type": "scattercarpet"
           }
          ],
          "scattergeo": [
           {
            "marker": {
             "colorbar": {
              "outlinewidth": 0,
              "ticks": ""
             }
            },
            "type": "scattergeo"
           }
          ],
          "scattergl": [
           {
            "marker": {
             "line": {
              "color": "#283442"
             }
            },
            "type": "scattergl"
           }
          ],
          "scattermapbox": [
           {
            "marker": {
             "colorbar": {
              "outlinewidth": 0,
              "ticks": ""
             }
            },
            "type": "scattermapbox"
           }
          ],
          "scatterpolar": [
           {
            "marker": {
             "colorbar": {
              "outlinewidth": 0,
              "ticks": ""
             }
            },
            "type": "scatterpolar"
           }
          ],
          "scatterpolargl": [
           {
            "marker": {
             "colorbar": {
              "outlinewidth": 0,
              "ticks": ""
             }
            },
            "type": "scatterpolargl"
           }
          ],
          "scatterternary": [
           {
            "marker": {
             "colorbar": {
              "outlinewidth": 0,
              "ticks": ""
             }
            },
            "type": "scatterternary"
           }
          ],
          "surface": [
           {
            "colorbar": {
             "outlinewidth": 0,
             "ticks": ""
            },
            "colorscale": [
             [
              0,
              "#0d0887"
             ],
             [
              0.1111111111111111,
              "#46039f"
             ],
             [
              0.2222222222222222,
              "#7201a8"
             ],
             [
              0.3333333333333333,
              "#9c179e"
             ],
             [
              0.4444444444444444,
              "#bd3786"
             ],
             [
              0.5555555555555556,
              "#d8576b"
             ],
             [
              0.6666666666666666,
              "#ed7953"
             ],
             [
              0.7777777777777778,
              "#fb9f3a"
             ],
             [
              0.8888888888888888,
              "#fdca26"
             ],
             [
              1,
              "#f0f921"
             ]
            ],
            "type": "surface"
           }
          ],
          "table": [
           {
            "cells": {
             "fill": {
              "color": "#506784"
             },
             "line": {
              "color": "rgb(17,17,17)"
             }
            },
            "header": {
             "fill": {
              "color": "#2a3f5f"
             },
             "line": {
              "color": "rgb(17,17,17)"
             }
            },
            "type": "table"
           }
          ]
         },
         "layout": {
          "annotationdefaults": {
           "arrowcolor": "#f2f5fa",
           "arrowhead": 0,
           "arrowwidth": 1
          },
          "coloraxis": {
           "colorbar": {
            "outlinewidth": 0,
            "ticks": ""
           }
          },
          "colorscale": {
           "diverging": [
            [
             0,
             "#8e0152"
            ],
            [
             0.1,
             "#c51b7d"
            ],
            [
             0.2,
             "#de77ae"
            ],
            [
             0.3,
             "#f1b6da"
            ],
            [
             0.4,
             "#fde0ef"
            ],
            [
             0.5,
             "#f7f7f7"
            ],
            [
             0.6,
             "#e6f5d0"
            ],
            [
             0.7,
             "#b8e186"
            ],
            [
             0.8,
             "#7fbc41"
            ],
            [
             0.9,
             "#4d9221"
            ],
            [
             1,
             "#276419"
            ]
           ],
           "sequential": [
            [
             0,
             "#0d0887"
            ],
            [
             0.1111111111111111,
             "#46039f"
            ],
            [
             0.2222222222222222,
             "#7201a8"
            ],
            [
             0.3333333333333333,
             "#9c179e"
            ],
            [
             0.4444444444444444,
             "#bd3786"
            ],
            [
             0.5555555555555556,
             "#d8576b"
            ],
            [
             0.6666666666666666,
             "#ed7953"
            ],
            [
             0.7777777777777778,
             "#fb9f3a"
            ],
            [
             0.8888888888888888,
             "#fdca26"
            ],
            [
             1,
             "#f0f921"
            ]
           ],
           "sequentialminus": [
            [
             0,
             "#0d0887"
            ],
            [
             0.1111111111111111,
             "#46039f"
            ],
            [
             0.2222222222222222,
             "#7201a8"
            ],
            [
             0.3333333333333333,
             "#9c179e"
            ],
            [
             0.4444444444444444,
             "#bd3786"
            ],
            [
             0.5555555555555556,
             "#d8576b"
            ],
            [
             0.6666666666666666,
             "#ed7953"
            ],
            [
             0.7777777777777778,
             "#fb9f3a"
            ],
            [
             0.8888888888888888,
             "#fdca26"
            ],
            [
             1,
             "#f0f921"
            ]
           ]
          },
          "colorway": [
           "#636efa",
           "#EF553B",
           "#00cc96",
           "#ab63fa",
           "#FFA15A",
           "#19d3f3",
           "#FF6692",
           "#B6E880",
           "#FF97FF",
           "#FECB52"
          ],
          "font": {
           "color": "#f2f5fa"
          },
          "geo": {
           "bgcolor": "rgb(17,17,17)",
           "lakecolor": "rgb(17,17,17)",
           "landcolor": "rgb(17,17,17)",
           "showlakes": true,
           "showland": true,
           "subunitcolor": "#506784"
          },
          "hoverlabel": {
           "align": "left"
          },
          "hovermode": "closest",
          "mapbox": {
           "style": "dark"
          },
          "paper_bgcolor": "rgb(17,17,17)",
          "plot_bgcolor": "rgb(17,17,17)",
          "polar": {
           "angularaxis": {
            "gridcolor": "#506784",
            "linecolor": "#506784",
            "ticks": ""
           },
           "bgcolor": "rgb(17,17,17)",
           "radialaxis": {
            "gridcolor": "#506784",
            "linecolor": "#506784",
            "ticks": ""
           }
          },
          "scene": {
           "xaxis": {
            "backgroundcolor": "rgb(17,17,17)",
            "gridcolor": "#506784",
            "gridwidth": 2,
            "linecolor": "#506784",
            "showbackground": true,
            "ticks": "",
            "zerolinecolor": "#C8D4E3"
           },
           "yaxis": {
            "backgroundcolor": "rgb(17,17,17)",
            "gridcolor": "#506784",
            "gridwidth": 2,
            "linecolor": "#506784",
            "showbackground": true,
            "ticks": "",
            "zerolinecolor": "#C8D4E3"
           },
           "zaxis": {
            "backgroundcolor": "rgb(17,17,17)",
            "gridcolor": "#506784",
            "gridwidth": 2,
            "linecolor": "#506784",
            "showbackground": true,
            "ticks": "",
            "zerolinecolor": "#C8D4E3"
           }
          },
          "shapedefaults": {
           "line": {
            "color": "#f2f5fa"
           }
          },
          "sliderdefaults": {
           "bgcolor": "#C8D4E3",
           "bordercolor": "rgb(17,17,17)",
           "borderwidth": 1,
           "tickwidth": 0
          },
          "ternary": {
           "aaxis": {
            "gridcolor": "#506784",
            "linecolor": "#506784",
            "ticks": ""
           },
           "baxis": {
            "gridcolor": "#506784",
            "linecolor": "#506784",
            "ticks": ""
           },
           "bgcolor": "rgb(17,17,17)",
           "caxis": {
            "gridcolor": "#506784",
            "linecolor": "#506784",
            "ticks": ""
           }
          },
          "title": {
           "x": 0.05
          },
          "updatemenudefaults": {
           "bgcolor": "#506784",
           "borderwidth": 0
          },
          "xaxis": {
           "automargin": true,
           "gridcolor": "#283442",
           "linecolor": "#506784",
           "ticks": "",
           "title": {
            "standoff": 15
           },
           "zerolinecolor": "#283442",
           "zerolinewidth": 2
          },
          "yaxis": {
           "automargin": true,
           "gridcolor": "#283442",
           "linecolor": "#506784",
           "ticks": "",
           "title": {
            "standoff": 15
           },
           "zerolinecolor": "#283442",
           "zerolinewidth": 2
          }
         }
        },
        "title": {
         "text": "Total Confirmed Cases by State"
        }
       }
      },
      "text/html": [
       "<div>                            <div id=\"ae9ed429-c66e-43c7-a240-85e030026dbb\" class=\"plotly-graph-div\" style=\"height:525px; width:100%;\"></div>            <script type=\"text/javascript\">                require([\"plotly\"], function(Plotly) {                    window.PLOTLYENV=window.PLOTLYENV || {};                                    if (document.getElementById(\"ae9ed429-c66e-43c7-a240-85e030026dbb\")) {                    Plotly.newPlot(                        \"ae9ed429-c66e-43c7-a240-85e030026dbb\",                        [{\"coloraxis\": \"coloraxis\", \"customdata\": [[23814.0, 98.0, 0.0], [217822.0, 3248.0, 0.0], [133040.0, 2183.0, 0.0], [275436.0, 6302.0, 1.0], [1032095.0, 18262.0, 6.0], [163417.0, 2546.0, 0.0], [88645.0, 4737.0, 0.0], [18977.0, 660.0, 0.0], [28803.0, 736.0, 0.0], [885201.0, 17518.0, 0.0], [424989.0, 8957.0, 0.0], [16759.0, 222.0, 0.0], [186314.0, 1989.0, 0.0], [82245.0, 759.0, 0.0], [573616.0, 11162.0, 2.0], [251597.0, 4910.0, 0.0], [117564.0, 1184.0, 0.0], [137586.0, 1661.0, 1.0], [201981.0, 6121.0, 0.0], [188275.0, 10329.0, 1.0], [165930.0, 4302.0, 3.0], [8944.0, 165.0, 0.0], [275792.0, 8376.0, 5.0], [223581.0, 2961.0, 0.0], [244541.0, 3387.0, 0.0], [134309.0, 3543.0, 0.0], [47158.0, 520.0, 0.0], [312235.0, 4806.0, 0.0], [63796.0, 736.0, 0.0], [98161.0, 779.0, 0.0], [14682.0, 499.0, 0.0], [279274.0, 16566.0, 1.0], [64201.0, 1215.0, 0.0], [120183.0, 1909.0, 0.0], [560200.0, 34032.0, 0.0], [298096.0, 5722.0, 0.0], [154128.0, 1528.0, 0.0], [56880.0, 761.0, 0.0], [268696.0, 9290.0, 0.0], [72166.0, 935.0, 0.0], [41529.0, 1254.0, 0.0], [195507.0, 4112.0, 0.0], [65381.0, 644.0, 0.0], [310937.0, 3893.0, 0.0], [1059753.0, 20002.0, 0.0], [153808.0, 718.0, 0.0], [201960.0, 3800.0, 0.0], [2889.0, 59.0, 0.0], [130040.0, 2519.0, 1.0], [329924.0, 2751.0, 1.0], [33659.0, 582.0, 0.0], [22494.0, 144.0, 0.0]], \"geo\": \"geo\", \"hovertemplate\": \"<b>%{hovertext}</b><br><br>state=%{location}<br>Confirmed=%{z}<br>Deaths=%{customdata[1]}<br>Recovered=%{customdata[2]}<extra></extra>\", \"hovertext\": [\"AK\", \"AL\", \"AR\", \"AZ\", \"CA\", \"CO\", \"CT\", \"DC\", \"DE\", \"FL\", \"GA\", \"HI\", \"IA\", \"ID\", \"IL\", \"IN\", \"KS\", \"KY\", \"LA\", \"MA\", \"MD\", \"ME\", \"MI\", \"MN\", \"MO\", \"MS\", \"MT\", \"NC\", \"ND\", \"NE\", \"NH\", \"NJ\", \"NM\", \"NV\", \"NY\", \"OH\", \"OK\", \"OR\", \"PA\", \"PR\", \"RI\", \"SC\", \"SD\", \"TN\", \"TX\", \"UT\", \"VA\", \"VT\", \"WA\", \"WI\", \"WV\", \"WY\"], \"locationmode\": \"USA-states\", \"locations\": [\"AK\", \"AL\", \"AR\", \"AZ\", \"CA\", \"CO\", \"CT\", \"DC\", \"DE\", \"FL\", \"GA\", \"HI\", \"IA\", \"ID\", \"IL\", \"IN\", \"KS\", \"KY\", \"LA\", \"MA\", \"MD\", \"ME\", \"MI\", \"MN\", \"MO\", \"MS\", \"MT\", \"NC\", \"ND\", \"NE\", \"NH\", \"NJ\", \"NM\", \"NV\", \"NY\", \"OH\", \"OK\", \"OR\", \"PA\", \"PR\", \"RI\", \"SC\", \"SD\", \"TN\", \"TX\", \"UT\", \"VA\", \"VT\", \"WA\", \"WI\", \"WV\", \"WY\"], \"name\": \"\", \"type\": \"choropleth\", \"z\": [23814.0, 217822.0, 133040.0, 275436.0, 1032095.0, 163417.0, 88645.0, 18977.0, 28803.0, 885201.0, 424989.0, 16759.0, 186314.0, 82245.0, 573616.0, 251597.0, 117564.0, 137586.0, 201981.0, 188275.0, 165930.0, 8944.0, 275792.0, 223581.0, 244541.0, 134309.0, 47158.0, 312235.0, 63796.0, 98161.0, 14682.0, 279274.0, 64201.0, 120183.0, 560200.0, 298096.0, 154128.0, 56880.0, 268696.0, 72166.0, 41529.0, 195507.0, 65381.0, 310937.0, 1059753.0, 153808.0, 201960.0, 2889.0, 130040.0, 329924.0, 33659.0, 22494.0]}],                        {\"coloraxis\": {\"colorbar\": {\"title\": {\"text\": \"Confirmed\"}}, \"colorscale\": [[0.0, \"rgb(255,245,240)\"], [0.125, \"rgb(254,224,210)\"], [0.25, \"rgb(252,187,161)\"], [0.375, \"rgb(252,146,114)\"], [0.5, \"rgb(251,106,74)\"], [0.625, \"rgb(239,59,44)\"], [0.75, \"rgb(203,24,29)\"], [0.875, \"rgb(165,15,21)\"], [1.0, \"rgb(103,0,13)\"]]}, \"geo\": {\"center\": {}, \"domain\": {\"x\": [0.0, 1.0], \"y\": [0.0, 1.0]}, \"scope\": \"usa\"}, \"legend\": {\"tracegroupgap\": 0}, \"template\": {\"data\": {\"bar\": [{\"error_x\": {\"color\": \"#f2f5fa\"}, \"error_y\": {\"color\": \"#f2f5fa\"}, \"marker\": {\"line\": {\"color\": \"rgb(17,17,17)\", \"width\": 0.5}}, \"type\": \"bar\"}], \"barpolar\": [{\"marker\": {\"line\": {\"color\": \"rgb(17,17,17)\", \"width\": 0.5}}, \"type\": \"barpolar\"}], \"carpet\": [{\"aaxis\": {\"endlinecolor\": \"#A2B1C6\", \"gridcolor\": \"#506784\", \"linecolor\": \"#506784\", \"minorgridcolor\": \"#506784\", \"startlinecolor\": \"#A2B1C6\"}, \"baxis\": {\"endlinecolor\": \"#A2B1C6\", \"gridcolor\": \"#506784\", \"linecolor\": \"#506784\", \"minorgridcolor\": \"#506784\", \"startlinecolor\": \"#A2B1C6\"}, \"type\": \"carpet\"}], \"choropleth\": [{\"colorbar\": {\"outlinewidth\": 0, \"ticks\": \"\"}, \"type\": \"choropleth\"}], \"contour\": [{\"colorbar\": {\"outlinewidth\": 0, \"ticks\": \"\"}, \"colorscale\": [[0.0, \"#0d0887\"], [0.1111111111111111, \"#46039f\"], [0.2222222222222222, \"#7201a8\"], [0.3333333333333333, \"#9c179e\"], [0.4444444444444444, \"#bd3786\"], [0.5555555555555556, \"#d8576b\"], [0.6666666666666666, \"#ed7953\"], [0.7777777777777778, \"#fb9f3a\"], [0.8888888888888888, \"#fdca26\"], [1.0, \"#f0f921\"]], \"type\": \"contour\"}], \"contourcarpet\": [{\"colorbar\": {\"outlinewidth\": 0, \"ticks\": \"\"}, \"type\": \"contourcarpet\"}], \"heatmap\": [{\"colorbar\": {\"outlinewidth\": 0, \"ticks\": \"\"}, \"colorscale\": [[0.0, \"#0d0887\"], [0.1111111111111111, \"#46039f\"], [0.2222222222222222, \"#7201a8\"], [0.3333333333333333, \"#9c179e\"], [0.4444444444444444, \"#bd3786\"], [0.5555555555555556, \"#d8576b\"], [0.6666666666666666, \"#ed7953\"], [0.7777777777777778, \"#fb9f3a\"], [0.8888888888888888, \"#fdca26\"], [1.0, \"#f0f921\"]], \"type\": \"heatmap\"}], \"heatmapgl\": [{\"colorbar\": {\"outlinewidth\": 0, \"ticks\": \"\"}, \"colorscale\": [[0.0, \"#0d0887\"], [0.1111111111111111, \"#46039f\"], [0.2222222222222222, \"#7201a8\"], [0.3333333333333333, \"#9c179e\"], [0.4444444444444444, \"#bd3786\"], [0.5555555555555556, \"#d8576b\"], [0.6666666666666666, \"#ed7953\"], [0.7777777777777778, \"#fb9f3a\"], [0.8888888888888888, \"#fdca26\"], [1.0, \"#f0f921\"]], \"type\": \"heatmapgl\"}], \"histogram\": [{\"marker\": {\"colorbar\": {\"outlinewidth\": 0, \"ticks\": \"\"}}, \"type\": \"histogram\"}], \"histogram2d\": [{\"colorbar\": {\"outlinewidth\": 0, \"ticks\": \"\"}, \"colorscale\": [[0.0, \"#0d0887\"], [0.1111111111111111, \"#46039f\"], [0.2222222222222222, \"#7201a8\"], [0.3333333333333333, \"#9c179e\"], [0.4444444444444444, \"#bd3786\"], [0.5555555555555556, \"#d8576b\"], [0.6666666666666666, \"#ed7953\"], [0.7777777777777778, \"#fb9f3a\"], [0.8888888888888888, \"#fdca26\"], [1.0, \"#f0f921\"]], \"type\": \"histogram2d\"}], \"histogram2dcontour\": [{\"colorbar\": {\"outlinewidth\": 0, \"ticks\": \"\"}, \"colorscale\": [[0.0, \"#0d0887\"], [0.1111111111111111, \"#46039f\"], [0.2222222222222222, \"#7201a8\"], [0.3333333333333333, \"#9c179e\"], [0.4444444444444444, \"#bd3786\"], [0.5555555555555556, \"#d8576b\"], [0.6666666666666666, \"#ed7953\"], [0.7777777777777778, \"#fb9f3a\"], [0.8888888888888888, \"#fdca26\"], [1.0, \"#f0f921\"]], \"type\": \"histogram2dcontour\"}], \"mesh3d\": [{\"colorbar\": {\"outlinewidth\": 0, \"ticks\": \"\"}, \"type\": \"mesh3d\"}], \"parcoords\": [{\"line\": {\"colorbar\": {\"outlinewidth\": 0, \"ticks\": \"\"}}, \"type\": \"parcoords\"}], \"pie\": [{\"automargin\": true, \"type\": \"pie\"}], \"scatter\": [{\"marker\": {\"line\": {\"color\": \"#283442\"}}, \"type\": \"scatter\"}], \"scatter3d\": [{\"line\": {\"colorbar\": {\"outlinewidth\": 0, \"ticks\": \"\"}}, \"marker\": {\"colorbar\": {\"outlinewidth\": 0, \"ticks\": \"\"}}, \"type\": \"scatter3d\"}], \"scattercarpet\": [{\"marker\": {\"colorbar\": {\"outlinewidth\": 0, \"ticks\": \"\"}}, \"type\": \"scattercarpet\"}], \"scattergeo\": [{\"marker\": {\"colorbar\": {\"outlinewidth\": 0, \"ticks\": \"\"}}, \"type\": \"scattergeo\"}], \"scattergl\": [{\"marker\": {\"line\": {\"color\": \"#283442\"}}, \"type\": \"scattergl\"}], \"scattermapbox\": [{\"marker\": {\"colorbar\": {\"outlinewidth\": 0, \"ticks\": \"\"}}, \"type\": \"scattermapbox\"}], \"scatterpolar\": [{\"marker\": {\"colorbar\": {\"outlinewidth\": 0, \"ticks\": \"\"}}, \"type\": \"scatterpolar\"}], \"scatterpolargl\": [{\"marker\": {\"colorbar\": {\"outlinewidth\": 0, \"ticks\": \"\"}}, \"type\": \"scatterpolargl\"}], \"scatterternary\": [{\"marker\": {\"colorbar\": {\"outlinewidth\": 0, \"ticks\": \"\"}}, \"type\": \"scatterternary\"}], \"surface\": [{\"colorbar\": {\"outlinewidth\": 0, \"ticks\": \"\"}, \"colorscale\": [[0.0, \"#0d0887\"], [0.1111111111111111, \"#46039f\"], [0.2222222222222222, \"#7201a8\"], [0.3333333333333333, \"#9c179e\"], [0.4444444444444444, \"#bd3786\"], [0.5555555555555556, \"#d8576b\"], [0.6666666666666666, \"#ed7953\"], [0.7777777777777778, \"#fb9f3a\"], [0.8888888888888888, \"#fdca26\"], [1.0, \"#f0f921\"]], \"type\": \"surface\"}], \"table\": [{\"cells\": {\"fill\": {\"color\": \"#506784\"}, \"line\": {\"color\": \"rgb(17,17,17)\"}}, \"header\": {\"fill\": {\"color\": \"#2a3f5f\"}, \"line\": {\"color\": \"rgb(17,17,17)\"}}, \"type\": \"table\"}]}, \"layout\": {\"annotationdefaults\": {\"arrowcolor\": \"#f2f5fa\", \"arrowhead\": 0, \"arrowwidth\": 1}, \"coloraxis\": {\"colorbar\": {\"outlinewidth\": 0, \"ticks\": \"\"}}, \"colorscale\": {\"diverging\": [[0, \"#8e0152\"], [0.1, \"#c51b7d\"], [0.2, \"#de77ae\"], [0.3, \"#f1b6da\"], [0.4, \"#fde0ef\"], [0.5, \"#f7f7f7\"], [0.6, \"#e6f5d0\"], [0.7, \"#b8e186\"], [0.8, \"#7fbc41\"], [0.9, \"#4d9221\"], [1, \"#276419\"]], \"sequential\": [[0.0, \"#0d0887\"], [0.1111111111111111, \"#46039f\"], [0.2222222222222222, \"#7201a8\"], [0.3333333333333333, \"#9c179e\"], [0.4444444444444444, \"#bd3786\"], [0.5555555555555556, \"#d8576b\"], [0.6666666666666666, \"#ed7953\"], [0.7777777777777778, \"#fb9f3a\"], [0.8888888888888888, \"#fdca26\"], [1.0, \"#f0f921\"]], \"sequentialminus\": [[0.0, \"#0d0887\"], [0.1111111111111111, \"#46039f\"], [0.2222222222222222, \"#7201a8\"], [0.3333333333333333, \"#9c179e\"], [0.4444444444444444, \"#bd3786\"], [0.5555555555555556, \"#d8576b\"], [0.6666666666666666, \"#ed7953\"], [0.7777777777777778, \"#fb9f3a\"], [0.8888888888888888, \"#fdca26\"], [1.0, \"#f0f921\"]]}, \"colorway\": [\"#636efa\", \"#EF553B\", \"#00cc96\", \"#ab63fa\", \"#FFA15A\", \"#19d3f3\", \"#FF6692\", \"#B6E880\", \"#FF97FF\", \"#FECB52\"], \"font\": {\"color\": \"#f2f5fa\"}, \"geo\": {\"bgcolor\": \"rgb(17,17,17)\", \"lakecolor\": \"rgb(17,17,17)\", \"landcolor\": \"rgb(17,17,17)\", \"showlakes\": true, \"showland\": true, \"subunitcolor\": \"#506784\"}, \"hoverlabel\": {\"align\": \"left\"}, \"hovermode\": \"closest\", \"mapbox\": {\"style\": \"dark\"}, \"paper_bgcolor\": \"rgb(17,17,17)\", \"plot_bgcolor\": \"rgb(17,17,17)\", \"polar\": {\"angularaxis\": {\"gridcolor\": \"#506784\", \"linecolor\": \"#506784\", \"ticks\": \"\"}, \"bgcolor\": \"rgb(17,17,17)\", \"radialaxis\": {\"gridcolor\": \"#506784\", \"linecolor\": \"#506784\", \"ticks\": \"\"}}, \"scene\": {\"xaxis\": {\"backgroundcolor\": \"rgb(17,17,17)\", \"gridcolor\": \"#506784\", \"gridwidth\": 2, \"linecolor\": \"#506784\", \"showbackground\": true, \"ticks\": \"\", \"zerolinecolor\": \"#C8D4E3\"}, \"yaxis\": {\"backgroundcolor\": \"rgb(17,17,17)\", \"gridcolor\": \"#506784\", \"gridwidth\": 2, \"linecolor\": \"#506784\", \"showbackground\": true, \"ticks\": \"\", \"zerolinecolor\": \"#C8D4E3\"}, \"zaxis\": {\"backgroundcolor\": \"rgb(17,17,17)\", \"gridcolor\": \"#506784\", \"gridwidth\": 2, \"linecolor\": \"#506784\", \"showbackground\": true, \"ticks\": \"\", \"zerolinecolor\": \"#C8D4E3\"}}, \"shapedefaults\": {\"line\": {\"color\": \"#f2f5fa\"}}, \"sliderdefaults\": {\"bgcolor\": \"#C8D4E3\", \"bordercolor\": \"rgb(17,17,17)\", \"borderwidth\": 1, \"tickwidth\": 0}, \"ternary\": {\"aaxis\": {\"gridcolor\": \"#506784\", \"linecolor\": \"#506784\", \"ticks\": \"\"}, \"baxis\": {\"gridcolor\": \"#506784\", \"linecolor\": \"#506784\", \"ticks\": \"\"}, \"bgcolor\": \"rgb(17,17,17)\", \"caxis\": {\"gridcolor\": \"#506784\", \"linecolor\": \"#506784\", \"ticks\": \"\"}}, \"title\": {\"x\": 0.05}, \"updatemenudefaults\": {\"bgcolor\": \"#506784\", \"borderwidth\": 0}, \"xaxis\": {\"automargin\": true, \"gridcolor\": \"#283442\", \"linecolor\": \"#506784\", \"ticks\": \"\", \"title\": {\"standoff\": 15}, \"zerolinecolor\": \"#283442\", \"zerolinewidth\": 2}, \"yaxis\": {\"automargin\": true, \"gridcolor\": \"#283442\", \"linecolor\": \"#506784\", \"ticks\": \"\", \"title\": {\"standoff\": 15}, \"zerolinecolor\": \"#283442\", \"zerolinewidth\": 2}}}, \"title\": {\"text\": \"Total Confirmed Cases by State\"}},                        {\"scrollZoom\": false, \"responsive\": true}                    ).then(function(){\n",
       "                            \n",
       "var gd = document.getElementById('ae9ed429-c66e-43c7-a240-85e030026dbb');\n",
       "var x = new MutationObserver(function (mutations, observer) {{\n",
       "        var display = window.getComputedStyle(gd).display;\n",
       "        if (!display || display === 'none') {{\n",
       "            console.log([gd, 'removed!']);\n",
       "            Plotly.purge(gd);\n",
       "            observer.disconnect();\n",
       "        }}\n",
       "}});\n",
       "\n",
       "// Listen for the removal of the full notebook cells\n",
       "var notebookContainer = gd.closest('#notebook-container');\n",
       "if (notebookContainer) {{\n",
       "    x.observe(notebookContainer, {childList: true});\n",
       "}}\n",
       "\n",
       "// Listen for the clearing of the current output cell\n",
       "var outputEl = gd.closest('.output');\n",
       "if (outputEl) {{\n",
       "    x.observe(outputEl, {childList: true});\n",
       "}}\n",
       "\n",
       "                        })                };                });            </script>        </div>"
      ]
     },
     "metadata": {},
     "output_type": "display_data"
    }
   ],
   "source": [
    "import plotly.express as px\n",
    "\n",
    "color_column = 'Confirmed'\n",
    "pfig = px.choropleth(max_corona,color=color_column,locations='state',\n",
    "              hover_data=['Confirmed','Deaths','Recovered'], \n",
    "              hover_name='state',\n",
    "              locationmode=\"USA-states\", scope='usa',\n",
    "              title=f\"Total {color_column} Cases by State\", #projection='natural earth',\n",
    "              color_continuous_scale=px.colors.sequential.Reds)\n",
    "\n",
    "\n",
    "pfig.show(config={'scrollZoom': False})"
   ]
  },
  {
   "cell_type": "code",
   "execution_count": 17,
   "metadata": {
    "ExecuteTime": {
     "end_time": "2020-11-19T23:13:55.092917Z",
     "start_time": "2020-11-19T23:13:54.997682Z"
    }
   },
   "outputs": [],
   "source": [
    "# date_index = df_states.index.to_series()\n",
    "# date_index[-7:]"
   ]
  },
  {
   "cell_type": "code",
   "execution_count": 18,
   "metadata": {
    "ExecuteTime": {
     "end_time": "2020-11-19T23:13:55.187646Z",
     "start_time": "2020-11-19T23:13:55.094446Z"
    }
   },
   "outputs": [
    {
     "data": {
      "text/plain": [
       "DatetimeIndex(['2020-11-12', '2020-11-13', '2020-11-14', '2020-11-15',\n",
       "               '2020-11-16', '2020-11-17', '2020-11-18', '2020-11-19'],\n",
       "              dtype='datetime64[ns]', freq='D')"
      ]
     },
     "execution_count": 18,
     "metadata": {},
     "output_type": "execute_result"
    }
   ],
   "source": [
    "from datetime import datetime\n",
    "date_range = pd.date_range(end=datetime.today(),\n",
    "                           start = datetime.today()-pd.Timedelta('7 days'),\n",
    "                          normalize=True,freq='D')\n",
    "date_range\n"
   ]
  },
  {
   "cell_type": "code",
   "execution_count": null,
   "metadata": {},
   "outputs": [],
   "source": []
  },
  {
   "cell_type": "code",
   "execution_count": 19,
   "metadata": {
    "ExecuteTime": {
     "end_time": "2020-11-19T23:13:55.364103Z",
     "start_time": "2020-11-19T23:13:55.189376Z"
    }
   },
   "outputs": [
    {
     "data": {
      "application/vnd.plotly.v1+json": {
       "config": {
        "plotlyServerURL": "https://plot.ly",
        "scrollZoom": false
       },
       "data": [
        {
         "coloraxis": "coloraxis",
         "customdata": [
          [
           23814,
           98,
           0
          ],
          [
           217822,
           3248,
           0
          ],
          [
           133040,
           2183,
           0
          ],
          [
           275436,
           6302,
           1
          ],
          [
           1032095,
           18262,
           6
          ],
          [
           163417,
           2546,
           0
          ],
          [
           88645,
           4737,
           0
          ],
          [
           18977,
           660,
           0
          ],
          [
           28803,
           736,
           0
          ],
          [
           885201,
           17518,
           0
          ],
          [
           424989,
           8957,
           0
          ],
          [
           16759,
           222,
           0
          ],
          [
           186314,
           1989,
           0
          ],
          [
           82245,
           759,
           0
          ],
          [
           573616,
           11162,
           2
          ],
          [
           251597,
           4910,
           0
          ],
          [
           117564,
           1184,
           0
          ],
          [
           137586,
           1661,
           1
          ],
          [
           201981,
           6121,
           0
          ],
          [
           188275,
           10329,
           1
          ],
          [
           165930,
           4302,
           3
          ],
          [
           8944,
           165,
           0
          ],
          [
           275792,
           8376,
           5
          ],
          [
           223581,
           2961,
           0
          ],
          [
           244541,
           3387,
           0
          ],
          [
           134309,
           3543,
           0
          ],
          [
           47158,
           520,
           0
          ],
          [
           312235,
           4806,
           0
          ],
          [
           63796,
           736,
           0
          ],
          [
           98161,
           779,
           0
          ],
          [
           14682,
           499,
           0
          ],
          [
           279274,
           16566,
           1
          ],
          [
           64201,
           1215,
           0
          ],
          [
           120183,
           1909,
           0
          ],
          [
           560200,
           34032,
           0
          ],
          [
           298096,
           5722,
           0
          ],
          [
           154128,
           1528,
           0
          ],
          [
           56880,
           761,
           0
          ],
          [
           268696,
           9290,
           0
          ],
          [
           72166,
           935,
           0
          ],
          [
           41529,
           1254,
           0
          ],
          [
           195507,
           4112,
           0
          ],
          [
           65381,
           644,
           0
          ],
          [
           310937,
           3893,
           0
          ],
          [
           1059753,
           20002,
           0
          ],
          [
           153808,
           718,
           0
          ],
          [
           201960,
           3800,
           0
          ],
          [
           2889,
           59,
           0
          ],
          [
           130040,
           2519,
           1
          ],
          [
           329924,
           2751,
           1
          ],
          [
           33659,
           582,
           0
          ],
          [
           22494,
           144,
           0
          ]
         ],
         "geo": "geo",
         "hovertemplate": "<b>%{hovertext}</b><br><br>state=%{location}<br>Confirmed=%{z}<br>Deaths=%{customdata[1]}<br>Recovered=%{customdata[2]}<extra></extra>",
         "hovertext": [
          "AK",
          "AL",
          "AR",
          "AZ",
          "CA",
          "CO",
          "CT",
          "DC",
          "DE",
          "FL",
          "GA",
          "HI",
          "IA",
          "ID",
          "IL",
          "IN",
          "KS",
          "KY",
          "LA",
          "MA",
          "MD",
          "ME",
          "MI",
          "MN",
          "MO",
          "MS",
          "MT",
          "NC",
          "ND",
          "NE",
          "NH",
          "NJ",
          "NM",
          "NV",
          "NY",
          "OH",
          "OK",
          "OR",
          "PA",
          "PR",
          "RI",
          "SC",
          "SD",
          "TN",
          "TX",
          "UT",
          "VA",
          "VT",
          "WA",
          "WI",
          "WV",
          "WY"
         ],
         "locationmode": "USA-states",
         "locations": [
          "AK",
          "AL",
          "AR",
          "AZ",
          "CA",
          "CO",
          "CT",
          "DC",
          "DE",
          "FL",
          "GA",
          "HI",
          "IA",
          "ID",
          "IL",
          "IN",
          "KS",
          "KY",
          "LA",
          "MA",
          "MD",
          "ME",
          "MI",
          "MN",
          "MO",
          "MS",
          "MT",
          "NC",
          "ND",
          "NE",
          "NH",
          "NJ",
          "NM",
          "NV",
          "NY",
          "OH",
          "OK",
          "OR",
          "PA",
          "PR",
          "RI",
          "SC",
          "SD",
          "TN",
          "TX",
          "UT",
          "VA",
          "VT",
          "WA",
          "WI",
          "WV",
          "WY"
         ],
         "name": "",
         "type": "choropleth",
         "z": [
          23814,
          217822,
          133040,
          275436,
          1032095,
          163417,
          88645,
          18977,
          28803,
          885201,
          424989,
          16759,
          186314,
          82245,
          573616,
          251597,
          117564,
          137586,
          201981,
          188275,
          165930,
          8944,
          275792,
          223581,
          244541,
          134309,
          47158,
          312235,
          63796,
          98161,
          14682,
          279274,
          64201,
          120183,
          560200,
          298096,
          154128,
          56880,
          268696,
          72166,
          41529,
          195507,
          65381,
          310937,
          1059753,
          153808,
          201960,
          2889,
          130040,
          329924,
          33659,
          22494
         ]
        }
       ],
       "layout": {
        "autosize": true,
        "coloraxis": {
         "colorbar": {
          "title": {
           "text": "Confirmed"
          }
         },
         "colorscale": [
          [
           0,
           "rgb(255,245,240)"
          ],
          [
           0.125,
           "rgb(254,224,210)"
          ],
          [
           0.25,
           "rgb(252,187,161)"
          ],
          [
           0.375,
           "rgb(252,146,114)"
          ],
          [
           0.5,
           "rgb(251,106,74)"
          ],
          [
           0.625,
           "rgb(239,59,44)"
          ],
          [
           0.75,
           "rgb(203,24,29)"
          ],
          [
           0.875,
           "rgb(165,15,21)"
          ],
          [
           1,
           "rgb(103,0,13)"
          ]
         ]
        },
        "geo": {
         "center": {},
         "domain": {
          "x": [
           0,
           1
          ],
          "y": [
           0,
           1
          ]
         },
         "scope": "usa"
        },
        "legend": {
         "tracegroupgap": 0
        },
        "template": {
         "data": {
          "bar": [
           {
            "error_x": {
             "color": "#f2f5fa"
            },
            "error_y": {
             "color": "#f2f5fa"
            },
            "marker": {
             "line": {
              "color": "rgb(17,17,17)",
              "width": 0.5
             }
            },
            "type": "bar"
           }
          ],
          "barpolar": [
           {
            "marker": {
             "line": {
              "color": "rgb(17,17,17)",
              "width": 0.5
             }
            },
            "type": "barpolar"
           }
          ],
          "carpet": [
           {
            "aaxis": {
             "endlinecolor": "#A2B1C6",
             "gridcolor": "#506784",
             "linecolor": "#506784",
             "minorgridcolor": "#506784",
             "startlinecolor": "#A2B1C6"
            },
            "baxis": {
             "endlinecolor": "#A2B1C6",
             "gridcolor": "#506784",
             "linecolor": "#506784",
             "minorgridcolor": "#506784",
             "startlinecolor": "#A2B1C6"
            },
            "type": "carpet"
           }
          ],
          "choropleth": [
           {
            "colorbar": {
             "outlinewidth": 0,
             "ticks": ""
            },
            "type": "choropleth"
           }
          ],
          "contour": [
           {
            "colorbar": {
             "outlinewidth": 0,
             "ticks": ""
            },
            "colorscale": [
             [
              0,
              "#0d0887"
             ],
             [
              0.1111111111111111,
              "#46039f"
             ],
             [
              0.2222222222222222,
              "#7201a8"
             ],
             [
              0.3333333333333333,
              "#9c179e"
             ],
             [
              0.4444444444444444,
              "#bd3786"
             ],
             [
              0.5555555555555556,
              "#d8576b"
             ],
             [
              0.6666666666666666,
              "#ed7953"
             ],
             [
              0.7777777777777778,
              "#fb9f3a"
             ],
             [
              0.8888888888888888,
              "#fdca26"
             ],
             [
              1,
              "#f0f921"
             ]
            ],
            "type": "contour"
           }
          ],
          "contourcarpet": [
           {
            "colorbar": {
             "outlinewidth": 0,
             "ticks": ""
            },
            "type": "contourcarpet"
           }
          ],
          "heatmap": [
           {
            "colorbar": {
             "outlinewidth": 0,
             "ticks": ""
            },
            "colorscale": [
             [
              0,
              "#0d0887"
             ],
             [
              0.1111111111111111,
              "#46039f"
             ],
             [
              0.2222222222222222,
              "#7201a8"
             ],
             [
              0.3333333333333333,
              "#9c179e"
             ],
             [
              0.4444444444444444,
              "#bd3786"
             ],
             [
              0.5555555555555556,
              "#d8576b"
             ],
             [
              0.6666666666666666,
              "#ed7953"
             ],
             [
              0.7777777777777778,
              "#fb9f3a"
             ],
             [
              0.8888888888888888,
              "#fdca26"
             ],
             [
              1,
              "#f0f921"
             ]
            ],
            "type": "heatmap"
           }
          ],
          "heatmapgl": [
           {
            "colorbar": {
             "outlinewidth": 0,
             "ticks": ""
            },
            "colorscale": [
             [
              0,
              "#0d0887"
             ],
             [
              0.1111111111111111,
              "#46039f"
             ],
             [
              0.2222222222222222,
              "#7201a8"
             ],
             [
              0.3333333333333333,
              "#9c179e"
             ],
             [
              0.4444444444444444,
              "#bd3786"
             ],
             [
              0.5555555555555556,
              "#d8576b"
             ],
             [
              0.6666666666666666,
              "#ed7953"
             ],
             [
              0.7777777777777778,
              "#fb9f3a"
             ],
             [
              0.8888888888888888,
              "#fdca26"
             ],
             [
              1,
              "#f0f921"
             ]
            ],
            "type": "heatmapgl"
           }
          ],
          "histogram": [
           {
            "marker": {
             "colorbar": {
              "outlinewidth": 0,
              "ticks": ""
             }
            },
            "type": "histogram"
           }
          ],
          "histogram2d": [
           {
            "colorbar": {
             "outlinewidth": 0,
             "ticks": ""
            },
            "colorscale": [
             [
              0,
              "#0d0887"
             ],
             [
              0.1111111111111111,
              "#46039f"
             ],
             [
              0.2222222222222222,
              "#7201a8"
             ],
             [
              0.3333333333333333,
              "#9c179e"
             ],
             [
              0.4444444444444444,
              "#bd3786"
             ],
             [
              0.5555555555555556,
              "#d8576b"
             ],
             [
              0.6666666666666666,
              "#ed7953"
             ],
             [
              0.7777777777777778,
              "#fb9f3a"
             ],
             [
              0.8888888888888888,
              "#fdca26"
             ],
             [
              1,
              "#f0f921"
             ]
            ],
            "type": "histogram2d"
           }
          ],
          "histogram2dcontour": [
           {
            "colorbar": {
             "outlinewidth": 0,
             "ticks": ""
            },
            "colorscale": [
             [
              0,
              "#0d0887"
             ],
             [
              0.1111111111111111,
              "#46039f"
             ],
             [
              0.2222222222222222,
              "#7201a8"
             ],
             [
              0.3333333333333333,
              "#9c179e"
             ],
             [
              0.4444444444444444,
              "#bd3786"
             ],
             [
              0.5555555555555556,
              "#d8576b"
             ],
             [
              0.6666666666666666,
              "#ed7953"
             ],
             [
              0.7777777777777778,
              "#fb9f3a"
             ],
             [
              0.8888888888888888,
              "#fdca26"
             ],
             [
              1,
              "#f0f921"
             ]
            ],
            "type": "histogram2dcontour"
           }
          ],
          "mesh3d": [
           {
            "colorbar": {
             "outlinewidth": 0,
             "ticks": ""
            },
            "type": "mesh3d"
           }
          ],
          "parcoords": [
           {
            "line": {
             "colorbar": {
              "outlinewidth": 0,
              "ticks": ""
             }
            },
            "type": "parcoords"
           }
          ],
          "pie": [
           {
            "automargin": true,
            "type": "pie"
           }
          ],
          "scatter": [
           {
            "marker": {
             "line": {
              "color": "#283442"
             }
            },
            "type": "scatter"
           }
          ],
          "scatter3d": [
           {
            "line": {
             "colorbar": {
              "outlinewidth": 0,
              "ticks": ""
             }
            },
            "marker": {
             "colorbar": {
              "outlinewidth": 0,
              "ticks": ""
             }
            },
            "type": "scatter3d"
           }
          ],
          "scattercarpet": [
           {
            "marker": {
             "colorbar": {
              "outlinewidth": 0,
              "ticks": ""
             }
            },
            "type": "scattercarpet"
           }
          ],
          "scattergeo": [
           {
            "marker": {
             "colorbar": {
              "outlinewidth": 0,
              "ticks": ""
             }
            },
            "type": "scattergeo"
           }
          ],
          "scattergl": [
           {
            "marker": {
             "line": {
              "color": "#283442"
             }
            },
            "type": "scattergl"
           }
          ],
          "scattermapbox": [
           {
            "marker": {
             "colorbar": {
              "outlinewidth": 0,
              "ticks": ""
             }
            },
            "type": "scattermapbox"
           }
          ],
          "scatterpolar": [
           {
            "marker": {
             "colorbar": {
              "outlinewidth": 0,
              "ticks": ""
             }
            },
            "type": "scatterpolar"
           }
          ],
          "scatterpolargl": [
           {
            "marker": {
             "colorbar": {
              "outlinewidth": 0,
              "ticks": ""
             }
            },
            "type": "scatterpolargl"
           }
          ],
          "scatterternary": [
           {
            "marker": {
             "colorbar": {
              "outlinewidth": 0,
              "ticks": ""
             }
            },
            "type": "scatterternary"
           }
          ],
          "surface": [
           {
            "colorbar": {
             "outlinewidth": 0,
             "ticks": ""
            },
            "colorscale": [
             [
              0,
              "#0d0887"
             ],
             [
              0.1111111111111111,
              "#46039f"
             ],
             [
              0.2222222222222222,
              "#7201a8"
             ],
             [
              0.3333333333333333,
              "#9c179e"
             ],
             [
              0.4444444444444444,
              "#bd3786"
             ],
             [
              0.5555555555555556,
              "#d8576b"
             ],
             [
              0.6666666666666666,
              "#ed7953"
             ],
             [
              0.7777777777777778,
              "#fb9f3a"
             ],
             [
              0.8888888888888888,
              "#fdca26"
             ],
             [
              1,
              "#f0f921"
             ]
            ],
            "type": "surface"
           }
          ],
          "table": [
           {
            "cells": {
             "fill": {
              "color": "#506784"
             },
             "line": {
              "color": "rgb(17,17,17)"
             }
            },
            "header": {
             "fill": {
              "color": "#2a3f5f"
             },
             "line": {
              "color": "rgb(17,17,17)"
             }
            },
            "type": "table"
           }
          ]
         },
         "layout": {
          "annotationdefaults": {
           "arrowcolor": "#f2f5fa",
           "arrowhead": 0,
           "arrowwidth": 1
          },
          "coloraxis": {
           "colorbar": {
            "outlinewidth": 0,
            "ticks": ""
           }
          },
          "colorscale": {
           "diverging": [
            [
             0,
             "#8e0152"
            ],
            [
             0.1,
             "#c51b7d"
            ],
            [
             0.2,
             "#de77ae"
            ],
            [
             0.3,
             "#f1b6da"
            ],
            [
             0.4,
             "#fde0ef"
            ],
            [
             0.5,
             "#f7f7f7"
            ],
            [
             0.6,
             "#e6f5d0"
            ],
            [
             0.7,
             "#b8e186"
            ],
            [
             0.8,
             "#7fbc41"
            ],
            [
             0.9,
             "#4d9221"
            ],
            [
             1,
             "#276419"
            ]
           ],
           "sequential": [
            [
             0,
             "#0d0887"
            ],
            [
             0.1111111111111111,
             "#46039f"
            ],
            [
             0.2222222222222222,
             "#7201a8"
            ],
            [
             0.3333333333333333,
             "#9c179e"
            ],
            [
             0.4444444444444444,
             "#bd3786"
            ],
            [
             0.5555555555555556,
             "#d8576b"
            ],
            [
             0.6666666666666666,
             "#ed7953"
            ],
            [
             0.7777777777777778,
             "#fb9f3a"
            ],
            [
             0.8888888888888888,
             "#fdca26"
            ],
            [
             1,
             "#f0f921"
            ]
           ],
           "sequentialminus": [
            [
             0,
             "#0d0887"
            ],
            [
             0.1111111111111111,
             "#46039f"
            ],
            [
             0.2222222222222222,
             "#7201a8"
            ],
            [
             0.3333333333333333,
             "#9c179e"
            ],
            [
             0.4444444444444444,
             "#bd3786"
            ],
            [
             0.5555555555555556,
             "#d8576b"
            ],
            [
             0.6666666666666666,
             "#ed7953"
            ],
            [
             0.7777777777777778,
             "#fb9f3a"
            ],
            [
             0.8888888888888888,
             "#fdca26"
            ],
            [
             1,
             "#f0f921"
            ]
           ]
          },
          "colorway": [
           "#636efa",
           "#EF553B",
           "#00cc96",
           "#ab63fa",
           "#FFA15A",
           "#19d3f3",
           "#FF6692",
           "#B6E880",
           "#FF97FF",
           "#FECB52"
          ],
          "font": {
           "color": "#f2f5fa"
          },
          "geo": {
           "bgcolor": "rgb(17,17,17)",
           "lakecolor": "rgb(17,17,17)",
           "landcolor": "rgb(17,17,17)",
           "showlakes": true,
           "showland": true,
           "subunitcolor": "#506784"
          },
          "hoverlabel": {
           "align": "left"
          },
          "hovermode": "closest",
          "mapbox": {
           "style": "dark"
          },
          "paper_bgcolor": "rgb(17,17,17)",
          "plot_bgcolor": "rgb(17,17,17)",
          "polar": {
           "angularaxis": {
            "gridcolor": "#506784",
            "linecolor": "#506784",
            "ticks": ""
           },
           "bgcolor": "rgb(17,17,17)",
           "radialaxis": {
            "gridcolor": "#506784",
            "linecolor": "#506784",
            "ticks": ""
           }
          },
          "scene": {
           "xaxis": {
            "backgroundcolor": "rgb(17,17,17)",
            "gridcolor": "#506784",
            "gridwidth": 2,
            "linecolor": "#506784",
            "showbackground": true,
            "ticks": "",
            "zerolinecolor": "#C8D4E3"
           },
           "yaxis": {
            "backgroundcolor": "rgb(17,17,17)",
            "gridcolor": "#506784",
            "gridwidth": 2,
            "linecolor": "#506784",
            "showbackground": true,
            "ticks": "",
            "zerolinecolor": "#C8D4E3"
           },
           "zaxis": {
            "backgroundcolor": "rgb(17,17,17)",
            "gridcolor": "#506784",
            "gridwidth": 2,
            "linecolor": "#506784",
            "showbackground": true,
            "ticks": "",
            "zerolinecolor": "#C8D4E3"
           }
          },
          "shapedefaults": {
           "line": {
            "color": "#f2f5fa"
           }
          },
          "sliderdefaults": {
           "bgcolor": "#C8D4E3",
           "bordercolor": "rgb(17,17,17)",
           "borderwidth": 1,
           "tickwidth": 0
          },
          "ternary": {
           "aaxis": {
            "gridcolor": "#506784",
            "linecolor": "#506784",
            "ticks": ""
           },
           "baxis": {
            "gridcolor": "#506784",
            "linecolor": "#506784",
            "ticks": ""
           },
           "bgcolor": "rgb(17,17,17)",
           "caxis": {
            "gridcolor": "#506784",
            "linecolor": "#506784",
            "ticks": ""
           }
          },
          "title": {
           "x": 0.05
          },
          "updatemenudefaults": {
           "bgcolor": "#506784",
           "borderwidth": 0
          },
          "xaxis": {
           "automargin": true,
           "gridcolor": "#283442",
           "linecolor": "#506784",
           "ticks": "",
           "title": {
            "standoff": 15
           },
           "zerolinecolor": "#283442",
           "zerolinewidth": 2
          },
          "yaxis": {
           "automargin": true,
           "gridcolor": "#283442",
           "linecolor": "#506784",
           "ticks": "",
           "title": {
            "standoff": 15
           },
           "zerolinecolor": "#283442",
           "zerolinewidth": 2
          }
         }
        },
        "title": {
         "text": "Total Confirmed Cases by State"
        }
       }
      },
      "text/html": [
       "<div>                            <div id=\"07f26c53-bb24-4849-8cbb-6f54876408f0\" class=\"plotly-graph-div\" style=\"height:525px; width:100%;\"></div>            <script type=\"text/javascript\">                require([\"plotly\"], function(Plotly) {                    window.PLOTLYENV=window.PLOTLYENV || {};                                    if (document.getElementById(\"07f26c53-bb24-4849-8cbb-6f54876408f0\")) {                    Plotly.newPlot(                        \"07f26c53-bb24-4849-8cbb-6f54876408f0\",                        [{\"coloraxis\": \"coloraxis\", \"customdata\": [[23814.0, 98.0, 0.0], [217822.0, 3248.0, 0.0], [133040.0, 2183.0, 0.0], [275436.0, 6302.0, 1.0], [1032095.0, 18262.0, 6.0], [163417.0, 2546.0, 0.0], [88645.0, 4737.0, 0.0], [18977.0, 660.0, 0.0], [28803.0, 736.0, 0.0], [885201.0, 17518.0, 0.0], [424989.0, 8957.0, 0.0], [16759.0, 222.0, 0.0], [186314.0, 1989.0, 0.0], [82245.0, 759.0, 0.0], [573616.0, 11162.0, 2.0], [251597.0, 4910.0, 0.0], [117564.0, 1184.0, 0.0], [137586.0, 1661.0, 1.0], [201981.0, 6121.0, 0.0], [188275.0, 10329.0, 1.0], [165930.0, 4302.0, 3.0], [8944.0, 165.0, 0.0], [275792.0, 8376.0, 5.0], [223581.0, 2961.0, 0.0], [244541.0, 3387.0, 0.0], [134309.0, 3543.0, 0.0], [47158.0, 520.0, 0.0], [312235.0, 4806.0, 0.0], [63796.0, 736.0, 0.0], [98161.0, 779.0, 0.0], [14682.0, 499.0, 0.0], [279274.0, 16566.0, 1.0], [64201.0, 1215.0, 0.0], [120183.0, 1909.0, 0.0], [560200.0, 34032.0, 0.0], [298096.0, 5722.0, 0.0], [154128.0, 1528.0, 0.0], [56880.0, 761.0, 0.0], [268696.0, 9290.0, 0.0], [72166.0, 935.0, 0.0], [41529.0, 1254.0, 0.0], [195507.0, 4112.0, 0.0], [65381.0, 644.0, 0.0], [310937.0, 3893.0, 0.0], [1059753.0, 20002.0, 0.0], [153808.0, 718.0, 0.0], [201960.0, 3800.0, 0.0], [2889.0, 59.0, 0.0], [130040.0, 2519.0, 1.0], [329924.0, 2751.0, 1.0], [33659.0, 582.0, 0.0], [22494.0, 144.0, 0.0]], \"geo\": \"geo\", \"hovertemplate\": \"<b>%{hovertext}</b><br><br>state=%{location}<br>Confirmed=%{z}<br>Deaths=%{customdata[1]}<br>Recovered=%{customdata[2]}<extra></extra>\", \"hovertext\": [\"AK\", \"AL\", \"AR\", \"AZ\", \"CA\", \"CO\", \"CT\", \"DC\", \"DE\", \"FL\", \"GA\", \"HI\", \"IA\", \"ID\", \"IL\", \"IN\", \"KS\", \"KY\", \"LA\", \"MA\", \"MD\", \"ME\", \"MI\", \"MN\", \"MO\", \"MS\", \"MT\", \"NC\", \"ND\", \"NE\", \"NH\", \"NJ\", \"NM\", \"NV\", \"NY\", \"OH\", \"OK\", \"OR\", \"PA\", \"PR\", \"RI\", \"SC\", \"SD\", \"TN\", \"TX\", \"UT\", \"VA\", \"VT\", \"WA\", \"WI\", \"WV\", \"WY\"], \"locationmode\": \"USA-states\", \"locations\": [\"AK\", \"AL\", \"AR\", \"AZ\", \"CA\", \"CO\", \"CT\", \"DC\", \"DE\", \"FL\", \"GA\", \"HI\", \"IA\", \"ID\", \"IL\", \"IN\", \"KS\", \"KY\", \"LA\", \"MA\", \"MD\", \"ME\", \"MI\", \"MN\", \"MO\", \"MS\", \"MT\", \"NC\", \"ND\", \"NE\", \"NH\", \"NJ\", \"NM\", \"NV\", \"NY\", \"OH\", \"OK\", \"OR\", \"PA\", \"PR\", \"RI\", \"SC\", \"SD\", \"TN\", \"TX\", \"UT\", \"VA\", \"VT\", \"WA\", \"WI\", \"WV\", \"WY\"], \"name\": \"\", \"type\": \"choropleth\", \"z\": [23814.0, 217822.0, 133040.0, 275436.0, 1032095.0, 163417.0, 88645.0, 18977.0, 28803.0, 885201.0, 424989.0, 16759.0, 186314.0, 82245.0, 573616.0, 251597.0, 117564.0, 137586.0, 201981.0, 188275.0, 165930.0, 8944.0, 275792.0, 223581.0, 244541.0, 134309.0, 47158.0, 312235.0, 63796.0, 98161.0, 14682.0, 279274.0, 64201.0, 120183.0, 560200.0, 298096.0, 154128.0, 56880.0, 268696.0, 72166.0, 41529.0, 195507.0, 65381.0, 310937.0, 1059753.0, 153808.0, 201960.0, 2889.0, 130040.0, 329924.0, 33659.0, 22494.0]}],                        {\"autosize\": true, \"coloraxis\": {\"colorbar\": {\"title\": {\"text\": \"Confirmed\"}}, \"colorscale\": [[0.0, \"rgb(255,245,240)\"], [0.125, \"rgb(254,224,210)\"], [0.25, \"rgb(252,187,161)\"], [0.375, \"rgb(252,146,114)\"], [0.5, \"rgb(251,106,74)\"], [0.625, \"rgb(239,59,44)\"], [0.75, \"rgb(203,24,29)\"], [0.875, \"rgb(165,15,21)\"], [1.0, \"rgb(103,0,13)\"]]}, \"geo\": {\"center\": {}, \"domain\": {\"x\": [0.0, 1.0], \"y\": [0.0, 1.0]}, \"scope\": \"usa\"}, \"legend\": {\"tracegroupgap\": 0}, \"template\": {\"data\": {\"bar\": [{\"error_x\": {\"color\": \"#f2f5fa\"}, \"error_y\": {\"color\": \"#f2f5fa\"}, \"marker\": {\"line\": {\"color\": \"rgb(17,17,17)\", \"width\": 0.5}}, \"type\": \"bar\"}], \"barpolar\": [{\"marker\": {\"line\": {\"color\": \"rgb(17,17,17)\", \"width\": 0.5}}, \"type\": \"barpolar\"}], \"carpet\": [{\"aaxis\": {\"endlinecolor\": \"#A2B1C6\", \"gridcolor\": \"#506784\", \"linecolor\": \"#506784\", \"minorgridcolor\": \"#506784\", \"startlinecolor\": \"#A2B1C6\"}, \"baxis\": {\"endlinecolor\": \"#A2B1C6\", \"gridcolor\": \"#506784\", \"linecolor\": \"#506784\", \"minorgridcolor\": \"#506784\", \"startlinecolor\": \"#A2B1C6\"}, \"type\": \"carpet\"}], \"choropleth\": [{\"colorbar\": {\"outlinewidth\": 0, \"ticks\": \"\"}, \"type\": \"choropleth\"}], \"contour\": [{\"colorbar\": {\"outlinewidth\": 0, \"ticks\": \"\"}, \"colorscale\": [[0.0, \"#0d0887\"], [0.1111111111111111, \"#46039f\"], [0.2222222222222222, \"#7201a8\"], [0.3333333333333333, \"#9c179e\"], [0.4444444444444444, \"#bd3786\"], [0.5555555555555556, \"#d8576b\"], [0.6666666666666666, \"#ed7953\"], [0.7777777777777778, \"#fb9f3a\"], [0.8888888888888888, \"#fdca26\"], [1.0, \"#f0f921\"]], \"type\": \"contour\"}], \"contourcarpet\": [{\"colorbar\": {\"outlinewidth\": 0, \"ticks\": \"\"}, \"type\": \"contourcarpet\"}], \"heatmap\": [{\"colorbar\": {\"outlinewidth\": 0, \"ticks\": \"\"}, \"colorscale\": [[0.0, \"#0d0887\"], [0.1111111111111111, \"#46039f\"], [0.2222222222222222, \"#7201a8\"], [0.3333333333333333, \"#9c179e\"], [0.4444444444444444, \"#bd3786\"], [0.5555555555555556, \"#d8576b\"], [0.6666666666666666, \"#ed7953\"], [0.7777777777777778, \"#fb9f3a\"], [0.8888888888888888, \"#fdca26\"], [1.0, \"#f0f921\"]], \"type\": \"heatmap\"}], \"heatmapgl\": [{\"colorbar\": {\"outlinewidth\": 0, \"ticks\": \"\"}, \"colorscale\": [[0.0, \"#0d0887\"], [0.1111111111111111, \"#46039f\"], [0.2222222222222222, \"#7201a8\"], [0.3333333333333333, \"#9c179e\"], [0.4444444444444444, \"#bd3786\"], [0.5555555555555556, \"#d8576b\"], [0.6666666666666666, \"#ed7953\"], [0.7777777777777778, \"#fb9f3a\"], [0.8888888888888888, \"#fdca26\"], [1.0, \"#f0f921\"]], \"type\": \"heatmapgl\"}], \"histogram\": [{\"marker\": {\"colorbar\": {\"outlinewidth\": 0, \"ticks\": \"\"}}, \"type\": \"histogram\"}], \"histogram2d\": [{\"colorbar\": {\"outlinewidth\": 0, \"ticks\": \"\"}, \"colorscale\": [[0.0, \"#0d0887\"], [0.1111111111111111, \"#46039f\"], [0.2222222222222222, \"#7201a8\"], [0.3333333333333333, \"#9c179e\"], [0.4444444444444444, \"#bd3786\"], [0.5555555555555556, \"#d8576b\"], [0.6666666666666666, \"#ed7953\"], [0.7777777777777778, \"#fb9f3a\"], [0.8888888888888888, \"#fdca26\"], [1.0, \"#f0f921\"]], \"type\": \"histogram2d\"}], \"histogram2dcontour\": [{\"colorbar\": {\"outlinewidth\": 0, \"ticks\": \"\"}, \"colorscale\": [[0.0, \"#0d0887\"], [0.1111111111111111, \"#46039f\"], [0.2222222222222222, \"#7201a8\"], [0.3333333333333333, \"#9c179e\"], [0.4444444444444444, \"#bd3786\"], [0.5555555555555556, \"#d8576b\"], [0.6666666666666666, \"#ed7953\"], [0.7777777777777778, \"#fb9f3a\"], [0.8888888888888888, \"#fdca26\"], [1.0, \"#f0f921\"]], \"type\": \"histogram2dcontour\"}], \"mesh3d\": [{\"colorbar\": {\"outlinewidth\": 0, \"ticks\": \"\"}, \"type\": \"mesh3d\"}], \"parcoords\": [{\"line\": {\"colorbar\": {\"outlinewidth\": 0, \"ticks\": \"\"}}, \"type\": \"parcoords\"}], \"pie\": [{\"automargin\": true, \"type\": \"pie\"}], \"scatter\": [{\"marker\": {\"line\": {\"color\": \"#283442\"}}, \"type\": \"scatter\"}], \"scatter3d\": [{\"line\": {\"colorbar\": {\"outlinewidth\": 0, \"ticks\": \"\"}}, \"marker\": {\"colorbar\": {\"outlinewidth\": 0, \"ticks\": \"\"}}, \"type\": \"scatter3d\"}], \"scattercarpet\": [{\"marker\": {\"colorbar\": {\"outlinewidth\": 0, \"ticks\": \"\"}}, \"type\": \"scattercarpet\"}], \"scattergeo\": [{\"marker\": {\"colorbar\": {\"outlinewidth\": 0, \"ticks\": \"\"}}, \"type\": \"scattergeo\"}], \"scattergl\": [{\"marker\": {\"line\": {\"color\": \"#283442\"}}, \"type\": \"scattergl\"}], \"scattermapbox\": [{\"marker\": {\"colorbar\": {\"outlinewidth\": 0, \"ticks\": \"\"}}, \"type\": \"scattermapbox\"}], \"scatterpolar\": [{\"marker\": {\"colorbar\": {\"outlinewidth\": 0, \"ticks\": \"\"}}, \"type\": \"scatterpolar\"}], \"scatterpolargl\": [{\"marker\": {\"colorbar\": {\"outlinewidth\": 0, \"ticks\": \"\"}}, \"type\": \"scatterpolargl\"}], \"scatterternary\": [{\"marker\": {\"colorbar\": {\"outlinewidth\": 0, \"ticks\": \"\"}}, \"type\": \"scatterternary\"}], \"surface\": [{\"colorbar\": {\"outlinewidth\": 0, \"ticks\": \"\"}, \"colorscale\": [[0.0, \"#0d0887\"], [0.1111111111111111, \"#46039f\"], [0.2222222222222222, \"#7201a8\"], [0.3333333333333333, \"#9c179e\"], [0.4444444444444444, \"#bd3786\"], [0.5555555555555556, \"#d8576b\"], [0.6666666666666666, \"#ed7953\"], [0.7777777777777778, \"#fb9f3a\"], [0.8888888888888888, \"#fdca26\"], [1.0, \"#f0f921\"]], \"type\": \"surface\"}], \"table\": [{\"cells\": {\"fill\": {\"color\": \"#506784\"}, \"line\": {\"color\": \"rgb(17,17,17)\"}}, \"header\": {\"fill\": {\"color\": \"#2a3f5f\"}, \"line\": {\"color\": \"rgb(17,17,17)\"}}, \"type\": \"table\"}]}, \"layout\": {\"annotationdefaults\": {\"arrowcolor\": \"#f2f5fa\", \"arrowhead\": 0, \"arrowwidth\": 1}, \"coloraxis\": {\"colorbar\": {\"outlinewidth\": 0, \"ticks\": \"\"}}, \"colorscale\": {\"diverging\": [[0, \"#8e0152\"], [0.1, \"#c51b7d\"], [0.2, \"#de77ae\"], [0.3, \"#f1b6da\"], [0.4, \"#fde0ef\"], [0.5, \"#f7f7f7\"], [0.6, \"#e6f5d0\"], [0.7, \"#b8e186\"], [0.8, \"#7fbc41\"], [0.9, \"#4d9221\"], [1, \"#276419\"]], \"sequential\": [[0.0, \"#0d0887\"], [0.1111111111111111, \"#46039f\"], [0.2222222222222222, \"#7201a8\"], [0.3333333333333333, \"#9c179e\"], [0.4444444444444444, \"#bd3786\"], [0.5555555555555556, \"#d8576b\"], [0.6666666666666666, \"#ed7953\"], [0.7777777777777778, \"#fb9f3a\"], [0.8888888888888888, \"#fdca26\"], [1.0, \"#f0f921\"]], \"sequentialminus\": [[0.0, \"#0d0887\"], [0.1111111111111111, \"#46039f\"], [0.2222222222222222, \"#7201a8\"], [0.3333333333333333, \"#9c179e\"], [0.4444444444444444, \"#bd3786\"], [0.5555555555555556, \"#d8576b\"], [0.6666666666666666, \"#ed7953\"], [0.7777777777777778, \"#fb9f3a\"], [0.8888888888888888, \"#fdca26\"], [1.0, \"#f0f921\"]]}, \"colorway\": [\"#636efa\", \"#EF553B\", \"#00cc96\", \"#ab63fa\", \"#FFA15A\", \"#19d3f3\", \"#FF6692\", \"#B6E880\", \"#FF97FF\", \"#FECB52\"], \"font\": {\"color\": \"#f2f5fa\"}, \"geo\": {\"bgcolor\": \"rgb(17,17,17)\", \"lakecolor\": \"rgb(17,17,17)\", \"landcolor\": \"rgb(17,17,17)\", \"showlakes\": true, \"showland\": true, \"subunitcolor\": \"#506784\"}, \"hoverlabel\": {\"align\": \"left\"}, \"hovermode\": \"closest\", \"mapbox\": {\"style\": \"dark\"}, \"paper_bgcolor\": \"rgb(17,17,17)\", \"plot_bgcolor\": \"rgb(17,17,17)\", \"polar\": {\"angularaxis\": {\"gridcolor\": \"#506784\", \"linecolor\": \"#506784\", \"ticks\": \"\"}, \"bgcolor\": \"rgb(17,17,17)\", \"radialaxis\": {\"gridcolor\": \"#506784\", \"linecolor\": \"#506784\", \"ticks\": \"\"}}, \"scene\": {\"xaxis\": {\"backgroundcolor\": \"rgb(17,17,17)\", \"gridcolor\": \"#506784\", \"gridwidth\": 2, \"linecolor\": \"#506784\", \"showbackground\": true, \"ticks\": \"\", \"zerolinecolor\": \"#C8D4E3\"}, \"yaxis\": {\"backgroundcolor\": \"rgb(17,17,17)\", \"gridcolor\": \"#506784\", \"gridwidth\": 2, \"linecolor\": \"#506784\", \"showbackground\": true, \"ticks\": \"\", \"zerolinecolor\": \"#C8D4E3\"}, \"zaxis\": {\"backgroundcolor\": \"rgb(17,17,17)\", \"gridcolor\": \"#506784\", \"gridwidth\": 2, \"linecolor\": \"#506784\", \"showbackground\": true, \"ticks\": \"\", \"zerolinecolor\": \"#C8D4E3\"}}, \"shapedefaults\": {\"line\": {\"color\": \"#f2f5fa\"}}, \"sliderdefaults\": {\"bgcolor\": \"#C8D4E3\", \"bordercolor\": \"rgb(17,17,17)\", \"borderwidth\": 1, \"tickwidth\": 0}, \"ternary\": {\"aaxis\": {\"gridcolor\": \"#506784\", \"linecolor\": \"#506784\", \"ticks\": \"\"}, \"baxis\": {\"gridcolor\": \"#506784\", \"linecolor\": \"#506784\", \"ticks\": \"\"}, \"bgcolor\": \"rgb(17,17,17)\", \"caxis\": {\"gridcolor\": \"#506784\", \"linecolor\": \"#506784\", \"ticks\": \"\"}}, \"title\": {\"x\": 0.05}, \"updatemenudefaults\": {\"bgcolor\": \"#506784\", \"borderwidth\": 0}, \"xaxis\": {\"automargin\": true, \"gridcolor\": \"#283442\", \"linecolor\": \"#506784\", \"ticks\": \"\", \"title\": {\"standoff\": 15}, \"zerolinecolor\": \"#283442\", \"zerolinewidth\": 2}, \"yaxis\": {\"automargin\": true, \"gridcolor\": \"#283442\", \"linecolor\": \"#506784\", \"ticks\": \"\", \"title\": {\"standoff\": 15}, \"zerolinecolor\": \"#283442\", \"zerolinewidth\": 2}}}, \"title\": {\"text\": \"Total Confirmed Cases by State\"}},                        {\"scrollZoom\": false, \"responsive\": true}                    ).then(function(){\n",
       "                            \n",
       "var gd = document.getElementById('07f26c53-bb24-4849-8cbb-6f54876408f0');\n",
       "var x = new MutationObserver(function (mutations, observer) {{\n",
       "        var display = window.getComputedStyle(gd).display;\n",
       "        if (!display || display === 'none') {{\n",
       "            console.log([gd, 'removed!']);\n",
       "            Plotly.purge(gd);\n",
       "            observer.disconnect();\n",
       "        }}\n",
       "}});\n",
       "\n",
       "// Listen for the removal of the full notebook cells\n",
       "var notebookContainer = gd.closest('#notebook-container');\n",
       "if (notebookContainer) {{\n",
       "    x.observe(notebookContainer, {childList: true});\n",
       "}}\n",
       "\n",
       "// Listen for the clearing of the current output cell\n",
       "var outputEl = gd.closest('.output');\n",
       "if (outputEl) {{\n",
       "    x.observe(outputEl, {childList: true});\n",
       "}}\n",
       "\n",
       "                        })                };                });            </script>        </div>"
      ]
     },
     "metadata": {},
     "output_type": "display_data"
    }
   ],
   "source": [
    "def plot_map_corona(df_states,color_column = 'Confirmed',\n",
    "                   hover_data=['Confirmed','Deaths','Recovered']):\n",
    "    \n",
    "    ## Get maximum value for cases by state\n",
    "    max_corona = df_states.groupby('state').max().reset_index()\n",
    "\n",
    "    pfig = px.choropleth(max_corona,color=color_column,locations='state',\n",
    "                  hover_data=hover_data, \n",
    "                  hover_name='state',\n",
    "                  locationmode=\"USA-states\", scope='usa',\n",
    "                  title=f\"Total {color_column} Cases by State\",\n",
    "                  color_continuous_scale=px.colors.sequential.Reds)\n",
    "    pfig.update_layout(autosize=True)#,zoom=False)\n",
    "    pfig.show(config={'scrollZoom': False})\n",
    "    return pfig\n",
    "pmap = plot_map_corona(df_states)"
   ]
  },
  {
   "cell_type": "markdown",
   "metadata": {},
   "source": [
    "## 📕📕SLICING OUT LAST 7 DAYS \n"
   ]
  },
  {
   "cell_type": "code",
   "execution_count": 20,
   "metadata": {
    "ExecuteTime": {
     "end_time": "2020-11-19T23:13:55.460345Z",
     "start_time": "2020-11-19T23:13:55.365741Z"
    }
   },
   "outputs": [
    {
     "data": {
      "text/plain": [
       "Timestamp('2020-11-15 00:00:00')"
      ]
     },
     "execution_count": 20,
     "metadata": {},
     "output_type": "execute_result"
    }
   ],
   "source": [
    "df_states[\"Date\"].iloc[-1]"
   ]
  },
  {
   "cell_type": "code",
   "execution_count": 21,
   "metadata": {
    "ExecuteTime": {
     "end_time": "2020-11-19T23:13:55.584838Z",
     "start_time": "2020-11-19T23:13:55.463808Z"
    }
   },
   "outputs": [
    {
     "data": {
      "text/html": [
       "<div>\n",
       "<style scoped>\n",
       "    .dataframe tbody tr th:only-of-type {\n",
       "        vertical-align: middle;\n",
       "    }\n",
       "\n",
       "    .dataframe tbody tr th {\n",
       "        vertical-align: top;\n",
       "    }\n",
       "\n",
       "    .dataframe thead th {\n",
       "        text-align: right;\n",
       "    }\n",
       "</style>\n",
       "<table border=\"1\" class=\"dataframe\">\n",
       "  <thead>\n",
       "    <tr style=\"text-align: right;\">\n",
       "      <th></th>\n",
       "      <th>Province/State</th>\n",
       "      <th>Country/Region</th>\n",
       "      <th>Confirmed</th>\n",
       "      <th>Deaths</th>\n",
       "      <th>Recovered</th>\n",
       "      <th>state</th>\n",
       "      <th>Confirmed Per Capita</th>\n",
       "      <th>Deaths Per Capita</th>\n",
       "      <th>Recovered Per Capita</th>\n",
       "    </tr>\n",
       "    <tr>\n",
       "      <th>Date</th>\n",
       "      <th></th>\n",
       "      <th></th>\n",
       "      <th></th>\n",
       "      <th></th>\n",
       "      <th></th>\n",
       "      <th></th>\n",
       "      <th></th>\n",
       "      <th></th>\n",
       "      <th></th>\n",
       "    </tr>\n",
       "  </thead>\n",
       "  <tbody>\n",
       "    <tr>\n",
       "      <th>2020-01-22</th>\n",
       "      <td>Washington</td>\n",
       "      <td>US</td>\n",
       "      <td>1.0</td>\n",
       "      <td>0.0</td>\n",
       "      <td>0.0</td>\n",
       "      <td>WA</td>\n",
       "      <td>1.313216e-07</td>\n",
       "      <td>0.000000</td>\n",
       "      <td>0.0</td>\n",
       "    </tr>\n",
       "    <tr>\n",
       "      <th>2020-01-23</th>\n",
       "      <td>Washington</td>\n",
       "      <td>US</td>\n",
       "      <td>1.0</td>\n",
       "      <td>0.0</td>\n",
       "      <td>0.0</td>\n",
       "      <td>WA</td>\n",
       "      <td>1.313216e-07</td>\n",
       "      <td>0.000000</td>\n",
       "      <td>0.0</td>\n",
       "    </tr>\n",
       "    <tr>\n",
       "      <th>2020-01-24</th>\n",
       "      <td>Washington</td>\n",
       "      <td>US</td>\n",
       "      <td>1.0</td>\n",
       "      <td>0.0</td>\n",
       "      <td>0.0</td>\n",
       "      <td>WA</td>\n",
       "      <td>1.313216e-07</td>\n",
       "      <td>0.000000</td>\n",
       "      <td>0.0</td>\n",
       "    </tr>\n",
       "    <tr>\n",
       "      <th>2020-01-24</th>\n",
       "      <td>Chicago</td>\n",
       "      <td>US</td>\n",
       "      <td>1.0</td>\n",
       "      <td>0.0</td>\n",
       "      <td>0.0</td>\n",
       "      <td>IL</td>\n",
       "      <td>7.891526e-08</td>\n",
       "      <td>0.000000</td>\n",
       "      <td>0.0</td>\n",
       "    </tr>\n",
       "    <tr>\n",
       "      <th>2020-01-25</th>\n",
       "      <td>Washington</td>\n",
       "      <td>US</td>\n",
       "      <td>1.0</td>\n",
       "      <td>0.0</td>\n",
       "      <td>0.0</td>\n",
       "      <td>WA</td>\n",
       "      <td>1.313216e-07</td>\n",
       "      <td>0.000000</td>\n",
       "      <td>0.0</td>\n",
       "    </tr>\n",
       "    <tr>\n",
       "      <th>...</th>\n",
       "      <td>...</td>\n",
       "      <td>...</td>\n",
       "      <td>...</td>\n",
       "      <td>...</td>\n",
       "      <td>...</td>\n",
       "      <td>...</td>\n",
       "      <td>...</td>\n",
       "      <td>...</td>\n",
       "      <td>...</td>\n",
       "    </tr>\n",
       "    <tr>\n",
       "      <th>2020-11-15</th>\n",
       "      <td>Ohio</td>\n",
       "      <td>US</td>\n",
       "      <td>298096.0</td>\n",
       "      <td>5722.0</td>\n",
       "      <td>0.0</td>\n",
       "      <td>OH</td>\n",
       "      <td>2.550205e-02</td>\n",
       "      <td>0.000490</td>\n",
       "      <td>0.0</td>\n",
       "    </tr>\n",
       "    <tr>\n",
       "      <th>2020-11-15</th>\n",
       "      <td>Alaska</td>\n",
       "      <td>US</td>\n",
       "      <td>23814.0</td>\n",
       "      <td>98.0</td>\n",
       "      <td>0.0</td>\n",
       "      <td>AK</td>\n",
       "      <td>3.255302e-02</td>\n",
       "      <td>0.000134</td>\n",
       "      <td>0.0</td>\n",
       "    </tr>\n",
       "    <tr>\n",
       "      <th>2020-11-15</th>\n",
       "      <td>Texas</td>\n",
       "      <td>US</td>\n",
       "      <td>1059753.0</td>\n",
       "      <td>20002.0</td>\n",
       "      <td>0.0</td>\n",
       "      <td>TX</td>\n",
       "      <td>3.654840e-02</td>\n",
       "      <td>0.000690</td>\n",
       "      <td>0.0</td>\n",
       "    </tr>\n",
       "    <tr>\n",
       "      <th>2020-11-15</th>\n",
       "      <td>Tennessee</td>\n",
       "      <td>US</td>\n",
       "      <td>310937.0</td>\n",
       "      <td>3893.0</td>\n",
       "      <td>0.0</td>\n",
       "      <td>TN</td>\n",
       "      <td>4.553069e-02</td>\n",
       "      <td>0.000570</td>\n",
       "      <td>0.0</td>\n",
       "    </tr>\n",
       "    <tr>\n",
       "      <th>2020-11-15</th>\n",
       "      <td>Puerto Rico</td>\n",
       "      <td>US</td>\n",
       "      <td>42479.0</td>\n",
       "      <td>935.0</td>\n",
       "      <td>0.0</td>\n",
       "      <td>PR</td>\n",
       "      <td>1.330090e-02</td>\n",
       "      <td>0.000293</td>\n",
       "      <td>0.0</td>\n",
       "    </tr>\n",
       "  </tbody>\n",
       "</table>\n",
       "<p>13925 rows × 9 columns</p>\n",
       "</div>"
      ],
      "text/plain": [
       "           Province/State Country/Region  Confirmed   Deaths  Recovered state  \\\n",
       "Date                                                                            \n",
       "2020-01-22     Washington             US        1.0      0.0        0.0    WA   \n",
       "2020-01-23     Washington             US        1.0      0.0        0.0    WA   \n",
       "2020-01-24     Washington             US        1.0      0.0        0.0    WA   \n",
       "2020-01-24        Chicago             US        1.0      0.0        0.0    IL   \n",
       "2020-01-25     Washington             US        1.0      0.0        0.0    WA   \n",
       "...                   ...            ...        ...      ...        ...   ...   \n",
       "2020-11-15           Ohio             US   298096.0   5722.0        0.0    OH   \n",
       "2020-11-15         Alaska             US    23814.0     98.0        0.0    AK   \n",
       "2020-11-15          Texas             US  1059753.0  20002.0        0.0    TX   \n",
       "2020-11-15      Tennessee             US   310937.0   3893.0        0.0    TN   \n",
       "2020-11-15    Puerto Rico             US    42479.0    935.0        0.0    PR   \n",
       "\n",
       "            Confirmed Per Capita  Deaths Per Capita  Recovered Per Capita  \n",
       "Date                                                                       \n",
       "2020-01-22          1.313216e-07           0.000000                   0.0  \n",
       "2020-01-23          1.313216e-07           0.000000                   0.0  \n",
       "2020-01-24          1.313216e-07           0.000000                   0.0  \n",
       "2020-01-24          7.891526e-08           0.000000                   0.0  \n",
       "2020-01-25          1.313216e-07           0.000000                   0.0  \n",
       "...                          ...                ...                   ...  \n",
       "2020-11-15          2.550205e-02           0.000490                   0.0  \n",
       "2020-11-15          3.255302e-02           0.000134                   0.0  \n",
       "2020-11-15          3.654840e-02           0.000690                   0.0  \n",
       "2020-11-15          4.553069e-02           0.000570                   0.0  \n",
       "2020-11-15          1.330090e-02           0.000293                   0.0  \n",
       "\n",
       "[13925 rows x 9 columns]"
      ]
     },
     "execution_count": 21,
     "metadata": {},
     "output_type": "execute_result"
    }
   ],
   "source": [
    "# pd.date_range()\n",
    "df_states_ts = df_states.copy()\n",
    "df_states_ts.set_index(\"Date\",inplace=True)\n",
    "df_states_ts.sort_index(inplace=True)\n",
    "df_states_ts\n"
   ]
  },
  {
   "cell_type": "code",
   "execution_count": 22,
   "metadata": {
    "ExecuteTime": {
     "end_time": "2020-11-19T23:13:55.711778Z",
     "start_time": "2020-11-19T23:13:55.587970Z"
    }
   },
   "outputs": [
    {
     "data": {
      "text/html": [
       "<div>\n",
       "<style scoped>\n",
       "    .dataframe tbody tr th:only-of-type {\n",
       "        vertical-align: middle;\n",
       "    }\n",
       "\n",
       "    .dataframe tbody tr th {\n",
       "        vertical-align: top;\n",
       "    }\n",
       "\n",
       "    .dataframe thead th {\n",
       "        text-align: right;\n",
       "    }\n",
       "</style>\n",
       "<table border=\"1\" class=\"dataframe\">\n",
       "  <thead>\n",
       "    <tr style=\"text-align: right;\">\n",
       "      <th></th>\n",
       "      <th>Province/State</th>\n",
       "      <th>Country/Region</th>\n",
       "      <th>Confirmed</th>\n",
       "      <th>Deaths</th>\n",
       "      <th>Recovered</th>\n",
       "      <th>state</th>\n",
       "      <th>Confirmed Per Capita</th>\n",
       "      <th>Deaths Per Capita</th>\n",
       "      <th>Recovered Per Capita</th>\n",
       "    </tr>\n",
       "    <tr>\n",
       "      <th>Date</th>\n",
       "      <th></th>\n",
       "      <th></th>\n",
       "      <th></th>\n",
       "      <th></th>\n",
       "      <th></th>\n",
       "      <th></th>\n",
       "      <th></th>\n",
       "      <th></th>\n",
       "      <th></th>\n",
       "    </tr>\n",
       "  </thead>\n",
       "  <tbody>\n",
       "    <tr>\n",
       "      <th>2020-11-08</th>\n",
       "      <td>Idaho</td>\n",
       "      <td>US</td>\n",
       "      <td>72961.0</td>\n",
       "      <td>686.0</td>\n",
       "      <td>0.0</td>\n",
       "      <td>ID</td>\n",
       "      <td>0.040827</td>\n",
       "      <td>0.000384</td>\n",
       "      <td>0.0</td>\n",
       "    </tr>\n",
       "    <tr>\n",
       "      <th>2020-11-08</th>\n",
       "      <td>Texas</td>\n",
       "      <td>US</td>\n",
       "      <td>990930.0</td>\n",
       "      <td>19184.0</td>\n",
       "      <td>0.0</td>\n",
       "      <td>TX</td>\n",
       "      <td>0.034175</td>\n",
       "      <td>0.000662</td>\n",
       "      <td>0.0</td>\n",
       "    </tr>\n",
       "    <tr>\n",
       "      <th>2020-11-08</th>\n",
       "      <td>Illinois</td>\n",
       "      <td>US</td>\n",
       "      <td>487987.0</td>\n",
       "      <td>10538.0</td>\n",
       "      <td>0.0</td>\n",
       "      <td>IL</td>\n",
       "      <td>0.038510</td>\n",
       "      <td>0.000832</td>\n",
       "      <td>0.0</td>\n",
       "    </tr>\n",
       "    <tr>\n",
       "      <th>2020-11-08</th>\n",
       "      <td>Nevada</td>\n",
       "      <td>US</td>\n",
       "      <td>110022.0</td>\n",
       "      <td>1851.0</td>\n",
       "      <td>0.0</td>\n",
       "      <td>NV</td>\n",
       "      <td>0.035720</td>\n",
       "      <td>0.000601</td>\n",
       "      <td>0.0</td>\n",
       "    </tr>\n",
       "    <tr>\n",
       "      <th>2020-11-08</th>\n",
       "      <td>Wisconsin</td>\n",
       "      <td>US</td>\n",
       "      <td>281910.0</td>\n",
       "      <td>2312.0</td>\n",
       "      <td>0.0</td>\n",
       "      <td>WI</td>\n",
       "      <td>0.048418</td>\n",
       "      <td>0.000397</td>\n",
       "      <td>0.0</td>\n",
       "    </tr>\n",
       "    <tr>\n",
       "      <th>...</th>\n",
       "      <td>...</td>\n",
       "      <td>...</td>\n",
       "      <td>...</td>\n",
       "      <td>...</td>\n",
       "      <td>...</td>\n",
       "      <td>...</td>\n",
       "      <td>...</td>\n",
       "      <td>...</td>\n",
       "      <td>...</td>\n",
       "    </tr>\n",
       "    <tr>\n",
       "      <th>2020-11-15</th>\n",
       "      <td>Ohio</td>\n",
       "      <td>US</td>\n",
       "      <td>298096.0</td>\n",
       "      <td>5722.0</td>\n",
       "      <td>0.0</td>\n",
       "      <td>OH</td>\n",
       "      <td>0.025502</td>\n",
       "      <td>0.000490</td>\n",
       "      <td>0.0</td>\n",
       "    </tr>\n",
       "    <tr>\n",
       "      <th>2020-11-15</th>\n",
       "      <td>Alaska</td>\n",
       "      <td>US</td>\n",
       "      <td>23814.0</td>\n",
       "      <td>98.0</td>\n",
       "      <td>0.0</td>\n",
       "      <td>AK</td>\n",
       "      <td>0.032553</td>\n",
       "      <td>0.000134</td>\n",
       "      <td>0.0</td>\n",
       "    </tr>\n",
       "    <tr>\n",
       "      <th>2020-11-15</th>\n",
       "      <td>Texas</td>\n",
       "      <td>US</td>\n",
       "      <td>1059753.0</td>\n",
       "      <td>20002.0</td>\n",
       "      <td>0.0</td>\n",
       "      <td>TX</td>\n",
       "      <td>0.036548</td>\n",
       "      <td>0.000690</td>\n",
       "      <td>0.0</td>\n",
       "    </tr>\n",
       "    <tr>\n",
       "      <th>2020-11-15</th>\n",
       "      <td>Tennessee</td>\n",
       "      <td>US</td>\n",
       "      <td>310937.0</td>\n",
       "      <td>3893.0</td>\n",
       "      <td>0.0</td>\n",
       "      <td>TN</td>\n",
       "      <td>0.045531</td>\n",
       "      <td>0.000570</td>\n",
       "      <td>0.0</td>\n",
       "    </tr>\n",
       "    <tr>\n",
       "      <th>2020-11-15</th>\n",
       "      <td>Puerto Rico</td>\n",
       "      <td>US</td>\n",
       "      <td>42479.0</td>\n",
       "      <td>935.0</td>\n",
       "      <td>0.0</td>\n",
       "      <td>PR</td>\n",
       "      <td>0.013301</td>\n",
       "      <td>0.000293</td>\n",
       "      <td>0.0</td>\n",
       "    </tr>\n",
       "  </tbody>\n",
       "</table>\n",
       "<p>416 rows × 9 columns</p>\n",
       "</div>"
      ],
      "text/plain": [
       "           Province/State Country/Region  Confirmed   Deaths  Recovered state  \\\n",
       "Date                                                                            \n",
       "2020-11-08          Idaho             US    72961.0    686.0        0.0    ID   \n",
       "2020-11-08          Texas             US   990930.0  19184.0        0.0    TX   \n",
       "2020-11-08       Illinois             US   487987.0  10538.0        0.0    IL   \n",
       "2020-11-08         Nevada             US   110022.0   1851.0        0.0    NV   \n",
       "2020-11-08      Wisconsin             US   281910.0   2312.0        0.0    WI   \n",
       "...                   ...            ...        ...      ...        ...   ...   \n",
       "2020-11-15           Ohio             US   298096.0   5722.0        0.0    OH   \n",
       "2020-11-15         Alaska             US    23814.0     98.0        0.0    AK   \n",
       "2020-11-15          Texas             US  1059753.0  20002.0        0.0    TX   \n",
       "2020-11-15      Tennessee             US   310937.0   3893.0        0.0    TN   \n",
       "2020-11-15    Puerto Rico             US    42479.0    935.0        0.0    PR   \n",
       "\n",
       "            Confirmed Per Capita  Deaths Per Capita  Recovered Per Capita  \n",
       "Date                                                                       \n",
       "2020-11-08              0.040827           0.000384                   0.0  \n",
       "2020-11-08              0.034175           0.000662                   0.0  \n",
       "2020-11-08              0.038510           0.000832                   0.0  \n",
       "2020-11-08              0.035720           0.000601                   0.0  \n",
       "2020-11-08              0.048418           0.000397                   0.0  \n",
       "...                          ...                ...                   ...  \n",
       "2020-11-15              0.025502           0.000490                   0.0  \n",
       "2020-11-15              0.032553           0.000134                   0.0  \n",
       "2020-11-15              0.036548           0.000690                   0.0  \n",
       "2020-11-15              0.045531           0.000570                   0.0  \n",
       "2020-11-15              0.013301           0.000293                   0.0  \n",
       "\n",
       "[416 rows x 9 columns]"
      ]
     },
     "execution_count": 22,
     "metadata": {},
     "output_type": "execute_result"
    }
   ],
   "source": [
    "def last_N_days(N=7,end =None):\n",
    "    \"\"\"Calculates the date that is N days before the end date. \n",
    "    If not specified, end = today\"\"\"\n",
    "    if end is None:\n",
    "        end = datetime.today()\n",
    "    return end-pd.Timedelta(f'{N} days')\n",
    "\n",
    "## Getting the \n",
    "df_states_ts.loc[last_N_days(N=7,end=df_states[\"Date\"].max()):]"
   ]
  },
  {
   "cell_type": "markdown",
   "metadata": {},
   "source": [
    "## TO DO 11/19/20"
   ]
  },
  {
   "cell_type": "markdown",
   "metadata": {},
   "source": [
    "- [ ] Filter-able time period for map\n",
    "- Check and verify aggregation function in data classes\n",
    "    - `get_group_ts`\n",
    "    - Using `sum` aggregation function. Change to... `.last()`?"
   ]
  },
  {
   "cell_type": "code",
   "execution_count": 23,
   "metadata": {
    "ExecuteTime": {
     "end_time": "2020-11-19T23:13:55.823523Z",
     "start_time": "2020-11-19T23:13:55.713995Z"
    }
   },
   "outputs": [
    {
     "data": {
      "text/plain": [
       "Timestamp('2020-11-15 00:00:00')"
      ]
     },
     "execution_count": 23,
     "metadata": {},
     "output_type": "execute_result"
    }
   ],
   "source": [
    "df_states['Date'].max()"
   ]
  },
  {
   "cell_type": "code",
   "execution_count": 24,
   "metadata": {
    "ExecuteTime": {
     "end_time": "2020-11-19T23:13:56.014244Z",
     "start_time": "2020-11-19T23:13:55.825390Z"
    }
   },
   "outputs": [
    {
     "data": {
      "application/vnd.plotly.v1+json": {
       "config": {
        "plotlyServerURL": "https://plot.ly",
        "scrollZoom": false
       },
       "data": [
        {
         "coloraxis": "coloraxis",
         "customdata": [
          [
           23814,
           98,
           0
          ],
          [
           217822,
           3248,
           0
          ],
          [
           133040,
           2183,
           0
          ],
          [
           275436,
           6302,
           1
          ],
          [
           1032095,
           18262,
           6
          ],
          [
           163417,
           2546,
           0
          ],
          [
           88645,
           4737,
           0
          ],
          [
           18977,
           660,
           0
          ],
          [
           28803,
           736,
           0
          ],
          [
           885201,
           17518,
           0
          ],
          [
           424989,
           8957,
           0
          ],
          [
           16759,
           222,
           0
          ],
          [
           186314,
           1989,
           0
          ],
          [
           82245,
           759,
           0
          ],
          [
           573616,
           11162,
           2
          ],
          [
           251597,
           4910,
           0
          ],
          [
           117564,
           1184,
           0
          ],
          [
           137586,
           1661,
           1
          ],
          [
           201981,
           6121,
           0
          ],
          [
           188275,
           10329,
           1
          ],
          [
           165930,
           4302,
           3
          ],
          [
           8944,
           165,
           0
          ],
          [
           275792,
           8376,
           5
          ],
          [
           223581,
           2961,
           0
          ],
          [
           244541,
           3387,
           0
          ],
          [
           134309,
           3543,
           0
          ],
          [
           47158,
           520,
           0
          ],
          [
           312235,
           4806,
           0
          ],
          [
           63796,
           736,
           0
          ],
          [
           98161,
           779,
           0
          ],
          [
           14682,
           499,
           0
          ],
          [
           279274,
           16566,
           1
          ],
          [
           64201,
           1215,
           0
          ],
          [
           120183,
           1909,
           0
          ],
          [
           560200,
           34032,
           0
          ],
          [
           298096,
           5722,
           0
          ],
          [
           154128,
           1528,
           0
          ],
          [
           56880,
           761,
           0
          ],
          [
           268696,
           9290,
           0
          ],
          [
           72166,
           935,
           0
          ],
          [
           41529,
           1254,
           0
          ],
          [
           195507,
           4112,
           0
          ],
          [
           65381,
           644,
           0
          ],
          [
           310937,
           3893,
           0
          ],
          [
           1059753,
           20002,
           0
          ],
          [
           153808,
           718,
           0
          ],
          [
           201960,
           3800,
           0
          ],
          [
           2889,
           59,
           0
          ],
          [
           130040,
           2519,
           1
          ],
          [
           329924,
           2751,
           1
          ],
          [
           33659,
           582,
           0
          ],
          [
           22494,
           144,
           0
          ]
         ],
         "geo": "geo",
         "hovertemplate": "<b>%{hovertext}</b><br><br>state=%{location}<br>Confirmed=%{z}<br>Deaths=%{customdata[1]}<br>Recovered=%{customdata[2]}<extra></extra>",
         "hovertext": [
          "AK",
          "AL",
          "AR",
          "AZ",
          "CA",
          "CO",
          "CT",
          "DC",
          "DE",
          "FL",
          "GA",
          "HI",
          "IA",
          "ID",
          "IL",
          "IN",
          "KS",
          "KY",
          "LA",
          "MA",
          "MD",
          "ME",
          "MI",
          "MN",
          "MO",
          "MS",
          "MT",
          "NC",
          "ND",
          "NE",
          "NH",
          "NJ",
          "NM",
          "NV",
          "NY",
          "OH",
          "OK",
          "OR",
          "PA",
          "PR",
          "RI",
          "SC",
          "SD",
          "TN",
          "TX",
          "UT",
          "VA",
          "VT",
          "WA",
          "WI",
          "WV",
          "WY"
         ],
         "locationmode": "USA-states",
         "locations": [
          "AK",
          "AL",
          "AR",
          "AZ",
          "CA",
          "CO",
          "CT",
          "DC",
          "DE",
          "FL",
          "GA",
          "HI",
          "IA",
          "ID",
          "IL",
          "IN",
          "KS",
          "KY",
          "LA",
          "MA",
          "MD",
          "ME",
          "MI",
          "MN",
          "MO",
          "MS",
          "MT",
          "NC",
          "ND",
          "NE",
          "NH",
          "NJ",
          "NM",
          "NV",
          "NY",
          "OH",
          "OK",
          "OR",
          "PA",
          "PR",
          "RI",
          "SC",
          "SD",
          "TN",
          "TX",
          "UT",
          "VA",
          "VT",
          "WA",
          "WI",
          "WV",
          "WY"
         ],
         "name": "",
         "type": "choropleth",
         "z": [
          23814,
          217822,
          133040,
          275436,
          1032095,
          163417,
          88645,
          18977,
          28803,
          885201,
          424989,
          16759,
          186314,
          82245,
          573616,
          251597,
          117564,
          137586,
          201981,
          188275,
          165930,
          8944,
          275792,
          223581,
          244541,
          134309,
          47158,
          312235,
          63796,
          98161,
          14682,
          279274,
          64201,
          120183,
          560200,
          298096,
          154128,
          56880,
          268696,
          72166,
          41529,
          195507,
          65381,
          310937,
          1059753,
          153808,
          201960,
          2889,
          130040,
          329924,
          33659,
          22494
         ]
        }
       ],
       "layout": {
        "autosize": true,
        "coloraxis": {
         "colorbar": {
          "title": {
           "text": "Confirmed"
          }
         },
         "colorscale": [
          [
           0,
           "rgb(255,245,240)"
          ],
          [
           0.125,
           "rgb(254,224,210)"
          ],
          [
           0.25,
           "rgb(252,187,161)"
          ],
          [
           0.375,
           "rgb(252,146,114)"
          ],
          [
           0.5,
           "rgb(251,106,74)"
          ],
          [
           0.625,
           "rgb(239,59,44)"
          ],
          [
           0.75,
           "rgb(203,24,29)"
          ],
          [
           0.875,
           "rgb(165,15,21)"
          ],
          [
           1,
           "rgb(103,0,13)"
          ]
         ]
        },
        "geo": {
         "center": {},
         "domain": {
          "x": [
           0,
           1
          ],
          "y": [
           0,
           1
          ]
         },
         "scope": "usa"
        },
        "legend": {
         "tracegroupgap": 0
        },
        "template": {
         "data": {
          "bar": [
           {
            "error_x": {
             "color": "#f2f5fa"
            },
            "error_y": {
             "color": "#f2f5fa"
            },
            "marker": {
             "line": {
              "color": "rgb(17,17,17)",
              "width": 0.5
             }
            },
            "type": "bar"
           }
          ],
          "barpolar": [
           {
            "marker": {
             "line": {
              "color": "rgb(17,17,17)",
              "width": 0.5
             }
            },
            "type": "barpolar"
           }
          ],
          "carpet": [
           {
            "aaxis": {
             "endlinecolor": "#A2B1C6",
             "gridcolor": "#506784",
             "linecolor": "#506784",
             "minorgridcolor": "#506784",
             "startlinecolor": "#A2B1C6"
            },
            "baxis": {
             "endlinecolor": "#A2B1C6",
             "gridcolor": "#506784",
             "linecolor": "#506784",
             "minorgridcolor": "#506784",
             "startlinecolor": "#A2B1C6"
            },
            "type": "carpet"
           }
          ],
          "choropleth": [
           {
            "colorbar": {
             "outlinewidth": 0,
             "ticks": ""
            },
            "type": "choropleth"
           }
          ],
          "contour": [
           {
            "colorbar": {
             "outlinewidth": 0,
             "ticks": ""
            },
            "colorscale": [
             [
              0,
              "#0d0887"
             ],
             [
              0.1111111111111111,
              "#46039f"
             ],
             [
              0.2222222222222222,
              "#7201a8"
             ],
             [
              0.3333333333333333,
              "#9c179e"
             ],
             [
              0.4444444444444444,
              "#bd3786"
             ],
             [
              0.5555555555555556,
              "#d8576b"
             ],
             [
              0.6666666666666666,
              "#ed7953"
             ],
             [
              0.7777777777777778,
              "#fb9f3a"
             ],
             [
              0.8888888888888888,
              "#fdca26"
             ],
             [
              1,
              "#f0f921"
             ]
            ],
            "type": "contour"
           }
          ],
          "contourcarpet": [
           {
            "colorbar": {
             "outlinewidth": 0,
             "ticks": ""
            },
            "type": "contourcarpet"
           }
          ],
          "heatmap": [
           {
            "colorbar": {
             "outlinewidth": 0,
             "ticks": ""
            },
            "colorscale": [
             [
              0,
              "#0d0887"
             ],
             [
              0.1111111111111111,
              "#46039f"
             ],
             [
              0.2222222222222222,
              "#7201a8"
             ],
             [
              0.3333333333333333,
              "#9c179e"
             ],
             [
              0.4444444444444444,
              "#bd3786"
             ],
             [
              0.5555555555555556,
              "#d8576b"
             ],
             [
              0.6666666666666666,
              "#ed7953"
             ],
             [
              0.7777777777777778,
              "#fb9f3a"
             ],
             [
              0.8888888888888888,
              "#fdca26"
             ],
             [
              1,
              "#f0f921"
             ]
            ],
            "type": "heatmap"
           }
          ],
          "heatmapgl": [
           {
            "colorbar": {
             "outlinewidth": 0,
             "ticks": ""
            },
            "colorscale": [
             [
              0,
              "#0d0887"
             ],
             [
              0.1111111111111111,
              "#46039f"
             ],
             [
              0.2222222222222222,
              "#7201a8"
             ],
             [
              0.3333333333333333,
              "#9c179e"
             ],
             [
              0.4444444444444444,
              "#bd3786"
             ],
             [
              0.5555555555555556,
              "#d8576b"
             ],
             [
              0.6666666666666666,
              "#ed7953"
             ],
             [
              0.7777777777777778,
              "#fb9f3a"
             ],
             [
              0.8888888888888888,
              "#fdca26"
             ],
             [
              1,
              "#f0f921"
             ]
            ],
            "type": "heatmapgl"
           }
          ],
          "histogram": [
           {
            "marker": {
             "colorbar": {
              "outlinewidth": 0,
              "ticks": ""
             }
            },
            "type": "histogram"
           }
          ],
          "histogram2d": [
           {
            "colorbar": {
             "outlinewidth": 0,
             "ticks": ""
            },
            "colorscale": [
             [
              0,
              "#0d0887"
             ],
             [
              0.1111111111111111,
              "#46039f"
             ],
             [
              0.2222222222222222,
              "#7201a8"
             ],
             [
              0.3333333333333333,
              "#9c179e"
             ],
             [
              0.4444444444444444,
              "#bd3786"
             ],
             [
              0.5555555555555556,
              "#d8576b"
             ],
             [
              0.6666666666666666,
              "#ed7953"
             ],
             [
              0.7777777777777778,
              "#fb9f3a"
             ],
             [
              0.8888888888888888,
              "#fdca26"
             ],
             [
              1,
              "#f0f921"
             ]
            ],
            "type": "histogram2d"
           }
          ],
          "histogram2dcontour": [
           {
            "colorbar": {
             "outlinewidth": 0,
             "ticks": ""
            },
            "colorscale": [
             [
              0,
              "#0d0887"
             ],
             [
              0.1111111111111111,
              "#46039f"
             ],
             [
              0.2222222222222222,
              "#7201a8"
             ],
             [
              0.3333333333333333,
              "#9c179e"
             ],
             [
              0.4444444444444444,
              "#bd3786"
             ],
             [
              0.5555555555555556,
              "#d8576b"
             ],
             [
              0.6666666666666666,
              "#ed7953"
             ],
             [
              0.7777777777777778,
              "#fb9f3a"
             ],
             [
              0.8888888888888888,
              "#fdca26"
             ],
             [
              1,
              "#f0f921"
             ]
            ],
            "type": "histogram2dcontour"
           }
          ],
          "mesh3d": [
           {
            "colorbar": {
             "outlinewidth": 0,
             "ticks": ""
            },
            "type": "mesh3d"
           }
          ],
          "parcoords": [
           {
            "line": {
             "colorbar": {
              "outlinewidth": 0,
              "ticks": ""
             }
            },
            "type": "parcoords"
           }
          ],
          "pie": [
           {
            "automargin": true,
            "type": "pie"
           }
          ],
          "scatter": [
           {
            "marker": {
             "line": {
              "color": "#283442"
             }
            },
            "type": "scatter"
           }
          ],
          "scatter3d": [
           {
            "line": {
             "colorbar": {
              "outlinewidth": 0,
              "ticks": ""
             }
            },
            "marker": {
             "colorbar": {
              "outlinewidth": 0,
              "ticks": ""
             }
            },
            "type": "scatter3d"
           }
          ],
          "scattercarpet": [
           {
            "marker": {
             "colorbar": {
              "outlinewidth": 0,
              "ticks": ""
             }
            },
            "type": "scattercarpet"
           }
          ],
          "scattergeo": [
           {
            "marker": {
             "colorbar": {
              "outlinewidth": 0,
              "ticks": ""
             }
            },
            "type": "scattergeo"
           }
          ],
          "scattergl": [
           {
            "marker": {
             "line": {
              "color": "#283442"
             }
            },
            "type": "scattergl"
           }
          ],
          "scattermapbox": [
           {
            "marker": {
             "colorbar": {
              "outlinewidth": 0,
              "ticks": ""
             }
            },
            "type": "scattermapbox"
           }
          ],
          "scatterpolar": [
           {
            "marker": {
             "colorbar": {
              "outlinewidth": 0,
              "ticks": ""
             }
            },
            "type": "scatterpolar"
           }
          ],
          "scatterpolargl": [
           {
            "marker": {
             "colorbar": {
              "outlinewidth": 0,
              "ticks": ""
             }
            },
            "type": "scatterpolargl"
           }
          ],
          "scatterternary": [
           {
            "marker": {
             "colorbar": {
              "outlinewidth": 0,
              "ticks": ""
             }
            },
            "type": "scatterternary"
           }
          ],
          "surface": [
           {
            "colorbar": {
             "outlinewidth": 0,
             "ticks": ""
            },
            "colorscale": [
             [
              0,
              "#0d0887"
             ],
             [
              0.1111111111111111,
              "#46039f"
             ],
             [
              0.2222222222222222,
              "#7201a8"
             ],
             [
              0.3333333333333333,
              "#9c179e"
             ],
             [
              0.4444444444444444,
              "#bd3786"
             ],
             [
              0.5555555555555556,
              "#d8576b"
             ],
             [
              0.6666666666666666,
              "#ed7953"
             ],
             [
              0.7777777777777778,
              "#fb9f3a"
             ],
             [
              0.8888888888888888,
              "#fdca26"
             ],
             [
              1,
              "#f0f921"
             ]
            ],
            "type": "surface"
           }
          ],
          "table": [
           {
            "cells": {
             "fill": {
              "color": "#506784"
             },
             "line": {
              "color": "rgb(17,17,17)"
             }
            },
            "header": {
             "fill": {
              "color": "#2a3f5f"
             },
             "line": {
              "color": "rgb(17,17,17)"
             }
            },
            "type": "table"
           }
          ]
         },
         "layout": {
          "annotationdefaults": {
           "arrowcolor": "#f2f5fa",
           "arrowhead": 0,
           "arrowwidth": 1
          },
          "coloraxis": {
           "colorbar": {
            "outlinewidth": 0,
            "ticks": ""
           }
          },
          "colorscale": {
           "diverging": [
            [
             0,
             "#8e0152"
            ],
            [
             0.1,
             "#c51b7d"
            ],
            [
             0.2,
             "#de77ae"
            ],
            [
             0.3,
             "#f1b6da"
            ],
            [
             0.4,
             "#fde0ef"
            ],
            [
             0.5,
             "#f7f7f7"
            ],
            [
             0.6,
             "#e6f5d0"
            ],
            [
             0.7,
             "#b8e186"
            ],
            [
             0.8,
             "#7fbc41"
            ],
            [
             0.9,
             "#4d9221"
            ],
            [
             1,
             "#276419"
            ]
           ],
           "sequential": [
            [
             0,
             "#0d0887"
            ],
            [
             0.1111111111111111,
             "#46039f"
            ],
            [
             0.2222222222222222,
             "#7201a8"
            ],
            [
             0.3333333333333333,
             "#9c179e"
            ],
            [
             0.4444444444444444,
             "#bd3786"
            ],
            [
             0.5555555555555556,
             "#d8576b"
            ],
            [
             0.6666666666666666,
             "#ed7953"
            ],
            [
             0.7777777777777778,
             "#fb9f3a"
            ],
            [
             0.8888888888888888,
             "#fdca26"
            ],
            [
             1,
             "#f0f921"
            ]
           ],
           "sequentialminus": [
            [
             0,
             "#0d0887"
            ],
            [
             0.1111111111111111,
             "#46039f"
            ],
            [
             0.2222222222222222,
             "#7201a8"
            ],
            [
             0.3333333333333333,
             "#9c179e"
            ],
            [
             0.4444444444444444,
             "#bd3786"
            ],
            [
             0.5555555555555556,
             "#d8576b"
            ],
            [
             0.6666666666666666,
             "#ed7953"
            ],
            [
             0.7777777777777778,
             "#fb9f3a"
            ],
            [
             0.8888888888888888,
             "#fdca26"
            ],
            [
             1,
             "#f0f921"
            ]
           ]
          },
          "colorway": [
           "#636efa",
           "#EF553B",
           "#00cc96",
           "#ab63fa",
           "#FFA15A",
           "#19d3f3",
           "#FF6692",
           "#B6E880",
           "#FF97FF",
           "#FECB52"
          ],
          "font": {
           "color": "#f2f5fa"
          },
          "geo": {
           "bgcolor": "rgb(17,17,17)",
           "lakecolor": "rgb(17,17,17)",
           "landcolor": "rgb(17,17,17)",
           "showlakes": true,
           "showland": true,
           "subunitcolor": "#506784"
          },
          "hoverlabel": {
           "align": "left"
          },
          "hovermode": "closest",
          "mapbox": {
           "style": "dark"
          },
          "paper_bgcolor": "rgb(17,17,17)",
          "plot_bgcolor": "rgb(17,17,17)",
          "polar": {
           "angularaxis": {
            "gridcolor": "#506784",
            "linecolor": "#506784",
            "ticks": ""
           },
           "bgcolor": "rgb(17,17,17)",
           "radialaxis": {
            "gridcolor": "#506784",
            "linecolor": "#506784",
            "ticks": ""
           }
          },
          "scene": {
           "xaxis": {
            "backgroundcolor": "rgb(17,17,17)",
            "gridcolor": "#506784",
            "gridwidth": 2,
            "linecolor": "#506784",
            "showbackground": true,
            "ticks": "",
            "zerolinecolor": "#C8D4E3"
           },
           "yaxis": {
            "backgroundcolor": "rgb(17,17,17)",
            "gridcolor": "#506784",
            "gridwidth": 2,
            "linecolor": "#506784",
            "showbackground": true,
            "ticks": "",
            "zerolinecolor": "#C8D4E3"
           },
           "zaxis": {
            "backgroundcolor": "rgb(17,17,17)",
            "gridcolor": "#506784",
            "gridwidth": 2,
            "linecolor": "#506784",
            "showbackground": true,
            "ticks": "",
            "zerolinecolor": "#C8D4E3"
           }
          },
          "shapedefaults": {
           "line": {
            "color": "#f2f5fa"
           }
          },
          "sliderdefaults": {
           "bgcolor": "#C8D4E3",
           "bordercolor": "rgb(17,17,17)",
           "borderwidth": 1,
           "tickwidth": 0
          },
          "ternary": {
           "aaxis": {
            "gridcolor": "#506784",
            "linecolor": "#506784",
            "ticks": ""
           },
           "baxis": {
            "gridcolor": "#506784",
            "linecolor": "#506784",
            "ticks": ""
           },
           "bgcolor": "rgb(17,17,17)",
           "caxis": {
            "gridcolor": "#506784",
            "linecolor": "#506784",
            "ticks": ""
           }
          },
          "title": {
           "x": 0.05
          },
          "updatemenudefaults": {
           "bgcolor": "#506784",
           "borderwidth": 0
          },
          "xaxis": {
           "automargin": true,
           "gridcolor": "#283442",
           "linecolor": "#506784",
           "ticks": "",
           "title": {
            "standoff": 15
           },
           "zerolinecolor": "#283442",
           "zerolinewidth": 2
          },
          "yaxis": {
           "automargin": true,
           "gridcolor": "#283442",
           "linecolor": "#506784",
           "ticks": "",
           "title": {
            "standoff": 15
           },
           "zerolinecolor": "#283442",
           "zerolinewidth": 2
          }
         }
        },
        "title": {
         "text": "Total Confirmed Cases by State from the Last 10 days"
        }
       }
      },
      "text/html": [
       "<div>                            <div id=\"67e95a15-fc25-4d31-b723-0a0e97b5d7b1\" class=\"plotly-graph-div\" style=\"height:525px; width:100%;\"></div>            <script type=\"text/javascript\">                require([\"plotly\"], function(Plotly) {                    window.PLOTLYENV=window.PLOTLYENV || {};                                    if (document.getElementById(\"67e95a15-fc25-4d31-b723-0a0e97b5d7b1\")) {                    Plotly.newPlot(                        \"67e95a15-fc25-4d31-b723-0a0e97b5d7b1\",                        [{\"coloraxis\": \"coloraxis\", \"customdata\": [[23814.0, 98.0, 0.0], [217822.0, 3248.0, 0.0], [133040.0, 2183.0, 0.0], [275436.0, 6302.0, 1.0], [1032095.0, 18262.0, 6.0], [163417.0, 2546.0, 0.0], [88645.0, 4737.0, 0.0], [18977.0, 660.0, 0.0], [28803.0, 736.0, 0.0], [885201.0, 17518.0, 0.0], [424989.0, 8957.0, 0.0], [16759.0, 222.0, 0.0], [186314.0, 1989.0, 0.0], [82245.0, 759.0, 0.0], [573616.0, 11162.0, 2.0], [251597.0, 4910.0, 0.0], [117564.0, 1184.0, 0.0], [137586.0, 1661.0, 1.0], [201981.0, 6121.0, 0.0], [188275.0, 10329.0, 1.0], [165930.0, 4302.0, 3.0], [8944.0, 165.0, 0.0], [275792.0, 8376.0, 5.0], [223581.0, 2961.0, 0.0], [244541.0, 3387.0, 0.0], [134309.0, 3543.0, 0.0], [47158.0, 520.0, 0.0], [312235.0, 4806.0, 0.0], [63796.0, 736.0, 0.0], [98161.0, 779.0, 0.0], [14682.0, 499.0, 0.0], [279274.0, 16566.0, 1.0], [64201.0, 1215.0, 0.0], [120183.0, 1909.0, 0.0], [560200.0, 34032.0, 0.0], [298096.0, 5722.0, 0.0], [154128.0, 1528.0, 0.0], [56880.0, 761.0, 0.0], [268696.0, 9290.0, 0.0], [72166.0, 935.0, 0.0], [41529.0, 1254.0, 0.0], [195507.0, 4112.0, 0.0], [65381.0, 644.0, 0.0], [310937.0, 3893.0, 0.0], [1059753.0, 20002.0, 0.0], [153808.0, 718.0, 0.0], [201960.0, 3800.0, 0.0], [2889.0, 59.0, 0.0], [130040.0, 2519.0, 1.0], [329924.0, 2751.0, 1.0], [33659.0, 582.0, 0.0], [22494.0, 144.0, 0.0]], \"geo\": \"geo\", \"hovertemplate\": \"<b>%{hovertext}</b><br><br>state=%{location}<br>Confirmed=%{z}<br>Deaths=%{customdata[1]}<br>Recovered=%{customdata[2]}<extra></extra>\", \"hovertext\": [\"AK\", \"AL\", \"AR\", \"AZ\", \"CA\", \"CO\", \"CT\", \"DC\", \"DE\", \"FL\", \"GA\", \"HI\", \"IA\", \"ID\", \"IL\", \"IN\", \"KS\", \"KY\", \"LA\", \"MA\", \"MD\", \"ME\", \"MI\", \"MN\", \"MO\", \"MS\", \"MT\", \"NC\", \"ND\", \"NE\", \"NH\", \"NJ\", \"NM\", \"NV\", \"NY\", \"OH\", \"OK\", \"OR\", \"PA\", \"PR\", \"RI\", \"SC\", \"SD\", \"TN\", \"TX\", \"UT\", \"VA\", \"VT\", \"WA\", \"WI\", \"WV\", \"WY\"], \"locationmode\": \"USA-states\", \"locations\": [\"AK\", \"AL\", \"AR\", \"AZ\", \"CA\", \"CO\", \"CT\", \"DC\", \"DE\", \"FL\", \"GA\", \"HI\", \"IA\", \"ID\", \"IL\", \"IN\", \"KS\", \"KY\", \"LA\", \"MA\", \"MD\", \"ME\", \"MI\", \"MN\", \"MO\", \"MS\", \"MT\", \"NC\", \"ND\", \"NE\", \"NH\", \"NJ\", \"NM\", \"NV\", \"NY\", \"OH\", \"OK\", \"OR\", \"PA\", \"PR\", \"RI\", \"SC\", \"SD\", \"TN\", \"TX\", \"UT\", \"VA\", \"VT\", \"WA\", \"WI\", \"WV\", \"WY\"], \"name\": \"\", \"type\": \"choropleth\", \"z\": [23814.0, 217822.0, 133040.0, 275436.0, 1032095.0, 163417.0, 88645.0, 18977.0, 28803.0, 885201.0, 424989.0, 16759.0, 186314.0, 82245.0, 573616.0, 251597.0, 117564.0, 137586.0, 201981.0, 188275.0, 165930.0, 8944.0, 275792.0, 223581.0, 244541.0, 134309.0, 47158.0, 312235.0, 63796.0, 98161.0, 14682.0, 279274.0, 64201.0, 120183.0, 560200.0, 298096.0, 154128.0, 56880.0, 268696.0, 72166.0, 41529.0, 195507.0, 65381.0, 310937.0, 1059753.0, 153808.0, 201960.0, 2889.0, 130040.0, 329924.0, 33659.0, 22494.0]}],                        {\"autosize\": true, \"coloraxis\": {\"colorbar\": {\"title\": {\"text\": \"Confirmed\"}}, \"colorscale\": [[0.0, \"rgb(255,245,240)\"], [0.125, \"rgb(254,224,210)\"], [0.25, \"rgb(252,187,161)\"], [0.375, \"rgb(252,146,114)\"], [0.5, \"rgb(251,106,74)\"], [0.625, \"rgb(239,59,44)\"], [0.75, \"rgb(203,24,29)\"], [0.875, \"rgb(165,15,21)\"], [1.0, \"rgb(103,0,13)\"]]}, \"geo\": {\"center\": {}, \"domain\": {\"x\": [0.0, 1.0], \"y\": [0.0, 1.0]}, \"scope\": \"usa\"}, \"legend\": {\"tracegroupgap\": 0}, \"template\": {\"data\": {\"bar\": [{\"error_x\": {\"color\": \"#f2f5fa\"}, \"error_y\": {\"color\": \"#f2f5fa\"}, \"marker\": {\"line\": {\"color\": \"rgb(17,17,17)\", \"width\": 0.5}}, \"type\": \"bar\"}], \"barpolar\": [{\"marker\": {\"line\": {\"color\": \"rgb(17,17,17)\", \"width\": 0.5}}, \"type\": \"barpolar\"}], \"carpet\": [{\"aaxis\": {\"endlinecolor\": \"#A2B1C6\", \"gridcolor\": \"#506784\", \"linecolor\": \"#506784\", \"minorgridcolor\": \"#506784\", \"startlinecolor\": \"#A2B1C6\"}, \"baxis\": {\"endlinecolor\": \"#A2B1C6\", \"gridcolor\": \"#506784\", \"linecolor\": \"#506784\", \"minorgridcolor\": \"#506784\", \"startlinecolor\": \"#A2B1C6\"}, \"type\": \"carpet\"}], \"choropleth\": [{\"colorbar\": {\"outlinewidth\": 0, \"ticks\": \"\"}, \"type\": \"choropleth\"}], \"contour\": [{\"colorbar\": {\"outlinewidth\": 0, \"ticks\": \"\"}, \"colorscale\": [[0.0, \"#0d0887\"], [0.1111111111111111, \"#46039f\"], [0.2222222222222222, \"#7201a8\"], [0.3333333333333333, \"#9c179e\"], [0.4444444444444444, \"#bd3786\"], [0.5555555555555556, \"#d8576b\"], [0.6666666666666666, \"#ed7953\"], [0.7777777777777778, \"#fb9f3a\"], [0.8888888888888888, \"#fdca26\"], [1.0, \"#f0f921\"]], \"type\": \"contour\"}], \"contourcarpet\": [{\"colorbar\": {\"outlinewidth\": 0, \"ticks\": \"\"}, \"type\": \"contourcarpet\"}], \"heatmap\": [{\"colorbar\": {\"outlinewidth\": 0, \"ticks\": \"\"}, \"colorscale\": [[0.0, \"#0d0887\"], [0.1111111111111111, \"#46039f\"], [0.2222222222222222, \"#7201a8\"], [0.3333333333333333, \"#9c179e\"], [0.4444444444444444, \"#bd3786\"], [0.5555555555555556, \"#d8576b\"], [0.6666666666666666, \"#ed7953\"], [0.7777777777777778, \"#fb9f3a\"], [0.8888888888888888, \"#fdca26\"], [1.0, \"#f0f921\"]], \"type\": \"heatmap\"}], \"heatmapgl\": [{\"colorbar\": {\"outlinewidth\": 0, \"ticks\": \"\"}, \"colorscale\": [[0.0, \"#0d0887\"], [0.1111111111111111, \"#46039f\"], [0.2222222222222222, \"#7201a8\"], [0.3333333333333333, \"#9c179e\"], [0.4444444444444444, \"#bd3786\"], [0.5555555555555556, \"#d8576b\"], [0.6666666666666666, \"#ed7953\"], [0.7777777777777778, \"#fb9f3a\"], [0.8888888888888888, \"#fdca26\"], [1.0, \"#f0f921\"]], \"type\": \"heatmapgl\"}], \"histogram\": [{\"marker\": {\"colorbar\": {\"outlinewidth\": 0, \"ticks\": \"\"}}, \"type\": \"histogram\"}], \"histogram2d\": [{\"colorbar\": {\"outlinewidth\": 0, \"ticks\": \"\"}, \"colorscale\": [[0.0, \"#0d0887\"], [0.1111111111111111, \"#46039f\"], [0.2222222222222222, \"#7201a8\"], [0.3333333333333333, \"#9c179e\"], [0.4444444444444444, \"#bd3786\"], [0.5555555555555556, \"#d8576b\"], [0.6666666666666666, \"#ed7953\"], [0.7777777777777778, \"#fb9f3a\"], [0.8888888888888888, \"#fdca26\"], [1.0, \"#f0f921\"]], \"type\": \"histogram2d\"}], \"histogram2dcontour\": [{\"colorbar\": {\"outlinewidth\": 0, \"ticks\": \"\"}, \"colorscale\": [[0.0, \"#0d0887\"], [0.1111111111111111, \"#46039f\"], [0.2222222222222222, \"#7201a8\"], [0.3333333333333333, \"#9c179e\"], [0.4444444444444444, \"#bd3786\"], [0.5555555555555556, \"#d8576b\"], [0.6666666666666666, \"#ed7953\"], [0.7777777777777778, \"#fb9f3a\"], [0.8888888888888888, \"#fdca26\"], [1.0, \"#f0f921\"]], \"type\": \"histogram2dcontour\"}], \"mesh3d\": [{\"colorbar\": {\"outlinewidth\": 0, \"ticks\": \"\"}, \"type\": \"mesh3d\"}], \"parcoords\": [{\"line\": {\"colorbar\": {\"outlinewidth\": 0, \"ticks\": \"\"}}, \"type\": \"parcoords\"}], \"pie\": [{\"automargin\": true, \"type\": \"pie\"}], \"scatter\": [{\"marker\": {\"line\": {\"color\": \"#283442\"}}, \"type\": \"scatter\"}], \"scatter3d\": [{\"line\": {\"colorbar\": {\"outlinewidth\": 0, \"ticks\": \"\"}}, \"marker\": {\"colorbar\": {\"outlinewidth\": 0, \"ticks\": \"\"}}, \"type\": \"scatter3d\"}], \"scattercarpet\": [{\"marker\": {\"colorbar\": {\"outlinewidth\": 0, \"ticks\": \"\"}}, \"type\": \"scattercarpet\"}], \"scattergeo\": [{\"marker\": {\"colorbar\": {\"outlinewidth\": 0, \"ticks\": \"\"}}, \"type\": \"scattergeo\"}], \"scattergl\": [{\"marker\": {\"line\": {\"color\": \"#283442\"}}, \"type\": \"scattergl\"}], \"scattermapbox\": [{\"marker\": {\"colorbar\": {\"outlinewidth\": 0, \"ticks\": \"\"}}, \"type\": \"scattermapbox\"}], \"scatterpolar\": [{\"marker\": {\"colorbar\": {\"outlinewidth\": 0, \"ticks\": \"\"}}, \"type\": \"scatterpolar\"}], \"scatterpolargl\": [{\"marker\": {\"colorbar\": {\"outlinewidth\": 0, \"ticks\": \"\"}}, \"type\": \"scatterpolargl\"}], \"scatterternary\": [{\"marker\": {\"colorbar\": {\"outlinewidth\": 0, \"ticks\": \"\"}}, \"type\": \"scatterternary\"}], \"surface\": [{\"colorbar\": {\"outlinewidth\": 0, \"ticks\": \"\"}, \"colorscale\": [[0.0, \"#0d0887\"], [0.1111111111111111, \"#46039f\"], [0.2222222222222222, \"#7201a8\"], [0.3333333333333333, \"#9c179e\"], [0.4444444444444444, \"#bd3786\"], [0.5555555555555556, \"#d8576b\"], [0.6666666666666666, \"#ed7953\"], [0.7777777777777778, \"#fb9f3a\"], [0.8888888888888888, \"#fdca26\"], [1.0, \"#f0f921\"]], \"type\": \"surface\"}], \"table\": [{\"cells\": {\"fill\": {\"color\": \"#506784\"}, \"line\": {\"color\": \"rgb(17,17,17)\"}}, \"header\": {\"fill\": {\"color\": \"#2a3f5f\"}, \"line\": {\"color\": \"rgb(17,17,17)\"}}, \"type\": \"table\"}]}, \"layout\": {\"annotationdefaults\": {\"arrowcolor\": \"#f2f5fa\", \"arrowhead\": 0, \"arrowwidth\": 1}, \"coloraxis\": {\"colorbar\": {\"outlinewidth\": 0, \"ticks\": \"\"}}, \"colorscale\": {\"diverging\": [[0, \"#8e0152\"], [0.1, \"#c51b7d\"], [0.2, \"#de77ae\"], [0.3, \"#f1b6da\"], [0.4, \"#fde0ef\"], [0.5, \"#f7f7f7\"], [0.6, \"#e6f5d0\"], [0.7, \"#b8e186\"], [0.8, \"#7fbc41\"], [0.9, \"#4d9221\"], [1, \"#276419\"]], \"sequential\": [[0.0, \"#0d0887\"], [0.1111111111111111, \"#46039f\"], [0.2222222222222222, \"#7201a8\"], [0.3333333333333333, \"#9c179e\"], [0.4444444444444444, \"#bd3786\"], [0.5555555555555556, \"#d8576b\"], [0.6666666666666666, \"#ed7953\"], [0.7777777777777778, \"#fb9f3a\"], [0.8888888888888888, \"#fdca26\"], [1.0, \"#f0f921\"]], \"sequentialminus\": [[0.0, \"#0d0887\"], [0.1111111111111111, \"#46039f\"], [0.2222222222222222, \"#7201a8\"], [0.3333333333333333, \"#9c179e\"], [0.4444444444444444, \"#bd3786\"], [0.5555555555555556, \"#d8576b\"], [0.6666666666666666, \"#ed7953\"], [0.7777777777777778, \"#fb9f3a\"], [0.8888888888888888, \"#fdca26\"], [1.0, \"#f0f921\"]]}, \"colorway\": [\"#636efa\", \"#EF553B\", \"#00cc96\", \"#ab63fa\", \"#FFA15A\", \"#19d3f3\", \"#FF6692\", \"#B6E880\", \"#FF97FF\", \"#FECB52\"], \"font\": {\"color\": \"#f2f5fa\"}, \"geo\": {\"bgcolor\": \"rgb(17,17,17)\", \"lakecolor\": \"rgb(17,17,17)\", \"landcolor\": \"rgb(17,17,17)\", \"showlakes\": true, \"showland\": true, \"subunitcolor\": \"#506784\"}, \"hoverlabel\": {\"align\": \"left\"}, \"hovermode\": \"closest\", \"mapbox\": {\"style\": \"dark\"}, \"paper_bgcolor\": \"rgb(17,17,17)\", \"plot_bgcolor\": \"rgb(17,17,17)\", \"polar\": {\"angularaxis\": {\"gridcolor\": \"#506784\", \"linecolor\": \"#506784\", \"ticks\": \"\"}, \"bgcolor\": \"rgb(17,17,17)\", \"radialaxis\": {\"gridcolor\": \"#506784\", \"linecolor\": \"#506784\", \"ticks\": \"\"}}, \"scene\": {\"xaxis\": {\"backgroundcolor\": \"rgb(17,17,17)\", \"gridcolor\": \"#506784\", \"gridwidth\": 2, \"linecolor\": \"#506784\", \"showbackground\": true, \"ticks\": \"\", \"zerolinecolor\": \"#C8D4E3\"}, \"yaxis\": {\"backgroundcolor\": \"rgb(17,17,17)\", \"gridcolor\": \"#506784\", \"gridwidth\": 2, \"linecolor\": \"#506784\", \"showbackground\": true, \"ticks\": \"\", \"zerolinecolor\": \"#C8D4E3\"}, \"zaxis\": {\"backgroundcolor\": \"rgb(17,17,17)\", \"gridcolor\": \"#506784\", \"gridwidth\": 2, \"linecolor\": \"#506784\", \"showbackground\": true, \"ticks\": \"\", \"zerolinecolor\": \"#C8D4E3\"}}, \"shapedefaults\": {\"line\": {\"color\": \"#f2f5fa\"}}, \"sliderdefaults\": {\"bgcolor\": \"#C8D4E3\", \"bordercolor\": \"rgb(17,17,17)\", \"borderwidth\": 1, \"tickwidth\": 0}, \"ternary\": {\"aaxis\": {\"gridcolor\": \"#506784\", \"linecolor\": \"#506784\", \"ticks\": \"\"}, \"baxis\": {\"gridcolor\": \"#506784\", \"linecolor\": \"#506784\", \"ticks\": \"\"}, \"bgcolor\": \"rgb(17,17,17)\", \"caxis\": {\"gridcolor\": \"#506784\", \"linecolor\": \"#506784\", \"ticks\": \"\"}}, \"title\": {\"x\": 0.05}, \"updatemenudefaults\": {\"bgcolor\": \"#506784\", \"borderwidth\": 0}, \"xaxis\": {\"automargin\": true, \"gridcolor\": \"#283442\", \"linecolor\": \"#506784\", \"ticks\": \"\", \"title\": {\"standoff\": 15}, \"zerolinecolor\": \"#283442\", \"zerolinewidth\": 2}, \"yaxis\": {\"automargin\": true, \"gridcolor\": \"#283442\", \"linecolor\": \"#506784\", \"ticks\": \"\", \"title\": {\"standoff\": 15}, \"zerolinecolor\": \"#283442\", \"zerolinewidth\": 2}}}, \"title\": {\"text\": \"Total Confirmed Cases by State from the Last 10 days\"}},                        {\"scrollZoom\": false, \"responsive\": true}                    ).then(function(){\n",
       "                            \n",
       "var gd = document.getElementById('67e95a15-fc25-4d31-b723-0a0e97b5d7b1');\n",
       "var x = new MutationObserver(function (mutations, observer) {{\n",
       "        var display = window.getComputedStyle(gd).display;\n",
       "        if (!display || display === 'none') {{\n",
       "            console.log([gd, 'removed!']);\n",
       "            Plotly.purge(gd);\n",
       "            observer.disconnect();\n",
       "        }}\n",
       "}});\n",
       "\n",
       "// Listen for the removal of the full notebook cells\n",
       "var notebookContainer = gd.closest('#notebook-container');\n",
       "if (notebookContainer) {{\n",
       "    x.observe(notebookContainer, {childList: true});\n",
       "}}\n",
       "\n",
       "// Listen for the clearing of the current output cell\n",
       "var outputEl = gd.closest('.output');\n",
       "if (outputEl) {{\n",
       "    x.observe(outputEl, {childList: true});\n",
       "}}\n",
       "\n",
       "                        })                };                });            </script>        </div>"
      ]
     },
     "metadata": {},
     "output_type": "display_data"
    }
   ],
   "source": [
    "def iplot_map(df_states,color_column = 'Confirmed',\n",
    "                   hover_data=['Confirmed','Deaths','Recovered'],n_days=3):\n",
    "    \n",
    "#     interval = pd.interval_range(freq='D',end= df_states.index[-1],periods=n_days)\n",
    "    df_states.loc[ df_states['Date'] >last_N_days(n_days,end=df_states['Date'].max())]\n",
    "    \n",
    "    ## Get maximum value for cases by state\n",
    "    max_corona = df_states.groupby('state').max().reset_index()\n",
    "\n",
    "    pfig = px.choropleth(max_corona,color=color_column,locations='state',\n",
    "                  hover_data=hover_data, \n",
    "                  hover_name='state',\n",
    "                  locationmode=\"USA-states\", scope='usa',\n",
    "                  title=f\"Total {color_column} Cases by State from the Last {n_days} days\",\n",
    "                  color_continuous_scale=px.colors.sequential.Reds)\n",
    "    pfig.update_layout(autosize=True)#,zoom=False)\n",
    "    pfig.show(config={'scrollZoom': False})\n",
    "#     return pfig\n",
    "# pmap = plot_map_corona(df_states)\n",
    "pmap = iplot_map(df_states,n_days=10)"
   ]
  },
  {
   "cell_type": "code",
   "execution_count": 25,
   "metadata": {
    "ExecuteTime": {
     "end_time": "2020-11-19T23:13:56.132149Z",
     "start_time": "2020-11-19T23:13:56.016485Z"
    }
   },
   "outputs": [],
   "source": [
    "# df_states[\"Date\"]"
   ]
  },
  {
   "cell_type": "code",
   "execution_count": 26,
   "metadata": {
    "ExecuteTime": {
     "end_time": "2020-11-19T23:13:56.242356Z",
     "start_time": "2020-11-19T23:13:56.134096Z"
    }
   },
   "outputs": [],
   "source": [
    "# df_states.between_time()"
   ]
  },
  {
   "cell_type": "code",
   "execution_count": 27,
   "metadata": {
    "ExecuteTime": {
     "end_time": "2020-11-19T23:13:56.569268Z",
     "start_time": "2020-11-19T23:13:56.244619Z"
    }
   },
   "outputs": [],
   "source": [
    "## SLICING OUT LAST 7 DAYS \n",
    "df_sliced = df_states.loc[ df_states['Date'] >last_N_days(7)].copy()\n",
    "# df_sliced = df_sliced.set_index('Province/State').drop(columns=['Country/Region'])\n",
    "\n",
    "## GROUP SLICED DATA BY STATE\n",
    "grouper = df_sliced.set_index('Date').groupby('state')\n",
    "\n",
    "## GET EACH STATE TOTALS FOR PERIOD\n",
    "STATES = {}\n",
    "for group in grouper.groups:\n",
    "    \n",
    "    group_df = grouper.get_group(group).select_dtypes('number')\n",
    "\n",
    "    STATES[group] =group_df.diff().reset_index().sum()"
   ]
  },
  {
   "cell_type": "code",
   "execution_count": 28,
   "metadata": {
    "ExecuteTime": {
     "end_time": "2020-11-19T23:13:56.679704Z",
     "start_time": "2020-11-19T23:13:56.571281Z"
    }
   },
   "outputs": [],
   "source": [
    "df_last_week = pd.DataFrame.from_dict(STATES,orient='index')\n",
    "df_last_week = df_last_week.reset_index().rename({'index':'state'},axis=1)\n",
    "# df_last_week.index.to_series().rename('state')"
   ]
  },
  {
   "cell_type": "code",
   "execution_count": 29,
   "metadata": {
    "ExecuteTime": {
     "end_time": "2020-11-19T23:13:56.851966Z",
     "start_time": "2020-11-19T23:13:56.682017Z"
    }
   },
   "outputs": [
    {
     "data": {
      "application/vnd.plotly.v1+json": {
       "config": {
        "plotlyServerURL": "https://plot.ly",
        "scrollZoom": false
       },
       "data": [
        {
         "coloraxis": "coloraxis",
         "customdata": [
          [
           1409,
           1,
           0
          ],
          [
           4205,
           17,
           0
          ],
          [
           2722,
           35,
           0
          ],
          [
           5859,
           45,
           0
          ],
          [
           18529,
           57,
           0
          ],
          [
           9379,
           42,
           0
          ],
          [
           0,
           0,
           0
          ],
          [
           311,
           3,
           0
          ],
          [
           787,
           2,
           0
          ],
          [
           14649,
           73,
           0
          ],
          [
           5119,
           52,
           0
          ],
          [
           107,
           0,
           0
          ],
          [
           7426,
           17,
           0
          ],
          [
           2447,
           7,
           0
          ],
          [
           21659,
           271,
           0
          ],
          [
           15032,
           47,
           0
          ],
          [
           59,
           6,
           0
          ],
          [
           4742,
           14,
           0
          ],
          [
           0,
           0,
           0
          ],
          [
           5180,
           64,
           0
          ],
          [
           4161,
           29,
           0
          ],
          [
           305,
           3,
           0
          ],
          [
           7430,
           68,
           0
          ],
          [
           16242,
           66,
           0
          ],
          [
           10425,
           15,
           0
          ],
          [
           2339,
           24,
           0
          ],
          [
           2914,
           43,
           0
          ],
          [
           7002,
           86,
           0
          ],
          [
           3194,
           29,
           0
          ],
          [
           3239,
           4,
           0
          ],
          [
           745,
           1,
           0
          ],
          [
           8891,
           44,
           0
          ],
          [
           2195,
           17,
           0
          ],
          [
           3446,
           16,
           0
          ],
          [
           9037,
           39,
           0
          ],
          [
           15568,
           22,
           0
          ],
          [
           6770,
           35,
           0
          ],
          [
           1943,
           8,
           0
          ],
          [
           8708,
           80,
           0
          ],
          [
           1360,
           21,
           0
          ],
          [
           0,
           0,
           0
          ],
          [
           3406,
           11,
           0
          ],
          [
           3054,
           76,
           0
          ],
          [
           10479,
           41,
           0
          ],
          [
           16637,
           217,
           0
          ],
          [
           8019,
           17,
           0
          ],
          [
           2698,
           15,
           0
          ],
          [
           146,
           0,
           0
          ],
          [
           4542,
           0,
           0
          ],
          [
           11901,
           68,
           0
          ],
          [
           2020,
           17,
           0
          ],
          [
           1153,
           17,
           0
          ]
         ],
         "geo": "geo",
         "hovertemplate": "<b>%{hovertext}</b><br><br>state=%{location}<br>Confirmed=%{z}<br>Deaths=%{customdata[1]}<br>Recovered=%{customdata[2]}<extra></extra>",
         "hovertext": [
          "AK",
          "AL",
          "AR",
          "AZ",
          "CA",
          "CO",
          "CT",
          "DC",
          "DE",
          "FL",
          "GA",
          "HI",
          "IA",
          "ID",
          "IL",
          "IN",
          "KS",
          "KY",
          "LA",
          "MA",
          "MD",
          "ME",
          "MI",
          "MN",
          "MO",
          "MS",
          "MT",
          "NC",
          "ND",
          "NE",
          "NH",
          "NJ",
          "NM",
          "NV",
          "NY",
          "OH",
          "OK",
          "OR",
          "PA",
          "PR",
          "RI",
          "SC",
          "SD",
          "TN",
          "TX",
          "UT",
          "VA",
          "VT",
          "WA",
          "WI",
          "WV",
          "WY"
         ],
         "locationmode": "USA-states",
         "locations": [
          "AK",
          "AL",
          "AR",
          "AZ",
          "CA",
          "CO",
          "CT",
          "DC",
          "DE",
          "FL",
          "GA",
          "HI",
          "IA",
          "ID",
          "IL",
          "IN",
          "KS",
          "KY",
          "LA",
          "MA",
          "MD",
          "ME",
          "MI",
          "MN",
          "MO",
          "MS",
          "MT",
          "NC",
          "ND",
          "NE",
          "NH",
          "NJ",
          "NM",
          "NV",
          "NY",
          "OH",
          "OK",
          "OR",
          "PA",
          "PR",
          "RI",
          "SC",
          "SD",
          "TN",
          "TX",
          "UT",
          "VA",
          "VT",
          "WA",
          "WI",
          "WV",
          "WY"
         ],
         "name": "",
         "type": "choropleth",
         "z": [
          1409,
          4205,
          2722,
          5859,
          18529,
          9379,
          0,
          311,
          787,
          14649,
          5119,
          107,
          7426,
          2447,
          21659,
          15032,
          59,
          4742,
          0,
          5180,
          4161,
          305,
          7430,
          16242,
          10425,
          2339,
          2914,
          7002,
          3194,
          3239,
          745,
          8891,
          2195,
          3446,
          9037,
          15568,
          6770,
          1943,
          8708,
          1360,
          0,
          3406,
          3054,
          10479,
          16637,
          8019,
          2698,
          146,
          4542,
          11901,
          2020,
          1153
         ]
        }
       ],
       "layout": {
        "autosize": true,
        "coloraxis": {
         "colorbar": {
          "title": {
           "text": "Confirmed"
          }
         },
         "colorscale": [
          [
           0,
           "rgb(255,245,240)"
          ],
          [
           0.125,
           "rgb(254,224,210)"
          ],
          [
           0.25,
           "rgb(252,187,161)"
          ],
          [
           0.375,
           "rgb(252,146,114)"
          ],
          [
           0.5,
           "rgb(251,106,74)"
          ],
          [
           0.625,
           "rgb(239,59,44)"
          ],
          [
           0.75,
           "rgb(203,24,29)"
          ],
          [
           0.875,
           "rgb(165,15,21)"
          ],
          [
           1,
           "rgb(103,0,13)"
          ]
         ]
        },
        "geo": {
         "center": {},
         "domain": {
          "x": [
           0,
           1
          ],
          "y": [
           0,
           1
          ]
         },
         "scope": "usa"
        },
        "legend": {
         "tracegroupgap": 0
        },
        "template": {
         "data": {
          "bar": [
           {
            "error_x": {
             "color": "#f2f5fa"
            },
            "error_y": {
             "color": "#f2f5fa"
            },
            "marker": {
             "line": {
              "color": "rgb(17,17,17)",
              "width": 0.5
             }
            },
            "type": "bar"
           }
          ],
          "barpolar": [
           {
            "marker": {
             "line": {
              "color": "rgb(17,17,17)",
              "width": 0.5
             }
            },
            "type": "barpolar"
           }
          ],
          "carpet": [
           {
            "aaxis": {
             "endlinecolor": "#A2B1C6",
             "gridcolor": "#506784",
             "linecolor": "#506784",
             "minorgridcolor": "#506784",
             "startlinecolor": "#A2B1C6"
            },
            "baxis": {
             "endlinecolor": "#A2B1C6",
             "gridcolor": "#506784",
             "linecolor": "#506784",
             "minorgridcolor": "#506784",
             "startlinecolor": "#A2B1C6"
            },
            "type": "carpet"
           }
          ],
          "choropleth": [
           {
            "colorbar": {
             "outlinewidth": 0,
             "ticks": ""
            },
            "type": "choropleth"
           }
          ],
          "contour": [
           {
            "colorbar": {
             "outlinewidth": 0,
             "ticks": ""
            },
            "colorscale": [
             [
              0,
              "#0d0887"
             ],
             [
              0.1111111111111111,
              "#46039f"
             ],
             [
              0.2222222222222222,
              "#7201a8"
             ],
             [
              0.3333333333333333,
              "#9c179e"
             ],
             [
              0.4444444444444444,
              "#bd3786"
             ],
             [
              0.5555555555555556,
              "#d8576b"
             ],
             [
              0.6666666666666666,
              "#ed7953"
             ],
             [
              0.7777777777777778,
              "#fb9f3a"
             ],
             [
              0.8888888888888888,
              "#fdca26"
             ],
             [
              1,
              "#f0f921"
             ]
            ],
            "type": "contour"
           }
          ],
          "contourcarpet": [
           {
            "colorbar": {
             "outlinewidth": 0,
             "ticks": ""
            },
            "type": "contourcarpet"
           }
          ],
          "heatmap": [
           {
            "colorbar": {
             "outlinewidth": 0,
             "ticks": ""
            },
            "colorscale": [
             [
              0,
              "#0d0887"
             ],
             [
              0.1111111111111111,
              "#46039f"
             ],
             [
              0.2222222222222222,
              "#7201a8"
             ],
             [
              0.3333333333333333,
              "#9c179e"
             ],
             [
              0.4444444444444444,
              "#bd3786"
             ],
             [
              0.5555555555555556,
              "#d8576b"
             ],
             [
              0.6666666666666666,
              "#ed7953"
             ],
             [
              0.7777777777777778,
              "#fb9f3a"
             ],
             [
              0.8888888888888888,
              "#fdca26"
             ],
             [
              1,
              "#f0f921"
             ]
            ],
            "type": "heatmap"
           }
          ],
          "heatmapgl": [
           {
            "colorbar": {
             "outlinewidth": 0,
             "ticks": ""
            },
            "colorscale": [
             [
              0,
              "#0d0887"
             ],
             [
              0.1111111111111111,
              "#46039f"
             ],
             [
              0.2222222222222222,
              "#7201a8"
             ],
             [
              0.3333333333333333,
              "#9c179e"
             ],
             [
              0.4444444444444444,
              "#bd3786"
             ],
             [
              0.5555555555555556,
              "#d8576b"
             ],
             [
              0.6666666666666666,
              "#ed7953"
             ],
             [
              0.7777777777777778,
              "#fb9f3a"
             ],
             [
              0.8888888888888888,
              "#fdca26"
             ],
             [
              1,
              "#f0f921"
             ]
            ],
            "type": "heatmapgl"
           }
          ],
          "histogram": [
           {
            "marker": {
             "colorbar": {
              "outlinewidth": 0,
              "ticks": ""
             }
            },
            "type": "histogram"
           }
          ],
          "histogram2d": [
           {
            "colorbar": {
             "outlinewidth": 0,
             "ticks": ""
            },
            "colorscale": [
             [
              0,
              "#0d0887"
             ],
             [
              0.1111111111111111,
              "#46039f"
             ],
             [
              0.2222222222222222,
              "#7201a8"
             ],
             [
              0.3333333333333333,
              "#9c179e"
             ],
             [
              0.4444444444444444,
              "#bd3786"
             ],
             [
              0.5555555555555556,
              "#d8576b"
             ],
             [
              0.6666666666666666,
              "#ed7953"
             ],
             [
              0.7777777777777778,
              "#fb9f3a"
             ],
             [
              0.8888888888888888,
              "#fdca26"
             ],
             [
              1,
              "#f0f921"
             ]
            ],
            "type": "histogram2d"
           }
          ],
          "histogram2dcontour": [
           {
            "colorbar": {
             "outlinewidth": 0,
             "ticks": ""
            },
            "colorscale": [
             [
              0,
              "#0d0887"
             ],
             [
              0.1111111111111111,
              "#46039f"
             ],
             [
              0.2222222222222222,
              "#7201a8"
             ],
             [
              0.3333333333333333,
              "#9c179e"
             ],
             [
              0.4444444444444444,
              "#bd3786"
             ],
             [
              0.5555555555555556,
              "#d8576b"
             ],
             [
              0.6666666666666666,
              "#ed7953"
             ],
             [
              0.7777777777777778,
              "#fb9f3a"
             ],
             [
              0.8888888888888888,
              "#fdca26"
             ],
             [
              1,
              "#f0f921"
             ]
            ],
            "type": "histogram2dcontour"
           }
          ],
          "mesh3d": [
           {
            "colorbar": {
             "outlinewidth": 0,
             "ticks": ""
            },
            "type": "mesh3d"
           }
          ],
          "parcoords": [
           {
            "line": {
             "colorbar": {
              "outlinewidth": 0,
              "ticks": ""
             }
            },
            "type": "parcoords"
           }
          ],
          "pie": [
           {
            "automargin": true,
            "type": "pie"
           }
          ],
          "scatter": [
           {
            "marker": {
             "line": {
              "color": "#283442"
             }
            },
            "type": "scatter"
           }
          ],
          "scatter3d": [
           {
            "line": {
             "colorbar": {
              "outlinewidth": 0,
              "ticks": ""
             }
            },
            "marker": {
             "colorbar": {
              "outlinewidth": 0,
              "ticks": ""
             }
            },
            "type": "scatter3d"
           }
          ],
          "scattercarpet": [
           {
            "marker": {
             "colorbar": {
              "outlinewidth": 0,
              "ticks": ""
             }
            },
            "type": "scattercarpet"
           }
          ],
          "scattergeo": [
           {
            "marker": {
             "colorbar": {
              "outlinewidth": 0,
              "ticks": ""
             }
            },
            "type": "scattergeo"
           }
          ],
          "scattergl": [
           {
            "marker": {
             "line": {
              "color": "#283442"
             }
            },
            "type": "scattergl"
           }
          ],
          "scattermapbox": [
           {
            "marker": {
             "colorbar": {
              "outlinewidth": 0,
              "ticks": ""
             }
            },
            "type": "scattermapbox"
           }
          ],
          "scatterpolar": [
           {
            "marker": {
             "colorbar": {
              "outlinewidth": 0,
              "ticks": ""
             }
            },
            "type": "scatterpolar"
           }
          ],
          "scatterpolargl": [
           {
            "marker": {
             "colorbar": {
              "outlinewidth": 0,
              "ticks": ""
             }
            },
            "type": "scatterpolargl"
           }
          ],
          "scatterternary": [
           {
            "marker": {
             "colorbar": {
              "outlinewidth": 0,
              "ticks": ""
             }
            },
            "type": "scatterternary"
           }
          ],
          "surface": [
           {
            "colorbar": {
             "outlinewidth": 0,
             "ticks": ""
            },
            "colorscale": [
             [
              0,
              "#0d0887"
             ],
             [
              0.1111111111111111,
              "#46039f"
             ],
             [
              0.2222222222222222,
              "#7201a8"
             ],
             [
              0.3333333333333333,
              "#9c179e"
             ],
             [
              0.4444444444444444,
              "#bd3786"
             ],
             [
              0.5555555555555556,
              "#d8576b"
             ],
             [
              0.6666666666666666,
              "#ed7953"
             ],
             [
              0.7777777777777778,
              "#fb9f3a"
             ],
             [
              0.8888888888888888,
              "#fdca26"
             ],
             [
              1,
              "#f0f921"
             ]
            ],
            "type": "surface"
           }
          ],
          "table": [
           {
            "cells": {
             "fill": {
              "color": "#506784"
             },
             "line": {
              "color": "rgb(17,17,17)"
             }
            },
            "header": {
             "fill": {
              "color": "#2a3f5f"
             },
             "line": {
              "color": "rgb(17,17,17)"
             }
            },
            "type": "table"
           }
          ]
         },
         "layout": {
          "annotationdefaults": {
           "arrowcolor": "#f2f5fa",
           "arrowhead": 0,
           "arrowwidth": 1
          },
          "coloraxis": {
           "colorbar": {
            "outlinewidth": 0,
            "ticks": ""
           }
          },
          "colorscale": {
           "diverging": [
            [
             0,
             "#8e0152"
            ],
            [
             0.1,
             "#c51b7d"
            ],
            [
             0.2,
             "#de77ae"
            ],
            [
             0.3,
             "#f1b6da"
            ],
            [
             0.4,
             "#fde0ef"
            ],
            [
             0.5,
             "#f7f7f7"
            ],
            [
             0.6,
             "#e6f5d0"
            ],
            [
             0.7,
             "#b8e186"
            ],
            [
             0.8,
             "#7fbc41"
            ],
            [
             0.9,
             "#4d9221"
            ],
            [
             1,
             "#276419"
            ]
           ],
           "sequential": [
            [
             0,
             "#0d0887"
            ],
            [
             0.1111111111111111,
             "#46039f"
            ],
            [
             0.2222222222222222,
             "#7201a8"
            ],
            [
             0.3333333333333333,
             "#9c179e"
            ],
            [
             0.4444444444444444,
             "#bd3786"
            ],
            [
             0.5555555555555556,
             "#d8576b"
            ],
            [
             0.6666666666666666,
             "#ed7953"
            ],
            [
             0.7777777777777778,
             "#fb9f3a"
            ],
            [
             0.8888888888888888,
             "#fdca26"
            ],
            [
             1,
             "#f0f921"
            ]
           ],
           "sequentialminus": [
            [
             0,
             "#0d0887"
            ],
            [
             0.1111111111111111,
             "#46039f"
            ],
            [
             0.2222222222222222,
             "#7201a8"
            ],
            [
             0.3333333333333333,
             "#9c179e"
            ],
            [
             0.4444444444444444,
             "#bd3786"
            ],
            [
             0.5555555555555556,
             "#d8576b"
            ],
            [
             0.6666666666666666,
             "#ed7953"
            ],
            [
             0.7777777777777778,
             "#fb9f3a"
            ],
            [
             0.8888888888888888,
             "#fdca26"
            ],
            [
             1,
             "#f0f921"
            ]
           ]
          },
          "colorway": [
           "#636efa",
           "#EF553B",
           "#00cc96",
           "#ab63fa",
           "#FFA15A",
           "#19d3f3",
           "#FF6692",
           "#B6E880",
           "#FF97FF",
           "#FECB52"
          ],
          "font": {
           "color": "#f2f5fa"
          },
          "geo": {
           "bgcolor": "rgb(17,17,17)",
           "lakecolor": "rgb(17,17,17)",
           "landcolor": "rgb(17,17,17)",
           "showlakes": true,
           "showland": true,
           "subunitcolor": "#506784"
          },
          "hoverlabel": {
           "align": "left"
          },
          "hovermode": "closest",
          "mapbox": {
           "style": "dark"
          },
          "paper_bgcolor": "rgb(17,17,17)",
          "plot_bgcolor": "rgb(17,17,17)",
          "polar": {
           "angularaxis": {
            "gridcolor": "#506784",
            "linecolor": "#506784",
            "ticks": ""
           },
           "bgcolor": "rgb(17,17,17)",
           "radialaxis": {
            "gridcolor": "#506784",
            "linecolor": "#506784",
            "ticks": ""
           }
          },
          "scene": {
           "xaxis": {
            "backgroundcolor": "rgb(17,17,17)",
            "gridcolor": "#506784",
            "gridwidth": 2,
            "linecolor": "#506784",
            "showbackground": true,
            "ticks": "",
            "zerolinecolor": "#C8D4E3"
           },
           "yaxis": {
            "backgroundcolor": "rgb(17,17,17)",
            "gridcolor": "#506784",
            "gridwidth": 2,
            "linecolor": "#506784",
            "showbackground": true,
            "ticks": "",
            "zerolinecolor": "#C8D4E3"
           },
           "zaxis": {
            "backgroundcolor": "rgb(17,17,17)",
            "gridcolor": "#506784",
            "gridwidth": 2,
            "linecolor": "#506784",
            "showbackground": true,
            "ticks": "",
            "zerolinecolor": "#C8D4E3"
           }
          },
          "shapedefaults": {
           "line": {
            "color": "#f2f5fa"
           }
          },
          "sliderdefaults": {
           "bgcolor": "#C8D4E3",
           "bordercolor": "rgb(17,17,17)",
           "borderwidth": 1,
           "tickwidth": 0
          },
          "ternary": {
           "aaxis": {
            "gridcolor": "#506784",
            "linecolor": "#506784",
            "ticks": ""
           },
           "baxis": {
            "gridcolor": "#506784",
            "linecolor": "#506784",
            "ticks": ""
           },
           "bgcolor": "rgb(17,17,17)",
           "caxis": {
            "gridcolor": "#506784",
            "linecolor": "#506784",
            "ticks": ""
           }
          },
          "title": {
           "x": 0.05
          },
          "updatemenudefaults": {
           "bgcolor": "#506784",
           "borderwidth": 0
          },
          "xaxis": {
           "automargin": true,
           "gridcolor": "#283442",
           "linecolor": "#506784",
           "ticks": "",
           "title": {
            "standoff": 15
           },
           "zerolinecolor": "#283442",
           "zerolinewidth": 2
          },
          "yaxis": {
           "automargin": true,
           "gridcolor": "#283442",
           "linecolor": "#506784",
           "ticks": "",
           "title": {
            "standoff": 15
           },
           "zerolinecolor": "#283442",
           "zerolinewidth": 2
          }
         }
        },
        "title": {
         "text": "Total Confirmed Cases by State"
        }
       }
      },
      "text/html": [
       "<div>                            <div id=\"5be07aef-c667-46b6-8347-39a7d82a78b1\" class=\"plotly-graph-div\" style=\"height:525px; width:100%;\"></div>            <script type=\"text/javascript\">                require([\"plotly\"], function(Plotly) {                    window.PLOTLYENV=window.PLOTLYENV || {};                                    if (document.getElementById(\"5be07aef-c667-46b6-8347-39a7d82a78b1\")) {                    Plotly.newPlot(                        \"5be07aef-c667-46b6-8347-39a7d82a78b1\",                        [{\"coloraxis\": \"coloraxis\", \"customdata\": [[1409.0, 1.0, 0.0], [4205.0, 17.0, 0.0], [2722.0, 35.0, 0.0], [5859.0, 45.0, 0.0], [18529.0, 57.0, 0.0], [9379.0, 42.0, 0.0], [0.0, 0.0, 0.0], [311.0, 3.0, 0.0], [787.0, 2.0, 0.0], [14649.0, 73.0, 0.0], [5119.0, 52.0, 0.0], [107.0, 0.0, 0.0], [7426.0, 17.0, 0.0], [2447.0, 7.0, 0.0], [21659.0, 271.0, 0.0], [15032.0, 47.0, 0.0], [59.0, 6.0, 0.0], [4742.0, 14.0, 0.0], [0.0, 0.0, 0.0], [5180.0, 64.0, 0.0], [4161.0, 29.0, 0.0], [305.0, 3.0, 0.0], [7430.0, 68.0, 0.0], [16242.0, 66.0, 0.0], [10425.0, 15.0, 0.0], [2339.0, 24.0, 0.0], [2914.0, 43.0, 0.0], [7002.0, 86.0, 0.0], [3194.0, 29.0, 0.0], [3239.0, 4.0, 0.0], [745.0, 1.0, 0.0], [8891.0, 44.0, 0.0], [2195.0, 17.0, 0.0], [3446.0, 16.0, 0.0], [9037.0, 39.0, 0.0], [15568.0, 22.0, 0.0], [6770.0, 35.0, 0.0], [1943.0, 8.0, 0.0], [8708.0, 80.0, 0.0], [1360.0, 21.0, 0.0], [0.0, 0.0, 0.0], [3406.0, 11.0, 0.0], [3054.0, 76.0, 0.0], [10479.0, 41.0, 0.0], [16637.0, 217.0, 0.0], [8019.0, 17.0, 0.0], [2698.0, 15.0, 0.0], [146.0, 0.0, 0.0], [4542.0, 0.0, 0.0], [11901.0, 68.0, 0.0], [2020.0, 17.0, 0.0], [1153.0, 17.0, 0.0]], \"geo\": \"geo\", \"hovertemplate\": \"<b>%{hovertext}</b><br><br>state=%{location}<br>Confirmed=%{z}<br>Deaths=%{customdata[1]}<br>Recovered=%{customdata[2]}<extra></extra>\", \"hovertext\": [\"AK\", \"AL\", \"AR\", \"AZ\", \"CA\", \"CO\", \"CT\", \"DC\", \"DE\", \"FL\", \"GA\", \"HI\", \"IA\", \"ID\", \"IL\", \"IN\", \"KS\", \"KY\", \"LA\", \"MA\", \"MD\", \"ME\", \"MI\", \"MN\", \"MO\", \"MS\", \"MT\", \"NC\", \"ND\", \"NE\", \"NH\", \"NJ\", \"NM\", \"NV\", \"NY\", \"OH\", \"OK\", \"OR\", \"PA\", \"PR\", \"RI\", \"SC\", \"SD\", \"TN\", \"TX\", \"UT\", \"VA\", \"VT\", \"WA\", \"WI\", \"WV\", \"WY\"], \"locationmode\": \"USA-states\", \"locations\": [\"AK\", \"AL\", \"AR\", \"AZ\", \"CA\", \"CO\", \"CT\", \"DC\", \"DE\", \"FL\", \"GA\", \"HI\", \"IA\", \"ID\", \"IL\", \"IN\", \"KS\", \"KY\", \"LA\", \"MA\", \"MD\", \"ME\", \"MI\", \"MN\", \"MO\", \"MS\", \"MT\", \"NC\", \"ND\", \"NE\", \"NH\", \"NJ\", \"NM\", \"NV\", \"NY\", \"OH\", \"OK\", \"OR\", \"PA\", \"PR\", \"RI\", \"SC\", \"SD\", \"TN\", \"TX\", \"UT\", \"VA\", \"VT\", \"WA\", \"WI\", \"WV\", \"WY\"], \"name\": \"\", \"type\": \"choropleth\", \"z\": [1409.0, 4205.0, 2722.0, 5859.0, 18529.0, 9379.0, 0.0, 311.0, 787.0, 14649.0, 5119.0, 107.0, 7426.0, 2447.0, 21659.0, 15032.0, 59.0, 4742.0, 0.0, 5180.0, 4161.0, 305.0, 7430.0, 16242.0, 10425.0, 2339.0, 2914.0, 7002.0, 3194.0, 3239.0, 745.0, 8891.0, 2195.0, 3446.0, 9037.0, 15568.0, 6770.0, 1943.0, 8708.0, 1360.0, 0.0, 3406.0, 3054.0, 10479.0, 16637.0, 8019.0, 2698.0, 146.0, 4542.0, 11901.0, 2020.0, 1153.0]}],                        {\"autosize\": true, \"coloraxis\": {\"colorbar\": {\"title\": {\"text\": \"Confirmed\"}}, \"colorscale\": [[0.0, \"rgb(255,245,240)\"], [0.125, \"rgb(254,224,210)\"], [0.25, \"rgb(252,187,161)\"], [0.375, \"rgb(252,146,114)\"], [0.5, \"rgb(251,106,74)\"], [0.625, \"rgb(239,59,44)\"], [0.75, \"rgb(203,24,29)\"], [0.875, \"rgb(165,15,21)\"], [1.0, \"rgb(103,0,13)\"]]}, \"geo\": {\"center\": {}, \"domain\": {\"x\": [0.0, 1.0], \"y\": [0.0, 1.0]}, \"scope\": \"usa\"}, \"legend\": {\"tracegroupgap\": 0}, \"template\": {\"data\": {\"bar\": [{\"error_x\": {\"color\": \"#f2f5fa\"}, \"error_y\": {\"color\": \"#f2f5fa\"}, \"marker\": {\"line\": {\"color\": \"rgb(17,17,17)\", \"width\": 0.5}}, \"type\": \"bar\"}], \"barpolar\": [{\"marker\": {\"line\": {\"color\": \"rgb(17,17,17)\", \"width\": 0.5}}, \"type\": \"barpolar\"}], \"carpet\": [{\"aaxis\": {\"endlinecolor\": \"#A2B1C6\", \"gridcolor\": \"#506784\", \"linecolor\": \"#506784\", \"minorgridcolor\": \"#506784\", \"startlinecolor\": \"#A2B1C6\"}, \"baxis\": {\"endlinecolor\": \"#A2B1C6\", \"gridcolor\": \"#506784\", \"linecolor\": \"#506784\", \"minorgridcolor\": \"#506784\", \"startlinecolor\": \"#A2B1C6\"}, \"type\": \"carpet\"}], \"choropleth\": [{\"colorbar\": {\"outlinewidth\": 0, \"ticks\": \"\"}, \"type\": \"choropleth\"}], \"contour\": [{\"colorbar\": {\"outlinewidth\": 0, \"ticks\": \"\"}, \"colorscale\": [[0.0, \"#0d0887\"], [0.1111111111111111, \"#46039f\"], [0.2222222222222222, \"#7201a8\"], [0.3333333333333333, \"#9c179e\"], [0.4444444444444444, \"#bd3786\"], [0.5555555555555556, \"#d8576b\"], [0.6666666666666666, \"#ed7953\"], [0.7777777777777778, \"#fb9f3a\"], [0.8888888888888888, \"#fdca26\"], [1.0, \"#f0f921\"]], \"type\": \"contour\"}], \"contourcarpet\": [{\"colorbar\": {\"outlinewidth\": 0, \"ticks\": \"\"}, \"type\": \"contourcarpet\"}], \"heatmap\": [{\"colorbar\": {\"outlinewidth\": 0, \"ticks\": \"\"}, \"colorscale\": [[0.0, \"#0d0887\"], [0.1111111111111111, \"#46039f\"], [0.2222222222222222, \"#7201a8\"], [0.3333333333333333, \"#9c179e\"], [0.4444444444444444, \"#bd3786\"], [0.5555555555555556, \"#d8576b\"], [0.6666666666666666, \"#ed7953\"], [0.7777777777777778, \"#fb9f3a\"], [0.8888888888888888, \"#fdca26\"], [1.0, \"#f0f921\"]], \"type\": \"heatmap\"}], \"heatmapgl\": [{\"colorbar\": {\"outlinewidth\": 0, \"ticks\": \"\"}, \"colorscale\": [[0.0, \"#0d0887\"], [0.1111111111111111, \"#46039f\"], [0.2222222222222222, \"#7201a8\"], [0.3333333333333333, \"#9c179e\"], [0.4444444444444444, \"#bd3786\"], [0.5555555555555556, \"#d8576b\"], [0.6666666666666666, \"#ed7953\"], [0.7777777777777778, \"#fb9f3a\"], [0.8888888888888888, \"#fdca26\"], [1.0, \"#f0f921\"]], \"type\": \"heatmapgl\"}], \"histogram\": [{\"marker\": {\"colorbar\": {\"outlinewidth\": 0, \"ticks\": \"\"}}, \"type\": \"histogram\"}], \"histogram2d\": [{\"colorbar\": {\"outlinewidth\": 0, \"ticks\": \"\"}, \"colorscale\": [[0.0, \"#0d0887\"], [0.1111111111111111, \"#46039f\"], [0.2222222222222222, \"#7201a8\"], [0.3333333333333333, \"#9c179e\"], [0.4444444444444444, \"#bd3786\"], [0.5555555555555556, \"#d8576b\"], [0.6666666666666666, \"#ed7953\"], [0.7777777777777778, \"#fb9f3a\"], [0.8888888888888888, \"#fdca26\"], [1.0, \"#f0f921\"]], \"type\": \"histogram2d\"}], \"histogram2dcontour\": [{\"colorbar\": {\"outlinewidth\": 0, \"ticks\": \"\"}, \"colorscale\": [[0.0, \"#0d0887\"], [0.1111111111111111, \"#46039f\"], [0.2222222222222222, \"#7201a8\"], [0.3333333333333333, \"#9c179e\"], [0.4444444444444444, \"#bd3786\"], [0.5555555555555556, \"#d8576b\"], [0.6666666666666666, \"#ed7953\"], [0.7777777777777778, \"#fb9f3a\"], [0.8888888888888888, \"#fdca26\"], [1.0, \"#f0f921\"]], \"type\": \"histogram2dcontour\"}], \"mesh3d\": [{\"colorbar\": {\"outlinewidth\": 0, \"ticks\": \"\"}, \"type\": \"mesh3d\"}], \"parcoords\": [{\"line\": {\"colorbar\": {\"outlinewidth\": 0, \"ticks\": \"\"}}, \"type\": \"parcoords\"}], \"pie\": [{\"automargin\": true, \"type\": \"pie\"}], \"scatter\": [{\"marker\": {\"line\": {\"color\": \"#283442\"}}, \"type\": \"scatter\"}], \"scatter3d\": [{\"line\": {\"colorbar\": {\"outlinewidth\": 0, \"ticks\": \"\"}}, \"marker\": {\"colorbar\": {\"outlinewidth\": 0, \"ticks\": \"\"}}, \"type\": \"scatter3d\"}], \"scattercarpet\": [{\"marker\": {\"colorbar\": {\"outlinewidth\": 0, \"ticks\": \"\"}}, \"type\": \"scattercarpet\"}], \"scattergeo\": [{\"marker\": {\"colorbar\": {\"outlinewidth\": 0, \"ticks\": \"\"}}, \"type\": \"scattergeo\"}], \"scattergl\": [{\"marker\": {\"line\": {\"color\": \"#283442\"}}, \"type\": \"scattergl\"}], \"scattermapbox\": [{\"marker\": {\"colorbar\": {\"outlinewidth\": 0, \"ticks\": \"\"}}, \"type\": \"scattermapbox\"}], \"scatterpolar\": [{\"marker\": {\"colorbar\": {\"outlinewidth\": 0, \"ticks\": \"\"}}, \"type\": \"scatterpolar\"}], \"scatterpolargl\": [{\"marker\": {\"colorbar\": {\"outlinewidth\": 0, \"ticks\": \"\"}}, \"type\": \"scatterpolargl\"}], \"scatterternary\": [{\"marker\": {\"colorbar\": {\"outlinewidth\": 0, \"ticks\": \"\"}}, \"type\": \"scatterternary\"}], \"surface\": [{\"colorbar\": {\"outlinewidth\": 0, \"ticks\": \"\"}, \"colorscale\": [[0.0, \"#0d0887\"], [0.1111111111111111, \"#46039f\"], [0.2222222222222222, \"#7201a8\"], [0.3333333333333333, \"#9c179e\"], [0.4444444444444444, \"#bd3786\"], [0.5555555555555556, \"#d8576b\"], [0.6666666666666666, \"#ed7953\"], [0.7777777777777778, \"#fb9f3a\"], [0.8888888888888888, \"#fdca26\"], [1.0, \"#f0f921\"]], \"type\": \"surface\"}], \"table\": [{\"cells\": {\"fill\": {\"color\": \"#506784\"}, \"line\": {\"color\": \"rgb(17,17,17)\"}}, \"header\": {\"fill\": {\"color\": \"#2a3f5f\"}, \"line\": {\"color\": \"rgb(17,17,17)\"}}, \"type\": \"table\"}]}, \"layout\": {\"annotationdefaults\": {\"arrowcolor\": \"#f2f5fa\", \"arrowhead\": 0, \"arrowwidth\": 1}, \"coloraxis\": {\"colorbar\": {\"outlinewidth\": 0, \"ticks\": \"\"}}, \"colorscale\": {\"diverging\": [[0, \"#8e0152\"], [0.1, \"#c51b7d\"], [0.2, \"#de77ae\"], [0.3, \"#f1b6da\"], [0.4, \"#fde0ef\"], [0.5, \"#f7f7f7\"], [0.6, \"#e6f5d0\"], [0.7, \"#b8e186\"], [0.8, \"#7fbc41\"], [0.9, \"#4d9221\"], [1, \"#276419\"]], \"sequential\": [[0.0, \"#0d0887\"], [0.1111111111111111, \"#46039f\"], [0.2222222222222222, \"#7201a8\"], [0.3333333333333333, \"#9c179e\"], [0.4444444444444444, \"#bd3786\"], [0.5555555555555556, \"#d8576b\"], [0.6666666666666666, \"#ed7953\"], [0.7777777777777778, \"#fb9f3a\"], [0.8888888888888888, \"#fdca26\"], [1.0, \"#f0f921\"]], \"sequentialminus\": [[0.0, \"#0d0887\"], [0.1111111111111111, \"#46039f\"], [0.2222222222222222, \"#7201a8\"], [0.3333333333333333, \"#9c179e\"], [0.4444444444444444, \"#bd3786\"], [0.5555555555555556, \"#d8576b\"], [0.6666666666666666, \"#ed7953\"], [0.7777777777777778, \"#fb9f3a\"], [0.8888888888888888, \"#fdca26\"], [1.0, \"#f0f921\"]]}, \"colorway\": [\"#636efa\", \"#EF553B\", \"#00cc96\", \"#ab63fa\", \"#FFA15A\", \"#19d3f3\", \"#FF6692\", \"#B6E880\", \"#FF97FF\", \"#FECB52\"], \"font\": {\"color\": \"#f2f5fa\"}, \"geo\": {\"bgcolor\": \"rgb(17,17,17)\", \"lakecolor\": \"rgb(17,17,17)\", \"landcolor\": \"rgb(17,17,17)\", \"showlakes\": true, \"showland\": true, \"subunitcolor\": \"#506784\"}, \"hoverlabel\": {\"align\": \"left\"}, \"hovermode\": \"closest\", \"mapbox\": {\"style\": \"dark\"}, \"paper_bgcolor\": \"rgb(17,17,17)\", \"plot_bgcolor\": \"rgb(17,17,17)\", \"polar\": {\"angularaxis\": {\"gridcolor\": \"#506784\", \"linecolor\": \"#506784\", \"ticks\": \"\"}, \"bgcolor\": \"rgb(17,17,17)\", \"radialaxis\": {\"gridcolor\": \"#506784\", \"linecolor\": \"#506784\", \"ticks\": \"\"}}, \"scene\": {\"xaxis\": {\"backgroundcolor\": \"rgb(17,17,17)\", \"gridcolor\": \"#506784\", \"gridwidth\": 2, \"linecolor\": \"#506784\", \"showbackground\": true, \"ticks\": \"\", \"zerolinecolor\": \"#C8D4E3\"}, \"yaxis\": {\"backgroundcolor\": \"rgb(17,17,17)\", \"gridcolor\": \"#506784\", \"gridwidth\": 2, \"linecolor\": \"#506784\", \"showbackground\": true, \"ticks\": \"\", \"zerolinecolor\": \"#C8D4E3\"}, \"zaxis\": {\"backgroundcolor\": \"rgb(17,17,17)\", \"gridcolor\": \"#506784\", \"gridwidth\": 2, \"linecolor\": \"#506784\", \"showbackground\": true, \"ticks\": \"\", \"zerolinecolor\": \"#C8D4E3\"}}, \"shapedefaults\": {\"line\": {\"color\": \"#f2f5fa\"}}, \"sliderdefaults\": {\"bgcolor\": \"#C8D4E3\", \"bordercolor\": \"rgb(17,17,17)\", \"borderwidth\": 1, \"tickwidth\": 0}, \"ternary\": {\"aaxis\": {\"gridcolor\": \"#506784\", \"linecolor\": \"#506784\", \"ticks\": \"\"}, \"baxis\": {\"gridcolor\": \"#506784\", \"linecolor\": \"#506784\", \"ticks\": \"\"}, \"bgcolor\": \"rgb(17,17,17)\", \"caxis\": {\"gridcolor\": \"#506784\", \"linecolor\": \"#506784\", \"ticks\": \"\"}}, \"title\": {\"x\": 0.05}, \"updatemenudefaults\": {\"bgcolor\": \"#506784\", \"borderwidth\": 0}, \"xaxis\": {\"automargin\": true, \"gridcolor\": \"#283442\", \"linecolor\": \"#506784\", \"ticks\": \"\", \"title\": {\"standoff\": 15}, \"zerolinecolor\": \"#283442\", \"zerolinewidth\": 2}, \"yaxis\": {\"automargin\": true, \"gridcolor\": \"#283442\", \"linecolor\": \"#506784\", \"ticks\": \"\", \"title\": {\"standoff\": 15}, \"zerolinecolor\": \"#283442\", \"zerolinewidth\": 2}}}, \"title\": {\"text\": \"Total Confirmed Cases by State\"}},                        {\"scrollZoom\": false, \"responsive\": true}                    ).then(function(){\n",
       "                            \n",
       "var gd = document.getElementById('5be07aef-c667-46b6-8347-39a7d82a78b1');\n",
       "var x = new MutationObserver(function (mutations, observer) {{\n",
       "        var display = window.getComputedStyle(gd).display;\n",
       "        if (!display || display === 'none') {{\n",
       "            console.log([gd, 'removed!']);\n",
       "            Plotly.purge(gd);\n",
       "            observer.disconnect();\n",
       "        }}\n",
       "}});\n",
       "\n",
       "// Listen for the removal of the full notebook cells\n",
       "var notebookContainer = gd.closest('#notebook-container');\n",
       "if (notebookContainer) {{\n",
       "    x.observe(notebookContainer, {childList: true});\n",
       "}}\n",
       "\n",
       "// Listen for the clearing of the current output cell\n",
       "var outputEl = gd.closest('.output');\n",
       "if (outputEl) {{\n",
       "    x.observe(outputEl, {childList: true});\n",
       "}}\n",
       "\n",
       "                        })                };                });            </script>        </div>"
      ]
     },
     "metadata": {},
     "output_type": "display_data"
    },
    {
     "data": {
      "application/vnd.plotly.v1+json": {
       "config": {
        "plotlyServerURL": "https://plot.ly"
       },
       "data": [
        {
         "coloraxis": "coloraxis",
         "customdata": [
          [
           1409,
           1,
           0
          ],
          [
           4205,
           17,
           0
          ],
          [
           2722,
           35,
           0
          ],
          [
           5859,
           45,
           0
          ],
          [
           18529,
           57,
           0
          ],
          [
           9379,
           42,
           0
          ],
          [
           0,
           0,
           0
          ],
          [
           311,
           3,
           0
          ],
          [
           787,
           2,
           0
          ],
          [
           14649,
           73,
           0
          ],
          [
           5119,
           52,
           0
          ],
          [
           107,
           0,
           0
          ],
          [
           7426,
           17,
           0
          ],
          [
           2447,
           7,
           0
          ],
          [
           21659,
           271,
           0
          ],
          [
           15032,
           47,
           0
          ],
          [
           59,
           6,
           0
          ],
          [
           4742,
           14,
           0
          ],
          [
           0,
           0,
           0
          ],
          [
           5180,
           64,
           0
          ],
          [
           4161,
           29,
           0
          ],
          [
           305,
           3,
           0
          ],
          [
           7430,
           68,
           0
          ],
          [
           16242,
           66,
           0
          ],
          [
           10425,
           15,
           0
          ],
          [
           2339,
           24,
           0
          ],
          [
           2914,
           43,
           0
          ],
          [
           7002,
           86,
           0
          ],
          [
           3194,
           29,
           0
          ],
          [
           3239,
           4,
           0
          ],
          [
           745,
           1,
           0
          ],
          [
           8891,
           44,
           0
          ],
          [
           2195,
           17,
           0
          ],
          [
           3446,
           16,
           0
          ],
          [
           9037,
           39,
           0
          ],
          [
           15568,
           22,
           0
          ],
          [
           6770,
           35,
           0
          ],
          [
           1943,
           8,
           0
          ],
          [
           8708,
           80,
           0
          ],
          [
           1360,
           21,
           0
          ],
          [
           0,
           0,
           0
          ],
          [
           3406,
           11,
           0
          ],
          [
           3054,
           76,
           0
          ],
          [
           10479,
           41,
           0
          ],
          [
           16637,
           217,
           0
          ],
          [
           8019,
           17,
           0
          ],
          [
           2698,
           15,
           0
          ],
          [
           146,
           0,
           0
          ],
          [
           4542,
           0,
           0
          ],
          [
           11901,
           68,
           0
          ],
          [
           2020,
           17,
           0
          ],
          [
           1153,
           17,
           0
          ]
         ],
         "geo": "geo",
         "hovertemplate": "<b>%{hovertext}</b><br><br>state=%{location}<br>Confirmed=%{z}<br>Deaths=%{customdata[1]}<br>Recovered=%{customdata[2]}<extra></extra>",
         "hovertext": [
          "AK",
          "AL",
          "AR",
          "AZ",
          "CA",
          "CO",
          "CT",
          "DC",
          "DE",
          "FL",
          "GA",
          "HI",
          "IA",
          "ID",
          "IL",
          "IN",
          "KS",
          "KY",
          "LA",
          "MA",
          "MD",
          "ME",
          "MI",
          "MN",
          "MO",
          "MS",
          "MT",
          "NC",
          "ND",
          "NE",
          "NH",
          "NJ",
          "NM",
          "NV",
          "NY",
          "OH",
          "OK",
          "OR",
          "PA",
          "PR",
          "RI",
          "SC",
          "SD",
          "TN",
          "TX",
          "UT",
          "VA",
          "VT",
          "WA",
          "WI",
          "WV",
          "WY"
         ],
         "locationmode": "USA-states",
         "locations": [
          "AK",
          "AL",
          "AR",
          "AZ",
          "CA",
          "CO",
          "CT",
          "DC",
          "DE",
          "FL",
          "GA",
          "HI",
          "IA",
          "ID",
          "IL",
          "IN",
          "KS",
          "KY",
          "LA",
          "MA",
          "MD",
          "ME",
          "MI",
          "MN",
          "MO",
          "MS",
          "MT",
          "NC",
          "ND",
          "NE",
          "NH",
          "NJ",
          "NM",
          "NV",
          "NY",
          "OH",
          "OK",
          "OR",
          "PA",
          "PR",
          "RI",
          "SC",
          "SD",
          "TN",
          "TX",
          "UT",
          "VA",
          "VT",
          "WA",
          "WI",
          "WV",
          "WY"
         ],
         "name": "",
         "type": "choropleth",
         "z": [
          1409,
          4205,
          2722,
          5859,
          18529,
          9379,
          0,
          311,
          787,
          14649,
          5119,
          107,
          7426,
          2447,
          21659,
          15032,
          59,
          4742,
          0,
          5180,
          4161,
          305,
          7430,
          16242,
          10425,
          2339,
          2914,
          7002,
          3194,
          3239,
          745,
          8891,
          2195,
          3446,
          9037,
          15568,
          6770,
          1943,
          8708,
          1360,
          0,
          3406,
          3054,
          10479,
          16637,
          8019,
          2698,
          146,
          4542,
          11901,
          2020,
          1153
         ]
        }
       ],
       "layout": {
        "autosize": true,
        "coloraxis": {
         "colorbar": {
          "title": {
           "text": "Confirmed"
          }
         },
         "colorscale": [
          [
           0,
           "rgb(255,245,240)"
          ],
          [
           0.125,
           "rgb(254,224,210)"
          ],
          [
           0.25,
           "rgb(252,187,161)"
          ],
          [
           0.375,
           "rgb(252,146,114)"
          ],
          [
           0.5,
           "rgb(251,106,74)"
          ],
          [
           0.625,
           "rgb(239,59,44)"
          ],
          [
           0.75,
           "rgb(203,24,29)"
          ],
          [
           0.875,
           "rgb(165,15,21)"
          ],
          [
           1,
           "rgb(103,0,13)"
          ]
         ]
        },
        "geo": {
         "center": {},
         "domain": {
          "x": [
           0,
           1
          ],
          "y": [
           0,
           1
          ]
         },
         "scope": "usa"
        },
        "legend": {
         "tracegroupgap": 0
        },
        "template": {
         "data": {
          "bar": [
           {
            "error_x": {
             "color": "#f2f5fa"
            },
            "error_y": {
             "color": "#f2f5fa"
            },
            "marker": {
             "line": {
              "color": "rgb(17,17,17)",
              "width": 0.5
             }
            },
            "type": "bar"
           }
          ],
          "barpolar": [
           {
            "marker": {
             "line": {
              "color": "rgb(17,17,17)",
              "width": 0.5
             }
            },
            "type": "barpolar"
           }
          ],
          "carpet": [
           {
            "aaxis": {
             "endlinecolor": "#A2B1C6",
             "gridcolor": "#506784",
             "linecolor": "#506784",
             "minorgridcolor": "#506784",
             "startlinecolor": "#A2B1C6"
            },
            "baxis": {
             "endlinecolor": "#A2B1C6",
             "gridcolor": "#506784",
             "linecolor": "#506784",
             "minorgridcolor": "#506784",
             "startlinecolor": "#A2B1C6"
            },
            "type": "carpet"
           }
          ],
          "choropleth": [
           {
            "colorbar": {
             "outlinewidth": 0,
             "ticks": ""
            },
            "type": "choropleth"
           }
          ],
          "contour": [
           {
            "colorbar": {
             "outlinewidth": 0,
             "ticks": ""
            },
            "colorscale": [
             [
              0,
              "#0d0887"
             ],
             [
              0.1111111111111111,
              "#46039f"
             ],
             [
              0.2222222222222222,
              "#7201a8"
             ],
             [
              0.3333333333333333,
              "#9c179e"
             ],
             [
              0.4444444444444444,
              "#bd3786"
             ],
             [
              0.5555555555555556,
              "#d8576b"
             ],
             [
              0.6666666666666666,
              "#ed7953"
             ],
             [
              0.7777777777777778,
              "#fb9f3a"
             ],
             [
              0.8888888888888888,
              "#fdca26"
             ],
             [
              1,
              "#f0f921"
             ]
            ],
            "type": "contour"
           }
          ],
          "contourcarpet": [
           {
            "colorbar": {
             "outlinewidth": 0,
             "ticks": ""
            },
            "type": "contourcarpet"
           }
          ],
          "heatmap": [
           {
            "colorbar": {
             "outlinewidth": 0,
             "ticks": ""
            },
            "colorscale": [
             [
              0,
              "#0d0887"
             ],
             [
              0.1111111111111111,
              "#46039f"
             ],
             [
              0.2222222222222222,
              "#7201a8"
             ],
             [
              0.3333333333333333,
              "#9c179e"
             ],
             [
              0.4444444444444444,
              "#bd3786"
             ],
             [
              0.5555555555555556,
              "#d8576b"
             ],
             [
              0.6666666666666666,
              "#ed7953"
             ],
             [
              0.7777777777777778,
              "#fb9f3a"
             ],
             [
              0.8888888888888888,
              "#fdca26"
             ],
             [
              1,
              "#f0f921"
             ]
            ],
            "type": "heatmap"
           }
          ],
          "heatmapgl": [
           {
            "colorbar": {
             "outlinewidth": 0,
             "ticks": ""
            },
            "colorscale": [
             [
              0,
              "#0d0887"
             ],
             [
              0.1111111111111111,
              "#46039f"
             ],
             [
              0.2222222222222222,
              "#7201a8"
             ],
             [
              0.3333333333333333,
              "#9c179e"
             ],
             [
              0.4444444444444444,
              "#bd3786"
             ],
             [
              0.5555555555555556,
              "#d8576b"
             ],
             [
              0.6666666666666666,
              "#ed7953"
             ],
             [
              0.7777777777777778,
              "#fb9f3a"
             ],
             [
              0.8888888888888888,
              "#fdca26"
             ],
             [
              1,
              "#f0f921"
             ]
            ],
            "type": "heatmapgl"
           }
          ],
          "histogram": [
           {
            "marker": {
             "colorbar": {
              "outlinewidth": 0,
              "ticks": ""
             }
            },
            "type": "histogram"
           }
          ],
          "histogram2d": [
           {
            "colorbar": {
             "outlinewidth": 0,
             "ticks": ""
            },
            "colorscale": [
             [
              0,
              "#0d0887"
             ],
             [
              0.1111111111111111,
              "#46039f"
             ],
             [
              0.2222222222222222,
              "#7201a8"
             ],
             [
              0.3333333333333333,
              "#9c179e"
             ],
             [
              0.4444444444444444,
              "#bd3786"
             ],
             [
              0.5555555555555556,
              "#d8576b"
             ],
             [
              0.6666666666666666,
              "#ed7953"
             ],
             [
              0.7777777777777778,
              "#fb9f3a"
             ],
             [
              0.8888888888888888,
              "#fdca26"
             ],
             [
              1,
              "#f0f921"
             ]
            ],
            "type": "histogram2d"
           }
          ],
          "histogram2dcontour": [
           {
            "colorbar": {
             "outlinewidth": 0,
             "ticks": ""
            },
            "colorscale": [
             [
              0,
              "#0d0887"
             ],
             [
              0.1111111111111111,
              "#46039f"
             ],
             [
              0.2222222222222222,
              "#7201a8"
             ],
             [
              0.3333333333333333,
              "#9c179e"
             ],
             [
              0.4444444444444444,
              "#bd3786"
             ],
             [
              0.5555555555555556,
              "#d8576b"
             ],
             [
              0.6666666666666666,
              "#ed7953"
             ],
             [
              0.7777777777777778,
              "#fb9f3a"
             ],
             [
              0.8888888888888888,
              "#fdca26"
             ],
             [
              1,
              "#f0f921"
             ]
            ],
            "type": "histogram2dcontour"
           }
          ],
          "mesh3d": [
           {
            "colorbar": {
             "outlinewidth": 0,
             "ticks": ""
            },
            "type": "mesh3d"
           }
          ],
          "parcoords": [
           {
            "line": {
             "colorbar": {
              "outlinewidth": 0,
              "ticks": ""
             }
            },
            "type": "parcoords"
           }
          ],
          "pie": [
           {
            "automargin": true,
            "type": "pie"
           }
          ],
          "scatter": [
           {
            "marker": {
             "line": {
              "color": "#283442"
             }
            },
            "type": "scatter"
           }
          ],
          "scatter3d": [
           {
            "line": {
             "colorbar": {
              "outlinewidth": 0,
              "ticks": ""
             }
            },
            "marker": {
             "colorbar": {
              "outlinewidth": 0,
              "ticks": ""
             }
            },
            "type": "scatter3d"
           }
          ],
          "scattercarpet": [
           {
            "marker": {
             "colorbar": {
              "outlinewidth": 0,
              "ticks": ""
             }
            },
            "type": "scattercarpet"
           }
          ],
          "scattergeo": [
           {
            "marker": {
             "colorbar": {
              "outlinewidth": 0,
              "ticks": ""
             }
            },
            "type": "scattergeo"
           }
          ],
          "scattergl": [
           {
            "marker": {
             "line": {
              "color": "#283442"
             }
            },
            "type": "scattergl"
           }
          ],
          "scattermapbox": [
           {
            "marker": {
             "colorbar": {
              "outlinewidth": 0,
              "ticks": ""
             }
            },
            "type": "scattermapbox"
           }
          ],
          "scatterpolar": [
           {
            "marker": {
             "colorbar": {
              "outlinewidth": 0,
              "ticks": ""
             }
            },
            "type": "scatterpolar"
           }
          ],
          "scatterpolargl": [
           {
            "marker": {
             "colorbar": {
              "outlinewidth": 0,
              "ticks": ""
             }
            },
            "type": "scatterpolargl"
           }
          ],
          "scatterternary": [
           {
            "marker": {
             "colorbar": {
              "outlinewidth": 0,
              "ticks": ""
             }
            },
            "type": "scatterternary"
           }
          ],
          "surface": [
           {
            "colorbar": {
             "outlinewidth": 0,
             "ticks": ""
            },
            "colorscale": [
             [
              0,
              "#0d0887"
             ],
             [
              0.1111111111111111,
              "#46039f"
             ],
             [
              0.2222222222222222,
              "#7201a8"
             ],
             [
              0.3333333333333333,
              "#9c179e"
             ],
             [
              0.4444444444444444,
              "#bd3786"
             ],
             [
              0.5555555555555556,
              "#d8576b"
             ],
             [
              0.6666666666666666,
              "#ed7953"
             ],
             [
              0.7777777777777778,
              "#fb9f3a"
             ],
             [
              0.8888888888888888,
              "#fdca26"
             ],
             [
              1,
              "#f0f921"
             ]
            ],
            "type": "surface"
           }
          ],
          "table": [
           {
            "cells": {
             "fill": {
              "color": "#506784"
             },
             "line": {
              "color": "rgb(17,17,17)"
             }
            },
            "header": {
             "fill": {
              "color": "#2a3f5f"
             },
             "line": {
              "color": "rgb(17,17,17)"
             }
            },
            "type": "table"
           }
          ]
         },
         "layout": {
          "annotationdefaults": {
           "arrowcolor": "#f2f5fa",
           "arrowhead": 0,
           "arrowwidth": 1
          },
          "coloraxis": {
           "colorbar": {
            "outlinewidth": 0,
            "ticks": ""
           }
          },
          "colorscale": {
           "diverging": [
            [
             0,
             "#8e0152"
            ],
            [
             0.1,
             "#c51b7d"
            ],
            [
             0.2,
             "#de77ae"
            ],
            [
             0.3,
             "#f1b6da"
            ],
            [
             0.4,
             "#fde0ef"
            ],
            [
             0.5,
             "#f7f7f7"
            ],
            [
             0.6,
             "#e6f5d0"
            ],
            [
             0.7,
             "#b8e186"
            ],
            [
             0.8,
             "#7fbc41"
            ],
            [
             0.9,
             "#4d9221"
            ],
            [
             1,
             "#276419"
            ]
           ],
           "sequential": [
            [
             0,
             "#0d0887"
            ],
            [
             0.1111111111111111,
             "#46039f"
            ],
            [
             0.2222222222222222,
             "#7201a8"
            ],
            [
             0.3333333333333333,
             "#9c179e"
            ],
            [
             0.4444444444444444,
             "#bd3786"
            ],
            [
             0.5555555555555556,
             "#d8576b"
            ],
            [
             0.6666666666666666,
             "#ed7953"
            ],
            [
             0.7777777777777778,
             "#fb9f3a"
            ],
            [
             0.8888888888888888,
             "#fdca26"
            ],
            [
             1,
             "#f0f921"
            ]
           ],
           "sequentialminus": [
            [
             0,
             "#0d0887"
            ],
            [
             0.1111111111111111,
             "#46039f"
            ],
            [
             0.2222222222222222,
             "#7201a8"
            ],
            [
             0.3333333333333333,
             "#9c179e"
            ],
            [
             0.4444444444444444,
             "#bd3786"
            ],
            [
             0.5555555555555556,
             "#d8576b"
            ],
            [
             0.6666666666666666,
             "#ed7953"
            ],
            [
             0.7777777777777778,
             "#fb9f3a"
            ],
            [
             0.8888888888888888,
             "#fdca26"
            ],
            [
             1,
             "#f0f921"
            ]
           ]
          },
          "colorway": [
           "#636efa",
           "#EF553B",
           "#00cc96",
           "#ab63fa",
           "#FFA15A",
           "#19d3f3",
           "#FF6692",
           "#B6E880",
           "#FF97FF",
           "#FECB52"
          ],
          "font": {
           "color": "#f2f5fa"
          },
          "geo": {
           "bgcolor": "rgb(17,17,17)",
           "lakecolor": "rgb(17,17,17)",
           "landcolor": "rgb(17,17,17)",
           "showlakes": true,
           "showland": true,
           "subunitcolor": "#506784"
          },
          "hoverlabel": {
           "align": "left"
          },
          "hovermode": "closest",
          "mapbox": {
           "style": "dark"
          },
          "paper_bgcolor": "rgb(17,17,17)",
          "plot_bgcolor": "rgb(17,17,17)",
          "polar": {
           "angularaxis": {
            "gridcolor": "#506784",
            "linecolor": "#506784",
            "ticks": ""
           },
           "bgcolor": "rgb(17,17,17)",
           "radialaxis": {
            "gridcolor": "#506784",
            "linecolor": "#506784",
            "ticks": ""
           }
          },
          "scene": {
           "xaxis": {
            "backgroundcolor": "rgb(17,17,17)",
            "gridcolor": "#506784",
            "gridwidth": 2,
            "linecolor": "#506784",
            "showbackground": true,
            "ticks": "",
            "zerolinecolor": "#C8D4E3"
           },
           "yaxis": {
            "backgroundcolor": "rgb(17,17,17)",
            "gridcolor": "#506784",
            "gridwidth": 2,
            "linecolor": "#506784",
            "showbackground": true,
            "ticks": "",
            "zerolinecolor": "#C8D4E3"
           },
           "zaxis": {
            "backgroundcolor": "rgb(17,17,17)",
            "gridcolor": "#506784",
            "gridwidth": 2,
            "linecolor": "#506784",
            "showbackground": true,
            "ticks": "",
            "zerolinecolor": "#C8D4E3"
           }
          },
          "shapedefaults": {
           "line": {
            "color": "#f2f5fa"
           }
          },
          "sliderdefaults": {
           "bgcolor": "#C8D4E3",
           "bordercolor": "rgb(17,17,17)",
           "borderwidth": 1,
           "tickwidth": 0
          },
          "ternary": {
           "aaxis": {
            "gridcolor": "#506784",
            "linecolor": "#506784",
            "ticks": ""
           },
           "baxis": {
            "gridcolor": "#506784",
            "linecolor": "#506784",
            "ticks": ""
           },
           "bgcolor": "rgb(17,17,17)",
           "caxis": {
            "gridcolor": "#506784",
            "linecolor": "#506784",
            "ticks": ""
           }
          },
          "title": {
           "x": 0.05
          },
          "updatemenudefaults": {
           "bgcolor": "#506784",
           "borderwidth": 0
          },
          "xaxis": {
           "automargin": true,
           "gridcolor": "#283442",
           "linecolor": "#506784",
           "ticks": "",
           "title": {
            "standoff": 15
           },
           "zerolinecolor": "#283442",
           "zerolinewidth": 2
          },
          "yaxis": {
           "automargin": true,
           "gridcolor": "#283442",
           "linecolor": "#506784",
           "ticks": "",
           "title": {
            "standoff": 15
           },
           "zerolinecolor": "#283442",
           "zerolinewidth": 2
          }
         }
        },
        "title": {
         "text": "Total Confirmed Cases by State"
        }
       }
      },
      "text/html": [
       "<div>                            <div id=\"dbc13bef-21bc-42df-9d94-528e4821733f\" class=\"plotly-graph-div\" style=\"height:525px; width:100%;\"></div>            <script type=\"text/javascript\">                require([\"plotly\"], function(Plotly) {                    window.PLOTLYENV=window.PLOTLYENV || {};                                    if (document.getElementById(\"dbc13bef-21bc-42df-9d94-528e4821733f\")) {                    Plotly.newPlot(                        \"dbc13bef-21bc-42df-9d94-528e4821733f\",                        [{\"coloraxis\": \"coloraxis\", \"customdata\": [[1409.0, 1.0, 0.0], [4205.0, 17.0, 0.0], [2722.0, 35.0, 0.0], [5859.0, 45.0, 0.0], [18529.0, 57.0, 0.0], [9379.0, 42.0, 0.0], [0.0, 0.0, 0.0], [311.0, 3.0, 0.0], [787.0, 2.0, 0.0], [14649.0, 73.0, 0.0], [5119.0, 52.0, 0.0], [107.0, 0.0, 0.0], [7426.0, 17.0, 0.0], [2447.0, 7.0, 0.0], [21659.0, 271.0, 0.0], [15032.0, 47.0, 0.0], [59.0, 6.0, 0.0], [4742.0, 14.0, 0.0], [0.0, 0.0, 0.0], [5180.0, 64.0, 0.0], [4161.0, 29.0, 0.0], [305.0, 3.0, 0.0], [7430.0, 68.0, 0.0], [16242.0, 66.0, 0.0], [10425.0, 15.0, 0.0], [2339.0, 24.0, 0.0], [2914.0, 43.0, 0.0], [7002.0, 86.0, 0.0], [3194.0, 29.0, 0.0], [3239.0, 4.0, 0.0], [745.0, 1.0, 0.0], [8891.0, 44.0, 0.0], [2195.0, 17.0, 0.0], [3446.0, 16.0, 0.0], [9037.0, 39.0, 0.0], [15568.0, 22.0, 0.0], [6770.0, 35.0, 0.0], [1943.0, 8.0, 0.0], [8708.0, 80.0, 0.0], [1360.0, 21.0, 0.0], [0.0, 0.0, 0.0], [3406.0, 11.0, 0.0], [3054.0, 76.0, 0.0], [10479.0, 41.0, 0.0], [16637.0, 217.0, 0.0], [8019.0, 17.0, 0.0], [2698.0, 15.0, 0.0], [146.0, 0.0, 0.0], [4542.0, 0.0, 0.0], [11901.0, 68.0, 0.0], [2020.0, 17.0, 0.0], [1153.0, 17.0, 0.0]], \"geo\": \"geo\", \"hovertemplate\": \"<b>%{hovertext}</b><br><br>state=%{location}<br>Confirmed=%{z}<br>Deaths=%{customdata[1]}<br>Recovered=%{customdata[2]}<extra></extra>\", \"hovertext\": [\"AK\", \"AL\", \"AR\", \"AZ\", \"CA\", \"CO\", \"CT\", \"DC\", \"DE\", \"FL\", \"GA\", \"HI\", \"IA\", \"ID\", \"IL\", \"IN\", \"KS\", \"KY\", \"LA\", \"MA\", \"MD\", \"ME\", \"MI\", \"MN\", \"MO\", \"MS\", \"MT\", \"NC\", \"ND\", \"NE\", \"NH\", \"NJ\", \"NM\", \"NV\", \"NY\", \"OH\", \"OK\", \"OR\", \"PA\", \"PR\", \"RI\", \"SC\", \"SD\", \"TN\", \"TX\", \"UT\", \"VA\", \"VT\", \"WA\", \"WI\", \"WV\", \"WY\"], \"locationmode\": \"USA-states\", \"locations\": [\"AK\", \"AL\", \"AR\", \"AZ\", \"CA\", \"CO\", \"CT\", \"DC\", \"DE\", \"FL\", \"GA\", \"HI\", \"IA\", \"ID\", \"IL\", \"IN\", \"KS\", \"KY\", \"LA\", \"MA\", \"MD\", \"ME\", \"MI\", \"MN\", \"MO\", \"MS\", \"MT\", \"NC\", \"ND\", \"NE\", \"NH\", \"NJ\", \"NM\", \"NV\", \"NY\", \"OH\", \"OK\", \"OR\", \"PA\", \"PR\", \"RI\", \"SC\", \"SD\", \"TN\", \"TX\", \"UT\", \"VA\", \"VT\", \"WA\", \"WI\", \"WV\", \"WY\"], \"name\": \"\", \"type\": \"choropleth\", \"z\": [1409.0, 4205.0, 2722.0, 5859.0, 18529.0, 9379.0, 0.0, 311.0, 787.0, 14649.0, 5119.0, 107.0, 7426.0, 2447.0, 21659.0, 15032.0, 59.0, 4742.0, 0.0, 5180.0, 4161.0, 305.0, 7430.0, 16242.0, 10425.0, 2339.0, 2914.0, 7002.0, 3194.0, 3239.0, 745.0, 8891.0, 2195.0, 3446.0, 9037.0, 15568.0, 6770.0, 1943.0, 8708.0, 1360.0, 0.0, 3406.0, 3054.0, 10479.0, 16637.0, 8019.0, 2698.0, 146.0, 4542.0, 11901.0, 2020.0, 1153.0]}],                        {\"autosize\": true, \"coloraxis\": {\"colorbar\": {\"title\": {\"text\": \"Confirmed\"}}, \"colorscale\": [[0.0, \"rgb(255,245,240)\"], [0.125, \"rgb(254,224,210)\"], [0.25, \"rgb(252,187,161)\"], [0.375, \"rgb(252,146,114)\"], [0.5, \"rgb(251,106,74)\"], [0.625, \"rgb(239,59,44)\"], [0.75, \"rgb(203,24,29)\"], [0.875, \"rgb(165,15,21)\"], [1.0, \"rgb(103,0,13)\"]]}, \"geo\": {\"center\": {}, \"domain\": {\"x\": [0.0, 1.0], \"y\": [0.0, 1.0]}, \"scope\": \"usa\"}, \"legend\": {\"tracegroupgap\": 0}, \"template\": {\"data\": {\"bar\": [{\"error_x\": {\"color\": \"#f2f5fa\"}, \"error_y\": {\"color\": \"#f2f5fa\"}, \"marker\": {\"line\": {\"color\": \"rgb(17,17,17)\", \"width\": 0.5}}, \"type\": \"bar\"}], \"barpolar\": [{\"marker\": {\"line\": {\"color\": \"rgb(17,17,17)\", \"width\": 0.5}}, \"type\": \"barpolar\"}], \"carpet\": [{\"aaxis\": {\"endlinecolor\": \"#A2B1C6\", \"gridcolor\": \"#506784\", \"linecolor\": \"#506784\", \"minorgridcolor\": \"#506784\", \"startlinecolor\": \"#A2B1C6\"}, \"baxis\": {\"endlinecolor\": \"#A2B1C6\", \"gridcolor\": \"#506784\", \"linecolor\": \"#506784\", \"minorgridcolor\": \"#506784\", \"startlinecolor\": \"#A2B1C6\"}, \"type\": \"carpet\"}], \"choropleth\": [{\"colorbar\": {\"outlinewidth\": 0, \"ticks\": \"\"}, \"type\": \"choropleth\"}], \"contour\": [{\"colorbar\": {\"outlinewidth\": 0, \"ticks\": \"\"}, \"colorscale\": [[0.0, \"#0d0887\"], [0.1111111111111111, \"#46039f\"], [0.2222222222222222, \"#7201a8\"], [0.3333333333333333, \"#9c179e\"], [0.4444444444444444, \"#bd3786\"], [0.5555555555555556, \"#d8576b\"], [0.6666666666666666, \"#ed7953\"], [0.7777777777777778, \"#fb9f3a\"], [0.8888888888888888, \"#fdca26\"], [1.0, \"#f0f921\"]], \"type\": \"contour\"}], \"contourcarpet\": [{\"colorbar\": {\"outlinewidth\": 0, \"ticks\": \"\"}, \"type\": \"contourcarpet\"}], \"heatmap\": [{\"colorbar\": {\"outlinewidth\": 0, \"ticks\": \"\"}, \"colorscale\": [[0.0, \"#0d0887\"], [0.1111111111111111, \"#46039f\"], [0.2222222222222222, \"#7201a8\"], [0.3333333333333333, \"#9c179e\"], [0.4444444444444444, \"#bd3786\"], [0.5555555555555556, \"#d8576b\"], [0.6666666666666666, \"#ed7953\"], [0.7777777777777778, \"#fb9f3a\"], [0.8888888888888888, \"#fdca26\"], [1.0, \"#f0f921\"]], \"type\": \"heatmap\"}], \"heatmapgl\": [{\"colorbar\": {\"outlinewidth\": 0, \"ticks\": \"\"}, \"colorscale\": [[0.0, \"#0d0887\"], [0.1111111111111111, \"#46039f\"], [0.2222222222222222, \"#7201a8\"], [0.3333333333333333, \"#9c179e\"], [0.4444444444444444, \"#bd3786\"], [0.5555555555555556, \"#d8576b\"], [0.6666666666666666, \"#ed7953\"], [0.7777777777777778, \"#fb9f3a\"], [0.8888888888888888, \"#fdca26\"], [1.0, \"#f0f921\"]], \"type\": \"heatmapgl\"}], \"histogram\": [{\"marker\": {\"colorbar\": {\"outlinewidth\": 0, \"ticks\": \"\"}}, \"type\": \"histogram\"}], \"histogram2d\": [{\"colorbar\": {\"outlinewidth\": 0, \"ticks\": \"\"}, \"colorscale\": [[0.0, \"#0d0887\"], [0.1111111111111111, \"#46039f\"], [0.2222222222222222, \"#7201a8\"], [0.3333333333333333, \"#9c179e\"], [0.4444444444444444, \"#bd3786\"], [0.5555555555555556, \"#d8576b\"], [0.6666666666666666, \"#ed7953\"], [0.7777777777777778, \"#fb9f3a\"], [0.8888888888888888, \"#fdca26\"], [1.0, \"#f0f921\"]], \"type\": \"histogram2d\"}], \"histogram2dcontour\": [{\"colorbar\": {\"outlinewidth\": 0, \"ticks\": \"\"}, \"colorscale\": [[0.0, \"#0d0887\"], [0.1111111111111111, \"#46039f\"], [0.2222222222222222, \"#7201a8\"], [0.3333333333333333, \"#9c179e\"], [0.4444444444444444, \"#bd3786\"], [0.5555555555555556, \"#d8576b\"], [0.6666666666666666, \"#ed7953\"], [0.7777777777777778, \"#fb9f3a\"], [0.8888888888888888, \"#fdca26\"], [1.0, \"#f0f921\"]], \"type\": \"histogram2dcontour\"}], \"mesh3d\": [{\"colorbar\": {\"outlinewidth\": 0, \"ticks\": \"\"}, \"type\": \"mesh3d\"}], \"parcoords\": [{\"line\": {\"colorbar\": {\"outlinewidth\": 0, \"ticks\": \"\"}}, \"type\": \"parcoords\"}], \"pie\": [{\"automargin\": true, \"type\": \"pie\"}], \"scatter\": [{\"marker\": {\"line\": {\"color\": \"#283442\"}}, \"type\": \"scatter\"}], \"scatter3d\": [{\"line\": {\"colorbar\": {\"outlinewidth\": 0, \"ticks\": \"\"}}, \"marker\": {\"colorbar\": {\"outlinewidth\": 0, \"ticks\": \"\"}}, \"type\": \"scatter3d\"}], \"scattercarpet\": [{\"marker\": {\"colorbar\": {\"outlinewidth\": 0, \"ticks\": \"\"}}, \"type\": \"scattercarpet\"}], \"scattergeo\": [{\"marker\": {\"colorbar\": {\"outlinewidth\": 0, \"ticks\": \"\"}}, \"type\": \"scattergeo\"}], \"scattergl\": [{\"marker\": {\"line\": {\"color\": \"#283442\"}}, \"type\": \"scattergl\"}], \"scattermapbox\": [{\"marker\": {\"colorbar\": {\"outlinewidth\": 0, \"ticks\": \"\"}}, \"type\": \"scattermapbox\"}], \"scatterpolar\": [{\"marker\": {\"colorbar\": {\"outlinewidth\": 0, \"ticks\": \"\"}}, \"type\": \"scatterpolar\"}], \"scatterpolargl\": [{\"marker\": {\"colorbar\": {\"outlinewidth\": 0, \"ticks\": \"\"}}, \"type\": \"scatterpolargl\"}], \"scatterternary\": [{\"marker\": {\"colorbar\": {\"outlinewidth\": 0, \"ticks\": \"\"}}, \"type\": \"scatterternary\"}], \"surface\": [{\"colorbar\": {\"outlinewidth\": 0, \"ticks\": \"\"}, \"colorscale\": [[0.0, \"#0d0887\"], [0.1111111111111111, \"#46039f\"], [0.2222222222222222, \"#7201a8\"], [0.3333333333333333, \"#9c179e\"], [0.4444444444444444, \"#bd3786\"], [0.5555555555555556, \"#d8576b\"], [0.6666666666666666, \"#ed7953\"], [0.7777777777777778, \"#fb9f3a\"], [0.8888888888888888, \"#fdca26\"], [1.0, \"#f0f921\"]], \"type\": \"surface\"}], \"table\": [{\"cells\": {\"fill\": {\"color\": \"#506784\"}, \"line\": {\"color\": \"rgb(17,17,17)\"}}, \"header\": {\"fill\": {\"color\": \"#2a3f5f\"}, \"line\": {\"color\": \"rgb(17,17,17)\"}}, \"type\": \"table\"}]}, \"layout\": {\"annotationdefaults\": {\"arrowcolor\": \"#f2f5fa\", \"arrowhead\": 0, \"arrowwidth\": 1}, \"coloraxis\": {\"colorbar\": {\"outlinewidth\": 0, \"ticks\": \"\"}}, \"colorscale\": {\"diverging\": [[0, \"#8e0152\"], [0.1, \"#c51b7d\"], [0.2, \"#de77ae\"], [0.3, \"#f1b6da\"], [0.4, \"#fde0ef\"], [0.5, \"#f7f7f7\"], [0.6, \"#e6f5d0\"], [0.7, \"#b8e186\"], [0.8, \"#7fbc41\"], [0.9, \"#4d9221\"], [1, \"#276419\"]], \"sequential\": [[0.0, \"#0d0887\"], [0.1111111111111111, \"#46039f\"], [0.2222222222222222, \"#7201a8\"], [0.3333333333333333, \"#9c179e\"], [0.4444444444444444, \"#bd3786\"], [0.5555555555555556, \"#d8576b\"], [0.6666666666666666, \"#ed7953\"], [0.7777777777777778, \"#fb9f3a\"], [0.8888888888888888, \"#fdca26\"], [1.0, \"#f0f921\"]], \"sequentialminus\": [[0.0, \"#0d0887\"], [0.1111111111111111, \"#46039f\"], [0.2222222222222222, \"#7201a8\"], [0.3333333333333333, \"#9c179e\"], [0.4444444444444444, \"#bd3786\"], [0.5555555555555556, \"#d8576b\"], [0.6666666666666666, \"#ed7953\"], [0.7777777777777778, \"#fb9f3a\"], [0.8888888888888888, \"#fdca26\"], [1.0, \"#f0f921\"]]}, \"colorway\": [\"#636efa\", \"#EF553B\", \"#00cc96\", \"#ab63fa\", \"#FFA15A\", \"#19d3f3\", \"#FF6692\", \"#B6E880\", \"#FF97FF\", \"#FECB52\"], \"font\": {\"color\": \"#f2f5fa\"}, \"geo\": {\"bgcolor\": \"rgb(17,17,17)\", \"lakecolor\": \"rgb(17,17,17)\", \"landcolor\": \"rgb(17,17,17)\", \"showlakes\": true, \"showland\": true, \"subunitcolor\": \"#506784\"}, \"hoverlabel\": {\"align\": \"left\"}, \"hovermode\": \"closest\", \"mapbox\": {\"style\": \"dark\"}, \"paper_bgcolor\": \"rgb(17,17,17)\", \"plot_bgcolor\": \"rgb(17,17,17)\", \"polar\": {\"angularaxis\": {\"gridcolor\": \"#506784\", \"linecolor\": \"#506784\", \"ticks\": \"\"}, \"bgcolor\": \"rgb(17,17,17)\", \"radialaxis\": {\"gridcolor\": \"#506784\", \"linecolor\": \"#506784\", \"ticks\": \"\"}}, \"scene\": {\"xaxis\": {\"backgroundcolor\": \"rgb(17,17,17)\", \"gridcolor\": \"#506784\", \"gridwidth\": 2, \"linecolor\": \"#506784\", \"showbackground\": true, \"ticks\": \"\", \"zerolinecolor\": \"#C8D4E3\"}, \"yaxis\": {\"backgroundcolor\": \"rgb(17,17,17)\", \"gridcolor\": \"#506784\", \"gridwidth\": 2, \"linecolor\": \"#506784\", \"showbackground\": true, \"ticks\": \"\", \"zerolinecolor\": \"#C8D4E3\"}, \"zaxis\": {\"backgroundcolor\": \"rgb(17,17,17)\", \"gridcolor\": \"#506784\", \"gridwidth\": 2, \"linecolor\": \"#506784\", \"showbackground\": true, \"ticks\": \"\", \"zerolinecolor\": \"#C8D4E3\"}}, \"shapedefaults\": {\"line\": {\"color\": \"#f2f5fa\"}}, \"sliderdefaults\": {\"bgcolor\": \"#C8D4E3\", \"bordercolor\": \"rgb(17,17,17)\", \"borderwidth\": 1, \"tickwidth\": 0}, \"ternary\": {\"aaxis\": {\"gridcolor\": \"#506784\", \"linecolor\": \"#506784\", \"ticks\": \"\"}, \"baxis\": {\"gridcolor\": \"#506784\", \"linecolor\": \"#506784\", \"ticks\": \"\"}, \"bgcolor\": \"rgb(17,17,17)\", \"caxis\": {\"gridcolor\": \"#506784\", \"linecolor\": \"#506784\", \"ticks\": \"\"}}, \"title\": {\"x\": 0.05}, \"updatemenudefaults\": {\"bgcolor\": \"#506784\", \"borderwidth\": 0}, \"xaxis\": {\"automargin\": true, \"gridcolor\": \"#283442\", \"linecolor\": \"#506784\", \"ticks\": \"\", \"title\": {\"standoff\": 15}, \"zerolinecolor\": \"#283442\", \"zerolinewidth\": 2}, \"yaxis\": {\"automargin\": true, \"gridcolor\": \"#283442\", \"linecolor\": \"#506784\", \"ticks\": \"\", \"title\": {\"standoff\": 15}, \"zerolinecolor\": \"#283442\", \"zerolinewidth\": 2}}}, \"title\": {\"text\": \"Total Confirmed Cases by State\"}},                        {\"responsive\": true}                    ).then(function(){\n",
       "                            \n",
       "var gd = document.getElementById('dbc13bef-21bc-42df-9d94-528e4821733f');\n",
       "var x = new MutationObserver(function (mutations, observer) {{\n",
       "        var display = window.getComputedStyle(gd).display;\n",
       "        if (!display || display === 'none') {{\n",
       "            console.log([gd, 'removed!']);\n",
       "            Plotly.purge(gd);\n",
       "            observer.disconnect();\n",
       "        }}\n",
       "}});\n",
       "\n",
       "// Listen for the removal of the full notebook cells\n",
       "var notebookContainer = gd.closest('#notebook-container');\n",
       "if (notebookContainer) {{\n",
       "    x.observe(notebookContainer, {childList: true});\n",
       "}}\n",
       "\n",
       "// Listen for the clearing of the current output cell\n",
       "var outputEl = gd.closest('.output');\n",
       "if (outputEl) {{\n",
       "    x.observe(outputEl, {childList: true});\n",
       "}}\n",
       "\n",
       "                        })                };                });            </script>        </div>"
      ]
     },
     "metadata": {},
     "output_type": "display_data"
    }
   ],
   "source": [
    "plot_map_corona(df_last_week)"
   ]
  },
  {
   "cell_type": "code",
   "execution_count": null,
   "metadata": {},
   "outputs": [],
   "source": []
  },
  {
   "cell_type": "code",
   "execution_count": null,
   "metadata": {},
   "outputs": [],
   "source": []
  },
  {
   "cell_type": "markdown",
   "metadata": {},
   "source": [
    "### Mini Dash "
   ]
  },
  {
   "cell_type": "code",
   "execution_count": 30,
   "metadata": {
    "ExecuteTime": {
     "end_time": "2020-11-19T23:13:57.187062Z",
     "start_time": "2020-11-19T23:13:56.854202Z"
    }
   },
   "outputs": [],
   "source": [
    "from jupyter_dash import JupyterDash\n",
    "import dash_core_components as dcc\n",
    "import dash_html_components as html\n",
    "\n",
    "# app = JupyterDash()\n",
    "# plot_map_corona(df_states)"
   ]
  },
  {
   "cell_type": "markdown",
   "metadata": {},
   "source": [
    "# 07/09/20 - Updating get_methods, etc to work with plotly fig"
   ]
  },
  {
   "cell_type": "code",
   "execution_count": 31,
   "metadata": {
    "ExecuteTime": {
     "end_time": "2020-11-19T23:13:57.338047Z",
     "start_time": "2020-11-19T23:13:57.188919Z"
    },
    "code_folding": [
     40
    ]
   },
   "outputs": [],
   "source": [
    "\n",
    "\n",
    "def get_methods(obj,private=False):\n",
    "    \"\"\"\n",
    "    Retrieves a list of all non-private methods (default) from inside of obj.\n",
    "    - If private==False: only returns methods whose names do NOT start with a '_'\n",
    "    \n",
    "    Args:\n",
    "        obj (object): Object to retrieve methods from.\n",
    "        private (bool): Whether to retrieve private methods or public.\n",
    "\n",
    "    Returns:\n",
    "        list: the names of all of the retrieved methods.\n",
    "    \"\"\"\n",
    "    method_list = [func for func in dir(obj) if callable(getattr(obj, func))]\n",
    "    if private:\n",
    "        filt_methods = list(filter(lambda x: '_' in x[0] ,method_list))\n",
    "    else:\n",
    "        filt_methods = list(filter(lambda x: '_' not in x[0] ,method_list))\n",
    "    return  filt_methods\n",
    "\n",
    "def get_attributes(obj,private=False):\n",
    "    \"\"\"\n",
    "    Retrieves a list of all non-private attributes (default) from inside of obj.\n",
    "    - If private==False: only returns methods whose names do NOT start with a '_'\n",
    "    \n",
    "    Args:\n",
    "        obj (object): Object to retrieve attributes from.\n",
    "        private (bool): Whether to retrieve private attributes or public.\n",
    "    \n",
    "    Returns:\n",
    "        list: the names of all of the retrieved attributes.\n",
    "    \"\"\"\n",
    "    method_list = [func for func in dir(obj) if not callable(getattr(obj, func))]\n",
    "    if private:\n",
    "        filt_methods = list(filter(lambda x: '_' in x[0] ,method_list))\n",
    "    else:\n",
    "        filt_methods = list(filter(lambda x: '_' not in x[0] ,method_list))\n",
    "    return  filt_methods\n",
    "\n",
    "def get_methods_attributes_df(obj,include_private=False):\n",
    "    \"\"\"\n",
    "    Retrieves all attributes and methods (with docstrings)\n",
    "    and returns them in a DataFrame. By default only retrieves\n",
    "    non-private methods, unless include_privates==True\n",
    "    Args:\n",
    "        obj (object): object to retrieve methods/attributes from\n",
    "        include_privates (bool): Whether to include private methods/attributes\n",
    "    \n",
    "    Returns:\n",
    "        Frame: DataFrame with results.\n",
    "    \"\"\"\n",
    "    import pandas as pd\n",
    "    methods = get_methods(obj,private=False)\n",
    "    method_types = ['Method' for item in methods]\n",
    "\n",
    "    attrs = get_attributes(obj,private=False)\n",
    "    att_types =['Attribute' for item in attrs]\n",
    "    \n",
    "    if include_private:\n",
    "        private_methods = get_methods(obj,private=True)\n",
    "        methods.extend(private_methods)\n",
    "        method_types.extend(['Private Method' for item in private_methods])\n",
    "        \n",
    "        private_attrs = get_attributes(obj,private=True)\n",
    "        attrs.extend(private_attrs)\n",
    "        att_types.extend(['Private Attribute' for item in private_attrs])\n",
    "    \n",
    "    \n",
    "    docs=[]\n",
    "    for m in methods:\n",
    "        att = getattr(obj,m)\n",
    "        docs.append(att.__doc__)\n",
    "\n",
    "    all_res = [*methods,*attrs]\n",
    "    res_type = [*method_types,*att_types]#['Method' for item in methods]+['Attribute' for item in attrs]\n",
    "    docstrings= docs + ['na' for i in attrs]\n",
    "\n",
    "    df_obj = pd.DataFrame({'Object':all_res,'Type':res_type,'Doc':docstrings})\n",
    "    return df_obj\n"
   ]
  },
  {
   "cell_type": "code",
   "execution_count": 32,
   "metadata": {
    "ExecuteTime": {
     "end_time": "2020-11-19T23:13:57.461985Z",
     "start_time": "2020-11-19T23:13:57.340098Z"
    }
   },
   "outputs": [
    {
     "name": "stdout",
     "output_type": "stream",
     "text": [
      "__bool__\n",
      "__class__\n",
      "__delattr__\n",
      "__dir__\n",
      "__doc__\n",
      "__eq__\n",
      "__format__\n",
      "__ge__\n",
      "__getattribute__\n",
      "__gt__\n",
      "__hash__\n",
      "__init__\n",
      "__init_subclass__\n",
      "__le__\n",
      "__lt__\n",
      "__ne__\n",
      "__new__\n",
      "__reduce__\n",
      "__reduce_ex__\n",
      "__repr__\n",
      "__setattr__\n",
      "__sizeof__\n",
      "__str__\n",
      "__subclasshook__\n"
     ]
    }
   ],
   "source": [
    "for obj in dir(pmap):\n",
    "    print(obj)\n",
    "    "
   ]
  },
  {
   "cell_type": "markdown",
   "metadata": {
    "ExecuteTime": {
     "end_time": "2020-07-02T02:06:08.498706Z",
     "start_time": "2020-07-02T02:06:08.496433Z"
    }
   },
   "source": [
    "## Geocoding"
   ]
  },
  {
   "cell_type": "code",
   "execution_count": 33,
   "metadata": {
    "ExecuteTime": {
     "end_time": "2020-11-19T23:13:57.607732Z",
     "start_time": "2020-11-19T23:13:57.464177Z"
    }
   },
   "outputs": [
    {
     "data": {
      "text/html": [
       "<div>\n",
       "<style scoped>\n",
       "    .dataframe tbody tr th:only-of-type {\n",
       "        vertical-align: middle;\n",
       "    }\n",
       "\n",
       "    .dataframe tbody tr th {\n",
       "        vertical-align: top;\n",
       "    }\n",
       "\n",
       "    .dataframe thead th {\n",
       "        text-align: right;\n",
       "    }\n",
       "</style>\n",
       "<table border=\"1\" class=\"dataframe\">\n",
       "  <thead>\n",
       "    <tr style=\"text-align: right;\">\n",
       "      <th></th>\n",
       "      <th>Date</th>\n",
       "      <th>Province/State</th>\n",
       "      <th>Country/Region</th>\n",
       "      <th>Confirmed</th>\n",
       "      <th>Deaths</th>\n",
       "      <th>Recovered</th>\n",
       "      <th>state</th>\n",
       "      <th>Confirmed Per Capita</th>\n",
       "      <th>Deaths Per Capita</th>\n",
       "      <th>Recovered Per Capita</th>\n",
       "    </tr>\n",
       "  </thead>\n",
       "  <tbody>\n",
       "    <tr>\n",
       "      <th>0</th>\n",
       "      <td>2020-01-22</td>\n",
       "      <td>Washington</td>\n",
       "      <td>US</td>\n",
       "      <td>1.0</td>\n",
       "      <td>0.0</td>\n",
       "      <td>0.0</td>\n",
       "      <td>WA</td>\n",
       "      <td>1.313216e-07</td>\n",
       "      <td>0.000000</td>\n",
       "      <td>0.0</td>\n",
       "    </tr>\n",
       "    <tr>\n",
       "      <th>1</th>\n",
       "      <td>2020-01-23</td>\n",
       "      <td>Washington</td>\n",
       "      <td>US</td>\n",
       "      <td>1.0</td>\n",
       "      <td>0.0</td>\n",
       "      <td>0.0</td>\n",
       "      <td>WA</td>\n",
       "      <td>1.313216e-07</td>\n",
       "      <td>0.000000</td>\n",
       "      <td>0.0</td>\n",
       "    </tr>\n",
       "    <tr>\n",
       "      <th>2</th>\n",
       "      <td>2020-01-24</td>\n",
       "      <td>Washington</td>\n",
       "      <td>US</td>\n",
       "      <td>1.0</td>\n",
       "      <td>0.0</td>\n",
       "      <td>0.0</td>\n",
       "      <td>WA</td>\n",
       "      <td>1.313216e-07</td>\n",
       "      <td>0.000000</td>\n",
       "      <td>0.0</td>\n",
       "    </tr>\n",
       "    <tr>\n",
       "      <th>3</th>\n",
       "      <td>2020-01-25</td>\n",
       "      <td>Washington</td>\n",
       "      <td>US</td>\n",
       "      <td>1.0</td>\n",
       "      <td>0.0</td>\n",
       "      <td>0.0</td>\n",
       "      <td>WA</td>\n",
       "      <td>1.313216e-07</td>\n",
       "      <td>0.000000</td>\n",
       "      <td>0.0</td>\n",
       "    </tr>\n",
       "    <tr>\n",
       "      <th>4</th>\n",
       "      <td>2020-01-26</td>\n",
       "      <td>Washington</td>\n",
       "      <td>US</td>\n",
       "      <td>1.0</td>\n",
       "      <td>0.0</td>\n",
       "      <td>0.0</td>\n",
       "      <td>WA</td>\n",
       "      <td>1.313216e-07</td>\n",
       "      <td>0.000000</td>\n",
       "      <td>0.0</td>\n",
       "    </tr>\n",
       "    <tr>\n",
       "      <th>...</th>\n",
       "      <td>...</td>\n",
       "      <td>...</td>\n",
       "      <td>...</td>\n",
       "      <td>...</td>\n",
       "      <td>...</td>\n",
       "      <td>...</td>\n",
       "      <td>...</td>\n",
       "      <td>...</td>\n",
       "      <td>...</td>\n",
       "      <td>...</td>\n",
       "    </tr>\n",
       "    <tr>\n",
       "      <th>13920</th>\n",
       "      <td>2020-11-11</td>\n",
       "      <td>Puerto Rico</td>\n",
       "      <td>US</td>\n",
       "      <td>39120.0</td>\n",
       "      <td>901.0</td>\n",
       "      <td>0.0</td>\n",
       "      <td>PR</td>\n",
       "      <td>1.224914e-02</td>\n",
       "      <td>0.000282</td>\n",
       "      <td>0.0</td>\n",
       "    </tr>\n",
       "    <tr>\n",
       "      <th>13921</th>\n",
       "      <td>2020-11-12</td>\n",
       "      <td>Puerto Rico</td>\n",
       "      <td>US</td>\n",
       "      <td>40452.0</td>\n",
       "      <td>909.0</td>\n",
       "      <td>0.0</td>\n",
       "      <td>PR</td>\n",
       "      <td>1.266621e-02</td>\n",
       "      <td>0.000285</td>\n",
       "      <td>0.0</td>\n",
       "    </tr>\n",
       "    <tr>\n",
       "      <th>13922</th>\n",
       "      <td>2020-11-13</td>\n",
       "      <td>Puerto Rico</td>\n",
       "      <td>US</td>\n",
       "      <td>41119.0</td>\n",
       "      <td>914.0</td>\n",
       "      <td>0.0</td>\n",
       "      <td>PR</td>\n",
       "      <td>1.287506e-02</td>\n",
       "      <td>0.000286</td>\n",
       "      <td>0.0</td>\n",
       "    </tr>\n",
       "    <tr>\n",
       "      <th>13923</th>\n",
       "      <td>2020-11-14</td>\n",
       "      <td>Puerto Rico</td>\n",
       "      <td>US</td>\n",
       "      <td>41772.0</td>\n",
       "      <td>921.0</td>\n",
       "      <td>0.0</td>\n",
       "      <td>PR</td>\n",
       "      <td>1.307952e-02</td>\n",
       "      <td>0.000288</td>\n",
       "      <td>0.0</td>\n",
       "    </tr>\n",
       "    <tr>\n",
       "      <th>13924</th>\n",
       "      <td>2020-11-15</td>\n",
       "      <td>Puerto Rico</td>\n",
       "      <td>US</td>\n",
       "      <td>42479.0</td>\n",
       "      <td>935.0</td>\n",
       "      <td>0.0</td>\n",
       "      <td>PR</td>\n",
       "      <td>1.330090e-02</td>\n",
       "      <td>0.000293</td>\n",
       "      <td>0.0</td>\n",
       "    </tr>\n",
       "  </tbody>\n",
       "</table>\n",
       "<p>13925 rows × 10 columns</p>\n",
       "</div>"
      ],
      "text/plain": [
       "            Date Province/State Country/Region  Confirmed  Deaths  Recovered  \\\n",
       "0     2020-01-22     Washington             US        1.0     0.0        0.0   \n",
       "1     2020-01-23     Washington             US        1.0     0.0        0.0   \n",
       "2     2020-01-24     Washington             US        1.0     0.0        0.0   \n",
       "3     2020-01-25     Washington             US        1.0     0.0        0.0   \n",
       "4     2020-01-26     Washington             US        1.0     0.0        0.0   \n",
       "...          ...            ...            ...        ...     ...        ...   \n",
       "13920 2020-11-11    Puerto Rico             US    39120.0   901.0        0.0   \n",
       "13921 2020-11-12    Puerto Rico             US    40452.0   909.0        0.0   \n",
       "13922 2020-11-13    Puerto Rico             US    41119.0   914.0        0.0   \n",
       "13923 2020-11-14    Puerto Rico             US    41772.0   921.0        0.0   \n",
       "13924 2020-11-15    Puerto Rico             US    42479.0   935.0        0.0   \n",
       "\n",
       "      state  Confirmed Per Capita  Deaths Per Capita  Recovered Per Capita  \n",
       "0        WA          1.313216e-07           0.000000                   0.0  \n",
       "1        WA          1.313216e-07           0.000000                   0.0  \n",
       "2        WA          1.313216e-07           0.000000                   0.0  \n",
       "3        WA          1.313216e-07           0.000000                   0.0  \n",
       "4        WA          1.313216e-07           0.000000                   0.0  \n",
       "...     ...                   ...                ...                   ...  \n",
       "13920    PR          1.224914e-02           0.000282                   0.0  \n",
       "13921    PR          1.266621e-02           0.000285                   0.0  \n",
       "13922    PR          1.287506e-02           0.000286                   0.0  \n",
       "13923    PR          1.307952e-02           0.000288                   0.0  \n",
       "13924    PR          1.330090e-02           0.000293                   0.0  \n",
       "\n",
       "[13925 rows x 10 columns]"
      ]
     },
     "execution_count": 33,
     "metadata": {},
     "output_type": "execute_result"
    }
   ],
   "source": [
    "df = corona.df_us\n",
    "df"
   ]
  },
  {
   "cell_type": "code",
   "execution_count": 34,
   "metadata": {
    "ExecuteTime": {
     "end_time": "2020-11-19T23:13:57.720662Z",
     "start_time": "2020-11-19T23:13:57.609439Z"
    }
   },
   "outputs": [],
   "source": [
    "# !pip install geopandas\n",
    "# !pip install geopy"
   ]
  },
  {
   "cell_type": "code",
   "execution_count": 35,
   "metadata": {
    "ExecuteTime": {
     "end_time": "2020-11-19T23:13:58.333881Z",
     "start_time": "2020-11-19T23:13:57.722615Z"
    }
   },
   "outputs": [
    {
     "data": {
      "text/plain": [
       "(39.2908816, -76.610759)"
      ]
     },
     "execution_count": 35,
     "metadata": {},
     "output_type": "execute_result"
    }
   ],
   "source": [
    "from geopy.geocoders import Nominatim\n",
    "locator = Nominatim(user_agent=\"myGeocoder\")\n",
    "res = locator.geocode('Baltimore')\n",
    "res.latitude,res.longitude"
   ]
  },
  {
   "cell_type": "code",
   "execution_count": null,
   "metadata": {},
   "outputs": [],
   "source": []
  },
  {
   "cell_type": "code",
   "execution_count": 36,
   "metadata": {
    "ExecuteTime": {
     "end_time": "2020-11-19T23:13:58.453079Z",
     "start_time": "2020-11-19T23:13:58.341924Z"
    }
   },
   "outputs": [],
   "source": [
    "# stop"
   ]
  },
  {
   "cell_type": "markdown",
   "metadata": {},
   "source": [
    "## LEFTOVERS"
   ]
  },
  {
   "cell_type": "code",
   "execution_count": 37,
   "metadata": {
    "ExecuteTime": {
     "end_time": "2020-11-19T23:13:58.561620Z",
     "start_time": "2020-11-19T23:13:58.456112Z"
    }
   },
   "outputs": [],
   "source": [
    "# covid = fn.CovidTrackingProject(download=True,verbose=True)\n",
    "# covid"
   ]
  },
  {
   "cell_type": "code",
   "execution_count": 38,
   "metadata": {
    "ExecuteTime": {
     "end_time": "2020-11-19T23:13:58.670707Z",
     "start_time": "2020-11-19T23:13:58.563443Z"
    }
   },
   "outputs": [],
   "source": [
    "# covid.df_us[['positive','negative','death','recovered',\n",
    "# 'hospitalizedCurrently', 'hospitalizedCumulative',\n",
    "#  'inIcuCurrently', 'inIcuCumulative', \n",
    "#  'onVentilatorCurrently','onVentilatorCumulative', \n",
    "#  'states','pending','dateChecked', 'hash',]]"
   ]
  },
  {
   "cell_type": "code",
   "execution_count": 39,
   "metadata": {
    "ExecuteTime": {
     "end_time": "2020-11-19T23:13:58.773486Z",
     "start_time": "2020-11-19T23:13:58.672438Z"
    }
   },
   "outputs": [],
   "source": [
    "# covid.columns['good']"
   ]
  },
  {
   "cell_type": "code",
   "execution_count": 40,
   "metadata": {
    "ExecuteTime": {
     "end_time": "2020-11-19T23:13:58.879613Z",
     "start_time": "2020-11-19T23:13:58.775107Z"
    }
   },
   "outputs": [],
   "source": [
    "# covid.df_states"
   ]
  },
  {
   "cell_type": "code",
   "execution_count": 41,
   "metadata": {
    "ExecuteTime": {
     "end_time": "2020-11-19T23:13:58.987828Z",
     "start_time": "2020-11-19T23:13:58.881291Z"
    }
   },
   "outputs": [],
   "source": [
    "# df_us = covid.df_us.copy()\n",
    "# # sorted(list(df_us.columns))\n",
    "# df_us.columns"
   ]
  },
  {
   "cell_type": "code",
   "execution_count": 42,
   "metadata": {
    "ExecuteTime": {
     "end_time": "2020-11-19T23:13:59.096196Z",
     "start_time": "2020-11-19T23:13:58.989555Z"
    }
   },
   "outputs": [],
   "source": [
    "# df_us['fips']"
   ]
  },
  {
   "cell_type": "code",
   "execution_count": 43,
   "metadata": {
    "ExecuteTime": {
     "end_time": "2020-11-19T23:13:59.204710Z",
     "start_time": "2020-11-19T23:13:59.098045Z"
    }
   },
   "outputs": [],
   "source": [
    "# good_us_cols = ['dateChecked','death', 'hash', 'hospitalizedCumulative',\n",
    "#  'hospitalizedCurrently','inIcuCumulative', 'inIcuCurrently',\n",
    "#  'negative', 'onVentilatorCumulative', 'onVentilatorCurrently',\n",
    "#  'pending','positive','recovered','states']\n",
    "\n",
    "# dep_us_cols = ['hospitalized', 'lastModified', 'total', \n",
    "#              'totalTestResults', 'posNeg', 'deathIncrease',\n",
    "#             'hospitalizedIncrease', 'negativeIncrease', 'positiveIncrease', \n",
    "#             'totalTestResultsIncrease']#[col for col in df_us.columns if col not in good_us_cols]\n",
    "# # print(dep_cols)"
   ]
  },
  {
   "cell_type": "code",
   "execution_count": 44,
   "metadata": {
    "ExecuteTime": {
     "end_time": "2020-11-19T23:13:59.312595Z",
     "start_time": "2020-11-19T23:13:59.206559Z"
    },
    "tags": []
   },
   "outputs": [],
   "source": [
    "# df = covid.df_us[covid.columns_us['good']].copy()\n",
    "# df[good_us_cols]"
   ]
  },
  {
   "cell_type": "code",
   "execution_count": 45,
   "metadata": {
    "ExecuteTime": {
     "end_time": "2020-11-19T23:13:59.420644Z",
     "start_time": "2020-11-19T23:13:59.314471Z"
    },
    "tags": []
   },
   "outputs": [],
   "source": [
    "# covid"
   ]
  },
  {
   "cell_type": "code",
   "execution_count": 46,
   "metadata": {
    "ExecuteTime": {
     "end_time": "2020-11-19T23:13:59.529663Z",
     "start_time": "2020-11-19T23:13:59.422389Z"
    }
   },
   "outputs": [],
   "source": [
    "# covid.US"
   ]
  },
  {
   "cell_type": "markdown",
   "metadata": {},
   "source": [
    "#  📕Covid Tracking Project Data"
   ]
  },
  {
   "cell_type": "markdown",
   "metadata": {},
   "source": [
    "https://covidtracking.com/api\n",
    "\n",
    "`/api/v1/states/{state}/screenshots.csv`"
   ]
  },
  {
   "cell_type": "markdown",
   "metadata": {},
   "source": [
    "## 📦 class `CovidTrackingProject`"
   ]
  },
  {
   "cell_type": "code",
   "execution_count": 47,
   "metadata": {
    "ExecuteTime": {
     "end_time": "2020-11-19T23:14:01.122983Z",
     "start_time": "2020-11-19T23:13:59.531457Z"
    }
   },
   "outputs": [
    {
     "name": "stdout",
     "output_type": "stream",
     "text": [
      "[i] DOWNLOADING DATASETS FROM COVID TRACKING PROJECT\n",
      "\thttps://covidtracking.com/data\n",
      "\t- File saved as: \"New Data/states_metadata.csv\"\n",
      "ERROR\n",
      "\t- File saved as: \"New Data/us.csv\"\n",
      "\t- File saved as: \"New Data/states.csv\"\n",
      "states\n"
     ]
    },
    {
     "data": {
      "text/plain": [
       "------------------------------------------------------------\n",
       "[i] CovidTrackingProject Contents:\n",
       "------------------------------------------------------------\n",
       "\n",
       "METHODS:\n",
       "\tdownload_state_daily\n",
       "\tdownload_state_meta\n",
       "\tdownload_us_daily\n",
       "\tget_csv_save_load\n",
       "\tget_df\n",
       "\tget_group_ts\n",
       "\thelp\n",
       "\n",
       "ATTRIBUTES\n",
       "\tbase_folder\n",
       "\tbase_url\n",
       "\tcolumns\n",
       "\tcolumns_us\n",
       "\tdf\n",
       "\tdf_states\n",
       "\tdf_us\n",
       "\turls"
      ]
     },
     "execution_count": 47,
     "metadata": {},
     "output_type": "execute_result"
    }
   ],
   "source": [
    "covid = fn.CovidTrackingProject(download=True,verbose=True)\n",
    "covid"
   ]
  },
  {
   "cell_type": "code",
   "execution_count": 48,
   "metadata": {
    "ExecuteTime": {
     "end_time": "2020-11-19T23:14:01.257366Z",
     "start_time": "2020-11-19T23:14:01.124700Z"
    }
   },
   "outputs": [
    {
     "data": {
      "text/html": [
       "<div>\n",
       "<style scoped>\n",
       "    .dataframe tbody tr th:only-of-type {\n",
       "        vertical-align: middle;\n",
       "    }\n",
       "\n",
       "    .dataframe tbody tr th {\n",
       "        vertical-align: top;\n",
       "    }\n",
       "\n",
       "    .dataframe thead th {\n",
       "        text-align: right;\n",
       "    }\n",
       "</style>\n",
       "<table border=\"1\" class=\"dataframe\">\n",
       "  <thead>\n",
       "    <tr style=\"text-align: right;\">\n",
       "      <th></th>\n",
       "      <th>positive</th>\n",
       "      <th>negative</th>\n",
       "      <th>death</th>\n",
       "      <th>recovered</th>\n",
       "      <th>hospitalizedCurrently</th>\n",
       "      <th>hospitalizedCumulative</th>\n",
       "      <th>inIcuCurrently</th>\n",
       "      <th>inIcuCumulative</th>\n",
       "      <th>onVentilatorCurrently</th>\n",
       "      <th>onVentilatorCumulative</th>\n",
       "      <th>states</th>\n",
       "      <th>pending</th>\n",
       "      <th>dateChecked</th>\n",
       "      <th>hash</th>\n",
       "    </tr>\n",
       "    <tr>\n",
       "      <th>date</th>\n",
       "      <th></th>\n",
       "      <th></th>\n",
       "      <th></th>\n",
       "      <th></th>\n",
       "      <th></th>\n",
       "      <th></th>\n",
       "      <th></th>\n",
       "      <th></th>\n",
       "      <th></th>\n",
       "      <th></th>\n",
       "      <th></th>\n",
       "      <th></th>\n",
       "      <th></th>\n",
       "      <th></th>\n",
       "    </tr>\n",
       "  </thead>\n",
       "  <tbody>\n",
       "    <tr>\n",
       "      <th>2020-11-18</th>\n",
       "      <td>11373310</td>\n",
       "      <td>138907553</td>\n",
       "      <td>241704.0</td>\n",
       "      <td>4348089.0</td>\n",
       "      <td>79410.0</td>\n",
       "      <td>529168.0</td>\n",
       "      <td>15350.0</td>\n",
       "      <td>27989.0</td>\n",
       "      <td>4701.0</td>\n",
       "      <td>3024.0</td>\n",
       "      <td>56</td>\n",
       "      <td>12971.0</td>\n",
       "      <td>2020-11-18T24:00:00Z</td>\n",
       "      <td>5dc1b316e5e7b6ecaff11b00041cf335793ee775</td>\n",
       "    </tr>\n",
       "    <tr>\n",
       "      <th>2020-11-17</th>\n",
       "      <td>11209335</td>\n",
       "      <td>137833090</td>\n",
       "      <td>239835.0</td>\n",
       "      <td>4292094.0</td>\n",
       "      <td>76958.0</td>\n",
       "      <td>524678.0</td>\n",
       "      <td>14851.0</td>\n",
       "      <td>27681.0</td>\n",
       "      <td>4379.0</td>\n",
       "      <td>3004.0</td>\n",
       "      <td>56</td>\n",
       "      <td>9281.0</td>\n",
       "      <td>2020-11-17T24:00:00Z</td>\n",
       "      <td>4b92f29fcf980dedba895d88f44d26ea816be797</td>\n",
       "    </tr>\n",
       "    <tr>\n",
       "      <th>2020-11-16</th>\n",
       "      <td>11052613</td>\n",
       "      <td>136740628</td>\n",
       "      <td>238280.0</td>\n",
       "      <td>4242683.0</td>\n",
       "      <td>73268.0</td>\n",
       "      <td>520763.0</td>\n",
       "      <td>14317.0</td>\n",
       "      <td>27437.0</td>\n",
       "      <td>4166.0</td>\n",
       "      <td>2988.0</td>\n",
       "      <td>56</td>\n",
       "      <td>13639.0</td>\n",
       "      <td>2020-11-16T24:00:00Z</td>\n",
       "      <td>b556091da971f8138e0eaf7ac994d0338e4d742c</td>\n",
       "    </tr>\n",
       "    <tr>\n",
       "      <th>2020-11-15</th>\n",
       "      <td>10903745</td>\n",
       "      <td>135637101</td>\n",
       "      <td>237643.0</td>\n",
       "      <td>4183378.0</td>\n",
       "      <td>70113.0</td>\n",
       "      <td>517615.0</td>\n",
       "      <td>13693.0</td>\n",
       "      <td>27269.0</td>\n",
       "      <td>3939.0</td>\n",
       "      <td>2975.0</td>\n",
       "      <td>56</td>\n",
       "      <td>13654.0</td>\n",
       "      <td>2020-11-15T24:00:00Z</td>\n",
       "      <td>2c761b5acd54d250ddcaa0dbcee9b8365d0cb3c6</td>\n",
       "    </tr>\n",
       "    <tr>\n",
       "      <th>2020-11-14</th>\n",
       "      <td>10759311</td>\n",
       "      <td>134474547</td>\n",
       "      <td>236966.0</td>\n",
       "      <td>4146419.0</td>\n",
       "      <td>69498.0</td>\n",
       "      <td>515739.0</td>\n",
       "      <td>13337.0</td>\n",
       "      <td>27172.0</td>\n",
       "      <td>3945.0</td>\n",
       "      <td>2972.0</td>\n",
       "      <td>56</td>\n",
       "      <td>13657.0</td>\n",
       "      <td>2020-11-14T24:00:00Z</td>\n",
       "      <td>26be9bfa6f792c85562ca2d6ad1670294dd1b66d</td>\n",
       "    </tr>\n",
       "    <tr>\n",
       "      <th>...</th>\n",
       "      <td>...</td>\n",
       "      <td>...</td>\n",
       "      <td>...</td>\n",
       "      <td>...</td>\n",
       "      <td>...</td>\n",
       "      <td>...</td>\n",
       "      <td>...</td>\n",
       "      <td>...</td>\n",
       "      <td>...</td>\n",
       "      <td>...</td>\n",
       "      <td>...</td>\n",
       "      <td>...</td>\n",
       "      <td>...</td>\n",
       "      <td>...</td>\n",
       "    </tr>\n",
       "    <tr>\n",
       "      <th>2020-01-26</th>\n",
       "      <td>0</td>\n",
       "      <td>0</td>\n",
       "      <td>NaN</td>\n",
       "      <td>NaN</td>\n",
       "      <td>NaN</td>\n",
       "      <td>NaN</td>\n",
       "      <td>NaN</td>\n",
       "      <td>NaN</td>\n",
       "      <td>NaN</td>\n",
       "      <td>NaN</td>\n",
       "      <td>2</td>\n",
       "      <td>NaN</td>\n",
       "      <td>2020-01-26T24:00:00Z</td>\n",
       "      <td>69c67c81e64d10a5270497fc5336779c06fb812b</td>\n",
       "    </tr>\n",
       "    <tr>\n",
       "      <th>2020-01-25</th>\n",
       "      <td>0</td>\n",
       "      <td>0</td>\n",
       "      <td>NaN</td>\n",
       "      <td>NaN</td>\n",
       "      <td>NaN</td>\n",
       "      <td>NaN</td>\n",
       "      <td>NaN</td>\n",
       "      <td>NaN</td>\n",
       "      <td>NaN</td>\n",
       "      <td>NaN</td>\n",
       "      <td>2</td>\n",
       "      <td>NaN</td>\n",
       "      <td>2020-01-25T24:00:00Z</td>\n",
       "      <td>9ea5731f5b0a79617b994d6842eecfdbeb1dde35</td>\n",
       "    </tr>\n",
       "    <tr>\n",
       "      <th>2020-01-24</th>\n",
       "      <td>0</td>\n",
       "      <td>0</td>\n",
       "      <td>NaN</td>\n",
       "      <td>NaN</td>\n",
       "      <td>NaN</td>\n",
       "      <td>NaN</td>\n",
       "      <td>NaN</td>\n",
       "      <td>NaN</td>\n",
       "      <td>NaN</td>\n",
       "      <td>NaN</td>\n",
       "      <td>2</td>\n",
       "      <td>NaN</td>\n",
       "      <td>2020-01-24T24:00:00Z</td>\n",
       "      <td>287531342bc8d5f2650b0cc12ebcca3807a64b7b</td>\n",
       "    </tr>\n",
       "    <tr>\n",
       "      <th>2020-01-23</th>\n",
       "      <td>0</td>\n",
       "      <td>0</td>\n",
       "      <td>NaN</td>\n",
       "      <td>NaN</td>\n",
       "      <td>NaN</td>\n",
       "      <td>NaN</td>\n",
       "      <td>NaN</td>\n",
       "      <td>NaN</td>\n",
       "      <td>NaN</td>\n",
       "      <td>NaN</td>\n",
       "      <td>2</td>\n",
       "      <td>NaN</td>\n",
       "      <td>2020-01-23T24:00:00Z</td>\n",
       "      <td>e0563aac8e1bc7b8b8059c52831b97179ff6f981</td>\n",
       "    </tr>\n",
       "    <tr>\n",
       "      <th>2020-01-22</th>\n",
       "      <td>0</td>\n",
       "      <td>0</td>\n",
       "      <td>NaN</td>\n",
       "      <td>NaN</td>\n",
       "      <td>NaN</td>\n",
       "      <td>NaN</td>\n",
       "      <td>NaN</td>\n",
       "      <td>NaN</td>\n",
       "      <td>NaN</td>\n",
       "      <td>NaN</td>\n",
       "      <td>2</td>\n",
       "      <td>NaN</td>\n",
       "      <td>2020-01-22T24:00:00Z</td>\n",
       "      <td>e0caa1c66c4aa83baf227afe12261a1493fc0d7e</td>\n",
       "    </tr>\n",
       "  </tbody>\n",
       "</table>\n",
       "<p>302 rows × 14 columns</p>\n",
       "</div>"
      ],
      "text/plain": [
       "            positive   negative     death  recovered  hospitalizedCurrently  \\\n",
       "date                                                                          \n",
       "2020-11-18  11373310  138907553  241704.0  4348089.0                79410.0   \n",
       "2020-11-17  11209335  137833090  239835.0  4292094.0                76958.0   \n",
       "2020-11-16  11052613  136740628  238280.0  4242683.0                73268.0   \n",
       "2020-11-15  10903745  135637101  237643.0  4183378.0                70113.0   \n",
       "2020-11-14  10759311  134474547  236966.0  4146419.0                69498.0   \n",
       "...              ...        ...       ...        ...                    ...   \n",
       "2020-01-26         0          0       NaN        NaN                    NaN   \n",
       "2020-01-25         0          0       NaN        NaN                    NaN   \n",
       "2020-01-24         0          0       NaN        NaN                    NaN   \n",
       "2020-01-23         0          0       NaN        NaN                    NaN   \n",
       "2020-01-22         0          0       NaN        NaN                    NaN   \n",
       "\n",
       "            hospitalizedCumulative  inIcuCurrently  inIcuCumulative  \\\n",
       "date                                                                  \n",
       "2020-11-18                529168.0         15350.0          27989.0   \n",
       "2020-11-17                524678.0         14851.0          27681.0   \n",
       "2020-11-16                520763.0         14317.0          27437.0   \n",
       "2020-11-15                517615.0         13693.0          27269.0   \n",
       "2020-11-14                515739.0         13337.0          27172.0   \n",
       "...                            ...             ...              ...   \n",
       "2020-01-26                     NaN             NaN              NaN   \n",
       "2020-01-25                     NaN             NaN              NaN   \n",
       "2020-01-24                     NaN             NaN              NaN   \n",
       "2020-01-23                     NaN             NaN              NaN   \n",
       "2020-01-22                     NaN             NaN              NaN   \n",
       "\n",
       "            onVentilatorCurrently  onVentilatorCumulative  states  pending  \\\n",
       "date                                                                         \n",
       "2020-11-18                 4701.0                  3024.0      56  12971.0   \n",
       "2020-11-17                 4379.0                  3004.0      56   9281.0   \n",
       "2020-11-16                 4166.0                  2988.0      56  13639.0   \n",
       "2020-11-15                 3939.0                  2975.0      56  13654.0   \n",
       "2020-11-14                 3945.0                  2972.0      56  13657.0   \n",
       "...                           ...                     ...     ...      ...   \n",
       "2020-01-26                    NaN                     NaN       2      NaN   \n",
       "2020-01-25                    NaN                     NaN       2      NaN   \n",
       "2020-01-24                    NaN                     NaN       2      NaN   \n",
       "2020-01-23                    NaN                     NaN       2      NaN   \n",
       "2020-01-22                    NaN                     NaN       2      NaN   \n",
       "\n",
       "                     dateChecked                                      hash  \n",
       "date                                                                        \n",
       "2020-11-18  2020-11-18T24:00:00Z  5dc1b316e5e7b6ecaff11b00041cf335793ee775  \n",
       "2020-11-17  2020-11-17T24:00:00Z  4b92f29fcf980dedba895d88f44d26ea816be797  \n",
       "2020-11-16  2020-11-16T24:00:00Z  b556091da971f8138e0eaf7ac994d0338e4d742c  \n",
       "2020-11-15  2020-11-15T24:00:00Z  2c761b5acd54d250ddcaa0dbcee9b8365d0cb3c6  \n",
       "2020-11-14  2020-11-14T24:00:00Z  26be9bfa6f792c85562ca2d6ad1670294dd1b66d  \n",
       "...                          ...                                       ...  \n",
       "2020-01-26  2020-01-26T24:00:00Z  69c67c81e64d10a5270497fc5336779c06fb812b  \n",
       "2020-01-25  2020-01-25T24:00:00Z  9ea5731f5b0a79617b994d6842eecfdbeb1dde35  \n",
       "2020-01-24  2020-01-24T24:00:00Z  287531342bc8d5f2650b0cc12ebcca3807a64b7b  \n",
       "2020-01-23  2020-01-23T24:00:00Z  e0563aac8e1bc7b8b8059c52831b97179ff6f981  \n",
       "2020-01-22  2020-01-22T24:00:00Z  e0caa1c66c4aa83baf227afe12261a1493fc0d7e  \n",
       "\n",
       "[302 rows x 14 columns]"
      ]
     },
     "execution_count": 48,
     "metadata": {},
     "output_type": "execute_result"
    }
   ],
   "source": [
    "df_us = covid.get_df(which='us')\n",
    "df_us"
   ]
  },
  {
   "cell_type": "markdown",
   "metadata": {},
   "source": [
    "### def `iplot_cols`"
   ]
  },
  {
   "cell_type": "code",
   "execution_count": 49,
   "metadata": {
    "ExecuteTime": {
     "end_time": "2020-11-19T23:14:01.366983Z",
     "start_time": "2020-11-19T23:14:01.259108Z"
    }
   },
   "outputs": [],
   "source": [
    "\n",
    "def iplot_cols(df_us,cols='icu'):\n",
    "    pfig = df_us[[col for col in df_us.columns if cols in col.lower()]].iplot()#kind=kind)\n",
    "    return pfig"
   ]
  },
  {
   "cell_type": "code",
   "execution_count": 50,
   "metadata": {
    "ExecuteTime": {
     "end_time": "2020-11-19T23:14:01.538731Z",
     "start_time": "2020-11-19T23:14:01.369044Z"
    }
   },
   "outputs": [
    {
     "data": {
      "application/vnd.plotly.v1+json": {
       "config": {
        "linkText": "Export to plot.ly",
        "plotlyServerURL": "https://plot.ly",
        "showLink": true
       },
       "data": [
        {
         "line": {
          "color": "rgba(255, 153, 51, 1.0)",
          "dash": "solid",
          "shape": "linear",
          "width": 1.3
         },
         "mode": "lines",
         "name": "hospitalizedCurrently",
         "text": "",
         "type": "scatter",
         "x": [
          "2020-11-18",
          "2020-11-17",
          "2020-11-16",
          "2020-11-15",
          "2020-11-14",
          "2020-11-13",
          "2020-11-12",
          "2020-11-11",
          "2020-11-10",
          "2020-11-09",
          "2020-11-08",
          "2020-11-07",
          "2020-11-06",
          "2020-11-05",
          "2020-11-04",
          "2020-11-03",
          "2020-11-02",
          "2020-11-01",
          "2020-10-31",
          "2020-10-30",
          "2020-10-29",
          "2020-10-28",
          "2020-10-27",
          "2020-10-26",
          "2020-10-25",
          "2020-10-24",
          "2020-10-23",
          "2020-10-22",
          "2020-10-21",
          "2020-10-20",
          "2020-10-19",
          "2020-10-18",
          "2020-10-17",
          "2020-10-16",
          "2020-10-15",
          "2020-10-14",
          "2020-10-13",
          "2020-10-12",
          "2020-10-11",
          "2020-10-10",
          "2020-10-09",
          "2020-10-08",
          "2020-10-07",
          "2020-10-06",
          "2020-10-05",
          "2020-10-04",
          "2020-10-03",
          "2020-10-02",
          "2020-10-01",
          "2020-09-30",
          "2020-09-29",
          "2020-09-28",
          "2020-09-27",
          "2020-09-26",
          "2020-09-25",
          "2020-09-24",
          "2020-09-23",
          "2020-09-22",
          "2020-09-21",
          "2020-09-20",
          "2020-09-19",
          "2020-09-18",
          "2020-09-17",
          "2020-09-16",
          "2020-09-15",
          "2020-09-14",
          "2020-09-13",
          "2020-09-12",
          "2020-09-11",
          "2020-09-10",
          "2020-09-09",
          "2020-09-08",
          "2020-09-07",
          "2020-09-06",
          "2020-09-05",
          "2020-09-04",
          "2020-09-03",
          "2020-09-02",
          "2020-09-01",
          "2020-08-31",
          "2020-08-30",
          "2020-08-29",
          "2020-08-28",
          "2020-08-27",
          "2020-08-26",
          "2020-08-25",
          "2020-08-24",
          "2020-08-23",
          "2020-08-22",
          "2020-08-21",
          "2020-08-20",
          "2020-08-19",
          "2020-08-18",
          "2020-08-17",
          "2020-08-16",
          "2020-08-15",
          "2020-08-14",
          "2020-08-13",
          "2020-08-12",
          "2020-08-11",
          "2020-08-10",
          "2020-08-09",
          "2020-08-08",
          "2020-08-07",
          "2020-08-06",
          "2020-08-05",
          "2020-08-04",
          "2020-08-03",
          "2020-08-02",
          "2020-08-01",
          "2020-07-31",
          "2020-07-30",
          "2020-07-29",
          "2020-07-28",
          "2020-07-27",
          "2020-07-26",
          "2020-07-25",
          "2020-07-24",
          "2020-07-23",
          "2020-07-22",
          "2020-07-21",
          "2020-07-20",
          "2020-07-19",
          "2020-07-18",
          "2020-07-17",
          "2020-07-16",
          "2020-07-15",
          "2020-07-14",
          "2020-07-13",
          "2020-07-12",
          "2020-07-11",
          "2020-07-10",
          "2020-07-09",
          "2020-07-08",
          "2020-07-07",
          "2020-07-06",
          "2020-07-05",
          "2020-07-04",
          "2020-07-03",
          "2020-07-02",
          "2020-07-01",
          "2020-06-30",
          "2020-06-29",
          "2020-06-28",
          "2020-06-27",
          "2020-06-26",
          "2020-06-25",
          "2020-06-24",
          "2020-06-23",
          "2020-06-22",
          "2020-06-21",
          "2020-06-20",
          "2020-06-19",
          "2020-06-18",
          "2020-06-17",
          "2020-06-16",
          "2020-06-15",
          "2020-06-14",
          "2020-06-13",
          "2020-06-12",
          "2020-06-11",
          "2020-06-10",
          "2020-06-09",
          "2020-06-08",
          "2020-06-07",
          "2020-06-06",
          "2020-06-05",
          "2020-06-04",
          "2020-06-03",
          "2020-06-02",
          "2020-06-01",
          "2020-05-31",
          "2020-05-30",
          "2020-05-29",
          "2020-05-28",
          "2020-05-27",
          "2020-05-26",
          "2020-05-25",
          "2020-05-24",
          "2020-05-23",
          "2020-05-22",
          "2020-05-21",
          "2020-05-20",
          "2020-05-19",
          "2020-05-18",
          "2020-05-17",
          "2020-05-16",
          "2020-05-15",
          "2020-05-14",
          "2020-05-13",
          "2020-05-12",
          "2020-05-11",
          "2020-05-10",
          "2020-05-09",
          "2020-05-08",
          "2020-05-07",
          "2020-05-06",
          "2020-05-05",
          "2020-05-04",
          "2020-05-03",
          "2020-05-02",
          "2020-05-01",
          "2020-04-30",
          "2020-04-29",
          "2020-04-28",
          "2020-04-27",
          "2020-04-26",
          "2020-04-25",
          "2020-04-24",
          "2020-04-23",
          "2020-04-22",
          "2020-04-21",
          "2020-04-20",
          "2020-04-19",
          "2020-04-18",
          "2020-04-17",
          "2020-04-16",
          "2020-04-15",
          "2020-04-14",
          "2020-04-13",
          "2020-04-12",
          "2020-04-11",
          "2020-04-10",
          "2020-04-09",
          "2020-04-08",
          "2020-04-07",
          "2020-04-06",
          "2020-04-05",
          "2020-04-04",
          "2020-04-03",
          "2020-04-02",
          "2020-04-01",
          "2020-03-31",
          "2020-03-30",
          "2020-03-29",
          "2020-03-28",
          "2020-03-27",
          "2020-03-26",
          "2020-03-25",
          "2020-03-24",
          "2020-03-23",
          "2020-03-22",
          "2020-03-21",
          "2020-03-20",
          "2020-03-19",
          "2020-03-18",
          "2020-03-17",
          "2020-03-16",
          "2020-03-15",
          "2020-03-14",
          "2020-03-13",
          "2020-03-12",
          "2020-03-11",
          "2020-03-10",
          "2020-03-09",
          "2020-03-08",
          "2020-03-07",
          "2020-03-06",
          "2020-03-05",
          "2020-03-04",
          "2020-03-03",
          "2020-03-02",
          "2020-03-01",
          "2020-02-29",
          "2020-02-28",
          "2020-02-27",
          "2020-02-26",
          "2020-02-25",
          "2020-02-24",
          "2020-02-23",
          "2020-02-22",
          "2020-02-21",
          "2020-02-20",
          "2020-02-19",
          "2020-02-18",
          "2020-02-17",
          "2020-02-16",
          "2020-02-15",
          "2020-02-14",
          "2020-02-13",
          "2020-02-12",
          "2020-02-11",
          "2020-02-10",
          "2020-02-09",
          "2020-02-08",
          "2020-02-07",
          "2020-02-06",
          "2020-02-05",
          "2020-02-04",
          "2020-02-03",
          "2020-02-02",
          "2020-02-01",
          "2020-01-31",
          "2020-01-30",
          "2020-01-29",
          "2020-01-28",
          "2020-01-27",
          "2020-01-26",
          "2020-01-25",
          "2020-01-24",
          "2020-01-23",
          "2020-01-22"
         ],
         "y": [
          79410,
          76958,
          73268,
          70113,
          69498,
          68496,
          67100,
          65463,
          62059,
          59301,
          56842,
          55925,
          54851,
          53375,
          52086,
          50426,
          48557,
          47531,
          47402,
          46738,
          46126,
          45124,
          44287,
          42924,
          41786,
          41989,
          41501,
          41036,
          40284,
          39303,
          37858,
          36452,
          37358,
          37368,
          37328,
          37088,
          36064,
          35066,
          34498,
          34600,
          34877,
          34319,
          33482,
          32626,
          31327,
          29945,
          30111,
          30769,
          30809,
          30912,
          30499,
          29601,
          29443,
          29551,
          29768,
          30036,
          29937,
          29448,
          28762,
          28606,
          29038,
          29521,
          29875,
          30253,
          30361,
          29907,
          29804,
          30643,
          31406,
          32438,
          32579,
          32246,
          32009,
          32376,
          33502,
          34101,
          34650,
          35579,
          35273,
          35352,
          35726,
          36437,
          37255,
          37421,
          38418,
          38775,
          38695,
          38980,
          39919,
          40940,
          41968,
          43289,
          43767,
          43500,
          44046,
          44783,
          45744,
          47204,
          47949,
          48511,
          48631,
          48866,
          49935,
          51201,
          53129,
          53343,
          53323,
          53413,
          53983,
          54437,
          55589,
          56434,
          57325,
          57086,
          58906,
          58644,
          59269,
          59677,
          59712,
          59598,
          59351,
          58352,
          57882,
          57646,
          57737,
          57459,
          56168,
          55554,
          54044,
          52739,
          51861,
          51606,
          43916,
          43097,
          41772,
          39820,
          38765,
          38150,
          37801,
          37508,
          36430,
          35222,
          33627,
          32479,
          32485,
          31710,
          31828,
          31119,
          30226,
          28797,
          28221,
          27970,
          28586,
          28411,
          28561,
          28279,
          27866,
          27899,
          28431,
          29149,
          29686,
          30840,
          31020,
          30984,
          31249,
          31762,
          32265,
          32602,
          33026,
          33709,
          34064,
          34641,
          35513,
          36718,
          37804,
          38017,
          37533,
          37382,
          37510,
          38360,
          39774,
          41071,
          41535,
          41652,
          41531,
          41609,
          43175,
          44299,
          45644,
          46740,
          47344,
          46550,
          46760,
          48561,
          49758,
          51425,
          52581,
          53176,
          52377,
          52619,
          54009,
          54862,
          54921,
          55987,
          56034,
          56183,
          56149,
          57343,
          57324,
          59216,
          59212,
          59773,
          56734,
          56497,
          57788,
          58886,
          59498,
          59924,
          59600,
          56237,
          55449,
          55557,
          53167,
          51313,
          45515,
          43849,
          36159,
          32180,
          30268,
          25777,
          22997,
          20906,
          18155,
          15917,
          14055,
          12409,
          10978,
          7805,
          5140,
          3938,
          2812,
          2173,
          1492,
          1042,
          617,
          416,
          325,
          "",
          "",
          "",
          "",
          "",
          "",
          "",
          "",
          "",
          "",
          "",
          "",
          "",
          "",
          "",
          "",
          "",
          "",
          "",
          "",
          "",
          "",
          "",
          "",
          "",
          "",
          "",
          "",
          "",
          "",
          "",
          "",
          "",
          "",
          "",
          "",
          "",
          "",
          "",
          "",
          "",
          "",
          "",
          "",
          "",
          "",
          "",
          "",
          "",
          "",
          "",
          "",
          "",
          "",
          ""
         ]
        },
        {
         "line": {
          "color": "rgba(55, 128, 191, 1.0)",
          "dash": "solid",
          "shape": "linear",
          "width": 1.3
         },
         "mode": "lines",
         "name": "hospitalizedCumulative",
         "text": "",
         "type": "scatter",
         "x": [
          "2020-11-18",
          "2020-11-17",
          "2020-11-16",
          "2020-11-15",
          "2020-11-14",
          "2020-11-13",
          "2020-11-12",
          "2020-11-11",
          "2020-11-10",
          "2020-11-09",
          "2020-11-08",
          "2020-11-07",
          "2020-11-06",
          "2020-11-05",
          "2020-11-04",
          "2020-11-03",
          "2020-11-02",
          "2020-11-01",
          "2020-10-31",
          "2020-10-30",
          "2020-10-29",
          "2020-10-28",
          "2020-10-27",
          "2020-10-26",
          "2020-10-25",
          "2020-10-24",
          "2020-10-23",
          "2020-10-22",
          "2020-10-21",
          "2020-10-20",
          "2020-10-19",
          "2020-10-18",
          "2020-10-17",
          "2020-10-16",
          "2020-10-15",
          "2020-10-14",
          "2020-10-13",
          "2020-10-12",
          "2020-10-11",
          "2020-10-10",
          "2020-10-09",
          "2020-10-08",
          "2020-10-07",
          "2020-10-06",
          "2020-10-05",
          "2020-10-04",
          "2020-10-03",
          "2020-10-02",
          "2020-10-01",
          "2020-09-30",
          "2020-09-29",
          "2020-09-28",
          "2020-09-27",
          "2020-09-26",
          "2020-09-25",
          "2020-09-24",
          "2020-09-23",
          "2020-09-22",
          "2020-09-21",
          "2020-09-20",
          "2020-09-19",
          "2020-09-18",
          "2020-09-17",
          "2020-09-16",
          "2020-09-15",
          "2020-09-14",
          "2020-09-13",
          "2020-09-12",
          "2020-09-11",
          "2020-09-10",
          "2020-09-09",
          "2020-09-08",
          "2020-09-07",
          "2020-09-06",
          "2020-09-05",
          "2020-09-04",
          "2020-09-03",
          "2020-09-02",
          "2020-09-01",
          "2020-08-31",
          "2020-08-30",
          "2020-08-29",
          "2020-08-28",
          "2020-08-27",
          "2020-08-26",
          "2020-08-25",
          "2020-08-24",
          "2020-08-23",
          "2020-08-22",
          "2020-08-21",
          "2020-08-20",
          "2020-08-19",
          "2020-08-18",
          "2020-08-17",
          "2020-08-16",
          "2020-08-15",
          "2020-08-14",
          "2020-08-13",
          "2020-08-12",
          "2020-08-11",
          "2020-08-10",
          "2020-08-09",
          "2020-08-08",
          "2020-08-07",
          "2020-08-06",
          "2020-08-05",
          "2020-08-04",
          "2020-08-03",
          "2020-08-02",
          "2020-08-01",
          "2020-07-31",
          "2020-07-30",
          "2020-07-29",
          "2020-07-28",
          "2020-07-27",
          "2020-07-26",
          "2020-07-25",
          "2020-07-24",
          "2020-07-23",
          "2020-07-22",
          "2020-07-21",
          "2020-07-20",
          "2020-07-19",
          "2020-07-18",
          "2020-07-17",
          "2020-07-16",
          "2020-07-15",
          "2020-07-14",
          "2020-07-13",
          "2020-07-12",
          "2020-07-11",
          "2020-07-10",
          "2020-07-09",
          "2020-07-08",
          "2020-07-07",
          "2020-07-06",
          "2020-07-05",
          "2020-07-04",
          "2020-07-03",
          "2020-07-02",
          "2020-07-01",
          "2020-06-30",
          "2020-06-29",
          "2020-06-28",
          "2020-06-27",
          "2020-06-26",
          "2020-06-25",
          "2020-06-24",
          "2020-06-23",
          "2020-06-22",
          "2020-06-21",
          "2020-06-20",
          "2020-06-19",
          "2020-06-18",
          "2020-06-17",
          "2020-06-16",
          "2020-06-15",
          "2020-06-14",
          "2020-06-13",
          "2020-06-12",
          "2020-06-11",
          "2020-06-10",
          "2020-06-09",
          "2020-06-08",
          "2020-06-07",
          "2020-06-06",
          "2020-06-05",
          "2020-06-04",
          "2020-06-03",
          "2020-06-02",
          "2020-06-01",
          "2020-05-31",
          "2020-05-30",
          "2020-05-29",
          "2020-05-28",
          "2020-05-27",
          "2020-05-26",
          "2020-05-25",
          "2020-05-24",
          "2020-05-23",
          "2020-05-22",
          "2020-05-21",
          "2020-05-20",
          "2020-05-19",
          "2020-05-18",
          "2020-05-17",
          "2020-05-16",
          "2020-05-15",
          "2020-05-14",
          "2020-05-13",
          "2020-05-12",
          "2020-05-11",
          "2020-05-10",
          "2020-05-09",
          "2020-05-08",
          "2020-05-07",
          "2020-05-06",
          "2020-05-05",
          "2020-05-04",
          "2020-05-03",
          "2020-05-02",
          "2020-05-01",
          "2020-04-30",
          "2020-04-29",
          "2020-04-28",
          "2020-04-27",
          "2020-04-26",
          "2020-04-25",
          "2020-04-24",
          "2020-04-23",
          "2020-04-22",
          "2020-04-21",
          "2020-04-20",
          "2020-04-19",
          "2020-04-18",
          "2020-04-17",
          "2020-04-16",
          "2020-04-15",
          "2020-04-14",
          "2020-04-13",
          "2020-04-12",
          "2020-04-11",
          "2020-04-10",
          "2020-04-09",
          "2020-04-08",
          "2020-04-07",
          "2020-04-06",
          "2020-04-05",
          "2020-04-04",
          "2020-04-03",
          "2020-04-02",
          "2020-04-01",
          "2020-03-31",
          "2020-03-30",
          "2020-03-29",
          "2020-03-28",
          "2020-03-27",
          "2020-03-26",
          "2020-03-25",
          "2020-03-24",
          "2020-03-23",
          "2020-03-22",
          "2020-03-21",
          "2020-03-20",
          "2020-03-19",
          "2020-03-18",
          "2020-03-17",
          "2020-03-16",
          "2020-03-15",
          "2020-03-14",
          "2020-03-13",
          "2020-03-12",
          "2020-03-11",
          "2020-03-10",
          "2020-03-09",
          "2020-03-08",
          "2020-03-07",
          "2020-03-06",
          "2020-03-05",
          "2020-03-04",
          "2020-03-03",
          "2020-03-02",
          "2020-03-01",
          "2020-02-29",
          "2020-02-28",
          "2020-02-27",
          "2020-02-26",
          "2020-02-25",
          "2020-02-24",
          "2020-02-23",
          "2020-02-22",
          "2020-02-21",
          "2020-02-20",
          "2020-02-19",
          "2020-02-18",
          "2020-02-17",
          "2020-02-16",
          "2020-02-15",
          "2020-02-14",
          "2020-02-13",
          "2020-02-12",
          "2020-02-11",
          "2020-02-10",
          "2020-02-09",
          "2020-02-08",
          "2020-02-07",
          "2020-02-06",
          "2020-02-05",
          "2020-02-04",
          "2020-02-03",
          "2020-02-02",
          "2020-02-01",
          "2020-01-31",
          "2020-01-30",
          "2020-01-29",
          "2020-01-28",
          "2020-01-27",
          "2020-01-26",
          "2020-01-25",
          "2020-01-24",
          "2020-01-23",
          "2020-01-22"
         ],
         "y": [
          529168,
          524678,
          520763,
          517615,
          515739,
          512274,
          508581,
          504909,
          501486,
          497375,
          495005,
          493499,
          491208,
          488066,
          484653,
          481516,
          478289,
          476771,
          475626,
          473597,
          471173,
          468849,
          466378,
          464033,
          462174,
          461068,
          459317,
          444325,
          441698,
          439493,
          437262,
          435555,
          434755,
          433202,
          431341,
          429332,
          426809,
          424694,
          423471,
          422482,
          420973,
          419212,
          417110,
          414845,
          415450,
          413909,
          413267,
          412161,
          410760,
          408994,
          407412,
          405662,
          404404,
          403685,
          402516,
          401164,
          399593,
          398152,
          396674,
          395514,
          395007,
          393942,
          392511,
          390939,
          389417,
          387911,
          386959,
          386389,
          385312,
          383760,
          382223,
          380157,
          379180,
          378690,
          378191,
          376914,
          375676,
          374156,
          372505,
          370647,
          369832,
          369182,
          367859,
          366272,
          364592,
          362743,
          360695,
          359640,
          358888,
          357333,
          355514,
          353487,
          351498,
          349190,
          347913,
          347262,
          345243,
          343029,
          340319,
          337322,
          334557,
          332896,
          332049,
          330617,
          322610,
          319915,
          317647,
          313126,
          311403,
          310600,
          308286,
          305647,
          302331,
          299359,
          294643,
          292942,
          291530,
          289599,
          286508,
          284007,
          281781,
          279178,
          277529,
          276598,
          274594,
          271905,
          269655,
          267281,
          265030,
          263773,
          262852,
          257718,
          255387,
          253742,
          251752,
          249670,
          248853,
          248257,
          247388,
          245948,
          243964,
          242549,
          240946,
          240240,
          239673,
          238609,
          237089,
          235829,
          234537,
          233258,
          232438,
          231930,
          231192,
          229583,
          228557,
          227403,
          226172,
          225540,
          224909,
          223970,
          222611,
          221189,
          219886,
          218567,
          217503,
          216729,
          215837,
          214328,
          217176,
          215042,
          213335,
          210528,
          209564,
          208167,
          206491,
          204804,
          203105,
          185765,
          184851,
          183835,
          182479,
          178433,
          173790,
          171815,
          170189,
          169011,
          167829,
          166000,
          164647,
          161426,
          159609,
          158069,
          156768,
          155728,
          154069,
          147749,
          143430,
          141344,
          139378,
          137614,
          135691,
          133715,
          123900,
          121572,
          118524,
          116446,
          112991,
          110815,
          108489,
          106127,
          103284,
          100190,
          97454,
          95191,
          92978,
          89561,
          86154,
          82993,
          79282,
          76139,
          71694,
          68428,
          64768,
          59894,
          55993,
          51686,
          48689,
          45721,
          41821,
          36797,
          32225,
          28070,
          23825,
          19822,
          17339,
          14548,
          12141,
          9557,
          7087,
          5131,
          3952,
          3033,
          2026,
          153,
          128,
          94,
          76,
          43,
          37,
          27,
          23,
          17,
          12,
          9,
          9,
          6,
          6,
          6,
          5,
          4,
          "",
          "",
          "",
          "",
          "",
          "",
          "",
          "",
          "",
          "",
          "",
          "",
          "",
          "",
          "",
          "",
          "",
          "",
          "",
          "",
          "",
          "",
          "",
          "",
          "",
          "",
          "",
          "",
          "",
          "",
          "",
          "",
          "",
          "",
          "",
          "",
          "",
          "",
          "",
          "",
          "",
          ""
         ]
        }
       ],
       "layout": {
        "legend": {
         "bgcolor": "#151516",
         "font": {
          "color": "#D9D9D9"
         }
        },
        "paper_bgcolor": "#151516",
        "plot_bgcolor": "#151516",
        "template": {
         "data": {
          "bar": [
           {
            "error_x": {
             "color": "#f2f5fa"
            },
            "error_y": {
             "color": "#f2f5fa"
            },
            "marker": {
             "line": {
              "color": "rgb(17,17,17)",
              "width": 0.5
             }
            },
            "type": "bar"
           }
          ],
          "barpolar": [
           {
            "marker": {
             "line": {
              "color": "rgb(17,17,17)",
              "width": 0.5
             }
            },
            "type": "barpolar"
           }
          ],
          "carpet": [
           {
            "aaxis": {
             "endlinecolor": "#A2B1C6",
             "gridcolor": "#506784",
             "linecolor": "#506784",
             "minorgridcolor": "#506784",
             "startlinecolor": "#A2B1C6"
            },
            "baxis": {
             "endlinecolor": "#A2B1C6",
             "gridcolor": "#506784",
             "linecolor": "#506784",
             "minorgridcolor": "#506784",
             "startlinecolor": "#A2B1C6"
            },
            "type": "carpet"
           }
          ],
          "choropleth": [
           {
            "colorbar": {
             "outlinewidth": 0,
             "ticks": ""
            },
            "type": "choropleth"
           }
          ],
          "contour": [
           {
            "colorbar": {
             "outlinewidth": 0,
             "ticks": ""
            },
            "colorscale": [
             [
              0,
              "#0d0887"
             ],
             [
              0.1111111111111111,
              "#46039f"
             ],
             [
              0.2222222222222222,
              "#7201a8"
             ],
             [
              0.3333333333333333,
              "#9c179e"
             ],
             [
              0.4444444444444444,
              "#bd3786"
             ],
             [
              0.5555555555555556,
              "#d8576b"
             ],
             [
              0.6666666666666666,
              "#ed7953"
             ],
             [
              0.7777777777777778,
              "#fb9f3a"
             ],
             [
              0.8888888888888888,
              "#fdca26"
             ],
             [
              1,
              "#f0f921"
             ]
            ],
            "type": "contour"
           }
          ],
          "contourcarpet": [
           {
            "colorbar": {
             "outlinewidth": 0,
             "ticks": ""
            },
            "type": "contourcarpet"
           }
          ],
          "heatmap": [
           {
            "colorbar": {
             "outlinewidth": 0,
             "ticks": ""
            },
            "colorscale": [
             [
              0,
              "#0d0887"
             ],
             [
              0.1111111111111111,
              "#46039f"
             ],
             [
              0.2222222222222222,
              "#7201a8"
             ],
             [
              0.3333333333333333,
              "#9c179e"
             ],
             [
              0.4444444444444444,
              "#bd3786"
             ],
             [
              0.5555555555555556,
              "#d8576b"
             ],
             [
              0.6666666666666666,
              "#ed7953"
             ],
             [
              0.7777777777777778,
              "#fb9f3a"
             ],
             [
              0.8888888888888888,
              "#fdca26"
             ],
             [
              1,
              "#f0f921"
             ]
            ],
            "type": "heatmap"
           }
          ],
          "heatmapgl": [
           {
            "colorbar": {
             "outlinewidth": 0,
             "ticks": ""
            },
            "colorscale": [
             [
              0,
              "#0d0887"
             ],
             [
              0.1111111111111111,
              "#46039f"
             ],
             [
              0.2222222222222222,
              "#7201a8"
             ],
             [
              0.3333333333333333,
              "#9c179e"
             ],
             [
              0.4444444444444444,
              "#bd3786"
             ],
             [
              0.5555555555555556,
              "#d8576b"
             ],
             [
              0.6666666666666666,
              "#ed7953"
             ],
             [
              0.7777777777777778,
              "#fb9f3a"
             ],
             [
              0.8888888888888888,
              "#fdca26"
             ],
             [
              1,
              "#f0f921"
             ]
            ],
            "type": "heatmapgl"
           }
          ],
          "histogram": [
           {
            "marker": {
             "colorbar": {
              "outlinewidth": 0,
              "ticks": ""
             }
            },
            "type": "histogram"
           }
          ],
          "histogram2d": [
           {
            "colorbar": {
             "outlinewidth": 0,
             "ticks": ""
            },
            "colorscale": [
             [
              0,
              "#0d0887"
             ],
             [
              0.1111111111111111,
              "#46039f"
             ],
             [
              0.2222222222222222,
              "#7201a8"
             ],
             [
              0.3333333333333333,
              "#9c179e"
             ],
             [
              0.4444444444444444,
              "#bd3786"
             ],
             [
              0.5555555555555556,
              "#d8576b"
             ],
             [
              0.6666666666666666,
              "#ed7953"
             ],
             [
              0.7777777777777778,
              "#fb9f3a"
             ],
             [
              0.8888888888888888,
              "#fdca26"
             ],
             [
              1,
              "#f0f921"
             ]
            ],
            "type": "histogram2d"
           }
          ],
          "histogram2dcontour": [
           {
            "colorbar": {
             "outlinewidth": 0,
             "ticks": ""
            },
            "colorscale": [
             [
              0,
              "#0d0887"
             ],
             [
              0.1111111111111111,
              "#46039f"
             ],
             [
              0.2222222222222222,
              "#7201a8"
             ],
             [
              0.3333333333333333,
              "#9c179e"
             ],
             [
              0.4444444444444444,
              "#bd3786"
             ],
             [
              0.5555555555555556,
              "#d8576b"
             ],
             [
              0.6666666666666666,
              "#ed7953"
             ],
             [
              0.7777777777777778,
              "#fb9f3a"
             ],
             [
              0.8888888888888888,
              "#fdca26"
             ],
             [
              1,
              "#f0f921"
             ]
            ],
            "type": "histogram2dcontour"
           }
          ],
          "mesh3d": [
           {
            "colorbar": {
             "outlinewidth": 0,
             "ticks": ""
            },
            "type": "mesh3d"
           }
          ],
          "parcoords": [
           {
            "line": {
             "colorbar": {
              "outlinewidth": 0,
              "ticks": ""
             }
            },
            "type": "parcoords"
           }
          ],
          "pie": [
           {
            "automargin": true,
            "type": "pie"
           }
          ],
          "scatter": [
           {
            "marker": {
             "line": {
              "color": "#283442"
             }
            },
            "type": "scatter"
           }
          ],
          "scatter3d": [
           {
            "line": {
             "colorbar": {
              "outlinewidth": 0,
              "ticks": ""
             }
            },
            "marker": {
             "colorbar": {
              "outlinewidth": 0,
              "ticks": ""
             }
            },
            "type": "scatter3d"
           }
          ],
          "scattercarpet": [
           {
            "marker": {
             "colorbar": {
              "outlinewidth": 0,
              "ticks": ""
             }
            },
            "type": "scattercarpet"
           }
          ],
          "scattergeo": [
           {
            "marker": {
             "colorbar": {
              "outlinewidth": 0,
              "ticks": ""
             }
            },
            "type": "scattergeo"
           }
          ],
          "scattergl": [
           {
            "marker": {
             "line": {
              "color": "#283442"
             }
            },
            "type": "scattergl"
           }
          ],
          "scattermapbox": [
           {
            "marker": {
             "colorbar": {
              "outlinewidth": 0,
              "ticks": ""
             }
            },
            "type": "scattermapbox"
           }
          ],
          "scatterpolar": [
           {
            "marker": {
             "colorbar": {
              "outlinewidth": 0,
              "ticks": ""
             }
            },
            "type": "scatterpolar"
           }
          ],
          "scatterpolargl": [
           {
            "marker": {
             "colorbar": {
              "outlinewidth": 0,
              "ticks": ""
             }
            },
            "type": "scatterpolargl"
           }
          ],
          "scatterternary": [
           {
            "marker": {
             "colorbar": {
              "outlinewidth": 0,
              "ticks": ""
             }
            },
            "type": "scatterternary"
           }
          ],
          "surface": [
           {
            "colorbar": {
             "outlinewidth": 0,
             "ticks": ""
            },
            "colorscale": [
             [
              0,
              "#0d0887"
             ],
             [
              0.1111111111111111,
              "#46039f"
             ],
             [
              0.2222222222222222,
              "#7201a8"
             ],
             [
              0.3333333333333333,
              "#9c179e"
             ],
             [
              0.4444444444444444,
              "#bd3786"
             ],
             [
              0.5555555555555556,
              "#d8576b"
             ],
             [
              0.6666666666666666,
              "#ed7953"
             ],
             [
              0.7777777777777778,
              "#fb9f3a"
             ],
             [
              0.8888888888888888,
              "#fdca26"
             ],
             [
              1,
              "#f0f921"
             ]
            ],
            "type": "surface"
           }
          ],
          "table": [
           {
            "cells": {
             "fill": {
              "color": "#506784"
             },
             "line": {
              "color": "rgb(17,17,17)"
             }
            },
            "header": {
             "fill": {
              "color": "#2a3f5f"
             },
             "line": {
              "color": "rgb(17,17,17)"
             }
            },
            "type": "table"
           }
          ]
         },
         "layout": {
          "annotationdefaults": {
           "arrowcolor": "#f2f5fa",
           "arrowhead": 0,
           "arrowwidth": 1
          },
          "coloraxis": {
           "colorbar": {
            "outlinewidth": 0,
            "ticks": ""
           }
          },
          "colorscale": {
           "diverging": [
            [
             0,
             "#8e0152"
            ],
            [
             0.1,
             "#c51b7d"
            ],
            [
             0.2,
             "#de77ae"
            ],
            [
             0.3,
             "#f1b6da"
            ],
            [
             0.4,
             "#fde0ef"
            ],
            [
             0.5,
             "#f7f7f7"
            ],
            [
             0.6,
             "#e6f5d0"
            ],
            [
             0.7,
             "#b8e186"
            ],
            [
             0.8,
             "#7fbc41"
            ],
            [
             0.9,
             "#4d9221"
            ],
            [
             1,
             "#276419"
            ]
           ],
           "sequential": [
            [
             0,
             "#0d0887"
            ],
            [
             0.1111111111111111,
             "#46039f"
            ],
            [
             0.2222222222222222,
             "#7201a8"
            ],
            [
             0.3333333333333333,
             "#9c179e"
            ],
            [
             0.4444444444444444,
             "#bd3786"
            ],
            [
             0.5555555555555556,
             "#d8576b"
            ],
            [
             0.6666666666666666,
             "#ed7953"
            ],
            [
             0.7777777777777778,
             "#fb9f3a"
            ],
            [
             0.8888888888888888,
             "#fdca26"
            ],
            [
             1,
             "#f0f921"
            ]
           ],
           "sequentialminus": [
            [
             0,
             "#0d0887"
            ],
            [
             0.1111111111111111,
             "#46039f"
            ],
            [
             0.2222222222222222,
             "#7201a8"
            ],
            [
             0.3333333333333333,
             "#9c179e"
            ],
            [
             0.4444444444444444,
             "#bd3786"
            ],
            [
             0.5555555555555556,
             "#d8576b"
            ],
            [
             0.6666666666666666,
             "#ed7953"
            ],
            [
             0.7777777777777778,
             "#fb9f3a"
            ],
            [
             0.8888888888888888,
             "#fdca26"
            ],
            [
             1,
             "#f0f921"
            ]
           ]
          },
          "colorway": [
           "#636efa",
           "#EF553B",
           "#00cc96",
           "#ab63fa",
           "#FFA15A",
           "#19d3f3",
           "#FF6692",
           "#B6E880",
           "#FF97FF",
           "#FECB52"
          ],
          "font": {
           "color": "#f2f5fa"
          },
          "geo": {
           "bgcolor": "rgb(17,17,17)",
           "lakecolor": "rgb(17,17,17)",
           "landcolor": "rgb(17,17,17)",
           "showlakes": true,
           "showland": true,
           "subunitcolor": "#506784"
          },
          "hoverlabel": {
           "align": "left"
          },
          "hovermode": "closest",
          "mapbox": {
           "style": "dark"
          },
          "paper_bgcolor": "rgb(17,17,17)",
          "plot_bgcolor": "rgb(17,17,17)",
          "polar": {
           "angularaxis": {
            "gridcolor": "#506784",
            "linecolor": "#506784",
            "ticks": ""
           },
           "bgcolor": "rgb(17,17,17)",
           "radialaxis": {
            "gridcolor": "#506784",
            "linecolor": "#506784",
            "ticks": ""
           }
          },
          "scene": {
           "xaxis": {
            "backgroundcolor": "rgb(17,17,17)",
            "gridcolor": "#506784",
            "gridwidth": 2,
            "linecolor": "#506784",
            "showbackground": true,
            "ticks": "",
            "zerolinecolor": "#C8D4E3"
           },
           "yaxis": {
            "backgroundcolor": "rgb(17,17,17)",
            "gridcolor": "#506784",
            "gridwidth": 2,
            "linecolor": "#506784",
            "showbackground": true,
            "ticks": "",
            "zerolinecolor": "#C8D4E3"
           },
           "zaxis": {
            "backgroundcolor": "rgb(17,17,17)",
            "gridcolor": "#506784",
            "gridwidth": 2,
            "linecolor": "#506784",
            "showbackground": true,
            "ticks": "",
            "zerolinecolor": "#C8D4E3"
           }
          },
          "shapedefaults": {
           "line": {
            "color": "#f2f5fa"
           }
          },
          "sliderdefaults": {
           "bgcolor": "#C8D4E3",
           "bordercolor": "rgb(17,17,17)",
           "borderwidth": 1,
           "tickwidth": 0
          },
          "ternary": {
           "aaxis": {
            "gridcolor": "#506784",
            "linecolor": "#506784",
            "ticks": ""
           },
           "baxis": {
            "gridcolor": "#506784",
            "linecolor": "#506784",
            "ticks": ""
           },
           "bgcolor": "rgb(17,17,17)",
           "caxis": {
            "gridcolor": "#506784",
            "linecolor": "#506784",
            "ticks": ""
           }
          },
          "title": {
           "x": 0.05
          },
          "updatemenudefaults": {
           "bgcolor": "#506784",
           "borderwidth": 0
          },
          "xaxis": {
           "automargin": true,
           "gridcolor": "#283442",
           "linecolor": "#506784",
           "ticks": "",
           "title": {
            "standoff": 15
           },
           "zerolinecolor": "#283442",
           "zerolinewidth": 2
          },
          "yaxis": {
           "automargin": true,
           "gridcolor": "#283442",
           "linecolor": "#506784",
           "ticks": "",
           "title": {
            "standoff": 15
           },
           "zerolinecolor": "#283442",
           "zerolinewidth": 2
          }
         }
        },
        "title": {
         "font": {
          "color": "#D9D9D9"
         }
        },
        "xaxis": {
         "gridcolor": "#434343",
         "showgrid": true,
         "tickfont": {
          "color": "#C2C2C2"
         },
         "title": {
          "font": {
           "color": "#D9D9D9"
          },
          "text": ""
         },
         "zerolinecolor": "#666570"
        },
        "yaxis": {
         "gridcolor": "#434343",
         "showgrid": true,
         "tickfont": {
          "color": "#C2C2C2"
         },
         "title": {
          "font": {
           "color": "#D9D9D9"
          },
          "text": ""
         },
         "zerolinecolor": "#666570"
        }
       }
      },
      "text/html": [
       "<div>                            <div id=\"84a79f2a-ef9c-4bef-9b23-4414a7dfecfc\" class=\"plotly-graph-div\" style=\"height:525px; width:100%;\"></div>            <script type=\"text/javascript\">                require([\"plotly\"], function(Plotly) {                    window.PLOTLYENV=window.PLOTLYENV || {};\n",
       "                    window.PLOTLYENV.BASE_URL='https://plot.ly';                                    if (document.getElementById(\"84a79f2a-ef9c-4bef-9b23-4414a7dfecfc\")) {                    Plotly.newPlot(                        \"84a79f2a-ef9c-4bef-9b23-4414a7dfecfc\",                        [{\"line\": {\"color\": \"rgba(255, 153, 51, 1.0)\", \"dash\": \"solid\", \"shape\": \"linear\", \"width\": 1.3}, \"mode\": \"lines\", \"name\": \"hospitalizedCurrently\", \"text\": \"\", \"type\": \"scatter\", \"x\": [\"2020-11-18\", \"2020-11-17\", \"2020-11-16\", \"2020-11-15\", \"2020-11-14\", \"2020-11-13\", \"2020-11-12\", \"2020-11-11\", \"2020-11-10\", \"2020-11-09\", \"2020-11-08\", \"2020-11-07\", \"2020-11-06\", \"2020-11-05\", \"2020-11-04\", \"2020-11-03\", \"2020-11-02\", \"2020-11-01\", \"2020-10-31\", \"2020-10-30\", \"2020-10-29\", \"2020-10-28\", \"2020-10-27\", \"2020-10-26\", \"2020-10-25\", \"2020-10-24\", \"2020-10-23\", \"2020-10-22\", \"2020-10-21\", \"2020-10-20\", \"2020-10-19\", \"2020-10-18\", \"2020-10-17\", \"2020-10-16\", \"2020-10-15\", \"2020-10-14\", \"2020-10-13\", \"2020-10-12\", \"2020-10-11\", \"2020-10-10\", \"2020-10-09\", \"2020-10-08\", \"2020-10-07\", \"2020-10-06\", \"2020-10-05\", \"2020-10-04\", \"2020-10-03\", \"2020-10-02\", \"2020-10-01\", \"2020-09-30\", \"2020-09-29\", \"2020-09-28\", \"2020-09-27\", \"2020-09-26\", \"2020-09-25\", \"2020-09-24\", \"2020-09-23\", \"2020-09-22\", \"2020-09-21\", \"2020-09-20\", \"2020-09-19\", \"2020-09-18\", \"2020-09-17\", \"2020-09-16\", \"2020-09-15\", \"2020-09-14\", \"2020-09-13\", \"2020-09-12\", \"2020-09-11\", \"2020-09-10\", \"2020-09-09\", \"2020-09-08\", \"2020-09-07\", \"2020-09-06\", \"2020-09-05\", \"2020-09-04\", \"2020-09-03\", \"2020-09-02\", \"2020-09-01\", \"2020-08-31\", \"2020-08-30\", \"2020-08-29\", \"2020-08-28\", \"2020-08-27\", \"2020-08-26\", \"2020-08-25\", \"2020-08-24\", \"2020-08-23\", \"2020-08-22\", \"2020-08-21\", \"2020-08-20\", \"2020-08-19\", \"2020-08-18\", \"2020-08-17\", \"2020-08-16\", \"2020-08-15\", \"2020-08-14\", \"2020-08-13\", \"2020-08-12\", \"2020-08-11\", \"2020-08-10\", \"2020-08-09\", \"2020-08-08\", \"2020-08-07\", \"2020-08-06\", \"2020-08-05\", \"2020-08-04\", \"2020-08-03\", \"2020-08-02\", \"2020-08-01\", \"2020-07-31\", \"2020-07-30\", \"2020-07-29\", \"2020-07-28\", \"2020-07-27\", \"2020-07-26\", \"2020-07-25\", \"2020-07-24\", \"2020-07-23\", \"2020-07-22\", \"2020-07-21\", \"2020-07-20\", \"2020-07-19\", \"2020-07-18\", \"2020-07-17\", \"2020-07-16\", \"2020-07-15\", \"2020-07-14\", \"2020-07-13\", \"2020-07-12\", \"2020-07-11\", \"2020-07-10\", \"2020-07-09\", \"2020-07-08\", \"2020-07-07\", \"2020-07-06\", \"2020-07-05\", \"2020-07-04\", \"2020-07-03\", \"2020-07-02\", \"2020-07-01\", \"2020-06-30\", \"2020-06-29\", \"2020-06-28\", \"2020-06-27\", \"2020-06-26\", \"2020-06-25\", \"2020-06-24\", \"2020-06-23\", \"2020-06-22\", \"2020-06-21\", \"2020-06-20\", \"2020-06-19\", \"2020-06-18\", \"2020-06-17\", \"2020-06-16\", \"2020-06-15\", \"2020-06-14\", \"2020-06-13\", \"2020-06-12\", \"2020-06-11\", \"2020-06-10\", \"2020-06-09\", \"2020-06-08\", \"2020-06-07\", \"2020-06-06\", \"2020-06-05\", \"2020-06-04\", \"2020-06-03\", \"2020-06-02\", \"2020-06-01\", \"2020-05-31\", \"2020-05-30\", \"2020-05-29\", \"2020-05-28\", \"2020-05-27\", \"2020-05-26\", \"2020-05-25\", \"2020-05-24\", \"2020-05-23\", \"2020-05-22\", \"2020-05-21\", \"2020-05-20\", \"2020-05-19\", \"2020-05-18\", \"2020-05-17\", \"2020-05-16\", \"2020-05-15\", \"2020-05-14\", \"2020-05-13\", \"2020-05-12\", \"2020-05-11\", \"2020-05-10\", \"2020-05-09\", \"2020-05-08\", \"2020-05-07\", \"2020-05-06\", \"2020-05-05\", \"2020-05-04\", \"2020-05-03\", \"2020-05-02\", \"2020-05-01\", \"2020-04-30\", \"2020-04-29\", \"2020-04-28\", \"2020-04-27\", \"2020-04-26\", \"2020-04-25\", \"2020-04-24\", \"2020-04-23\", \"2020-04-22\", \"2020-04-21\", \"2020-04-20\", \"2020-04-19\", \"2020-04-18\", \"2020-04-17\", \"2020-04-16\", \"2020-04-15\", \"2020-04-14\", \"2020-04-13\", \"2020-04-12\", \"2020-04-11\", \"2020-04-10\", \"2020-04-09\", \"2020-04-08\", \"2020-04-07\", \"2020-04-06\", \"2020-04-05\", \"2020-04-04\", \"2020-04-03\", \"2020-04-02\", \"2020-04-01\", \"2020-03-31\", \"2020-03-30\", \"2020-03-29\", \"2020-03-28\", \"2020-03-27\", \"2020-03-26\", \"2020-03-25\", \"2020-03-24\", \"2020-03-23\", \"2020-03-22\", \"2020-03-21\", \"2020-03-20\", \"2020-03-19\", \"2020-03-18\", \"2020-03-17\", \"2020-03-16\", \"2020-03-15\", \"2020-03-14\", \"2020-03-13\", \"2020-03-12\", \"2020-03-11\", \"2020-03-10\", \"2020-03-09\", \"2020-03-08\", \"2020-03-07\", \"2020-03-06\", \"2020-03-05\", \"2020-03-04\", \"2020-03-03\", \"2020-03-02\", \"2020-03-01\", \"2020-02-29\", \"2020-02-28\", \"2020-02-27\", \"2020-02-26\", \"2020-02-25\", \"2020-02-24\", \"2020-02-23\", \"2020-02-22\", \"2020-02-21\", \"2020-02-20\", \"2020-02-19\", \"2020-02-18\", \"2020-02-17\", \"2020-02-16\", \"2020-02-15\", \"2020-02-14\", \"2020-02-13\", \"2020-02-12\", \"2020-02-11\", \"2020-02-10\", \"2020-02-09\", \"2020-02-08\", \"2020-02-07\", \"2020-02-06\", \"2020-02-05\", \"2020-02-04\", \"2020-02-03\", \"2020-02-02\", \"2020-02-01\", \"2020-01-31\", \"2020-01-30\", \"2020-01-29\", \"2020-01-28\", \"2020-01-27\", \"2020-01-26\", \"2020-01-25\", \"2020-01-24\", \"2020-01-23\", \"2020-01-22\"], \"y\": [79410.0, 76958.0, 73268.0, 70113.0, 69498.0, 68496.0, 67100.0, 65463.0, 62059.0, 59301.0, 56842.0, 55925.0, 54851.0, 53375.0, 52086.0, 50426.0, 48557.0, 47531.0, 47402.0, 46738.0, 46126.0, 45124.0, 44287.0, 42924.0, 41786.0, 41989.0, 41501.0, 41036.0, 40284.0, 39303.0, 37858.0, 36452.0, 37358.0, 37368.0, 37328.0, 37088.0, 36064.0, 35066.0, 34498.0, 34600.0, 34877.0, 34319.0, 33482.0, 32626.0, 31327.0, 29945.0, 30111.0, 30769.0, 30809.0, 30912.0, 30499.0, 29601.0, 29443.0, 29551.0, 29768.0, 30036.0, 29937.0, 29448.0, 28762.0, 28606.0, 29038.0, 29521.0, 29875.0, 30253.0, 30361.0, 29907.0, 29804.0, 30643.0, 31406.0, 32438.0, 32579.0, 32246.0, 32009.0, 32376.0, 33502.0, 34101.0, 34650.0, 35579.0, 35273.0, 35352.0, 35726.0, 36437.0, 37255.0, 37421.0, 38418.0, 38775.0, 38695.0, 38980.0, 39919.0, 40940.0, 41968.0, 43289.0, 43767.0, 43500.0, 44046.0, 44783.0, 45744.0, 47204.0, 47949.0, 48511.0, 48631.0, 48866.0, 49935.0, 51201.0, 53129.0, 53343.0, 53323.0, 53413.0, 53983.0, 54437.0, 55589.0, 56434.0, 57325.0, 57086.0, 58906.0, 58644.0, 59269.0, 59677.0, 59712.0, 59598.0, 59351.0, 58352.0, 57882.0, 57646.0, 57737.0, 57459.0, 56168.0, 55554.0, 54044.0, 52739.0, 51861.0, 51606.0, 43916.0, 43097.0, 41772.0, 39820.0, 38765.0, 38150.0, 37801.0, 37508.0, 36430.0, 35222.0, 33627.0, 32479.0, 32485.0, 31710.0, 31828.0, 31119.0, 30226.0, 28797.0, 28221.0, 27970.0, 28586.0, 28411.0, 28561.0, 28279.0, 27866.0, 27899.0, 28431.0, 29149.0, 29686.0, 30840.0, 31020.0, 30984.0, 31249.0, 31762.0, 32265.0, 32602.0, 33026.0, 33709.0, 34064.0, 34641.0, 35513.0, 36718.0, 37804.0, 38017.0, 37533.0, 37382.0, 37510.0, 38360.0, 39774.0, 41071.0, 41535.0, 41652.0, 41531.0, 41609.0, 43175.0, 44299.0, 45644.0, 46740.0, 47344.0, 46550.0, 46760.0, 48561.0, 49758.0, 51425.0, 52581.0, 53176.0, 52377.0, 52619.0, 54009.0, 54862.0, 54921.0, 55987.0, 56034.0, 56183.0, 56149.0, 57343.0, 57324.0, 59216.0, 59212.0, 59773.0, 56734.0, 56497.0, 57788.0, 58886.0, 59498.0, 59924.0, 59600.0, 56237.0, 55449.0, 55557.0, 53167.0, 51313.0, 45515.0, 43849.0, 36159.0, 32180.0, 30268.0, 25777.0, 22997.0, 20906.0, 18155.0, 15917.0, 14055.0, 12409.0, 10978.0, 7805.0, 5140.0, 3938.0, 2812.0, 2173.0, 1492.0, 1042.0, 617.0, 416.0, 325.0, \"\", \"\", \"\", \"\", \"\", \"\", \"\", \"\", \"\", \"\", \"\", \"\", \"\", \"\", \"\", \"\", \"\", \"\", \"\", \"\", \"\", \"\", \"\", \"\", \"\", \"\", \"\", \"\", \"\", \"\", \"\", \"\", \"\", \"\", \"\", \"\", \"\", \"\", \"\", \"\", \"\", \"\", \"\", \"\", \"\", \"\", \"\", \"\", \"\", \"\", \"\", \"\", \"\", \"\", \"\"]}, {\"line\": {\"color\": \"rgba(55, 128, 191, 1.0)\", \"dash\": \"solid\", \"shape\": \"linear\", \"width\": 1.3}, \"mode\": \"lines\", \"name\": \"hospitalizedCumulative\", \"text\": \"\", \"type\": \"scatter\", \"x\": [\"2020-11-18\", \"2020-11-17\", \"2020-11-16\", \"2020-11-15\", \"2020-11-14\", \"2020-11-13\", \"2020-11-12\", \"2020-11-11\", \"2020-11-10\", \"2020-11-09\", \"2020-11-08\", \"2020-11-07\", \"2020-11-06\", \"2020-11-05\", \"2020-11-04\", \"2020-11-03\", \"2020-11-02\", \"2020-11-01\", \"2020-10-31\", \"2020-10-30\", \"2020-10-29\", \"2020-10-28\", \"2020-10-27\", \"2020-10-26\", \"2020-10-25\", \"2020-10-24\", \"2020-10-23\", \"2020-10-22\", \"2020-10-21\", \"2020-10-20\", \"2020-10-19\", \"2020-10-18\", \"2020-10-17\", \"2020-10-16\", \"2020-10-15\", \"2020-10-14\", \"2020-10-13\", \"2020-10-12\", \"2020-10-11\", \"2020-10-10\", \"2020-10-09\", \"2020-10-08\", \"2020-10-07\", \"2020-10-06\", \"2020-10-05\", \"2020-10-04\", \"2020-10-03\", \"2020-10-02\", \"2020-10-01\", \"2020-09-30\", \"2020-09-29\", \"2020-09-28\", \"2020-09-27\", \"2020-09-26\", \"2020-09-25\", \"2020-09-24\", \"2020-09-23\", \"2020-09-22\", \"2020-09-21\", \"2020-09-20\", \"2020-09-19\", \"2020-09-18\", \"2020-09-17\", \"2020-09-16\", \"2020-09-15\", \"2020-09-14\", \"2020-09-13\", \"2020-09-12\", \"2020-09-11\", \"2020-09-10\", \"2020-09-09\", \"2020-09-08\", \"2020-09-07\", \"2020-09-06\", \"2020-09-05\", \"2020-09-04\", \"2020-09-03\", \"2020-09-02\", \"2020-09-01\", \"2020-08-31\", \"2020-08-30\", \"2020-08-29\", \"2020-08-28\", \"2020-08-27\", \"2020-08-26\", \"2020-08-25\", \"2020-08-24\", \"2020-08-23\", \"2020-08-22\", \"2020-08-21\", \"2020-08-20\", \"2020-08-19\", \"2020-08-18\", \"2020-08-17\", \"2020-08-16\", \"2020-08-15\", \"2020-08-14\", \"2020-08-13\", \"2020-08-12\", \"2020-08-11\", \"2020-08-10\", \"2020-08-09\", \"2020-08-08\", \"2020-08-07\", \"2020-08-06\", \"2020-08-05\", \"2020-08-04\", \"2020-08-03\", \"2020-08-02\", \"2020-08-01\", \"2020-07-31\", \"2020-07-30\", \"2020-07-29\", \"2020-07-28\", \"2020-07-27\", \"2020-07-26\", \"2020-07-25\", \"2020-07-24\", \"2020-07-23\", \"2020-07-22\", \"2020-07-21\", \"2020-07-20\", \"2020-07-19\", \"2020-07-18\", \"2020-07-17\", \"2020-07-16\", \"2020-07-15\", \"2020-07-14\", \"2020-07-13\", \"2020-07-12\", \"2020-07-11\", \"2020-07-10\", \"2020-07-09\", \"2020-07-08\", \"2020-07-07\", \"2020-07-06\", \"2020-07-05\", \"2020-07-04\", \"2020-07-03\", \"2020-07-02\", \"2020-07-01\", \"2020-06-30\", \"2020-06-29\", \"2020-06-28\", \"2020-06-27\", \"2020-06-26\", \"2020-06-25\", \"2020-06-24\", \"2020-06-23\", \"2020-06-22\", \"2020-06-21\", \"2020-06-20\", \"2020-06-19\", \"2020-06-18\", \"2020-06-17\", \"2020-06-16\", \"2020-06-15\", \"2020-06-14\", \"2020-06-13\", \"2020-06-12\", \"2020-06-11\", \"2020-06-10\", \"2020-06-09\", \"2020-06-08\", \"2020-06-07\", \"2020-06-06\", \"2020-06-05\", \"2020-06-04\", \"2020-06-03\", \"2020-06-02\", \"2020-06-01\", \"2020-05-31\", \"2020-05-30\", \"2020-05-29\", \"2020-05-28\", \"2020-05-27\", \"2020-05-26\", \"2020-05-25\", \"2020-05-24\", \"2020-05-23\", \"2020-05-22\", \"2020-05-21\", \"2020-05-20\", \"2020-05-19\", \"2020-05-18\", \"2020-05-17\", \"2020-05-16\", \"2020-05-15\", \"2020-05-14\", \"2020-05-13\", \"2020-05-12\", \"2020-05-11\", \"2020-05-10\", \"2020-05-09\", \"2020-05-08\", \"2020-05-07\", \"2020-05-06\", \"2020-05-05\", \"2020-05-04\", \"2020-05-03\", \"2020-05-02\", \"2020-05-01\", \"2020-04-30\", \"2020-04-29\", \"2020-04-28\", \"2020-04-27\", \"2020-04-26\", \"2020-04-25\", \"2020-04-24\", \"2020-04-23\", \"2020-04-22\", \"2020-04-21\", \"2020-04-20\", \"2020-04-19\", \"2020-04-18\", \"2020-04-17\", \"2020-04-16\", \"2020-04-15\", \"2020-04-14\", \"2020-04-13\", \"2020-04-12\", \"2020-04-11\", \"2020-04-10\", \"2020-04-09\", \"2020-04-08\", \"2020-04-07\", \"2020-04-06\", \"2020-04-05\", \"2020-04-04\", \"2020-04-03\", \"2020-04-02\", \"2020-04-01\", \"2020-03-31\", \"2020-03-30\", \"2020-03-29\", \"2020-03-28\", \"2020-03-27\", \"2020-03-26\", \"2020-03-25\", \"2020-03-24\", \"2020-03-23\", \"2020-03-22\", \"2020-03-21\", \"2020-03-20\", \"2020-03-19\", \"2020-03-18\", \"2020-03-17\", \"2020-03-16\", \"2020-03-15\", \"2020-03-14\", \"2020-03-13\", \"2020-03-12\", \"2020-03-11\", \"2020-03-10\", \"2020-03-09\", \"2020-03-08\", \"2020-03-07\", \"2020-03-06\", \"2020-03-05\", \"2020-03-04\", \"2020-03-03\", \"2020-03-02\", \"2020-03-01\", \"2020-02-29\", \"2020-02-28\", \"2020-02-27\", \"2020-02-26\", \"2020-02-25\", \"2020-02-24\", \"2020-02-23\", \"2020-02-22\", \"2020-02-21\", \"2020-02-20\", \"2020-02-19\", \"2020-02-18\", \"2020-02-17\", \"2020-02-16\", \"2020-02-15\", \"2020-02-14\", \"2020-02-13\", \"2020-02-12\", \"2020-02-11\", \"2020-02-10\", \"2020-02-09\", \"2020-02-08\", \"2020-02-07\", \"2020-02-06\", \"2020-02-05\", \"2020-02-04\", \"2020-02-03\", \"2020-02-02\", \"2020-02-01\", \"2020-01-31\", \"2020-01-30\", \"2020-01-29\", \"2020-01-28\", \"2020-01-27\", \"2020-01-26\", \"2020-01-25\", \"2020-01-24\", \"2020-01-23\", \"2020-01-22\"], \"y\": [529168.0, 524678.0, 520763.0, 517615.0, 515739.0, 512274.0, 508581.0, 504909.0, 501486.0, 497375.0, 495005.0, 493499.0, 491208.0, 488066.0, 484653.0, 481516.0, 478289.0, 476771.0, 475626.0, 473597.0, 471173.0, 468849.0, 466378.0, 464033.0, 462174.0, 461068.0, 459317.0, 444325.0, 441698.0, 439493.0, 437262.0, 435555.0, 434755.0, 433202.0, 431341.0, 429332.0, 426809.0, 424694.0, 423471.0, 422482.0, 420973.0, 419212.0, 417110.0, 414845.0, 415450.0, 413909.0, 413267.0, 412161.0, 410760.0, 408994.0, 407412.0, 405662.0, 404404.0, 403685.0, 402516.0, 401164.0, 399593.0, 398152.0, 396674.0, 395514.0, 395007.0, 393942.0, 392511.0, 390939.0, 389417.0, 387911.0, 386959.0, 386389.0, 385312.0, 383760.0, 382223.0, 380157.0, 379180.0, 378690.0, 378191.0, 376914.0, 375676.0, 374156.0, 372505.0, 370647.0, 369832.0, 369182.0, 367859.0, 366272.0, 364592.0, 362743.0, 360695.0, 359640.0, 358888.0, 357333.0, 355514.0, 353487.0, 351498.0, 349190.0, 347913.0, 347262.0, 345243.0, 343029.0, 340319.0, 337322.0, 334557.0, 332896.0, 332049.0, 330617.0, 322610.0, 319915.0, 317647.0, 313126.0, 311403.0, 310600.0, 308286.0, 305647.0, 302331.0, 299359.0, 294643.0, 292942.0, 291530.0, 289599.0, 286508.0, 284007.0, 281781.0, 279178.0, 277529.0, 276598.0, 274594.0, 271905.0, 269655.0, 267281.0, 265030.0, 263773.0, 262852.0, 257718.0, 255387.0, 253742.0, 251752.0, 249670.0, 248853.0, 248257.0, 247388.0, 245948.0, 243964.0, 242549.0, 240946.0, 240240.0, 239673.0, 238609.0, 237089.0, 235829.0, 234537.0, 233258.0, 232438.0, 231930.0, 231192.0, 229583.0, 228557.0, 227403.0, 226172.0, 225540.0, 224909.0, 223970.0, 222611.0, 221189.0, 219886.0, 218567.0, 217503.0, 216729.0, 215837.0, 214328.0, 217176.0, 215042.0, 213335.0, 210528.0, 209564.0, 208167.0, 206491.0, 204804.0, 203105.0, 185765.0, 184851.0, 183835.0, 182479.0, 178433.0, 173790.0, 171815.0, 170189.0, 169011.0, 167829.0, 166000.0, 164647.0, 161426.0, 159609.0, 158069.0, 156768.0, 155728.0, 154069.0, 147749.0, 143430.0, 141344.0, 139378.0, 137614.0, 135691.0, 133715.0, 123900.0, 121572.0, 118524.0, 116446.0, 112991.0, 110815.0, 108489.0, 106127.0, 103284.0, 100190.0, 97454.0, 95191.0, 92978.0, 89561.0, 86154.0, 82993.0, 79282.0, 76139.0, 71694.0, 68428.0, 64768.0, 59894.0, 55993.0, 51686.0, 48689.0, 45721.0, 41821.0, 36797.0, 32225.0, 28070.0, 23825.0, 19822.0, 17339.0, 14548.0, 12141.0, 9557.0, 7087.0, 5131.0, 3952.0, 3033.0, 2026.0, 153.0, 128.0, 94.0, 76.0, 43.0, 37.0, 27.0, 23.0, 17.0, 12.0, 9.0, 9.0, 6.0, 6.0, 6.0, 5.0, 4.0, \"\", \"\", \"\", \"\", \"\", \"\", \"\", \"\", \"\", \"\", \"\", \"\", \"\", \"\", \"\", \"\", \"\", \"\", \"\", \"\", \"\", \"\", \"\", \"\", \"\", \"\", \"\", \"\", \"\", \"\", \"\", \"\", \"\", \"\", \"\", \"\", \"\", \"\", \"\", \"\", \"\", \"\"]}],                        {\"legend\": {\"bgcolor\": \"#151516\", \"font\": {\"color\": \"#D9D9D9\"}}, \"paper_bgcolor\": \"#151516\", \"plot_bgcolor\": \"#151516\", \"template\": {\"data\": {\"bar\": [{\"error_x\": {\"color\": \"#f2f5fa\"}, \"error_y\": {\"color\": \"#f2f5fa\"}, \"marker\": {\"line\": {\"color\": \"rgb(17,17,17)\", \"width\": 0.5}}, \"type\": \"bar\"}], \"barpolar\": [{\"marker\": {\"line\": {\"color\": \"rgb(17,17,17)\", \"width\": 0.5}}, \"type\": \"barpolar\"}], \"carpet\": [{\"aaxis\": {\"endlinecolor\": \"#A2B1C6\", \"gridcolor\": \"#506784\", \"linecolor\": \"#506784\", \"minorgridcolor\": \"#506784\", \"startlinecolor\": \"#A2B1C6\"}, \"baxis\": {\"endlinecolor\": \"#A2B1C6\", \"gridcolor\": \"#506784\", \"linecolor\": \"#506784\", \"minorgridcolor\": \"#506784\", \"startlinecolor\": \"#A2B1C6\"}, \"type\": \"carpet\"}], \"choropleth\": [{\"colorbar\": {\"outlinewidth\": 0, \"ticks\": \"\"}, \"type\": \"choropleth\"}], \"contour\": [{\"colorbar\": {\"outlinewidth\": 0, \"ticks\": \"\"}, \"colorscale\": [[0.0, \"#0d0887\"], [0.1111111111111111, \"#46039f\"], [0.2222222222222222, \"#7201a8\"], [0.3333333333333333, \"#9c179e\"], [0.4444444444444444, \"#bd3786\"], [0.5555555555555556, \"#d8576b\"], [0.6666666666666666, \"#ed7953\"], [0.7777777777777778, \"#fb9f3a\"], [0.8888888888888888, \"#fdca26\"], [1.0, \"#f0f921\"]], \"type\": \"contour\"}], \"contourcarpet\": [{\"colorbar\": {\"outlinewidth\": 0, \"ticks\": \"\"}, \"type\": \"contourcarpet\"}], \"heatmap\": [{\"colorbar\": {\"outlinewidth\": 0, \"ticks\": \"\"}, \"colorscale\": [[0.0, \"#0d0887\"], [0.1111111111111111, \"#46039f\"], [0.2222222222222222, \"#7201a8\"], [0.3333333333333333, \"#9c179e\"], [0.4444444444444444, \"#bd3786\"], [0.5555555555555556, \"#d8576b\"], [0.6666666666666666, \"#ed7953\"], [0.7777777777777778, \"#fb9f3a\"], [0.8888888888888888, \"#fdca26\"], [1.0, \"#f0f921\"]], \"type\": \"heatmap\"}], \"heatmapgl\": [{\"colorbar\": {\"outlinewidth\": 0, \"ticks\": \"\"}, \"colorscale\": [[0.0, \"#0d0887\"], [0.1111111111111111, \"#46039f\"], [0.2222222222222222, \"#7201a8\"], [0.3333333333333333, \"#9c179e\"], [0.4444444444444444, \"#bd3786\"], [0.5555555555555556, \"#d8576b\"], [0.6666666666666666, \"#ed7953\"], [0.7777777777777778, \"#fb9f3a\"], [0.8888888888888888, \"#fdca26\"], [1.0, \"#f0f921\"]], \"type\": \"heatmapgl\"}], \"histogram\": [{\"marker\": {\"colorbar\": {\"outlinewidth\": 0, \"ticks\": \"\"}}, \"type\": \"histogram\"}], \"histogram2d\": [{\"colorbar\": {\"outlinewidth\": 0, \"ticks\": \"\"}, \"colorscale\": [[0.0, \"#0d0887\"], [0.1111111111111111, \"#46039f\"], [0.2222222222222222, \"#7201a8\"], [0.3333333333333333, \"#9c179e\"], [0.4444444444444444, \"#bd3786\"], [0.5555555555555556, \"#d8576b\"], [0.6666666666666666, \"#ed7953\"], [0.7777777777777778, \"#fb9f3a\"], [0.8888888888888888, \"#fdca26\"], [1.0, \"#f0f921\"]], \"type\": \"histogram2d\"}], \"histogram2dcontour\": [{\"colorbar\": {\"outlinewidth\": 0, \"ticks\": \"\"}, \"colorscale\": [[0.0, \"#0d0887\"], [0.1111111111111111, \"#46039f\"], [0.2222222222222222, \"#7201a8\"], [0.3333333333333333, \"#9c179e\"], [0.4444444444444444, \"#bd3786\"], [0.5555555555555556, \"#d8576b\"], [0.6666666666666666, \"#ed7953\"], [0.7777777777777778, \"#fb9f3a\"], [0.8888888888888888, \"#fdca26\"], [1.0, \"#f0f921\"]], \"type\": \"histogram2dcontour\"}], \"mesh3d\": [{\"colorbar\": {\"outlinewidth\": 0, \"ticks\": \"\"}, \"type\": \"mesh3d\"}], \"parcoords\": [{\"line\": {\"colorbar\": {\"outlinewidth\": 0, \"ticks\": \"\"}}, \"type\": \"parcoords\"}], \"pie\": [{\"automargin\": true, \"type\": \"pie\"}], \"scatter\": [{\"marker\": {\"line\": {\"color\": \"#283442\"}}, \"type\": \"scatter\"}], \"scatter3d\": [{\"line\": {\"colorbar\": {\"outlinewidth\": 0, \"ticks\": \"\"}}, \"marker\": {\"colorbar\": {\"outlinewidth\": 0, \"ticks\": \"\"}}, \"type\": \"scatter3d\"}], \"scattercarpet\": [{\"marker\": {\"colorbar\": {\"outlinewidth\": 0, \"ticks\": \"\"}}, \"type\": \"scattercarpet\"}], \"scattergeo\": [{\"marker\": {\"colorbar\": {\"outlinewidth\": 0, \"ticks\": \"\"}}, \"type\": \"scattergeo\"}], \"scattergl\": [{\"marker\": {\"line\": {\"color\": \"#283442\"}}, \"type\": \"scattergl\"}], \"scattermapbox\": [{\"marker\": {\"colorbar\": {\"outlinewidth\": 0, \"ticks\": \"\"}}, \"type\": \"scattermapbox\"}], \"scatterpolar\": [{\"marker\": {\"colorbar\": {\"outlinewidth\": 0, \"ticks\": \"\"}}, \"type\": \"scatterpolar\"}], \"scatterpolargl\": [{\"marker\": {\"colorbar\": {\"outlinewidth\": 0, \"ticks\": \"\"}}, \"type\": \"scatterpolargl\"}], \"scatterternary\": [{\"marker\": {\"colorbar\": {\"outlinewidth\": 0, \"ticks\": \"\"}}, \"type\": \"scatterternary\"}], \"surface\": [{\"colorbar\": {\"outlinewidth\": 0, \"ticks\": \"\"}, \"colorscale\": [[0.0, \"#0d0887\"], [0.1111111111111111, \"#46039f\"], [0.2222222222222222, \"#7201a8\"], [0.3333333333333333, \"#9c179e\"], [0.4444444444444444, \"#bd3786\"], [0.5555555555555556, \"#d8576b\"], [0.6666666666666666, \"#ed7953\"], [0.7777777777777778, \"#fb9f3a\"], [0.8888888888888888, \"#fdca26\"], [1.0, \"#f0f921\"]], \"type\": \"surface\"}], \"table\": [{\"cells\": {\"fill\": {\"color\": \"#506784\"}, \"line\": {\"color\": \"rgb(17,17,17)\"}}, \"header\": {\"fill\": {\"color\": \"#2a3f5f\"}, \"line\": {\"color\": \"rgb(17,17,17)\"}}, \"type\": \"table\"}]}, \"layout\": {\"annotationdefaults\": {\"arrowcolor\": \"#f2f5fa\", \"arrowhead\": 0, \"arrowwidth\": 1}, \"coloraxis\": {\"colorbar\": {\"outlinewidth\": 0, \"ticks\": \"\"}}, \"colorscale\": {\"diverging\": [[0, \"#8e0152\"], [0.1, \"#c51b7d\"], [0.2, \"#de77ae\"], [0.3, \"#f1b6da\"], [0.4, \"#fde0ef\"], [0.5, \"#f7f7f7\"], [0.6, \"#e6f5d0\"], [0.7, \"#b8e186\"], [0.8, \"#7fbc41\"], [0.9, \"#4d9221\"], [1, \"#276419\"]], \"sequential\": [[0.0, \"#0d0887\"], [0.1111111111111111, \"#46039f\"], [0.2222222222222222, \"#7201a8\"], [0.3333333333333333, \"#9c179e\"], [0.4444444444444444, \"#bd3786\"], [0.5555555555555556, \"#d8576b\"], [0.6666666666666666, \"#ed7953\"], [0.7777777777777778, \"#fb9f3a\"], [0.8888888888888888, \"#fdca26\"], [1.0, \"#f0f921\"]], \"sequentialminus\": [[0.0, \"#0d0887\"], [0.1111111111111111, \"#46039f\"], [0.2222222222222222, \"#7201a8\"], [0.3333333333333333, \"#9c179e\"], [0.4444444444444444, \"#bd3786\"], [0.5555555555555556, \"#d8576b\"], [0.6666666666666666, \"#ed7953\"], [0.7777777777777778, \"#fb9f3a\"], [0.8888888888888888, \"#fdca26\"], [1.0, \"#f0f921\"]]}, \"colorway\": [\"#636efa\", \"#EF553B\", \"#00cc96\", \"#ab63fa\", \"#FFA15A\", \"#19d3f3\", \"#FF6692\", \"#B6E880\", \"#FF97FF\", \"#FECB52\"], \"font\": {\"color\": \"#f2f5fa\"}, \"geo\": {\"bgcolor\": \"rgb(17,17,17)\", \"lakecolor\": \"rgb(17,17,17)\", \"landcolor\": \"rgb(17,17,17)\", \"showlakes\": true, \"showland\": true, \"subunitcolor\": \"#506784\"}, \"hoverlabel\": {\"align\": \"left\"}, \"hovermode\": \"closest\", \"mapbox\": {\"style\": \"dark\"}, \"paper_bgcolor\": \"rgb(17,17,17)\", \"plot_bgcolor\": \"rgb(17,17,17)\", \"polar\": {\"angularaxis\": {\"gridcolor\": \"#506784\", \"linecolor\": \"#506784\", \"ticks\": \"\"}, \"bgcolor\": \"rgb(17,17,17)\", \"radialaxis\": {\"gridcolor\": \"#506784\", \"linecolor\": \"#506784\", \"ticks\": \"\"}}, \"scene\": {\"xaxis\": {\"backgroundcolor\": \"rgb(17,17,17)\", \"gridcolor\": \"#506784\", \"gridwidth\": 2, \"linecolor\": \"#506784\", \"showbackground\": true, \"ticks\": \"\", \"zerolinecolor\": \"#C8D4E3\"}, \"yaxis\": {\"backgroundcolor\": \"rgb(17,17,17)\", \"gridcolor\": \"#506784\", \"gridwidth\": 2, \"linecolor\": \"#506784\", \"showbackground\": true, \"ticks\": \"\", \"zerolinecolor\": \"#C8D4E3\"}, \"zaxis\": {\"backgroundcolor\": \"rgb(17,17,17)\", \"gridcolor\": \"#506784\", \"gridwidth\": 2, \"linecolor\": \"#506784\", \"showbackground\": true, \"ticks\": \"\", \"zerolinecolor\": \"#C8D4E3\"}}, \"shapedefaults\": {\"line\": {\"color\": \"#f2f5fa\"}}, \"sliderdefaults\": {\"bgcolor\": \"#C8D4E3\", \"bordercolor\": \"rgb(17,17,17)\", \"borderwidth\": 1, \"tickwidth\": 0}, \"ternary\": {\"aaxis\": {\"gridcolor\": \"#506784\", \"linecolor\": \"#506784\", \"ticks\": \"\"}, \"baxis\": {\"gridcolor\": \"#506784\", \"linecolor\": \"#506784\", \"ticks\": \"\"}, \"bgcolor\": \"rgb(17,17,17)\", \"caxis\": {\"gridcolor\": \"#506784\", \"linecolor\": \"#506784\", \"ticks\": \"\"}}, \"title\": {\"x\": 0.05}, \"updatemenudefaults\": {\"bgcolor\": \"#506784\", \"borderwidth\": 0}, \"xaxis\": {\"automargin\": true, \"gridcolor\": \"#283442\", \"linecolor\": \"#506784\", \"ticks\": \"\", \"title\": {\"standoff\": 15}, \"zerolinecolor\": \"#283442\", \"zerolinewidth\": 2}, \"yaxis\": {\"automargin\": true, \"gridcolor\": \"#283442\", \"linecolor\": \"#506784\", \"ticks\": \"\", \"title\": {\"standoff\": 15}, \"zerolinecolor\": \"#283442\", \"zerolinewidth\": 2}}}, \"title\": {\"font\": {\"color\": \"#D9D9D9\"}}, \"xaxis\": {\"gridcolor\": \"#434343\", \"showgrid\": true, \"tickfont\": {\"color\": \"#C2C2C2\"}, \"title\": {\"font\": {\"color\": \"#D9D9D9\"}, \"text\": \"\"}, \"zerolinecolor\": \"#666570\"}, \"yaxis\": {\"gridcolor\": \"#434343\", \"showgrid\": true, \"tickfont\": {\"color\": \"#C2C2C2\"}, \"title\": {\"font\": {\"color\": \"#D9D9D9\"}, \"text\": \"\"}, \"zerolinecolor\": \"#666570\"}},                        {\"showLink\": true, \"linkText\": \"Export to plot.ly\", \"plotlyServerURL\": \"https://plot.ly\", \"responsive\": true}                    ).then(function(){\n",
       "                            \n",
       "var gd = document.getElementById('84a79f2a-ef9c-4bef-9b23-4414a7dfecfc');\n",
       "var x = new MutationObserver(function (mutations, observer) {{\n",
       "        var display = window.getComputedStyle(gd).display;\n",
       "        if (!display || display === 'none') {{\n",
       "            console.log([gd, 'removed!']);\n",
       "            Plotly.purge(gd);\n",
       "            observer.disconnect();\n",
       "        }}\n",
       "}});\n",
       "\n",
       "// Listen for the removal of the full notebook cells\n",
       "var notebookContainer = gd.closest('#notebook-container');\n",
       "if (notebookContainer) {{\n",
       "    x.observe(notebookContainer, {childList: true});\n",
       "}}\n",
       "\n",
       "// Listen for the clearing of the current output cell\n",
       "var outputEl = gd.closest('.output');\n",
       "if (outputEl) {{\n",
       "    x.observe(outputEl, {childList: true});\n",
       "}}\n",
       "\n",
       "                        })                };                });            </script>        </div>"
      ]
     },
     "metadata": {},
     "output_type": "display_data"
    }
   ],
   "source": [
    "iplot_cols(df_us,'hospital')"
   ]
  },
  {
   "cell_type": "code",
   "execution_count": 51,
   "metadata": {
    "ExecuteTime": {
     "end_time": "2020-11-19T23:14:01.684570Z",
     "start_time": "2020-11-19T23:14:01.540360Z"
    }
   },
   "outputs": [
    {
     "data": {
      "application/vnd.plotly.v1+json": {
       "config": {
        "linkText": "Export to plot.ly",
        "plotlyServerURL": "https://plot.ly",
        "showLink": true
       },
       "data": [
        {
         "line": {
          "color": "rgba(255, 153, 51, 1.0)",
          "dash": "solid",
          "shape": "linear",
          "width": 1.3
         },
         "mode": "lines",
         "name": "inIcuCurrently",
         "text": "",
         "type": "scatter",
         "x": [
          "2020-11-18",
          "2020-11-17",
          "2020-11-16",
          "2020-11-15",
          "2020-11-14",
          "2020-11-13",
          "2020-11-12",
          "2020-11-11",
          "2020-11-10",
          "2020-11-09",
          "2020-11-08",
          "2020-11-07",
          "2020-11-06",
          "2020-11-05",
          "2020-11-04",
          "2020-11-03",
          "2020-11-02",
          "2020-11-01",
          "2020-10-31",
          "2020-10-30",
          "2020-10-29",
          "2020-10-28",
          "2020-10-27",
          "2020-10-26",
          "2020-10-25",
          "2020-10-24",
          "2020-10-23",
          "2020-10-22",
          "2020-10-21",
          "2020-10-20",
          "2020-10-19",
          "2020-10-18",
          "2020-10-17",
          "2020-10-16",
          "2020-10-15",
          "2020-10-14",
          "2020-10-13",
          "2020-10-12",
          "2020-10-11",
          "2020-10-10",
          "2020-10-09",
          "2020-10-08",
          "2020-10-07",
          "2020-10-06",
          "2020-10-05",
          "2020-10-04",
          "2020-10-03",
          "2020-10-02",
          "2020-10-01",
          "2020-09-30",
          "2020-09-29",
          "2020-09-28",
          "2020-09-27",
          "2020-09-26",
          "2020-09-25",
          "2020-09-24",
          "2020-09-23",
          "2020-09-22",
          "2020-09-21",
          "2020-09-20",
          "2020-09-19",
          "2020-09-18",
          "2020-09-17",
          "2020-09-16",
          "2020-09-15",
          "2020-09-14",
          "2020-09-13",
          "2020-09-12",
          "2020-09-11",
          "2020-09-10",
          "2020-09-09",
          "2020-09-08",
          "2020-09-07",
          "2020-09-06",
          "2020-09-05",
          "2020-09-04",
          "2020-09-03",
          "2020-09-02",
          "2020-09-01",
          "2020-08-31",
          "2020-08-30",
          "2020-08-29",
          "2020-08-28",
          "2020-08-27",
          "2020-08-26",
          "2020-08-25",
          "2020-08-24",
          "2020-08-23",
          "2020-08-22",
          "2020-08-21",
          "2020-08-20",
          "2020-08-19",
          "2020-08-18",
          "2020-08-17",
          "2020-08-16",
          "2020-08-15",
          "2020-08-14",
          "2020-08-13",
          "2020-08-12",
          "2020-08-11",
          "2020-08-10",
          "2020-08-09",
          "2020-08-08",
          "2020-08-07",
          "2020-08-06",
          "2020-08-05",
          "2020-08-04",
          "2020-08-03",
          "2020-08-02",
          "2020-08-01",
          "2020-07-31",
          "2020-07-30",
          "2020-07-29",
          "2020-07-28",
          "2020-07-27",
          "2020-07-26",
          "2020-07-25",
          "2020-07-24",
          "2020-07-23",
          "2020-07-22",
          "2020-07-21",
          "2020-07-20",
          "2020-07-19",
          "2020-07-18",
          "2020-07-17",
          "2020-07-16",
          "2020-07-15",
          "2020-07-14",
          "2020-07-13",
          "2020-07-12",
          "2020-07-11",
          "2020-07-10",
          "2020-07-09",
          "2020-07-08",
          "2020-07-07",
          "2020-07-06",
          "2020-07-05",
          "2020-07-04",
          "2020-07-03",
          "2020-07-02",
          "2020-07-01",
          "2020-06-30",
          "2020-06-29",
          "2020-06-28",
          "2020-06-27",
          "2020-06-26",
          "2020-06-25",
          "2020-06-24",
          "2020-06-23",
          "2020-06-22",
          "2020-06-21",
          "2020-06-20",
          "2020-06-19",
          "2020-06-18",
          "2020-06-17",
          "2020-06-16",
          "2020-06-15",
          "2020-06-14",
          "2020-06-13",
          "2020-06-12",
          "2020-06-11",
          "2020-06-10",
          "2020-06-09",
          "2020-06-08",
          "2020-06-07",
          "2020-06-06",
          "2020-06-05",
          "2020-06-04",
          "2020-06-03",
          "2020-06-02",
          "2020-06-01",
          "2020-05-31",
          "2020-05-30",
          "2020-05-29",
          "2020-05-28",
          "2020-05-27",
          "2020-05-26",
          "2020-05-25",
          "2020-05-24",
          "2020-05-23",
          "2020-05-22",
          "2020-05-21",
          "2020-05-20",
          "2020-05-19",
          "2020-05-18",
          "2020-05-17",
          "2020-05-16",
          "2020-05-15",
          "2020-05-14",
          "2020-05-13",
          "2020-05-12",
          "2020-05-11",
          "2020-05-10",
          "2020-05-09",
          "2020-05-08",
          "2020-05-07",
          "2020-05-06",
          "2020-05-05",
          "2020-05-04",
          "2020-05-03",
          "2020-05-02",
          "2020-05-01",
          "2020-04-30",
          "2020-04-29",
          "2020-04-28",
          "2020-04-27",
          "2020-04-26",
          "2020-04-25",
          "2020-04-24",
          "2020-04-23",
          "2020-04-22",
          "2020-04-21",
          "2020-04-20",
          "2020-04-19",
          "2020-04-18",
          "2020-04-17",
          "2020-04-16",
          "2020-04-15",
          "2020-04-14",
          "2020-04-13",
          "2020-04-12",
          "2020-04-11",
          "2020-04-10",
          "2020-04-09",
          "2020-04-08",
          "2020-04-07",
          "2020-04-06",
          "2020-04-05",
          "2020-04-04",
          "2020-04-03",
          "2020-04-02",
          "2020-04-01",
          "2020-03-31",
          "2020-03-30",
          "2020-03-29",
          "2020-03-28",
          "2020-03-27",
          "2020-03-26",
          "2020-03-25",
          "2020-03-24",
          "2020-03-23",
          "2020-03-22",
          "2020-03-21",
          "2020-03-20",
          "2020-03-19",
          "2020-03-18",
          "2020-03-17",
          "2020-03-16",
          "2020-03-15",
          "2020-03-14",
          "2020-03-13",
          "2020-03-12",
          "2020-03-11",
          "2020-03-10",
          "2020-03-09",
          "2020-03-08",
          "2020-03-07",
          "2020-03-06",
          "2020-03-05",
          "2020-03-04",
          "2020-03-03",
          "2020-03-02",
          "2020-03-01",
          "2020-02-29",
          "2020-02-28",
          "2020-02-27",
          "2020-02-26",
          "2020-02-25",
          "2020-02-24",
          "2020-02-23",
          "2020-02-22",
          "2020-02-21",
          "2020-02-20",
          "2020-02-19",
          "2020-02-18",
          "2020-02-17",
          "2020-02-16",
          "2020-02-15",
          "2020-02-14",
          "2020-02-13",
          "2020-02-12",
          "2020-02-11",
          "2020-02-10",
          "2020-02-09",
          "2020-02-08",
          "2020-02-07",
          "2020-02-06",
          "2020-02-05",
          "2020-02-04",
          "2020-02-03",
          "2020-02-02",
          "2020-02-01",
          "2020-01-31",
          "2020-01-30",
          "2020-01-29",
          "2020-01-28",
          "2020-01-27",
          "2020-01-26",
          "2020-01-25",
          "2020-01-24",
          "2020-01-23",
          "2020-01-22"
         ],
         "y": [
          15350,
          14851,
          14317,
          13693,
          13337,
          13132,
          12796,
          12518,
          11961,
          11533,
          11120,
          11082,
          11085,
          10918,
          10761,
          10406,
          9858,
          9553,
          9499,
          9437,
          9208,
          9034,
          8909,
          8842,
          8489,
          8561,
          8237,
          8086,
          8182,
          8131,
          7997,
          7292,
          7384,
          7251,
          7220,
          7156,
          7020,
          6807,
          6679,
          6683,
          6713,
          6621,
          6507,
          6438,
          6209,
          5974,
          5996,
          6106,
          6173,
          6145,
          6106,
          5981,
          6080,
          6057,
          6133,
          6168,
          6113,
          6111,
          6071,
          6015,
          6070,
          6175,
          6278,
          6308,
          6310,
          6238,
          6233,
          6451,
          6379,
          6531,
          6646,
          6542,
          6630,
          6700,
          6766,
          6924,
          6921,
          7087,
          7090,
          7043,
          7268,
          7413,
          7558,
          7717,
          7737,
          7863,
          7851,
          7949,
          8207,
          8357,
          8483,
          8744,
          8866,
          8871,
          8958,
          9087,
          9277,
          9487,
          9555,
          9136,
          9216,
          9307,
          9662,
          9691,
          9994,
          9986,
          10207,
          10230,
          10415,
          10450,
          10472,
          10523,
          10539,
          10463,
          10328,
          10353,
          10380,
          10395,
          10414,
          10457,
          6711,
          6557,
          6384,
          6397,
          6452,
          6359,
          6317,
          6235,
          6074,
          5930,
          5939,
          5896,
          5845,
          5874,
          5832,
          5687,
          5653,
          5633,
          5597,
          5626,
          5512,
          5424,
          5380,
          5252,
          5314,
          5283,
          5320,
          5293,
          5402,
          5323,
          5195,
          5229,
          5341,
          5464,
          5612,
          5570,
          5703,
          5749,
          5883,
          6017,
          6074,
          6249,
          6457,
          6402,
          6501,
          6762,
          6920,
          7057,
          7227,
          7407,
          7591,
          7626,
          7956,
          8174,
          8389,
          8547,
          8585,
          8467,
          8485,
          8733,
          9049,
          9090,
          9521,
          9598,
          9754,
          9934,
          10278,
          10484,
          10655,
          10990,
          11240,
          11148,
          11393,
          11496,
          11780,
          12136,
          12478,
          12628,
          12696,
          12720,
          12905,
          12845,
          13255,
          13535,
          13562,
          13812,
          14104,
          14415,
          14605,
          14744,
          15013,
          14941,
          14463,
          14385,
          14769,
          14890,
          15130,
          14646,
          14039,
          13620,
          13620,
          13285,
          12693,
          12450,
          10337,
          9978,
          7079,
          5811,
          5500,
          4928,
          4513,
          3937,
          3487,
          3087,
          2456,
          2174,
          1792,
          1299,
          "",
          "",
          "",
          "",
          "",
          "",
          "",
          "",
          "",
          "",
          "",
          "",
          "",
          "",
          "",
          "",
          "",
          "",
          "",
          "",
          "",
          "",
          "",
          "",
          "",
          "",
          "",
          "",
          "",
          "",
          "",
          "",
          "",
          "",
          "",
          "",
          "",
          "",
          "",
          "",
          "",
          "",
          "",
          "",
          "",
          "",
          "",
          "",
          "",
          "",
          "",
          "",
          "",
          "",
          "",
          "",
          "",
          "",
          "",
          "",
          "",
          "",
          "",
          ""
         ]
        },
        {
         "line": {
          "color": "rgba(55, 128, 191, 1.0)",
          "dash": "solid",
          "shape": "linear",
          "width": 1.3
         },
         "mode": "lines",
         "name": "inIcuCumulative",
         "text": "",
         "type": "scatter",
         "x": [
          "2020-11-18",
          "2020-11-17",
          "2020-11-16",
          "2020-11-15",
          "2020-11-14",
          "2020-11-13",
          "2020-11-12",
          "2020-11-11",
          "2020-11-10",
          "2020-11-09",
          "2020-11-08",
          "2020-11-07",
          "2020-11-06",
          "2020-11-05",
          "2020-11-04",
          "2020-11-03",
          "2020-11-02",
          "2020-11-01",
          "2020-10-31",
          "2020-10-30",
          "2020-10-29",
          "2020-10-28",
          "2020-10-27",
          "2020-10-26",
          "2020-10-25",
          "2020-10-24",
          "2020-10-23",
          "2020-10-22",
          "2020-10-21",
          "2020-10-20",
          "2020-10-19",
          "2020-10-18",
          "2020-10-17",
          "2020-10-16",
          "2020-10-15",
          "2020-10-14",
          "2020-10-13",
          "2020-10-12",
          "2020-10-11",
          "2020-10-10",
          "2020-10-09",
          "2020-10-08",
          "2020-10-07",
          "2020-10-06",
          "2020-10-05",
          "2020-10-04",
          "2020-10-03",
          "2020-10-02",
          "2020-10-01",
          "2020-09-30",
          "2020-09-29",
          "2020-09-28",
          "2020-09-27",
          "2020-09-26",
          "2020-09-25",
          "2020-09-24",
          "2020-09-23",
          "2020-09-22",
          "2020-09-21",
          "2020-09-20",
          "2020-09-19",
          "2020-09-18",
          "2020-09-17",
          "2020-09-16",
          "2020-09-15",
          "2020-09-14",
          "2020-09-13",
          "2020-09-12",
          "2020-09-11",
          "2020-09-10",
          "2020-09-09",
          "2020-09-08",
          "2020-09-07",
          "2020-09-06",
          "2020-09-05",
          "2020-09-04",
          "2020-09-03",
          "2020-09-02",
          "2020-09-01",
          "2020-08-31",
          "2020-08-30",
          "2020-08-29",
          "2020-08-28",
          "2020-08-27",
          "2020-08-26",
          "2020-08-25",
          "2020-08-24",
          "2020-08-23",
          "2020-08-22",
          "2020-08-21",
          "2020-08-20",
          "2020-08-19",
          "2020-08-18",
          "2020-08-17",
          "2020-08-16",
          "2020-08-15",
          "2020-08-14",
          "2020-08-13",
          "2020-08-12",
          "2020-08-11",
          "2020-08-10",
          "2020-08-09",
          "2020-08-08",
          "2020-08-07",
          "2020-08-06",
          "2020-08-05",
          "2020-08-04",
          "2020-08-03",
          "2020-08-02",
          "2020-08-01",
          "2020-07-31",
          "2020-07-30",
          "2020-07-29",
          "2020-07-28",
          "2020-07-27",
          "2020-07-26",
          "2020-07-25",
          "2020-07-24",
          "2020-07-23",
          "2020-07-22",
          "2020-07-21",
          "2020-07-20",
          "2020-07-19",
          "2020-07-18",
          "2020-07-17",
          "2020-07-16",
          "2020-07-15",
          "2020-07-14",
          "2020-07-13",
          "2020-07-12",
          "2020-07-11",
          "2020-07-10",
          "2020-07-09",
          "2020-07-08",
          "2020-07-07",
          "2020-07-06",
          "2020-07-05",
          "2020-07-04",
          "2020-07-03",
          "2020-07-02",
          "2020-07-01",
          "2020-06-30",
          "2020-06-29",
          "2020-06-28",
          "2020-06-27",
          "2020-06-26",
          "2020-06-25",
          "2020-06-24",
          "2020-06-23",
          "2020-06-22",
          "2020-06-21",
          "2020-06-20",
          "2020-06-19",
          "2020-06-18",
          "2020-06-17",
          "2020-06-16",
          "2020-06-15",
          "2020-06-14",
          "2020-06-13",
          "2020-06-12",
          "2020-06-11",
          "2020-06-10",
          "2020-06-09",
          "2020-06-08",
          "2020-06-07",
          "2020-06-06",
          "2020-06-05",
          "2020-06-04",
          "2020-06-03",
          "2020-06-02",
          "2020-06-01",
          "2020-05-31",
          "2020-05-30",
          "2020-05-29",
          "2020-05-28",
          "2020-05-27",
          "2020-05-26",
          "2020-05-25",
          "2020-05-24",
          "2020-05-23",
          "2020-05-22",
          "2020-05-21",
          "2020-05-20",
          "2020-05-19",
          "2020-05-18",
          "2020-05-17",
          "2020-05-16",
          "2020-05-15",
          "2020-05-14",
          "2020-05-13",
          "2020-05-12",
          "2020-05-11",
          "2020-05-10",
          "2020-05-09",
          "2020-05-08",
          "2020-05-07",
          "2020-05-06",
          "2020-05-05",
          "2020-05-04",
          "2020-05-03",
          "2020-05-02",
          "2020-05-01",
          "2020-04-30",
          "2020-04-29",
          "2020-04-28",
          "2020-04-27",
          "2020-04-26",
          "2020-04-25",
          "2020-04-24",
          "2020-04-23",
          "2020-04-22",
          "2020-04-21",
          "2020-04-20",
          "2020-04-19",
          "2020-04-18",
          "2020-04-17",
          "2020-04-16",
          "2020-04-15",
          "2020-04-14",
          "2020-04-13",
          "2020-04-12",
          "2020-04-11",
          "2020-04-10",
          "2020-04-09",
          "2020-04-08",
          "2020-04-07",
          "2020-04-06",
          "2020-04-05",
          "2020-04-04",
          "2020-04-03",
          "2020-04-02",
          "2020-04-01",
          "2020-03-31",
          "2020-03-30",
          "2020-03-29",
          "2020-03-28",
          "2020-03-27",
          "2020-03-26",
          "2020-03-25",
          "2020-03-24",
          "2020-03-23",
          "2020-03-22",
          "2020-03-21",
          "2020-03-20",
          "2020-03-19",
          "2020-03-18",
          "2020-03-17",
          "2020-03-16",
          "2020-03-15",
          "2020-03-14",
          "2020-03-13",
          "2020-03-12",
          "2020-03-11",
          "2020-03-10",
          "2020-03-09",
          "2020-03-08",
          "2020-03-07",
          "2020-03-06",
          "2020-03-05",
          "2020-03-04",
          "2020-03-03",
          "2020-03-02",
          "2020-03-01",
          "2020-02-29",
          "2020-02-28",
          "2020-02-27",
          "2020-02-26",
          "2020-02-25",
          "2020-02-24",
          "2020-02-23",
          "2020-02-22",
          "2020-02-21",
          "2020-02-20",
          "2020-02-19",
          "2020-02-18",
          "2020-02-17",
          "2020-02-16",
          "2020-02-15",
          "2020-02-14",
          "2020-02-13",
          "2020-02-12",
          "2020-02-11",
          "2020-02-10",
          "2020-02-09",
          "2020-02-08",
          "2020-02-07",
          "2020-02-06",
          "2020-02-05",
          "2020-02-04",
          "2020-02-03",
          "2020-02-02",
          "2020-02-01",
          "2020-01-31",
          "2020-01-30",
          "2020-01-29",
          "2020-01-28",
          "2020-01-27",
          "2020-01-26",
          "2020-01-25",
          "2020-01-24",
          "2020-01-23",
          "2020-01-22"
         ],
         "y": [
          27989,
          27681,
          27437,
          27269,
          27172,
          26997,
          26803,
          26584,
          26335,
          26087,
          25819,
          25721,
          25498,
          25276,
          25041,
          24796,
          24560,
          24457,
          24375,
          24230,
          24082,
          23883,
          23701,
          23542,
          23420,
          23356,
          23221,
          23018,
          22855,
          22662,
          22475,
          22391,
          22320,
          22202,
          22051,
          21889,
          21735,
          21625,
          21553,
          21512,
          21389,
          21217,
          21112,
          20973,
          20812,
          20729,
          20686,
          20612,
          20492,
          20390,
          20247,
          20121,
          20050,
          20002,
          19919,
          19555,
          19452,
          19324,
          19353,
          19281,
          19243,
          19163,
          19057,
          18961,
          18847,
          18748,
          18692,
          18648,
          18549,
          18453,
          18322,
          18189,
          18156,
          18125,
          18089,
          18012,
          17894,
          17784,
          17655,
          17537,
          17439,
          17401,
          17304,
          17181,
          17046,
          16920,
          16787,
          16697,
          16657,
          16563,
          16487,
          16377,
          16123,
          15985,
          15924,
          15891,
          15764,
          15629,
          15524,
          15331,
          15158,
          15081,
          15024,
          14925,
          14810,
          14687,
          14537,
          14370,
          14288,
          14227,
          14044,
          13875,
          13744,
          13559,
          13412,
          13343,
          13279,
          13182,
          12933,
          12790,
          12629,
          12475,
          12393,
          12342,
          12243,
          12091,
          12002,
          11857,
          11749,
          11679,
          11612,
          11523,
          11370,
          11303,
          11177,
          11058,
          11010,
          10977,
          10936,
          10843,
          10752,
          10669,
          10542,
          10473,
          10415,
          10334,
          10257,
          10173,
          10077,
          10002,
          9944,
          9908,
          9876,
          9736,
          9665,
          9590,
          9516,
          9466,
          9430,
          9373,
          9295,
          9225,
          9141,
          9013,
          8957,
          8920,
          8863,
          8787,
          8688,
          8566,
          8485,
          8445,
          8305,
          8235,
          8109,
          8015,
          7899,
          7847,
          7801,
          7770,
          7689,
          7412,
          7319,
          7217,
          7064,
          7003,
          6945,
          6890,
          6795,
          6713,
          6585,
          6488,
          6445,
          6367,
          6294,
          5174,
          4911,
          4794,
          4579,
          4502,
          4386,
          4300,
          4192,
          4093,
          3798,
          3720,
          2571,
          2516,
          2468,
          2428,
          2370,
          2315,
          2193,
          2145,
          2096,
          2052,
          1834,
          1783,
          1715,
          1622,
          1449,
          1399,
          1179,
          918,
          862,
          738,
          663,
          609,
          403,
          335,
          305,
          256,
          230,
          187,
          156,
          140,
          124,
          91,
          74,
          "",
          "",
          "",
          "",
          "",
          "",
          "",
          "",
          "",
          "",
          "",
          "",
          "",
          "",
          "",
          "",
          "",
          "",
          "",
          "",
          "",
          "",
          "",
          "",
          "",
          "",
          "",
          "",
          "",
          "",
          "",
          "",
          "",
          "",
          "",
          "",
          "",
          "",
          "",
          "",
          "",
          "",
          "",
          "",
          "",
          "",
          "",
          "",
          "",
          "",
          "",
          "",
          "",
          "",
          "",
          "",
          "",
          "",
          "",
          "",
          "",
          "",
          ""
         ]
        }
       ],
       "layout": {
        "legend": {
         "bgcolor": "#151516",
         "font": {
          "color": "#D9D9D9"
         }
        },
        "paper_bgcolor": "#151516",
        "plot_bgcolor": "#151516",
        "template": {
         "data": {
          "bar": [
           {
            "error_x": {
             "color": "#f2f5fa"
            },
            "error_y": {
             "color": "#f2f5fa"
            },
            "marker": {
             "line": {
              "color": "rgb(17,17,17)",
              "width": 0.5
             }
            },
            "type": "bar"
           }
          ],
          "barpolar": [
           {
            "marker": {
             "line": {
              "color": "rgb(17,17,17)",
              "width": 0.5
             }
            },
            "type": "barpolar"
           }
          ],
          "carpet": [
           {
            "aaxis": {
             "endlinecolor": "#A2B1C6",
             "gridcolor": "#506784",
             "linecolor": "#506784",
             "minorgridcolor": "#506784",
             "startlinecolor": "#A2B1C6"
            },
            "baxis": {
             "endlinecolor": "#A2B1C6",
             "gridcolor": "#506784",
             "linecolor": "#506784",
             "minorgridcolor": "#506784",
             "startlinecolor": "#A2B1C6"
            },
            "type": "carpet"
           }
          ],
          "choropleth": [
           {
            "colorbar": {
             "outlinewidth": 0,
             "ticks": ""
            },
            "type": "choropleth"
           }
          ],
          "contour": [
           {
            "colorbar": {
             "outlinewidth": 0,
             "ticks": ""
            },
            "colorscale": [
             [
              0,
              "#0d0887"
             ],
             [
              0.1111111111111111,
              "#46039f"
             ],
             [
              0.2222222222222222,
              "#7201a8"
             ],
             [
              0.3333333333333333,
              "#9c179e"
             ],
             [
              0.4444444444444444,
              "#bd3786"
             ],
             [
              0.5555555555555556,
              "#d8576b"
             ],
             [
              0.6666666666666666,
              "#ed7953"
             ],
             [
              0.7777777777777778,
              "#fb9f3a"
             ],
             [
              0.8888888888888888,
              "#fdca26"
             ],
             [
              1,
              "#f0f921"
             ]
            ],
            "type": "contour"
           }
          ],
          "contourcarpet": [
           {
            "colorbar": {
             "outlinewidth": 0,
             "ticks": ""
            },
            "type": "contourcarpet"
           }
          ],
          "heatmap": [
           {
            "colorbar": {
             "outlinewidth": 0,
             "ticks": ""
            },
            "colorscale": [
             [
              0,
              "#0d0887"
             ],
             [
              0.1111111111111111,
              "#46039f"
             ],
             [
              0.2222222222222222,
              "#7201a8"
             ],
             [
              0.3333333333333333,
              "#9c179e"
             ],
             [
              0.4444444444444444,
              "#bd3786"
             ],
             [
              0.5555555555555556,
              "#d8576b"
             ],
             [
              0.6666666666666666,
              "#ed7953"
             ],
             [
              0.7777777777777778,
              "#fb9f3a"
             ],
             [
              0.8888888888888888,
              "#fdca26"
             ],
             [
              1,
              "#f0f921"
             ]
            ],
            "type": "heatmap"
           }
          ],
          "heatmapgl": [
           {
            "colorbar": {
             "outlinewidth": 0,
             "ticks": ""
            },
            "colorscale": [
             [
              0,
              "#0d0887"
             ],
             [
              0.1111111111111111,
              "#46039f"
             ],
             [
              0.2222222222222222,
              "#7201a8"
             ],
             [
              0.3333333333333333,
              "#9c179e"
             ],
             [
              0.4444444444444444,
              "#bd3786"
             ],
             [
              0.5555555555555556,
              "#d8576b"
             ],
             [
              0.6666666666666666,
              "#ed7953"
             ],
             [
              0.7777777777777778,
              "#fb9f3a"
             ],
             [
              0.8888888888888888,
              "#fdca26"
             ],
             [
              1,
              "#f0f921"
             ]
            ],
            "type": "heatmapgl"
           }
          ],
          "histogram": [
           {
            "marker": {
             "colorbar": {
              "outlinewidth": 0,
              "ticks": ""
             }
            },
            "type": "histogram"
           }
          ],
          "histogram2d": [
           {
            "colorbar": {
             "outlinewidth": 0,
             "ticks": ""
            },
            "colorscale": [
             [
              0,
              "#0d0887"
             ],
             [
              0.1111111111111111,
              "#46039f"
             ],
             [
              0.2222222222222222,
              "#7201a8"
             ],
             [
              0.3333333333333333,
              "#9c179e"
             ],
             [
              0.4444444444444444,
              "#bd3786"
             ],
             [
              0.5555555555555556,
              "#d8576b"
             ],
             [
              0.6666666666666666,
              "#ed7953"
             ],
             [
              0.7777777777777778,
              "#fb9f3a"
             ],
             [
              0.8888888888888888,
              "#fdca26"
             ],
             [
              1,
              "#f0f921"
             ]
            ],
            "type": "histogram2d"
           }
          ],
          "histogram2dcontour": [
           {
            "colorbar": {
             "outlinewidth": 0,
             "ticks": ""
            },
            "colorscale": [
             [
              0,
              "#0d0887"
             ],
             [
              0.1111111111111111,
              "#46039f"
             ],
             [
              0.2222222222222222,
              "#7201a8"
             ],
             [
              0.3333333333333333,
              "#9c179e"
             ],
             [
              0.4444444444444444,
              "#bd3786"
             ],
             [
              0.5555555555555556,
              "#d8576b"
             ],
             [
              0.6666666666666666,
              "#ed7953"
             ],
             [
              0.7777777777777778,
              "#fb9f3a"
             ],
             [
              0.8888888888888888,
              "#fdca26"
             ],
             [
              1,
              "#f0f921"
             ]
            ],
            "type": "histogram2dcontour"
           }
          ],
          "mesh3d": [
           {
            "colorbar": {
             "outlinewidth": 0,
             "ticks": ""
            },
            "type": "mesh3d"
           }
          ],
          "parcoords": [
           {
            "line": {
             "colorbar": {
              "outlinewidth": 0,
              "ticks": ""
             }
            },
            "type": "parcoords"
           }
          ],
          "pie": [
           {
            "automargin": true,
            "type": "pie"
           }
          ],
          "scatter": [
           {
            "marker": {
             "line": {
              "color": "#283442"
             }
            },
            "type": "scatter"
           }
          ],
          "scatter3d": [
           {
            "line": {
             "colorbar": {
              "outlinewidth": 0,
              "ticks": ""
             }
            },
            "marker": {
             "colorbar": {
              "outlinewidth": 0,
              "ticks": ""
             }
            },
            "type": "scatter3d"
           }
          ],
          "scattercarpet": [
           {
            "marker": {
             "colorbar": {
              "outlinewidth": 0,
              "ticks": ""
             }
            },
            "type": "scattercarpet"
           }
          ],
          "scattergeo": [
           {
            "marker": {
             "colorbar": {
              "outlinewidth": 0,
              "ticks": ""
             }
            },
            "type": "scattergeo"
           }
          ],
          "scattergl": [
           {
            "marker": {
             "line": {
              "color": "#283442"
             }
            },
            "type": "scattergl"
           }
          ],
          "scattermapbox": [
           {
            "marker": {
             "colorbar": {
              "outlinewidth": 0,
              "ticks": ""
             }
            },
            "type": "scattermapbox"
           }
          ],
          "scatterpolar": [
           {
            "marker": {
             "colorbar": {
              "outlinewidth": 0,
              "ticks": ""
             }
            },
            "type": "scatterpolar"
           }
          ],
          "scatterpolargl": [
           {
            "marker": {
             "colorbar": {
              "outlinewidth": 0,
              "ticks": ""
             }
            },
            "type": "scatterpolargl"
           }
          ],
          "scatterternary": [
           {
            "marker": {
             "colorbar": {
              "outlinewidth": 0,
              "ticks": ""
             }
            },
            "type": "scatterternary"
           }
          ],
          "surface": [
           {
            "colorbar": {
             "outlinewidth": 0,
             "ticks": ""
            },
            "colorscale": [
             [
              0,
              "#0d0887"
             ],
             [
              0.1111111111111111,
              "#46039f"
             ],
             [
              0.2222222222222222,
              "#7201a8"
             ],
             [
              0.3333333333333333,
              "#9c179e"
             ],
             [
              0.4444444444444444,
              "#bd3786"
             ],
             [
              0.5555555555555556,
              "#d8576b"
             ],
             [
              0.6666666666666666,
              "#ed7953"
             ],
             [
              0.7777777777777778,
              "#fb9f3a"
             ],
             [
              0.8888888888888888,
              "#fdca26"
             ],
             [
              1,
              "#f0f921"
             ]
            ],
            "type": "surface"
           }
          ],
          "table": [
           {
            "cells": {
             "fill": {
              "color": "#506784"
             },
             "line": {
              "color": "rgb(17,17,17)"
             }
            },
            "header": {
             "fill": {
              "color": "#2a3f5f"
             },
             "line": {
              "color": "rgb(17,17,17)"
             }
            },
            "type": "table"
           }
          ]
         },
         "layout": {
          "annotationdefaults": {
           "arrowcolor": "#f2f5fa",
           "arrowhead": 0,
           "arrowwidth": 1
          },
          "coloraxis": {
           "colorbar": {
            "outlinewidth": 0,
            "ticks": ""
           }
          },
          "colorscale": {
           "diverging": [
            [
             0,
             "#8e0152"
            ],
            [
             0.1,
             "#c51b7d"
            ],
            [
             0.2,
             "#de77ae"
            ],
            [
             0.3,
             "#f1b6da"
            ],
            [
             0.4,
             "#fde0ef"
            ],
            [
             0.5,
             "#f7f7f7"
            ],
            [
             0.6,
             "#e6f5d0"
            ],
            [
             0.7,
             "#b8e186"
            ],
            [
             0.8,
             "#7fbc41"
            ],
            [
             0.9,
             "#4d9221"
            ],
            [
             1,
             "#276419"
            ]
           ],
           "sequential": [
            [
             0,
             "#0d0887"
            ],
            [
             0.1111111111111111,
             "#46039f"
            ],
            [
             0.2222222222222222,
             "#7201a8"
            ],
            [
             0.3333333333333333,
             "#9c179e"
            ],
            [
             0.4444444444444444,
             "#bd3786"
            ],
            [
             0.5555555555555556,
             "#d8576b"
            ],
            [
             0.6666666666666666,
             "#ed7953"
            ],
            [
             0.7777777777777778,
             "#fb9f3a"
            ],
            [
             0.8888888888888888,
             "#fdca26"
            ],
            [
             1,
             "#f0f921"
            ]
           ],
           "sequentialminus": [
            [
             0,
             "#0d0887"
            ],
            [
             0.1111111111111111,
             "#46039f"
            ],
            [
             0.2222222222222222,
             "#7201a8"
            ],
            [
             0.3333333333333333,
             "#9c179e"
            ],
            [
             0.4444444444444444,
             "#bd3786"
            ],
            [
             0.5555555555555556,
             "#d8576b"
            ],
            [
             0.6666666666666666,
             "#ed7953"
            ],
            [
             0.7777777777777778,
             "#fb9f3a"
            ],
            [
             0.8888888888888888,
             "#fdca26"
            ],
            [
             1,
             "#f0f921"
            ]
           ]
          },
          "colorway": [
           "#636efa",
           "#EF553B",
           "#00cc96",
           "#ab63fa",
           "#FFA15A",
           "#19d3f3",
           "#FF6692",
           "#B6E880",
           "#FF97FF",
           "#FECB52"
          ],
          "font": {
           "color": "#f2f5fa"
          },
          "geo": {
           "bgcolor": "rgb(17,17,17)",
           "lakecolor": "rgb(17,17,17)",
           "landcolor": "rgb(17,17,17)",
           "showlakes": true,
           "showland": true,
           "subunitcolor": "#506784"
          },
          "hoverlabel": {
           "align": "left"
          },
          "hovermode": "closest",
          "mapbox": {
           "style": "dark"
          },
          "paper_bgcolor": "rgb(17,17,17)",
          "plot_bgcolor": "rgb(17,17,17)",
          "polar": {
           "angularaxis": {
            "gridcolor": "#506784",
            "linecolor": "#506784",
            "ticks": ""
           },
           "bgcolor": "rgb(17,17,17)",
           "radialaxis": {
            "gridcolor": "#506784",
            "linecolor": "#506784",
            "ticks": ""
           }
          },
          "scene": {
           "xaxis": {
            "backgroundcolor": "rgb(17,17,17)",
            "gridcolor": "#506784",
            "gridwidth": 2,
            "linecolor": "#506784",
            "showbackground": true,
            "ticks": "",
            "zerolinecolor": "#C8D4E3"
           },
           "yaxis": {
            "backgroundcolor": "rgb(17,17,17)",
            "gridcolor": "#506784",
            "gridwidth": 2,
            "linecolor": "#506784",
            "showbackground": true,
            "ticks": "",
            "zerolinecolor": "#C8D4E3"
           },
           "zaxis": {
            "backgroundcolor": "rgb(17,17,17)",
            "gridcolor": "#506784",
            "gridwidth": 2,
            "linecolor": "#506784",
            "showbackground": true,
            "ticks": "",
            "zerolinecolor": "#C8D4E3"
           }
          },
          "shapedefaults": {
           "line": {
            "color": "#f2f5fa"
           }
          },
          "sliderdefaults": {
           "bgcolor": "#C8D4E3",
           "bordercolor": "rgb(17,17,17)",
           "borderwidth": 1,
           "tickwidth": 0
          },
          "ternary": {
           "aaxis": {
            "gridcolor": "#506784",
            "linecolor": "#506784",
            "ticks": ""
           },
           "baxis": {
            "gridcolor": "#506784",
            "linecolor": "#506784",
            "ticks": ""
           },
           "bgcolor": "rgb(17,17,17)",
           "caxis": {
            "gridcolor": "#506784",
            "linecolor": "#506784",
            "ticks": ""
           }
          },
          "title": {
           "x": 0.05
          },
          "updatemenudefaults": {
           "bgcolor": "#506784",
           "borderwidth": 0
          },
          "xaxis": {
           "automargin": true,
           "gridcolor": "#283442",
           "linecolor": "#506784",
           "ticks": "",
           "title": {
            "standoff": 15
           },
           "zerolinecolor": "#283442",
           "zerolinewidth": 2
          },
          "yaxis": {
           "automargin": true,
           "gridcolor": "#283442",
           "linecolor": "#506784",
           "ticks": "",
           "title": {
            "standoff": 15
           },
           "zerolinecolor": "#283442",
           "zerolinewidth": 2
          }
         }
        },
        "title": {
         "font": {
          "color": "#D9D9D9"
         }
        },
        "xaxis": {
         "gridcolor": "#434343",
         "showgrid": true,
         "tickfont": {
          "color": "#C2C2C2"
         },
         "title": {
          "font": {
           "color": "#D9D9D9"
          },
          "text": ""
         },
         "zerolinecolor": "#666570"
        },
        "yaxis": {
         "gridcolor": "#434343",
         "showgrid": true,
         "tickfont": {
          "color": "#C2C2C2"
         },
         "title": {
          "font": {
           "color": "#D9D9D9"
          },
          "text": ""
         },
         "zerolinecolor": "#666570"
        }
       }
      },
      "text/html": [
       "<div>                            <div id=\"de253d04-a190-4521-ae53-41f75aa596d8\" class=\"plotly-graph-div\" style=\"height:525px; width:100%;\"></div>            <script type=\"text/javascript\">                require([\"plotly\"], function(Plotly) {                    window.PLOTLYENV=window.PLOTLYENV || {};\n",
       "                    window.PLOTLYENV.BASE_URL='https://plot.ly';                                    if (document.getElementById(\"de253d04-a190-4521-ae53-41f75aa596d8\")) {                    Plotly.newPlot(                        \"de253d04-a190-4521-ae53-41f75aa596d8\",                        [{\"line\": {\"color\": \"rgba(255, 153, 51, 1.0)\", \"dash\": \"solid\", \"shape\": \"linear\", \"width\": 1.3}, \"mode\": \"lines\", \"name\": \"inIcuCurrently\", \"text\": \"\", \"type\": \"scatter\", \"x\": [\"2020-11-18\", \"2020-11-17\", \"2020-11-16\", \"2020-11-15\", \"2020-11-14\", \"2020-11-13\", \"2020-11-12\", \"2020-11-11\", \"2020-11-10\", \"2020-11-09\", \"2020-11-08\", \"2020-11-07\", \"2020-11-06\", \"2020-11-05\", \"2020-11-04\", \"2020-11-03\", \"2020-11-02\", \"2020-11-01\", \"2020-10-31\", \"2020-10-30\", \"2020-10-29\", \"2020-10-28\", \"2020-10-27\", \"2020-10-26\", \"2020-10-25\", \"2020-10-24\", \"2020-10-23\", \"2020-10-22\", \"2020-10-21\", \"2020-10-20\", \"2020-10-19\", \"2020-10-18\", \"2020-10-17\", \"2020-10-16\", \"2020-10-15\", \"2020-10-14\", \"2020-10-13\", \"2020-10-12\", \"2020-10-11\", \"2020-10-10\", \"2020-10-09\", \"2020-10-08\", \"2020-10-07\", \"2020-10-06\", \"2020-10-05\", \"2020-10-04\", \"2020-10-03\", \"2020-10-02\", \"2020-10-01\", \"2020-09-30\", \"2020-09-29\", \"2020-09-28\", \"2020-09-27\", \"2020-09-26\", \"2020-09-25\", \"2020-09-24\", \"2020-09-23\", \"2020-09-22\", \"2020-09-21\", \"2020-09-20\", \"2020-09-19\", \"2020-09-18\", \"2020-09-17\", \"2020-09-16\", \"2020-09-15\", \"2020-09-14\", \"2020-09-13\", \"2020-09-12\", \"2020-09-11\", \"2020-09-10\", \"2020-09-09\", \"2020-09-08\", \"2020-09-07\", \"2020-09-06\", \"2020-09-05\", \"2020-09-04\", \"2020-09-03\", \"2020-09-02\", \"2020-09-01\", \"2020-08-31\", \"2020-08-30\", \"2020-08-29\", \"2020-08-28\", \"2020-08-27\", \"2020-08-26\", \"2020-08-25\", \"2020-08-24\", \"2020-08-23\", \"2020-08-22\", \"2020-08-21\", \"2020-08-20\", \"2020-08-19\", \"2020-08-18\", \"2020-08-17\", \"2020-08-16\", \"2020-08-15\", \"2020-08-14\", \"2020-08-13\", \"2020-08-12\", \"2020-08-11\", \"2020-08-10\", \"2020-08-09\", \"2020-08-08\", \"2020-08-07\", \"2020-08-06\", \"2020-08-05\", \"2020-08-04\", \"2020-08-03\", \"2020-08-02\", \"2020-08-01\", \"2020-07-31\", \"2020-07-30\", \"2020-07-29\", \"2020-07-28\", \"2020-07-27\", \"2020-07-26\", \"2020-07-25\", \"2020-07-24\", \"2020-07-23\", \"2020-07-22\", \"2020-07-21\", \"2020-07-20\", \"2020-07-19\", \"2020-07-18\", \"2020-07-17\", \"2020-07-16\", \"2020-07-15\", \"2020-07-14\", \"2020-07-13\", \"2020-07-12\", \"2020-07-11\", \"2020-07-10\", \"2020-07-09\", \"2020-07-08\", \"2020-07-07\", \"2020-07-06\", \"2020-07-05\", \"2020-07-04\", \"2020-07-03\", \"2020-07-02\", \"2020-07-01\", \"2020-06-30\", \"2020-06-29\", \"2020-06-28\", \"2020-06-27\", \"2020-06-26\", \"2020-06-25\", \"2020-06-24\", \"2020-06-23\", \"2020-06-22\", \"2020-06-21\", \"2020-06-20\", \"2020-06-19\", \"2020-06-18\", \"2020-06-17\", \"2020-06-16\", \"2020-06-15\", \"2020-06-14\", \"2020-06-13\", \"2020-06-12\", \"2020-06-11\", \"2020-06-10\", \"2020-06-09\", \"2020-06-08\", \"2020-06-07\", \"2020-06-06\", \"2020-06-05\", \"2020-06-04\", \"2020-06-03\", \"2020-06-02\", \"2020-06-01\", \"2020-05-31\", \"2020-05-30\", \"2020-05-29\", \"2020-05-28\", \"2020-05-27\", \"2020-05-26\", \"2020-05-25\", \"2020-05-24\", \"2020-05-23\", \"2020-05-22\", \"2020-05-21\", \"2020-05-20\", \"2020-05-19\", \"2020-05-18\", \"2020-05-17\", \"2020-05-16\", \"2020-05-15\", \"2020-05-14\", \"2020-05-13\", \"2020-05-12\", \"2020-05-11\", \"2020-05-10\", \"2020-05-09\", \"2020-05-08\", \"2020-05-07\", \"2020-05-06\", \"2020-05-05\", \"2020-05-04\", \"2020-05-03\", \"2020-05-02\", \"2020-05-01\", \"2020-04-30\", \"2020-04-29\", \"2020-04-28\", \"2020-04-27\", \"2020-04-26\", \"2020-04-25\", \"2020-04-24\", \"2020-04-23\", \"2020-04-22\", \"2020-04-21\", \"2020-04-20\", \"2020-04-19\", \"2020-04-18\", \"2020-04-17\", \"2020-04-16\", \"2020-04-15\", \"2020-04-14\", \"2020-04-13\", \"2020-04-12\", \"2020-04-11\", \"2020-04-10\", \"2020-04-09\", \"2020-04-08\", \"2020-04-07\", \"2020-04-06\", \"2020-04-05\", \"2020-04-04\", \"2020-04-03\", \"2020-04-02\", \"2020-04-01\", \"2020-03-31\", \"2020-03-30\", \"2020-03-29\", \"2020-03-28\", \"2020-03-27\", \"2020-03-26\", \"2020-03-25\", \"2020-03-24\", \"2020-03-23\", \"2020-03-22\", \"2020-03-21\", \"2020-03-20\", \"2020-03-19\", \"2020-03-18\", \"2020-03-17\", \"2020-03-16\", \"2020-03-15\", \"2020-03-14\", \"2020-03-13\", \"2020-03-12\", \"2020-03-11\", \"2020-03-10\", \"2020-03-09\", \"2020-03-08\", \"2020-03-07\", \"2020-03-06\", \"2020-03-05\", \"2020-03-04\", \"2020-03-03\", \"2020-03-02\", \"2020-03-01\", \"2020-02-29\", \"2020-02-28\", \"2020-02-27\", \"2020-02-26\", \"2020-02-25\", \"2020-02-24\", \"2020-02-23\", \"2020-02-22\", \"2020-02-21\", \"2020-02-20\", \"2020-02-19\", \"2020-02-18\", \"2020-02-17\", \"2020-02-16\", \"2020-02-15\", \"2020-02-14\", \"2020-02-13\", \"2020-02-12\", \"2020-02-11\", \"2020-02-10\", \"2020-02-09\", \"2020-02-08\", \"2020-02-07\", \"2020-02-06\", \"2020-02-05\", \"2020-02-04\", \"2020-02-03\", \"2020-02-02\", \"2020-02-01\", \"2020-01-31\", \"2020-01-30\", \"2020-01-29\", \"2020-01-28\", \"2020-01-27\", \"2020-01-26\", \"2020-01-25\", \"2020-01-24\", \"2020-01-23\", \"2020-01-22\"], \"y\": [15350.0, 14851.0, 14317.0, 13693.0, 13337.0, 13132.0, 12796.0, 12518.0, 11961.0, 11533.0, 11120.0, 11082.0, 11085.0, 10918.0, 10761.0, 10406.0, 9858.0, 9553.0, 9499.0, 9437.0, 9208.0, 9034.0, 8909.0, 8842.0, 8489.0, 8561.0, 8237.0, 8086.0, 8182.0, 8131.0, 7997.0, 7292.0, 7384.0, 7251.0, 7220.0, 7156.0, 7020.0, 6807.0, 6679.0, 6683.0, 6713.0, 6621.0, 6507.0, 6438.0, 6209.0, 5974.0, 5996.0, 6106.0, 6173.0, 6145.0, 6106.0, 5981.0, 6080.0, 6057.0, 6133.0, 6168.0, 6113.0, 6111.0, 6071.0, 6015.0, 6070.0, 6175.0, 6278.0, 6308.0, 6310.0, 6238.0, 6233.0, 6451.0, 6379.0, 6531.0, 6646.0, 6542.0, 6630.0, 6700.0, 6766.0, 6924.0, 6921.0, 7087.0, 7090.0, 7043.0, 7268.0, 7413.0, 7558.0, 7717.0, 7737.0, 7863.0, 7851.0, 7949.0, 8207.0, 8357.0, 8483.0, 8744.0, 8866.0, 8871.0, 8958.0, 9087.0, 9277.0, 9487.0, 9555.0, 9136.0, 9216.0, 9307.0, 9662.0, 9691.0, 9994.0, 9986.0, 10207.0, 10230.0, 10415.0, 10450.0, 10472.0, 10523.0, 10539.0, 10463.0, 10328.0, 10353.0, 10380.0, 10395.0, 10414.0, 10457.0, 6711.0, 6557.0, 6384.0, 6397.0, 6452.0, 6359.0, 6317.0, 6235.0, 6074.0, 5930.0, 5939.0, 5896.0, 5845.0, 5874.0, 5832.0, 5687.0, 5653.0, 5633.0, 5597.0, 5626.0, 5512.0, 5424.0, 5380.0, 5252.0, 5314.0, 5283.0, 5320.0, 5293.0, 5402.0, 5323.0, 5195.0, 5229.0, 5341.0, 5464.0, 5612.0, 5570.0, 5703.0, 5749.0, 5883.0, 6017.0, 6074.0, 6249.0, 6457.0, 6402.0, 6501.0, 6762.0, 6920.0, 7057.0, 7227.0, 7407.0, 7591.0, 7626.0, 7956.0, 8174.0, 8389.0, 8547.0, 8585.0, 8467.0, 8485.0, 8733.0, 9049.0, 9090.0, 9521.0, 9598.0, 9754.0, 9934.0, 10278.0, 10484.0, 10655.0, 10990.0, 11240.0, 11148.0, 11393.0, 11496.0, 11780.0, 12136.0, 12478.0, 12628.0, 12696.0, 12720.0, 12905.0, 12845.0, 13255.0, 13535.0, 13562.0, 13812.0, 14104.0, 14415.0, 14605.0, 14744.0, 15013.0, 14941.0, 14463.0, 14385.0, 14769.0, 14890.0, 15130.0, 14646.0, 14039.0, 13620.0, 13620.0, 13285.0, 12693.0, 12450.0, 10337.0, 9978.0, 7079.0, 5811.0, 5500.0, 4928.0, 4513.0, 3937.0, 3487.0, 3087.0, 2456.0, 2174.0, 1792.0, 1299.0, \"\", \"\", \"\", \"\", \"\", \"\", \"\", \"\", \"\", \"\", \"\", \"\", \"\", \"\", \"\", \"\", \"\", \"\", \"\", \"\", \"\", \"\", \"\", \"\", \"\", \"\", \"\", \"\", \"\", \"\", \"\", \"\", \"\", \"\", \"\", \"\", \"\", \"\", \"\", \"\", \"\", \"\", \"\", \"\", \"\", \"\", \"\", \"\", \"\", \"\", \"\", \"\", \"\", \"\", \"\", \"\", \"\", \"\", \"\", \"\", \"\", \"\", \"\", \"\"]}, {\"line\": {\"color\": \"rgba(55, 128, 191, 1.0)\", \"dash\": \"solid\", \"shape\": \"linear\", \"width\": 1.3}, \"mode\": \"lines\", \"name\": \"inIcuCumulative\", \"text\": \"\", \"type\": \"scatter\", \"x\": [\"2020-11-18\", \"2020-11-17\", \"2020-11-16\", \"2020-11-15\", \"2020-11-14\", \"2020-11-13\", \"2020-11-12\", \"2020-11-11\", \"2020-11-10\", \"2020-11-09\", \"2020-11-08\", \"2020-11-07\", \"2020-11-06\", \"2020-11-05\", \"2020-11-04\", \"2020-11-03\", \"2020-11-02\", \"2020-11-01\", \"2020-10-31\", \"2020-10-30\", \"2020-10-29\", \"2020-10-28\", \"2020-10-27\", \"2020-10-26\", \"2020-10-25\", \"2020-10-24\", \"2020-10-23\", \"2020-10-22\", \"2020-10-21\", \"2020-10-20\", \"2020-10-19\", \"2020-10-18\", \"2020-10-17\", \"2020-10-16\", \"2020-10-15\", \"2020-10-14\", \"2020-10-13\", \"2020-10-12\", \"2020-10-11\", \"2020-10-10\", \"2020-10-09\", \"2020-10-08\", \"2020-10-07\", \"2020-10-06\", \"2020-10-05\", \"2020-10-04\", \"2020-10-03\", \"2020-10-02\", \"2020-10-01\", \"2020-09-30\", \"2020-09-29\", \"2020-09-28\", \"2020-09-27\", \"2020-09-26\", \"2020-09-25\", \"2020-09-24\", \"2020-09-23\", \"2020-09-22\", \"2020-09-21\", \"2020-09-20\", \"2020-09-19\", \"2020-09-18\", \"2020-09-17\", \"2020-09-16\", \"2020-09-15\", \"2020-09-14\", \"2020-09-13\", \"2020-09-12\", \"2020-09-11\", \"2020-09-10\", \"2020-09-09\", \"2020-09-08\", \"2020-09-07\", \"2020-09-06\", \"2020-09-05\", \"2020-09-04\", \"2020-09-03\", \"2020-09-02\", \"2020-09-01\", \"2020-08-31\", \"2020-08-30\", \"2020-08-29\", \"2020-08-28\", \"2020-08-27\", \"2020-08-26\", \"2020-08-25\", \"2020-08-24\", \"2020-08-23\", \"2020-08-22\", \"2020-08-21\", \"2020-08-20\", \"2020-08-19\", \"2020-08-18\", \"2020-08-17\", \"2020-08-16\", \"2020-08-15\", \"2020-08-14\", \"2020-08-13\", \"2020-08-12\", \"2020-08-11\", \"2020-08-10\", \"2020-08-09\", \"2020-08-08\", \"2020-08-07\", \"2020-08-06\", \"2020-08-05\", \"2020-08-04\", \"2020-08-03\", \"2020-08-02\", \"2020-08-01\", \"2020-07-31\", \"2020-07-30\", \"2020-07-29\", \"2020-07-28\", \"2020-07-27\", \"2020-07-26\", \"2020-07-25\", \"2020-07-24\", \"2020-07-23\", \"2020-07-22\", \"2020-07-21\", \"2020-07-20\", \"2020-07-19\", \"2020-07-18\", \"2020-07-17\", \"2020-07-16\", \"2020-07-15\", \"2020-07-14\", \"2020-07-13\", \"2020-07-12\", \"2020-07-11\", \"2020-07-10\", \"2020-07-09\", \"2020-07-08\", \"2020-07-07\", \"2020-07-06\", \"2020-07-05\", \"2020-07-04\", \"2020-07-03\", \"2020-07-02\", \"2020-07-01\", \"2020-06-30\", \"2020-06-29\", \"2020-06-28\", \"2020-06-27\", \"2020-06-26\", \"2020-06-25\", \"2020-06-24\", \"2020-06-23\", \"2020-06-22\", \"2020-06-21\", \"2020-06-20\", \"2020-06-19\", \"2020-06-18\", \"2020-06-17\", \"2020-06-16\", \"2020-06-15\", \"2020-06-14\", \"2020-06-13\", \"2020-06-12\", \"2020-06-11\", \"2020-06-10\", \"2020-06-09\", \"2020-06-08\", \"2020-06-07\", \"2020-06-06\", \"2020-06-05\", \"2020-06-04\", \"2020-06-03\", \"2020-06-02\", \"2020-06-01\", \"2020-05-31\", \"2020-05-30\", \"2020-05-29\", \"2020-05-28\", \"2020-05-27\", \"2020-05-26\", \"2020-05-25\", \"2020-05-24\", \"2020-05-23\", \"2020-05-22\", \"2020-05-21\", \"2020-05-20\", \"2020-05-19\", \"2020-05-18\", \"2020-05-17\", \"2020-05-16\", \"2020-05-15\", \"2020-05-14\", \"2020-05-13\", \"2020-05-12\", \"2020-05-11\", \"2020-05-10\", \"2020-05-09\", \"2020-05-08\", \"2020-05-07\", \"2020-05-06\", \"2020-05-05\", \"2020-05-04\", \"2020-05-03\", \"2020-05-02\", \"2020-05-01\", \"2020-04-30\", \"2020-04-29\", \"2020-04-28\", \"2020-04-27\", \"2020-04-26\", \"2020-04-25\", \"2020-04-24\", \"2020-04-23\", \"2020-04-22\", \"2020-04-21\", \"2020-04-20\", \"2020-04-19\", \"2020-04-18\", \"2020-04-17\", \"2020-04-16\", \"2020-04-15\", \"2020-04-14\", \"2020-04-13\", \"2020-04-12\", \"2020-04-11\", \"2020-04-10\", \"2020-04-09\", \"2020-04-08\", \"2020-04-07\", \"2020-04-06\", \"2020-04-05\", \"2020-04-04\", \"2020-04-03\", \"2020-04-02\", \"2020-04-01\", \"2020-03-31\", \"2020-03-30\", \"2020-03-29\", \"2020-03-28\", \"2020-03-27\", \"2020-03-26\", \"2020-03-25\", \"2020-03-24\", \"2020-03-23\", \"2020-03-22\", \"2020-03-21\", \"2020-03-20\", \"2020-03-19\", \"2020-03-18\", \"2020-03-17\", \"2020-03-16\", \"2020-03-15\", \"2020-03-14\", \"2020-03-13\", \"2020-03-12\", \"2020-03-11\", \"2020-03-10\", \"2020-03-09\", \"2020-03-08\", \"2020-03-07\", \"2020-03-06\", \"2020-03-05\", \"2020-03-04\", \"2020-03-03\", \"2020-03-02\", \"2020-03-01\", \"2020-02-29\", \"2020-02-28\", \"2020-02-27\", \"2020-02-26\", \"2020-02-25\", \"2020-02-24\", \"2020-02-23\", \"2020-02-22\", \"2020-02-21\", \"2020-02-20\", \"2020-02-19\", \"2020-02-18\", \"2020-02-17\", \"2020-02-16\", \"2020-02-15\", \"2020-02-14\", \"2020-02-13\", \"2020-02-12\", \"2020-02-11\", \"2020-02-10\", \"2020-02-09\", \"2020-02-08\", \"2020-02-07\", \"2020-02-06\", \"2020-02-05\", \"2020-02-04\", \"2020-02-03\", \"2020-02-02\", \"2020-02-01\", \"2020-01-31\", \"2020-01-30\", \"2020-01-29\", \"2020-01-28\", \"2020-01-27\", \"2020-01-26\", \"2020-01-25\", \"2020-01-24\", \"2020-01-23\", \"2020-01-22\"], \"y\": [27989.0, 27681.0, 27437.0, 27269.0, 27172.0, 26997.0, 26803.0, 26584.0, 26335.0, 26087.0, 25819.0, 25721.0, 25498.0, 25276.0, 25041.0, 24796.0, 24560.0, 24457.0, 24375.0, 24230.0, 24082.0, 23883.0, 23701.0, 23542.0, 23420.0, 23356.0, 23221.0, 23018.0, 22855.0, 22662.0, 22475.0, 22391.0, 22320.0, 22202.0, 22051.0, 21889.0, 21735.0, 21625.0, 21553.0, 21512.0, 21389.0, 21217.0, 21112.0, 20973.0, 20812.0, 20729.0, 20686.0, 20612.0, 20492.0, 20390.0, 20247.0, 20121.0, 20050.0, 20002.0, 19919.0, 19555.0, 19452.0, 19324.0, 19353.0, 19281.0, 19243.0, 19163.0, 19057.0, 18961.0, 18847.0, 18748.0, 18692.0, 18648.0, 18549.0, 18453.0, 18322.0, 18189.0, 18156.0, 18125.0, 18089.0, 18012.0, 17894.0, 17784.0, 17655.0, 17537.0, 17439.0, 17401.0, 17304.0, 17181.0, 17046.0, 16920.0, 16787.0, 16697.0, 16657.0, 16563.0, 16487.0, 16377.0, 16123.0, 15985.0, 15924.0, 15891.0, 15764.0, 15629.0, 15524.0, 15331.0, 15158.0, 15081.0, 15024.0, 14925.0, 14810.0, 14687.0, 14537.0, 14370.0, 14288.0, 14227.0, 14044.0, 13875.0, 13744.0, 13559.0, 13412.0, 13343.0, 13279.0, 13182.0, 12933.0, 12790.0, 12629.0, 12475.0, 12393.0, 12342.0, 12243.0, 12091.0, 12002.0, 11857.0, 11749.0, 11679.0, 11612.0, 11523.0, 11370.0, 11303.0, 11177.0, 11058.0, 11010.0, 10977.0, 10936.0, 10843.0, 10752.0, 10669.0, 10542.0, 10473.0, 10415.0, 10334.0, 10257.0, 10173.0, 10077.0, 10002.0, 9944.0, 9908.0, 9876.0, 9736.0, 9665.0, 9590.0, 9516.0, 9466.0, 9430.0, 9373.0, 9295.0, 9225.0, 9141.0, 9013.0, 8957.0, 8920.0, 8863.0, 8787.0, 8688.0, 8566.0, 8485.0, 8445.0, 8305.0, 8235.0, 8109.0, 8015.0, 7899.0, 7847.0, 7801.0, 7770.0, 7689.0, 7412.0, 7319.0, 7217.0, 7064.0, 7003.0, 6945.0, 6890.0, 6795.0, 6713.0, 6585.0, 6488.0, 6445.0, 6367.0, 6294.0, 5174.0, 4911.0, 4794.0, 4579.0, 4502.0, 4386.0, 4300.0, 4192.0, 4093.0, 3798.0, 3720.0, 2571.0, 2516.0, 2468.0, 2428.0, 2370.0, 2315.0, 2193.0, 2145.0, 2096.0, 2052.0, 1834.0, 1783.0, 1715.0, 1622.0, 1449.0, 1399.0, 1179.0, 918.0, 862.0, 738.0, 663.0, 609.0, 403.0, 335.0, 305.0, 256.0, 230.0, 187.0, 156.0, 140.0, 124.0, 91.0, 74.0, \"\", \"\", \"\", \"\", \"\", \"\", \"\", \"\", \"\", \"\", \"\", \"\", \"\", \"\", \"\", \"\", \"\", \"\", \"\", \"\", \"\", \"\", \"\", \"\", \"\", \"\", \"\", \"\", \"\", \"\", \"\", \"\", \"\", \"\", \"\", \"\", \"\", \"\", \"\", \"\", \"\", \"\", \"\", \"\", \"\", \"\", \"\", \"\", \"\", \"\", \"\", \"\", \"\", \"\", \"\", \"\", \"\", \"\", \"\", \"\", \"\", \"\", \"\"]}],                        {\"legend\": {\"bgcolor\": \"#151516\", \"font\": {\"color\": \"#D9D9D9\"}}, \"paper_bgcolor\": \"#151516\", \"plot_bgcolor\": \"#151516\", \"template\": {\"data\": {\"bar\": [{\"error_x\": {\"color\": \"#f2f5fa\"}, \"error_y\": {\"color\": \"#f2f5fa\"}, \"marker\": {\"line\": {\"color\": \"rgb(17,17,17)\", \"width\": 0.5}}, \"type\": \"bar\"}], \"barpolar\": [{\"marker\": {\"line\": {\"color\": \"rgb(17,17,17)\", \"width\": 0.5}}, \"type\": \"barpolar\"}], \"carpet\": [{\"aaxis\": {\"endlinecolor\": \"#A2B1C6\", \"gridcolor\": \"#506784\", \"linecolor\": \"#506784\", \"minorgridcolor\": \"#506784\", \"startlinecolor\": \"#A2B1C6\"}, \"baxis\": {\"endlinecolor\": \"#A2B1C6\", \"gridcolor\": \"#506784\", \"linecolor\": \"#506784\", \"minorgridcolor\": \"#506784\", \"startlinecolor\": \"#A2B1C6\"}, \"type\": \"carpet\"}], \"choropleth\": [{\"colorbar\": {\"outlinewidth\": 0, \"ticks\": \"\"}, \"type\": \"choropleth\"}], \"contour\": [{\"colorbar\": {\"outlinewidth\": 0, \"ticks\": \"\"}, \"colorscale\": [[0.0, \"#0d0887\"], [0.1111111111111111, \"#46039f\"], [0.2222222222222222, \"#7201a8\"], [0.3333333333333333, \"#9c179e\"], [0.4444444444444444, \"#bd3786\"], [0.5555555555555556, \"#d8576b\"], [0.6666666666666666, \"#ed7953\"], [0.7777777777777778, \"#fb9f3a\"], [0.8888888888888888, \"#fdca26\"], [1.0, \"#f0f921\"]], \"type\": \"contour\"}], \"contourcarpet\": [{\"colorbar\": {\"outlinewidth\": 0, \"ticks\": \"\"}, \"type\": \"contourcarpet\"}], \"heatmap\": [{\"colorbar\": {\"outlinewidth\": 0, \"ticks\": \"\"}, \"colorscale\": [[0.0, \"#0d0887\"], [0.1111111111111111, \"#46039f\"], [0.2222222222222222, \"#7201a8\"], [0.3333333333333333, \"#9c179e\"], [0.4444444444444444, \"#bd3786\"], [0.5555555555555556, \"#d8576b\"], [0.6666666666666666, \"#ed7953\"], [0.7777777777777778, \"#fb9f3a\"], [0.8888888888888888, \"#fdca26\"], [1.0, \"#f0f921\"]], \"type\": \"heatmap\"}], \"heatmapgl\": [{\"colorbar\": {\"outlinewidth\": 0, \"ticks\": \"\"}, \"colorscale\": [[0.0, \"#0d0887\"], [0.1111111111111111, \"#46039f\"], [0.2222222222222222, \"#7201a8\"], [0.3333333333333333, \"#9c179e\"], [0.4444444444444444, \"#bd3786\"], [0.5555555555555556, \"#d8576b\"], [0.6666666666666666, \"#ed7953\"], [0.7777777777777778, \"#fb9f3a\"], [0.8888888888888888, \"#fdca26\"], [1.0, \"#f0f921\"]], \"type\": \"heatmapgl\"}], \"histogram\": [{\"marker\": {\"colorbar\": {\"outlinewidth\": 0, \"ticks\": \"\"}}, \"type\": \"histogram\"}], \"histogram2d\": [{\"colorbar\": {\"outlinewidth\": 0, \"ticks\": \"\"}, \"colorscale\": [[0.0, \"#0d0887\"], [0.1111111111111111, \"#46039f\"], [0.2222222222222222, \"#7201a8\"], [0.3333333333333333, \"#9c179e\"], [0.4444444444444444, \"#bd3786\"], [0.5555555555555556, \"#d8576b\"], [0.6666666666666666, \"#ed7953\"], [0.7777777777777778, \"#fb9f3a\"], [0.8888888888888888, \"#fdca26\"], [1.0, \"#f0f921\"]], \"type\": \"histogram2d\"}], \"histogram2dcontour\": [{\"colorbar\": {\"outlinewidth\": 0, \"ticks\": \"\"}, \"colorscale\": [[0.0, \"#0d0887\"], [0.1111111111111111, \"#46039f\"], [0.2222222222222222, \"#7201a8\"], [0.3333333333333333, \"#9c179e\"], [0.4444444444444444, \"#bd3786\"], [0.5555555555555556, \"#d8576b\"], [0.6666666666666666, \"#ed7953\"], [0.7777777777777778, \"#fb9f3a\"], [0.8888888888888888, \"#fdca26\"], [1.0, \"#f0f921\"]], \"type\": \"histogram2dcontour\"}], \"mesh3d\": [{\"colorbar\": {\"outlinewidth\": 0, \"ticks\": \"\"}, \"type\": \"mesh3d\"}], \"parcoords\": [{\"line\": {\"colorbar\": {\"outlinewidth\": 0, \"ticks\": \"\"}}, \"type\": \"parcoords\"}], \"pie\": [{\"automargin\": true, \"type\": \"pie\"}], \"scatter\": [{\"marker\": {\"line\": {\"color\": \"#283442\"}}, \"type\": \"scatter\"}], \"scatter3d\": [{\"line\": {\"colorbar\": {\"outlinewidth\": 0, \"ticks\": \"\"}}, \"marker\": {\"colorbar\": {\"outlinewidth\": 0, \"ticks\": \"\"}}, \"type\": \"scatter3d\"}], \"scattercarpet\": [{\"marker\": {\"colorbar\": {\"outlinewidth\": 0, \"ticks\": \"\"}}, \"type\": \"scattercarpet\"}], \"scattergeo\": [{\"marker\": {\"colorbar\": {\"outlinewidth\": 0, \"ticks\": \"\"}}, \"type\": \"scattergeo\"}], \"scattergl\": [{\"marker\": {\"line\": {\"color\": \"#283442\"}}, \"type\": \"scattergl\"}], \"scattermapbox\": [{\"marker\": {\"colorbar\": {\"outlinewidth\": 0, \"ticks\": \"\"}}, \"type\": \"scattermapbox\"}], \"scatterpolar\": [{\"marker\": {\"colorbar\": {\"outlinewidth\": 0, \"ticks\": \"\"}}, \"type\": \"scatterpolar\"}], \"scatterpolargl\": [{\"marker\": {\"colorbar\": {\"outlinewidth\": 0, \"ticks\": \"\"}}, \"type\": \"scatterpolargl\"}], \"scatterternary\": [{\"marker\": {\"colorbar\": {\"outlinewidth\": 0, \"ticks\": \"\"}}, \"type\": \"scatterternary\"}], \"surface\": [{\"colorbar\": {\"outlinewidth\": 0, \"ticks\": \"\"}, \"colorscale\": [[0.0, \"#0d0887\"], [0.1111111111111111, \"#46039f\"], [0.2222222222222222, \"#7201a8\"], [0.3333333333333333, \"#9c179e\"], [0.4444444444444444, \"#bd3786\"], [0.5555555555555556, \"#d8576b\"], [0.6666666666666666, \"#ed7953\"], [0.7777777777777778, \"#fb9f3a\"], [0.8888888888888888, \"#fdca26\"], [1.0, \"#f0f921\"]], \"type\": \"surface\"}], \"table\": [{\"cells\": {\"fill\": {\"color\": \"#506784\"}, \"line\": {\"color\": \"rgb(17,17,17)\"}}, \"header\": {\"fill\": {\"color\": \"#2a3f5f\"}, \"line\": {\"color\": \"rgb(17,17,17)\"}}, \"type\": \"table\"}]}, \"layout\": {\"annotationdefaults\": {\"arrowcolor\": \"#f2f5fa\", \"arrowhead\": 0, \"arrowwidth\": 1}, \"coloraxis\": {\"colorbar\": {\"outlinewidth\": 0, \"ticks\": \"\"}}, \"colorscale\": {\"diverging\": [[0, \"#8e0152\"], [0.1, \"#c51b7d\"], [0.2, \"#de77ae\"], [0.3, \"#f1b6da\"], [0.4, \"#fde0ef\"], [0.5, \"#f7f7f7\"], [0.6, \"#e6f5d0\"], [0.7, \"#b8e186\"], [0.8, \"#7fbc41\"], [0.9, \"#4d9221\"], [1, \"#276419\"]], \"sequential\": [[0.0, \"#0d0887\"], [0.1111111111111111, \"#46039f\"], [0.2222222222222222, \"#7201a8\"], [0.3333333333333333, \"#9c179e\"], [0.4444444444444444, \"#bd3786\"], [0.5555555555555556, \"#d8576b\"], [0.6666666666666666, \"#ed7953\"], [0.7777777777777778, \"#fb9f3a\"], [0.8888888888888888, \"#fdca26\"], [1.0, \"#f0f921\"]], \"sequentialminus\": [[0.0, \"#0d0887\"], [0.1111111111111111, \"#46039f\"], [0.2222222222222222, \"#7201a8\"], [0.3333333333333333, \"#9c179e\"], [0.4444444444444444, \"#bd3786\"], [0.5555555555555556, \"#d8576b\"], [0.6666666666666666, \"#ed7953\"], [0.7777777777777778, \"#fb9f3a\"], [0.8888888888888888, \"#fdca26\"], [1.0, \"#f0f921\"]]}, \"colorway\": [\"#636efa\", \"#EF553B\", \"#00cc96\", \"#ab63fa\", \"#FFA15A\", \"#19d3f3\", \"#FF6692\", \"#B6E880\", \"#FF97FF\", \"#FECB52\"], \"font\": {\"color\": \"#f2f5fa\"}, \"geo\": {\"bgcolor\": \"rgb(17,17,17)\", \"lakecolor\": \"rgb(17,17,17)\", \"landcolor\": \"rgb(17,17,17)\", \"showlakes\": true, \"showland\": true, \"subunitcolor\": \"#506784\"}, \"hoverlabel\": {\"align\": \"left\"}, \"hovermode\": \"closest\", \"mapbox\": {\"style\": \"dark\"}, \"paper_bgcolor\": \"rgb(17,17,17)\", \"plot_bgcolor\": \"rgb(17,17,17)\", \"polar\": {\"angularaxis\": {\"gridcolor\": \"#506784\", \"linecolor\": \"#506784\", \"ticks\": \"\"}, \"bgcolor\": \"rgb(17,17,17)\", \"radialaxis\": {\"gridcolor\": \"#506784\", \"linecolor\": \"#506784\", \"ticks\": \"\"}}, \"scene\": {\"xaxis\": {\"backgroundcolor\": \"rgb(17,17,17)\", \"gridcolor\": \"#506784\", \"gridwidth\": 2, \"linecolor\": \"#506784\", \"showbackground\": true, \"ticks\": \"\", \"zerolinecolor\": \"#C8D4E3\"}, \"yaxis\": {\"backgroundcolor\": \"rgb(17,17,17)\", \"gridcolor\": \"#506784\", \"gridwidth\": 2, \"linecolor\": \"#506784\", \"showbackground\": true, \"ticks\": \"\", \"zerolinecolor\": \"#C8D4E3\"}, \"zaxis\": {\"backgroundcolor\": \"rgb(17,17,17)\", \"gridcolor\": \"#506784\", \"gridwidth\": 2, \"linecolor\": \"#506784\", \"showbackground\": true, \"ticks\": \"\", \"zerolinecolor\": \"#C8D4E3\"}}, \"shapedefaults\": {\"line\": {\"color\": \"#f2f5fa\"}}, \"sliderdefaults\": {\"bgcolor\": \"#C8D4E3\", \"bordercolor\": \"rgb(17,17,17)\", \"borderwidth\": 1, \"tickwidth\": 0}, \"ternary\": {\"aaxis\": {\"gridcolor\": \"#506784\", \"linecolor\": \"#506784\", \"ticks\": \"\"}, \"baxis\": {\"gridcolor\": \"#506784\", \"linecolor\": \"#506784\", \"ticks\": \"\"}, \"bgcolor\": \"rgb(17,17,17)\", \"caxis\": {\"gridcolor\": \"#506784\", \"linecolor\": \"#506784\", \"ticks\": \"\"}}, \"title\": {\"x\": 0.05}, \"updatemenudefaults\": {\"bgcolor\": \"#506784\", \"borderwidth\": 0}, \"xaxis\": {\"automargin\": true, \"gridcolor\": \"#283442\", \"linecolor\": \"#506784\", \"ticks\": \"\", \"title\": {\"standoff\": 15}, \"zerolinecolor\": \"#283442\", \"zerolinewidth\": 2}, \"yaxis\": {\"automargin\": true, \"gridcolor\": \"#283442\", \"linecolor\": \"#506784\", \"ticks\": \"\", \"title\": {\"standoff\": 15}, \"zerolinecolor\": \"#283442\", \"zerolinewidth\": 2}}}, \"title\": {\"font\": {\"color\": \"#D9D9D9\"}}, \"xaxis\": {\"gridcolor\": \"#434343\", \"showgrid\": true, \"tickfont\": {\"color\": \"#C2C2C2\"}, \"title\": {\"font\": {\"color\": \"#D9D9D9\"}, \"text\": \"\"}, \"zerolinecolor\": \"#666570\"}, \"yaxis\": {\"gridcolor\": \"#434343\", \"showgrid\": true, \"tickfont\": {\"color\": \"#C2C2C2\"}, \"title\": {\"font\": {\"color\": \"#D9D9D9\"}, \"text\": \"\"}, \"zerolinecolor\": \"#666570\"}},                        {\"showLink\": true, \"linkText\": \"Export to plot.ly\", \"plotlyServerURL\": \"https://plot.ly\", \"responsive\": true}                    ).then(function(){\n",
       "                            \n",
       "var gd = document.getElementById('de253d04-a190-4521-ae53-41f75aa596d8');\n",
       "var x = new MutationObserver(function (mutations, observer) {{\n",
       "        var display = window.getComputedStyle(gd).display;\n",
       "        if (!display || display === 'none') {{\n",
       "            console.log([gd, 'removed!']);\n",
       "            Plotly.purge(gd);\n",
       "            observer.disconnect();\n",
       "        }}\n",
       "}});\n",
       "\n",
       "// Listen for the removal of the full notebook cells\n",
       "var notebookContainer = gd.closest('#notebook-container');\n",
       "if (notebookContainer) {{\n",
       "    x.observe(notebookContainer, {childList: true});\n",
       "}}\n",
       "\n",
       "// Listen for the clearing of the current output cell\n",
       "var outputEl = gd.closest('.output');\n",
       "if (outputEl) {{\n",
       "    x.observe(outputEl, {childList: true});\n",
       "}}\n",
       "\n",
       "                        })                };                });            </script>        </div>"
      ]
     },
     "metadata": {},
     "output_type": "display_data"
    }
   ],
   "source": [
    "iplot_cols(df_us,'icu')"
   ]
  },
  {
   "cell_type": "code",
   "execution_count": 52,
   "metadata": {
    "ExecuteTime": {
     "end_time": "2020-11-19T23:14:01.840668Z",
     "start_time": "2020-11-19T23:14:01.686397Z"
    }
   },
   "outputs": [
    {
     "data": {
      "application/vnd.plotly.v1+json": {
       "config": {
        "linkText": "Export to plot.ly",
        "plotlyServerURL": "https://plot.ly",
        "showLink": true
       },
       "data": [
        {
         "line": {
          "color": "rgba(255, 153, 51, 1.0)",
          "dash": "solid",
          "shape": "linear",
          "width": 1.3
         },
         "mode": "lines",
         "name": "onVentilatorCurrently",
         "text": "",
         "type": "scatter",
         "x": [
          "2020-11-18",
          "2020-11-17",
          "2020-11-16",
          "2020-11-15",
          "2020-11-14",
          "2020-11-13",
          "2020-11-12",
          "2020-11-11",
          "2020-11-10",
          "2020-11-09",
          "2020-11-08",
          "2020-11-07",
          "2020-11-06",
          "2020-11-05",
          "2020-11-04",
          "2020-11-03",
          "2020-11-02",
          "2020-11-01",
          "2020-10-31",
          "2020-10-30",
          "2020-10-29",
          "2020-10-28",
          "2020-10-27",
          "2020-10-26",
          "2020-10-25",
          "2020-10-24",
          "2020-10-23",
          "2020-10-22",
          "2020-10-21",
          "2020-10-20",
          "2020-10-19",
          "2020-10-18",
          "2020-10-17",
          "2020-10-16",
          "2020-10-15",
          "2020-10-14",
          "2020-10-13",
          "2020-10-12",
          "2020-10-11",
          "2020-10-10",
          "2020-10-09",
          "2020-10-08",
          "2020-10-07",
          "2020-10-06",
          "2020-10-05",
          "2020-10-04",
          "2020-10-03",
          "2020-10-02",
          "2020-10-01",
          "2020-09-30",
          "2020-09-29",
          "2020-09-28",
          "2020-09-27",
          "2020-09-26",
          "2020-09-25",
          "2020-09-24",
          "2020-09-23",
          "2020-09-22",
          "2020-09-21",
          "2020-09-20",
          "2020-09-19",
          "2020-09-18",
          "2020-09-17",
          "2020-09-16",
          "2020-09-15",
          "2020-09-14",
          "2020-09-13",
          "2020-09-12",
          "2020-09-11",
          "2020-09-10",
          "2020-09-09",
          "2020-09-08",
          "2020-09-07",
          "2020-09-06",
          "2020-09-05",
          "2020-09-04",
          "2020-09-03",
          "2020-09-02",
          "2020-09-01",
          "2020-08-31",
          "2020-08-30",
          "2020-08-29",
          "2020-08-28",
          "2020-08-27",
          "2020-08-26",
          "2020-08-25",
          "2020-08-24",
          "2020-08-23",
          "2020-08-22",
          "2020-08-21",
          "2020-08-20",
          "2020-08-19",
          "2020-08-18",
          "2020-08-17",
          "2020-08-16",
          "2020-08-15",
          "2020-08-14",
          "2020-08-13",
          "2020-08-12",
          "2020-08-11",
          "2020-08-10",
          "2020-08-09",
          "2020-08-08",
          "2020-08-07",
          "2020-08-06",
          "2020-08-05",
          "2020-08-04",
          "2020-08-03",
          "2020-08-02",
          "2020-08-01",
          "2020-07-31",
          "2020-07-30",
          "2020-07-29",
          "2020-07-28",
          "2020-07-27",
          "2020-07-26",
          "2020-07-25",
          "2020-07-24",
          "2020-07-23",
          "2020-07-22",
          "2020-07-21",
          "2020-07-20",
          "2020-07-19",
          "2020-07-18",
          "2020-07-17",
          "2020-07-16",
          "2020-07-15",
          "2020-07-14",
          "2020-07-13",
          "2020-07-12",
          "2020-07-11",
          "2020-07-10",
          "2020-07-09",
          "2020-07-08",
          "2020-07-07",
          "2020-07-06",
          "2020-07-05",
          "2020-07-04",
          "2020-07-03",
          "2020-07-02",
          "2020-07-01",
          "2020-06-30",
          "2020-06-29",
          "2020-06-28",
          "2020-06-27",
          "2020-06-26",
          "2020-06-25",
          "2020-06-24",
          "2020-06-23",
          "2020-06-22",
          "2020-06-21",
          "2020-06-20",
          "2020-06-19",
          "2020-06-18",
          "2020-06-17",
          "2020-06-16",
          "2020-06-15",
          "2020-06-14",
          "2020-06-13",
          "2020-06-12",
          "2020-06-11",
          "2020-06-10",
          "2020-06-09",
          "2020-06-08",
          "2020-06-07",
          "2020-06-06",
          "2020-06-05",
          "2020-06-04",
          "2020-06-03",
          "2020-06-02",
          "2020-06-01",
          "2020-05-31",
          "2020-05-30",
          "2020-05-29",
          "2020-05-28",
          "2020-05-27",
          "2020-05-26",
          "2020-05-25",
          "2020-05-24",
          "2020-05-23",
          "2020-05-22",
          "2020-05-21",
          "2020-05-20",
          "2020-05-19",
          "2020-05-18",
          "2020-05-17",
          "2020-05-16",
          "2020-05-15",
          "2020-05-14",
          "2020-05-13",
          "2020-05-12",
          "2020-05-11",
          "2020-05-10",
          "2020-05-09",
          "2020-05-08",
          "2020-05-07",
          "2020-05-06",
          "2020-05-05",
          "2020-05-04",
          "2020-05-03",
          "2020-05-02",
          "2020-05-01",
          "2020-04-30",
          "2020-04-29",
          "2020-04-28",
          "2020-04-27",
          "2020-04-26",
          "2020-04-25",
          "2020-04-24",
          "2020-04-23",
          "2020-04-22",
          "2020-04-21",
          "2020-04-20",
          "2020-04-19",
          "2020-04-18",
          "2020-04-17",
          "2020-04-16",
          "2020-04-15",
          "2020-04-14",
          "2020-04-13",
          "2020-04-12",
          "2020-04-11",
          "2020-04-10",
          "2020-04-09",
          "2020-04-08",
          "2020-04-07",
          "2020-04-06",
          "2020-04-05",
          "2020-04-04",
          "2020-04-03",
          "2020-04-02",
          "2020-04-01",
          "2020-03-31",
          "2020-03-30",
          "2020-03-29",
          "2020-03-28",
          "2020-03-27",
          "2020-03-26",
          "2020-03-25",
          "2020-03-24",
          "2020-03-23",
          "2020-03-22",
          "2020-03-21",
          "2020-03-20",
          "2020-03-19",
          "2020-03-18",
          "2020-03-17",
          "2020-03-16",
          "2020-03-15",
          "2020-03-14",
          "2020-03-13",
          "2020-03-12",
          "2020-03-11",
          "2020-03-10",
          "2020-03-09",
          "2020-03-08",
          "2020-03-07",
          "2020-03-06",
          "2020-03-05",
          "2020-03-04",
          "2020-03-03",
          "2020-03-02",
          "2020-03-01",
          "2020-02-29",
          "2020-02-28",
          "2020-02-27",
          "2020-02-26",
          "2020-02-25",
          "2020-02-24",
          "2020-02-23",
          "2020-02-22",
          "2020-02-21",
          "2020-02-20",
          "2020-02-19",
          "2020-02-18",
          "2020-02-17",
          "2020-02-16",
          "2020-02-15",
          "2020-02-14",
          "2020-02-13",
          "2020-02-12",
          "2020-02-11",
          "2020-02-10",
          "2020-02-09",
          "2020-02-08",
          "2020-02-07",
          "2020-02-06",
          "2020-02-05",
          "2020-02-04",
          "2020-02-03",
          "2020-02-02",
          "2020-02-01",
          "2020-01-31",
          "2020-01-30",
          "2020-01-29",
          "2020-01-28",
          "2020-01-27",
          "2020-01-26",
          "2020-01-25",
          "2020-01-24",
          "2020-01-23",
          "2020-01-22"
         ],
         "y": [
          4701,
          4379,
          4166,
          3939,
          3945,
          3769,
          3622,
          3367,
          3201,
          3110,
          2977,
          2947,
          2850,
          2877,
          2832,
          2733,
          2637,
          2553,
          2502,
          2477,
          2403,
          2347,
          2287,
          2301,
          2176,
          2230,
          2180,
          2147,
          2090,
          2045,
          1800,
          1762,
          1791,
          1739,
          1769,
          1776,
          1755,
          1666,
          1646,
          1667,
          1655,
          1638,
          1646,
          1609,
          1515,
          1485,
          1501,
          1533,
          1547,
          1507,
          1495,
          1518,
          1511,
          1509,
          1506,
          1560,
          1544,
          1562,
          1572,
          1595,
          1577,
          1608,
          1658,
          1651,
          1572,
          1507,
          1562,
          1619,
          1715,
          1925,
          1903,
          1879,
          1879,
          1912,
          1956,
          1995,
          2042,
          2024,
          2042,
          2077,
          2055,
          2062,
          2086,
          2125,
          2142,
          2163,
          2118,
          2131,
          2204,
          2286,
          2335,
          2371,
          2468,
          2447,
          2481,
          2526,
          2549,
          2579,
          2604,
          2415,
          2533,
          2507,
          2566,
          2617,
          2718,
          2719,
          2701,
          2659,
          2645,
          2698,
          2703,
          2760,
          2772,
          2752,
          2720,
          2723,
          2729,
          2711,
          2465,
          2440,
          2414,
          2403,
          2362,
          2343,
          2353,
          2317,
          2317,
          2263,
          2259,
          2182,
          2169,
          2197,
          2127,
          2172,
          2098,
          2105,
          2080,
          1982,
          2049,
          2105,
          2098,
          2044,
          2011,
          2077,
          2159,
          2075,
          2214,
          2248,
          2293,
          2299,
          2321,
          2380,
          2434,
          2520,
          2588,
          2594,
          2640,
          2716,
          2726,
          2734,
          2886,
          3020,
          3090,
          3240,
          3298,
          3476,
          3523,
          3665,
          3749,
          3852,
          3950,
          3669,
          4004,
          4032,
          4080,
          4222,
          4215,
          4237,
          4383,
          4620,
          4716,
          4868,
          4911,
          5032,
          5257,
          5467,
          5529,
          5746,
          5940,
          6156,
          6352,
          6350,
          6395,
          6551,
          6788,
          7070,
          4753,
          4818,
          4848,
          4761,
          4845,
          4707,
          4712,
          4796,
          4760,
          4867,
          5121,
          5266,
          5187,
          5464,
          5474,
          5514,
          5567,
          5603,
          5729,
          6096,
          5940,
          6032,
          5975,
          6168,
          5968,
          5978,
          5937,
          5794,
          4131,
          4076,
          2961,
          652,
          656,
          623,
          574,
          561,
          507,
          451,
          439,
          390,
          324,
          258,
          167,
          "",
          "",
          "",
          "",
          "",
          "",
          "",
          "",
          "",
          "",
          "",
          "",
          "",
          "",
          "",
          "",
          "",
          "",
          "",
          "",
          "",
          "",
          "",
          "",
          "",
          "",
          "",
          "",
          "",
          "",
          "",
          "",
          "",
          "",
          "",
          "",
          "",
          "",
          "",
          "",
          "",
          "",
          "",
          "",
          "",
          "",
          "",
          "",
          "",
          "",
          "",
          "",
          "",
          "",
          "",
          "",
          "",
          "",
          "",
          "",
          "",
          "",
          ""
         ]
        },
        {
         "line": {
          "color": "rgba(55, 128, 191, 1.0)",
          "dash": "solid",
          "shape": "linear",
          "width": 1.3
         },
         "mode": "lines",
         "name": "onVentilatorCumulative",
         "text": "",
         "type": "scatter",
         "x": [
          "2020-11-18",
          "2020-11-17",
          "2020-11-16",
          "2020-11-15",
          "2020-11-14",
          "2020-11-13",
          "2020-11-12",
          "2020-11-11",
          "2020-11-10",
          "2020-11-09",
          "2020-11-08",
          "2020-11-07",
          "2020-11-06",
          "2020-11-05",
          "2020-11-04",
          "2020-11-03",
          "2020-11-02",
          "2020-11-01",
          "2020-10-31",
          "2020-10-30",
          "2020-10-29",
          "2020-10-28",
          "2020-10-27",
          "2020-10-26",
          "2020-10-25",
          "2020-10-24",
          "2020-10-23",
          "2020-10-22",
          "2020-10-21",
          "2020-10-20",
          "2020-10-19",
          "2020-10-18",
          "2020-10-17",
          "2020-10-16",
          "2020-10-15",
          "2020-10-14",
          "2020-10-13",
          "2020-10-12",
          "2020-10-11",
          "2020-10-10",
          "2020-10-09",
          "2020-10-08",
          "2020-10-07",
          "2020-10-06",
          "2020-10-05",
          "2020-10-04",
          "2020-10-03",
          "2020-10-02",
          "2020-10-01",
          "2020-09-30",
          "2020-09-29",
          "2020-09-28",
          "2020-09-27",
          "2020-09-26",
          "2020-09-25",
          "2020-09-24",
          "2020-09-23",
          "2020-09-22",
          "2020-09-21",
          "2020-09-20",
          "2020-09-19",
          "2020-09-18",
          "2020-09-17",
          "2020-09-16",
          "2020-09-15",
          "2020-09-14",
          "2020-09-13",
          "2020-09-12",
          "2020-09-11",
          "2020-09-10",
          "2020-09-09",
          "2020-09-08",
          "2020-09-07",
          "2020-09-06",
          "2020-09-05",
          "2020-09-04",
          "2020-09-03",
          "2020-09-02",
          "2020-09-01",
          "2020-08-31",
          "2020-08-30",
          "2020-08-29",
          "2020-08-28",
          "2020-08-27",
          "2020-08-26",
          "2020-08-25",
          "2020-08-24",
          "2020-08-23",
          "2020-08-22",
          "2020-08-21",
          "2020-08-20",
          "2020-08-19",
          "2020-08-18",
          "2020-08-17",
          "2020-08-16",
          "2020-08-15",
          "2020-08-14",
          "2020-08-13",
          "2020-08-12",
          "2020-08-11",
          "2020-08-10",
          "2020-08-09",
          "2020-08-08",
          "2020-08-07",
          "2020-08-06",
          "2020-08-05",
          "2020-08-04",
          "2020-08-03",
          "2020-08-02",
          "2020-08-01",
          "2020-07-31",
          "2020-07-30",
          "2020-07-29",
          "2020-07-28",
          "2020-07-27",
          "2020-07-26",
          "2020-07-25",
          "2020-07-24",
          "2020-07-23",
          "2020-07-22",
          "2020-07-21",
          "2020-07-20",
          "2020-07-19",
          "2020-07-18",
          "2020-07-17",
          "2020-07-16",
          "2020-07-15",
          "2020-07-14",
          "2020-07-13",
          "2020-07-12",
          "2020-07-11",
          "2020-07-10",
          "2020-07-09",
          "2020-07-08",
          "2020-07-07",
          "2020-07-06",
          "2020-07-05",
          "2020-07-04",
          "2020-07-03",
          "2020-07-02",
          "2020-07-01",
          "2020-06-30",
          "2020-06-29",
          "2020-06-28",
          "2020-06-27",
          "2020-06-26",
          "2020-06-25",
          "2020-06-24",
          "2020-06-23",
          "2020-06-22",
          "2020-06-21",
          "2020-06-20",
          "2020-06-19",
          "2020-06-18",
          "2020-06-17",
          "2020-06-16",
          "2020-06-15",
          "2020-06-14",
          "2020-06-13",
          "2020-06-12",
          "2020-06-11",
          "2020-06-10",
          "2020-06-09",
          "2020-06-08",
          "2020-06-07",
          "2020-06-06",
          "2020-06-05",
          "2020-06-04",
          "2020-06-03",
          "2020-06-02",
          "2020-06-01",
          "2020-05-31",
          "2020-05-30",
          "2020-05-29",
          "2020-05-28",
          "2020-05-27",
          "2020-05-26",
          "2020-05-25",
          "2020-05-24",
          "2020-05-23",
          "2020-05-22",
          "2020-05-21",
          "2020-05-20",
          "2020-05-19",
          "2020-05-18",
          "2020-05-17",
          "2020-05-16",
          "2020-05-15",
          "2020-05-14",
          "2020-05-13",
          "2020-05-12",
          "2020-05-11",
          "2020-05-10",
          "2020-05-09",
          "2020-05-08",
          "2020-05-07",
          "2020-05-06",
          "2020-05-05",
          "2020-05-04",
          "2020-05-03",
          "2020-05-02",
          "2020-05-01",
          "2020-04-30",
          "2020-04-29",
          "2020-04-28",
          "2020-04-27",
          "2020-04-26",
          "2020-04-25",
          "2020-04-24",
          "2020-04-23",
          "2020-04-22",
          "2020-04-21",
          "2020-04-20",
          "2020-04-19",
          "2020-04-18",
          "2020-04-17",
          "2020-04-16",
          "2020-04-15",
          "2020-04-14",
          "2020-04-13",
          "2020-04-12",
          "2020-04-11",
          "2020-04-10",
          "2020-04-09",
          "2020-04-08",
          "2020-04-07",
          "2020-04-06",
          "2020-04-05",
          "2020-04-04",
          "2020-04-03",
          "2020-04-02",
          "2020-04-01",
          "2020-03-31",
          "2020-03-30",
          "2020-03-29",
          "2020-03-28",
          "2020-03-27",
          "2020-03-26",
          "2020-03-25",
          "2020-03-24",
          "2020-03-23",
          "2020-03-22",
          "2020-03-21",
          "2020-03-20",
          "2020-03-19",
          "2020-03-18",
          "2020-03-17",
          "2020-03-16",
          "2020-03-15",
          "2020-03-14",
          "2020-03-13",
          "2020-03-12",
          "2020-03-11",
          "2020-03-10",
          "2020-03-09",
          "2020-03-08",
          "2020-03-07",
          "2020-03-06",
          "2020-03-05",
          "2020-03-04",
          "2020-03-03",
          "2020-03-02",
          "2020-03-01",
          "2020-02-29",
          "2020-02-28",
          "2020-02-27",
          "2020-02-26",
          "2020-02-25",
          "2020-02-24",
          "2020-02-23",
          "2020-02-22",
          "2020-02-21",
          "2020-02-20",
          "2020-02-19",
          "2020-02-18",
          "2020-02-17",
          "2020-02-16",
          "2020-02-15",
          "2020-02-14",
          "2020-02-13",
          "2020-02-12",
          "2020-02-11",
          "2020-02-10",
          "2020-02-09",
          "2020-02-08",
          "2020-02-07",
          "2020-02-06",
          "2020-02-05",
          "2020-02-04",
          "2020-02-03",
          "2020-02-02",
          "2020-02-01",
          "2020-01-31",
          "2020-01-30",
          "2020-01-29",
          "2020-01-28",
          "2020-01-27",
          "2020-01-26",
          "2020-01-25",
          "2020-01-24",
          "2020-01-23",
          "2020-01-22"
         ],
         "y": [
          3024,
          3004,
          2988,
          2975,
          2972,
          2967,
          2954,
          2947,
          2922,
          2907,
          2900,
          2898,
          2885,
          2872,
          2853,
          2833,
          2809,
          2797,
          2786,
          2776,
          2760,
          2744,
          2719,
          2703,
          2693,
          2691,
          2679,
          2641,
          2622,
          2593,
          2577,
          2557,
          2553,
          2547,
          2531,
          2516,
          2485,
          2464,
          2454,
          2451,
          2437,
          2427,
          2410,
          2388,
          2370,
          2362,
          2358,
          2348,
          2334,
          2319,
          2298,
          2285,
          2277,
          2272,
          2264,
          2177,
          2154,
          2130,
          2116,
          2112,
          2111,
          2107,
          2092,
          2090,
          2071,
          2061,
          2056,
          2051,
          2031,
          2008,
          1994,
          1975,
          1967,
          1960,
          1956,
          1943,
          1928,
          1918,
          1902,
          1877,
          1870,
          1864,
          1856,
          1831,
          1809,
          1789,
          1764,
          1737,
          1736,
          1730,
          1716,
          1705,
          1695,
          1678,
          1665,
          1663,
          1665,
          1649,
          1629,
          1612,
          1592,
          1578,
          1561,
          1549,
          1534,
          1524,
          1493,
          1463,
          1448,
          1445,
          1437,
          1415,
          1400,
          1372,
          1356,
          1336,
          1300,
          1297,
          1280,
          1258,
          1242,
          1223,
          1216,
          1211,
          1200,
          1175,
          1166,
          1154,
          1142,
          1136,
          1128,
          1118,
          1138,
          1103,
          1084,
          1070,
          1064,
          1063,
          1059,
          1041,
          1027,
          1008,
          990,
          983,
          977,
          966,
          951,
          934,
          918,
          909,
          904,
          888,
          884,
          869,
          857,
          845,
          835,
          834,
          830,
          814,
          792,
          780,
          771,
          762,
          753,
          750,
          740,
          723,
          717,
          710,
          704,
          704,
          698,
          689,
          676,
          666,
          650,
          642,
          639,
          638,
          633,
          616,
          613,
          606,
          602,
          593,
          592,
          589,
          582,
          572,
          559,
          551,
          547,
          543,
          531,
          529,
          449,
          439,
          430,
          425,
          375,
          376,
          373,
          365,
          252,
          252,
          227,
          227,
          227,
          227,
          227,
          214,
          214,
          214,
          205,
          187,
          176,
          223,
          221,
          208,
          158,
          152,
          39,
          39,
          39,
          43,
          39,
          39,
          39,
          39,
          32,
          32,
          "",
          "",
          "",
          "",
          "",
          "",
          "",
          "",
          "",
          "",
          "",
          "",
          "",
          "",
          "",
          "",
          "",
          "",
          "",
          "",
          "",
          "",
          "",
          "",
          "",
          "",
          "",
          "",
          "",
          "",
          "",
          "",
          "",
          "",
          "",
          "",
          "",
          "",
          "",
          "",
          "",
          "",
          "",
          "",
          "",
          "",
          "",
          "",
          "",
          "",
          "",
          "",
          "",
          "",
          "",
          "",
          "",
          "",
          "",
          "",
          "",
          "",
          "",
          "",
          "",
          "",
          "",
          "",
          "",
          ""
         ]
        }
       ],
       "layout": {
        "legend": {
         "bgcolor": "#151516",
         "font": {
          "color": "#D9D9D9"
         }
        },
        "paper_bgcolor": "#151516",
        "plot_bgcolor": "#151516",
        "template": {
         "data": {
          "bar": [
           {
            "error_x": {
             "color": "#f2f5fa"
            },
            "error_y": {
             "color": "#f2f5fa"
            },
            "marker": {
             "line": {
              "color": "rgb(17,17,17)",
              "width": 0.5
             }
            },
            "type": "bar"
           }
          ],
          "barpolar": [
           {
            "marker": {
             "line": {
              "color": "rgb(17,17,17)",
              "width": 0.5
             }
            },
            "type": "barpolar"
           }
          ],
          "carpet": [
           {
            "aaxis": {
             "endlinecolor": "#A2B1C6",
             "gridcolor": "#506784",
             "linecolor": "#506784",
             "minorgridcolor": "#506784",
             "startlinecolor": "#A2B1C6"
            },
            "baxis": {
             "endlinecolor": "#A2B1C6",
             "gridcolor": "#506784",
             "linecolor": "#506784",
             "minorgridcolor": "#506784",
             "startlinecolor": "#A2B1C6"
            },
            "type": "carpet"
           }
          ],
          "choropleth": [
           {
            "colorbar": {
             "outlinewidth": 0,
             "ticks": ""
            },
            "type": "choropleth"
           }
          ],
          "contour": [
           {
            "colorbar": {
             "outlinewidth": 0,
             "ticks": ""
            },
            "colorscale": [
             [
              0,
              "#0d0887"
             ],
             [
              0.1111111111111111,
              "#46039f"
             ],
             [
              0.2222222222222222,
              "#7201a8"
             ],
             [
              0.3333333333333333,
              "#9c179e"
             ],
             [
              0.4444444444444444,
              "#bd3786"
             ],
             [
              0.5555555555555556,
              "#d8576b"
             ],
             [
              0.6666666666666666,
              "#ed7953"
             ],
             [
              0.7777777777777778,
              "#fb9f3a"
             ],
             [
              0.8888888888888888,
              "#fdca26"
             ],
             [
              1,
              "#f0f921"
             ]
            ],
            "type": "contour"
           }
          ],
          "contourcarpet": [
           {
            "colorbar": {
             "outlinewidth": 0,
             "ticks": ""
            },
            "type": "contourcarpet"
           }
          ],
          "heatmap": [
           {
            "colorbar": {
             "outlinewidth": 0,
             "ticks": ""
            },
            "colorscale": [
             [
              0,
              "#0d0887"
             ],
             [
              0.1111111111111111,
              "#46039f"
             ],
             [
              0.2222222222222222,
              "#7201a8"
             ],
             [
              0.3333333333333333,
              "#9c179e"
             ],
             [
              0.4444444444444444,
              "#bd3786"
             ],
             [
              0.5555555555555556,
              "#d8576b"
             ],
             [
              0.6666666666666666,
              "#ed7953"
             ],
             [
              0.7777777777777778,
              "#fb9f3a"
             ],
             [
              0.8888888888888888,
              "#fdca26"
             ],
             [
              1,
              "#f0f921"
             ]
            ],
            "type": "heatmap"
           }
          ],
          "heatmapgl": [
           {
            "colorbar": {
             "outlinewidth": 0,
             "ticks": ""
            },
            "colorscale": [
             [
              0,
              "#0d0887"
             ],
             [
              0.1111111111111111,
              "#46039f"
             ],
             [
              0.2222222222222222,
              "#7201a8"
             ],
             [
              0.3333333333333333,
              "#9c179e"
             ],
             [
              0.4444444444444444,
              "#bd3786"
             ],
             [
              0.5555555555555556,
              "#d8576b"
             ],
             [
              0.6666666666666666,
              "#ed7953"
             ],
             [
              0.7777777777777778,
              "#fb9f3a"
             ],
             [
              0.8888888888888888,
              "#fdca26"
             ],
             [
              1,
              "#f0f921"
             ]
            ],
            "type": "heatmapgl"
           }
          ],
          "histogram": [
           {
            "marker": {
             "colorbar": {
              "outlinewidth": 0,
              "ticks": ""
             }
            },
            "type": "histogram"
           }
          ],
          "histogram2d": [
           {
            "colorbar": {
             "outlinewidth": 0,
             "ticks": ""
            },
            "colorscale": [
             [
              0,
              "#0d0887"
             ],
             [
              0.1111111111111111,
              "#46039f"
             ],
             [
              0.2222222222222222,
              "#7201a8"
             ],
             [
              0.3333333333333333,
              "#9c179e"
             ],
             [
              0.4444444444444444,
              "#bd3786"
             ],
             [
              0.5555555555555556,
              "#d8576b"
             ],
             [
              0.6666666666666666,
              "#ed7953"
             ],
             [
              0.7777777777777778,
              "#fb9f3a"
             ],
             [
              0.8888888888888888,
              "#fdca26"
             ],
             [
              1,
              "#f0f921"
             ]
            ],
            "type": "histogram2d"
           }
          ],
          "histogram2dcontour": [
           {
            "colorbar": {
             "outlinewidth": 0,
             "ticks": ""
            },
            "colorscale": [
             [
              0,
              "#0d0887"
             ],
             [
              0.1111111111111111,
              "#46039f"
             ],
             [
              0.2222222222222222,
              "#7201a8"
             ],
             [
              0.3333333333333333,
              "#9c179e"
             ],
             [
              0.4444444444444444,
              "#bd3786"
             ],
             [
              0.5555555555555556,
              "#d8576b"
             ],
             [
              0.6666666666666666,
              "#ed7953"
             ],
             [
              0.7777777777777778,
              "#fb9f3a"
             ],
             [
              0.8888888888888888,
              "#fdca26"
             ],
             [
              1,
              "#f0f921"
             ]
            ],
            "type": "histogram2dcontour"
           }
          ],
          "mesh3d": [
           {
            "colorbar": {
             "outlinewidth": 0,
             "ticks": ""
            },
            "type": "mesh3d"
           }
          ],
          "parcoords": [
           {
            "line": {
             "colorbar": {
              "outlinewidth": 0,
              "ticks": ""
             }
            },
            "type": "parcoords"
           }
          ],
          "pie": [
           {
            "automargin": true,
            "type": "pie"
           }
          ],
          "scatter": [
           {
            "marker": {
             "line": {
              "color": "#283442"
             }
            },
            "type": "scatter"
           }
          ],
          "scatter3d": [
           {
            "line": {
             "colorbar": {
              "outlinewidth": 0,
              "ticks": ""
             }
            },
            "marker": {
             "colorbar": {
              "outlinewidth": 0,
              "ticks": ""
             }
            },
            "type": "scatter3d"
           }
          ],
          "scattercarpet": [
           {
            "marker": {
             "colorbar": {
              "outlinewidth": 0,
              "ticks": ""
             }
            },
            "type": "scattercarpet"
           }
          ],
          "scattergeo": [
           {
            "marker": {
             "colorbar": {
              "outlinewidth": 0,
              "ticks": ""
             }
            },
            "type": "scattergeo"
           }
          ],
          "scattergl": [
           {
            "marker": {
             "line": {
              "color": "#283442"
             }
            },
            "type": "scattergl"
           }
          ],
          "scattermapbox": [
           {
            "marker": {
             "colorbar": {
              "outlinewidth": 0,
              "ticks": ""
             }
            },
            "type": "scattermapbox"
           }
          ],
          "scatterpolar": [
           {
            "marker": {
             "colorbar": {
              "outlinewidth": 0,
              "ticks": ""
             }
            },
            "type": "scatterpolar"
           }
          ],
          "scatterpolargl": [
           {
            "marker": {
             "colorbar": {
              "outlinewidth": 0,
              "ticks": ""
             }
            },
            "type": "scatterpolargl"
           }
          ],
          "scatterternary": [
           {
            "marker": {
             "colorbar": {
              "outlinewidth": 0,
              "ticks": ""
             }
            },
            "type": "scatterternary"
           }
          ],
          "surface": [
           {
            "colorbar": {
             "outlinewidth": 0,
             "ticks": ""
            },
            "colorscale": [
             [
              0,
              "#0d0887"
             ],
             [
              0.1111111111111111,
              "#46039f"
             ],
             [
              0.2222222222222222,
              "#7201a8"
             ],
             [
              0.3333333333333333,
              "#9c179e"
             ],
             [
              0.4444444444444444,
              "#bd3786"
             ],
             [
              0.5555555555555556,
              "#d8576b"
             ],
             [
              0.6666666666666666,
              "#ed7953"
             ],
             [
              0.7777777777777778,
              "#fb9f3a"
             ],
             [
              0.8888888888888888,
              "#fdca26"
             ],
             [
              1,
              "#f0f921"
             ]
            ],
            "type": "surface"
           }
          ],
          "table": [
           {
            "cells": {
             "fill": {
              "color": "#506784"
             },
             "line": {
              "color": "rgb(17,17,17)"
             }
            },
            "header": {
             "fill": {
              "color": "#2a3f5f"
             },
             "line": {
              "color": "rgb(17,17,17)"
             }
            },
            "type": "table"
           }
          ]
         },
         "layout": {
          "annotationdefaults": {
           "arrowcolor": "#f2f5fa",
           "arrowhead": 0,
           "arrowwidth": 1
          },
          "coloraxis": {
           "colorbar": {
            "outlinewidth": 0,
            "ticks": ""
           }
          },
          "colorscale": {
           "diverging": [
            [
             0,
             "#8e0152"
            ],
            [
             0.1,
             "#c51b7d"
            ],
            [
             0.2,
             "#de77ae"
            ],
            [
             0.3,
             "#f1b6da"
            ],
            [
             0.4,
             "#fde0ef"
            ],
            [
             0.5,
             "#f7f7f7"
            ],
            [
             0.6,
             "#e6f5d0"
            ],
            [
             0.7,
             "#b8e186"
            ],
            [
             0.8,
             "#7fbc41"
            ],
            [
             0.9,
             "#4d9221"
            ],
            [
             1,
             "#276419"
            ]
           ],
           "sequential": [
            [
             0,
             "#0d0887"
            ],
            [
             0.1111111111111111,
             "#46039f"
            ],
            [
             0.2222222222222222,
             "#7201a8"
            ],
            [
             0.3333333333333333,
             "#9c179e"
            ],
            [
             0.4444444444444444,
             "#bd3786"
            ],
            [
             0.5555555555555556,
             "#d8576b"
            ],
            [
             0.6666666666666666,
             "#ed7953"
            ],
            [
             0.7777777777777778,
             "#fb9f3a"
            ],
            [
             0.8888888888888888,
             "#fdca26"
            ],
            [
             1,
             "#f0f921"
            ]
           ],
           "sequentialminus": [
            [
             0,
             "#0d0887"
            ],
            [
             0.1111111111111111,
             "#46039f"
            ],
            [
             0.2222222222222222,
             "#7201a8"
            ],
            [
             0.3333333333333333,
             "#9c179e"
            ],
            [
             0.4444444444444444,
             "#bd3786"
            ],
            [
             0.5555555555555556,
             "#d8576b"
            ],
            [
             0.6666666666666666,
             "#ed7953"
            ],
            [
             0.7777777777777778,
             "#fb9f3a"
            ],
            [
             0.8888888888888888,
             "#fdca26"
            ],
            [
             1,
             "#f0f921"
            ]
           ]
          },
          "colorway": [
           "#636efa",
           "#EF553B",
           "#00cc96",
           "#ab63fa",
           "#FFA15A",
           "#19d3f3",
           "#FF6692",
           "#B6E880",
           "#FF97FF",
           "#FECB52"
          ],
          "font": {
           "color": "#f2f5fa"
          },
          "geo": {
           "bgcolor": "rgb(17,17,17)",
           "lakecolor": "rgb(17,17,17)",
           "landcolor": "rgb(17,17,17)",
           "showlakes": true,
           "showland": true,
           "subunitcolor": "#506784"
          },
          "hoverlabel": {
           "align": "left"
          },
          "hovermode": "closest",
          "mapbox": {
           "style": "dark"
          },
          "paper_bgcolor": "rgb(17,17,17)",
          "plot_bgcolor": "rgb(17,17,17)",
          "polar": {
           "angularaxis": {
            "gridcolor": "#506784",
            "linecolor": "#506784",
            "ticks": ""
           },
           "bgcolor": "rgb(17,17,17)",
           "radialaxis": {
            "gridcolor": "#506784",
            "linecolor": "#506784",
            "ticks": ""
           }
          },
          "scene": {
           "xaxis": {
            "backgroundcolor": "rgb(17,17,17)",
            "gridcolor": "#506784",
            "gridwidth": 2,
            "linecolor": "#506784",
            "showbackground": true,
            "ticks": "",
            "zerolinecolor": "#C8D4E3"
           },
           "yaxis": {
            "backgroundcolor": "rgb(17,17,17)",
            "gridcolor": "#506784",
            "gridwidth": 2,
            "linecolor": "#506784",
            "showbackground": true,
            "ticks": "",
            "zerolinecolor": "#C8D4E3"
           },
           "zaxis": {
            "backgroundcolor": "rgb(17,17,17)",
            "gridcolor": "#506784",
            "gridwidth": 2,
            "linecolor": "#506784",
            "showbackground": true,
            "ticks": "",
            "zerolinecolor": "#C8D4E3"
           }
          },
          "shapedefaults": {
           "line": {
            "color": "#f2f5fa"
           }
          },
          "sliderdefaults": {
           "bgcolor": "#C8D4E3",
           "bordercolor": "rgb(17,17,17)",
           "borderwidth": 1,
           "tickwidth": 0
          },
          "ternary": {
           "aaxis": {
            "gridcolor": "#506784",
            "linecolor": "#506784",
            "ticks": ""
           },
           "baxis": {
            "gridcolor": "#506784",
            "linecolor": "#506784",
            "ticks": ""
           },
           "bgcolor": "rgb(17,17,17)",
           "caxis": {
            "gridcolor": "#506784",
            "linecolor": "#506784",
            "ticks": ""
           }
          },
          "title": {
           "x": 0.05
          },
          "updatemenudefaults": {
           "bgcolor": "#506784",
           "borderwidth": 0
          },
          "xaxis": {
           "automargin": true,
           "gridcolor": "#283442",
           "linecolor": "#506784",
           "ticks": "",
           "title": {
            "standoff": 15
           },
           "zerolinecolor": "#283442",
           "zerolinewidth": 2
          },
          "yaxis": {
           "automargin": true,
           "gridcolor": "#283442",
           "linecolor": "#506784",
           "ticks": "",
           "title": {
            "standoff": 15
           },
           "zerolinecolor": "#283442",
           "zerolinewidth": 2
          }
         }
        },
        "title": {
         "font": {
          "color": "#D9D9D9"
         }
        },
        "xaxis": {
         "gridcolor": "#434343",
         "showgrid": true,
         "tickfont": {
          "color": "#C2C2C2"
         },
         "title": {
          "font": {
           "color": "#D9D9D9"
          },
          "text": ""
         },
         "zerolinecolor": "#666570"
        },
        "yaxis": {
         "gridcolor": "#434343",
         "showgrid": true,
         "tickfont": {
          "color": "#C2C2C2"
         },
         "title": {
          "font": {
           "color": "#D9D9D9"
          },
          "text": ""
         },
         "zerolinecolor": "#666570"
        }
       }
      },
      "text/html": [
       "<div>                            <div id=\"81fb40d4-cad4-4a37-8f44-bda1ffc07eea\" class=\"plotly-graph-div\" style=\"height:525px; width:100%;\"></div>            <script type=\"text/javascript\">                require([\"plotly\"], function(Plotly) {                    window.PLOTLYENV=window.PLOTLYENV || {};\n",
       "                    window.PLOTLYENV.BASE_URL='https://plot.ly';                                    if (document.getElementById(\"81fb40d4-cad4-4a37-8f44-bda1ffc07eea\")) {                    Plotly.newPlot(                        \"81fb40d4-cad4-4a37-8f44-bda1ffc07eea\",                        [{\"line\": {\"color\": \"rgba(255, 153, 51, 1.0)\", \"dash\": \"solid\", \"shape\": \"linear\", \"width\": 1.3}, \"mode\": \"lines\", \"name\": \"onVentilatorCurrently\", \"text\": \"\", \"type\": \"scatter\", \"x\": [\"2020-11-18\", \"2020-11-17\", \"2020-11-16\", \"2020-11-15\", \"2020-11-14\", \"2020-11-13\", \"2020-11-12\", \"2020-11-11\", \"2020-11-10\", \"2020-11-09\", \"2020-11-08\", \"2020-11-07\", \"2020-11-06\", \"2020-11-05\", \"2020-11-04\", \"2020-11-03\", \"2020-11-02\", \"2020-11-01\", \"2020-10-31\", \"2020-10-30\", \"2020-10-29\", \"2020-10-28\", \"2020-10-27\", \"2020-10-26\", \"2020-10-25\", \"2020-10-24\", \"2020-10-23\", \"2020-10-22\", \"2020-10-21\", \"2020-10-20\", \"2020-10-19\", \"2020-10-18\", \"2020-10-17\", \"2020-10-16\", \"2020-10-15\", \"2020-10-14\", \"2020-10-13\", \"2020-10-12\", \"2020-10-11\", \"2020-10-10\", \"2020-10-09\", \"2020-10-08\", \"2020-10-07\", \"2020-10-06\", \"2020-10-05\", \"2020-10-04\", \"2020-10-03\", \"2020-10-02\", \"2020-10-01\", \"2020-09-30\", \"2020-09-29\", \"2020-09-28\", \"2020-09-27\", \"2020-09-26\", \"2020-09-25\", \"2020-09-24\", \"2020-09-23\", \"2020-09-22\", \"2020-09-21\", \"2020-09-20\", \"2020-09-19\", \"2020-09-18\", \"2020-09-17\", \"2020-09-16\", \"2020-09-15\", \"2020-09-14\", \"2020-09-13\", \"2020-09-12\", \"2020-09-11\", \"2020-09-10\", \"2020-09-09\", \"2020-09-08\", \"2020-09-07\", \"2020-09-06\", \"2020-09-05\", \"2020-09-04\", \"2020-09-03\", \"2020-09-02\", \"2020-09-01\", \"2020-08-31\", \"2020-08-30\", \"2020-08-29\", \"2020-08-28\", \"2020-08-27\", \"2020-08-26\", \"2020-08-25\", \"2020-08-24\", \"2020-08-23\", \"2020-08-22\", \"2020-08-21\", \"2020-08-20\", \"2020-08-19\", \"2020-08-18\", \"2020-08-17\", \"2020-08-16\", \"2020-08-15\", \"2020-08-14\", \"2020-08-13\", \"2020-08-12\", \"2020-08-11\", \"2020-08-10\", \"2020-08-09\", \"2020-08-08\", \"2020-08-07\", \"2020-08-06\", \"2020-08-05\", \"2020-08-04\", \"2020-08-03\", \"2020-08-02\", \"2020-08-01\", \"2020-07-31\", \"2020-07-30\", \"2020-07-29\", \"2020-07-28\", \"2020-07-27\", \"2020-07-26\", \"2020-07-25\", \"2020-07-24\", \"2020-07-23\", \"2020-07-22\", \"2020-07-21\", \"2020-07-20\", \"2020-07-19\", \"2020-07-18\", \"2020-07-17\", \"2020-07-16\", \"2020-07-15\", \"2020-07-14\", \"2020-07-13\", \"2020-07-12\", \"2020-07-11\", \"2020-07-10\", \"2020-07-09\", \"2020-07-08\", \"2020-07-07\", \"2020-07-06\", \"2020-07-05\", \"2020-07-04\", \"2020-07-03\", \"2020-07-02\", \"2020-07-01\", \"2020-06-30\", \"2020-06-29\", \"2020-06-28\", \"2020-06-27\", \"2020-06-26\", \"2020-06-25\", \"2020-06-24\", \"2020-06-23\", \"2020-06-22\", \"2020-06-21\", \"2020-06-20\", \"2020-06-19\", \"2020-06-18\", \"2020-06-17\", \"2020-06-16\", \"2020-06-15\", \"2020-06-14\", \"2020-06-13\", \"2020-06-12\", \"2020-06-11\", \"2020-06-10\", \"2020-06-09\", \"2020-06-08\", \"2020-06-07\", \"2020-06-06\", \"2020-06-05\", \"2020-06-04\", \"2020-06-03\", \"2020-06-02\", \"2020-06-01\", \"2020-05-31\", \"2020-05-30\", \"2020-05-29\", \"2020-05-28\", \"2020-05-27\", \"2020-05-26\", \"2020-05-25\", \"2020-05-24\", \"2020-05-23\", \"2020-05-22\", \"2020-05-21\", \"2020-05-20\", \"2020-05-19\", \"2020-05-18\", \"2020-05-17\", \"2020-05-16\", \"2020-05-15\", \"2020-05-14\", \"2020-05-13\", \"2020-05-12\", \"2020-05-11\", \"2020-05-10\", \"2020-05-09\", \"2020-05-08\", \"2020-05-07\", \"2020-05-06\", \"2020-05-05\", \"2020-05-04\", \"2020-05-03\", \"2020-05-02\", \"2020-05-01\", \"2020-04-30\", \"2020-04-29\", \"2020-04-28\", \"2020-04-27\", \"2020-04-26\", \"2020-04-25\", \"2020-04-24\", \"2020-04-23\", \"2020-04-22\", \"2020-04-21\", \"2020-04-20\", \"2020-04-19\", \"2020-04-18\", \"2020-04-17\", \"2020-04-16\", \"2020-04-15\", \"2020-04-14\", \"2020-04-13\", \"2020-04-12\", \"2020-04-11\", \"2020-04-10\", \"2020-04-09\", \"2020-04-08\", \"2020-04-07\", \"2020-04-06\", \"2020-04-05\", \"2020-04-04\", \"2020-04-03\", \"2020-04-02\", \"2020-04-01\", \"2020-03-31\", \"2020-03-30\", \"2020-03-29\", \"2020-03-28\", \"2020-03-27\", \"2020-03-26\", \"2020-03-25\", \"2020-03-24\", \"2020-03-23\", \"2020-03-22\", \"2020-03-21\", \"2020-03-20\", \"2020-03-19\", \"2020-03-18\", \"2020-03-17\", \"2020-03-16\", \"2020-03-15\", \"2020-03-14\", \"2020-03-13\", \"2020-03-12\", \"2020-03-11\", \"2020-03-10\", \"2020-03-09\", \"2020-03-08\", \"2020-03-07\", \"2020-03-06\", \"2020-03-05\", \"2020-03-04\", \"2020-03-03\", \"2020-03-02\", \"2020-03-01\", \"2020-02-29\", \"2020-02-28\", \"2020-02-27\", \"2020-02-26\", \"2020-02-25\", \"2020-02-24\", \"2020-02-23\", \"2020-02-22\", \"2020-02-21\", \"2020-02-20\", \"2020-02-19\", \"2020-02-18\", \"2020-02-17\", \"2020-02-16\", \"2020-02-15\", \"2020-02-14\", \"2020-02-13\", \"2020-02-12\", \"2020-02-11\", \"2020-02-10\", \"2020-02-09\", \"2020-02-08\", \"2020-02-07\", \"2020-02-06\", \"2020-02-05\", \"2020-02-04\", \"2020-02-03\", \"2020-02-02\", \"2020-02-01\", \"2020-01-31\", \"2020-01-30\", \"2020-01-29\", \"2020-01-28\", \"2020-01-27\", \"2020-01-26\", \"2020-01-25\", \"2020-01-24\", \"2020-01-23\", \"2020-01-22\"], \"y\": [4701.0, 4379.0, 4166.0, 3939.0, 3945.0, 3769.0, 3622.0, 3367.0, 3201.0, 3110.0, 2977.0, 2947.0, 2850.0, 2877.0, 2832.0, 2733.0, 2637.0, 2553.0, 2502.0, 2477.0, 2403.0, 2347.0, 2287.0, 2301.0, 2176.0, 2230.0, 2180.0, 2147.0, 2090.0, 2045.0, 1800.0, 1762.0, 1791.0, 1739.0, 1769.0, 1776.0, 1755.0, 1666.0, 1646.0, 1667.0, 1655.0, 1638.0, 1646.0, 1609.0, 1515.0, 1485.0, 1501.0, 1533.0, 1547.0, 1507.0, 1495.0, 1518.0, 1511.0, 1509.0, 1506.0, 1560.0, 1544.0, 1562.0, 1572.0, 1595.0, 1577.0, 1608.0, 1658.0, 1651.0, 1572.0, 1507.0, 1562.0, 1619.0, 1715.0, 1925.0, 1903.0, 1879.0, 1879.0, 1912.0, 1956.0, 1995.0, 2042.0, 2024.0, 2042.0, 2077.0, 2055.0, 2062.0, 2086.0, 2125.0, 2142.0, 2163.0, 2118.0, 2131.0, 2204.0, 2286.0, 2335.0, 2371.0, 2468.0, 2447.0, 2481.0, 2526.0, 2549.0, 2579.0, 2604.0, 2415.0, 2533.0, 2507.0, 2566.0, 2617.0, 2718.0, 2719.0, 2701.0, 2659.0, 2645.0, 2698.0, 2703.0, 2760.0, 2772.0, 2752.0, 2720.0, 2723.0, 2729.0, 2711.0, 2465.0, 2440.0, 2414.0, 2403.0, 2362.0, 2343.0, 2353.0, 2317.0, 2317.0, 2263.0, 2259.0, 2182.0, 2169.0, 2197.0, 2127.0, 2172.0, 2098.0, 2105.0, 2080.0, 1982.0, 2049.0, 2105.0, 2098.0, 2044.0, 2011.0, 2077.0, 2159.0, 2075.0, 2214.0, 2248.0, 2293.0, 2299.0, 2321.0, 2380.0, 2434.0, 2520.0, 2588.0, 2594.0, 2640.0, 2716.0, 2726.0, 2734.0, 2886.0, 3020.0, 3090.0, 3240.0, 3298.0, 3476.0, 3523.0, 3665.0, 3749.0, 3852.0, 3950.0, 3669.0, 4004.0, 4032.0, 4080.0, 4222.0, 4215.0, 4237.0, 4383.0, 4620.0, 4716.0, 4868.0, 4911.0, 5032.0, 5257.0, 5467.0, 5529.0, 5746.0, 5940.0, 6156.0, 6352.0, 6350.0, 6395.0, 6551.0, 6788.0, 7070.0, 4753.0, 4818.0, 4848.0, 4761.0, 4845.0, 4707.0, 4712.0, 4796.0, 4760.0, 4867.0, 5121.0, 5266.0, 5187.0, 5464.0, 5474.0, 5514.0, 5567.0, 5603.0, 5729.0, 6096.0, 5940.0, 6032.0, 5975.0, 6168.0, 5968.0, 5978.0, 5937.0, 5794.0, 4131.0, 4076.0, 2961.0, 652.0, 656.0, 623.0, 574.0, 561.0, 507.0, 451.0, 439.0, 390.0, 324.0, 258.0, 167.0, \"\", \"\", \"\", \"\", \"\", \"\", \"\", \"\", \"\", \"\", \"\", \"\", \"\", \"\", \"\", \"\", \"\", \"\", \"\", \"\", \"\", \"\", \"\", \"\", \"\", \"\", \"\", \"\", \"\", \"\", \"\", \"\", \"\", \"\", \"\", \"\", \"\", \"\", \"\", \"\", \"\", \"\", \"\", \"\", \"\", \"\", \"\", \"\", \"\", \"\", \"\", \"\", \"\", \"\", \"\", \"\", \"\", \"\", \"\", \"\", \"\", \"\", \"\"]}, {\"line\": {\"color\": \"rgba(55, 128, 191, 1.0)\", \"dash\": \"solid\", \"shape\": \"linear\", \"width\": 1.3}, \"mode\": \"lines\", \"name\": \"onVentilatorCumulative\", \"text\": \"\", \"type\": \"scatter\", \"x\": [\"2020-11-18\", \"2020-11-17\", \"2020-11-16\", \"2020-11-15\", \"2020-11-14\", \"2020-11-13\", \"2020-11-12\", \"2020-11-11\", \"2020-11-10\", \"2020-11-09\", \"2020-11-08\", \"2020-11-07\", \"2020-11-06\", \"2020-11-05\", \"2020-11-04\", \"2020-11-03\", \"2020-11-02\", \"2020-11-01\", \"2020-10-31\", \"2020-10-30\", \"2020-10-29\", \"2020-10-28\", \"2020-10-27\", \"2020-10-26\", \"2020-10-25\", \"2020-10-24\", \"2020-10-23\", \"2020-10-22\", \"2020-10-21\", \"2020-10-20\", \"2020-10-19\", \"2020-10-18\", \"2020-10-17\", \"2020-10-16\", \"2020-10-15\", \"2020-10-14\", \"2020-10-13\", \"2020-10-12\", \"2020-10-11\", \"2020-10-10\", \"2020-10-09\", \"2020-10-08\", \"2020-10-07\", \"2020-10-06\", \"2020-10-05\", \"2020-10-04\", \"2020-10-03\", \"2020-10-02\", \"2020-10-01\", \"2020-09-30\", \"2020-09-29\", \"2020-09-28\", \"2020-09-27\", \"2020-09-26\", \"2020-09-25\", \"2020-09-24\", \"2020-09-23\", \"2020-09-22\", \"2020-09-21\", \"2020-09-20\", \"2020-09-19\", \"2020-09-18\", \"2020-09-17\", \"2020-09-16\", \"2020-09-15\", \"2020-09-14\", \"2020-09-13\", \"2020-09-12\", \"2020-09-11\", \"2020-09-10\", \"2020-09-09\", \"2020-09-08\", \"2020-09-07\", \"2020-09-06\", \"2020-09-05\", \"2020-09-04\", \"2020-09-03\", \"2020-09-02\", \"2020-09-01\", \"2020-08-31\", \"2020-08-30\", \"2020-08-29\", \"2020-08-28\", \"2020-08-27\", \"2020-08-26\", \"2020-08-25\", \"2020-08-24\", \"2020-08-23\", \"2020-08-22\", \"2020-08-21\", \"2020-08-20\", \"2020-08-19\", \"2020-08-18\", \"2020-08-17\", \"2020-08-16\", \"2020-08-15\", \"2020-08-14\", \"2020-08-13\", \"2020-08-12\", \"2020-08-11\", \"2020-08-10\", \"2020-08-09\", \"2020-08-08\", \"2020-08-07\", \"2020-08-06\", \"2020-08-05\", \"2020-08-04\", \"2020-08-03\", \"2020-08-02\", \"2020-08-01\", \"2020-07-31\", \"2020-07-30\", \"2020-07-29\", \"2020-07-28\", \"2020-07-27\", \"2020-07-26\", \"2020-07-25\", \"2020-07-24\", \"2020-07-23\", \"2020-07-22\", \"2020-07-21\", \"2020-07-20\", \"2020-07-19\", \"2020-07-18\", \"2020-07-17\", \"2020-07-16\", \"2020-07-15\", \"2020-07-14\", \"2020-07-13\", \"2020-07-12\", \"2020-07-11\", \"2020-07-10\", \"2020-07-09\", \"2020-07-08\", \"2020-07-07\", \"2020-07-06\", \"2020-07-05\", \"2020-07-04\", \"2020-07-03\", \"2020-07-02\", \"2020-07-01\", \"2020-06-30\", \"2020-06-29\", \"2020-06-28\", \"2020-06-27\", \"2020-06-26\", \"2020-06-25\", \"2020-06-24\", \"2020-06-23\", \"2020-06-22\", \"2020-06-21\", \"2020-06-20\", \"2020-06-19\", \"2020-06-18\", \"2020-06-17\", \"2020-06-16\", \"2020-06-15\", \"2020-06-14\", \"2020-06-13\", \"2020-06-12\", \"2020-06-11\", \"2020-06-10\", \"2020-06-09\", \"2020-06-08\", \"2020-06-07\", \"2020-06-06\", \"2020-06-05\", \"2020-06-04\", \"2020-06-03\", \"2020-06-02\", \"2020-06-01\", \"2020-05-31\", \"2020-05-30\", \"2020-05-29\", \"2020-05-28\", \"2020-05-27\", \"2020-05-26\", \"2020-05-25\", \"2020-05-24\", \"2020-05-23\", \"2020-05-22\", \"2020-05-21\", \"2020-05-20\", \"2020-05-19\", \"2020-05-18\", \"2020-05-17\", \"2020-05-16\", \"2020-05-15\", \"2020-05-14\", \"2020-05-13\", \"2020-05-12\", \"2020-05-11\", \"2020-05-10\", \"2020-05-09\", \"2020-05-08\", \"2020-05-07\", \"2020-05-06\", \"2020-05-05\", \"2020-05-04\", \"2020-05-03\", \"2020-05-02\", \"2020-05-01\", \"2020-04-30\", \"2020-04-29\", \"2020-04-28\", \"2020-04-27\", \"2020-04-26\", \"2020-04-25\", \"2020-04-24\", \"2020-04-23\", \"2020-04-22\", \"2020-04-21\", \"2020-04-20\", \"2020-04-19\", \"2020-04-18\", \"2020-04-17\", \"2020-04-16\", \"2020-04-15\", \"2020-04-14\", \"2020-04-13\", \"2020-04-12\", \"2020-04-11\", \"2020-04-10\", \"2020-04-09\", \"2020-04-08\", \"2020-04-07\", \"2020-04-06\", \"2020-04-05\", \"2020-04-04\", \"2020-04-03\", \"2020-04-02\", \"2020-04-01\", \"2020-03-31\", \"2020-03-30\", \"2020-03-29\", \"2020-03-28\", \"2020-03-27\", \"2020-03-26\", \"2020-03-25\", \"2020-03-24\", \"2020-03-23\", \"2020-03-22\", \"2020-03-21\", \"2020-03-20\", \"2020-03-19\", \"2020-03-18\", \"2020-03-17\", \"2020-03-16\", \"2020-03-15\", \"2020-03-14\", \"2020-03-13\", \"2020-03-12\", \"2020-03-11\", \"2020-03-10\", \"2020-03-09\", \"2020-03-08\", \"2020-03-07\", \"2020-03-06\", \"2020-03-05\", \"2020-03-04\", \"2020-03-03\", \"2020-03-02\", \"2020-03-01\", \"2020-02-29\", \"2020-02-28\", \"2020-02-27\", \"2020-02-26\", \"2020-02-25\", \"2020-02-24\", \"2020-02-23\", \"2020-02-22\", \"2020-02-21\", \"2020-02-20\", \"2020-02-19\", \"2020-02-18\", \"2020-02-17\", \"2020-02-16\", \"2020-02-15\", \"2020-02-14\", \"2020-02-13\", \"2020-02-12\", \"2020-02-11\", \"2020-02-10\", \"2020-02-09\", \"2020-02-08\", \"2020-02-07\", \"2020-02-06\", \"2020-02-05\", \"2020-02-04\", \"2020-02-03\", \"2020-02-02\", \"2020-02-01\", \"2020-01-31\", \"2020-01-30\", \"2020-01-29\", \"2020-01-28\", \"2020-01-27\", \"2020-01-26\", \"2020-01-25\", \"2020-01-24\", \"2020-01-23\", \"2020-01-22\"], \"y\": [3024.0, 3004.0, 2988.0, 2975.0, 2972.0, 2967.0, 2954.0, 2947.0, 2922.0, 2907.0, 2900.0, 2898.0, 2885.0, 2872.0, 2853.0, 2833.0, 2809.0, 2797.0, 2786.0, 2776.0, 2760.0, 2744.0, 2719.0, 2703.0, 2693.0, 2691.0, 2679.0, 2641.0, 2622.0, 2593.0, 2577.0, 2557.0, 2553.0, 2547.0, 2531.0, 2516.0, 2485.0, 2464.0, 2454.0, 2451.0, 2437.0, 2427.0, 2410.0, 2388.0, 2370.0, 2362.0, 2358.0, 2348.0, 2334.0, 2319.0, 2298.0, 2285.0, 2277.0, 2272.0, 2264.0, 2177.0, 2154.0, 2130.0, 2116.0, 2112.0, 2111.0, 2107.0, 2092.0, 2090.0, 2071.0, 2061.0, 2056.0, 2051.0, 2031.0, 2008.0, 1994.0, 1975.0, 1967.0, 1960.0, 1956.0, 1943.0, 1928.0, 1918.0, 1902.0, 1877.0, 1870.0, 1864.0, 1856.0, 1831.0, 1809.0, 1789.0, 1764.0, 1737.0, 1736.0, 1730.0, 1716.0, 1705.0, 1695.0, 1678.0, 1665.0, 1663.0, 1665.0, 1649.0, 1629.0, 1612.0, 1592.0, 1578.0, 1561.0, 1549.0, 1534.0, 1524.0, 1493.0, 1463.0, 1448.0, 1445.0, 1437.0, 1415.0, 1400.0, 1372.0, 1356.0, 1336.0, 1300.0, 1297.0, 1280.0, 1258.0, 1242.0, 1223.0, 1216.0, 1211.0, 1200.0, 1175.0, 1166.0, 1154.0, 1142.0, 1136.0, 1128.0, 1118.0, 1138.0, 1103.0, 1084.0, 1070.0, 1064.0, 1063.0, 1059.0, 1041.0, 1027.0, 1008.0, 990.0, 983.0, 977.0, 966.0, 951.0, 934.0, 918.0, 909.0, 904.0, 888.0, 884.0, 869.0, 857.0, 845.0, 835.0, 834.0, 830.0, 814.0, 792.0, 780.0, 771.0, 762.0, 753.0, 750.0, 740.0, 723.0, 717.0, 710.0, 704.0, 704.0, 698.0, 689.0, 676.0, 666.0, 650.0, 642.0, 639.0, 638.0, 633.0, 616.0, 613.0, 606.0, 602.0, 593.0, 592.0, 589.0, 582.0, 572.0, 559.0, 551.0, 547.0, 543.0, 531.0, 529.0, 449.0, 439.0, 430.0, 425.0, 375.0, 376.0, 373.0, 365.0, 252.0, 252.0, 227.0, 227.0, 227.0, 227.0, 227.0, 214.0, 214.0, 214.0, 205.0, 187.0, 176.0, 223.0, 221.0, 208.0, 158.0, 152.0, 39.0, 39.0, 39.0, 43.0, 39.0, 39.0, 39.0, 39.0, 32.0, 32.0, \"\", \"\", \"\", \"\", \"\", \"\", \"\", \"\", \"\", \"\", \"\", \"\", \"\", \"\", \"\", \"\", \"\", \"\", \"\", \"\", \"\", \"\", \"\", \"\", \"\", \"\", \"\", \"\", \"\", \"\", \"\", \"\", \"\", \"\", \"\", \"\", \"\", \"\", \"\", \"\", \"\", \"\", \"\", \"\", \"\", \"\", \"\", \"\", \"\", \"\", \"\", \"\", \"\", \"\", \"\", \"\", \"\", \"\", \"\", \"\", \"\", \"\", \"\", \"\", \"\", \"\", \"\", \"\", \"\", \"\"]}],                        {\"legend\": {\"bgcolor\": \"#151516\", \"font\": {\"color\": \"#D9D9D9\"}}, \"paper_bgcolor\": \"#151516\", \"plot_bgcolor\": \"#151516\", \"template\": {\"data\": {\"bar\": [{\"error_x\": {\"color\": \"#f2f5fa\"}, \"error_y\": {\"color\": \"#f2f5fa\"}, \"marker\": {\"line\": {\"color\": \"rgb(17,17,17)\", \"width\": 0.5}}, \"type\": \"bar\"}], \"barpolar\": [{\"marker\": {\"line\": {\"color\": \"rgb(17,17,17)\", \"width\": 0.5}}, \"type\": \"barpolar\"}], \"carpet\": [{\"aaxis\": {\"endlinecolor\": \"#A2B1C6\", \"gridcolor\": \"#506784\", \"linecolor\": \"#506784\", \"minorgridcolor\": \"#506784\", \"startlinecolor\": \"#A2B1C6\"}, \"baxis\": {\"endlinecolor\": \"#A2B1C6\", \"gridcolor\": \"#506784\", \"linecolor\": \"#506784\", \"minorgridcolor\": \"#506784\", \"startlinecolor\": \"#A2B1C6\"}, \"type\": \"carpet\"}], \"choropleth\": [{\"colorbar\": {\"outlinewidth\": 0, \"ticks\": \"\"}, \"type\": \"choropleth\"}], \"contour\": [{\"colorbar\": {\"outlinewidth\": 0, \"ticks\": \"\"}, \"colorscale\": [[0.0, \"#0d0887\"], [0.1111111111111111, \"#46039f\"], [0.2222222222222222, \"#7201a8\"], [0.3333333333333333, \"#9c179e\"], [0.4444444444444444, \"#bd3786\"], [0.5555555555555556, \"#d8576b\"], [0.6666666666666666, \"#ed7953\"], [0.7777777777777778, \"#fb9f3a\"], [0.8888888888888888, \"#fdca26\"], [1.0, \"#f0f921\"]], \"type\": \"contour\"}], \"contourcarpet\": [{\"colorbar\": {\"outlinewidth\": 0, \"ticks\": \"\"}, \"type\": \"contourcarpet\"}], \"heatmap\": [{\"colorbar\": {\"outlinewidth\": 0, \"ticks\": \"\"}, \"colorscale\": [[0.0, \"#0d0887\"], [0.1111111111111111, \"#46039f\"], [0.2222222222222222, \"#7201a8\"], [0.3333333333333333, \"#9c179e\"], [0.4444444444444444, \"#bd3786\"], [0.5555555555555556, \"#d8576b\"], [0.6666666666666666, \"#ed7953\"], [0.7777777777777778, \"#fb9f3a\"], [0.8888888888888888, \"#fdca26\"], [1.0, \"#f0f921\"]], \"type\": \"heatmap\"}], \"heatmapgl\": [{\"colorbar\": {\"outlinewidth\": 0, \"ticks\": \"\"}, \"colorscale\": [[0.0, \"#0d0887\"], [0.1111111111111111, \"#46039f\"], [0.2222222222222222, \"#7201a8\"], [0.3333333333333333, \"#9c179e\"], [0.4444444444444444, \"#bd3786\"], [0.5555555555555556, \"#d8576b\"], [0.6666666666666666, \"#ed7953\"], [0.7777777777777778, \"#fb9f3a\"], [0.8888888888888888, \"#fdca26\"], [1.0, \"#f0f921\"]], \"type\": \"heatmapgl\"}], \"histogram\": [{\"marker\": {\"colorbar\": {\"outlinewidth\": 0, \"ticks\": \"\"}}, \"type\": \"histogram\"}], \"histogram2d\": [{\"colorbar\": {\"outlinewidth\": 0, \"ticks\": \"\"}, \"colorscale\": [[0.0, \"#0d0887\"], [0.1111111111111111, \"#46039f\"], [0.2222222222222222, \"#7201a8\"], [0.3333333333333333, \"#9c179e\"], [0.4444444444444444, \"#bd3786\"], [0.5555555555555556, \"#d8576b\"], [0.6666666666666666, \"#ed7953\"], [0.7777777777777778, \"#fb9f3a\"], [0.8888888888888888, \"#fdca26\"], [1.0, \"#f0f921\"]], \"type\": \"histogram2d\"}], \"histogram2dcontour\": [{\"colorbar\": {\"outlinewidth\": 0, \"ticks\": \"\"}, \"colorscale\": [[0.0, \"#0d0887\"], [0.1111111111111111, \"#46039f\"], [0.2222222222222222, \"#7201a8\"], [0.3333333333333333, \"#9c179e\"], [0.4444444444444444, \"#bd3786\"], [0.5555555555555556, \"#d8576b\"], [0.6666666666666666, \"#ed7953\"], [0.7777777777777778, \"#fb9f3a\"], [0.8888888888888888, \"#fdca26\"], [1.0, \"#f0f921\"]], \"type\": \"histogram2dcontour\"}], \"mesh3d\": [{\"colorbar\": {\"outlinewidth\": 0, \"ticks\": \"\"}, \"type\": \"mesh3d\"}], \"parcoords\": [{\"line\": {\"colorbar\": {\"outlinewidth\": 0, \"ticks\": \"\"}}, \"type\": \"parcoords\"}], \"pie\": [{\"automargin\": true, \"type\": \"pie\"}], \"scatter\": [{\"marker\": {\"line\": {\"color\": \"#283442\"}}, \"type\": \"scatter\"}], \"scatter3d\": [{\"line\": {\"colorbar\": {\"outlinewidth\": 0, \"ticks\": \"\"}}, \"marker\": {\"colorbar\": {\"outlinewidth\": 0, \"ticks\": \"\"}}, \"type\": \"scatter3d\"}], \"scattercarpet\": [{\"marker\": {\"colorbar\": {\"outlinewidth\": 0, \"ticks\": \"\"}}, \"type\": \"scattercarpet\"}], \"scattergeo\": [{\"marker\": {\"colorbar\": {\"outlinewidth\": 0, \"ticks\": \"\"}}, \"type\": \"scattergeo\"}], \"scattergl\": [{\"marker\": {\"line\": {\"color\": \"#283442\"}}, \"type\": \"scattergl\"}], \"scattermapbox\": [{\"marker\": {\"colorbar\": {\"outlinewidth\": 0, \"ticks\": \"\"}}, \"type\": \"scattermapbox\"}], \"scatterpolar\": [{\"marker\": {\"colorbar\": {\"outlinewidth\": 0, \"ticks\": \"\"}}, \"type\": \"scatterpolar\"}], \"scatterpolargl\": [{\"marker\": {\"colorbar\": {\"outlinewidth\": 0, \"ticks\": \"\"}}, \"type\": \"scatterpolargl\"}], \"scatterternary\": [{\"marker\": {\"colorbar\": {\"outlinewidth\": 0, \"ticks\": \"\"}}, \"type\": \"scatterternary\"}], \"surface\": [{\"colorbar\": {\"outlinewidth\": 0, \"ticks\": \"\"}, \"colorscale\": [[0.0, \"#0d0887\"], [0.1111111111111111, \"#46039f\"], [0.2222222222222222, \"#7201a8\"], [0.3333333333333333, \"#9c179e\"], [0.4444444444444444, \"#bd3786\"], [0.5555555555555556, \"#d8576b\"], [0.6666666666666666, \"#ed7953\"], [0.7777777777777778, \"#fb9f3a\"], [0.8888888888888888, \"#fdca26\"], [1.0, \"#f0f921\"]], \"type\": \"surface\"}], \"table\": [{\"cells\": {\"fill\": {\"color\": \"#506784\"}, \"line\": {\"color\": \"rgb(17,17,17)\"}}, \"header\": {\"fill\": {\"color\": \"#2a3f5f\"}, \"line\": {\"color\": \"rgb(17,17,17)\"}}, \"type\": \"table\"}]}, \"layout\": {\"annotationdefaults\": {\"arrowcolor\": \"#f2f5fa\", \"arrowhead\": 0, \"arrowwidth\": 1}, \"coloraxis\": {\"colorbar\": {\"outlinewidth\": 0, \"ticks\": \"\"}}, \"colorscale\": {\"diverging\": [[0, \"#8e0152\"], [0.1, \"#c51b7d\"], [0.2, \"#de77ae\"], [0.3, \"#f1b6da\"], [0.4, \"#fde0ef\"], [0.5, \"#f7f7f7\"], [0.6, \"#e6f5d0\"], [0.7, \"#b8e186\"], [0.8, \"#7fbc41\"], [0.9, \"#4d9221\"], [1, \"#276419\"]], \"sequential\": [[0.0, \"#0d0887\"], [0.1111111111111111, \"#46039f\"], [0.2222222222222222, \"#7201a8\"], [0.3333333333333333, \"#9c179e\"], [0.4444444444444444, \"#bd3786\"], [0.5555555555555556, \"#d8576b\"], [0.6666666666666666, \"#ed7953\"], [0.7777777777777778, \"#fb9f3a\"], [0.8888888888888888, \"#fdca26\"], [1.0, \"#f0f921\"]], \"sequentialminus\": [[0.0, \"#0d0887\"], [0.1111111111111111, \"#46039f\"], [0.2222222222222222, \"#7201a8\"], [0.3333333333333333, \"#9c179e\"], [0.4444444444444444, \"#bd3786\"], [0.5555555555555556, \"#d8576b\"], [0.6666666666666666, \"#ed7953\"], [0.7777777777777778, \"#fb9f3a\"], [0.8888888888888888, \"#fdca26\"], [1.0, \"#f0f921\"]]}, \"colorway\": [\"#636efa\", \"#EF553B\", \"#00cc96\", \"#ab63fa\", \"#FFA15A\", \"#19d3f3\", \"#FF6692\", \"#B6E880\", \"#FF97FF\", \"#FECB52\"], \"font\": {\"color\": \"#f2f5fa\"}, \"geo\": {\"bgcolor\": \"rgb(17,17,17)\", \"lakecolor\": \"rgb(17,17,17)\", \"landcolor\": \"rgb(17,17,17)\", \"showlakes\": true, \"showland\": true, \"subunitcolor\": \"#506784\"}, \"hoverlabel\": {\"align\": \"left\"}, \"hovermode\": \"closest\", \"mapbox\": {\"style\": \"dark\"}, \"paper_bgcolor\": \"rgb(17,17,17)\", \"plot_bgcolor\": \"rgb(17,17,17)\", \"polar\": {\"angularaxis\": {\"gridcolor\": \"#506784\", \"linecolor\": \"#506784\", \"ticks\": \"\"}, \"bgcolor\": \"rgb(17,17,17)\", \"radialaxis\": {\"gridcolor\": \"#506784\", \"linecolor\": \"#506784\", \"ticks\": \"\"}}, \"scene\": {\"xaxis\": {\"backgroundcolor\": \"rgb(17,17,17)\", \"gridcolor\": \"#506784\", \"gridwidth\": 2, \"linecolor\": \"#506784\", \"showbackground\": true, \"ticks\": \"\", \"zerolinecolor\": \"#C8D4E3\"}, \"yaxis\": {\"backgroundcolor\": \"rgb(17,17,17)\", \"gridcolor\": \"#506784\", \"gridwidth\": 2, \"linecolor\": \"#506784\", \"showbackground\": true, \"ticks\": \"\", \"zerolinecolor\": \"#C8D4E3\"}, \"zaxis\": {\"backgroundcolor\": \"rgb(17,17,17)\", \"gridcolor\": \"#506784\", \"gridwidth\": 2, \"linecolor\": \"#506784\", \"showbackground\": true, \"ticks\": \"\", \"zerolinecolor\": \"#C8D4E3\"}}, \"shapedefaults\": {\"line\": {\"color\": \"#f2f5fa\"}}, \"sliderdefaults\": {\"bgcolor\": \"#C8D4E3\", \"bordercolor\": \"rgb(17,17,17)\", \"borderwidth\": 1, \"tickwidth\": 0}, \"ternary\": {\"aaxis\": {\"gridcolor\": \"#506784\", \"linecolor\": \"#506784\", \"ticks\": \"\"}, \"baxis\": {\"gridcolor\": \"#506784\", \"linecolor\": \"#506784\", \"ticks\": \"\"}, \"bgcolor\": \"rgb(17,17,17)\", \"caxis\": {\"gridcolor\": \"#506784\", \"linecolor\": \"#506784\", \"ticks\": \"\"}}, \"title\": {\"x\": 0.05}, \"updatemenudefaults\": {\"bgcolor\": \"#506784\", \"borderwidth\": 0}, \"xaxis\": {\"automargin\": true, \"gridcolor\": \"#283442\", \"linecolor\": \"#506784\", \"ticks\": \"\", \"title\": {\"standoff\": 15}, \"zerolinecolor\": \"#283442\", \"zerolinewidth\": 2}, \"yaxis\": {\"automargin\": true, \"gridcolor\": \"#283442\", \"linecolor\": \"#506784\", \"ticks\": \"\", \"title\": {\"standoff\": 15}, \"zerolinecolor\": \"#283442\", \"zerolinewidth\": 2}}}, \"title\": {\"font\": {\"color\": \"#D9D9D9\"}}, \"xaxis\": {\"gridcolor\": \"#434343\", \"showgrid\": true, \"tickfont\": {\"color\": \"#C2C2C2\"}, \"title\": {\"font\": {\"color\": \"#D9D9D9\"}, \"text\": \"\"}, \"zerolinecolor\": \"#666570\"}, \"yaxis\": {\"gridcolor\": \"#434343\", \"showgrid\": true, \"tickfont\": {\"color\": \"#C2C2C2\"}, \"title\": {\"font\": {\"color\": \"#D9D9D9\"}, \"text\": \"\"}, \"zerolinecolor\": \"#666570\"}},                        {\"showLink\": true, \"linkText\": \"Export to plot.ly\", \"plotlyServerURL\": \"https://plot.ly\", \"responsive\": true}                    ).then(function(){\n",
       "                            \n",
       "var gd = document.getElementById('81fb40d4-cad4-4a37-8f44-bda1ffc07eea');\n",
       "var x = new MutationObserver(function (mutations, observer) {{\n",
       "        var display = window.getComputedStyle(gd).display;\n",
       "        if (!display || display === 'none') {{\n",
       "            console.log([gd, 'removed!']);\n",
       "            Plotly.purge(gd);\n",
       "            observer.disconnect();\n",
       "        }}\n",
       "}});\n",
       "\n",
       "// Listen for the removal of the full notebook cells\n",
       "var notebookContainer = gd.closest('#notebook-container');\n",
       "if (notebookContainer) {{\n",
       "    x.observe(notebookContainer, {childList: true});\n",
       "}}\n",
       "\n",
       "// Listen for the clearing of the current output cell\n",
       "var outputEl = gd.closest('.output');\n",
       "if (outputEl) {{\n",
       "    x.observe(outputEl, {childList: true});\n",
       "}}\n",
       "\n",
       "                        })                };                });            </script>        </div>"
      ]
     },
     "metadata": {},
     "output_type": "display_data"
    }
   ],
   "source": [
    "iplot_cols(df_us,'vent')"
   ]
  },
  {
   "cell_type": "code",
   "execution_count": 53,
   "metadata": {
    "ExecuteTime": {
     "end_time": "2020-11-19T23:14:01.945417Z",
     "start_time": "2020-11-19T23:14:01.842305Z"
    }
   },
   "outputs": [
    {
     "data": {
      "text/plain": [
       "['positive',\n",
       " 'negative',\n",
       " 'death',\n",
       " 'recovered',\n",
       " 'hospitalizedCurrently',\n",
       " 'hospitalizedCumulative',\n",
       " 'inIcuCurrently',\n",
       " 'inIcuCumulative',\n",
       " 'onVentilatorCurrently',\n",
       " 'onVentilatorCumulative',\n",
       " 'states',\n",
       " 'pending',\n",
       " 'dateChecked',\n",
       " 'hash']"
      ]
     },
     "execution_count": 53,
     "metadata": {},
     "output_type": "execute_result"
    }
   ],
   "source": [
    "covid.columns_us['good']"
   ]
  },
  {
   "cell_type": "code",
   "execution_count": 54,
   "metadata": {
    "ExecuteTime": {
     "end_time": "2020-11-19T23:14:02.083438Z",
     "start_time": "2020-11-19T23:14:01.946831Z"
    },
    "scrolled": true
   },
   "outputs": [
    {
     "data": {
      "text/html": [
       "<div>\n",
       "<style scoped>\n",
       "    .dataframe tbody tr th:only-of-type {\n",
       "        vertical-align: middle;\n",
       "    }\n",
       "\n",
       "    .dataframe tbody tr th {\n",
       "        vertical-align: top;\n",
       "    }\n",
       "\n",
       "    .dataframe thead th {\n",
       "        text-align: right;\n",
       "    }\n",
       "</style>\n",
       "<table border=\"1\" class=\"dataframe\">\n",
       "  <thead>\n",
       "    <tr style=\"text-align: right;\">\n",
       "      <th></th>\n",
       "      <th>state</th>\n",
       "      <th>fips</th>\n",
       "      <th>positive</th>\n",
       "      <th>negative</th>\n",
       "      <th>death</th>\n",
       "      <th>recovered</th>\n",
       "      <th>hospitalizedCurrently</th>\n",
       "      <th>hospitalizedCumulative</th>\n",
       "      <th>inIcuCurrently</th>\n",
       "      <th>inIcuCumulative</th>\n",
       "      <th>...</th>\n",
       "      <th>lastUpdateEt</th>\n",
       "      <th>totalTestsViral</th>\n",
       "      <th>positiveTestsViral</th>\n",
       "      <th>negativeTestsViral</th>\n",
       "      <th>positiveCasesViral</th>\n",
       "      <th>positiveIncrease</th>\n",
       "      <th>totalTestResults</th>\n",
       "      <th>totalTestResultsIncrease</th>\n",
       "      <th>deathIncrease</th>\n",
       "      <th>hospitalizedIncrease</th>\n",
       "    </tr>\n",
       "    <tr>\n",
       "      <th>date</th>\n",
       "      <th></th>\n",
       "      <th></th>\n",
       "      <th></th>\n",
       "      <th></th>\n",
       "      <th></th>\n",
       "      <th></th>\n",
       "      <th></th>\n",
       "      <th></th>\n",
       "      <th></th>\n",
       "      <th></th>\n",
       "      <th></th>\n",
       "      <th></th>\n",
       "      <th></th>\n",
       "      <th></th>\n",
       "      <th></th>\n",
       "      <th></th>\n",
       "      <th></th>\n",
       "      <th></th>\n",
       "      <th></th>\n",
       "      <th></th>\n",
       "      <th></th>\n",
       "    </tr>\n",
       "  </thead>\n",
       "  <tbody>\n",
       "    <tr>\n",
       "      <th>2020-11-18</th>\n",
       "      <td>AK</td>\n",
       "      <td>2</td>\n",
       "      <td>24419.0</td>\n",
       "      <td>861139.0</td>\n",
       "      <td>100.0</td>\n",
       "      <td>7165.0</td>\n",
       "      <td>147.0</td>\n",
       "      <td>584.0</td>\n",
       "      <td>NaN</td>\n",
       "      <td>NaN</td>\n",
       "      <td>...</td>\n",
       "      <td>11/18/2020 03:59</td>\n",
       "      <td>885558.0</td>\n",
       "      <td>28879.0</td>\n",
       "      <td>856173.0</td>\n",
       "      <td>NaN</td>\n",
       "      <td>545</td>\n",
       "      <td>885558.0</td>\n",
       "      <td>6936</td>\n",
       "      <td>0</td>\n",
       "      <td>22</td>\n",
       "    </tr>\n",
       "    <tr>\n",
       "      <th>2020-11-18</th>\n",
       "      <td>AL</td>\n",
       "      <td>1</td>\n",
       "      <td>223486.0</td>\n",
       "      <td>1294045.0</td>\n",
       "      <td>3347.0</td>\n",
       "      <td>88038.0</td>\n",
       "      <td>1303.0</td>\n",
       "      <td>23088.0</td>\n",
       "      <td>NaN</td>\n",
       "      <td>2165.0</td>\n",
       "      <td>...</td>\n",
       "      <td>11/18/2020 11:00</td>\n",
       "      <td>1481668.0</td>\n",
       "      <td>NaN</td>\n",
       "      <td>NaN</td>\n",
       "      <td>187623.0</td>\n",
       "      <td>2638</td>\n",
       "      <td>1481668.0</td>\n",
       "      <td>8122</td>\n",
       "      <td>46</td>\n",
       "      <td>372</td>\n",
       "    </tr>\n",
       "    <tr>\n",
       "      <th>2020-11-18</th>\n",
       "      <td>AR</td>\n",
       "      <td>5</td>\n",
       "      <td>137617.0</td>\n",
       "      <td>1415302.0</td>\n",
       "      <td>2275.0</td>\n",
       "      <td>118751.0</td>\n",
       "      <td>893.0</td>\n",
       "      <td>8139.0</td>\n",
       "      <td>339.0</td>\n",
       "      <td>NaN</td>\n",
       "      <td>...</td>\n",
       "      <td>11/18/2020 00:00</td>\n",
       "      <td>1537783.0</td>\n",
       "      <td>NaN</td>\n",
       "      <td>1415302.0</td>\n",
       "      <td>122481.0</td>\n",
       "      <td>1715</td>\n",
       "      <td>1537783.0</td>\n",
       "      <td>12504</td>\n",
       "      <td>30</td>\n",
       "      <td>89</td>\n",
       "    </tr>\n",
       "    <tr>\n",
       "      <th>2020-11-18</th>\n",
       "      <td>AS</td>\n",
       "      <td>60</td>\n",
       "      <td>0.0</td>\n",
       "      <td>1988.0</td>\n",
       "      <td>0.0</td>\n",
       "      <td>NaN</td>\n",
       "      <td>NaN</td>\n",
       "      <td>NaN</td>\n",
       "      <td>NaN</td>\n",
       "      <td>NaN</td>\n",
       "      <td>...</td>\n",
       "      <td>11/17/2020 00:00</td>\n",
       "      <td>1988.0</td>\n",
       "      <td>NaN</td>\n",
       "      <td>NaN</td>\n",
       "      <td>0.0</td>\n",
       "      <td>0</td>\n",
       "      <td>1988.0</td>\n",
       "      <td>0</td>\n",
       "      <td>0</td>\n",
       "      <td>0</td>\n",
       "    </tr>\n",
       "    <tr>\n",
       "      <th>2020-11-18</th>\n",
       "      <td>AZ</td>\n",
       "      <td>4</td>\n",
       "      <td>283102.0</td>\n",
       "      <td>1743653.0</td>\n",
       "      <td>6365.0</td>\n",
       "      <td>46521.0</td>\n",
       "      <td>1700.0</td>\n",
       "      <td>23473.0</td>\n",
       "      <td>396.0</td>\n",
       "      <td>NaN</td>\n",
       "      <td>...</td>\n",
       "      <td>11/18/2020 00:00</td>\n",
       "      <td>NaN</td>\n",
       "      <td>NaN</td>\n",
       "      <td>NaN</td>\n",
       "      <td>275342.0</td>\n",
       "      <td>3206</td>\n",
       "      <td>2018995.0</td>\n",
       "      <td>14787</td>\n",
       "      <td>53</td>\n",
       "      <td>230</td>\n",
       "    </tr>\n",
       "    <tr>\n",
       "      <th>...</th>\n",
       "      <td>...</td>\n",
       "      <td>...</td>\n",
       "      <td>...</td>\n",
       "      <td>...</td>\n",
       "      <td>...</td>\n",
       "      <td>...</td>\n",
       "      <td>...</td>\n",
       "      <td>...</td>\n",
       "      <td>...</td>\n",
       "      <td>...</td>\n",
       "      <td>...</td>\n",
       "      <td>...</td>\n",
       "      <td>...</td>\n",
       "      <td>...</td>\n",
       "      <td>...</td>\n",
       "      <td>...</td>\n",
       "      <td>...</td>\n",
       "      <td>...</td>\n",
       "      <td>...</td>\n",
       "      <td>...</td>\n",
       "      <td>...</td>\n",
       "    </tr>\n",
       "    <tr>\n",
       "      <th>2020-01-24</th>\n",
       "      <td>WA</td>\n",
       "      <td>53</td>\n",
       "      <td>0.0</td>\n",
       "      <td>0.0</td>\n",
       "      <td>NaN</td>\n",
       "      <td>NaN</td>\n",
       "      <td>NaN</td>\n",
       "      <td>NaN</td>\n",
       "      <td>NaN</td>\n",
       "      <td>NaN</td>\n",
       "      <td>...</td>\n",
       "      <td>NaN</td>\n",
       "      <td>NaN</td>\n",
       "      <td>NaN</td>\n",
       "      <td>NaN</td>\n",
       "      <td>0.0</td>\n",
       "      <td>0</td>\n",
       "      <td>0.0</td>\n",
       "      <td>0</td>\n",
       "      <td>0</td>\n",
       "      <td>0</td>\n",
       "    </tr>\n",
       "    <tr>\n",
       "      <th>2020-01-23</th>\n",
       "      <td>MA</td>\n",
       "      <td>25</td>\n",
       "      <td>NaN</td>\n",
       "      <td>NaN</td>\n",
       "      <td>NaN</td>\n",
       "      <td>NaN</td>\n",
       "      <td>NaN</td>\n",
       "      <td>NaN</td>\n",
       "      <td>NaN</td>\n",
       "      <td>NaN</td>\n",
       "      <td>...</td>\n",
       "      <td>NaN</td>\n",
       "      <td>2.0</td>\n",
       "      <td>0.0</td>\n",
       "      <td>NaN</td>\n",
       "      <td>NaN</td>\n",
       "      <td>0</td>\n",
       "      <td>2.0</td>\n",
       "      <td>1</td>\n",
       "      <td>0</td>\n",
       "      <td>0</td>\n",
       "    </tr>\n",
       "    <tr>\n",
       "      <th>2020-01-23</th>\n",
       "      <td>WA</td>\n",
       "      <td>53</td>\n",
       "      <td>0.0</td>\n",
       "      <td>0.0</td>\n",
       "      <td>NaN</td>\n",
       "      <td>NaN</td>\n",
       "      <td>NaN</td>\n",
       "      <td>NaN</td>\n",
       "      <td>NaN</td>\n",
       "      <td>NaN</td>\n",
       "      <td>...</td>\n",
       "      <td>NaN</td>\n",
       "      <td>NaN</td>\n",
       "      <td>NaN</td>\n",
       "      <td>NaN</td>\n",
       "      <td>0.0</td>\n",
       "      <td>0</td>\n",
       "      <td>0.0</td>\n",
       "      <td>0</td>\n",
       "      <td>0</td>\n",
       "      <td>0</td>\n",
       "    </tr>\n",
       "    <tr>\n",
       "      <th>2020-01-22</th>\n",
       "      <td>MA</td>\n",
       "      <td>25</td>\n",
       "      <td>NaN</td>\n",
       "      <td>NaN</td>\n",
       "      <td>NaN</td>\n",
       "      <td>NaN</td>\n",
       "      <td>NaN</td>\n",
       "      <td>NaN</td>\n",
       "      <td>NaN</td>\n",
       "      <td>NaN</td>\n",
       "      <td>...</td>\n",
       "      <td>NaN</td>\n",
       "      <td>1.0</td>\n",
       "      <td>0.0</td>\n",
       "      <td>NaN</td>\n",
       "      <td>NaN</td>\n",
       "      <td>0</td>\n",
       "      <td>1.0</td>\n",
       "      <td>0</td>\n",
       "      <td>0</td>\n",
       "      <td>0</td>\n",
       "    </tr>\n",
       "    <tr>\n",
       "      <th>2020-01-22</th>\n",
       "      <td>WA</td>\n",
       "      <td>53</td>\n",
       "      <td>0.0</td>\n",
       "      <td>0.0</td>\n",
       "      <td>NaN</td>\n",
       "      <td>NaN</td>\n",
       "      <td>NaN</td>\n",
       "      <td>NaN</td>\n",
       "      <td>NaN</td>\n",
       "      <td>NaN</td>\n",
       "      <td>...</td>\n",
       "      <td>NaN</td>\n",
       "      <td>NaN</td>\n",
       "      <td>NaN</td>\n",
       "      <td>NaN</td>\n",
       "      <td>0.0</td>\n",
       "      <td>0</td>\n",
       "      <td>0.0</td>\n",
       "      <td>0</td>\n",
       "      <td>0</td>\n",
       "      <td>0</td>\n",
       "    </tr>\n",
       "  </tbody>\n",
       "</table>\n",
       "<p>14617 rows × 24 columns</p>\n",
       "</div>"
      ],
      "text/plain": [
       "           state  fips  positive   negative   death  recovered  \\\n",
       "date                                                             \n",
       "2020-11-18    AK     2   24419.0   861139.0   100.0     7165.0   \n",
       "2020-11-18    AL     1  223486.0  1294045.0  3347.0    88038.0   \n",
       "2020-11-18    AR     5  137617.0  1415302.0  2275.0   118751.0   \n",
       "2020-11-18    AS    60       0.0     1988.0     0.0        NaN   \n",
       "2020-11-18    AZ     4  283102.0  1743653.0  6365.0    46521.0   \n",
       "...          ...   ...       ...        ...     ...        ...   \n",
       "2020-01-24    WA    53       0.0        0.0     NaN        NaN   \n",
       "2020-01-23    MA    25       NaN        NaN     NaN        NaN   \n",
       "2020-01-23    WA    53       0.0        0.0     NaN        NaN   \n",
       "2020-01-22    MA    25       NaN        NaN     NaN        NaN   \n",
       "2020-01-22    WA    53       0.0        0.0     NaN        NaN   \n",
       "\n",
       "            hospitalizedCurrently  hospitalizedCumulative  inIcuCurrently  \\\n",
       "date                                                                        \n",
       "2020-11-18                  147.0                   584.0             NaN   \n",
       "2020-11-18                 1303.0                 23088.0             NaN   \n",
       "2020-11-18                  893.0                  8139.0           339.0   \n",
       "2020-11-18                    NaN                     NaN             NaN   \n",
       "2020-11-18                 1700.0                 23473.0           396.0   \n",
       "...                           ...                     ...             ...   \n",
       "2020-01-24                    NaN                     NaN             NaN   \n",
       "2020-01-23                    NaN                     NaN             NaN   \n",
       "2020-01-23                    NaN                     NaN             NaN   \n",
       "2020-01-22                    NaN                     NaN             NaN   \n",
       "2020-01-22                    NaN                     NaN             NaN   \n",
       "\n",
       "            inIcuCumulative  ...      lastUpdateEt  totalTestsViral  \\\n",
       "date                         ...                                      \n",
       "2020-11-18              NaN  ...  11/18/2020 03:59         885558.0   \n",
       "2020-11-18           2165.0  ...  11/18/2020 11:00        1481668.0   \n",
       "2020-11-18              NaN  ...  11/18/2020 00:00        1537783.0   \n",
       "2020-11-18              NaN  ...  11/17/2020 00:00           1988.0   \n",
       "2020-11-18              NaN  ...  11/18/2020 00:00              NaN   \n",
       "...                     ...  ...               ...              ...   \n",
       "2020-01-24              NaN  ...               NaN              NaN   \n",
       "2020-01-23              NaN  ...               NaN              2.0   \n",
       "2020-01-23              NaN  ...               NaN              NaN   \n",
       "2020-01-22              NaN  ...               NaN              1.0   \n",
       "2020-01-22              NaN  ...               NaN              NaN   \n",
       "\n",
       "            positiveTestsViral negativeTestsViral positiveCasesViral  \\\n",
       "date                                                                   \n",
       "2020-11-18             28879.0           856173.0                NaN   \n",
       "2020-11-18                 NaN                NaN           187623.0   \n",
       "2020-11-18                 NaN          1415302.0           122481.0   \n",
       "2020-11-18                 NaN                NaN                0.0   \n",
       "2020-11-18                 NaN                NaN           275342.0   \n",
       "...                        ...                ...                ...   \n",
       "2020-01-24                 NaN                NaN                0.0   \n",
       "2020-01-23                 0.0                NaN                NaN   \n",
       "2020-01-23                 NaN                NaN                0.0   \n",
       "2020-01-22                 0.0                NaN                NaN   \n",
       "2020-01-22                 NaN                NaN                0.0   \n",
       "\n",
       "            positiveIncrease  totalTestResults  totalTestResultsIncrease  \\\n",
       "date                                                                       \n",
       "2020-11-18               545          885558.0                      6936   \n",
       "2020-11-18              2638         1481668.0                      8122   \n",
       "2020-11-18              1715         1537783.0                     12504   \n",
       "2020-11-18                 0            1988.0                         0   \n",
       "2020-11-18              3206         2018995.0                     14787   \n",
       "...                      ...               ...                       ...   \n",
       "2020-01-24                 0               0.0                         0   \n",
       "2020-01-23                 0               2.0                         1   \n",
       "2020-01-23                 0               0.0                         0   \n",
       "2020-01-22                 0               1.0                         0   \n",
       "2020-01-22                 0               0.0                         0   \n",
       "\n",
       "            deathIncrease  hospitalizedIncrease  \n",
       "date                                             \n",
       "2020-11-18              0                    22  \n",
       "2020-11-18             46                   372  \n",
       "2020-11-18             30                    89  \n",
       "2020-11-18              0                     0  \n",
       "2020-11-18             53                   230  \n",
       "...                   ...                   ...  \n",
       "2020-01-24              0                     0  \n",
       "2020-01-23              0                     0  \n",
       "2020-01-23              0                     0  \n",
       "2020-01-22              0                     0  \n",
       "2020-01-22              0                     0  \n",
       "\n",
       "[14617 rows x 24 columns]"
      ]
     },
     "execution_count": 54,
     "metadata": {},
     "output_type": "execute_result"
    }
   ],
   "source": [
    "df_states = covid.get_df()\n",
    "df_states"
   ]
  },
  {
   "cell_type": "markdown",
   "metadata": {},
   "source": [
    "# APPENDIX"
   ]
  },
  {
   "cell_type": "code",
   "execution_count": 55,
   "metadata": {
    "ExecuteTime": {
     "end_time": "2020-11-19T23:14:02.241349Z",
     "start_time": "2020-11-19T23:14:02.084792Z"
    }
   },
   "outputs": [
    {
     "data": {
      "text/plain": [
       "36061    129\n",
       "36103    112\n",
       "36029     91\n",
       "36119     86\n",
       "36059     83\n",
       "        ... \n",
       "36123     16\n",
       "36035     15\n",
       "36099     15\n",
       "36041     14\n",
       "36085     14\n",
       "Name: STCOUNTYFP, Length: 62, dtype: int64"
      ]
     },
     "execution_count": 55,
     "metadata": {},
     "output_type": "execute_result"
    }
   ],
   "source": [
    "## Load in Fips Data\n",
    "fips = pd.read_csv('Reference Data/ZIP-COUNTY-FIPS_2018-03.csv')\n",
    "fips.groupby('STATE').get_group(\"NY\")['STCOUNTYFP'].value_counts()"
   ]
  },
  {
   "cell_type": "code",
   "execution_count": 56,
   "metadata": {
    "ExecuteTime": {
     "end_time": "2020-11-19T23:14:02.354028Z",
     "start_time": "2020-11-19T23:14:02.243157Z"
    }
   },
   "outputs": [
    {
     "data": {
      "text/html": [
       "<div>\n",
       "<style scoped>\n",
       "    .dataframe tbody tr th:only-of-type {\n",
       "        vertical-align: middle;\n",
       "    }\n",
       "\n",
       "    .dataframe tbody tr th {\n",
       "        vertical-align: top;\n",
       "    }\n",
       "\n",
       "    .dataframe thead th {\n",
       "        text-align: right;\n",
       "    }\n",
       "</style>\n",
       "<table border=\"1\" class=\"dataframe\">\n",
       "  <thead>\n",
       "    <tr style=\"text-align: right;\">\n",
       "      <th></th>\n",
       "      <th>ZIP</th>\n",
       "      <th>STCOUNTYFP</th>\n",
       "      <th>CITY</th>\n",
       "      <th>STATE</th>\n",
       "      <th>COUNTYNAME</th>\n",
       "      <th>CLASSFP</th>\n",
       "    </tr>\n",
       "  </thead>\n",
       "  <tbody>\n",
       "  </tbody>\n",
       "</table>\n",
       "</div>"
      ],
      "text/plain": [
       "Empty DataFrame\n",
       "Columns: [ZIP, STCOUNTYFP, CITY, STATE, COUNTYNAME, CLASSFP]\n",
       "Index: []"
      ]
     },
     "execution_count": 56,
     "metadata": {},
     "output_type": "execute_result"
    }
   ],
   "source": [
    "fips.loc[fips['STCOUNTYFP']==36]"
   ]
  },
  {
   "cell_type": "code",
   "execution_count": 57,
   "metadata": {
    "ExecuteTime": {
     "end_time": "2020-11-19T23:14:02.532525Z",
     "start_time": "2020-11-19T23:14:02.355783Z"
    }
   },
   "outputs": [
    {
     "ename": "AttributeError",
     "evalue": "'CovidTrackingProject' object has no attribute 'STATES'",
     "output_type": "error",
     "traceback": [
      "\u001b[0;31m---------------------------------------------------------------------------\u001b[0m",
      "\u001b[0;31mAttributeError\u001b[0m                            Traceback (most recent call last)",
      "\u001b[0;32m<ipython-input-57-88a7a21b2428>\u001b[0m in \u001b[0;36m<module>\u001b[0;34m\u001b[0m\n\u001b[0;32m----> 1\u001b[0;31m \u001b[0mdf\u001b[0m \u001b[0;34m=\u001b[0m \u001b[0mcovid\u001b[0m\u001b[0;34m.\u001b[0m\u001b[0mSTATES\u001b[0m\u001b[0;34m\u001b[0m\u001b[0;34m\u001b[0m\u001b[0m\n\u001b[0m\u001b[1;32m      2\u001b[0m \u001b[0mdf\u001b[0m\u001b[0;34m[\u001b[0m\u001b[0;34m'fips'\u001b[0m\u001b[0;34m]\u001b[0m\u001b[0;34m\u001b[0m\u001b[0;34m\u001b[0m\u001b[0m\n",
      "\u001b[0;31mAttributeError\u001b[0m: 'CovidTrackingProject' object has no attribute 'STATES'"
     ]
    }
   ],
   "source": [
    "\n",
    "df = covid.STATES\n",
    "df['fips']"
   ]
  },
  {
   "cell_type": "code",
   "execution_count": null,
   "metadata": {
    "ExecuteTime": {
     "end_time": "2020-11-19T23:14:02.534214Z",
     "start_time": "2020-11-19T23:13:54.677Z"
    }
   },
   "outputs": [],
   "source": [
    "# #     def __init__(self):\n",
    "# tracking = CovidTrackingProject()\n",
    "# states_daily = tracking.download_state_daily()\n",
    "# us_daily=tracking.download_us_daily()\n",
    "# state_meta = tracking.download_state_meta()\n",
    "# display(states_daily.head(),us_daily.head(),state_meta.head())"
   ]
  },
  {
   "cell_type": "code",
   "execution_count": null,
   "metadata": {
    "ExecuteTime": {
     "end_time": "2020-11-19T23:14:02.535412Z",
     "start_time": "2020-11-19T23:13:54.679Z"
    },
    "tags": []
   },
   "outputs": [],
   "source": [
    "# covid = CovidTrackingProject(download=True)\n",
    "# state_meta = covid.data['states_metadata']\n",
    "# states_daily = covid.data['states']\n",
    "# state_list = state_meta['state'].unique()\n",
    "# states_daily"
   ]
  },
  {
   "cell_type": "code",
   "execution_count": null,
   "metadata": {
    "ExecuteTime": {
     "end_time": "2020-11-19T23:14:02.536643Z",
     "start_time": "2020-11-19T23:13:54.683Z"
    }
   },
   "outputs": [],
   "source": [
    "from pandas_profiling import ProfileReport"
   ]
  },
  {
   "cell_type": "code",
   "execution_count": null,
   "metadata": {
    "ExecuteTime": {
     "end_time": "2020-11-19T23:14:02.537811Z",
     "start_time": "2020-11-19T23:13:54.685Z"
    },
    "scrolled": false
   },
   "outputs": [],
   "source": [
    "# report  = ProfileReport(states_daily)\n"
   ]
  },
  {
   "cell_type": "markdown",
   "metadata": {},
   "source": [
    "## NOTES: COLUMNS TO PLOT"
   ]
  },
  {
   "cell_type": "markdown",
   "metadata": {},
   "source": [
    "- Basic Stats:\n",
    "    - death: cumulative total people died\n",
    "    - positive: total number people positive so far\n",
    "    - negative\n",
    "    - recovered\n",
    "    \n",
    "\n",
    "- Hospitalization:\n",
    "    - hospitalizedCumulative: total number hospital so far(recovered and dead)\n",
    "    - hospitalizedCurrently: \n",
    "    - hospitalizedIncrease\n",
    "\n",
    "\n",
    "- ICU:\n",
    "    - inIcuCumulative: total number hospital so far(recovered and dead)\n",
    "    - inIcuCurrently: \n",
    "    \n",
    "- Ventilator \n",
    "    - onVentilatorCumulative\n",
    "    - onVentilatorCurrently\n"
   ]
  },
  {
   "cell_type": "code",
   "execution_count": null,
   "metadata": {
    "ExecuteTime": {
     "end_time": "2020-11-19T23:14:02.538771Z",
     "start_time": "2020-11-19T23:13:54.689Z"
    }
   },
   "outputs": [],
   "source": [
    "\n",
    "covid.columns"
   ]
  },
  {
   "cell_type": "code",
   "execution_count": null,
   "metadata": {
    "ExecuteTime": {
     "end_time": "2020-11-19T23:14:02.540013Z",
     "start_time": "2020-11-19T23:13:54.692Z"
    }
   },
   "outputs": [],
   "source": [
    "NY = states_daily.groupby('state').get_group('NY')[covid.columns['good']]\n",
    "NY"
   ]
  },
  {
   "cell_type": "code",
   "execution_count": null,
   "metadata": {},
   "outputs": [],
   "source": []
  },
  {
   "cell_type": "markdown",
   "metadata": {
    "ExecuteTime": {
     "end_time": "2020-07-02T02:06:25.776409Z",
     "start_time": "2020-07-02T02:06:25.774464Z"
    }
   },
   "source": [
    "## Folium"
   ]
  },
  {
   "cell_type": "code",
   "execution_count": null,
   "metadata": {
    "ExecuteTime": {
     "end_time": "2020-11-19T23:14:02.541182Z",
     "start_time": "2020-11-19T23:13:54.696Z"
    }
   },
   "outputs": [],
   "source": [
    "# import folium\n",
    "# center = (res.latitude,res.longitude) #(resp['region']['center']['latitude'],resp['region']['center']['longitude'])\n",
    "\n",
    "# popup = folium.Popup(f\"Latitude={center[0]}, Longitude={center[1]}\")\n",
    "# marker = folium.Marker(center,popup)\n",
    "# mymap = folium.Map(center)\n",
    "# marker.add_to(mymap)\n",
    "# mymap"
   ]
  }
 ],
 "metadata": {
  "file_extension": ".py",
  "kernelspec": {
   "display_name": "learn-env",
   "language": "python",
   "name": "learn-env"
  },
  "language_info": {
   "codemirror_mode": {
    "name": "ipython",
    "version": 3
   },
   "file_extension": ".py",
   "mimetype": "text/x-python",
   "name": "python",
   "nbconvert_exporter": "python",
   "pygments_lexer": "ipython3",
   "version": "3.6.11"
  },
  "mimetype": "text/x-python",
  "name": "python",
  "npconvert_exporter": "python",
  "pygments_lexer": "ipython3",
  "toc": {
   "base_numbering": 1,
   "nav_menu": {},
   "number_sections": false,
   "sideBar": true,
   "skip_h1_title": false,
   "title_cell": "Table of Contents",
   "title_sidebar": "Contents",
   "toc_cell": false,
   "toc_position": {
    "height": "calc(100% - 180px)",
    "left": "10px",
    "top": "150px",
    "width": "232.719px"
   },
   "toc_section_display": true,
   "toc_window_display": false
  },
  "version": 3,
  "widgets": {
   "application/vnd.jupyter.widget-state+json": {
    "state": {},
    "version_major": 2,
    "version_minor": 0
   }
  }
 },
 "nbformat": 4,
 "nbformat_minor": 2
}
