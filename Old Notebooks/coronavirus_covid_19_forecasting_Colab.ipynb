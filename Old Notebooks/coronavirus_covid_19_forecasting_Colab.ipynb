{
 "cells": [
  {
   "cell_type": "markdown",
   "metadata": {
    "id": "uOevMuZjQwwT"
   },
   "source": [
    "\n",
    "[![Open In Colab](https://colab.research.google.com/assets/colab-badge.svg)](https://colab.research.google.com/drive/1DCHPvDTzVKK_gp1n6tqV5q8f3CH-yups?usp=sharing)\n",
    "\n"
   ]
  },
  {
   "cell_type": "markdown",
   "metadata": {
    "id": "A-DATSDPqVQr"
   },
   "source": [
    "# Companion Notebook to `playing-with-coronavirus-data` \n",
    "- [GitHub Repo](https://github.com/jirvingphd/playing-with-coronavirus-data)\n",
    "- James M. Irivng, Ph.D.\n",
    "- james.irving.phd@gmail.com"
   ]
  },
  {
   "cell_type": "code",
   "execution_count": 7,
   "metadata": {
    "ExecuteTime": {
     "end_time": "2021-06-16T14:55:48.592895Z",
     "start_time": "2021-06-16T14:55:48.511740Z"
    },
    "colab": {
     "base_uri": "https://localhost:8080/"
    },
    "id": "vLOxx9K-i8oU",
    "outputId": "56dca539-24db-4ed9-f39b-c5e3fa82ad7d"
   },
   "outputs": [],
   "source": [
    "# !pip install fsds\n",
    "# !pip install pmdarima\n",
    "\n",
    "from fsds.imports import *"
   ]
  },
  {
   "cell_type": "code",
   "execution_count": 8,
   "metadata": {
    "ExecuteTime": {
     "end_time": "2021-06-16T14:55:48.991317Z",
     "start_time": "2021-06-16T14:55:48.904837Z"
    },
    "colab": {
     "base_uri": "https://localhost:8080/",
     "height": 17
    },
    "id": "zsLFwDQ3q0OP",
    "outputId": "0ae2cb54-5953-4449-dad1-4de7fd3500a6"
   },
   "outputs": [
    {
     "data": {
      "text/html": [
       "        <script type=\"text/javascript\">\n",
       "        window.PlotlyConfig = {MathJaxConfig: 'local'};\n",
       "        if (window.MathJax) {MathJax.Hub.Config({SVG: {font: \"STIX-Web\"}});}\n",
       "        if (typeof require !== 'undefined') {\n",
       "        require.undef(\"plotly\");\n",
       "        requirejs.config({\n",
       "            paths: {\n",
       "                'plotly': ['https://cdn.plot.ly/plotly-latest.min']\n",
       "            }\n",
       "        });\n",
       "        require(['plotly'], function(Plotly) {\n",
       "            window._Plotly = Plotly;\n",
       "        });\n",
       "        }\n",
       "        </script>\n",
       "        "
      ]
     },
     "metadata": {},
     "output_type": "display_data"
    },
    {
     "data": {
      "text/html": [
       "        <script type=\"text/javascript\">\n",
       "        window.PlotlyConfig = {MathJaxConfig: 'local'};\n",
       "        if (window.MathJax) {MathJax.Hub.Config({SVG: {font: \"STIX-Web\"}});}\n",
       "        if (typeof require !== 'undefined') {\n",
       "        require.undef(\"plotly\");\n",
       "        requirejs.config({\n",
       "            paths: {\n",
       "                'plotly': ['https://cdn.plot.ly/plotly-latest.min']\n",
       "            }\n",
       "        });\n",
       "        require(['plotly'], function(Plotly) {\n",
       "            window._Plotly = Plotly;\n",
       "        });\n",
       "        }\n",
       "        </script>\n",
       "        "
      ]
     },
     "metadata": {},
     "output_type": "display_data"
    }
   ],
   "source": [
    "import os,glob,sys\n",
    "import re\n",
    "\n",
    "import plotly.express as px\n",
    "import plotly.graph_objects as go\n",
    "import plotly.io as pio\n",
    "pio.templates.default = \"plotly_dark\"\n",
    "\n",
    "import cufflinks as cf\n",
    "cf.go_offline()\n",
    "cf.set_config_file(sharing='public',theme='solar',offline=True)\n",
    "\n",
    "plt.rcParams['figure.figsize'] = (12,6)"
   ]
  },
  {
   "cell_type": "code",
   "execution_count": 35,
   "metadata": {
    "ExecuteTime": {
     "end_time": "2021-06-16T15:05:36.863018Z",
     "start_time": "2021-06-16T15:05:36.813618Z"
    },
    "id": "lNrpEQmhenZF"
   },
   "outputs": [],
   "source": [
    "pd.set_option('display.max_columns',0)"
   ]
  },
  {
   "cell_type": "code",
   "execution_count": 36,
   "metadata": {
    "ExecuteTime": {
     "end_time": "2021-06-16T15:05:37.384249Z",
     "start_time": "2021-06-16T15:05:37.336047Z"
    },
    "colab": {
     "base_uri": "https://localhost:8080/"
    },
    "id": "tvjAxEW-eo1Z",
    "outputId": "b6466e3b-bbf0-41de-b23d-c77c52801ff6"
   },
   "outputs": [],
   "source": [
    "# from google.colab import drive\n",
    "# drive.mount('/gdrive')"
   ]
  },
  {
   "cell_type": "code",
   "execution_count": 37,
   "metadata": {
    "ExecuteTime": {
     "end_time": "2021-06-16T15:05:37.583459Z",
     "start_time": "2021-06-16T15:05:37.528949Z"
    },
    "id": "qxxQkPoFjgEI"
   },
   "outputs": [],
   "source": [
    "# import os\n",
    "\n",
    "# ## Setting Folder and Changing Directory\n",
    "# folder = r'/gdrive/MyDrive/Colab Notebooks - Personal'\n",
    "# os.chdir(folder)\n",
    "# # sorted(os.listdir())"
   ]
  },
  {
   "cell_type": "markdown",
   "metadata": {
    "id": "lop-Vzpk_2fw"
   },
   "source": [
    "### Clone GitHub Repo with Data Functions/Classes"
   ]
  },
  {
   "cell_type": "code",
   "execution_count": 38,
   "metadata": {
    "ExecuteTime": {
     "end_time": "2021-06-16T15:05:37.845036Z",
     "start_time": "2021-06-16T15:05:37.797401Z"
    },
    "colab": {
     "base_uri": "https://localhost:8080/"
    },
    "id": "4WWr_x-fjVi_",
    "outputId": "9b13dfa9-56ae-4a49-813d-b21d5fe14ecf"
   },
   "outputs": [],
   "source": [
    "# # Cloning Repository\n",
    "# url = 'https://github.com/jirvingphd/playing-with-coronavirus-data/'\n",
    "# !git clone {url}"
   ]
  },
  {
   "cell_type": "code",
   "execution_count": 39,
   "metadata": {
    "ExecuteTime": {
     "end_time": "2021-06-16T15:05:38.349900Z",
     "start_time": "2021-06-16T15:05:38.301828Z"
    },
    "colab": {
     "base_uri": "https://localhost:8080/"
    },
    "id": "iMhrltCIkEJu",
    "outputId": "5dbd6ddb-00da-4d0d-9b23-9b098688cc5c"
   },
   "outputs": [],
   "source": [
    "# os.chdir('playing-with-coronavirus-data/')\n",
    "# !git pull\n",
    "# sorted(os.listdir())"
   ]
  },
  {
   "cell_type": "code",
   "execution_count": 1,
   "metadata": {
    "ExecuteTime": {
     "end_time": "2021-07-11T18:20:08.251872Z",
     "start_time": "2021-07-11T18:20:05.381106Z"
    },
    "colab": {
     "base_uri": "https://localhost:8080/",
     "height": 17
    },
    "id": "KByhN6pykJGP",
    "outputId": "1f4e7776-0000-4dc1-de34-708ae6c2b925"
   },
   "outputs": [
    {
     "name": "stdout",
     "output_type": "stream",
     "text": [
      "fsds v0.3.2 loaded.  Read the docs: https://fs-ds.readthedocs.io/en/latest/ \n"
     ]
    },
    {
     "data": {
      "text/html": [
       "<style type=\"text/css\">\n",
       "</style>\n",
       "<table id=\"T_ae87b_\">\n",
       "  <caption>Loaded Packages and Handles</caption>\n",
       "  <thead>\n",
       "    <tr>\n",
       "      <th class=\"col_heading level0 col0\" >Handle</th>\n",
       "      <th class=\"col_heading level0 col1\" >Package</th>\n",
       "      <th class=\"col_heading level0 col2\" >Description</th>\n",
       "    </tr>\n",
       "  </thead>\n",
       "  <tbody>\n",
       "    <tr>\n",
       "      <td id=\"T_ae87b_row0_col0\" class=\"data row0 col0\" >dp</td>\n",
       "      <td id=\"T_ae87b_row0_col1\" class=\"data row0 col1\" >IPython.display</td>\n",
       "      <td id=\"T_ae87b_row0_col2\" class=\"data row0 col2\" >Display modules with helpful display and clearing commands.</td>\n",
       "    </tr>\n",
       "    <tr>\n",
       "      <td id=\"T_ae87b_row1_col0\" class=\"data row1 col0\" >fs</td>\n",
       "      <td id=\"T_ae87b_row1_col1\" class=\"data row1 col1\" >fsds</td>\n",
       "      <td id=\"T_ae87b_row1_col2\" class=\"data row1 col2\" >Custom data science bootcamp student package</td>\n",
       "    </tr>\n",
       "    <tr>\n",
       "      <td id=\"T_ae87b_row2_col0\" class=\"data row2 col0\" >mpl</td>\n",
       "      <td id=\"T_ae87b_row2_col1\" class=\"data row2 col1\" >matplotlib</td>\n",
       "      <td id=\"T_ae87b_row2_col2\" class=\"data row2 col2\" >Matplotlib's base OOP module with formatting artists</td>\n",
       "    </tr>\n",
       "    <tr>\n",
       "      <td id=\"T_ae87b_row3_col0\" class=\"data row3 col0\" >plt</td>\n",
       "      <td id=\"T_ae87b_row3_col1\" class=\"data row3 col1\" >matplotlib.pyplot</td>\n",
       "      <td id=\"T_ae87b_row3_col2\" class=\"data row3 col2\" >Matplotlib's matlab-like plotting module</td>\n",
       "    </tr>\n",
       "    <tr>\n",
       "      <td id=\"T_ae87b_row4_col0\" class=\"data row4 col0\" >np</td>\n",
       "      <td id=\"T_ae87b_row4_col1\" class=\"data row4 col1\" >numpy</td>\n",
       "      <td id=\"T_ae87b_row4_col2\" class=\"data row4 col2\" >scientific computing with Python</td>\n",
       "    </tr>\n",
       "    <tr>\n",
       "      <td id=\"T_ae87b_row5_col0\" class=\"data row5 col0\" >pd</td>\n",
       "      <td id=\"T_ae87b_row5_col1\" class=\"data row5 col1\" >pandas</td>\n",
       "      <td id=\"T_ae87b_row5_col2\" class=\"data row5 col2\" >High performance data structures and tools</td>\n",
       "    </tr>\n",
       "    <tr>\n",
       "      <td id=\"T_ae87b_row6_col0\" class=\"data row6 col0\" >sns</td>\n",
       "      <td id=\"T_ae87b_row6_col1\" class=\"data row6 col1\" >seaborn</td>\n",
       "      <td id=\"T_ae87b_row6_col2\" class=\"data row6 col2\" >High-level data visualization library based on matplotlib</td>\n",
       "    </tr>\n",
       "  </tbody>\n",
       "</table>\n"
      ],
      "text/plain": [
       "<pandas.io.formats.style.Styler at 0x7f9154e692b0>"
      ]
     },
     "metadata": {},
     "output_type": "display_data"
    },
    {
     "data": {
      "text/html": [
       "        <script type=\"text/javascript\">\n",
       "        window.PlotlyConfig = {MathJaxConfig: 'local'};\n",
       "        if (window.MathJax) {MathJax.Hub.Config({SVG: {font: \"STIX-Web\"}});}\n",
       "        if (typeof require !== 'undefined') {\n",
       "        require.undef(\"plotly\");\n",
       "        requirejs.config({\n",
       "            paths: {\n",
       "                'plotly': ['https://cdn.plot.ly/plotly-latest.min']\n",
       "            }\n",
       "        });\n",
       "        require(['plotly'], function(Plotly) {\n",
       "            window._Plotly = Plotly;\n",
       "        });\n",
       "        }\n",
       "        </script>\n",
       "        "
      ]
     },
     "metadata": {},
     "output_type": "display_data"
    },
    {
     "data": {
      "text/html": [
       "        <script type=\"text/javascript\">\n",
       "        window.PlotlyConfig = {MathJaxConfig: 'local'};\n",
       "        if (window.MathJax) {MathJax.Hub.Config({SVG: {font: \"STIX-Web\"}});}\n",
       "        if (typeof require !== 'undefined') {\n",
       "        require.undef(\"plotly\");\n",
       "        requirejs.config({\n",
       "            paths: {\n",
       "                'plotly': ['https://cdn.plot.ly/plotly-latest.min']\n",
       "            }\n",
       "        });\n",
       "        require(['plotly'], function(Plotly) {\n",
       "            window._Plotly = Plotly;\n",
       "        });\n",
       "        }\n",
       "        </script>\n",
       "        "
      ]
     },
     "metadata": {},
     "output_type": "display_data"
    },
    {
     "data": {
      "text/html": [
       "        <script type=\"text/javascript\">\n",
       "        window.PlotlyConfig = {MathJaxConfig: 'local'};\n",
       "        if (window.MathJax) {MathJax.Hub.Config({SVG: {font: \"STIX-Web\"}});}\n",
       "        if (typeof require !== 'undefined') {\n",
       "        require.undef(\"plotly\");\n",
       "        requirejs.config({\n",
       "            paths: {\n",
       "                'plotly': ['https://cdn.plot.ly/plotly-latest.min']\n",
       "            }\n",
       "        });\n",
       "        require(['plotly'], function(Plotly) {\n",
       "            window._Plotly = Plotly;\n",
       "        });\n",
       "        }\n",
       "        </script>\n",
       "        "
      ]
     },
     "metadata": {},
     "output_type": "display_data"
    },
    {
     "name": "stdout",
     "output_type": "stream",
     "text": [
      "Help on module functions:\n",
      "\n",
      "NAME\n",
      "    functions\n",
      "\n",
      "CLASSES\n",
      "    builtins.object\n",
      "        BaselineData\n",
      "            CoronaData\n",
      "            CovidTrackingProject\n",
      "    \n",
      "    class BaselineData(builtins.object)\n",
      "     |  #Make a base class\n",
      "     |  \n",
      "     |  Methods defined here:\n",
      "     |  \n",
      "     |  __repr__(self)\n",
      "     |      Return repr(self).\n",
      "     |  \n",
      "     |  __str__(self)\n",
      "     |      Return str(self).\n",
      "     |  \n",
      "     |  get_group_ts(self, group_name, group_col='state', ts_col=None, df=None, freq='D', agg_func='sum')\n",
      "     |      Take df_us and extracts state's data as then Freq/Aggregation provided\n",
      "     |  \n",
      "     |  ----------------------------------------------------------------------\n",
      "     |  Data descriptors defined here:\n",
      "     |  \n",
      "     |  __dict__\n",
      "     |      dictionary for instance variables (if defined)\n",
      "     |  \n",
      "     |  __weakref__\n",
      "     |      list of weak references to the object (if defined)\n",
      "     |  \n",
      "     |  df\n",
      "    \n",
      "    class CoronaData(BaselineData)\n",
      "     |  CoronaData(data_dir='New Data/', run_workflow=True, download=True, verbose=True)\n",
      "     |  \n",
      "     |  Dataset from the Novel Coronavirus Kaggle repo\n",
      "     |  \n",
      "     |  Args:\n",
      "     |      BaselineData (Base Class)\n",
      "     |  \n",
      "     |  Method resolution order:\n",
      "     |      CoronaData\n",
      "     |      BaselineData\n",
      "     |      builtins.object\n",
      "     |  \n",
      "     |  Methods defined here:\n",
      "     |  \n",
      "     |  __init__(self, data_dir='New Data/', run_workflow=True, download=True, verbose=True)\n",
      "     |      [summary]\n",
      "     |      \n",
      "     |      Args:\n",
      "     |          data_dir (str, optional): [description]. Defaults to 'New Data/'.\n",
      "     |          run_workflow (bool, optional): [description]. Defaults to True.\n",
      "     |          download (bool, optional): [description]. Defaults to True.\n",
      "     |          verbose (bool, optional): [description]. Defaults to True.\n",
      "     |  \n",
      "     |  calculate_per_capita(self, df_=None, stat_cols=['Confirmed', 'Deaths', 'Recovered'])\n",
      "     |      Calculate Per Capita columns\n",
      "     |  \n",
      "     |  download_coronavirus_data(self, path=None, verbose=None)\n",
      "     |      Installs the Kaggle Command Line Interface to clone dataset.\n",
      "     |      Then extracts dataset to specified path and displays name of main file.\n",
      "     |      Args:\n",
      "     |          path(str): Folder to extract dataset into (must end with a '/')\n",
      "     |      \n",
      "     |      Returns:\n",
      "     |          file_list(list): List of full filepaths to downloaded csv files.\n",
      "     |  \n",
      "     |  get_and_clean_US(self, df=None, make_date_index=True, per_capita=True)\n",
      "     |      Takes raw df loaded and extracts United States and processes\n",
      "     |      all state names to create new abbreviation column 'state'.\n",
      "     |  \n",
      "     |  get_data_fpath(self, path)\n",
      "     |      save self._file_list and self._main_file\n",
      "     |  \n",
      "     |  load_raw_df(self, fpath=None, kws={}, verbose=True)\n",
      "     |      Performs most basic of preprocessing, including renaming date column to \n",
      "     |      Date and dropping 'Last Update', and 'SNo' columns\n",
      "     |  \n",
      "     |  load_us_reference_info(self)\n",
      "     |      Return and save US Reference Data\n",
      "     |  \n",
      "     |  set_datetime_index(self, df_=None, col='Date')\n",
      "     |      Returns df with specified column as datetime index\n",
      "     |  \n",
      "     |  ----------------------------------------------------------------------\n",
      "     |  Methods inherited from BaselineData:\n",
      "     |  \n",
      "     |  __repr__(self)\n",
      "     |      Return repr(self).\n",
      "     |  \n",
      "     |  __str__(self)\n",
      "     |      Return str(self).\n",
      "     |  \n",
      "     |  get_group_ts(self, group_name, group_col='state', ts_col=None, df=None, freq='D', agg_func='sum')\n",
      "     |      Take df_us and extracts state's data as then Freq/Aggregation provided\n",
      "     |  \n",
      "     |  ----------------------------------------------------------------------\n",
      "     |  Data descriptors inherited from BaselineData:\n",
      "     |  \n",
      "     |  __dict__\n",
      "     |      dictionary for instance variables (if defined)\n",
      "     |  \n",
      "     |  __weakref__\n",
      "     |      list of weak references to the object (if defined)\n",
      "     |  \n",
      "     |  df\n",
      "    \n",
      "    class CovidTrackingProject(BaselineData)\n",
      "     |  CovidTrackingProject(base_folder='New Data/', download=True, verbose=True, df_type='states')\n",
      "     |  \n",
      "     |  Method resolution order:\n",
      "     |      CovidTrackingProject\n",
      "     |      BaselineData\n",
      "     |      builtins.object\n",
      "     |  \n",
      "     |  Methods defined here:\n",
      "     |  \n",
      "     |  __init__(self, base_folder='New Data/', download=True, verbose=True, df_type='states')\n",
      "     |      Initialize self.  See help(type(self)) for accurate signature.\n",
      "     |  \n",
      "     |  download_state_daily(self)\n",
      "     |  \n",
      "     |  download_state_meta(self)\n",
      "     |  \n",
      "     |  download_us_daily(self)\n",
      "     |  \n",
      "     |  get_csv_save_load(self, url, fpath, read_kws={'parse_dates': ['date']})\n",
      "     |  \n",
      "     |  get_df(self, which='states', remove_dep_cols=True)\n",
      "     |      Method for retrieving either df_states or df_us (default=df_states) with\n",
      "     |      deprecated columns removed by default. \n",
      "     |      \n",
      "     |      Args:\n",
      "     |          which (str, optional): Which df to return: 'us' or 'states'. Defaults to 'states'.\n",
      "     |      \n",
      "     |          remove_dep_cols (bool, optional): Remove deprecated columns. Defaults to True.\n",
      "     |      \n",
      "     |      Returns:\n",
      "     |          DataFrame: states or US dataframe\n",
      "     |  \n",
      "     |  help(self)\n",
      "     |  \n",
      "     |  ----------------------------------------------------------------------\n",
      "     |  Data and other attributes defined here:\n",
      "     |  \n",
      "     |  base_url = 'http://covidtracking.com'\n",
      "     |  \n",
      "     |  columns = {'deprecated': ['checkTimeEt', 'commercialScore', 'dateCheck...\n",
      "     |  \n",
      "     |  columns_us = {'deprecated': ['hospitalized', 'lastModified', 'total', ...\n",
      "     |  \n",
      "     |  urls = {'states': 'http://covidtracking.com/api/v1/states/daily.csv', ...\n",
      "     |  \n",
      "     |  ----------------------------------------------------------------------\n",
      "     |  Methods inherited from BaselineData:\n",
      "     |  \n",
      "     |  __repr__(self)\n",
      "     |      Return repr(self).\n",
      "     |  \n",
      "     |  __str__(self)\n",
      "     |      Return str(self).\n",
      "     |  \n",
      "     |  get_group_ts(self, group_name, group_col='state', ts_col=None, df=None, freq='D', agg_func='sum')\n",
      "     |      Take df_us and extracts state's data as then Freq/Aggregation provided\n",
      "     |  \n",
      "     |  ----------------------------------------------------------------------\n",
      "     |  Data descriptors inherited from BaselineData:\n",
      "     |  \n",
      "     |  __dict__\n",
      "     |      dictionary for instance variables (if defined)\n",
      "     |  \n",
      "     |  __weakref__\n",
      "     |      list of weak references to the object (if defined)\n",
      "     |  \n",
      "     |  df\n",
      "\n",
      "FUNCTIONS\n",
      "    download_coronavirus_data(path='New\\\\ Data/', verbose=False)\n",
      "        Installs the Kaggle Command Line Interface to clone dataset.\n",
      "        Then extracts dataset to specified path and displays name of main file.\n",
      "        Args:\n",
      "            path(str): Folder to extract dataset into (must end with a '/')\n",
      "            \n",
      "        Returns:\n",
      "            file_list(list): List of full filepaths to downloaded csv files.\n",
      "    \n",
      "    download_world_pop(data_folder='Reference Data/', load=True)\n",
      "        Downloads world pop zip from kaggle\n",
      "    \n",
      "    get_group_ts(df, group_name, group_col='state', ts_col=None, freq='D', agg_func='sum')\n",
      "        Take df_us and extracts state's data as then Freq/Aggregation provided\n",
      "    \n",
      "    get_state_ts(df, state_name, group_col='state', ts_col=None, freq='D', agg_func='sum')\n",
      "        Take df_us and extracts state's data as then Freq/Aggregation provided\n",
      "    \n",
      "    load_us_reference_info()\n",
      "        Return and save US Reference Data\n",
      "    \n",
      "    make_options(menu_choices)\n",
      "        Returns list of dictionary with {'label':menu_choice,'value':menu_choice}\n",
      "    \n",
      "    plot_group_ts(df, group_list, group_col, plot_cols=['Confirmed'], df_only=False, new_only=False, plot_scatter=True, show=False, width=1000, height=700)\n",
      "        Plots all columns conatining the words in plot_cols for every group in group_list.\n",
      "        Returns plotly figure\n",
      "        New as of 06/21\n",
      "    \n",
      "    plot_states(df, state_list, plot_cols=['Confirmed'], df_only=False, new_only=False, plot_scatter=True, show=False)\n",
      "        Plots the plot_cols for every state in state_list.\n",
      "        Returns plotly figure\n",
      "        New as of 06/21\n",
      "    \n",
      "    set_datetime_index(df_, col='Date', drop=True)\n",
      "        Returns df copy with specified column as datetime index\n",
      "    \n",
      "    set_freq_resample(df, date_col='Date', freq='D', agg_func='sum')\n",
      "        Resamples the dataframe with Freq and agg_func. If index is not\n",
      "        a datetime axis, will call set_datetime_index. \n",
      "        Helper function for get_group_ts\n",
      "\n",
      "FILE\n",
      "    /Users/jamesirving/Documents/GitHub/_MY_SIDE_PROJECTS/playing-with-coronavirus-data/functions.py\n",
      "\n",
      "\n"
     ]
    }
   ],
   "source": [
    "## Appending folder with functions\n",
    "%load_ext autoreload \n",
    "%autoreload 2\n",
    "import sys\n",
    "sys.path.append('.')\n",
    "\n",
    "import functions as fn\n",
    "help(fn)"
   ]
  },
  {
   "cell_type": "code",
   "execution_count": 41,
   "metadata": {
    "ExecuteTime": {
     "end_time": "2021-06-16T15:05:39.708240Z",
     "start_time": "2021-06-16T15:05:38.551947Z"
    }
   },
   "outputs": [
    {
     "name": "stdout",
     "output_type": "stream",
     "text": [
      "[i] DOWNLOADING DATASETS FROM COVID TRACKING PROJECT\n",
      "\thttps://covidtracking.com/data\n",
      "\t- File saved as: \"New Data/states_metadata.csv\"\n",
      "ERROR\n",
      "\t- File saved as: \"New Data/us.csv\"\n",
      "\t- File saved as: \"New Data/states.csv\"\n",
      "states\n"
     ]
    },
    {
     "data": {
      "text/plain": [
       "------------------------------------------------------------\n",
       "[i] CovidTrackingProject Contents:\n",
       "------------------------------------------------------------\n",
       "\n",
       "METHODS:\n",
       "\tdownload_state_daily\n",
       "\tdownload_state_meta\n",
       "\tdownload_us_daily\n",
       "\tget_csv_save_load\n",
       "\tget_df\n",
       "\tget_group_ts\n",
       "\thelp\n",
       "\n",
       "ATTRIBUTES\n",
       "\tbase_folder\n",
       "\tbase_url\n",
       "\tcolumns\n",
       "\tcolumns_us\n",
       "\tdf\n",
       "\tdf_states\n",
       "\tdf_us\n",
       "\turls"
      ]
     },
     "execution_count": 41,
     "metadata": {},
     "output_type": "execute_result"
    }
   ],
   "source": [
    "covid = fn.CovidTrackingProject(verbose=True)\n",
    "covid"
   ]
  },
  {
   "cell_type": "code",
   "execution_count": 45,
   "metadata": {
    "ExecuteTime": {
     "end_time": "2021-06-16T15:06:48.785852Z",
     "start_time": "2021-06-16T15:06:48.700278Z"
    }
   },
   "outputs": [],
   "source": [
    "# covid.df_states"
   ]
  },
  {
   "cell_type": "markdown",
   "metadata": {},
   "source": [
    "## Updating Workflow Due to CovidTracking Project API shutting down"
   ]
  },
  {
   "cell_type": "markdown",
   "metadata": {},
   "source": [
    "- Reverting to using Kaggle dataset. \n"
   ]
  },
  {
   "cell_type": "code",
   "execution_count": 14,
   "metadata": {
    "ExecuteTime": {
     "end_time": "2021-06-16T14:55:53.702508Z",
     "start_time": "2021-06-16T14:55:53.658495Z"
    }
   },
   "outputs": [
    {
     "name": "stdout",
     "output_type": "stream",
     "text": [
      "The autoreload extension is already loaded. To reload it, use:\n",
      "  %reload_ext autoreload\n"
     ]
    }
   ],
   "source": [
    "%load_ext autoreload \n",
    "%autoreload 2\n",
    "import coronavirus_functions as fn"
   ]
  },
  {
   "cell_type": "code",
   "execution_count": 15,
   "metadata": {
    "ExecuteTime": {
     "end_time": "2021-06-16T14:55:57.966652Z",
     "start_time": "2021-06-16T14:55:55.917165Z"
    }
   },
   "outputs": [
    {
     "name": "stdout",
     "output_type": "stream",
     "text": [
      "[i] DOWNLOADING DATA USING KAGGLE API\n",
      "\thttps://www.kaggle.com/sudalairajkumar/novel-corona-virus-2019-dataset\n",
      "\t- Downloaded dataset .zip and extracted to:\"New Data/\"\n",
      "\t- Extraction Complete.\n"
     ]
    },
    {
     "data": {
      "text/html": [
       "<div>\n",
       "<style scoped>\n",
       "    .dataframe tbody tr th:only-of-type {\n",
       "        vertical-align: middle;\n",
       "    }\n",
       "\n",
       "    .dataframe tbody tr th {\n",
       "        vertical-align: top;\n",
       "    }\n",
       "\n",
       "    .dataframe thead th {\n",
       "        text-align: right;\n",
       "    }\n",
       "</style>\n",
       "<table border=\"1\" class=\"dataframe\">\n",
       "  <thead>\n",
       "    <tr style=\"text-align: right;\">\n",
       "      <th></th>\n",
       "      <th>Date</th>\n",
       "      <th>Province/State</th>\n",
       "      <th>Country/Region</th>\n",
       "      <th>Confirmed</th>\n",
       "      <th>Deaths</th>\n",
       "      <th>Recovered</th>\n",
       "    </tr>\n",
       "  </thead>\n",
       "  <tbody>\n",
       "    <tr>\n",
       "      <th>0</th>\n",
       "      <td>2020-01-22</td>\n",
       "      <td>Anhui</td>\n",
       "      <td>Mainland China</td>\n",
       "      <td>1.0</td>\n",
       "      <td>0.0</td>\n",
       "      <td>0.0</td>\n",
       "    </tr>\n",
       "    <tr>\n",
       "      <th>1</th>\n",
       "      <td>2020-01-22</td>\n",
       "      <td>Beijing</td>\n",
       "      <td>Mainland China</td>\n",
       "      <td>14.0</td>\n",
       "      <td>0.0</td>\n",
       "      <td>0.0</td>\n",
       "    </tr>\n",
       "    <tr>\n",
       "      <th>2</th>\n",
       "      <td>2020-01-22</td>\n",
       "      <td>Chongqing</td>\n",
       "      <td>Mainland China</td>\n",
       "      <td>6.0</td>\n",
       "      <td>0.0</td>\n",
       "      <td>0.0</td>\n",
       "    </tr>\n",
       "    <tr>\n",
       "      <th>3</th>\n",
       "      <td>2020-01-22</td>\n",
       "      <td>Fujian</td>\n",
       "      <td>Mainland China</td>\n",
       "      <td>1.0</td>\n",
       "      <td>0.0</td>\n",
       "      <td>0.0</td>\n",
       "    </tr>\n",
       "    <tr>\n",
       "      <th>4</th>\n",
       "      <td>2020-01-22</td>\n",
       "      <td>Gansu</td>\n",
       "      <td>Mainland China</td>\n",
       "      <td>0.0</td>\n",
       "      <td>0.0</td>\n",
       "      <td>0.0</td>\n",
       "    </tr>\n",
       "  </tbody>\n",
       "</table>\n",
       "</div>"
      ],
      "text/plain": [
       "        Date Province/State  Country/Region  Confirmed  Deaths  Recovered\n",
       "0 2020-01-22          Anhui  Mainland China        1.0     0.0        0.0\n",
       "1 2020-01-22        Beijing  Mainland China       14.0     0.0        0.0\n",
       "2 2020-01-22      Chongqing  Mainland China        6.0     0.0        0.0\n",
       "3 2020-01-22         Fujian  Mainland China        1.0     0.0        0.0\n",
       "4 2020-01-22          Gansu  Mainland China        0.0     0.0        0.0"
      ]
     },
     "metadata": {},
     "output_type": "display_data"
    },
    {
     "name": "stdout",
     "output_type": "stream",
     "text": [
      "[i] There are 229 countries in the datatset\n",
      "[i] Dates Covered:\n",
      "\tFrom 01-22-2020 to 05-29-2021\n"
     ]
    },
    {
     "data": {
      "text/plain": [
       "------------------------------------------------------------\n",
       "[i] CovidTrackingProject Contents:\n",
       "------------------------------------------------------------\n",
       "\n",
       "METHODS:\n",
       "\tcalculate_per_capita\n",
       "\tdownload_coronavirus_data\n",
       "\tget_and_clean_US\n",
       "\tget_data_fpath\n",
       "\tget_group_ts\n",
       "\tload_raw_df\n",
       "\tload_us_reference_info\n",
       "\tset_datetime_index\n",
       "\n",
       "ATTRIBUTES\n",
       "\tSTATES\n",
       "\tdf\n",
       "\tdf_us\n",
       "\traw_df\n",
       "\treference_data"
      ]
     },
     "execution_count": 15,
     "metadata": {},
     "output_type": "execute_result"
    }
   ],
   "source": [
    "corona = fn.CoronaData(verbose=True,run_workflow=True)\n",
    "corona"
   ]
  },
  {
   "cell_type": "code",
   "execution_count": 22,
   "metadata": {
    "ExecuteTime": {
     "end_time": "2021-06-16T14:58:33.619492Z",
     "start_time": "2021-06-16T14:58:33.543025Z"
    }
   },
   "outputs": [
    {
     "data": {
      "text/html": [
       "<div>\n",
       "<style scoped>\n",
       "    .dataframe tbody tr th:only-of-type {\n",
       "        vertical-align: middle;\n",
       "    }\n",
       "\n",
       "    .dataframe tbody tr th {\n",
       "        vertical-align: top;\n",
       "    }\n",
       "\n",
       "    .dataframe thead th {\n",
       "        text-align: right;\n",
       "    }\n",
       "</style>\n",
       "<table border=\"1\" class=\"dataframe\">\n",
       "  <thead>\n",
       "    <tr style=\"text-align: right;\">\n",
       "      <th></th>\n",
       "      <th>SNo</th>\n",
       "      <th>ObservationDate</th>\n",
       "      <th>Province/State</th>\n",
       "      <th>Country/Region</th>\n",
       "      <th>Last Update</th>\n",
       "      <th>Confirmed</th>\n",
       "      <th>Deaths</th>\n",
       "      <th>Recovered</th>\n",
       "    </tr>\n",
       "  </thead>\n",
       "  <tbody>\n",
       "    <tr>\n",
       "      <th>0</th>\n",
       "      <td>1</td>\n",
       "      <td>2020-01-22</td>\n",
       "      <td>Anhui</td>\n",
       "      <td>Mainland China</td>\n",
       "      <td>2020-01-22 17:00:00</td>\n",
       "      <td>1.0</td>\n",
       "      <td>0.0</td>\n",
       "      <td>0.0</td>\n",
       "    </tr>\n",
       "    <tr>\n",
       "      <th>1</th>\n",
       "      <td>2</td>\n",
       "      <td>2020-01-22</td>\n",
       "      <td>Beijing</td>\n",
       "      <td>Mainland China</td>\n",
       "      <td>2020-01-22 17:00:00</td>\n",
       "      <td>14.0</td>\n",
       "      <td>0.0</td>\n",
       "      <td>0.0</td>\n",
       "    </tr>\n",
       "    <tr>\n",
       "      <th>2</th>\n",
       "      <td>3</td>\n",
       "      <td>2020-01-22</td>\n",
       "      <td>Chongqing</td>\n",
       "      <td>Mainland China</td>\n",
       "      <td>2020-01-22 17:00:00</td>\n",
       "      <td>6.0</td>\n",
       "      <td>0.0</td>\n",
       "      <td>0.0</td>\n",
       "    </tr>\n",
       "    <tr>\n",
       "      <th>3</th>\n",
       "      <td>4</td>\n",
       "      <td>2020-01-22</td>\n",
       "      <td>Fujian</td>\n",
       "      <td>Mainland China</td>\n",
       "      <td>2020-01-22 17:00:00</td>\n",
       "      <td>1.0</td>\n",
       "      <td>0.0</td>\n",
       "      <td>0.0</td>\n",
       "    </tr>\n",
       "    <tr>\n",
       "      <th>4</th>\n",
       "      <td>5</td>\n",
       "      <td>2020-01-22</td>\n",
       "      <td>Gansu</td>\n",
       "      <td>Mainland China</td>\n",
       "      <td>2020-01-22 17:00:00</td>\n",
       "      <td>0.0</td>\n",
       "      <td>0.0</td>\n",
       "      <td>0.0</td>\n",
       "    </tr>\n",
       "    <tr>\n",
       "      <th>...</th>\n",
       "      <td>...</td>\n",
       "      <td>...</td>\n",
       "      <td>...</td>\n",
       "      <td>...</td>\n",
       "      <td>...</td>\n",
       "      <td>...</td>\n",
       "      <td>...</td>\n",
       "      <td>...</td>\n",
       "    </tr>\n",
       "    <tr>\n",
       "      <th>306424</th>\n",
       "      <td>306425</td>\n",
       "      <td>2021-05-29</td>\n",
       "      <td>Zaporizhia Oblast</td>\n",
       "      <td>Ukraine</td>\n",
       "      <td>2021-05-30 04:20:55</td>\n",
       "      <td>102641.0</td>\n",
       "      <td>2335.0</td>\n",
       "      <td>95289.0</td>\n",
       "    </tr>\n",
       "    <tr>\n",
       "      <th>306425</th>\n",
       "      <td>306426</td>\n",
       "      <td>2021-05-29</td>\n",
       "      <td>Zeeland</td>\n",
       "      <td>Netherlands</td>\n",
       "      <td>2021-05-30 04:20:55</td>\n",
       "      <td>29147.0</td>\n",
       "      <td>245.0</td>\n",
       "      <td>0.0</td>\n",
       "    </tr>\n",
       "    <tr>\n",
       "      <th>306426</th>\n",
       "      <td>306427</td>\n",
       "      <td>2021-05-29</td>\n",
       "      <td>Zhejiang</td>\n",
       "      <td>Mainland China</td>\n",
       "      <td>2021-05-30 04:20:55</td>\n",
       "      <td>1364.0</td>\n",
       "      <td>1.0</td>\n",
       "      <td>1324.0</td>\n",
       "    </tr>\n",
       "    <tr>\n",
       "      <th>306427</th>\n",
       "      <td>306428</td>\n",
       "      <td>2021-05-29</td>\n",
       "      <td>Zhytomyr Oblast</td>\n",
       "      <td>Ukraine</td>\n",
       "      <td>2021-05-30 04:20:55</td>\n",
       "      <td>87550.0</td>\n",
       "      <td>1738.0</td>\n",
       "      <td>83790.0</td>\n",
       "    </tr>\n",
       "    <tr>\n",
       "      <th>306428</th>\n",
       "      <td>306429</td>\n",
       "      <td>2021-05-29</td>\n",
       "      <td>Zuid-Holland</td>\n",
       "      <td>Netherlands</td>\n",
       "      <td>2021-05-30 04:20:55</td>\n",
       "      <td>391559.0</td>\n",
       "      <td>4252.0</td>\n",
       "      <td>0.0</td>\n",
       "    </tr>\n",
       "  </tbody>\n",
       "</table>\n",
       "<p>306429 rows × 8 columns</p>\n",
       "</div>"
      ],
      "text/plain": [
       "           SNo ObservationDate     Province/State  Country/Region  \\\n",
       "0            1      2020-01-22              Anhui  Mainland China   \n",
       "1            2      2020-01-22            Beijing  Mainland China   \n",
       "2            3      2020-01-22          Chongqing  Mainland China   \n",
       "3            4      2020-01-22             Fujian  Mainland China   \n",
       "4            5      2020-01-22              Gansu  Mainland China   \n",
       "...        ...             ...                ...             ...   \n",
       "306424  306425      2021-05-29  Zaporizhia Oblast         Ukraine   \n",
       "306425  306426      2021-05-29            Zeeland     Netherlands   \n",
       "306426  306427      2021-05-29           Zhejiang  Mainland China   \n",
       "306427  306428      2021-05-29    Zhytomyr Oblast         Ukraine   \n",
       "306428  306429      2021-05-29       Zuid-Holland     Netherlands   \n",
       "\n",
       "               Last Update  Confirmed  Deaths  Recovered  \n",
       "0      2020-01-22 17:00:00        1.0     0.0        0.0  \n",
       "1      2020-01-22 17:00:00       14.0     0.0        0.0  \n",
       "2      2020-01-22 17:00:00        6.0     0.0        0.0  \n",
       "3      2020-01-22 17:00:00        1.0     0.0        0.0  \n",
       "4      2020-01-22 17:00:00        0.0     0.0        0.0  \n",
       "...                    ...        ...     ...        ...  \n",
       "306424 2021-05-30 04:20:55   102641.0  2335.0    95289.0  \n",
       "306425 2021-05-30 04:20:55    29147.0   245.0        0.0  \n",
       "306426 2021-05-30 04:20:55     1364.0     1.0     1324.0  \n",
       "306427 2021-05-30 04:20:55    87550.0  1738.0    83790.0  \n",
       "306428 2021-05-30 04:20:55   391559.0  4252.0        0.0  \n",
       "\n",
       "[306429 rows x 8 columns]"
      ]
     },
     "execution_count": 22,
     "metadata": {},
     "output_type": "execute_result"
    }
   ],
   "source": [
    "## Original Raw Df at download\n",
    "corona.raw_df"
   ]
  },
  {
   "cell_type": "code",
   "execution_count": 23,
   "metadata": {
    "ExecuteTime": {
     "end_time": "2021-06-16T14:58:51.222064Z",
     "start_time": "2021-06-16T14:58:51.151852Z"
    }
   },
   "outputs": [
    {
     "data": {
      "text/html": [
       "<div>\n",
       "<style scoped>\n",
       "    .dataframe tbody tr th:only-of-type {\n",
       "        vertical-align: middle;\n",
       "    }\n",
       "\n",
       "    .dataframe tbody tr th {\n",
       "        vertical-align: top;\n",
       "    }\n",
       "\n",
       "    .dataframe thead th {\n",
       "        text-align: right;\n",
       "    }\n",
       "</style>\n",
       "<table border=\"1\" class=\"dataframe\">\n",
       "  <thead>\n",
       "    <tr style=\"text-align: right;\">\n",
       "      <th></th>\n",
       "      <th>Date</th>\n",
       "      <th>Province/State</th>\n",
       "      <th>Country/Region</th>\n",
       "      <th>Confirmed</th>\n",
       "      <th>Deaths</th>\n",
       "      <th>Recovered</th>\n",
       "    </tr>\n",
       "  </thead>\n",
       "  <tbody>\n",
       "    <tr>\n",
       "      <th>0</th>\n",
       "      <td>2020-01-22</td>\n",
       "      <td>Anhui</td>\n",
       "      <td>Mainland China</td>\n",
       "      <td>1.0</td>\n",
       "      <td>0.0</td>\n",
       "      <td>0.0</td>\n",
       "    </tr>\n",
       "    <tr>\n",
       "      <th>1</th>\n",
       "      <td>2020-01-22</td>\n",
       "      <td>Beijing</td>\n",
       "      <td>Mainland China</td>\n",
       "      <td>14.0</td>\n",
       "      <td>0.0</td>\n",
       "      <td>0.0</td>\n",
       "    </tr>\n",
       "    <tr>\n",
       "      <th>2</th>\n",
       "      <td>2020-01-22</td>\n",
       "      <td>Chongqing</td>\n",
       "      <td>Mainland China</td>\n",
       "      <td>6.0</td>\n",
       "      <td>0.0</td>\n",
       "      <td>0.0</td>\n",
       "    </tr>\n",
       "    <tr>\n",
       "      <th>3</th>\n",
       "      <td>2020-01-22</td>\n",
       "      <td>Fujian</td>\n",
       "      <td>Mainland China</td>\n",
       "      <td>1.0</td>\n",
       "      <td>0.0</td>\n",
       "      <td>0.0</td>\n",
       "    </tr>\n",
       "    <tr>\n",
       "      <th>4</th>\n",
       "      <td>2020-01-22</td>\n",
       "      <td>Gansu</td>\n",
       "      <td>Mainland China</td>\n",
       "      <td>0.0</td>\n",
       "      <td>0.0</td>\n",
       "      <td>0.0</td>\n",
       "    </tr>\n",
       "    <tr>\n",
       "      <th>...</th>\n",
       "      <td>...</td>\n",
       "      <td>...</td>\n",
       "      <td>...</td>\n",
       "      <td>...</td>\n",
       "      <td>...</td>\n",
       "      <td>...</td>\n",
       "    </tr>\n",
       "    <tr>\n",
       "      <th>306424</th>\n",
       "      <td>2021-05-29</td>\n",
       "      <td>Zaporizhia Oblast</td>\n",
       "      <td>Ukraine</td>\n",
       "      <td>102641.0</td>\n",
       "      <td>2335.0</td>\n",
       "      <td>95289.0</td>\n",
       "    </tr>\n",
       "    <tr>\n",
       "      <th>306425</th>\n",
       "      <td>2021-05-29</td>\n",
       "      <td>Zeeland</td>\n",
       "      <td>Netherlands</td>\n",
       "      <td>29147.0</td>\n",
       "      <td>245.0</td>\n",
       "      <td>0.0</td>\n",
       "    </tr>\n",
       "    <tr>\n",
       "      <th>306426</th>\n",
       "      <td>2021-05-29</td>\n",
       "      <td>Zhejiang</td>\n",
       "      <td>Mainland China</td>\n",
       "      <td>1364.0</td>\n",
       "      <td>1.0</td>\n",
       "      <td>1324.0</td>\n",
       "    </tr>\n",
       "    <tr>\n",
       "      <th>306427</th>\n",
       "      <td>2021-05-29</td>\n",
       "      <td>Zhytomyr Oblast</td>\n",
       "      <td>Ukraine</td>\n",
       "      <td>87550.0</td>\n",
       "      <td>1738.0</td>\n",
       "      <td>83790.0</td>\n",
       "    </tr>\n",
       "    <tr>\n",
       "      <th>306428</th>\n",
       "      <td>2021-05-29</td>\n",
       "      <td>Zuid-Holland</td>\n",
       "      <td>Netherlands</td>\n",
       "      <td>391559.0</td>\n",
       "      <td>4252.0</td>\n",
       "      <td>0.0</td>\n",
       "    </tr>\n",
       "  </tbody>\n",
       "</table>\n",
       "<p>306429 rows × 6 columns</p>\n",
       "</div>"
      ],
      "text/plain": [
       "             Date     Province/State  Country/Region  Confirmed  Deaths  \\\n",
       "0      2020-01-22              Anhui  Mainland China        1.0     0.0   \n",
       "1      2020-01-22            Beijing  Mainland China       14.0     0.0   \n",
       "2      2020-01-22          Chongqing  Mainland China        6.0     0.0   \n",
       "3      2020-01-22             Fujian  Mainland China        1.0     0.0   \n",
       "4      2020-01-22              Gansu  Mainland China        0.0     0.0   \n",
       "...           ...                ...             ...        ...     ...   \n",
       "306424 2021-05-29  Zaporizhia Oblast         Ukraine   102641.0  2335.0   \n",
       "306425 2021-05-29            Zeeland     Netherlands    29147.0   245.0   \n",
       "306426 2021-05-29           Zhejiang  Mainland China     1364.0     1.0   \n",
       "306427 2021-05-29    Zhytomyr Oblast         Ukraine    87550.0  1738.0   \n",
       "306428 2021-05-29       Zuid-Holland     Netherlands   391559.0  4252.0   \n",
       "\n",
       "        Recovered  \n",
       "0             0.0  \n",
       "1             0.0  \n",
       "2             0.0  \n",
       "3             0.0  \n",
       "4             0.0  \n",
       "...           ...  \n",
       "306424    95289.0  \n",
       "306425        0.0  \n",
       "306426     1324.0  \n",
       "306427    83790.0  \n",
       "306428        0.0  \n",
       "\n",
       "[306429 rows x 6 columns]"
      ]
     },
     "execution_count": 23,
     "metadata": {},
     "output_type": "execute_result"
    }
   ],
   "source": [
    "## Cleaned up df (entire world)\n",
    "corona.df"
   ]
  },
  {
   "cell_type": "code",
   "execution_count": 46,
   "metadata": {
    "ExecuteTime": {
     "end_time": "2021-06-16T15:07:03.395972Z",
     "start_time": "2021-06-16T15:07:03.319113Z"
    }
   },
   "outputs": [
    {
     "data": {
      "text/html": [
       "<div>\n",
       "<style scoped>\n",
       "    .dataframe tbody tr th:only-of-type {\n",
       "        vertical-align: middle;\n",
       "    }\n",
       "\n",
       "    .dataframe tbody tr th {\n",
       "        vertical-align: top;\n",
       "    }\n",
       "\n",
       "    .dataframe thead th {\n",
       "        text-align: right;\n",
       "    }\n",
       "</style>\n",
       "<table border=\"1\" class=\"dataframe\">\n",
       "  <thead>\n",
       "    <tr style=\"text-align: right;\">\n",
       "      <th></th>\n",
       "      <th>Province/State</th>\n",
       "      <th>Country/Region</th>\n",
       "      <th>Confirmed</th>\n",
       "      <th>Deaths</th>\n",
       "      <th>Recovered</th>\n",
       "      <th>state</th>\n",
       "      <th>Confirmed Per Capita</th>\n",
       "      <th>Deaths Per Capita</th>\n",
       "      <th>Recovered Per Capita</th>\n",
       "    </tr>\n",
       "    <tr>\n",
       "      <th>Date</th>\n",
       "      <th></th>\n",
       "      <th></th>\n",
       "      <th></th>\n",
       "      <th></th>\n",
       "      <th></th>\n",
       "      <th></th>\n",
       "      <th></th>\n",
       "      <th></th>\n",
       "      <th></th>\n",
       "    </tr>\n",
       "  </thead>\n",
       "  <tbody>\n",
       "    <tr>\n",
       "      <th>2020-01-22</th>\n",
       "      <td>Washington</td>\n",
       "      <td>US</td>\n",
       "      <td>1.0</td>\n",
       "      <td>0.0</td>\n",
       "      <td>0.0</td>\n",
       "      <td>WA</td>\n",
       "      <td>1.313216e-07</td>\n",
       "      <td>0.000000</td>\n",
       "      <td>0.0</td>\n",
       "    </tr>\n",
       "    <tr>\n",
       "      <th>2020-01-23</th>\n",
       "      <td>Washington</td>\n",
       "      <td>US</td>\n",
       "      <td>1.0</td>\n",
       "      <td>0.0</td>\n",
       "      <td>0.0</td>\n",
       "      <td>WA</td>\n",
       "      <td>1.313216e-07</td>\n",
       "      <td>0.000000</td>\n",
       "      <td>0.0</td>\n",
       "    </tr>\n",
       "    <tr>\n",
       "      <th>2020-01-24</th>\n",
       "      <td>Washington</td>\n",
       "      <td>US</td>\n",
       "      <td>1.0</td>\n",
       "      <td>0.0</td>\n",
       "      <td>0.0</td>\n",
       "      <td>WA</td>\n",
       "      <td>1.313216e-07</td>\n",
       "      <td>0.000000</td>\n",
       "      <td>0.0</td>\n",
       "    </tr>\n",
       "    <tr>\n",
       "      <th>2020-01-25</th>\n",
       "      <td>Washington</td>\n",
       "      <td>US</td>\n",
       "      <td>1.0</td>\n",
       "      <td>0.0</td>\n",
       "      <td>0.0</td>\n",
       "      <td>WA</td>\n",
       "      <td>1.313216e-07</td>\n",
       "      <td>0.000000</td>\n",
       "      <td>0.0</td>\n",
       "    </tr>\n",
       "    <tr>\n",
       "      <th>2020-01-26</th>\n",
       "      <td>Washington</td>\n",
       "      <td>US</td>\n",
       "      <td>1.0</td>\n",
       "      <td>0.0</td>\n",
       "      <td>0.0</td>\n",
       "      <td>WA</td>\n",
       "      <td>1.313216e-07</td>\n",
       "      <td>0.000000</td>\n",
       "      <td>0.0</td>\n",
       "    </tr>\n",
       "    <tr>\n",
       "      <th>...</th>\n",
       "      <td>...</td>\n",
       "      <td>...</td>\n",
       "      <td>...</td>\n",
       "      <td>...</td>\n",
       "      <td>...</td>\n",
       "      <td>...</td>\n",
       "      <td>...</td>\n",
       "      <td>...</td>\n",
       "      <td>...</td>\n",
       "    </tr>\n",
       "    <tr>\n",
       "      <th>2021-05-25</th>\n",
       "      <td>Puerto Rico</td>\n",
       "      <td>US</td>\n",
       "      <td>138094.0</td>\n",
       "      <td>2483.0</td>\n",
       "      <td>0.0</td>\n",
       "      <td>PR</td>\n",
       "      <td>4.323958e-02</td>\n",
       "      <td>0.000777</td>\n",
       "      <td>0.0</td>\n",
       "    </tr>\n",
       "    <tr>\n",
       "      <th>2021-05-26</th>\n",
       "      <td>Puerto Rico</td>\n",
       "      <td>US</td>\n",
       "      <td>138217.0</td>\n",
       "      <td>2489.0</td>\n",
       "      <td>0.0</td>\n",
       "      <td>PR</td>\n",
       "      <td>4.327810e-02</td>\n",
       "      <td>0.000779</td>\n",
       "      <td>0.0</td>\n",
       "    </tr>\n",
       "    <tr>\n",
       "      <th>2021-05-27</th>\n",
       "      <td>Puerto Rico</td>\n",
       "      <td>US</td>\n",
       "      <td>138355.0</td>\n",
       "      <td>2495.0</td>\n",
       "      <td>0.0</td>\n",
       "      <td>PR</td>\n",
       "      <td>4.332131e-02</td>\n",
       "      <td>0.000781</td>\n",
       "      <td>0.0</td>\n",
       "    </tr>\n",
       "    <tr>\n",
       "      <th>2021-05-28</th>\n",
       "      <td>Puerto Rico</td>\n",
       "      <td>US</td>\n",
       "      <td>138485.0</td>\n",
       "      <td>2499.0</td>\n",
       "      <td>0.0</td>\n",
       "      <td>PR</td>\n",
       "      <td>4.336201e-02</td>\n",
       "      <td>0.000782</td>\n",
       "      <td>0.0</td>\n",
       "    </tr>\n",
       "    <tr>\n",
       "      <th>2021-05-29</th>\n",
       "      <td>Puerto Rico</td>\n",
       "      <td>US</td>\n",
       "      <td>138579.0</td>\n",
       "      <td>2501.0</td>\n",
       "      <td>0.0</td>\n",
       "      <td>PR</td>\n",
       "      <td>4.339145e-02</td>\n",
       "      <td>0.000783</td>\n",
       "      <td>0.0</td>\n",
       "    </tr>\n",
       "  </tbody>\n",
       "</table>\n",
       "<p>24065 rows × 9 columns</p>\n",
       "</div>"
      ],
      "text/plain": [
       "           Province/State  ... Recovered Per Capita\n",
       "Date                       ...                     \n",
       "2020-01-22     Washington  ...                  0.0\n",
       "2020-01-23     Washington  ...                  0.0\n",
       "2020-01-24     Washington  ...                  0.0\n",
       "2020-01-25     Washington  ...                  0.0\n",
       "2020-01-26     Washington  ...                  0.0\n",
       "...                   ...  ...                  ...\n",
       "2021-05-25    Puerto Rico  ...                  0.0\n",
       "2021-05-26    Puerto Rico  ...                  0.0\n",
       "2021-05-27    Puerto Rico  ...                  0.0\n",
       "2021-05-28    Puerto Rico  ...                  0.0\n",
       "2021-05-29    Puerto Rico  ...                  0.0\n",
       "\n",
       "[24065 rows x 9 columns]"
      ]
     },
     "execution_count": 46,
     "metadata": {},
     "output_type": "execute_result"
    }
   ],
   "source": [
    "## save us data\n",
    "df = corona.df_us.copy()\n",
    "df"
   ]
  },
  {
   "cell_type": "code",
   "execution_count": 54,
   "metadata": {
    "ExecuteTime": {
     "end_time": "2021-06-16T15:08:38.432867Z",
     "start_time": "2021-06-16T15:08:38.380544Z"
    }
   },
   "outputs": [
    {
     "name": "stdout",
     "output_type": "stream",
     "text": [
      "['AK', 'AL', 'AR', 'AZ', 'CA']\n"
     ]
    },
    {
     "data": {
      "text/plain": [
       "52"
      ]
     },
     "execution_count": 54,
     "metadata": {},
     "output_type": "execute_result"
    }
   ],
   "source": [
    "## Get list of all states\n",
    "state_list = sorted(df[\"state\"].unique())\n",
    "print(state_list[:5])\n",
    "len(state_list) # + Peurto Rico and...?"
   ]
  },
  {
   "cell_type": "code",
   "execution_count": 61,
   "metadata": {
    "ExecuteTime": {
     "end_time": "2021-06-16T15:12:55.929836Z",
     "start_time": "2021-06-16T15:12:55.868679Z"
    }
   },
   "outputs": [
    {
     "data": {
      "text/plain": [
       "{'Confirmed': Date\n",
       " 2020-03-06         3.0\n",
       " 2020-03-07         3.0\n",
       " 2020-03-08         1.0\n",
       " 2020-03-09         1.0\n",
       " 2020-03-10         8.0\n",
       "                 ...   \n",
       " 2021-05-25    458680.0\n",
       " 2021-05-26    458878.0\n",
       " 2021-05-27    459095.0\n",
       " 2021-05-28    459343.0\n",
       " 2021-05-29    459528.0\n",
       " Freq: D, Name: MD-Confirmed, Length: 450, dtype: float64,\n",
       " 'Deaths': Date\n",
       " 2020-03-06       0.0\n",
       " 2020-03-07       0.0\n",
       " 2020-03-08       0.0\n",
       " 2020-03-09       0.0\n",
       " 2020-03-10       0.0\n",
       "                ...  \n",
       " 2021-05-25    9029.0\n",
       " 2021-05-26    9037.0\n",
       " 2021-05-27    9581.0\n",
       " 2021-05-28    9592.0\n",
       " 2021-05-29    9599.0\n",
       " Freq: D, Name: MD-Deaths, Length: 450, dtype: float64,\n",
       " 'Recovered': Date\n",
       " 2020-03-06    0.0\n",
       " 2020-03-07    0.0\n",
       " 2020-03-08    0.0\n",
       " 2020-03-09    0.0\n",
       " 2020-03-10    0.0\n",
       "              ... \n",
       " 2021-05-25    0.0\n",
       " 2021-05-26    0.0\n",
       " 2021-05-27    0.0\n",
       " 2021-05-28    0.0\n",
       " 2021-05-29    0.0\n",
       " Freq: D, Name: MD-Recovered, Length: 450, dtype: float64}"
      ]
     },
     "execution_count": 61,
     "metadata": {},
     "output_type": "execute_result"
    }
   ],
   "source": [
    "state = 'MD'\n",
    "cols_to_grab = ['Confirmed','Deaths','Recovered']\n",
    "\n",
    "## Get df for curr state and resample, keeping the last point for each day\n",
    "state_df = df.loc[df['state']==state]\n",
    "state_df = state_df.resample('D').last()\n",
    "\n",
    "## save each col into its own dict key\n",
    "state_ts_dict = {}\n",
    "for col in cols_to_grab:\n",
    "    curr_ts = state_df[col].rename(f\"{state}-{col}\")\n",
    "    state_ts_dict[col] = curr_ts\n",
    "state_ts_dict"
   ]
  },
  {
   "cell_type": "code",
   "execution_count": 71,
   "metadata": {
    "ExecuteTime": {
     "end_time": "2021-06-16T15:18:21.586418Z",
     "start_time": "2021-06-16T15:18:21.241743Z"
    }
   },
   "outputs": [],
   "source": [
    "cols_to_grab = ['Confirmed','Deaths','Recovered']\n",
    "state_data = {}\n",
    "for state in state_list:\n",
    "\n",
    "    ## Get df for curr state and resample, keeping the last point for each day\n",
    "    state_df = df.loc[df['state']==state]\n",
    "    state_df = state_df.resample('D').last()\n",
    "\n",
    "    ## save each col into its own dict key\n",
    "    state_ts_dict = {}\n",
    "    for col in cols_to_grab:\n",
    "        curr_ts = state_df[col].rename(f\"{state}-{col}\")\n",
    "        state_ts_dict[col] = curr_ts\n",
    "    state_data[state] = pd.DataFrame(state_ts_dict)"
   ]
  },
  {
   "cell_type": "code",
   "execution_count": 72,
   "metadata": {
    "ExecuteTime": {
     "end_time": "2021-06-16T15:18:21.746309Z",
     "start_time": "2021-06-16T15:18:21.686015Z"
    }
   },
   "outputs": [
    {
     "data": {
      "text/html": [
       "<div>\n",
       "<style scoped>\n",
       "    .dataframe tbody tr th:only-of-type {\n",
       "        vertical-align: middle;\n",
       "    }\n",
       "\n",
       "    .dataframe tbody tr th {\n",
       "        vertical-align: top;\n",
       "    }\n",
       "\n",
       "    .dataframe thead th {\n",
       "        text-align: right;\n",
       "    }\n",
       "</style>\n",
       "<table border=\"1\" class=\"dataframe\">\n",
       "  <thead>\n",
       "    <tr style=\"text-align: right;\">\n",
       "      <th></th>\n",
       "      <th>Confirmed</th>\n",
       "      <th>Deaths</th>\n",
       "      <th>Recovered</th>\n",
       "    </tr>\n",
       "    <tr>\n",
       "      <th>Date</th>\n",
       "      <th></th>\n",
       "      <th></th>\n",
       "      <th></th>\n",
       "    </tr>\n",
       "  </thead>\n",
       "  <tbody>\n",
       "    <tr>\n",
       "      <th>2020-03-06</th>\n",
       "      <td>3.0</td>\n",
       "      <td>0.0</td>\n",
       "      <td>0.0</td>\n",
       "    </tr>\n",
       "    <tr>\n",
       "      <th>2020-03-07</th>\n",
       "      <td>3.0</td>\n",
       "      <td>0.0</td>\n",
       "      <td>0.0</td>\n",
       "    </tr>\n",
       "    <tr>\n",
       "      <th>2020-03-08</th>\n",
       "      <td>1.0</td>\n",
       "      <td>0.0</td>\n",
       "      <td>0.0</td>\n",
       "    </tr>\n",
       "    <tr>\n",
       "      <th>2020-03-09</th>\n",
       "      <td>1.0</td>\n",
       "      <td>0.0</td>\n",
       "      <td>0.0</td>\n",
       "    </tr>\n",
       "    <tr>\n",
       "      <th>2020-03-10</th>\n",
       "      <td>8.0</td>\n",
       "      <td>0.0</td>\n",
       "      <td>0.0</td>\n",
       "    </tr>\n",
       "    <tr>\n",
       "      <th>...</th>\n",
       "      <td>...</td>\n",
       "      <td>...</td>\n",
       "      <td>...</td>\n",
       "    </tr>\n",
       "    <tr>\n",
       "      <th>2021-05-25</th>\n",
       "      <td>458680.0</td>\n",
       "      <td>9029.0</td>\n",
       "      <td>0.0</td>\n",
       "    </tr>\n",
       "    <tr>\n",
       "      <th>2021-05-26</th>\n",
       "      <td>458878.0</td>\n",
       "      <td>9037.0</td>\n",
       "      <td>0.0</td>\n",
       "    </tr>\n",
       "    <tr>\n",
       "      <th>2021-05-27</th>\n",
       "      <td>459095.0</td>\n",
       "      <td>9581.0</td>\n",
       "      <td>0.0</td>\n",
       "    </tr>\n",
       "    <tr>\n",
       "      <th>2021-05-28</th>\n",
       "      <td>459343.0</td>\n",
       "      <td>9592.0</td>\n",
       "      <td>0.0</td>\n",
       "    </tr>\n",
       "    <tr>\n",
       "      <th>2021-05-29</th>\n",
       "      <td>459528.0</td>\n",
       "      <td>9599.0</td>\n",
       "      <td>0.0</td>\n",
       "    </tr>\n",
       "  </tbody>\n",
       "</table>\n",
       "<p>450 rows × 3 columns</p>\n",
       "</div>"
      ],
      "text/plain": [
       "            Confirmed  Deaths  Recovered\n",
       "Date                                    \n",
       "2020-03-06        3.0     0.0        0.0\n",
       "2020-03-07        3.0     0.0        0.0\n",
       "2020-03-08        1.0     0.0        0.0\n",
       "2020-03-09        1.0     0.0        0.0\n",
       "2020-03-10        8.0     0.0        0.0\n",
       "...               ...     ...        ...\n",
       "2021-05-25   458680.0  9029.0        0.0\n",
       "2021-05-26   458878.0  9037.0        0.0\n",
       "2021-05-27   459095.0  9581.0        0.0\n",
       "2021-05-28   459343.0  9592.0        0.0\n",
       "2021-05-29   459528.0  9599.0        0.0\n",
       "\n",
       "[450 rows x 3 columns]"
      ]
     },
     "execution_count": 72,
     "metadata": {},
     "output_type": "execute_result"
    }
   ],
   "source": [
    "## pull out md confirmed\n",
    "ts = state_data['MD']#['Confirmed']\n",
    "ts"
   ]
  },
  {
   "cell_type": "code",
   "execution_count": null,
   "metadata": {},
   "outputs": [],
   "source": []
  },
  {
   "cell_type": "markdown",
   "metadata": {
    "id": "ZWzHeOcNlIDp"
   },
   "source": [
    "> #### Using Code from `coronavirus-v3-WIP.ipynb`"
   ]
  },
  {
   "cell_type": "code",
   "execution_count": 66,
   "metadata": {
    "ExecuteTime": {
     "end_time": "2021-06-16T15:15:32.089052Z",
     "start_time": "2021-06-16T15:15:31.885489Z"
    },
    "colab": {
     "base_uri": "https://localhost:8080/",
     "height": 417
    },
    "id": "ssm6AQM9l4AA",
    "outputId": "db3b29b6-226d-413e-8449-7c84ef2bb396"
   },
   "outputs": [
    {
     "data": {
      "text/plain": [
       "<AxesSubplot:xlabel='Date'>"
      ]
     },
     "execution_count": 66,
     "metadata": {},
     "output_type": "execute_result"
    },
    {
     "data": {
      "image/png": "[encoded data removed]",
      "text/plain": [
       "<Figure size 864x432 with 1 Axes>"
      ]
     },
     "metadata": {
      "needs_background": "light"
     },
     "output_type": "display_data"
    }
   ],
   "source": [
    "md['Deaths'].plot()"
   ]
  },
  {
   "cell_type": "code",
   "execution_count": 67,
   "metadata": {
    "ExecuteTime": {
     "end_time": "2021-06-16T15:15:33.222954Z",
     "start_time": "2021-06-16T15:15:33.022245Z"
    },
    "colab": {
     "base_uri": "https://localhost:8080/"
    },
    "id": "bwLkymhvT3lc",
    "outputId": "e3e4fc5f-3c34-4f32-f7a9-54e0606bb669"
   },
   "outputs": [
    {
     "data": {
      "text/plain": [
       "<AxesSubplot:xlabel='Date'>"
      ]
     },
     "execution_count": 67,
     "metadata": {},
     "output_type": "execute_result"
    },
    {
     "data": {
      "image/png": "[encoded data removed]",
      "text/plain": [
       "<Figure size 864x432 with 1 Axes>"
      ]
     },
     "metadata": {
      "needs_background": "light"
     },
     "output_type": "display_data"
    }
   ],
   "source": [
    "md['Deaths'].diff().plot()"
   ]
  },
  {
   "cell_type": "markdown",
   "metadata": {
    "id": "pLrabV-ersER"
   },
   "source": [
    "### Checking Seasonal Decompose for Seasonality to Use"
   ]
  },
  {
   "cell_type": "code",
   "execution_count": null,
   "metadata": {
    "colab": {
     "base_uri": "https://localhost:8080/",
     "height": 441
    },
    "id": "SMMxLcVFn041",
    "outputId": "09cc9c27-009f-42d5-b1c3-62f868353ee5"
   },
   "outputs": [],
   "source": [
    "from statsmodels.tsa.statespace.sarimax import SARIMAX\n",
    "import statsmodels.api as sms\n",
    "decomp = sms.tsa.seasonal_decompose(ts)\n",
    "decomp.plot();"
   ]
  },
  {
   "cell_type": "code",
   "execution_count": null,
   "metadata": {
    "colab": {
     "base_uri": "https://localhost:8080/",
     "height": 440
    },
    "id": "V6OJUaIaoNKM",
    "outputId": "058029a6-d035-49aa-9eab-882db278d33b"
   },
   "outputs": [],
   "source": [
    "decomp.seasonal.loc['01-01-21':].plot()"
   ]
  },
  {
   "cell_type": "markdown",
   "metadata": {
    "id": "_SrV8Rzyn0MU"
   },
   "source": [
    "f"
   ]
  },
  {
   "cell_type": "code",
   "execution_count": null,
   "metadata": {
    "id": "SVfzTpF_nIcA"
   },
   "outputs": [],
   "source": [
    "# "
   ]
  },
  {
   "cell_type": "code",
   "execution_count": null,
   "metadata": {
    "colab": {
     "base_uri": "https://localhost:8080/"
    },
    "id": "wrBLGbZ2nYQS",
    "outputId": "84a126a6-a191-429a-e679-6313b7e0840a"
   },
   "outputs": [],
   "source": [
    "from pmdarima import auto_arima\n",
    "\n",
    "auto_model = auto_arima(ts,start_p=0,start_q=0,start_P=0,start_Q=0,m=7)\n",
    "auto_model"
   ]
  },
  {
   "cell_type": "code",
   "execution_count": null,
   "metadata": {
    "colab": {
     "base_uri": "https://localhost:8080/"
    },
    "id": "u9lEfH3roi87",
    "outputId": "394731f0-f82b-45b8-f36d-1ab385866427"
   },
   "outputs": [],
   "source": [
    "auto_model.summary()"
   ]
  },
  {
   "cell_type": "code",
   "execution_count": null,
   "metadata": {
    "colab": {
     "base_uri": "https://localhost:8080/",
     "height": 533
    },
    "id": "7VipjFD3nhUR",
    "outputId": "f3fd4ccc-85b9-4f0d-ec30-7726fe65201c"
   },
   "outputs": [],
   "source": [
    "model = SARIMAX(ts,order=auto_model.order, \n",
    "                seasonal_order =auto_model.seasonal_order,\n",
    "                enforce_invertibility=False,freq='D').fit()\n",
    "model.summary()"
   ]
  },
  {
   "cell_type": "code",
   "execution_count": null,
   "metadata": {
    "colab": {
     "base_uri": "https://localhost:8080/"
    },
    "id": "9PC3nxquouHE",
    "outputId": "a4f021b9-6f1c-4291-9dc1-2e38d5106ba9"
   },
   "outputs": [],
   "source": [
    "model.plot_diagnostics();"
   ]
  },
  {
   "cell_type": "code",
   "execution_count": null,
   "metadata": {
    "colab": {
     "base_uri": "https://localhost:8080/"
    },
    "id": "us31SZqHo7AT",
    "outputId": "e991ea78-633c-4bed-f700-d155df1cea0a"
   },
   "outputs": [],
   "source": [
    "##Getting forecast\n",
    "forecast = model.get_forecast(steps=14)\n",
    "\n",
    "forecast_df = forecast.conf_int()\n",
    "forecast_df['Forecast'] = forecast.predicted_mean\n",
    "forecast_df.columns = ['lower','upper','forecast']\n",
    "forecast_df"
   ]
  },
  {
   "cell_type": "code",
   "execution_count": null,
   "metadata": {
    "colab": {
     "base_uri": "https://localhost:8080/"
    },
    "id": "nIe_V0EUo-9i",
    "outputId": "12adf0ce-fa7d-40bc-cf6b-9eb64e6cc87e"
   },
   "outputs": [],
   "source": [
    "last_n_days = 60\n",
    "fig,ax = plt.subplots(figsize=(12,5))\n",
    "ts.iloc[-last_n_days:].plot(label='True Data')\n",
    "forecast_df['forecast'].plot(ax=ax)\n",
    "ax.fill_between(forecast_df.index,\n",
    "                forecast_df['lower'], forecast_df['upper'],alpha=0.6)\n",
    "ax.legend()\n",
    "ax.set(title='Forecasted Hospitalizations (Current) for Maryland')\n",
    "# ax.plot()"
   ]
  },
  {
   "cell_type": "markdown",
   "metadata": {
    "id": "GvMa5amArHiX"
   },
   "source": [
    "## NEXT: Functionize Forecasts"
   ]
  },
  {
   "cell_type": "code",
   "execution_count": null,
   "metadata": {
    "id": "9aPEQnwXpTCF"
   },
   "outputs": [],
   "source": [
    "from pmdarima import auto_arima\n",
    "\n",
    "def get_ts(df,col,fill_val=np.nan,**kwargs):\n",
    "    ts = df[col].fillna(value=fill_val)\n",
    "    return ts\n",
    "\n",
    "\n",
    "\n",
    "def get_best_model(ts,start_p=0,start_q=0,start_P=0,start_Q=0,m=7,\n",
    "                   as_sarimax = True, **kwargs):\n",
    "    \n",
    "    auto_model = auto_arima(ts,start_p=start_p,\n",
    "                            start_q=start_q,start_P=start_P,start_Q=start_Q,m=m,)\n",
    "    print(f\"[i] Best parameters found:\")\n",
    "    display(auto_model.summary())\n",
    "\n",
    "    if as_sarimax:\n",
    "        model = SARIMAX(ts,order=auto_model.order, \n",
    "                seasonal_order =auto_model.seasonal_order,\n",
    "                enforce_invertibility=False,freq='D').fit()\n",
    "        return model\n",
    "\n",
    "    else:\n",
    "        return auto_model\n",
    "\n",
    "def get_forecast(model,steps=14):\n",
    "    forecast = model.get_forecast(steps=steps)\n",
    "    forecast_df = forecast.conf_int()\n",
    "    forecast_df['Forecast'] = forecast.predicted_mean\n",
    "    forecast_df.columns = ['lower','upper','forecast']\n",
    "    return forecast_df\n",
    "\n",
    "    \n",
    "def plot_forecast(model,ts,last_n_days=60,future_steps=14):\n",
    "    forecast_df = get_forecast(model,steps=future_steps)\n",
    "\n",
    "    fig,ax = plt.subplots(figsize=(12,5))\n",
    "    ts.iloc[-last_n_days:].plot(label='True Data')\n",
    "    forecast_df['forecast'].plot(ax=ax)\n",
    "    ax.fill_between(forecast_df.index,\n",
    "                    forecast_df['lower'], forecast_df['upper'],alpha=0.6)\n",
    "    ax.legend()\n",
    "    ax.set(title=f'Forecasted {ts.name}')\n",
    "    return fig,ax"
   ]
  },
  {
   "cell_type": "code",
   "execution_count": null,
   "metadata": {
    "colab": {
     "base_uri": "https://localhost:8080/",
     "height": 417
    },
    "id": "zVRQxn5FrjCF",
    "outputId": "23ef2553-3655-406e-e889-cc4e2c3fba9d"
   },
   "outputs": [],
   "source": [
    "ts2 = get_ts(md,'hospitalizedCurrently',fill_val=0)\n",
    "ts2 = ts2.loc['04-21-20':]\n",
    "ts2.plot()"
   ]
  },
  {
   "cell_type": "code",
   "execution_count": null,
   "metadata": {
    "colab": {
     "base_uri": "https://localhost:8080/",
     "height": 567
    },
    "id": "ykE6MlHgpVv0",
    "outputId": "a74f07cf-0c83-4b60-f901-c912cfea1eb1"
   },
   "outputs": [],
   "source": [
    "auto_model2 = get_best_model(ts2)\n",
    "auto_model2"
   ]
  },
  {
   "cell_type": "code",
   "execution_count": null,
   "metadata": {
    "colab": {
     "base_uri": "https://localhost:8080/",
     "height": 852
    },
    "id": "J-WisCJJp1x7",
    "outputId": "315d3604-3ea2-4e24-e4d6-f05a1762bd7d"
   },
   "outputs": [],
   "source": [
    "display(auto_model2.summary())\n",
    "auto_model2.plot_diagnostics();\n"
   ]
  },
  {
   "cell_type": "code",
   "execution_count": null,
   "metadata": {
    "colab": {
     "base_uri": "https://localhost:8080/",
     "height": 419
    },
    "id": "UdFWwsE1p6JU",
    "outputId": "59bb181f-88e4-4ca4-df4d-99788ea0ce92"
   },
   "outputs": [],
   "source": [
    "plot_forecast(auto_model2,ts2)"
   ]
  },
  {
   "cell_type": "markdown",
   "metadata": {
    "id": "1MisstIeuV2S"
   },
   "source": [
    "# Bookmark: use functions to explore other data columns"
   ]
  },
  {
   "cell_type": "code",
   "execution_count": null,
   "metadata": {
    "colab": {
     "base_uri": "https://localhost:8080/"
    },
    "id": "aIZQv_KyYrJA",
    "outputId": "1826a5ab-f8df-4403-d0d4-2e79fa568c6a"
   },
   "outputs": [],
   "source": [
    "cols =[c for c in md.columns if 'current' in c.lower()]\n",
    "cols.extend( ['positive','negative','death'])\n",
    "cols"
   ]
  },
  {
   "cell_type": "markdown",
   "metadata": {
    "id": "o0ZoOtvmZCaX"
   },
   "source": []
  },
  {
   "cell_type": "markdown",
   "metadata": {
    "id": "IOzlOuxEZCYG"
   },
   "source": []
  },
  {
   "cell_type": "code",
   "execution_count": null,
   "metadata": {
    "colab": {
     "base_uri": "https://localhost:8080/",
     "height": 640
    },
    "id": "IDV2aM4ArR28",
    "outputId": "a1314ad4-f9f6-4e56-ef42-20ba79b9b350"
   },
   "outputs": [],
   "source": [
    "df"
   ]
  },
  {
   "cell_type": "code",
   "execution_count": null,
   "metadata": {
    "colab": {
     "base_uri": "https://localhost:8080/",
     "height": 1000
    },
    "id": "cDiodQpSuYfS",
    "outputId": "2c1154a8-0e8a-462c-b03d-928ebe0fb098"
   },
   "outputs": [],
   "source": [
    "ts2 = get_ts(md,'inIcuCurrently',fill_val=0)\n",
    "ts2 = ts2.loc['04-21-20':]\n",
    "ts2.plot()\n",
    "\n",
    "auto_model2 = get_best_model(ts2)\n",
    "plot_forecast(auto_model2,ts2)"
   ]
  },
  {
   "cell_type": "code",
   "execution_count": null,
   "metadata": {
    "colab": {
     "base_uri": "https://localhost:8080/",
     "height": 340
    },
    "id": "Yi1cT4MnbfXE",
    "outputId": "3a5207ce-3ef7-4f2a-f836-4c0b196198f1"
   },
   "outputs": [],
   "source": [
    "df.head()"
   ]
  },
  {
   "cell_type": "markdown",
   "metadata": {
    "id": "do5mnRXhAU6h"
   },
   "source": [
    "### Combined Function for State Forecasts"
   ]
  },
  {
   "cell_type": "code",
   "execution_count": null,
   "metadata": {
    "id": "fMk73FmuZcmA"
   },
   "outputs": [],
   "source": [
    "def get_state_forecast(df, state_abbrev='NY', column='inIcuCurrently',\n",
    "                       fill_val=np.nan, start_date ='04-21-20',\n",
    "                       start_p=0,start_q=0,start_P=0,start_Q=0,m=7,\n",
    "                       plot_last_n_days=180, future_steps=14,plot_ts=False):\n",
    "    ## get state\n",
    "    # state = df.groupby('state').get_group(state_abbrev)\n",
    "    grouped = df.groupby(['state']).resample('D').last()\n",
    "    state = grouped.loc[state_abbrev]\n",
    "\n",
    "    ## Get ts \n",
    "    ts = get_ts(state,column,fill_val=fill_val)\n",
    "    ts.name = f\"{state_abbrev}-{column}\"\n",
    "    ts = ts.loc[start_date:]\n",
    "    \n",
    "    if plot_ts:\n",
    "        ax = ts.plot(label=f\"{column} for {state_abbrev}\")\n",
    "        ax.legend()\n",
    "\n",
    "    print(f'[i] Starting grid search for {state_abbrev}-{column}')\n",
    "    model = get_best_model(ts,start_p=start_p,start_q=start_q,start_P=start_P,\n",
    "                           start_Q=start_Q,m=m)\n",
    "    plot_forecast(model,ts,last_n_days=plot_last_n_days,future_steps=future_steps)\n",
    "    return model,ts"
   ]
  },
  {
   "cell_type": "code",
   "execution_count": null,
   "metadata": {
    "colab": {
     "base_uri": "https://localhost:8080/",
     "height": 640
    },
    "id": "6IUEMzrgj8aa",
    "outputId": "d11906d1-9515-45b1-8f3f-4df73940ad0a"
   },
   "outputs": [],
   "source": [
    "grouped.loc['CA']"
   ]
  },
  {
   "cell_type": "code",
   "execution_count": null,
   "metadata": {
    "colab": {
     "base_uri": "https://localhost:8080/",
     "height": 869
    },
    "id": "Ha4_dwsgcKFI",
    "outputId": "b05d10a6-bd2d-4788-eda0-2684bc6a20fb"
   },
   "outputs": [],
   "source": [
    "model,ts = get_state_forecast(df,fill_val=0,)"
   ]
  },
  {
   "cell_type": "code",
   "execution_count": null,
   "metadata": {
    "id": "9sz5kEJbuDCi"
   },
   "outputs": [],
   "source": [
    "# model,ts = get_state_forecast(df,state_abbrev='VA',  fill_val=0,)"
   ]
  },
  {
   "cell_type": "code",
   "execution_count": null,
   "metadata": {
    "id": "pOXaIR6GcN7x"
   },
   "outputs": [],
   "source": [
    "# states = ['MD','CA','MA','NY','PA','NJ']\n",
    "# col = 'inIcuCurrently'\n",
    "\n",
    "\n",
    "# for state in states:\n",
    "#     dashes='---'*40\n",
    "#     print(f\"{dashes}\\n\\t{state}-{col}\\n{dashes}\" )\n",
    "\n",
    "#     # print(f\"{}\")\n",
    "#     model,ts = get_state_forecast(df,state_abbrev=state, column=col, fill_val=0,)\n",
    "#     plt.show()"
   ]
  },
  {
   "cell_type": "code",
   "execution_count": null,
   "metadata": {
    "id": "KTJIwguCt0wv"
   },
   "outputs": [],
   "source": [
    "# model,ts = get_state_forecast(df,state_abbrev='MA',  fill_val=0,)"
   ]
  },
  {
   "cell_type": "code",
   "execution_count": null,
   "metadata": {
    "id": "A820HxKVuAIg"
   },
   "outputs": [],
   "source": [
    "# model,ts = get_state_forecast(df,state_abbrev='VA',  fill_val=0,)"
   ]
  },
  {
   "cell_type": "code",
   "execution_count": null,
   "metadata": {
    "id": "Jj8BMgLzuDyK"
   },
   "outputs": [],
   "source": [
    "# model,ts = get_state_forecast(df,state_abbrev='NJ',  fill_val=0,)"
   ]
  },
  {
   "cell_type": "markdown",
   "metadata": {
    "id": "Z8LFf8gf1y1l"
   },
   "source": [
    "# Death/Ventilator Forecasts (compare to J.D. Capstone)"
   ]
  },
  {
   "cell_type": "code",
   "execution_count": null,
   "metadata": {
    "colab": {
     "base_uri": "https://localhost:8080/"
    },
    "id": "a2g9HXb2179T",
    "outputId": "6d971111-55bc-4b3d-a22b-0e66bc3f11cf"
   },
   "outputs": [],
   "source": [
    "death_states = ['NY', 'PA', 'NJ','IL','MI','MA']\n",
    "grouped"
   ]
  },
  {
   "cell_type": "code",
   "execution_count": null,
   "metadata": {
    "colab": {
     "background_save": true,
     "base_uri": "https://localhost:8080/",
     "height": 1000
    },
    "id": "Ln_M85OV117w",
    "outputId": "b142251a-208e-461a-e6d8-57ddba7708e3"
   },
   "outputs": [],
   "source": [
    "col = 'death'\n",
    "\n",
    "for state in death_states:\n",
    "    dashes='---'*40\n",
    "    print(f\"{dashes}\\n\\t{state}-{col}\\n{dashes}\" )\n",
    "\n",
    "    # print(f\"{}\")\n",
    "    model,ts = get_state_forecast(df,state_abbrev=state, column=col, fill_val=0,)\n",
    "    model.plot_diagnostics()\n",
    "    plt.show()"
   ]
  },
  {
   "cell_type": "code",
   "execution_count": null,
   "metadata": {
    "colab": {
     "background_save": true
    },
    "id": "4WFfggrv2NyK",
    "outputId": "47dceb1c-d9c3-4469-9507-da78b314a953"
   },
   "outputs": [],
   "source": [
    "col = 'onVentilatorCurrently'\n",
    "\n",
    "for state in death_states:\n",
    "    dashes='---'*40\n",
    "    print(f\"{dashes}\\n\\t{state}-{col}\\n{dashes}\" )\n",
    "\n",
    "    # print(f\"{}\")\n",
    "    model,ts = get_state_forecast(df,state_abbrev=state, column=col, fill_val=0,)\n",
    "    display(model.plot_diagnostics())\n",
    "    plt.show()"
   ]
  },
  {
   "cell_type": "code",
   "execution_count": null,
   "metadata": {
    "colab": {
     "background_save": true
    },
    "id": "bodNLKI32vJk"
   },
   "outputs": [],
   "source": []
  }
 ],
 "metadata": {
  "colab": {
   "collapsed_sections": [],
   "name": "coronavirus/covid-19 forecasting.ipynb",
   "provenance": [],
   "toc_visible": true
  },
  "kernelspec": {
   "display_name": "learn-env-new",
   "language": "python",
   "name": "learn-env-new"
  },
  "language_info": {
   "codemirror_mode": {
    "name": "ipython",
    "version": 3
   },
   "file_extension": ".py",
   "mimetype": "text/x-python",
   "name": "python",
   "nbconvert_exporter": "python",
   "pygments_lexer": "ipython3",
   "version": "3.8.5"
  },
  "toc": {
   "base_numbering": 1,
   "nav_menu": {},
   "number_sections": true,
   "sideBar": true,
   "skip_h1_title": false,
   "title_cell": "Table of Contents",
   "title_sidebar": "Contents",
   "toc_cell": false,
   "toc_position": {},
   "toc_section_display": true,
   "toc_window_display": true
  }
 },
 "nbformat": 4,
 "nbformat_minor": 1
}
