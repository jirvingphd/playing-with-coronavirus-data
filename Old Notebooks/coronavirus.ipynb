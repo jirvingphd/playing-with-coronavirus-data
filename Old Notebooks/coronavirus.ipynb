{
 "cells": [
  {
   "cell_type": "code",
   "execution_count": 2,
   "metadata": {
    "ExecuteTime": {
     "end_time": "2020-04-25T23:13:12.721326Z",
     "start_time": "2020-04-25T23:13:09.542003Z"
    }
   },
   "outputs": [
    {
     "name": "stdout",
     "output_type": "stream",
     "text": [
      "Requirement already up-to-date: kaggle in /anaconda3/envs/learn-env/lib/python3.6/site-packages (1.5.6)\n",
      "Requirement already satisfied, skipping upgrade: tqdm in /anaconda3/envs/learn-env/lib/python3.6/site-packages (from kaggle) (4.36.1)\n",
      "Requirement already satisfied, skipping upgrade: python-dateutil in /anaconda3/envs/learn-env/lib/python3.6/site-packages (from kaggle) (2.8.0)\n",
      "Requirement already satisfied, skipping upgrade: certifi in /anaconda3/envs/learn-env/lib/python3.6/site-packages (from kaggle) (2019.11.28)\n",
      "Requirement already satisfied, skipping upgrade: requests in /Users/jamesirving/.local/lib/python3.6/site-packages (from kaggle) (2.22.0)\n",
      "Requirement already satisfied, skipping upgrade: six>=1.10 in /anaconda3/envs/learn-env/lib/python3.6/site-packages (from kaggle) (1.12.0)\n",
      "Requirement already satisfied, skipping upgrade: python-slugify in /anaconda3/envs/learn-env/lib/python3.6/site-packages (from kaggle) (4.0.0)\n",
      "Requirement already satisfied, skipping upgrade: urllib3<1.25,>=1.21.1 in /anaconda3/envs/learn-env/lib/python3.6/site-packages (from kaggle) (1.24.2)\n",
      "Requirement already satisfied, skipping upgrade: chardet<3.1.0,>=3.0.2 in /anaconda3/envs/learn-env/lib/python3.6/site-packages (from requests->kaggle) (3.0.4)\n",
      "Requirement already satisfied, skipping upgrade: idna<2.9,>=2.5 in /anaconda3/envs/learn-env/lib/python3.6/site-packages (from requests->kaggle) (2.8)\n",
      "Requirement already satisfied, skipping upgrade: text-unidecode>=1.3 in /anaconda3/envs/learn-env/lib/python3.6/site-packages (from python-slugify->kaggle) (1.3)\n"
     ]
    }
   ],
   "source": [
    "!pip install kaggle --upgrade\n",
    "#https://www.kaggle.com/sudalairajkumar/novel-corona-virus-2019-dataset"
   ]
  },
  {
   "cell_type": "code",
   "execution_count": 4,
   "metadata": {
    "ExecuteTime": {
     "end_time": "2020-04-25T23:13:29.433091Z",
     "start_time": "2020-04-25T23:13:22.407326Z"
    }
   },
   "outputs": [
    {
     "name": "stdout",
     "output_type": "stream",
     "text": [
      "fsds_1007219  v0.7.21 loaded.  Read the docs: https://fsds.readthedocs.io/en/latest/ \n"
     ]
    },
    {
     "data": {
      "text/html": [
       "<style  type=\"text/css\" >\n",
       "</style><table id=\"T_5f60c686_874a_11ea_b37e_4865ee12e626\" ><caption>Loaded Packages and Handles</caption><thead>    <tr>        <th class=\"col_heading level0 col0\" >Handle</th>        <th class=\"col_heading level0 col1\" >Package</th>        <th class=\"col_heading level0 col2\" >Description</th>    </tr></thead><tbody>\n",
       "                <tr>\n",
       "                                <td id=\"T_5f60c686_874a_11ea_b37e_4865ee12e626row0_col0\" class=\"data row0 col0\" >dp</td>\n",
       "                        <td id=\"T_5f60c686_874a_11ea_b37e_4865ee12e626row0_col1\" class=\"data row0 col1\" >IPython.display</td>\n",
       "                        <td id=\"T_5f60c686_874a_11ea_b37e_4865ee12e626row0_col2\" class=\"data row0 col2\" >Display modules with helpful display and clearing commands.</td>\n",
       "            </tr>\n",
       "            <tr>\n",
       "                                <td id=\"T_5f60c686_874a_11ea_b37e_4865ee12e626row1_col0\" class=\"data row1 col0\" >fs</td>\n",
       "                        <td id=\"T_5f60c686_874a_11ea_b37e_4865ee12e626row1_col1\" class=\"data row1 col1\" >fsds_100719</td>\n",
       "                        <td id=\"T_5f60c686_874a_11ea_b37e_4865ee12e626row1_col2\" class=\"data row1 col2\" >Custom data science bootcamp student package</td>\n",
       "            </tr>\n",
       "            <tr>\n",
       "                                <td id=\"T_5f60c686_874a_11ea_b37e_4865ee12e626row2_col0\" class=\"data row2 col0\" >mpl</td>\n",
       "                        <td id=\"T_5f60c686_874a_11ea_b37e_4865ee12e626row2_col1\" class=\"data row2 col1\" >matplotlib</td>\n",
       "                        <td id=\"T_5f60c686_874a_11ea_b37e_4865ee12e626row2_col2\" class=\"data row2 col2\" >Matplotlib's base OOP module with formatting artists</td>\n",
       "            </tr>\n",
       "            <tr>\n",
       "                                <td id=\"T_5f60c686_874a_11ea_b37e_4865ee12e626row3_col0\" class=\"data row3 col0\" >plt</td>\n",
       "                        <td id=\"T_5f60c686_874a_11ea_b37e_4865ee12e626row3_col1\" class=\"data row3 col1\" >matplotlib.pyplot</td>\n",
       "                        <td id=\"T_5f60c686_874a_11ea_b37e_4865ee12e626row3_col2\" class=\"data row3 col2\" >Matplotlib's matlab-like plotting module</td>\n",
       "            </tr>\n",
       "            <tr>\n",
       "                                <td id=\"T_5f60c686_874a_11ea_b37e_4865ee12e626row4_col0\" class=\"data row4 col0\" >np</td>\n",
       "                        <td id=\"T_5f60c686_874a_11ea_b37e_4865ee12e626row4_col1\" class=\"data row4 col1\" >numpy</td>\n",
       "                        <td id=\"T_5f60c686_874a_11ea_b37e_4865ee12e626row4_col2\" class=\"data row4 col2\" >scientific computing with Python</td>\n",
       "            </tr>\n",
       "            <tr>\n",
       "                                <td id=\"T_5f60c686_874a_11ea_b37e_4865ee12e626row5_col0\" class=\"data row5 col0\" >pd</td>\n",
       "                        <td id=\"T_5f60c686_874a_11ea_b37e_4865ee12e626row5_col1\" class=\"data row5 col1\" >pandas</td>\n",
       "                        <td id=\"T_5f60c686_874a_11ea_b37e_4865ee12e626row5_col2\" class=\"data row5 col2\" >High performance data structures and tools</td>\n",
       "            </tr>\n",
       "            <tr>\n",
       "                                <td id=\"T_5f60c686_874a_11ea_b37e_4865ee12e626row6_col0\" class=\"data row6 col0\" >sns</td>\n",
       "                        <td id=\"T_5f60c686_874a_11ea_b37e_4865ee12e626row6_col1\" class=\"data row6 col1\" >seaborn</td>\n",
       "                        <td id=\"T_5f60c686_874a_11ea_b37e_4865ee12e626row6_col2\" class=\"data row6 col2\" >High-level data visualization library based on matplotlib</td>\n",
       "            </tr>\n",
       "    </tbody></table>"
      ],
      "text/plain": [
       "<pandas.io.formats.style.Styler at 0x1c1fd43128>"
      ]
     },
     "metadata": {},
     "output_type": "display_data"
    },
    {
     "data": {
      "text/html": [
       "        <script type=\"text/javascript\">\n",
       "        window.PlotlyConfig = {MathJaxConfig: 'local'};\n",
       "        if (window.MathJax) {MathJax.Hub.Config({SVG: {font: \"STIX-Web\"}});}\n",
       "        if (typeof require !== 'undefined') {\n",
       "        require.undef(\"plotly\");\n",
       "        requirejs.config({\n",
       "            paths: {\n",
       "                'plotly': ['https://cdn.plot.ly/plotly-latest.min']\n",
       "            }\n",
       "        });\n",
       "        require(['plotly'], function(Plotly) {\n",
       "            window._Plotly = Plotly;\n",
       "        });\n",
       "        }\n",
       "        </script>\n",
       "        "
      ]
     },
     "metadata": {},
     "output_type": "display_data"
    },
    {
     "name": "stdout",
     "output_type": "stream",
     "text": [
      "[i] Pandas .iplot() method activated.\n"
     ]
    }
   ],
   "source": [
    "from fsds_100719.imports import *\n",
    "import os,glob"
   ]
  },
  {
   "cell_type": "code",
   "execution_count": 5,
   "metadata": {
    "ExecuteTime": {
     "end_time": "2020-04-25T23:13:34.629395Z",
     "start_time": "2020-04-25T23:13:29.435985Z"
    }
   },
   "outputs": [
    {
     "data": {
      "text/plain": [
       "256"
      ]
     },
     "execution_count": 5,
     "metadata": {},
     "output_type": "execute_result"
    }
   ],
   "source": [
    "cmd = \"kaggle datasets download -d allen-institute-for-ai/CORD-19-research-challenge\"\n",
    "os.system(cmd)"
   ]
  },
  {
   "cell_type": "code",
   "execution_count": 6,
   "metadata": {
    "ExecuteTime": {
     "end_time": "2020-04-25T23:13:34.634142Z",
     "start_time": "2020-04-25T23:13:34.631867Z"
    }
   },
   "outputs": [],
   "source": [
    "# import os"
   ]
  },
  {
   "cell_type": "code",
   "execution_count": 7,
   "metadata": {
    "ExecuteTime": {
     "end_time": "2020-04-25T23:13:35.009096Z",
     "start_time": "2020-04-25T23:13:34.635828Z"
    }
   },
   "outputs": [
    {
     "data": {
      "text/plain": [
       "['COVID19_open_line_list.csv',\n",
       " 'time_series_covid_19_confirmed_US.csv',\n",
       " 'time_series_covid_19_recovered.csv',\n",
       " '.DS_Store',\n",
       " 'time_series_covid_19_deaths_US.csv',\n",
       " 'covid_19_data.csv',\n",
       " 'coronavirus.ipynb',\n",
       " 'coronavirus-plotly.ipynb',\n",
       " 'COVID19_line_list_data.csv',\n",
       " 'README.md',\n",
       " '.gitignore',\n",
       " 'time_series_covid_19_deaths.csv',\n",
       " 'JMI_us_states.csv',\n",
       " 'novel-corona-virus-2019-dataset.zip',\n",
       " '.gitattributes',\n",
       " '.ipynb_checkpoints',\n",
       " 'novel-corona-virus-2019-dataset',\n",
       " '.git',\n",
       " 'CORD-19-research-challenge.zip',\n",
       " 'time_series_covid_19_confirmed.csv']"
      ]
     },
     "execution_count": 7,
     "metadata": {},
     "output_type": "execute_result"
    }
   ],
   "source": [
    "os.listdir()"
   ]
  },
  {
   "cell_type": "code",
   "execution_count": 8,
   "metadata": {
    "ExecuteTime": {
     "end_time": "2020-04-25T23:13:35.300987Z",
     "start_time": "2020-04-25T23:13:35.011330Z"
    }
   },
   "outputs": [
    {
     "data": {
      "text/plain": [
       "['COVID19_open_line_list.csv',\n",
       " 'time_series_covid_19_recovered.csv',\n",
       " 'covid_19_data.csv',\n",
       " 'COVID19_line_list_data.csv',\n",
       " 'time_series_covid_19_deaths.csv',\n",
       " 'time_series_covid_19_confirmed.csv']"
      ]
     },
     "execution_count": 8,
     "metadata": {},
     "output_type": "execute_result"
    }
   ],
   "source": [
    "os.listdir('novel-corona-virus-2019-dataset/')\n",
    "# os.system('kaggle datasets download -d sudalairajkumar/novel-corona-virus-2019-dataset')"
   ]
  },
  {
   "cell_type": "code",
   "execution_count": 9,
   "metadata": {
    "ExecuteTime": {
     "end_time": "2020-04-25T23:13:35.309411Z",
     "start_time": "2020-04-25T23:13:35.303257Z"
    }
   },
   "outputs": [
    {
     "name": "stdout",
     "output_type": "stream",
     "text": [
      "Help on function melt in module pandas.core.reshape.melt:\n",
      "\n",
      "melt(frame, id_vars=None, value_vars=None, var_name=None, value_name='value', col_level=None)\n",
      "    Unpivot a DataFrame from wide format to long format, optionally\n",
      "    leaving identifier variables set.\n",
      "    \n",
      "    This function is useful to massage a DataFrame into a format where one\n",
      "    or more columns are identifier variables (`id_vars`), while all other\n",
      "    columns, considered measured variables (`value_vars`), are \"unpivoted\" to\n",
      "    the row axis, leaving just two non-identifier columns, 'variable' and\n",
      "    'value'.\n",
      "    \n",
      "    Parameters\n",
      "    ----------\n",
      "    frame : DataFrame\n",
      "    id_vars : tuple, list, or ndarray, optional\n",
      "        Column(s) to use as identifier variables.\n",
      "    value_vars : tuple, list, or ndarray, optional\n",
      "        Column(s) to unpivot. If not specified, uses all columns that\n",
      "        are not set as `id_vars`.\n",
      "    var_name : scalar\n",
      "        Name to use for the 'variable' column. If None it uses\n",
      "        ``frame.columns.name`` or 'variable'.\n",
      "    value_name : scalar, default 'value'\n",
      "        Name to use for the 'value' column.\n",
      "    col_level : int or string, optional\n",
      "        If columns are a MultiIndex then use this level to melt.\n",
      "    \n",
      "    Returns\n",
      "    -------\n",
      "    DataFrame\n",
      "        Unpivoted DataFrame.\n",
      "    \n",
      "    See Also\n",
      "    --------\n",
      "    DataFrame.melt\n",
      "    pivot_table\n",
      "    DataFrame.pivot\n",
      "    Series.explode\n",
      "    \n",
      "    Examples\n",
      "    --------\n",
      "    >>> df = pd.DataFrame({'A': {0: 'a', 1: 'b', 2: 'c'},\n",
      "    ...                    'B': {0: 1, 1: 3, 2: 5},\n",
      "    ...                    'C': {0: 2, 1: 4, 2: 6}})\n",
      "    >>> df\n",
      "       A  B  C\n",
      "    0  a  1  2\n",
      "    1  b  3  4\n",
      "    2  c  5  6\n",
      "    \n",
      "    >>> pd.melt(df, id_vars=['A'], value_vars=['B'])\n",
      "       A variable  value\n",
      "    0  a        B      1\n",
      "    1  b        B      3\n",
      "    2  c        B      5\n",
      "    \n",
      "    >>> pd.melt(df, id_vars=['A'], value_vars=['B', 'C'])\n",
      "       A variable  value\n",
      "    0  a        B      1\n",
      "    1  b        B      3\n",
      "    2  c        B      5\n",
      "    3  a        C      2\n",
      "    4  b        C      4\n",
      "    5  c        C      6\n",
      "    \n",
      "    The names of 'variable' and 'value' columns can be customized:\n",
      "    \n",
      "    >>> pd.melt(df, id_vars=['A'], value_vars=['B'],\n",
      "    ...         var_name='myVarname', value_name='myValname')\n",
      "       A myVarname  myValname\n",
      "    0  a         B          1\n",
      "    1  b         B          3\n",
      "    2  c         B          5\n",
      "    \n",
      "    If you have multi-index columns:\n",
      "    \n",
      "    >>> df.columns = [list('ABC'), list('DEF')]\n",
      "    >>> df\n",
      "       A  B  C\n",
      "       D  E  F\n",
      "    0  a  1  2\n",
      "    1  b  3  4\n",
      "    2  c  5  6\n",
      "    \n",
      "    >>> pd.melt(df, col_level=0, id_vars=['A'], value_vars=['B'])\n",
      "       A variable  value\n",
      "    0  a        B      1\n",
      "    1  b        B      3\n",
      "    2  c        B      5\n",
      "    \n",
      "    >>> pd.melt(df, id_vars=[('A', 'D')], value_vars=[('B', 'E')])\n",
      "      (A, D) variable_0 variable_1  value\n",
      "    0      a          B          E      1\n",
      "    1      b          B          E      3\n",
      "    2      c          B          E      5\n",
      "\n"
     ]
    }
   ],
   "source": [
    "help(pd.melt)"
   ]
  },
  {
   "cell_type": "markdown",
   "metadata": {},
   "source": [
    "## Time Series - Confirmed"
   ]
  },
  {
   "cell_type": "code",
   "execution_count": 10,
   "metadata": {
    "ExecuteTime": {
     "end_time": "2020-04-25T23:13:35.395637Z",
     "start_time": "2020-04-25T23:13:35.311900Z"
    }
   },
   "outputs": [
    {
     "data": {
      "text/html": [
       "<div>\n",
       "<style scoped>\n",
       "    .dataframe tbody tr th:only-of-type {\n",
       "        vertical-align: middle;\n",
       "    }\n",
       "\n",
       "    .dataframe tbody tr th {\n",
       "        vertical-align: top;\n",
       "    }\n",
       "\n",
       "    .dataframe thead th {\n",
       "        text-align: right;\n",
       "    }\n",
       "</style>\n",
       "<table border=\"1\" class=\"dataframe\">\n",
       "  <thead>\n",
       "    <tr style=\"text-align: right;\">\n",
       "      <th></th>\n",
       "      <th>Province/State</th>\n",
       "      <th>Country/Region</th>\n",
       "      <th>Lat</th>\n",
       "      <th>Long</th>\n",
       "      <th>1/22/20</th>\n",
       "      <th>1/23/20</th>\n",
       "      <th>1/24/20</th>\n",
       "      <th>1/25/20</th>\n",
       "      <th>1/26/20</th>\n",
       "      <th>1/27/20</th>\n",
       "      <th>...</th>\n",
       "      <th>3/5/20</th>\n",
       "      <th>3/6/20</th>\n",
       "      <th>3/7/20</th>\n",
       "      <th>3/8/20</th>\n",
       "      <th>3/9/20</th>\n",
       "      <th>3/10/20</th>\n",
       "      <th>3/11/20</th>\n",
       "      <th>3/12/20</th>\n",
       "      <th>3/13/20</th>\n",
       "      <th>3/14/20</th>\n",
       "    </tr>\n",
       "  </thead>\n",
       "  <tbody>\n",
       "    <tr>\n",
       "      <td>0</td>\n",
       "      <td>NaN</td>\n",
       "      <td>Thailand</td>\n",
       "      <td>15.0000</td>\n",
       "      <td>101.0000</td>\n",
       "      <td>2</td>\n",
       "      <td>3</td>\n",
       "      <td>5</td>\n",
       "      <td>7</td>\n",
       "      <td>8</td>\n",
       "      <td>8</td>\n",
       "      <td>...</td>\n",
       "      <td>47</td>\n",
       "      <td>48</td>\n",
       "      <td>50</td>\n",
       "      <td>50</td>\n",
       "      <td>50</td>\n",
       "      <td>53</td>\n",
       "      <td>59</td>\n",
       "      <td>70</td>\n",
       "      <td>75</td>\n",
       "      <td>82</td>\n",
       "    </tr>\n",
       "    <tr>\n",
       "      <td>1</td>\n",
       "      <td>NaN</td>\n",
       "      <td>Japan</td>\n",
       "      <td>36.0000</td>\n",
       "      <td>138.0000</td>\n",
       "      <td>2</td>\n",
       "      <td>1</td>\n",
       "      <td>2</td>\n",
       "      <td>2</td>\n",
       "      <td>4</td>\n",
       "      <td>4</td>\n",
       "      <td>...</td>\n",
       "      <td>360</td>\n",
       "      <td>420</td>\n",
       "      <td>461</td>\n",
       "      <td>502</td>\n",
       "      <td>511</td>\n",
       "      <td>581</td>\n",
       "      <td>639</td>\n",
       "      <td>639</td>\n",
       "      <td>701</td>\n",
       "      <td>773</td>\n",
       "    </tr>\n",
       "    <tr>\n",
       "      <td>2</td>\n",
       "      <td>NaN</td>\n",
       "      <td>Singapore</td>\n",
       "      <td>1.2833</td>\n",
       "      <td>103.8333</td>\n",
       "      <td>0</td>\n",
       "      <td>1</td>\n",
       "      <td>3</td>\n",
       "      <td>3</td>\n",
       "      <td>4</td>\n",
       "      <td>5</td>\n",
       "      <td>...</td>\n",
       "      <td>117</td>\n",
       "      <td>130</td>\n",
       "      <td>138</td>\n",
       "      <td>150</td>\n",
       "      <td>150</td>\n",
       "      <td>160</td>\n",
       "      <td>178</td>\n",
       "      <td>178</td>\n",
       "      <td>200</td>\n",
       "      <td>212</td>\n",
       "    </tr>\n",
       "    <tr>\n",
       "      <td>3</td>\n",
       "      <td>NaN</td>\n",
       "      <td>Nepal</td>\n",
       "      <td>28.1667</td>\n",
       "      <td>84.2500</td>\n",
       "      <td>0</td>\n",
       "      <td>0</td>\n",
       "      <td>0</td>\n",
       "      <td>1</td>\n",
       "      <td>1</td>\n",
       "      <td>1</td>\n",
       "      <td>...</td>\n",
       "      <td>1</td>\n",
       "      <td>1</td>\n",
       "      <td>1</td>\n",
       "      <td>1</td>\n",
       "      <td>1</td>\n",
       "      <td>1</td>\n",
       "      <td>1</td>\n",
       "      <td>1</td>\n",
       "      <td>1</td>\n",
       "      <td>1</td>\n",
       "    </tr>\n",
       "    <tr>\n",
       "      <td>4</td>\n",
       "      <td>NaN</td>\n",
       "      <td>Malaysia</td>\n",
       "      <td>2.5000</td>\n",
       "      <td>112.5000</td>\n",
       "      <td>0</td>\n",
       "      <td>0</td>\n",
       "      <td>0</td>\n",
       "      <td>3</td>\n",
       "      <td>4</td>\n",
       "      <td>4</td>\n",
       "      <td>...</td>\n",
       "      <td>50</td>\n",
       "      <td>83</td>\n",
       "      <td>93</td>\n",
       "      <td>99</td>\n",
       "      <td>117</td>\n",
       "      <td>129</td>\n",
       "      <td>149</td>\n",
       "      <td>149</td>\n",
       "      <td>197</td>\n",
       "      <td>238</td>\n",
       "    </tr>\n",
       "  </tbody>\n",
       "</table>\n",
       "<p>5 rows × 57 columns</p>\n",
       "</div>"
      ],
      "text/plain": [
       "  Province/State Country/Region      Lat      Long  1/22/20  1/23/20  1/24/20  \\\n",
       "0            NaN       Thailand  15.0000  101.0000        2        3        5   \n",
       "1            NaN          Japan  36.0000  138.0000        2        1        2   \n",
       "2            NaN      Singapore   1.2833  103.8333        0        1        3   \n",
       "3            NaN          Nepal  28.1667   84.2500        0        0        0   \n",
       "4            NaN       Malaysia   2.5000  112.5000        0        0        0   \n",
       "\n",
       "   1/25/20  1/26/20  1/27/20  ...  3/5/20  3/6/20  3/7/20  3/8/20  3/9/20  \\\n",
       "0        7        8        8  ...      47      48      50      50      50   \n",
       "1        2        4        4  ...     360     420     461     502     511   \n",
       "2        3        4        5  ...     117     130     138     150     150   \n",
       "3        1        1        1  ...       1       1       1       1       1   \n",
       "4        3        4        4  ...      50      83      93      99     117   \n",
       "\n",
       "   3/10/20  3/11/20  3/12/20  3/13/20  3/14/20  \n",
       "0       53       59       70       75       82  \n",
       "1      581      639      639      701      773  \n",
       "2      160      178      178      200      212  \n",
       "3        1        1        1        1        1  \n",
       "4      129      149      149      197      238  \n",
       "\n",
       "[5 rows x 57 columns]"
      ]
     },
     "metadata": {},
     "output_type": "display_data"
    },
    {
     "data": {
      "text/html": [
       "<div>\n",
       "<style scoped>\n",
       "    .dataframe tbody tr th:only-of-type {\n",
       "        vertical-align: middle;\n",
       "    }\n",
       "\n",
       "    .dataframe tbody tr th {\n",
       "        vertical-align: top;\n",
       "    }\n",
       "\n",
       "    .dataframe thead th {\n",
       "        text-align: right;\n",
       "    }\n",
       "</style>\n",
       "<table border=\"1\" class=\"dataframe\">\n",
       "  <thead>\n",
       "    <tr style=\"text-align: right;\">\n",
       "      <th></th>\n",
       "      <th>Province/State</th>\n",
       "      <th>Country/Region</th>\n",
       "      <th>Lat</th>\n",
       "      <th>Long</th>\n",
       "      <th>Confirmed</th>\n",
       "    </tr>\n",
       "    <tr>\n",
       "      <th>Date</th>\n",
       "      <th></th>\n",
       "      <th></th>\n",
       "      <th></th>\n",
       "      <th></th>\n",
       "      <th></th>\n",
       "    </tr>\n",
       "  </thead>\n",
       "  <tbody>\n",
       "    <tr>\n",
       "      <td>2020-01-22</td>\n",
       "      <td>NaN</td>\n",
       "      <td>Thailand</td>\n",
       "      <td>15.0000</td>\n",
       "      <td>101.0000</td>\n",
       "      <td>2</td>\n",
       "    </tr>\n",
       "    <tr>\n",
       "      <td>2020-01-22</td>\n",
       "      <td>NaN</td>\n",
       "      <td>Japan</td>\n",
       "      <td>36.0000</td>\n",
       "      <td>138.0000</td>\n",
       "      <td>2</td>\n",
       "    </tr>\n",
       "    <tr>\n",
       "      <td>2020-01-22</td>\n",
       "      <td>NaN</td>\n",
       "      <td>Singapore</td>\n",
       "      <td>1.2833</td>\n",
       "      <td>103.8333</td>\n",
       "      <td>0</td>\n",
       "    </tr>\n",
       "    <tr>\n",
       "      <td>2020-01-22</td>\n",
       "      <td>NaN</td>\n",
       "      <td>Nepal</td>\n",
       "      <td>28.1667</td>\n",
       "      <td>84.2500</td>\n",
       "      <td>0</td>\n",
       "    </tr>\n",
       "    <tr>\n",
       "      <td>2020-01-22</td>\n",
       "      <td>NaN</td>\n",
       "      <td>Malaysia</td>\n",
       "      <td>2.5000</td>\n",
       "      <td>112.5000</td>\n",
       "      <td>0</td>\n",
       "    </tr>\n",
       "  </tbody>\n",
       "</table>\n",
       "</div>"
      ],
      "text/plain": [
       "           Province/State Country/Region      Lat      Long  Confirmed\n",
       "Date                                                                  \n",
       "2020-01-22            NaN       Thailand  15.0000  101.0000          2\n",
       "2020-01-22            NaN          Japan  36.0000  138.0000          2\n",
       "2020-01-22            NaN      Singapore   1.2833  103.8333          0\n",
       "2020-01-22            NaN          Nepal  28.1667   84.2500          0\n",
       "2020-01-22            NaN       Malaysia   2.5000  112.5000          0"
      ]
     },
     "execution_count": 10,
     "metadata": {},
     "output_type": "execute_result"
    }
   ],
   "source": [
    "df = pd.read_csv('novel-corona-virus-2019-dataset/time_series_covid_19_confirmed.csv')\n",
    "display(df.head())\n",
    "df =pd.melt(df,id_vars=df.columns[:4],var_name='Date',value_name='Confirmed')\n",
    "df['Date'] = pd.to_datetime(df['Date'])\n",
    "df.set_index('Date',inplace=True)\n",
    "df.head()"
   ]
  },
  {
   "cell_type": "markdown",
   "metadata": {},
   "source": [
    "## Main Dataset"
   ]
  },
  {
   "cell_type": "code",
   "execution_count": 11,
   "metadata": {
    "ExecuteTime": {
     "end_time": "2020-04-25T23:14:05.568573Z",
     "start_time": "2020-04-25T23:14:05.536836Z"
    }
   },
   "outputs": [
    {
     "data": {
      "text/html": [
       "<div>\n",
       "<style scoped>\n",
       "    .dataframe tbody tr th:only-of-type {\n",
       "        vertical-align: middle;\n",
       "    }\n",
       "\n",
       "    .dataframe tbody tr th {\n",
       "        vertical-align: top;\n",
       "    }\n",
       "\n",
       "    .dataframe thead th {\n",
       "        text-align: right;\n",
       "    }\n",
       "</style>\n",
       "<table border=\"1\" class=\"dataframe\">\n",
       "  <thead>\n",
       "    <tr style=\"text-align: right;\">\n",
       "      <th></th>\n",
       "      <th>ObservationDate</th>\n",
       "      <th>Province/State</th>\n",
       "      <th>Country/Region</th>\n",
       "      <th>Last Update</th>\n",
       "      <th>Confirmed</th>\n",
       "      <th>Deaths</th>\n",
       "      <th>Recovered</th>\n",
       "    </tr>\n",
       "    <tr>\n",
       "      <th>SNo</th>\n",
       "      <th></th>\n",
       "      <th></th>\n",
       "      <th></th>\n",
       "      <th></th>\n",
       "      <th></th>\n",
       "      <th></th>\n",
       "      <th></th>\n",
       "    </tr>\n",
       "  </thead>\n",
       "  <tbody>\n",
       "    <tr>\n",
       "      <td>1</td>\n",
       "      <td>01/22/2020</td>\n",
       "      <td>Anhui</td>\n",
       "      <td>Mainland China</td>\n",
       "      <td>1/22/2020 17:00</td>\n",
       "      <td>1.0</td>\n",
       "      <td>0.0</td>\n",
       "      <td>0.0</td>\n",
       "    </tr>\n",
       "    <tr>\n",
       "      <td>2</td>\n",
       "      <td>01/22/2020</td>\n",
       "      <td>Beijing</td>\n",
       "      <td>Mainland China</td>\n",
       "      <td>1/22/2020 17:00</td>\n",
       "      <td>14.0</td>\n",
       "      <td>0.0</td>\n",
       "      <td>0.0</td>\n",
       "    </tr>\n",
       "    <tr>\n",
       "      <td>3</td>\n",
       "      <td>01/22/2020</td>\n",
       "      <td>Chongqing</td>\n",
       "      <td>Mainland China</td>\n",
       "      <td>1/22/2020 17:00</td>\n",
       "      <td>6.0</td>\n",
       "      <td>0.0</td>\n",
       "      <td>0.0</td>\n",
       "    </tr>\n",
       "    <tr>\n",
       "      <td>4</td>\n",
       "      <td>01/22/2020</td>\n",
       "      <td>Fujian</td>\n",
       "      <td>Mainland China</td>\n",
       "      <td>1/22/2020 17:00</td>\n",
       "      <td>1.0</td>\n",
       "      <td>0.0</td>\n",
       "      <td>0.0</td>\n",
       "    </tr>\n",
       "    <tr>\n",
       "      <td>5</td>\n",
       "      <td>01/22/2020</td>\n",
       "      <td>Gansu</td>\n",
       "      <td>Mainland China</td>\n",
       "      <td>1/22/2020 17:00</td>\n",
       "      <td>0.0</td>\n",
       "      <td>0.0</td>\n",
       "      <td>0.0</td>\n",
       "    </tr>\n",
       "    <tr>\n",
       "      <td>...</td>\n",
       "      <td>...</td>\n",
       "      <td>...</td>\n",
       "      <td>...</td>\n",
       "      <td>...</td>\n",
       "      <td>...</td>\n",
       "      <td>...</td>\n",
       "      <td>...</td>\n",
       "    </tr>\n",
       "    <tr>\n",
       "      <td>6718</td>\n",
       "      <td>03/18/2020</td>\n",
       "      <td>NaN</td>\n",
       "      <td>Guernsey</td>\n",
       "      <td>2020-03-17T18:33:03</td>\n",
       "      <td>0.0</td>\n",
       "      <td>0.0</td>\n",
       "      <td>0.0</td>\n",
       "    </tr>\n",
       "    <tr>\n",
       "      <td>6719</td>\n",
       "      <td>03/18/2020</td>\n",
       "      <td>NaN</td>\n",
       "      <td>Jersey</td>\n",
       "      <td>2020-03-17T18:33:03</td>\n",
       "      <td>0.0</td>\n",
       "      <td>0.0</td>\n",
       "      <td>0.0</td>\n",
       "    </tr>\n",
       "    <tr>\n",
       "      <td>6720</td>\n",
       "      <td>03/18/2020</td>\n",
       "      <td>NaN</td>\n",
       "      <td>Puerto Rico</td>\n",
       "      <td>2020-03-17T16:13:14</td>\n",
       "      <td>0.0</td>\n",
       "      <td>0.0</td>\n",
       "      <td>0.0</td>\n",
       "    </tr>\n",
       "    <tr>\n",
       "      <td>6721</td>\n",
       "      <td>03/18/2020</td>\n",
       "      <td>NaN</td>\n",
       "      <td>Republic of the Congo</td>\n",
       "      <td>2020-03-17T21:33:03</td>\n",
       "      <td>0.0</td>\n",
       "      <td>0.0</td>\n",
       "      <td>0.0</td>\n",
       "    </tr>\n",
       "    <tr>\n",
       "      <td>6722</td>\n",
       "      <td>03/18/2020</td>\n",
       "      <td>NaN</td>\n",
       "      <td>The Gambia</td>\n",
       "      <td>2020-03-18T14:13:56</td>\n",
       "      <td>0.0</td>\n",
       "      <td>0.0</td>\n",
       "      <td>0.0</td>\n",
       "    </tr>\n",
       "  </tbody>\n",
       "</table>\n",
       "<p>6722 rows × 7 columns</p>\n",
       "</div>"
      ],
      "text/plain": [
       "     ObservationDate Province/State         Country/Region  \\\n",
       "SNo                                                          \n",
       "1         01/22/2020          Anhui         Mainland China   \n",
       "2         01/22/2020        Beijing         Mainland China   \n",
       "3         01/22/2020      Chongqing         Mainland China   \n",
       "4         01/22/2020         Fujian         Mainland China   \n",
       "5         01/22/2020          Gansu         Mainland China   \n",
       "...              ...            ...                    ...   \n",
       "6718      03/18/2020            NaN               Guernsey   \n",
       "6719      03/18/2020            NaN                 Jersey   \n",
       "6720      03/18/2020            NaN            Puerto Rico   \n",
       "6721      03/18/2020            NaN  Republic of the Congo   \n",
       "6722      03/18/2020            NaN             The Gambia   \n",
       "\n",
       "              Last Update  Confirmed  Deaths  Recovered  \n",
       "SNo                                                      \n",
       "1         1/22/2020 17:00        1.0     0.0        0.0  \n",
       "2         1/22/2020 17:00       14.0     0.0        0.0  \n",
       "3         1/22/2020 17:00        6.0     0.0        0.0  \n",
       "4         1/22/2020 17:00        1.0     0.0        0.0  \n",
       "5         1/22/2020 17:00        0.0     0.0        0.0  \n",
       "...                   ...        ...     ...        ...  \n",
       "6718  2020-03-17T18:33:03        0.0     0.0        0.0  \n",
       "6719  2020-03-17T18:33:03        0.0     0.0        0.0  \n",
       "6720  2020-03-17T16:13:14        0.0     0.0        0.0  \n",
       "6721  2020-03-17T21:33:03        0.0     0.0        0.0  \n",
       "6722  2020-03-18T14:13:56        0.0     0.0        0.0  \n",
       "\n",
       "[6722 rows x 7 columns]"
      ]
     },
     "execution_count": 11,
     "metadata": {},
     "output_type": "execute_result"
    }
   ],
   "source": [
    "df_ = pd.read_csv('novel-corona-virus-2019-dataset/covid_19_data.csv',index_col=0)\n",
    "df_"
   ]
  },
  {
   "cell_type": "code",
   "execution_count": null,
   "metadata": {},
   "outputs": [],
   "source": []
  },
  {
   "cell_type": "code",
   "execution_count": 12,
   "metadata": {
    "ExecuteTime": {
     "end_time": "2020-04-25T23:14:06.389367Z",
     "start_time": "2020-04-25T23:14:06.387243Z"
    }
   },
   "outputs": [],
   "source": [
    "# ## KAGGLE DATASET COMMAND LINE VERS\n",
    "# df = pd.read_csv('2020-03-13/all_sources_metadata_2020-03-13.csv')\n",
    "\n",
    "# df.head()"
   ]
  },
  {
   "cell_type": "code",
   "execution_count": 13,
   "metadata": {
    "ExecuteTime": {
     "end_time": "2020-04-25T23:14:07.010551Z",
     "start_time": "2020-04-25T23:14:06.895171Z"
    }
   },
   "outputs": [],
   "source": [
    "## NEW DATA TO LOAD IN\n",
    "df_ts_dead = pd.read_csv('novel-corona-virus-2019-dataset/time_series_covid_19_deaths.csv')\n",
    "df_ts_recover = pd.read_csv('novel-corona-virus-2019-dataset/time_series_covid_19_recovered.csv')\n",
    "df_ts_conf = pd.read_csv('novel-corona-virus-2019-dataset/time_series_covid_19_confirmed.csv')\n",
    "\n",
    "\n",
    "df_dict = dict(confirmed =df_ts_conf,dead=df_ts_dead,recovered=df_ts_recover)\n",
    "\n",
    "for k,_df in df_dict.items():\n",
    "    _df = pd.melt(_df,id_vars=['Province/State','Country/Region','Lat','Long'], var_name='Day', value_name=k)\n",
    "    _df['Day']= pd.to_datetime(_df['Day'])\n",
    "    _df.set_index(['Country/Region','Province/State','Day'],inplace=True)\n",
    "    df_dict[k] = _df.drop(columns=['Lat','Long'])\n"
   ]
  },
  {
   "cell_type": "code",
   "execution_count": 14,
   "metadata": {
    "ExecuteTime": {
     "end_time": "2020-04-25T23:14:08.081919Z",
     "start_time": "2020-04-25T23:14:07.505631Z"
    }
   },
   "outputs": [
    {
     "data": {
      "text/html": [
       "<div>\n",
       "<style scoped>\n",
       "    .dataframe tbody tr th:only-of-type {\n",
       "        vertical-align: middle;\n",
       "    }\n",
       "\n",
       "    .dataframe tbody tr th {\n",
       "        vertical-align: top;\n",
       "    }\n",
       "\n",
       "    .dataframe thead th {\n",
       "        text-align: right;\n",
       "    }\n",
       "</style>\n",
       "<table border=\"1\" class=\"dataframe\">\n",
       "  <thead>\n",
       "    <tr style=\"text-align: right;\">\n",
       "      <th></th>\n",
       "      <th>Country/Region</th>\n",
       "      <th>Province/State</th>\n",
       "      <th>confirmed</th>\n",
       "      <th>dead</th>\n",
       "      <th>recovered</th>\n",
       "    </tr>\n",
       "    <tr>\n",
       "      <th>Day</th>\n",
       "      <th></th>\n",
       "      <th></th>\n",
       "      <th></th>\n",
       "      <th></th>\n",
       "      <th></th>\n",
       "    </tr>\n",
       "  </thead>\n",
       "  <tbody>\n",
       "    <tr>\n",
       "      <td>2020-01-22</td>\n",
       "      <td>Afghanistan</td>\n",
       "      <td>NaN</td>\n",
       "      <td>0</td>\n",
       "      <td>0</td>\n",
       "      <td>0</td>\n",
       "    </tr>\n",
       "    <tr>\n",
       "      <td>2020-01-23</td>\n",
       "      <td>Afghanistan</td>\n",
       "      <td>NaN</td>\n",
       "      <td>0</td>\n",
       "      <td>0</td>\n",
       "      <td>0</td>\n",
       "    </tr>\n",
       "    <tr>\n",
       "      <td>2020-01-24</td>\n",
       "      <td>Afghanistan</td>\n",
       "      <td>NaN</td>\n",
       "      <td>0</td>\n",
       "      <td>0</td>\n",
       "      <td>0</td>\n",
       "    </tr>\n",
       "    <tr>\n",
       "      <td>2020-01-25</td>\n",
       "      <td>Afghanistan</td>\n",
       "      <td>NaN</td>\n",
       "      <td>0</td>\n",
       "      <td>0</td>\n",
       "      <td>0</td>\n",
       "    </tr>\n",
       "    <tr>\n",
       "      <td>2020-01-26</td>\n",
       "      <td>Afghanistan</td>\n",
       "      <td>NaN</td>\n",
       "      <td>0</td>\n",
       "      <td>0</td>\n",
       "      <td>0</td>\n",
       "    </tr>\n",
       "  </tbody>\n",
       "</table>\n",
       "</div>"
      ],
      "text/plain": [
       "           Country/Region Province/State  confirmed  dead  recovered\n",
       "Day                                                                 \n",
       "2020-01-22    Afghanistan            NaN          0     0          0\n",
       "2020-01-23    Afghanistan            NaN          0     0          0\n",
       "2020-01-24    Afghanistan            NaN          0     0          0\n",
       "2020-01-25    Afghanistan            NaN          0     0          0\n",
       "2020-01-26    Afghanistan            NaN          0     0          0"
      ]
     },
     "execution_count": 14,
     "metadata": {},
     "output_type": "execute_result"
    }
   ],
   "source": [
    "df_dict['dead']\n",
    "df = pd.concat(list(df_dict.values()),axis=1)\n",
    "\n",
    "df = df.reset_index().set_index(\"Day\")\n",
    "\n",
    "df.head()"
   ]
  },
  {
   "cell_type": "markdown",
   "metadata": {},
   "source": [
    "## BOOKMARK"
   ]
  },
  {
   "cell_type": "code",
   "execution_count": 15,
   "metadata": {
    "ExecuteTime": {
     "end_time": "2020-04-25T23:14:09.490940Z",
     "start_time": "2020-04-25T23:14:09.486313Z"
    }
   },
   "outputs": [],
   "source": [
    "def get_country_ts(df, country,group_col='Country/Region',ts_col='Cases'):\n",
    "    ts = df.groupby(group_col).get_group(country )\n",
    "    # ts.set_index('date',inplace=True)\n",
    "\n",
    "    if ts_col is not None:\n",
    "        return ts[ts_col]\n",
    "    else:\n",
    "        return ts"
   ]
  },
  {
   "cell_type": "code",
   "execution_count": 16,
   "metadata": {
    "ExecuteTime": {
     "end_time": "2020-04-25T23:14:10.358688Z",
     "start_time": "2020-04-25T23:14:10.004415Z"
    }
   },
   "outputs": [
    {
     "data": {
      "text/plain": [
       "<matplotlib.axes._subplots.AxesSubplot at 0x1c22454dd8>"
      ]
     },
     "execution_count": 16,
     "metadata": {},
     "output_type": "execute_result"
    },
    {
     "data": {
      "image/png": "[encoded data removed]",
      "text/plain": [
       "<Figure size 432x288 with 1 Axes>"
      ]
     },
     "metadata": {
      "needs_background": "light"
     },
     "output_type": "display_data"
    }
   ],
   "source": [
    "get_country_ts(df,'US',ts_col=None)[['confirmed','dead','recovered']].plot()"
   ]
  },
  {
   "cell_type": "code",
   "execution_count": null,
   "metadata": {},
   "outputs": [],
   "source": []
  },
  {
   "cell_type": "markdown",
   "metadata": {},
   "source": [
    "## OLD CODE BELOW"
   ]
  },
  {
   "cell_type": "code",
   "execution_count": 17,
   "metadata": {
    "ExecuteTime": {
     "end_time": "2020-04-25T23:14:17.828365Z",
     "start_time": "2020-04-25T23:14:17.795079Z"
    }
   },
   "outputs": [
    {
     "data": {
      "text/html": [
       "<div>\n",
       "<style scoped>\n",
       "    .dataframe tbody tr th:only-of-type {\n",
       "        vertical-align: middle;\n",
       "    }\n",
       "\n",
       "    .dataframe tbody tr th {\n",
       "        vertical-align: top;\n",
       "    }\n",
       "\n",
       "    .dataframe thead th {\n",
       "        text-align: right;\n",
       "    }\n",
       "</style>\n",
       "<table border=\"1\" class=\"dataframe\">\n",
       "  <thead>\n",
       "    <tr style=\"text-align: right;\">\n",
       "      <th></th>\n",
       "      <th>Province/State</th>\n",
       "      <th>Country/Region</th>\n",
       "      <th>Lat</th>\n",
       "      <th>Long</th>\n",
       "      <th>1/22/20</th>\n",
       "      <th>1/23/20</th>\n",
       "      <th>1/24/20</th>\n",
       "      <th>1/25/20</th>\n",
       "      <th>1/26/20</th>\n",
       "      <th>1/27/20</th>\n",
       "      <th>...</th>\n",
       "      <th>3/5/20</th>\n",
       "      <th>3/6/20</th>\n",
       "      <th>3/7/20</th>\n",
       "      <th>3/8/20</th>\n",
       "      <th>3/9/20</th>\n",
       "      <th>3/10/20</th>\n",
       "      <th>3/11/20</th>\n",
       "      <th>3/12/20</th>\n",
       "      <th>3/13/20</th>\n",
       "      <th>3/14/20</th>\n",
       "    </tr>\n",
       "  </thead>\n",
       "  <tbody>\n",
       "    <tr>\n",
       "      <td>0</td>\n",
       "      <td>NaN</td>\n",
       "      <td>Thailand</td>\n",
       "      <td>15.0000</td>\n",
       "      <td>101.0000</td>\n",
       "      <td>2</td>\n",
       "      <td>3</td>\n",
       "      <td>5</td>\n",
       "      <td>7</td>\n",
       "      <td>8</td>\n",
       "      <td>8</td>\n",
       "      <td>...</td>\n",
       "      <td>47</td>\n",
       "      <td>48</td>\n",
       "      <td>50</td>\n",
       "      <td>50</td>\n",
       "      <td>50</td>\n",
       "      <td>53</td>\n",
       "      <td>59</td>\n",
       "      <td>70</td>\n",
       "      <td>75</td>\n",
       "      <td>82</td>\n",
       "    </tr>\n",
       "    <tr>\n",
       "      <td>1</td>\n",
       "      <td>NaN</td>\n",
       "      <td>Japan</td>\n",
       "      <td>36.0000</td>\n",
       "      <td>138.0000</td>\n",
       "      <td>2</td>\n",
       "      <td>1</td>\n",
       "      <td>2</td>\n",
       "      <td>2</td>\n",
       "      <td>4</td>\n",
       "      <td>4</td>\n",
       "      <td>...</td>\n",
       "      <td>360</td>\n",
       "      <td>420</td>\n",
       "      <td>461</td>\n",
       "      <td>502</td>\n",
       "      <td>511</td>\n",
       "      <td>581</td>\n",
       "      <td>639</td>\n",
       "      <td>639</td>\n",
       "      <td>701</td>\n",
       "      <td>773</td>\n",
       "    </tr>\n",
       "    <tr>\n",
       "      <td>2</td>\n",
       "      <td>NaN</td>\n",
       "      <td>Singapore</td>\n",
       "      <td>1.2833</td>\n",
       "      <td>103.8333</td>\n",
       "      <td>0</td>\n",
       "      <td>1</td>\n",
       "      <td>3</td>\n",
       "      <td>3</td>\n",
       "      <td>4</td>\n",
       "      <td>5</td>\n",
       "      <td>...</td>\n",
       "      <td>117</td>\n",
       "      <td>130</td>\n",
       "      <td>138</td>\n",
       "      <td>150</td>\n",
       "      <td>150</td>\n",
       "      <td>160</td>\n",
       "      <td>178</td>\n",
       "      <td>178</td>\n",
       "      <td>200</td>\n",
       "      <td>212</td>\n",
       "    </tr>\n",
       "    <tr>\n",
       "      <td>3</td>\n",
       "      <td>NaN</td>\n",
       "      <td>Nepal</td>\n",
       "      <td>28.1667</td>\n",
       "      <td>84.2500</td>\n",
       "      <td>0</td>\n",
       "      <td>0</td>\n",
       "      <td>0</td>\n",
       "      <td>1</td>\n",
       "      <td>1</td>\n",
       "      <td>1</td>\n",
       "      <td>...</td>\n",
       "      <td>1</td>\n",
       "      <td>1</td>\n",
       "      <td>1</td>\n",
       "      <td>1</td>\n",
       "      <td>1</td>\n",
       "      <td>1</td>\n",
       "      <td>1</td>\n",
       "      <td>1</td>\n",
       "      <td>1</td>\n",
       "      <td>1</td>\n",
       "    </tr>\n",
       "    <tr>\n",
       "      <td>4</td>\n",
       "      <td>NaN</td>\n",
       "      <td>Malaysia</td>\n",
       "      <td>2.5000</td>\n",
       "      <td>112.5000</td>\n",
       "      <td>0</td>\n",
       "      <td>0</td>\n",
       "      <td>0</td>\n",
       "      <td>3</td>\n",
       "      <td>4</td>\n",
       "      <td>4</td>\n",
       "      <td>...</td>\n",
       "      <td>50</td>\n",
       "      <td>83</td>\n",
       "      <td>93</td>\n",
       "      <td>99</td>\n",
       "      <td>117</td>\n",
       "      <td>129</td>\n",
       "      <td>149</td>\n",
       "      <td>149</td>\n",
       "      <td>197</td>\n",
       "      <td>238</td>\n",
       "    </tr>\n",
       "    <tr>\n",
       "      <td>...</td>\n",
       "      <td>...</td>\n",
       "      <td>...</td>\n",
       "      <td>...</td>\n",
       "      <td>...</td>\n",
       "      <td>...</td>\n",
       "      <td>...</td>\n",
       "      <td>...</td>\n",
       "      <td>...</td>\n",
       "      <td>...</td>\n",
       "      <td>...</td>\n",
       "      <td>...</td>\n",
       "      <td>...</td>\n",
       "      <td>...</td>\n",
       "      <td>...</td>\n",
       "      <td>...</td>\n",
       "      <td>...</td>\n",
       "      <td>...</td>\n",
       "      <td>...</td>\n",
       "      <td>...</td>\n",
       "      <td>...</td>\n",
       "      <td>...</td>\n",
       "    </tr>\n",
       "    <tr>\n",
       "      <td>437</td>\n",
       "      <td>NaN</td>\n",
       "      <td>Saint Lucia</td>\n",
       "      <td>13.9094</td>\n",
       "      <td>-60.9789</td>\n",
       "      <td>0</td>\n",
       "      <td>0</td>\n",
       "      <td>0</td>\n",
       "      <td>0</td>\n",
       "      <td>0</td>\n",
       "      <td>0</td>\n",
       "      <td>...</td>\n",
       "      <td>0</td>\n",
       "      <td>0</td>\n",
       "      <td>0</td>\n",
       "      <td>0</td>\n",
       "      <td>0</td>\n",
       "      <td>0</td>\n",
       "      <td>0</td>\n",
       "      <td>0</td>\n",
       "      <td>0</td>\n",
       "      <td>1</td>\n",
       "    </tr>\n",
       "    <tr>\n",
       "      <td>438</td>\n",
       "      <td>NaN</td>\n",
       "      <td>Saint Vincent and the Grenadines</td>\n",
       "      <td>12.9843</td>\n",
       "      <td>-61.2872</td>\n",
       "      <td>0</td>\n",
       "      <td>0</td>\n",
       "      <td>0</td>\n",
       "      <td>0</td>\n",
       "      <td>0</td>\n",
       "      <td>0</td>\n",
       "      <td>...</td>\n",
       "      <td>0</td>\n",
       "      <td>0</td>\n",
       "      <td>0</td>\n",
       "      <td>0</td>\n",
       "      <td>0</td>\n",
       "      <td>0</td>\n",
       "      <td>0</td>\n",
       "      <td>0</td>\n",
       "      <td>0</td>\n",
       "      <td>1</td>\n",
       "    </tr>\n",
       "    <tr>\n",
       "      <td>439</td>\n",
       "      <td>NaN</td>\n",
       "      <td>Suriname</td>\n",
       "      <td>3.9193</td>\n",
       "      <td>-56.0278</td>\n",
       "      <td>0</td>\n",
       "      <td>0</td>\n",
       "      <td>0</td>\n",
       "      <td>0</td>\n",
       "      <td>0</td>\n",
       "      <td>0</td>\n",
       "      <td>...</td>\n",
       "      <td>0</td>\n",
       "      <td>0</td>\n",
       "      <td>0</td>\n",
       "      <td>0</td>\n",
       "      <td>0</td>\n",
       "      <td>0</td>\n",
       "      <td>0</td>\n",
       "      <td>0</td>\n",
       "      <td>0</td>\n",
       "      <td>1</td>\n",
       "    </tr>\n",
       "    <tr>\n",
       "      <td>440</td>\n",
       "      <td>Virgin Islands, U.S.</td>\n",
       "      <td>US</td>\n",
       "      <td>18.3358</td>\n",
       "      <td>-64.8963</td>\n",
       "      <td>0</td>\n",
       "      <td>0</td>\n",
       "      <td>0</td>\n",
       "      <td>0</td>\n",
       "      <td>0</td>\n",
       "      <td>0</td>\n",
       "      <td>...</td>\n",
       "      <td>0</td>\n",
       "      <td>0</td>\n",
       "      <td>0</td>\n",
       "      <td>0</td>\n",
       "      <td>0</td>\n",
       "      <td>0</td>\n",
       "      <td>0</td>\n",
       "      <td>0</td>\n",
       "      <td>0</td>\n",
       "      <td>1</td>\n",
       "    </tr>\n",
       "    <tr>\n",
       "      <td>441</td>\n",
       "      <td>NaN</td>\n",
       "      <td>occupied Palestinian territory</td>\n",
       "      <td>31.9522</td>\n",
       "      <td>35.2332</td>\n",
       "      <td>0</td>\n",
       "      <td>0</td>\n",
       "      <td>0</td>\n",
       "      <td>0</td>\n",
       "      <td>0</td>\n",
       "      <td>0</td>\n",
       "      <td>...</td>\n",
       "      <td>0</td>\n",
       "      <td>0</td>\n",
       "      <td>0</td>\n",
       "      <td>0</td>\n",
       "      <td>0</td>\n",
       "      <td>0</td>\n",
       "      <td>0</td>\n",
       "      <td>0</td>\n",
       "      <td>0</td>\n",
       "      <td>0</td>\n",
       "    </tr>\n",
       "  </tbody>\n",
       "</table>\n",
       "<p>442 rows × 57 columns</p>\n",
       "</div>"
      ],
      "text/plain": [
       "           Province/State                    Country/Region      Lat  \\\n",
       "0                     NaN                          Thailand  15.0000   \n",
       "1                     NaN                             Japan  36.0000   \n",
       "2                     NaN                         Singapore   1.2833   \n",
       "3                     NaN                             Nepal  28.1667   \n",
       "4                     NaN                          Malaysia   2.5000   \n",
       "..                    ...                               ...      ...   \n",
       "437                   NaN                       Saint Lucia  13.9094   \n",
       "438                   NaN  Saint Vincent and the Grenadines  12.9843   \n",
       "439                   NaN                          Suriname   3.9193   \n",
       "440  Virgin Islands, U.S.                                US  18.3358   \n",
       "441                   NaN    occupied Palestinian territory  31.9522   \n",
       "\n",
       "         Long  1/22/20  1/23/20  1/24/20  1/25/20  1/26/20  1/27/20  ...  \\\n",
       "0    101.0000        2        3        5        7        8        8  ...   \n",
       "1    138.0000        2        1        2        2        4        4  ...   \n",
       "2    103.8333        0        1        3        3        4        5  ...   \n",
       "3     84.2500        0        0        0        1        1        1  ...   \n",
       "4    112.5000        0        0        0        3        4        4  ...   \n",
       "..        ...      ...      ...      ...      ...      ...      ...  ...   \n",
       "437  -60.9789        0        0        0        0        0        0  ...   \n",
       "438  -61.2872        0        0        0        0        0        0  ...   \n",
       "439  -56.0278        0        0        0        0        0        0  ...   \n",
       "440  -64.8963        0        0        0        0        0        0  ...   \n",
       "441   35.2332        0        0        0        0        0        0  ...   \n",
       "\n",
       "     3/5/20  3/6/20  3/7/20  3/8/20  3/9/20  3/10/20  3/11/20  3/12/20  \\\n",
       "0        47      48      50      50      50       53       59       70   \n",
       "1       360     420     461     502     511      581      639      639   \n",
       "2       117     130     138     150     150      160      178      178   \n",
       "3         1       1       1       1       1        1        1        1   \n",
       "4        50      83      93      99     117      129      149      149   \n",
       "..      ...     ...     ...     ...     ...      ...      ...      ...   \n",
       "437       0       0       0       0       0        0        0        0   \n",
       "438       0       0       0       0       0        0        0        0   \n",
       "439       0       0       0       0       0        0        0        0   \n",
       "440       0       0       0       0       0        0        0        0   \n",
       "441       0       0       0       0       0        0        0        0   \n",
       "\n",
       "     3/13/20  3/14/20  \n",
       "0         75       82  \n",
       "1        701      773  \n",
       "2        200      212  \n",
       "3          1        1  \n",
       "4        197      238  \n",
       "..       ...      ...  \n",
       "437        0        1  \n",
       "438        0        1  \n",
       "439        0        1  \n",
       "440        0        1  \n",
       "441        0        0  \n",
       "\n",
       "[442 rows x 57 columns]"
      ]
     },
     "execution_count": 17,
     "metadata": {},
     "output_type": "execute_result"
    }
   ],
   "source": [
    "df_ts_conf = pd.read_csv('novel-corona-virus-2019-dataset/time_series_covid_19_confirmed.csv')\n",
    "df_ts_conf"
   ]
  },
  {
   "cell_type": "code",
   "execution_count": 18,
   "metadata": {
    "ExecuteTime": {
     "end_time": "2020-04-25T23:14:18.424776Z",
     "start_time": "2020-04-25T23:14:18.399754Z"
    }
   },
   "outputs": [
    {
     "data": {
      "text/html": [
       "<div>\n",
       "<style scoped>\n",
       "    .dataframe tbody tr th:only-of-type {\n",
       "        vertical-align: middle;\n",
       "    }\n",
       "\n",
       "    .dataframe tbody tr th {\n",
       "        vertical-align: top;\n",
       "    }\n",
       "\n",
       "    .dataframe thead th {\n",
       "        text-align: right;\n",
       "    }\n",
       "</style>\n",
       "<table border=\"1\" class=\"dataframe\">\n",
       "  <thead>\n",
       "    <tr style=\"text-align: right;\">\n",
       "      <th></th>\n",
       "      <th>Province/State</th>\n",
       "      <th>Country/Region</th>\n",
       "      <th>Lat</th>\n",
       "      <th>Long</th>\n",
       "      <th>Day</th>\n",
       "      <th>Cases</th>\n",
       "    </tr>\n",
       "  </thead>\n",
       "  <tbody>\n",
       "    <tr>\n",
       "      <td>0</td>\n",
       "      <td>NaN</td>\n",
       "      <td>Thailand</td>\n",
       "      <td>15.0000</td>\n",
       "      <td>101.0000</td>\n",
       "      <td>1/22/20</td>\n",
       "      <td>2</td>\n",
       "    </tr>\n",
       "    <tr>\n",
       "      <td>1</td>\n",
       "      <td>NaN</td>\n",
       "      <td>Japan</td>\n",
       "      <td>36.0000</td>\n",
       "      <td>138.0000</td>\n",
       "      <td>1/22/20</td>\n",
       "      <td>2</td>\n",
       "    </tr>\n",
       "    <tr>\n",
       "      <td>2</td>\n",
       "      <td>NaN</td>\n",
       "      <td>Singapore</td>\n",
       "      <td>1.2833</td>\n",
       "      <td>103.8333</td>\n",
       "      <td>1/22/20</td>\n",
       "      <td>0</td>\n",
       "    </tr>\n",
       "    <tr>\n",
       "      <td>3</td>\n",
       "      <td>NaN</td>\n",
       "      <td>Nepal</td>\n",
       "      <td>28.1667</td>\n",
       "      <td>84.2500</td>\n",
       "      <td>1/22/20</td>\n",
       "      <td>0</td>\n",
       "    </tr>\n",
       "    <tr>\n",
       "      <td>4</td>\n",
       "      <td>NaN</td>\n",
       "      <td>Malaysia</td>\n",
       "      <td>2.5000</td>\n",
       "      <td>112.5000</td>\n",
       "      <td>1/22/20</td>\n",
       "      <td>0</td>\n",
       "    </tr>\n",
       "    <tr>\n",
       "      <td>...</td>\n",
       "      <td>...</td>\n",
       "      <td>...</td>\n",
       "      <td>...</td>\n",
       "      <td>...</td>\n",
       "      <td>...</td>\n",
       "      <td>...</td>\n",
       "    </tr>\n",
       "    <tr>\n",
       "      <td>23421</td>\n",
       "      <td>NaN</td>\n",
       "      <td>Saint Lucia</td>\n",
       "      <td>13.9094</td>\n",
       "      <td>-60.9789</td>\n",
       "      <td>3/14/20</td>\n",
       "      <td>1</td>\n",
       "    </tr>\n",
       "    <tr>\n",
       "      <td>23422</td>\n",
       "      <td>NaN</td>\n",
       "      <td>Saint Vincent and the Grenadines</td>\n",
       "      <td>12.9843</td>\n",
       "      <td>-61.2872</td>\n",
       "      <td>3/14/20</td>\n",
       "      <td>1</td>\n",
       "    </tr>\n",
       "    <tr>\n",
       "      <td>23423</td>\n",
       "      <td>NaN</td>\n",
       "      <td>Suriname</td>\n",
       "      <td>3.9193</td>\n",
       "      <td>-56.0278</td>\n",
       "      <td>3/14/20</td>\n",
       "      <td>1</td>\n",
       "    </tr>\n",
       "    <tr>\n",
       "      <td>23424</td>\n",
       "      <td>Virgin Islands, U.S.</td>\n",
       "      <td>US</td>\n",
       "      <td>18.3358</td>\n",
       "      <td>-64.8963</td>\n",
       "      <td>3/14/20</td>\n",
       "      <td>1</td>\n",
       "    </tr>\n",
       "    <tr>\n",
       "      <td>23425</td>\n",
       "      <td>NaN</td>\n",
       "      <td>occupied Palestinian territory</td>\n",
       "      <td>31.9522</td>\n",
       "      <td>35.2332</td>\n",
       "      <td>3/14/20</td>\n",
       "      <td>0</td>\n",
       "    </tr>\n",
       "  </tbody>\n",
       "</table>\n",
       "<p>23426 rows × 6 columns</p>\n",
       "</div>"
      ],
      "text/plain": [
       "             Province/State                    Country/Region      Lat  \\\n",
       "0                       NaN                          Thailand  15.0000   \n",
       "1                       NaN                             Japan  36.0000   \n",
       "2                       NaN                         Singapore   1.2833   \n",
       "3                       NaN                             Nepal  28.1667   \n",
       "4                       NaN                          Malaysia   2.5000   \n",
       "...                     ...                               ...      ...   \n",
       "23421                   NaN                       Saint Lucia  13.9094   \n",
       "23422                   NaN  Saint Vincent and the Grenadines  12.9843   \n",
       "23423                   NaN                          Suriname   3.9193   \n",
       "23424  Virgin Islands, U.S.                                US  18.3358   \n",
       "23425                   NaN    occupied Palestinian territory  31.9522   \n",
       "\n",
       "           Long      Day  Cases  \n",
       "0      101.0000  1/22/20      2  \n",
       "1      138.0000  1/22/20      2  \n",
       "2      103.8333  1/22/20      0  \n",
       "3       84.2500  1/22/20      0  \n",
       "4      112.5000  1/22/20      0  \n",
       "...         ...      ...    ...  \n",
       "23421  -60.9789  3/14/20      1  \n",
       "23422  -61.2872  3/14/20      1  \n",
       "23423  -56.0278  3/14/20      1  \n",
       "23424  -64.8963  3/14/20      1  \n",
       "23425   35.2332  3/14/20      0  \n",
       "\n",
       "[23426 rows x 6 columns]"
      ]
     },
     "execution_count": 18,
     "metadata": {},
     "output_type": "execute_result"
    }
   ],
   "source": [
    "df = pd.melt(df_ts_conf,id_vars=['Province/State','Country/Region','Lat','Long'], var_name='Day', value_name='Cases')\n",
    "df"
   ]
  },
  {
   "cell_type": "code",
   "execution_count": 19,
   "metadata": {
    "ExecuteTime": {
     "end_time": "2020-04-25T23:14:18.630417Z",
     "start_time": "2020-04-25T23:14:18.616332Z"
    }
   },
   "outputs": [],
   "source": [
    "df['date'] = pd.to_datetime(df['Day'])\n"
   ]
  },
  {
   "cell_type": "code",
   "execution_count": 20,
   "metadata": {
    "ExecuteTime": {
     "end_time": "2020-04-25T23:14:18.873237Z",
     "start_time": "2020-04-25T23:14:18.866958Z"
    }
   },
   "outputs": [
    {
     "data": {
      "text/plain": [
       "['Afghanistan',\n",
       " 'Albania',\n",
       " 'Algeria',\n",
       " 'Andorra',\n",
       " 'Antigua and Barbuda',\n",
       " 'Argentina',\n",
       " 'Armenia',\n",
       " 'Aruba',\n",
       " 'Australia',\n",
       " 'Austria',\n",
       " 'Azerbaijan',\n",
       " 'Bahrain',\n",
       " 'Bangladesh',\n",
       " 'Belarus',\n",
       " 'Belgium',\n",
       " 'Bhutan',\n",
       " 'Bolivia',\n",
       " 'Bosnia and Herzegovina',\n",
       " 'Brazil',\n",
       " 'Brunei',\n",
       " 'Bulgaria',\n",
       " 'Burkina Faso',\n",
       " 'Cambodia',\n",
       " 'Cameroon',\n",
       " 'Canada',\n",
       " 'Cayman Islands',\n",
       " 'Chile',\n",
       " 'China',\n",
       " 'Colombia',\n",
       " 'Congo (Kinshasa)',\n",
       " 'Costa Rica',\n",
       " \"Cote d'Ivoire\",\n",
       " 'Croatia',\n",
       " 'Cruise Ship',\n",
       " 'Cuba',\n",
       " 'Curacao',\n",
       " 'Cyprus',\n",
       " 'Czechia',\n",
       " 'Denmark',\n",
       " 'Dominican Republic',\n",
       " 'Ecuador',\n",
       " 'Egypt',\n",
       " 'Estonia',\n",
       " 'Eswatini',\n",
       " 'Ethiopia',\n",
       " 'Finland',\n",
       " 'France',\n",
       " 'French Guiana',\n",
       " 'Gabon',\n",
       " 'Georgia',\n",
       " 'Germany',\n",
       " 'Ghana',\n",
       " 'Greece',\n",
       " 'Guadeloupe',\n",
       " 'Guatemala',\n",
       " 'Guernsey',\n",
       " 'Guinea',\n",
       " 'Guyana',\n",
       " 'Holy See',\n",
       " 'Honduras',\n",
       " 'Hungary',\n",
       " 'Iceland',\n",
       " 'India',\n",
       " 'Indonesia',\n",
       " 'Iran',\n",
       " 'Iraq',\n",
       " 'Ireland',\n",
       " 'Israel',\n",
       " 'Italy',\n",
       " 'Jamaica',\n",
       " 'Japan',\n",
       " 'Jersey',\n",
       " 'Jordan',\n",
       " 'Kazakhstan',\n",
       " 'Kenya',\n",
       " 'Korea, South',\n",
       " 'Kuwait',\n",
       " 'Latvia',\n",
       " 'Lebanon',\n",
       " 'Liechtenstein',\n",
       " 'Lithuania',\n",
       " 'Luxembourg',\n",
       " 'Malaysia',\n",
       " 'Maldives',\n",
       " 'Malta',\n",
       " 'Martinique',\n",
       " 'Mauritania',\n",
       " 'Mexico',\n",
       " 'Moldova',\n",
       " 'Monaco',\n",
       " 'Mongolia',\n",
       " 'Morocco',\n",
       " 'Namibia',\n",
       " 'Nepal',\n",
       " 'Netherlands',\n",
       " 'New Zealand',\n",
       " 'Nigeria',\n",
       " 'North Macedonia',\n",
       " 'Norway',\n",
       " 'Oman',\n",
       " 'Pakistan',\n",
       " 'Panama',\n",
       " 'Paraguay',\n",
       " 'Peru',\n",
       " 'Philippines',\n",
       " 'Poland',\n",
       " 'Portugal',\n",
       " 'Qatar',\n",
       " 'Reunion',\n",
       " 'Romania',\n",
       " 'Russia',\n",
       " 'Rwanda',\n",
       " 'Saint Lucia',\n",
       " 'Saint Vincent and the Grenadines',\n",
       " 'San Marino',\n",
       " 'Saudi Arabia',\n",
       " 'Senegal',\n",
       " 'Serbia',\n",
       " 'Seychelles',\n",
       " 'Singapore',\n",
       " 'Slovakia',\n",
       " 'Slovenia',\n",
       " 'South Africa',\n",
       " 'Spain',\n",
       " 'Sri Lanka',\n",
       " 'Sudan',\n",
       " 'Suriname',\n",
       " 'Sweden',\n",
       " 'Switzerland',\n",
       " 'Taiwan*',\n",
       " 'Thailand',\n",
       " 'Togo',\n",
       " 'Trinidad and Tobago',\n",
       " 'Tunisia',\n",
       " 'Turkey',\n",
       " 'US',\n",
       " 'Ukraine',\n",
       " 'United Arab Emirates',\n",
       " 'United Kingdom',\n",
       " 'Uruguay',\n",
       " 'Venezuela',\n",
       " 'Vietnam',\n",
       " 'occupied Palestinian territory']"
      ]
     },
     "execution_count": 20,
     "metadata": {},
     "output_type": "execute_result"
    }
   ],
   "source": [
    "sorted(df['Country/Region'].unique())"
   ]
  },
  {
   "cell_type": "code",
   "execution_count": 21,
   "metadata": {
    "ExecuteTime": {
     "end_time": "2020-04-25T23:14:19.760800Z",
     "start_time": "2020-04-25T23:14:19.332229Z"
    }
   },
   "outputs": [],
   "source": [
    "TS = {}\n",
    "for country in df.groupby('Country/Region').groups:\n",
    "    ts_temp = df.groupby('Country/Region').get_group(country)\n",
    "    ts_temp.set_index('date',inplace=True)\n",
    "    TS[country] =ts_temp"
   ]
  },
  {
   "cell_type": "code",
   "execution_count": 22,
   "metadata": {
    "ExecuteTime": {
     "end_time": "2020-04-25T23:14:19.854627Z",
     "start_time": "2020-04-25T23:14:19.840256Z"
    }
   },
   "outputs": [
    {
     "data": {
      "text/plain": [
       "date\n",
       "2020-01-22    0\n",
       "2020-01-22    0\n",
       "2020-01-22    0\n",
       "2020-01-22    0\n",
       "2020-01-22    0\n",
       "             ..\n",
       "2020-03-14    0\n",
       "2020-03-14    0\n",
       "2020-03-14    6\n",
       "2020-03-14    3\n",
       "2020-03-14    1\n",
       "Name: Cases, Length: 13038, dtype: int64"
      ]
     },
     "execution_count": 22,
     "metadata": {},
     "output_type": "execute_result"
    }
   ],
   "source": [
    "def get_country_ts(df, country,group_col='Country/Region',ts_col='Cases'):\n",
    "    ts = df.groupby(group_col).get_group(country )\n",
    "    ts.set_index('date',inplace=True)\n",
    "\n",
    "    if ts_col is not None:\n",
    "        return ts[ts_col]\n",
    "    else:\n",
    "        return tsx\n",
    "usa = get_country_ts(df,'US')\n",
    "usa\n",
    "\n",
    "\n"
   ]
  },
  {
   "cell_type": "code",
   "execution_count": null,
   "metadata": {},
   "outputs": [],
   "source": [
    "\n"
   ]
  },
  {
   "cell_type": "code",
   "execution_count": 23,
   "metadata": {
    "ExecuteTime": {
     "end_time": "2020-04-25T23:14:20.604527Z",
     "start_time": "2020-04-25T23:14:20.599932Z"
    }
   },
   "outputs": [
    {
     "data": {
      "text/plain": [
       "date\n",
       "2020-03-14    0\n",
       "2020-03-14    0\n",
       "2020-03-14    0\n",
       "2020-03-14    0\n",
       "2020-03-14    0\n",
       "2020-03-14    0\n",
       "2020-03-14    0\n",
       "2020-03-14    6\n",
       "2020-03-14    3\n",
       "2020-03-14    1\n",
       "Name: Cases, dtype: int64"
      ]
     },
     "execution_count": 23,
     "metadata": {},
     "output_type": "execute_result"
    }
   ],
   "source": [
    "\n",
    "usa.iloc[-10:]"
   ]
  },
  {
   "cell_type": "code",
   "execution_count": 24,
   "metadata": {
    "ExecuteTime": {
     "end_time": "2020-04-25T23:14:21.197552Z",
     "start_time": "2020-04-25T23:14:20.804385Z"
    }
   },
   "outputs": [
    {
     "data": {
      "text/plain": [
       "<matplotlib.axes._subplots.AxesSubplot at 0x1c22713898>"
      ]
     },
     "execution_count": 24,
     "metadata": {},
     "output_type": "execute_result"
    },
    {
     "data": {
      "image/png": "[encoded data removed]",
      "text/plain": [
       "<Figure size 432x288 with 1 Axes>"
      ]
     },
     "metadata": {
      "needs_background": "light"
     },
     "output_type": "display_data"
    }
   ],
   "source": [
    "italy = get_country_ts(df,'Italy')\n",
    "italy.plot()"
   ]
  },
  {
   "cell_type": "code",
   "execution_count": 25,
   "metadata": {
    "ExecuteTime": {
     "end_time": "2020-04-25T23:14:21.296641Z",
     "start_time": "2020-04-25T23:14:21.292379Z"
    }
   },
   "outputs": [],
   "source": [
    "def get_country_cum_ts(df, group='US'):\n",
    "    US = df.groupby('Country/Region').get_group(group)\n",
    "    US.set_index('date',inplace=True)\n",
    "    ts_us = US.drop(columns=['Province/State','Day','Country/Region'])['Cases'].cumsum()#.plot()\n",
    "    return ts_us"
   ]
  },
  {
   "cell_type": "code",
   "execution_count": 26,
   "metadata": {
    "ExecuteTime": {
     "end_time": "2020-04-25T23:14:22.340932Z",
     "start_time": "2020-04-25T23:14:21.807951Z"
    }
   },
   "outputs": [
    {
     "data": {
      "text/plain": [
       "<matplotlib.legend.Legend at 0x1c23d977f0>"
      ]
     },
     "execution_count": 26,
     "metadata": {},
     "output_type": "execute_result"
    },
    {
     "data": {
      "image/png": "[encoded data removed]",
      "text/plain": [
       "<Figure size 432x288 with 1 Axes>"
      ]
     },
     "metadata": {
      "needs_background": "light"
     },
     "output_type": "display_data"
    }
   ],
   "source": [
    "ts_it = get_country_cum_ts(df,'Italy')\n",
    "ts_us = get_country_cum_ts(df,'US')\n",
    "ts_ch = get_country_cum_ts(df,'China')\n",
    "ts_ko = get_country_cum_ts(df,'Korea, South')\n",
    "ts_it.plot(label='Italty')\n",
    "ts_us.plot(label='US')\n",
    "plt.legend()"
   ]
  },
  {
   "cell_type": "code",
   "execution_count": 27,
   "metadata": {
    "ExecuteTime": {
     "end_time": "2020-04-25T23:14:22.805469Z",
     "start_time": "2020-04-25T23:14:22.800419Z"
    }
   },
   "outputs": [
    {
     "data": {
      "text/plain": [
       "date\n",
       "2020-01-22    0\n",
       "2020-01-23    0\n",
       "2020-01-24    0\n",
       "2020-01-25    0\n",
       "2020-01-26    0\n",
       "Name: Cases, dtype: int64"
      ]
     },
     "execution_count": 27,
     "metadata": {},
     "output_type": "execute_result"
    }
   ],
   "source": [
    "ts_it.head()"
   ]
  },
  {
   "cell_type": "code",
   "execution_count": 29,
   "metadata": {
    "ExecuteTime": {
     "end_time": "2020-04-25T23:14:49.349405Z",
     "start_time": "2020-04-25T23:14:49.347342Z"
    }
   },
   "outputs": [],
   "source": [
    "\n",
    "# ts_df = pd.concat([ts_us,ts_it,ts_ch,ts_ko],axis=1)\n",
    "# ts_df.plot(subplots=True)"
   ]
  },
  {
   "cell_type": "code",
   "execution_count": null,
   "metadata": {
    "ExecuteTime": {
     "end_time": "2020-04-25T23:14:31.400587Z",
     "start_time": "2020-04-25T23:14:24.854Z"
    }
   },
   "outputs": [],
   "source": [
    "# US = df.groupby('Country/Region').get_group('US')\n",
    "# US.set_index('date',inplace=True)\n",
    "# ts_us = US.drop(columns=['Province/State','Day','Country/Region'])['Cases'].cumsum()#.plot()\n",
    "# ts_us.plot()"
   ]
  },
  {
   "cell_type": "code",
   "execution_count": null,
   "metadata": {
    "ExecuteTime": {
     "end_time": "2020-04-25T23:14:31.401431Z",
     "start_time": "2020-04-25T23:14:25.262Z"
    }
   },
   "outputs": [],
   "source": [
    "# IT = df.groupby('Country/Region').get_group('Italy')\n",
    "# IT.set_index('date',inplace=True)\n",
    "# ts_it = IT.drop(columns=['Province/State','Day','Country/Region'])['Cases'].cumsum()#.plot()"
   ]
  },
  {
   "cell_type": "code",
   "execution_count": null,
   "metadata": {
    "ExecuteTime": {
     "end_time": "2020-04-25T23:14:31.402100Z",
     "start_time": "2020-04-25T23:14:25.577Z"
    }
   },
   "outputs": [],
   "source": [
    "# pd.concat"
   ]
  },
  {
   "cell_type": "code",
   "execution_count": null,
   "metadata": {
    "ExecuteTime": {
     "end_time": "2020-04-25T23:14:31.403890Z",
     "start_time": "2020-04-25T23:14:26.209Z"
    }
   },
   "outputs": [],
   "source": [
    "ts_it.plot(label='Italy')\n",
    "ts_us.plot(label='US')\n",
    "# ts_ch.plot(label='China')\n",
    "plt.legend()"
   ]
  },
  {
   "cell_type": "code",
   "execution_count": null,
   "metadata": {
    "ExecuteTime": {
     "end_time": "2020-04-25T23:14:31.404838Z",
     "start_time": "2020-04-25T23:14:27.524Z"
    }
   },
   "outputs": [],
   "source": [
    "fig, ax = plt.subplots()\n",
    "for country in TS:\n",
    "    TS[country]['Cases'].cumsum().plot(label=country,ax=ax)\n",
    "\n",
    "ax.legend(bbox_to_anchor=(1.1, 1.05))\n",
    "\n",
    "\n",
    "# plt.legend()"
   ]
  },
  {
   "cell_type": "code",
   "execution_count": null,
   "metadata": {},
   "outputs": [],
   "source": []
  }
 ],
 "metadata": {
  "file_extension": ".py",
  "kernelspec": {
   "display_name": "Python 3.6.9 64-bit",
   "language": "python",
   "name": "python36964bit03393eb90e194b7a9fdc02111cc1aa9d"
  },
  "mimetype": "text/x-python",
  "name": "python",
  "npconvert_exporter": "python",
  "pygments_lexer": "ipython3",
  "toc": {
   "base_numbering": 1,
   "nav_menu": {},
   "number_sections": false,
   "sideBar": true,
   "skip_h1_title": false,
   "title_cell": "Table of Contents",
   "title_sidebar": "Contents",
   "toc_cell": false,
   "toc_position": {},
   "toc_section_display": true,
   "toc_window_display": true
  },
  "version": 3
 },
 "nbformat": 4,
 "nbformat_minor": 2
}
