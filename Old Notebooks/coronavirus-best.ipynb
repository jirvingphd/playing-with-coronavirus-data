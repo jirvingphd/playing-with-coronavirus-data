{
 "cells": [
  {
   "cell_type": "markdown",
   "metadata": {},
   "source": [
    "# Playing with Coronavirus Timeseries\n",
    "\n",
    "- https://www.kaggle.com/sudalairajkumar/novel-corona-virus-2019-dataset\n"
   ]
  },
  {
   "cell_type": "markdown",
   "metadata": {},
   "source": [
    "## To Do:"
   ]
  },
  {
   "cell_type": "markdown",
   "metadata": {},
   "source": [
    "- [ ] Add data from Covid Tracking Project's API\n",
    "    - https://covidtracking.com/api\n",
    "    \n",
    "- [ ] Move app styling to a css file in a new `assets/` folder"
   ]
  },
  {
   "cell_type": "code",
   "execution_count": null,
   "metadata": {},
   "outputs": [],
   "source": []
  },
  {
   "cell_type": "markdown",
   "metadata": {},
   "source": [
    "### RESOURCES FOR FUTURE\n",
    "- RAFAEL STUDY GROUP FOR MAKING A MAP\n",
    "    - https://www.youtube.com/watch?v=MAhK7NHXEOg&feature=emb_logo\n",
    "    - https://github.com/erdosn/additional-topic-plotly"
   ]
  },
  {
   "cell_type": "code",
   "execution_count": 1,
   "metadata": {
    "ExecuteTime": {
     "end_time": "2020-07-02T01:57:04.491724Z",
     "start_time": "2020-07-02T01:56:55.376069Z"
    }
   },
   "outputs": [
    {
     "name": "stderr",
     "output_type": "stream",
     "text": [
      "\n",
      "Bad key \"text.kerning_factor\" on line 4 in\n",
      "/anaconda3/envs/learn-env/lib/python3.6/site-packages/matplotlib/mpl-data/stylelib/_classic_test_patch.mplstyle.\n",
      "You probably need to get an updated matplotlibrc file from\n",
      "https://github.com/matplotlib/matplotlib/blob/v3.1.3/matplotlibrc.template\n",
      "or from the matplotlib source distribution\n",
      "/anaconda3/envs/learn-env/lib/python3.6/site-packages/statsmodels/tools/_testing.py:19: FutureWarning: pandas.util.testing is deprecated. Use the functions in the public API at pandas.testing instead.\n",
      "  import pandas.util.testing as tm\n"
     ]
    },
    {
     "name": "stdout",
     "output_type": "stream",
     "text": [
      "fsds v0.2.15 loaded.  Read the docs: https://fs-ds.readthedocs.io/en/latest/ \n"
     ]
    },
    {
     "data": {
      "text/html": [
       "<style  type=\"text/css\" >\n",
       "</style><table id=\"T_52ac5ca4_bc07_11ea_a708_4865ee12e626\" ><caption>Loaded Packages and Handles</caption><thead>    <tr>        <th class=\"col_heading level0 col0\" >Handle</th>        <th class=\"col_heading level0 col1\" >Package</th>        <th class=\"col_heading level0 col2\" >Description</th>    </tr></thead><tbody>\n",
       "                <tr>\n",
       "                                <td id=\"T_52ac5ca4_bc07_11ea_a708_4865ee12e626row0_col0\" class=\"data row0 col0\" >dp</td>\n",
       "                        <td id=\"T_52ac5ca4_bc07_11ea_a708_4865ee12e626row0_col1\" class=\"data row0 col1\" >IPython.display</td>\n",
       "                        <td id=\"T_52ac5ca4_bc07_11ea_a708_4865ee12e626row0_col2\" class=\"data row0 col2\" >Display modules with helpful display and clearing commands.</td>\n",
       "            </tr>\n",
       "            <tr>\n",
       "                                <td id=\"T_52ac5ca4_bc07_11ea_a708_4865ee12e626row1_col0\" class=\"data row1 col0\" >fs</td>\n",
       "                        <td id=\"T_52ac5ca4_bc07_11ea_a708_4865ee12e626row1_col1\" class=\"data row1 col1\" >fsds</td>\n",
       "                        <td id=\"T_52ac5ca4_bc07_11ea_a708_4865ee12e626row1_col2\" class=\"data row1 col2\" >Custom data science bootcamp student package</td>\n",
       "            </tr>\n",
       "            <tr>\n",
       "                                <td id=\"T_52ac5ca4_bc07_11ea_a708_4865ee12e626row2_col0\" class=\"data row2 col0\" >mpl</td>\n",
       "                        <td id=\"T_52ac5ca4_bc07_11ea_a708_4865ee12e626row2_col1\" class=\"data row2 col1\" >matplotlib</td>\n",
       "                        <td id=\"T_52ac5ca4_bc07_11ea_a708_4865ee12e626row2_col2\" class=\"data row2 col2\" >Matplotlib's base OOP module with formatting artists</td>\n",
       "            </tr>\n",
       "            <tr>\n",
       "                                <td id=\"T_52ac5ca4_bc07_11ea_a708_4865ee12e626row3_col0\" class=\"data row3 col0\" >plt</td>\n",
       "                        <td id=\"T_52ac5ca4_bc07_11ea_a708_4865ee12e626row3_col1\" class=\"data row3 col1\" >matplotlib.pyplot</td>\n",
       "                        <td id=\"T_52ac5ca4_bc07_11ea_a708_4865ee12e626row3_col2\" class=\"data row3 col2\" >Matplotlib's matlab-like plotting module</td>\n",
       "            </tr>\n",
       "            <tr>\n",
       "                                <td id=\"T_52ac5ca4_bc07_11ea_a708_4865ee12e626row4_col0\" class=\"data row4 col0\" >np</td>\n",
       "                        <td id=\"T_52ac5ca4_bc07_11ea_a708_4865ee12e626row4_col1\" class=\"data row4 col1\" >numpy</td>\n",
       "                        <td id=\"T_52ac5ca4_bc07_11ea_a708_4865ee12e626row4_col2\" class=\"data row4 col2\" >scientific computing with Python</td>\n",
       "            </tr>\n",
       "            <tr>\n",
       "                                <td id=\"T_52ac5ca4_bc07_11ea_a708_4865ee12e626row5_col0\" class=\"data row5 col0\" >pd</td>\n",
       "                        <td id=\"T_52ac5ca4_bc07_11ea_a708_4865ee12e626row5_col1\" class=\"data row5 col1\" >pandas</td>\n",
       "                        <td id=\"T_52ac5ca4_bc07_11ea_a708_4865ee12e626row5_col2\" class=\"data row5 col2\" >High performance data structures and tools</td>\n",
       "            </tr>\n",
       "            <tr>\n",
       "                                <td id=\"T_52ac5ca4_bc07_11ea_a708_4865ee12e626row6_col0\" class=\"data row6 col0\" >sns</td>\n",
       "                        <td id=\"T_52ac5ca4_bc07_11ea_a708_4865ee12e626row6_col1\" class=\"data row6 col1\" >seaborn</td>\n",
       "                        <td id=\"T_52ac5ca4_bc07_11ea_a708_4865ee12e626row6_col2\" class=\"data row6 col2\" >High-level data visualization library based on matplotlib</td>\n",
       "            </tr>\n",
       "    </tbody></table>"
      ],
      "text/plain": [
       "<pandas.io.formats.style.Styler at 0x10eba4898>"
      ]
     },
     "metadata": {},
     "output_type": "display_data"
    },
    {
     "data": {
      "text/html": [
       "        <script type=\"text/javascript\">\n",
       "        window.PlotlyConfig = {MathJaxConfig: 'local'};\n",
       "        if (window.MathJax) {MathJax.Hub.Config({SVG: {font: \"STIX-Web\"}});}\n",
       "        if (typeof require !== 'undefined') {\n",
       "        require.undef(\"plotly\");\n",
       "        requirejs.config({\n",
       "            paths: {\n",
       "                'plotly': ['https://cdn.plot.ly/plotly-latest.min']\n",
       "            }\n",
       "        });\n",
       "        require(['plotly'], function(Plotly) {\n",
       "            window._Plotly = Plotly;\n",
       "        });\n",
       "        }\n",
       "        </script>\n",
       "        "
      ]
     },
     "metadata": {},
     "output_type": "display_data"
    },
    {
     "name": "stdout",
     "output_type": "stream",
     "text": [
      "[i] Pandas .iplot() method activated.\n"
     ]
    }
   ],
   "source": [
    "import os,glob,sys\n",
    "import re\n",
    "\n",
    "!pip install -U fsds\n",
    "from fsds.imports import *"
   ]
  },
  {
   "cell_type": "markdown",
   "metadata": {
    "ExecuteTime": {
     "end_time": "2020-06-28T19:04:01.603312Z",
     "start_time": "2020-06-28T19:04:01.598613Z"
    }
   },
   "source": [
    "```python\n",
    "## Determine if dataset is downloaded via Kaggle CLI\n",
    "import os\n",
    "from zipfile import ZipFile\n",
    "\n",
    "\n",
    "if DOWNLOAD:\n",
    "    !pip install kaggle --upgrade\n",
    "\n",
    "    cmd = 'kaggle datasets download -d sudalairajkumar/novel-corona-virus-2019-dataset'\n",
    "    os.system(cmd)\n",
    "    print('Downloaded dataset Zipfie, extracting...')\n",
    "    with ZipFile('novel-corona-virus-2019-dataset.zip') as file:\n",
    "        file.extractall()\n",
    "```"
   ]
  },
  {
   "cell_type": "markdown",
   "metadata": {},
   "source": [
    "# Function-izing Processing"
   ]
  },
  {
   "cell_type": "markdown",
   "metadata": {},
   "source": [
    "1. `download_coronavirus_data(fpath='New Data/)` \n",
    "2. `1oad_raw_df(filepaths[4])`\n",
    "3. `get_and_clean_US`\n",
    "4. `set_datetime_index`"
   ]
  },
  {
   "cell_type": "markdown",
   "metadata": {},
   "source": [
    "### Making a class to contain functions"
   ]
  },
  {
   "cell_type": "code",
   "execution_count": null,
   "metadata": {},
   "outputs": [],
   "source": []
  },
  {
   "cell_type": "markdown",
   "metadata": {},
   "source": [
    "### def  `download_coronavirus_data`"
   ]
  },
  {
   "cell_type": "code",
   "execution_count": 3,
   "metadata": {
    "ExecuteTime": {
     "end_time": "2020-07-02T00:44:59.004793Z",
     "start_time": "2020-07-02T00:44:58.995474Z"
    }
   },
   "outputs": [],
   "source": [
    "# @add_method(CoronaData)\n",
    "def download_coronavirus_data(path='New Data/',verbose=False):\n",
    "    \"\"\"Installs the Kaggle Command Line Interface to clone dataset.\n",
    "    Then extracts dataset to specified path and displays name of main file.\n",
    "    Args:\n",
    "        path(str): Folder to extract dataset into (must end with a '/')\n",
    "        \n",
    "    Returns:\n",
    "        file_list(list): List of full filepaths to downloaded csv files.\n",
    "    \"\"\"\n",
    "    ## Determine if dataset is downloaded via Kaggle CL\n",
    "    import os,glob\n",
    "    from zipfile import ZipFile\n",
    "    from IPython.display import clear_output\n",
    "    os.makedirs(path, exist_ok=True)\n",
    "\n",
    "    ## Install Kaggle \n",
    "    !pip install kaggle --upgrade\n",
    "    clear_output()\n",
    "    \n",
    "    ## Run Kaggle Command \n",
    "    cmd = 'kaggle datasets download -d sudalairajkumar/novel-corona-virus-2019-dataset'\n",
    "    os.system(cmd)\n",
    "    \n",
    "    ## Extract ZipFile\n",
    "    print(f'Downloaded dataset Zipfie, extracting to {path}...')\n",
    "    zip_filepath = 'novel-corona-virus-2019-dataset.zip'\n",
    "    with ZipFile(zip_filepath) as file:\n",
    "        file.extractall(path)\n",
    "    \n",
    "    ## Delete Zip File\n",
    "    os.system(f\"rm {zip_filepath}\"  )\n",
    "    \n",
    "    \n",
    "    ## Get list of all csvs\n",
    "    print('[i] Extraction Complete.')    \n",
    "    file_list = glob.glob(path+\"*.csv\")\n",
    "    \n",
    "    \n",
    "    ## Find main df \n",
    "    main_file = [file for file in file_list if 'covid_19_data.csv' in file]\n",
    "    if verbose:\n",
    "        print(f\"[i] The main file name is {main_file}\")\n",
    "    return main_file[0] #file_list[index]"
   ]
  },
  {
   "cell_type": "code",
   "execution_count": 4,
   "metadata": {
    "ExecuteTime": {
     "end_time": "2020-07-02T00:45:02.457053Z",
     "start_time": "2020-07-02T00:44:59.006605Z"
    },
    "tags": []
   },
   "outputs": [
    {
     "name": "stdout",
     "output_type": "stream",
     "text": [
      "Downloaded dataset Zipfie, extracting to New Data/...\n",
      "[i] Extraction Complete.\n",
      "\n",
      "\n",
      "[i] Success. Downloaded dataset from kaggle...\n"
     ]
    }
   ],
   "source": [
    "DOWNLOAD = True\n",
    "\n",
    "if DOWNLOAD:\n",
    "    main_file = download_coronavirus_data()\n",
    "    print('\\n\\n[i] Success. Downloaded dataset from kaggle...')\n",
    "\n",
    "else:\n",
    "    print('Using pre-existing data')"
   ]
  },
  {
   "cell_type": "markdown",
   "metadata": {},
   "source": [
    "## Main Dataset - Get US States"
   ]
  },
  {
   "cell_type": "markdown",
   "metadata": {},
   "source": [
    "### def `load_raw_df`"
   ]
  },
  {
   "cell_type": "code",
   "execution_count": 5,
   "metadata": {
    "ExecuteTime": {
     "end_time": "2020-07-02T00:45:02.465510Z",
     "start_time": "2020-07-02T00:45:02.459019Z"
    }
   },
   "outputs": [],
   "source": [
    "# @add_method(CoronaData)\n",
    "def load_raw_df(fpath,kws={},verbose=True):\n",
    "    \"\"\"Performs most basic of preprocessing, including renaming date column to \n",
    "    Date and dropping 'Last Update', and 'SNo' columns\"\"\"\n",
    "    \n",
    "    ## Default Kws\n",
    "    read_kws = dict(parse_dates=['ObservationDate','Last Update'])\n",
    "    \n",
    "    ## Add User kws\n",
    "    read_kws = {**read_kws,**kws}\n",
    "    \n",
    "    if verbose:\n",
    "        print(f\"[i] Loading {fpath} with read_csv kws:\",end='')\n",
    "        display(read_kws)\n",
    "        \n",
    "    df = pd.read_csv(fpath,**read_kws)\n",
    "    \n",
    "    ## Drop unwated columns\n",
    "    df.drop(['Last Update',\n",
    "             'SNo'],axis=1,inplace=True)\n",
    "\n",
    "    ## Rename Date columns\n",
    "    df.rename({'ObservationDate':'Date'},axis=1,inplace=True)\n",
    "    \n",
    "    ## Display some info \n",
    "    if verbose:\n",
    "        display(df.head())\n",
    "        # Countries in the dataset\n",
    "        print(f\"[i] There are {len(df['Country/Region'].unique())} countries in the datatset\")\n",
    "        \n",
    "        ## Get first and last date\n",
    "        start_ts = df[\"Date\"].loc[df['Date'].idxmin()].strftime('%m-%d-%Y')\n",
    "        end_ts = df[\"Date\"].loc[df['Date'].idxmax()].strftime('%m-%d-%Y')\n",
    "        # DF['Date'].idxmin(), DF['Date'].idxmax()\n",
    "        print(f\"[i] Dates Covered:\\n\\tFrom {start_ts} to {end_ts}\")\n",
    "\n",
    "    return df"
   ]
  },
  {
   "cell_type": "code",
   "execution_count": 6,
   "metadata": {
    "ExecuteTime": {
     "end_time": "2020-07-02T00:45:02.469437Z",
     "start_time": "2020-07-02T00:45:02.467158Z"
    }
   },
   "outputs": [],
   "source": [
    "# raw_df = load_raw_df(main_file)"
   ]
  },
  {
   "cell_type": "markdown",
   "metadata": {},
   "source": [
    "### def `set_datetime_index`"
   ]
  },
  {
   "cell_type": "code",
   "execution_count": 7,
   "metadata": {
    "ExecuteTime": {
     "end_time": "2020-07-02T00:45:02.475322Z",
     "start_time": "2020-07-02T00:45:02.470853Z"
    }
   },
   "outputs": [],
   "source": [
    "# @add_method(CoronaData)\n",
    "def set_datetime_index(df_,col='Date'):#,drop_old=False):\n",
    "    df = df_.copy()\n",
    "    df[col] = pd.to_datetime(df[col],infer_datetime_format=True)\n",
    "    df.set_index(df[col],drop=True,inplace=True)\n",
    "    if col in df.columns:\n",
    "        df.drop(columns=col,inplace=True)\n",
    "    return df#, inplace=True)\n"
   ]
  },
  {
   "cell_type": "markdown",
   "metadata": {},
   "source": [
    "### 06/27 Adding US Population"
   ]
  },
  {
   "cell_type": "code",
   "execution_count": 8,
   "metadata": {
    "ExecuteTime": {
     "end_time": "2020-07-02T00:45:02.479369Z",
     "start_time": "2020-07-02T00:45:02.477139Z"
    }
   },
   "outputs": [],
   "source": [
    "# state_url = 'https://raw.githubusercontent.com/jirvingphd/List-of-US-States/master/states.csv'\n",
    "# state_lookup = pd.read_csv(state_url)\n",
    "\n",
    "# state_lookup = state_lookup.append({'State':'Puerto Rico','Abbreviation':'PR'},ignore_index=True)\n",
    "\n",
    "# state_lookup"
   ]
  },
  {
   "cell_type": "code",
   "execution_count": 9,
   "metadata": {
    "ExecuteTime": {
     "end_time": "2020-07-02T00:45:02.485584Z",
     "start_time": "2020-07-02T00:45:02.482633Z"
    }
   },
   "outputs": [],
   "source": [
    "# state_lookup.to_csv('Reference Data/united_states_abbreviations.csv', index=False)"
   ]
  },
  {
   "cell_type": "code",
   "execution_count": 10,
   "metadata": {
    "ExecuteTime": {
     "end_time": "2020-07-02T00:45:02.490425Z",
     "start_time": "2020-07-02T00:45:02.488130Z"
    }
   },
   "outputs": [],
   "source": [
    "# abbrev = pd.read_csv('Reference Data/united_states_abbreviations.csv')\n",
    "# abbrev"
   ]
  },
  {
   "cell_type": "code",
   "execution_count": 11,
   "metadata": {
    "ExecuteTime": {
     "end_time": "2020-07-02T00:45:02.494249Z",
     "start_time": "2020-07-02T00:45:02.492124Z"
    }
   },
   "outputs": [],
   "source": [
    "# ## Making Master Lookup CSV\n",
    "# abbrev = pd.read_csv('Reference Data/united_states_abbreviations.csv')\n",
    "# display(abbrev.head())"
   ]
  },
  {
   "cell_type": "code",
   "execution_count": 12,
   "metadata": {
    "ExecuteTime": {
     "end_time": "2020-07-02T00:45:02.498167Z",
     "start_time": "2020-07-02T00:45:02.495816Z"
    }
   },
   "outputs": [],
   "source": [
    "# pop = pd.read_csv('Reference Data/us-pop-est2019-alldata.csv')\n",
    "# pop.head()"
   ]
  },
  {
   "cell_type": "code",
   "execution_count": 13,
   "metadata": {
    "ExecuteTime": {
     "end_time": "2020-07-02T00:45:02.502466Z",
     "start_time": "2020-07-02T00:45:02.500354Z"
    }
   },
   "outputs": [],
   "source": [
    "# us_pop = pop[['NAME','POPESTIMATE2019']].copy() #.loc[pop['STATE']>0][\n",
    "# us_pop.head()"
   ]
  },
  {
   "cell_type": "code",
   "execution_count": 14,
   "metadata": {
    "ExecuteTime": {
     "end_time": "2020-07-02T00:45:02.505955Z",
     "start_time": "2020-07-02T00:45:02.503900Z"
    }
   },
   "outputs": [],
   "source": [
    "# us_info = pd.merge(abbrev,us_pop,right_on='NAME',left_on='State',how=\"outer\")\n",
    "# # us_info.drop('NAME',axis=1,inplace=True)\n",
    "# us_info"
   ]
  },
  {
   "cell_type": "code",
   "execution_count": 15,
   "metadata": {
    "ExecuteTime": {
     "end_time": "2020-07-02T00:45:02.510048Z",
     "start_time": "2020-07-02T00:45:02.507544Z"
    }
   },
   "outputs": [],
   "source": [
    "# us_info.to_csv('Reference Data/_US_state_info_merged.csv',index=False)"
   ]
  },
  {
   "cell_type": "code",
   "execution_count": null,
   "metadata": {},
   "outputs": [],
   "source": []
  },
  {
   "cell_type": "markdown",
   "metadata": {},
   "source": [
    "### def `load_us_reference_info`"
   ]
  },
  {
   "cell_type": "code",
   "execution_count": 16,
   "metadata": {
    "ExecuteTime": {
     "end_time": "2020-07-02T00:45:02.516056Z",
     "start_time": "2020-07-02T00:45:02.511574Z"
    }
   },
   "outputs": [],
   "source": [
    "# @add_method(CoronaData)\n",
    "def load_us_reference_info():\n",
    "    ## Making Master Lookup CSV\n",
    "    abbrev = pd.read_csv('Reference Data/united_states_abbreviations.csv')\n",
    "    pop = pd.read_csv('Reference Data/us-pop-est2019-alldata.csv')\n",
    "    us_pop = pop.loc[pop['STATE']>0][['NAME','POPESTIMATE2019']].copy()\n",
    "    us_info = pd.merge(abbrev,us_pop,right_on='NAME',left_on='State',how=\"inner\")\n",
    "    us_info.drop('NAME',axis=1,inplace=True)\n",
    "    return us_info"
   ]
  },
  {
   "cell_type": "markdown",
   "metadata": {},
   "source": [
    "### def  `calculate_per_capita`"
   ]
  },
  {
   "cell_type": "code",
   "execution_count": 17,
   "metadata": {
    "ExecuteTime": {
     "end_time": "2020-07-02T00:45:02.521697Z",
     "start_time": "2020-07-02T00:45:02.517811Z"
    }
   },
   "outputs": [],
   "source": [
    "# @add_method(CoronaData)\n",
    "def calculate_per_capita(df_,stat_cols = ['Confirmed','Deaths','Recovered']):\n",
    "    df = df_.copy()\n",
    "    ## ADDING PER CAPITA DATA \n",
    "    for col in stat_cols:\n",
    "        df[f\"{col} Per Capita\"] = df[col]/df['POPESTIMATE2019']\n",
    "    df.drop('POPESTIMATE2019',axis=1,inplace=True)\n",
    "    return df"
   ]
  },
  {
   "cell_type": "markdown",
   "metadata": {},
   "source": [
    "### def `get_and_clean_US`"
   ]
  },
  {
   "cell_type": "code",
   "execution_count": 18,
   "metadata": {
    "ExecuteTime": {
     "end_time": "2020-07-02T00:45:02.534079Z",
     "start_time": "2020-07-02T00:45:02.523720Z"
    }
   },
   "outputs": [],
   "source": [
    "# @add_method(CoronaData)\n",
    "def get_and_clean_US(df,save_as = 'Reference Data/united_states_abbreviations.csv',\n",
    "                     make_date_index=True,per_capita=True):\n",
    "    \"\"\"Takes raw df loaded and extracts United States and processes\n",
    "    all state names to create new abbreviation column 'state'.\n",
    "    \"\"\"\n",
    "    ## Get only US\n",
    "    df_us = df.groupby('Country/Region').get_group('US').copy() \n",
    "    \n",
    "    # REPLACE STATE NAMES\n",
    "    # https://raw.githubusercontent.com/jirvingphd/List-of-US-States/master/states.csv\n",
    "#     try:\n",
    "#         state_url = 'https://raw.githubusercontent.com/jirvingphd/List-of-US-States/master/states.csv'\n",
    "#         state_lookup = pd.read_csv(state_url)\n",
    "#         state_lookup.to_csv(save_as, index=False)\n",
    "#     except:\n",
    "#         print('Error downloading state lookup csv. Using local copy')\n",
    "#         state_lookup.read_csv(save_as)\n",
    "    state_lookup = load_us_reference_info()\n",
    "\n",
    "    \n",
    "    ## Make renaming dict for states\n",
    "    STATE_DICT = dict(zip(state_lookup['State'],state_lookup['Abbreviation']))\n",
    "    STATE_DICT.update({'Chicago':'IL',\n",
    "                      'Puerto Rico':'PR',\n",
    "                      'Virgin Islands':'VI',\n",
    "                      'United States Virgin Islands':'VI'})\n",
    "\n",
    "    ## Separately Process Rows that contain a city, state \n",
    "    df_city_states = df_us[df_us['Province/State'].str.contains(',')]\n",
    "    \n",
    "    \n",
    "    ## Finding City Abbreviations in city_states\n",
    "    import re\n",
    "    state_expr = re.compile(r\"[A-Z\\.]{2,4}\")\n",
    "    df_city_states['state'] = df_city_states['Province/State'].apply(state_expr.findall)\n",
    "    df_city_states = df_city_states.explode('state')\n",
    "\n",
    "\n",
    "    ## Seperately process Rows that do not contain a city,state\n",
    "    df_states = df_us[~df_us['Province/State'].str.contains(',')]\n",
    "    df_states['state'] =  df_states['Province/State'].map(STATE_DICT)\n",
    "\n",
    "    ## Combining data frame back together\n",
    "    df = pd.concat([df_states,df_city_states]).sort_index()\n",
    "    df = df.dropna(subset=['state'])\n",
    "    \n",
    "    ## Fix some stragglers (like D.C. vs DC)\n",
    "    df['state'] = df['state'].replace('D.C.','DC')\n",
    "    \n",
    "    ## Add Population Data\n",
    "    df = pd.merge(df, state_lookup,left_on='state',right_on=\"Abbreviation\")\n",
    "    \n",
    "    if per_capita:\n",
    "\n",
    "        for col in  ['Confirmed','Deaths','Recovered']:\n",
    "            df[f\"{col} Per Capita\"] = df[col]/df['POPESTIMATE2019']\n",
    "            \n",
    "            ## Remove Population \n",
    "        df.drop('POPESTIMATE2019',axis=1,inplace=True)\n",
    "#     if len(save_as)>0:\n",
    "#         print(f'[i] Saving final df as {save_as}')\n",
    "#         df.to_csv(save_as,index=False)\n",
    "        \n",
    "    if make_date_index:\n",
    "        df = set_datetime_index(df)\n",
    "    return df"
   ]
  },
  {
   "cell_type": "code",
   "execution_count": 19,
   "metadata": {
    "ExecuteTime": {
     "end_time": "2020-07-02T00:45:02.577636Z",
     "start_time": "2020-07-02T00:45:02.535500Z"
    }
   },
   "outputs": [
    {
     "data": {
      "text/html": [
       "<div>\n",
       "<style scoped>\n",
       "    .dataframe tbody tr th:only-of-type {\n",
       "        vertical-align: middle;\n",
       "    }\n",
       "\n",
       "    .dataframe tbody tr th {\n",
       "        vertical-align: top;\n",
       "    }\n",
       "\n",
       "    .dataframe thead th {\n",
       "        text-align: right;\n",
       "    }\n",
       "</style>\n",
       "<table border=\"1\" class=\"dataframe\">\n",
       "  <thead>\n",
       "    <tr style=\"text-align: right;\">\n",
       "      <th></th>\n",
       "      <th>State</th>\n",
       "      <th>Abbreviation</th>\n",
       "      <th>POPESTIMATE2019</th>\n",
       "    </tr>\n",
       "  </thead>\n",
       "  <tbody>\n",
       "    <tr>\n",
       "      <th>0</th>\n",
       "      <td>Alabama</td>\n",
       "      <td>AL</td>\n",
       "      <td>4903185</td>\n",
       "    </tr>\n",
       "    <tr>\n",
       "      <th>1</th>\n",
       "      <td>Alaska</td>\n",
       "      <td>AK</td>\n",
       "      <td>731545</td>\n",
       "    </tr>\n",
       "    <tr>\n",
       "      <th>2</th>\n",
       "      <td>Arizona</td>\n",
       "      <td>AZ</td>\n",
       "      <td>7278717</td>\n",
       "    </tr>\n",
       "    <tr>\n",
       "      <th>3</th>\n",
       "      <td>Arkansas</td>\n",
       "      <td>AR</td>\n",
       "      <td>3017804</td>\n",
       "    </tr>\n",
       "    <tr>\n",
       "      <th>4</th>\n",
       "      <td>California</td>\n",
       "      <td>CA</td>\n",
       "      <td>39512223</td>\n",
       "    </tr>\n",
       "  </tbody>\n",
       "</table>\n",
       "</div>"
      ],
      "text/plain": [
       "        State Abbreviation  POPESTIMATE2019\n",
       "0     Alabama           AL          4903185\n",
       "1      Alaska           AK           731545\n",
       "2     Arizona           AZ          7278717\n",
       "3    Arkansas           AR          3017804\n",
       "4  California           CA         39512223"
      ]
     },
     "execution_count": 19,
     "metadata": {},
     "output_type": "execute_result"
    }
   ],
   "source": [
    "state_lookup = load_us_reference_info()\n",
    "state_lookup.head()"
   ]
  },
  {
   "cell_type": "markdown",
   "metadata": {
    "ExecuteTime": {
     "end_time": "2020-04-05T01:14:48.814121Z",
     "start_time": "2020-04-05T01:14:48.808571Z"
    }
   },
   "source": [
    "### `def get_state_ts`"
   ]
  },
  {
   "cell_type": "code",
   "execution_count": 20,
   "metadata": {
    "ExecuteTime": {
     "end_time": "2020-07-02T00:45:02.584462Z",
     "start_time": "2020-07-02T00:45:02.578917Z"
    }
   },
   "outputs": [],
   "source": [
    "def get_state_ts(df, state_name,\n",
    "                     group_col='state', ts_col=None,\n",
    "                     freq='D', agg_func='sum'):\n",
    "    \"\"\"Take df_us and extracts state's data as then Freq/Aggregation provided\"\"\"\n",
    "    \n",
    "    ## Get state_df group\n",
    "    state_df = df.groupby(group_col).get_group(state_name)#.resample(freq).agg(agg)\n",
    "    \n",
    "    ## Resample and aggregate state data\n",
    "    state_df = state_df.resample(freq).agg(agg_func)\n",
    "    \n",
    "    \n",
    "    ## Get and Rename Sum Cols \n",
    "    orig_cols = state_df.columns\n",
    "\n",
    "    ## Create Renamed Sum columns\n",
    "    for col in orig_cols:\n",
    "        state_df[f\"{state_name} - {col}\"] = state_df[col]\n",
    "      \n",
    "    ## Drop original cols\n",
    "    state_df.drop(orig_cols,axis=1,inplace=True)\n",
    "    \n",
    "    if ts_col is not None:\n",
    "        ts_cols_selected = [col for col in state_df.columns if ts_col in col]\n",
    "        state_df = state_df[ts_cols_selected]\n",
    "\n",
    "    return state_df"
   ]
  },
  {
   "cell_type": "code",
   "execution_count": 21,
   "metadata": {
    "ExecuteTime": {
     "end_time": "2020-07-02T00:45:02.588140Z",
     "start_time": "2020-07-02T00:45:02.586083Z"
    }
   },
   "outputs": [],
   "source": [
    "# df = get_and_clean_US(raw_df)\n",
    "# df"
   ]
  },
  {
   "cell_type": "markdown",
   "metadata": {},
   "source": [
    "### Testing workflow so far"
   ]
  },
  {
   "cell_type": "code",
   "execution_count": 22,
   "metadata": {
    "ExecuteTime": {
     "end_time": "2020-07-02T00:45:06.020134Z",
     "start_time": "2020-07-02T00:45:02.589503Z"
    },
    "tags": []
   },
   "outputs": [
    {
     "name": "stdout",
     "output_type": "stream",
     "text": [
      "Downloaded dataset Zipfie, extracting to New Data/...\n",
      "[i] Extraction Complete.\n",
      "[i] Loading New Data/covid_19_data.csv with read_csv kws:"
     ]
    },
    {
     "data": {
      "text/plain": [
       "{'parse_dates': ['ObservationDate', 'Last Update']}"
      ]
     },
     "metadata": {},
     "output_type": "display_data"
    },
    {
     "data": {
      "text/html": [
       "<div>\n",
       "<style scoped>\n",
       "    .dataframe tbody tr th:only-of-type {\n",
       "        vertical-align: middle;\n",
       "    }\n",
       "\n",
       "    .dataframe tbody tr th {\n",
       "        vertical-align: top;\n",
       "    }\n",
       "\n",
       "    .dataframe thead th {\n",
       "        text-align: right;\n",
       "    }\n",
       "</style>\n",
       "<table border=\"1\" class=\"dataframe\">\n",
       "  <thead>\n",
       "    <tr style=\"text-align: right;\">\n",
       "      <th></th>\n",
       "      <th>Date</th>\n",
       "      <th>Province/State</th>\n",
       "      <th>Country/Region</th>\n",
       "      <th>Confirmed</th>\n",
       "      <th>Deaths</th>\n",
       "      <th>Recovered</th>\n",
       "    </tr>\n",
       "  </thead>\n",
       "  <tbody>\n",
       "    <tr>\n",
       "      <th>0</th>\n",
       "      <td>2020-01-22</td>\n",
       "      <td>Anhui</td>\n",
       "      <td>Mainland China</td>\n",
       "      <td>1.0</td>\n",
       "      <td>0.0</td>\n",
       "      <td>0.0</td>\n",
       "    </tr>\n",
       "    <tr>\n",
       "      <th>1</th>\n",
       "      <td>2020-01-22</td>\n",
       "      <td>Beijing</td>\n",
       "      <td>Mainland China</td>\n",
       "      <td>14.0</td>\n",
       "      <td>0.0</td>\n",
       "      <td>0.0</td>\n",
       "    </tr>\n",
       "    <tr>\n",
       "      <th>2</th>\n",
       "      <td>2020-01-22</td>\n",
       "      <td>Chongqing</td>\n",
       "      <td>Mainland China</td>\n",
       "      <td>6.0</td>\n",
       "      <td>0.0</td>\n",
       "      <td>0.0</td>\n",
       "    </tr>\n",
       "    <tr>\n",
       "      <th>3</th>\n",
       "      <td>2020-01-22</td>\n",
       "      <td>Fujian</td>\n",
       "      <td>Mainland China</td>\n",
       "      <td>1.0</td>\n",
       "      <td>0.0</td>\n",
       "      <td>0.0</td>\n",
       "    </tr>\n",
       "    <tr>\n",
       "      <th>4</th>\n",
       "      <td>2020-01-22</td>\n",
       "      <td>Gansu</td>\n",
       "      <td>Mainland China</td>\n",
       "      <td>0.0</td>\n",
       "      <td>0.0</td>\n",
       "      <td>0.0</td>\n",
       "    </tr>\n",
       "  </tbody>\n",
       "</table>\n",
       "</div>"
      ],
      "text/plain": [
       "        Date Province/State  Country/Region  Confirmed  Deaths  Recovered\n",
       "0 2020-01-22          Anhui  Mainland China        1.0     0.0        0.0\n",
       "1 2020-01-22        Beijing  Mainland China       14.0     0.0        0.0\n",
       "2 2020-01-22      Chongqing  Mainland China        6.0     0.0        0.0\n",
       "3 2020-01-22         Fujian  Mainland China        1.0     0.0        0.0\n",
       "4 2020-01-22          Gansu  Mainland China        0.0     0.0        0.0"
      ]
     },
     "metadata": {},
     "output_type": "display_data"
    },
    {
     "name": "stdout",
     "output_type": "stream",
     "text": [
      "[i] There are 223 countries in the datatset\n",
      "[i] Dates Covered:\n",
      "\tFrom 01-22-2020 to 06-30-2020\n"
     ]
    },
    {
     "data": {
      "text/html": [
       "<div>\n",
       "<style scoped>\n",
       "    .dataframe tbody tr th:only-of-type {\n",
       "        vertical-align: middle;\n",
       "    }\n",
       "\n",
       "    .dataframe tbody tr th {\n",
       "        vertical-align: top;\n",
       "    }\n",
       "\n",
       "    .dataframe thead th {\n",
       "        text-align: right;\n",
       "    }\n",
       "</style>\n",
       "<table border=\"1\" class=\"dataframe\">\n",
       "  <thead>\n",
       "    <tr style=\"text-align: right;\">\n",
       "      <th></th>\n",
       "      <th>Province/State</th>\n",
       "      <th>Country/Region</th>\n",
       "      <th>Confirmed</th>\n",
       "      <th>Deaths</th>\n",
       "      <th>Recovered</th>\n",
       "      <th>state</th>\n",
       "      <th>State</th>\n",
       "      <th>Abbreviation</th>\n",
       "      <th>Confirmed Per Capita</th>\n",
       "      <th>Deaths Per Capita</th>\n",
       "      <th>Recovered Per Capita</th>\n",
       "    </tr>\n",
       "    <tr>\n",
       "      <th>Date</th>\n",
       "      <th></th>\n",
       "      <th></th>\n",
       "      <th></th>\n",
       "      <th></th>\n",
       "      <th></th>\n",
       "      <th></th>\n",
       "      <th></th>\n",
       "      <th></th>\n",
       "      <th></th>\n",
       "      <th></th>\n",
       "      <th></th>\n",
       "    </tr>\n",
       "  </thead>\n",
       "  <tbody>\n",
       "    <tr>\n",
       "      <th>2020-01-22</th>\n",
       "      <td>Washington</td>\n",
       "      <td>US</td>\n",
       "      <td>1.0</td>\n",
       "      <td>0.0</td>\n",
       "      <td>0.0</td>\n",
       "      <td>WA</td>\n",
       "      <td>Washington</td>\n",
       "      <td>WA</td>\n",
       "      <td>1.313216e-07</td>\n",
       "      <td>0.0</td>\n",
       "      <td>0.0</td>\n",
       "    </tr>\n",
       "    <tr>\n",
       "      <th>2020-01-23</th>\n",
       "      <td>Washington</td>\n",
       "      <td>US</td>\n",
       "      <td>1.0</td>\n",
       "      <td>0.0</td>\n",
       "      <td>0.0</td>\n",
       "      <td>WA</td>\n",
       "      <td>Washington</td>\n",
       "      <td>WA</td>\n",
       "      <td>1.313216e-07</td>\n",
       "      <td>0.0</td>\n",
       "      <td>0.0</td>\n",
       "    </tr>\n",
       "    <tr>\n",
       "      <th>2020-01-24</th>\n",
       "      <td>Washington</td>\n",
       "      <td>US</td>\n",
       "      <td>1.0</td>\n",
       "      <td>0.0</td>\n",
       "      <td>0.0</td>\n",
       "      <td>WA</td>\n",
       "      <td>Washington</td>\n",
       "      <td>WA</td>\n",
       "      <td>1.313216e-07</td>\n",
       "      <td>0.0</td>\n",
       "      <td>0.0</td>\n",
       "    </tr>\n",
       "    <tr>\n",
       "      <th>2020-01-25</th>\n",
       "      <td>Washington</td>\n",
       "      <td>US</td>\n",
       "      <td>1.0</td>\n",
       "      <td>0.0</td>\n",
       "      <td>0.0</td>\n",
       "      <td>WA</td>\n",
       "      <td>Washington</td>\n",
       "      <td>WA</td>\n",
       "      <td>1.313216e-07</td>\n",
       "      <td>0.0</td>\n",
       "      <td>0.0</td>\n",
       "    </tr>\n",
       "    <tr>\n",
       "      <th>2020-01-26</th>\n",
       "      <td>Washington</td>\n",
       "      <td>US</td>\n",
       "      <td>1.0</td>\n",
       "      <td>0.0</td>\n",
       "      <td>0.0</td>\n",
       "      <td>WA</td>\n",
       "      <td>Washington</td>\n",
       "      <td>WA</td>\n",
       "      <td>1.313216e-07</td>\n",
       "      <td>0.0</td>\n",
       "      <td>0.0</td>\n",
       "    </tr>\n",
       "  </tbody>\n",
       "</table>\n",
       "</div>"
      ],
      "text/plain": [
       "           Province/State Country/Region  Confirmed  Deaths  Recovered state  \\\n",
       "Date                                                                           \n",
       "2020-01-22     Washington             US        1.0     0.0        0.0    WA   \n",
       "2020-01-23     Washington             US        1.0     0.0        0.0    WA   \n",
       "2020-01-24     Washington             US        1.0     0.0        0.0    WA   \n",
       "2020-01-25     Washington             US        1.0     0.0        0.0    WA   \n",
       "2020-01-26     Washington             US        1.0     0.0        0.0    WA   \n",
       "\n",
       "                 State Abbreviation  Confirmed Per Capita  Deaths Per Capita  \\\n",
       "Date                                                                           \n",
       "2020-01-22  Washington           WA          1.313216e-07                0.0   \n",
       "2020-01-23  Washington           WA          1.313216e-07                0.0   \n",
       "2020-01-24  Washington           WA          1.313216e-07                0.0   \n",
       "2020-01-25  Washington           WA          1.313216e-07                0.0   \n",
       "2020-01-26  Washington           WA          1.313216e-07                0.0   \n",
       "\n",
       "            Recovered Per Capita  \n",
       "Date                              \n",
       "2020-01-22                   0.0  \n",
       "2020-01-23                   0.0  \n",
       "2020-01-24                   0.0  \n",
       "2020-01-25                   0.0  \n",
       "2020-01-26                   0.0  "
      ]
     },
     "metadata": {},
     "output_type": "display_data"
    },
    {
     "data": {
      "text/html": [
       "<div>\n",
       "<style scoped>\n",
       "    .dataframe tbody tr th:only-of-type {\n",
       "        vertical-align: middle;\n",
       "    }\n",
       "\n",
       "    .dataframe tbody tr th {\n",
       "        vertical-align: top;\n",
       "    }\n",
       "\n",
       "    .dataframe thead th {\n",
       "        text-align: right;\n",
       "    }\n",
       "</style>\n",
       "<table border=\"1\" class=\"dataframe\">\n",
       "  <thead>\n",
       "    <tr style=\"text-align: right;\">\n",
       "      <th></th>\n",
       "      <th>NY - Confirmed</th>\n",
       "      <th>NY - Deaths</th>\n",
       "      <th>NY - Recovered</th>\n",
       "      <th>NY - Confirmed Per Capita</th>\n",
       "      <th>NY - Deaths Per Capita</th>\n",
       "      <th>NY - Recovered Per Capita</th>\n",
       "    </tr>\n",
       "    <tr>\n",
       "      <th>Date</th>\n",
       "      <th></th>\n",
       "      <th></th>\n",
       "      <th></th>\n",
       "      <th></th>\n",
       "      <th></th>\n",
       "      <th></th>\n",
       "    </tr>\n",
       "  </thead>\n",
       "  <tbody>\n",
       "    <tr>\n",
       "      <th>2020-03-02</th>\n",
       "      <td>1.0</td>\n",
       "      <td>0.0</td>\n",
       "      <td>0.0</td>\n",
       "      <td>5.140447e-08</td>\n",
       "      <td>0.0</td>\n",
       "      <td>0.0</td>\n",
       "    </tr>\n",
       "    <tr>\n",
       "      <th>2020-03-03</th>\n",
       "      <td>2.0</td>\n",
       "      <td>0.0</td>\n",
       "      <td>0.0</td>\n",
       "      <td>1.028089e-07</td>\n",
       "      <td>0.0</td>\n",
       "      <td>0.0</td>\n",
       "    </tr>\n",
       "    <tr>\n",
       "      <th>2020-03-04</th>\n",
       "      <td>11.0</td>\n",
       "      <td>0.0</td>\n",
       "      <td>0.0</td>\n",
       "      <td>5.654492e-07</td>\n",
       "      <td>0.0</td>\n",
       "      <td>0.0</td>\n",
       "    </tr>\n",
       "    <tr>\n",
       "      <th>2020-03-05</th>\n",
       "      <td>23.0</td>\n",
       "      <td>0.0</td>\n",
       "      <td>0.0</td>\n",
       "      <td>1.182303e-06</td>\n",
       "      <td>0.0</td>\n",
       "      <td>0.0</td>\n",
       "    </tr>\n",
       "    <tr>\n",
       "      <th>2020-03-06</th>\n",
       "      <td>36.0</td>\n",
       "      <td>0.0</td>\n",
       "      <td>0.0</td>\n",
       "      <td>1.850561e-06</td>\n",
       "      <td>0.0</td>\n",
       "      <td>0.0</td>\n",
       "    </tr>\n",
       "  </tbody>\n",
       "</table>\n",
       "</div>"
      ],
      "text/plain": [
       "            NY - Confirmed  NY - Deaths  NY - Recovered  \\\n",
       "Date                                                      \n",
       "2020-03-02             1.0          0.0             0.0   \n",
       "2020-03-03             2.0          0.0             0.0   \n",
       "2020-03-04            11.0          0.0             0.0   \n",
       "2020-03-05            23.0          0.0             0.0   \n",
       "2020-03-06            36.0          0.0             0.0   \n",
       "\n",
       "            NY - Confirmed Per Capita  NY - Deaths Per Capita  \\\n",
       "Date                                                            \n",
       "2020-03-02               5.140447e-08                     0.0   \n",
       "2020-03-03               1.028089e-07                     0.0   \n",
       "2020-03-04               5.654492e-07                     0.0   \n",
       "2020-03-05               1.182303e-06                     0.0   \n",
       "2020-03-06               1.850561e-06                     0.0   \n",
       "\n",
       "            NY - Recovered Per Capita  \n",
       "Date                                   \n",
       "2020-03-02                        0.0  \n",
       "2020-03-03                        0.0  \n",
       "2020-03-04                        0.0  \n",
       "2020-03-05                        0.0  \n",
       "2020-03-06                        0.0  "
      ]
     },
     "execution_count": 22,
     "metadata": {},
     "output_type": "execute_result"
    }
   ],
   "source": [
    "main_file = download_coronavirus_data()\n",
    "raw_df = load_raw_df(main_file)\n",
    "df = get_and_clean_US(raw_df)\n",
    "display(df.head()) \n",
    "NY = get_state_ts(df,'NY')\n",
    "NY.head()"
   ]
  },
  {
   "cell_type": "markdown",
   "metadata": {},
   "source": [
    "# 📦class `CoronaData`"
   ]
  },
  {
   "cell_type": "code",
   "execution_count": 23,
   "metadata": {
    "ExecuteTime": {
     "end_time": "2020-07-02T00:45:06.024855Z",
     "start_time": "2020-07-02T00:45:06.021532Z"
    },
    "code_folding": [
     0
    ]
   },
   "outputs": [],
   "source": [
    "def add_method(cls):\n",
    "    from functools import wraps # This convenience func preserves name and docstring\n",
    "\n",
    "    \"\"\"source=https://medium.com/@mgarod/dynamically-add-a-method-to-a-class-in-python-c49204b85bd6\"\"\"\n",
    "    def decorator(func):\n",
    "        @wraps(func) \n",
    "        def wrapper(self, *args, **kwargs): \n",
    "            return func(*args, **kwargs)\n",
    "        setattr(cls, func.__name__, wrapper)\n",
    "        # Note we are not binding func, but wrapper which accepts self but does exactly the same as func\n",
    "        return func # returning func means func can still be used normally\n",
    "    return decorator\n"
   ]
  },
  {
   "cell_type": "code",
   "execution_count": 50,
   "metadata": {
    "ExecuteTime": {
     "end_time": "2020-07-02T00:47:41.687365Z",
     "start_time": "2020-07-02T00:47:41.549969Z"
    },
    "code_folding": []
   },
   "outputs": [],
   "source": [
    "class CoronaData(object):\n",
    "\n",
    "    def __init__(self,data_dir='New Data/',run_workflow=True,\n",
    "                 download=False,load_data=True,verbose=True):\n",
    "        self.__download = download\n",
    "        self.__verbose = verbose\n",
    "        self._data_folder = data_dir\n",
    "        \n",
    "        ## Download data or set local filepath\n",
    "        if download:\n",
    "            self.download_coronavirus_data(verbose=verbose)\n",
    "        else:\n",
    "            self.get_data_fpath(data_dir)\n",
    "        \n",
    "        ## Load df_raw and df\n",
    "        if load_data:\n",
    "            self.load_raw_df(verbose=verbose)\n",
    "            \n",
    "        if run_workflow:\n",
    "            self.get_and_clean_US()\n",
    "            self._make_state_dict()\n",
    "            print('Full Worfklow Complete.')\n",
    "            \n",
    "\n",
    "    # @add_method(CoronaData)\n",
    "    def download_coronavirus_data(self,path=None,verbose=None):\n",
    "        \"\"\"Installs the Kaggle Command Line Interface to clone dataset.\n",
    "        Then extracts dataset to specified path and displays name of main file.\n",
    "        Args:\n",
    "            path(str): Folder to extract dataset into (must end with a '/')\n",
    "\n",
    "        Returns:\n",
    "            file_list(list): List of full filepaths to downloaded csv files.\n",
    "        \"\"\"        \n",
    "        if verbose==None:\n",
    "            verbose = self.__verbose\n",
    "        print('[i] DOWNLOADING DATA USING KAGGLE API')\n",
    "        if path is None:\n",
    "            path = self._data_folder\n",
    "                                  \n",
    "        ## Determine if dataset is downloaded via Kaggle CL\n",
    "        import os,glob\n",
    "        from zipfile import ZipFile\n",
    "        from IPython.display import clear_output\n",
    "        os.makedirs(path, exist_ok=True)\n",
    "\n",
    "        try:\n",
    "            import kaggle\n",
    "        except:\n",
    "            ## Install Kaggle \n",
    "            !pip install kaggle --upgrade\n",
    "            clear_output()\n",
    "            if verbose: print('- Installed kaggle command line tool.')\n",
    "\n",
    "        ## Run Kaggle Command \n",
    "        cmd = 'kaggle datasets download -d sudalairajkumar/novel-corona-virus-2019-dataset'\n",
    "        os.system(cmd)\n",
    "\n",
    "        ## Extract ZipFile\n",
    "        print(f'Downloaded dataset Zipfie, extracting to {path}...')\n",
    "        zip_filepath = 'novel-corona-virus-2019-dataset.zip'\n",
    "        with ZipFile(zip_filepath) as file:\n",
    "            file.extractall(path)\n",
    "        \n",
    "        ## Delete Zip File\n",
    "        os.system(f\"rm {zip_filepath}\"  )\n",
    "            \n",
    "        self.get_data_fpath(path)\n",
    "\n",
    "        \n",
    "    def get_data_fpath(self,path):\n",
    "        \"\"\"save self._file_list and self._main_file\"\"\"\n",
    "        import glob\n",
    "        verbose = self.__verbose\n",
    "        ## Get list of all csvs\n",
    "        if verbose: print('[i] Extraction Complete.')    \n",
    "        file_list = glob.glob(path+\"*.csv\")\n",
    "\n",
    "        ## Find main df \n",
    "        main_file = [file for file in file_list if 'covid_19_data.csv' in file]\n",
    "        if verbose: print(f\"[i] The main file name is {main_file}\")\n",
    "            \n",
    "        self._file_list = file_list\n",
    "        self._main_file = main_file[0]\n",
    "    \n",
    "    \n",
    "    \n",
    "    def load_raw_df(self,fpath=None,kws={},verbose=True):\n",
    "        \"\"\"Performs most basic of preprocessing, including renaming date column to \n",
    "        Date and dropping 'Last Update', and 'SNo' columns\"\"\"\n",
    "        import pandas as pd\n",
    "        if fpath is None:\n",
    "            fpath = self._main_file\n",
    "\n",
    "        ## Default Kws\n",
    "        read_kws = dict(parse_dates=['ObservationDate','Last Update'])\n",
    "\n",
    "        ## Add User kws\n",
    "        read_kws = {**read_kws,**kws}\n",
    "\n",
    "        if verbose:\n",
    "            print(f\"[i] Loading {fpath} with read_csv kws:\",end='')\n",
    "            display(read_kws)\n",
    "\n",
    "        df = pd.read_csv(fpath,**read_kws)\n",
    "        \n",
    "        self.df_raw = df.copy()\n",
    "        ## Drop unwated columns\n",
    "        df.drop(['Last Update',\n",
    "                 'SNo'],axis=1,inplace=True)\n",
    "        \n",
    "\n",
    "        ## Rename Date columns\n",
    "        df.rename({'ObservationDate':'Date'},axis=1,inplace=True)\n",
    "\n",
    "        ## Display some info \n",
    "        if verbose:\n",
    "            display(df.head())\n",
    "            # Countries in the dataset\n",
    "            print(f\"[i] There are \"+str(len(df['Country/Region'].unique()))+\" countries in the datatset\")\n",
    "\n",
    "            ## Get first and last date\n",
    "            start_ts = df[\"Date\"].loc[df['Date'].idxmin()].strftime('%m-%d-%Y')\n",
    "            end_ts = df[\"Date\"].loc[df['Date'].idxmax()].strftime('%m-%d-%Y')\n",
    "            # DF['Date'].idxmin(), DF['Date'].idxmax()\n",
    "            print(f\"[i] Dates Covered:\\n\\tFrom {start_ts} to {end_ts}\")\n",
    "                  \n",
    "\n",
    "        self.df = df\n",
    "        \n",
    "    \n",
    "    def set_datetime_index(self,df_=None,col='Date'):#,drop_old=False):\n",
    "        \"\"\"Returns df with specified column as datetime index\"\"\"\n",
    "        import pandas as pd\n",
    "\n",
    "        if df_ is None:\n",
    "            df_ = self.df\n",
    "            \n",
    "        df = df_.copy()\n",
    "        df[col] = pd.to_datetime(df[col],infer_datetime_format=True)\n",
    "        df.set_index(df[col],drop=True,inplace=True)\n",
    "        if col in df.columns:\n",
    "            df.drop(columns=col,inplace=True)\n",
    "        return df#, inplace=True)\n",
    "    \n",
    "    \n",
    "    \n",
    "    def load_us_reference_info(self):\n",
    "        \"\"\"Return and save US Reference Data\"\"\"\n",
    "        ## Making Master Lookup CSV\n",
    "        import pandas as pd\n",
    "        abbrev = pd.read_csv('Reference Data/united_states_abbreviations.csv')\n",
    "        pop = pd.read_csv('Reference Data/us-pop-est2019-alldata.csv')\n",
    "        us_pop = pop.loc[pop['STATE']>0][['NAME','POPESTIMATE2019']].copy()\n",
    "        us_info = pd.merge(abbrev,us_pop,right_on='NAME',left_on='State',how=\"inner\")\n",
    "        us_info.drop('NAME',axis=1,inplace=True)\n",
    "        self.reference_data = us_info\n",
    "        return us_info\n",
    "    \n",
    "    \n",
    "    def calculate_per_capita(self,df_=None,stat_cols = ['Confirmed','Deaths','Recovered']):\n",
    "        \"\"\"Calculate Per Capita columns\"\"\"\n",
    "        if df_ is None:\n",
    "            df_ = self.df\n",
    "            \n",
    "        df = df_.copy()\n",
    "        \n",
    "        if 'POPESTIMATE2019' in df.columns==False:\n",
    "            self.load_us_reference_info()\n",
    "            \n",
    "        ## ADDING PER CAPITA DATA \n",
    "        for col in stat_cols:\n",
    "            df[f\"{col} Per Capita\"] = df[col]/df['POPESTIMATE2019']\n",
    "        df.drop('POPESTIMATE2019',axis=1,inplace=True)\n",
    "        return df    \n",
    "\n",
    "    \n",
    "    def get_and_clean_US(self,df=None,#save_as = 'Reference Data/united_states_abbreviations.csv',\n",
    "                         make_date_index=True,per_capita=True):\n",
    "        \"\"\"Takes raw df loaded and extracts United States and processes\n",
    "        all state names to create new abbreviation column 'state'.\n",
    "        \"\"\"\n",
    "        import pandas as pd\n",
    "        if df is None:\n",
    "            df= self.df\n",
    "            \n",
    "        ## Get only US\n",
    "        df_us = df.groupby('Country/Region').get_group('US').copy() \n",
    "\n",
    "\n",
    "        state_lookup = self.load_us_reference_info()\n",
    "\n",
    "\n",
    "        ## Make renaming dict for states\n",
    "        STATE_DICT = dict(zip(state_lookup['State'],state_lookup['Abbreviation']))\n",
    "        STATE_DICT.update({'Chicago':'IL',\n",
    "                          'Puerto Rico':'PR',\n",
    "                          'Virgin Islands':'VI',\n",
    "                          'United States Virgin Islands':'VI'})\n",
    "\n",
    "        ## Separately Process Rows that contain a city, state \n",
    "        df_city_states = df_us[df_us['Province/State'].str.contains(',')]\n",
    "\n",
    "\n",
    "        ## Finding City Abbreviations in city_states\n",
    "        import re\n",
    "        state_expr = re.compile(r\"[A-Z\\.]{2,4}\")\n",
    "        df_city_states['state'] = df_city_states['Province/State'].apply(state_expr.findall)\n",
    "        df_city_states = df_city_states.explode('state')\n",
    "\n",
    "\n",
    "        ## Seperately process Rows that do not contain a city,state\n",
    "        df_states = df_us[~df_us['Province/State'].str.contains(',')]\n",
    "        df_states['state'] =  df_states['Province/State'].map(STATE_DICT)\n",
    "\n",
    "        ## Combining data frame back together\n",
    "        df = pd.concat([df_states,df_city_states]).sort_index()\n",
    "        df = df.dropna(subset=['state'])\n",
    "\n",
    "        ## Fix some stragglers (like D.C. vs DC)\n",
    "        df['state'] = df['state'].replace('D.C.','DC')\n",
    "\n",
    "        \n",
    "        ## Combine Cleaned Data \n",
    "        df = pd.merge(df, state_lookup,left_on='state',right_on=\"Abbreviation\")\n",
    "       \n",
    "    \n",
    "        ## Add Population Data\n",
    "        if per_capita:\n",
    "\n",
    "            for col in  ['Confirmed','Deaths','Recovered']:\n",
    "                df[f\"{col} Per Capita\"] = df[col]/df['POPESTIMATE2019']\n",
    "\n",
    "                ## Remove Population \n",
    "            df.drop('POPESTIMATE2019',axis=1,inplace=True)\n",
    "    #     if len(save_as)>0:\n",
    "    #         print(f'[i] Saving final df as {save_as}')\n",
    "    #         df.to_csv(save_as,index=False)\n",
    "\n",
    "        if make_date_index:\n",
    "            df = self.set_datetime_index(df)\n",
    "        \n",
    "        self.df_us = df.copy()\n",
    "        return df\n",
    "    \n",
    "    \n",
    "    def get_state_ts(self,state_name,df=None,\n",
    "                     group_col='state', ts_col=None,\n",
    "                     freq='D', agg_func='sum'):\n",
    "        \"\"\"Take df_us and extracts state's data as then Freq/Aggregation provided\"\"\"\n",
    "        ## \n",
    "        if df is None:\n",
    "            df = self.df_us\n",
    "            \n",
    "            \n",
    "        ## Get state_df group\n",
    "        state_df = df.groupby(group_col).get_group(state_name)#.resample(freq).agg(agg)\n",
    "\n",
    "        ## Resample and aggregate state data\n",
    "        state_df = state_df.resample(freq).agg(agg_func)\n",
    "\n",
    "\n",
    "        ## Get and Rename Sum Cols \n",
    "        orig_cols = state_df.columns\n",
    "\n",
    "        ## Create Renamed Sum columns\n",
    "        for col in orig_cols:\n",
    "            state_df[f\"{state_name} - {col}\"] = state_df[col]\n",
    "\n",
    "        ## Drop original cols\n",
    "        state_df.drop(orig_cols,axis=1,inplace=True)\n",
    "\n",
    "        if ts_col is not None:\n",
    "            ts_cols_selected = [col for col in state_df.columns if ts_col in col]\n",
    "            state_df = state_df[ts_cols_selected]\n",
    "\n",
    "        return state_df \n",
    "\n",
    "    \n",
    "    def _make_state_dict(self,df=None,col='state'):\n",
    "        if df is None:\n",
    "            df = self.df_us\n",
    "        elif col not in df.columns:\n",
    "            msg = f\"{col} not in df.columns.\\nColumns include:\"+'\\n'.join(df.columns)\n",
    "            raise Exception(msg)\n",
    "        state_list=df['state'].unique()\n",
    "\n",
    "        STATES = {}\n",
    "        for state in state_list:\n",
    "            STATES[state] = self.get_state_ts(state)\n",
    "        self.STATES = STATES\n",
    "\n",
    "        \n",
    "    ### CLASS DISPLAY RELATED ITEMS\n",
    "    def _self_report(self,private=False,methods=True,attributes=True):\n",
    "        import inspect\n",
    "        attr_list = inspect.getmembers(self)\n",
    "        dashes='---'*20\n",
    "        report = [dashes]\n",
    "        report.append(\"[i] CoronaData Contents:\\n\"+dashes)\n",
    "\n",
    "\n",
    "        method_list=[\"METHODS:\"]\n",
    "        attribute_list=[\"ATTRIBUTES\"]\n",
    "        workflow_list = [\"WORKFLOW:\"]\n",
    "        \n",
    "        if private==False:\n",
    "            startswithcheck = '_'\n",
    "        else:\n",
    "            startswithcheck ='__'\n",
    "        \n",
    "        ## Loop through all attr\n",
    "        for item in attr_list:\n",
    "            item_name = item[0]\n",
    "            \n",
    "            ## Exclude Private/Special Attrs\n",
    "            if item_name.startswith(startswithcheck)== False:\n",
    "                \n",
    "                ## Get tf if item is method\n",
    "                method_check = inspect.ismethod(item[1])\n",
    "                \n",
    "                ## If item is a method:\n",
    "                if method_check==True:\n",
    "                    method_list.append(item_name)\n",
    "                ## If item is an attribute\n",
    "                else: \n",
    "                    attribute_list.append(item_name) \n",
    "                    \n",
    "                    \n",
    "        ## Get workflow\n",
    "        workflow_funcs = [self.download_coronavirus_data,\n",
    "                         self.load_raw_df, self.get_and_clean_US]\n",
    "        for i,method in enumerate(workflow_funcs):\n",
    "            workflow_list.append(f\"{i+1}. {method.__name__}\")\n",
    "            \n",
    "#         [workflow_list.append(method.__name__) for method in workflow_funcs]\n",
    "#         print(workflow)\n",
    "#         workflow_list.extend(workflow_funcs)\n",
    "\n",
    "        report.append('\\n\\t'.join(workflow_list))\n",
    "        \n",
    "        \n",
    "        if methods:\n",
    "            report.append('\\n\\t'.join(method_list))\n",
    "        if attributes:\n",
    "            report.append('\\n\\t'.join(attribute_list))\n",
    "            \n",
    "\n",
    "        \n",
    "        return '\\n'.join(report)\n",
    "    \n",
    "\n",
    "                \n",
    "    def __repr__(self):\n",
    "#         display(help(self))\n",
    "    \n",
    "        return self._self_report()#('\\n'.join(self._method_report()))\n",
    "        "
   ]
  },
  {
   "cell_type": "code",
   "execution_count": 51,
   "metadata": {
    "ExecuteTime": {
     "end_time": "2020-07-02T00:47:43.006350Z",
     "start_time": "2020-07-02T00:47:42.456683Z"
    },
    "code_folding": [],
    "tags": []
   },
   "outputs": [
    {
     "name": "stdout",
     "output_type": "stream",
     "text": [
      "Full Worfklow Complete.\n"
     ]
    },
    {
     "data": {
      "text/plain": [
       "------------------------------------------------------------\n",
       "[i] CoronaData Contents:\n",
       "------------------------------------------------------------\n",
       "WORKFLOW:\n",
       "\t1. download_coronavirus_data\n",
       "\t2. load_raw_df\n",
       "\t3. get_and_clean_US\n",
       "METHODS:\n",
       "\tcalculate_per_capita\n",
       "\tdownload_coronavirus_data\n",
       "\tget_and_clean_US\n",
       "\tget_data_fpath\n",
       "\tget_state_ts\n",
       "\tload_raw_df\n",
       "\tload_us_reference_info\n",
       "\tset_datetime_index\n",
       "ATTRIBUTES\n",
       "\tSTATES\n",
       "\tdf\n",
       "\tdf_raw\n",
       "\tdf_us\n",
       "\treference_data"
      ]
     },
     "execution_count": 51,
     "metadata": {},
     "output_type": "execute_result"
    }
   ],
   "source": [
    "corona = CoronaData(verbose=False)\n",
    "corona\n",
    "# corona.download_coronavirus_data()"
   ]
  },
  {
   "cell_type": "code",
   "execution_count": 52,
   "metadata": {
    "ExecuteTime": {
     "end_time": "2020-07-02T00:47:46.823085Z",
     "start_time": "2020-07-02T00:47:46.801314Z"
    }
   },
   "outputs": [
    {
     "data": {
      "text/html": [
       "<div>\n",
       "<style scoped>\n",
       "    .dataframe tbody tr th:only-of-type {\n",
       "        vertical-align: middle;\n",
       "    }\n",
       "\n",
       "    .dataframe tbody tr th {\n",
       "        vertical-align: top;\n",
       "    }\n",
       "\n",
       "    .dataframe thead th {\n",
       "        text-align: right;\n",
       "    }\n",
       "</style>\n",
       "<table border=\"1\" class=\"dataframe\">\n",
       "  <thead>\n",
       "    <tr style=\"text-align: right;\">\n",
       "      <th></th>\n",
       "      <th>Province/State</th>\n",
       "      <th>Country/Region</th>\n",
       "      <th>Confirmed</th>\n",
       "      <th>Deaths</th>\n",
       "      <th>Recovered</th>\n",
       "      <th>state</th>\n",
       "      <th>State</th>\n",
       "      <th>Abbreviation</th>\n",
       "      <th>Confirmed Per Capita</th>\n",
       "      <th>Deaths Per Capita</th>\n",
       "      <th>Recovered Per Capita</th>\n",
       "    </tr>\n",
       "    <tr>\n",
       "      <th>Date</th>\n",
       "      <th></th>\n",
       "      <th></th>\n",
       "      <th></th>\n",
       "      <th></th>\n",
       "      <th></th>\n",
       "      <th></th>\n",
       "      <th></th>\n",
       "      <th></th>\n",
       "      <th></th>\n",
       "      <th></th>\n",
       "      <th></th>\n",
       "    </tr>\n",
       "  </thead>\n",
       "  <tbody>\n",
       "    <tr>\n",
       "      <th>2020-01-22</th>\n",
       "      <td>Washington</td>\n",
       "      <td>US</td>\n",
       "      <td>1.0</td>\n",
       "      <td>0.0</td>\n",
       "      <td>0.0</td>\n",
       "      <td>WA</td>\n",
       "      <td>Washington</td>\n",
       "      <td>WA</td>\n",
       "      <td>1.313216e-07</td>\n",
       "      <td>0.000000</td>\n",
       "      <td>0.0</td>\n",
       "    </tr>\n",
       "    <tr>\n",
       "      <th>2020-01-23</th>\n",
       "      <td>Washington</td>\n",
       "      <td>US</td>\n",
       "      <td>1.0</td>\n",
       "      <td>0.0</td>\n",
       "      <td>0.0</td>\n",
       "      <td>WA</td>\n",
       "      <td>Washington</td>\n",
       "      <td>WA</td>\n",
       "      <td>1.313216e-07</td>\n",
       "      <td>0.000000</td>\n",
       "      <td>0.0</td>\n",
       "    </tr>\n",
       "    <tr>\n",
       "      <th>2020-01-24</th>\n",
       "      <td>Washington</td>\n",
       "      <td>US</td>\n",
       "      <td>1.0</td>\n",
       "      <td>0.0</td>\n",
       "      <td>0.0</td>\n",
       "      <td>WA</td>\n",
       "      <td>Washington</td>\n",
       "      <td>WA</td>\n",
       "      <td>1.313216e-07</td>\n",
       "      <td>0.000000</td>\n",
       "      <td>0.0</td>\n",
       "    </tr>\n",
       "    <tr>\n",
       "      <th>2020-01-25</th>\n",
       "      <td>Washington</td>\n",
       "      <td>US</td>\n",
       "      <td>1.0</td>\n",
       "      <td>0.0</td>\n",
       "      <td>0.0</td>\n",
       "      <td>WA</td>\n",
       "      <td>Washington</td>\n",
       "      <td>WA</td>\n",
       "      <td>1.313216e-07</td>\n",
       "      <td>0.000000</td>\n",
       "      <td>0.0</td>\n",
       "    </tr>\n",
       "    <tr>\n",
       "      <th>2020-01-26</th>\n",
       "      <td>Washington</td>\n",
       "      <td>US</td>\n",
       "      <td>1.0</td>\n",
       "      <td>0.0</td>\n",
       "      <td>0.0</td>\n",
       "      <td>WA</td>\n",
       "      <td>Washington</td>\n",
       "      <td>WA</td>\n",
       "      <td>1.313216e-07</td>\n",
       "      <td>0.000000</td>\n",
       "      <td>0.0</td>\n",
       "    </tr>\n",
       "    <tr>\n",
       "      <th>...</th>\n",
       "      <td>...</td>\n",
       "      <td>...</td>\n",
       "      <td>...</td>\n",
       "      <td>...</td>\n",
       "      <td>...</td>\n",
       "      <td>...</td>\n",
       "      <td>...</td>\n",
       "      <td>...</td>\n",
       "      <td>...</td>\n",
       "      <td>...</td>\n",
       "      <td>...</td>\n",
       "    </tr>\n",
       "    <tr>\n",
       "      <th>2020-06-26</th>\n",
       "      <td>Puerto Rico</td>\n",
       "      <td>US</td>\n",
       "      <td>6922.0</td>\n",
       "      <td>151.0</td>\n",
       "      <td>0.0</td>\n",
       "      <td>PR</td>\n",
       "      <td>Puerto Rico</td>\n",
       "      <td>PR</td>\n",
       "      <td>2.167396e-03</td>\n",
       "      <td>0.000047</td>\n",
       "      <td>0.0</td>\n",
       "    </tr>\n",
       "    <tr>\n",
       "      <th>2020-06-27</th>\n",
       "      <td>Puerto Rico</td>\n",
       "      <td>US</td>\n",
       "      <td>7066.0</td>\n",
       "      <td>152.0</td>\n",
       "      <td>0.0</td>\n",
       "      <td>PR</td>\n",
       "      <td>Puerto Rico</td>\n",
       "      <td>PR</td>\n",
       "      <td>2.212485e-03</td>\n",
       "      <td>0.000048</td>\n",
       "      <td>0.0</td>\n",
       "    </tr>\n",
       "    <tr>\n",
       "      <th>2020-06-28</th>\n",
       "      <td>Puerto Rico</td>\n",
       "      <td>US</td>\n",
       "      <td>7189.0</td>\n",
       "      <td>153.0</td>\n",
       "      <td>0.0</td>\n",
       "      <td>PR</td>\n",
       "      <td>Puerto Rico</td>\n",
       "      <td>PR</td>\n",
       "      <td>2.250998e-03</td>\n",
       "      <td>0.000048</td>\n",
       "      <td>0.0</td>\n",
       "    </tr>\n",
       "    <tr>\n",
       "      <th>2020-06-29</th>\n",
       "      <td>Puerto Rico</td>\n",
       "      <td>US</td>\n",
       "      <td>7250.0</td>\n",
       "      <td>153.0</td>\n",
       "      <td>0.0</td>\n",
       "      <td>PR</td>\n",
       "      <td>Puerto Rico</td>\n",
       "      <td>PR</td>\n",
       "      <td>2.270099e-03</td>\n",
       "      <td>0.000048</td>\n",
       "      <td>0.0</td>\n",
       "    </tr>\n",
       "    <tr>\n",
       "      <th>2020-06-30</th>\n",
       "      <td>Puerto Rico</td>\n",
       "      <td>US</td>\n",
       "      <td>7465.0</td>\n",
       "      <td>153.0</td>\n",
       "      <td>0.0</td>\n",
       "      <td>PR</td>\n",
       "      <td>Puerto Rico</td>\n",
       "      <td>PR</td>\n",
       "      <td>2.337419e-03</td>\n",
       "      <td>0.000048</td>\n",
       "      <td>0.0</td>\n",
       "    </tr>\n",
       "  </tbody>\n",
       "</table>\n",
       "<p>6749 rows × 11 columns</p>\n",
       "</div>"
      ],
      "text/plain": [
       "           Province/State Country/Region  Confirmed  Deaths  Recovered state  \\\n",
       "Date                                                                           \n",
       "2020-01-22     Washington             US        1.0     0.0        0.0    WA   \n",
       "2020-01-23     Washington             US        1.0     0.0        0.0    WA   \n",
       "2020-01-24     Washington             US        1.0     0.0        0.0    WA   \n",
       "2020-01-25     Washington             US        1.0     0.0        0.0    WA   \n",
       "2020-01-26     Washington             US        1.0     0.0        0.0    WA   \n",
       "...                   ...            ...        ...     ...        ...   ...   \n",
       "2020-06-26    Puerto Rico             US     6922.0   151.0        0.0    PR   \n",
       "2020-06-27    Puerto Rico             US     7066.0   152.0        0.0    PR   \n",
       "2020-06-28    Puerto Rico             US     7189.0   153.0        0.0    PR   \n",
       "2020-06-29    Puerto Rico             US     7250.0   153.0        0.0    PR   \n",
       "2020-06-30    Puerto Rico             US     7465.0   153.0        0.0    PR   \n",
       "\n",
       "                  State Abbreviation  Confirmed Per Capita  Deaths Per Capita  \\\n",
       "Date                                                                            \n",
       "2020-01-22   Washington           WA          1.313216e-07           0.000000   \n",
       "2020-01-23   Washington           WA          1.313216e-07           0.000000   \n",
       "2020-01-24   Washington           WA          1.313216e-07           0.000000   \n",
       "2020-01-25   Washington           WA          1.313216e-07           0.000000   \n",
       "2020-01-26   Washington           WA          1.313216e-07           0.000000   \n",
       "...                 ...          ...                   ...                ...   \n",
       "2020-06-26  Puerto Rico           PR          2.167396e-03           0.000047   \n",
       "2020-06-27  Puerto Rico           PR          2.212485e-03           0.000048   \n",
       "2020-06-28  Puerto Rico           PR          2.250998e-03           0.000048   \n",
       "2020-06-29  Puerto Rico           PR          2.270099e-03           0.000048   \n",
       "2020-06-30  Puerto Rico           PR          2.337419e-03           0.000048   \n",
       "\n",
       "            Recovered Per Capita  \n",
       "Date                              \n",
       "2020-01-22                   0.0  \n",
       "2020-01-23                   0.0  \n",
       "2020-01-24                   0.0  \n",
       "2020-01-25                   0.0  \n",
       "2020-01-26                   0.0  \n",
       "...                          ...  \n",
       "2020-06-26                   0.0  \n",
       "2020-06-27                   0.0  \n",
       "2020-06-28                   0.0  \n",
       "2020-06-29                   0.0  \n",
       "2020-06-30                   0.0  \n",
       "\n",
       "[6749 rows x 11 columns]"
      ]
     },
     "execution_count": 52,
     "metadata": {},
     "output_type": "execute_result"
    }
   ],
   "source": [
    "corona.df_us"
   ]
  },
  {
   "cell_type": "code",
   "execution_count": 55,
   "metadata": {
    "ExecuteTime": {
     "end_time": "2020-07-02T00:48:12.972389Z",
     "start_time": "2020-07-02T00:48:12.396813Z"
    },
    "tags": []
   },
   "outputs": [
    {
     "name": "stdout",
     "output_type": "stream",
     "text": [
      "Full Worfklow Complete.\n"
     ]
    },
    {
     "data": {
      "text/html": [
       "<div>\n",
       "<style scoped>\n",
       "    .dataframe tbody tr th:only-of-type {\n",
       "        vertical-align: middle;\n",
       "    }\n",
       "\n",
       "    .dataframe tbody tr th {\n",
       "        vertical-align: top;\n",
       "    }\n",
       "\n",
       "    .dataframe thead th {\n",
       "        text-align: right;\n",
       "    }\n",
       "</style>\n",
       "<table border=\"1\" class=\"dataframe\">\n",
       "  <thead>\n",
       "    <tr style=\"text-align: right;\">\n",
       "      <th></th>\n",
       "      <th>Province/State</th>\n",
       "      <th>Country/Region</th>\n",
       "      <th>Confirmed</th>\n",
       "      <th>Deaths</th>\n",
       "      <th>Recovered</th>\n",
       "      <th>state</th>\n",
       "      <th>State</th>\n",
       "      <th>Abbreviation</th>\n",
       "      <th>Confirmed Per Capita</th>\n",
       "      <th>Deaths Per Capita</th>\n",
       "      <th>Recovered Per Capita</th>\n",
       "    </tr>\n",
       "    <tr>\n",
       "      <th>Date</th>\n",
       "      <th></th>\n",
       "      <th></th>\n",
       "      <th></th>\n",
       "      <th></th>\n",
       "      <th></th>\n",
       "      <th></th>\n",
       "      <th></th>\n",
       "      <th></th>\n",
       "      <th></th>\n",
       "      <th></th>\n",
       "      <th></th>\n",
       "    </tr>\n",
       "  </thead>\n",
       "  <tbody>\n",
       "    <tr>\n",
       "      <th>2020-01-22</th>\n",
       "      <td>Washington</td>\n",
       "      <td>US</td>\n",
       "      <td>1.0</td>\n",
       "      <td>0.0</td>\n",
       "      <td>0.0</td>\n",
       "      <td>WA</td>\n",
       "      <td>Washington</td>\n",
       "      <td>WA</td>\n",
       "      <td>1.313216e-07</td>\n",
       "      <td>0.000000</td>\n",
       "      <td>0.0</td>\n",
       "    </tr>\n",
       "    <tr>\n",
       "      <th>2020-01-23</th>\n",
       "      <td>Washington</td>\n",
       "      <td>US</td>\n",
       "      <td>1.0</td>\n",
       "      <td>0.0</td>\n",
       "      <td>0.0</td>\n",
       "      <td>WA</td>\n",
       "      <td>Washington</td>\n",
       "      <td>WA</td>\n",
       "      <td>1.313216e-07</td>\n",
       "      <td>0.000000</td>\n",
       "      <td>0.0</td>\n",
       "    </tr>\n",
       "    <tr>\n",
       "      <th>2020-01-24</th>\n",
       "      <td>Washington</td>\n",
       "      <td>US</td>\n",
       "      <td>1.0</td>\n",
       "      <td>0.0</td>\n",
       "      <td>0.0</td>\n",
       "      <td>WA</td>\n",
       "      <td>Washington</td>\n",
       "      <td>WA</td>\n",
       "      <td>1.313216e-07</td>\n",
       "      <td>0.000000</td>\n",
       "      <td>0.0</td>\n",
       "    </tr>\n",
       "    <tr>\n",
       "      <th>2020-01-25</th>\n",
       "      <td>Washington</td>\n",
       "      <td>US</td>\n",
       "      <td>1.0</td>\n",
       "      <td>0.0</td>\n",
       "      <td>0.0</td>\n",
       "      <td>WA</td>\n",
       "      <td>Washington</td>\n",
       "      <td>WA</td>\n",
       "      <td>1.313216e-07</td>\n",
       "      <td>0.000000</td>\n",
       "      <td>0.0</td>\n",
       "    </tr>\n",
       "    <tr>\n",
       "      <th>2020-01-26</th>\n",
       "      <td>Washington</td>\n",
       "      <td>US</td>\n",
       "      <td>1.0</td>\n",
       "      <td>0.0</td>\n",
       "      <td>0.0</td>\n",
       "      <td>WA</td>\n",
       "      <td>Washington</td>\n",
       "      <td>WA</td>\n",
       "      <td>1.313216e-07</td>\n",
       "      <td>0.000000</td>\n",
       "      <td>0.0</td>\n",
       "    </tr>\n",
       "    <tr>\n",
       "      <th>...</th>\n",
       "      <td>...</td>\n",
       "      <td>...</td>\n",
       "      <td>...</td>\n",
       "      <td>...</td>\n",
       "      <td>...</td>\n",
       "      <td>...</td>\n",
       "      <td>...</td>\n",
       "      <td>...</td>\n",
       "      <td>...</td>\n",
       "      <td>...</td>\n",
       "      <td>...</td>\n",
       "    </tr>\n",
       "    <tr>\n",
       "      <th>2020-06-26</th>\n",
       "      <td>Puerto Rico</td>\n",
       "      <td>US</td>\n",
       "      <td>6922.0</td>\n",
       "      <td>151.0</td>\n",
       "      <td>0.0</td>\n",
       "      <td>PR</td>\n",
       "      <td>Puerto Rico</td>\n",
       "      <td>PR</td>\n",
       "      <td>2.167396e-03</td>\n",
       "      <td>0.000047</td>\n",
       "      <td>0.0</td>\n",
       "    </tr>\n",
       "    <tr>\n",
       "      <th>2020-06-27</th>\n",
       "      <td>Puerto Rico</td>\n",
       "      <td>US</td>\n",
       "      <td>7066.0</td>\n",
       "      <td>152.0</td>\n",
       "      <td>0.0</td>\n",
       "      <td>PR</td>\n",
       "      <td>Puerto Rico</td>\n",
       "      <td>PR</td>\n",
       "      <td>2.212485e-03</td>\n",
       "      <td>0.000048</td>\n",
       "      <td>0.0</td>\n",
       "    </tr>\n",
       "    <tr>\n",
       "      <th>2020-06-28</th>\n",
       "      <td>Puerto Rico</td>\n",
       "      <td>US</td>\n",
       "      <td>7189.0</td>\n",
       "      <td>153.0</td>\n",
       "      <td>0.0</td>\n",
       "      <td>PR</td>\n",
       "      <td>Puerto Rico</td>\n",
       "      <td>PR</td>\n",
       "      <td>2.250998e-03</td>\n",
       "      <td>0.000048</td>\n",
       "      <td>0.0</td>\n",
       "    </tr>\n",
       "    <tr>\n",
       "      <th>2020-06-29</th>\n",
       "      <td>Puerto Rico</td>\n",
       "      <td>US</td>\n",
       "      <td>7250.0</td>\n",
       "      <td>153.0</td>\n",
       "      <td>0.0</td>\n",
       "      <td>PR</td>\n",
       "      <td>Puerto Rico</td>\n",
       "      <td>PR</td>\n",
       "      <td>2.270099e-03</td>\n",
       "      <td>0.000048</td>\n",
       "      <td>0.0</td>\n",
       "    </tr>\n",
       "    <tr>\n",
       "      <th>2020-06-30</th>\n",
       "      <td>Puerto Rico</td>\n",
       "      <td>US</td>\n",
       "      <td>7465.0</td>\n",
       "      <td>153.0</td>\n",
       "      <td>0.0</td>\n",
       "      <td>PR</td>\n",
       "      <td>Puerto Rico</td>\n",
       "      <td>PR</td>\n",
       "      <td>2.337419e-03</td>\n",
       "      <td>0.000048</td>\n",
       "      <td>0.0</td>\n",
       "    </tr>\n",
       "  </tbody>\n",
       "</table>\n",
       "<p>6749 rows × 11 columns</p>\n",
       "</div>"
      ],
      "text/plain": [
       "           Province/State Country/Region  Confirmed  Deaths  Recovered state  \\\n",
       "Date                                                                           \n",
       "2020-01-22     Washington             US        1.0     0.0        0.0    WA   \n",
       "2020-01-23     Washington             US        1.0     0.0        0.0    WA   \n",
       "2020-01-24     Washington             US        1.0     0.0        0.0    WA   \n",
       "2020-01-25     Washington             US        1.0     0.0        0.0    WA   \n",
       "2020-01-26     Washington             US        1.0     0.0        0.0    WA   \n",
       "...                   ...            ...        ...     ...        ...   ...   \n",
       "2020-06-26    Puerto Rico             US     6922.0   151.0        0.0    PR   \n",
       "2020-06-27    Puerto Rico             US     7066.0   152.0        0.0    PR   \n",
       "2020-06-28    Puerto Rico             US     7189.0   153.0        0.0    PR   \n",
       "2020-06-29    Puerto Rico             US     7250.0   153.0        0.0    PR   \n",
       "2020-06-30    Puerto Rico             US     7465.0   153.0        0.0    PR   \n",
       "\n",
       "                  State Abbreviation  Confirmed Per Capita  Deaths Per Capita  \\\n",
       "Date                                                                            \n",
       "2020-01-22   Washington           WA          1.313216e-07           0.000000   \n",
       "2020-01-23   Washington           WA          1.313216e-07           0.000000   \n",
       "2020-01-24   Washington           WA          1.313216e-07           0.000000   \n",
       "2020-01-25   Washington           WA          1.313216e-07           0.000000   \n",
       "2020-01-26   Washington           WA          1.313216e-07           0.000000   \n",
       "...                 ...          ...                   ...                ...   \n",
       "2020-06-26  Puerto Rico           PR          2.167396e-03           0.000047   \n",
       "2020-06-27  Puerto Rico           PR          2.212485e-03           0.000048   \n",
       "2020-06-28  Puerto Rico           PR          2.250998e-03           0.000048   \n",
       "2020-06-29  Puerto Rico           PR          2.270099e-03           0.000048   \n",
       "2020-06-30  Puerto Rico           PR          2.337419e-03           0.000048   \n",
       "\n",
       "            Recovered Per Capita  \n",
       "Date                              \n",
       "2020-01-22                   0.0  \n",
       "2020-01-23                   0.0  \n",
       "2020-01-24                   0.0  \n",
       "2020-01-25                   0.0  \n",
       "2020-01-26                   0.0  \n",
       "...                          ...  \n",
       "2020-06-26                   0.0  \n",
       "2020-06-27                   0.0  \n",
       "2020-06-28                   0.0  \n",
       "2020-06-29                   0.0  \n",
       "2020-06-30                   0.0  \n",
       "\n",
       "[6749 rows x 11 columns]"
      ]
     },
     "execution_count": 55,
     "metadata": {},
     "output_type": "execute_result"
    }
   ],
   "source": [
    "corona_data = CoronaData(run_workflow=True,verbose=False)\n",
    "df = corona_data.df_us\n",
    "df"
   ]
  },
  {
   "cell_type": "markdown",
   "metadata": {},
   "source": [
    "### Counts by State"
   ]
  },
  {
   "cell_type": "code",
   "execution_count": 59,
   "metadata": {
    "ExecuteTime": {
     "end_time": "2020-07-02T00:49:08.286433Z",
     "start_time": "2020-07-02T00:49:08.261841Z"
    }
   },
   "outputs": [
    {
     "data": {
      "text/html": [
       "<div>\n",
       "<style scoped>\n",
       "    .dataframe tbody tr th:only-of-type {\n",
       "        vertical-align: middle;\n",
       "    }\n",
       "\n",
       "    .dataframe tbody tr th {\n",
       "        vertical-align: top;\n",
       "    }\n",
       "\n",
       "    .dataframe thead th {\n",
       "        text-align: right;\n",
       "    }\n",
       "</style>\n",
       "<table border=\"1\" class=\"dataframe\">\n",
       "  <thead>\n",
       "    <tr style=\"text-align: right;\">\n",
       "      <th></th>\n",
       "      <th>MD - Confirmed</th>\n",
       "      <th>MD - Deaths</th>\n",
       "      <th>MD - Recovered</th>\n",
       "      <th>MD - Confirmed Per Capita</th>\n",
       "      <th>MD - Deaths Per Capita</th>\n",
       "      <th>MD - Recovered Per Capita</th>\n",
       "    </tr>\n",
       "    <tr>\n",
       "      <th>Date</th>\n",
       "      <th></th>\n",
       "      <th></th>\n",
       "      <th></th>\n",
       "      <th></th>\n",
       "      <th></th>\n",
       "      <th></th>\n",
       "    </tr>\n",
       "  </thead>\n",
       "  <tbody>\n",
       "    <tr>\n",
       "      <th>2020-03-06</th>\n",
       "      <td>3.0</td>\n",
       "      <td>0.0</td>\n",
       "      <td>0.0</td>\n",
       "      <td>4.962221e-07</td>\n",
       "      <td>0.000000</td>\n",
       "      <td>0.0</td>\n",
       "    </tr>\n",
       "    <tr>\n",
       "      <th>2020-03-07</th>\n",
       "      <td>3.0</td>\n",
       "      <td>0.0</td>\n",
       "      <td>0.0</td>\n",
       "      <td>4.962221e-07</td>\n",
       "      <td>0.000000</td>\n",
       "      <td>0.0</td>\n",
       "    </tr>\n",
       "    <tr>\n",
       "      <th>2020-03-08</th>\n",
       "      <td>5.0</td>\n",
       "      <td>0.0</td>\n",
       "      <td>0.0</td>\n",
       "      <td>8.270368e-07</td>\n",
       "      <td>0.000000</td>\n",
       "      <td>0.0</td>\n",
       "    </tr>\n",
       "    <tr>\n",
       "      <th>2020-03-09</th>\n",
       "      <td>5.0</td>\n",
       "      <td>0.0</td>\n",
       "      <td>0.0</td>\n",
       "      <td>8.270368e-07</td>\n",
       "      <td>0.000000</td>\n",
       "      <td>0.0</td>\n",
       "    </tr>\n",
       "    <tr>\n",
       "      <th>2020-03-10</th>\n",
       "      <td>8.0</td>\n",
       "      <td>0.0</td>\n",
       "      <td>0.0</td>\n",
       "      <td>1.323259e-06</td>\n",
       "      <td>0.000000</td>\n",
       "      <td>0.0</td>\n",
       "    </tr>\n",
       "    <tr>\n",
       "      <th>...</th>\n",
       "      <td>...</td>\n",
       "      <td>...</td>\n",
       "      <td>...</td>\n",
       "      <td>...</td>\n",
       "      <td>...</td>\n",
       "      <td>...</td>\n",
       "    </tr>\n",
       "    <tr>\n",
       "      <th>2020-06-26</th>\n",
       "      <td>66115.0</td>\n",
       "      <td>3142.0</td>\n",
       "      <td>0.0</td>\n",
       "      <td>1.093591e-02</td>\n",
       "      <td>0.000520</td>\n",
       "      <td>0.0</td>\n",
       "    </tr>\n",
       "    <tr>\n",
       "      <th>2020-06-27</th>\n",
       "      <td>66450.0</td>\n",
       "      <td>3157.0</td>\n",
       "      <td>0.0</td>\n",
       "      <td>1.099132e-02</td>\n",
       "      <td>0.000522</td>\n",
       "      <td>0.0</td>\n",
       "    </tr>\n",
       "    <tr>\n",
       "      <th>2020-06-28</th>\n",
       "      <td>66777.0</td>\n",
       "      <td>3168.0</td>\n",
       "      <td>0.0</td>\n",
       "      <td>1.104541e-02</td>\n",
       "      <td>0.000524</td>\n",
       "      <td>0.0</td>\n",
       "    </tr>\n",
       "    <tr>\n",
       "      <th>2020-06-29</th>\n",
       "      <td>67254.0</td>\n",
       "      <td>3175.0</td>\n",
       "      <td>0.0</td>\n",
       "      <td>1.112431e-02</td>\n",
       "      <td>0.000525</td>\n",
       "      <td>0.0</td>\n",
       "    </tr>\n",
       "    <tr>\n",
       "      <th>2020-06-30</th>\n",
       "      <td>67559.0</td>\n",
       "      <td>3190.0</td>\n",
       "      <td>0.0</td>\n",
       "      <td>1.117476e-02</td>\n",
       "      <td>0.000528</td>\n",
       "      <td>0.0</td>\n",
       "    </tr>\n",
       "  </tbody>\n",
       "</table>\n",
       "<p>117 rows × 6 columns</p>\n",
       "</div>"
      ],
      "text/plain": [
       "            MD - Confirmed  MD - Deaths  MD - Recovered  \\\n",
       "Date                                                      \n",
       "2020-03-06             3.0          0.0             0.0   \n",
       "2020-03-07             3.0          0.0             0.0   \n",
       "2020-03-08             5.0          0.0             0.0   \n",
       "2020-03-09             5.0          0.0             0.0   \n",
       "2020-03-10             8.0          0.0             0.0   \n",
       "...                    ...          ...             ...   \n",
       "2020-06-26         66115.0       3142.0             0.0   \n",
       "2020-06-27         66450.0       3157.0             0.0   \n",
       "2020-06-28         66777.0       3168.0             0.0   \n",
       "2020-06-29         67254.0       3175.0             0.0   \n",
       "2020-06-30         67559.0       3190.0             0.0   \n",
       "\n",
       "            MD - Confirmed Per Capita  MD - Deaths Per Capita  \\\n",
       "Date                                                            \n",
       "2020-03-06               4.962221e-07                0.000000   \n",
       "2020-03-07               4.962221e-07                0.000000   \n",
       "2020-03-08               8.270368e-07                0.000000   \n",
       "2020-03-09               8.270368e-07                0.000000   \n",
       "2020-03-10               1.323259e-06                0.000000   \n",
       "...                               ...                     ...   \n",
       "2020-06-26               1.093591e-02                0.000520   \n",
       "2020-06-27               1.099132e-02                0.000522   \n",
       "2020-06-28               1.104541e-02                0.000524   \n",
       "2020-06-29               1.112431e-02                0.000525   \n",
       "2020-06-30               1.117476e-02                0.000528   \n",
       "\n",
       "            MD - Recovered Per Capita  \n",
       "Date                                   \n",
       "2020-03-06                        0.0  \n",
       "2020-03-07                        0.0  \n",
       "2020-03-08                        0.0  \n",
       "2020-03-09                        0.0  \n",
       "2020-03-10                        0.0  \n",
       "...                               ...  \n",
       "2020-06-26                        0.0  \n",
       "2020-06-27                        0.0  \n",
       "2020-06-28                        0.0  \n",
       "2020-06-29                        0.0  \n",
       "2020-06-30                        0.0  \n",
       "\n",
       "[117 rows x 6 columns]"
      ]
     },
     "execution_count": 59,
     "metadata": {},
     "output_type": "execute_result"
    }
   ],
   "source": [
    "corona.get_state_ts('MD')"
   ]
  },
  {
   "cell_type": "code",
   "execution_count": 56,
   "metadata": {
    "ExecuteTime": {
     "end_time": "2020-07-02T00:48:20.490579Z",
     "start_time": "2020-07-02T00:48:20.488561Z"
    }
   },
   "outputs": [],
   "source": [
    "# ## Report Total Cases\n",
    "# total_cases = df.groupby('state').sum()\n",
    "# total_cases.sort_values('Confirmed',0,0).head(20).style.bar(['Deaths','Confirmed'])"
   ]
  },
  {
   "cell_type": "code",
   "execution_count": null,
   "metadata": {
    "ExecuteTime": {
     "end_time": "2020-07-02T00:45:07.586418Z",
     "start_time": "2020-07-02T00:45:06.796619Z"
    },
    "tags": []
   },
   "outputs": [],
   "source": [
    "# ## RUN FULL WORKFLOW\n",
    "# main_file = download_coronavirus_data()\n",
    "# raw_df = load_raw_df(main_file)\n",
    "# df = get_and_clean_US(raw_df)\n",
    "# df.head()"
   ]
  },
  {
   "cell_type": "code",
   "execution_count": 60,
   "metadata": {
    "ExecuteTime": {
     "end_time": "2020-07-02T00:49:15.984356Z",
     "start_time": "2020-07-02T00:49:15.982110Z"
    }
   },
   "outputs": [],
   "source": [
    "# state_df = get_state_ts(df,\"NY\")\n",
    "# state_df"
   ]
  },
  {
   "cell_type": "markdown",
   "metadata": {},
   "source": [
    "#### Need to decide what form to leave df in for plotting functions"
   ]
  },
  {
   "cell_type": "code",
   "execution_count": 35,
   "metadata": {
    "ExecuteTime": {
     "end_time": "2020-07-02T00:45:07.622374Z",
     "start_time": "2020-07-02T00:45:07.618962Z"
    }
   },
   "outputs": [],
   "source": [
    "# def get_state_ts(df, state_name,\n",
    "#                  group_col='state',\n",
    "#                  ts_col=None,resample=False,agg='sum',dt_index='Date'):#, ts_col='Cases'):\n",
    "#     \"\"\"\"Separates a state_name/group from the group_col of df\n",
    "#     Returns a resampled aggregate timeseries\"\"\"\n",
    "    \n",
    "#     ts = df.groupby(group_col).get_group(state_name)\n",
    "    \n",
    "#     # ts.set_index('date',inplace=True)\n",
    "#     ts = ts.reset_index(drop=False).set_index(dt_index)\n",
    "    \n",
    "#     if resample:\n",
    "#         ts = ts.resample('d').agg(agg)\n",
    "#         ts['state'] = state_name\n",
    "        \n",
    "#     ## Return specific columns if specificed\n",
    "#     if ts_col is not None:\n",
    "#         return ts[ts_col]#.rename(f\"{ts_col.name}-{state_name}\")\n",
    "#     else:\n",
    "#         return ts"
   ]
  },
  {
   "cell_type": "code",
   "execution_count": 36,
   "metadata": {
    "ExecuteTime": {
     "end_time": "2020-07-02T00:45:07.626994Z",
     "start_time": "2020-07-02T00:45:07.624536Z"
    }
   },
   "outputs": [],
   "source": [
    "    \n",
    "# ts_NY = get_state_ts(df,'NY',\n",
    "#                   ts_col=['Confirmed',\"Deaths\",\"Recovered\"],resample=True)\n",
    "# display(ts_NY.head())\n",
    "# for col in['Confirmed','Deaths','Recovered']:\n",
    "#     ts_NY[col+'-Cumulative'] = ts_NY[col].cumsum()\n",
    "# NY = ts_NY.reset_index()\n",
    "# NY"
   ]
  },
  {
   "cell_type": "code",
   "execution_count": null,
   "metadata": {
    "ExecuteTime": {
     "end_time": "2020-06-17T16:37:09.181953Z",
     "start_time": "2020-06-17T16:37:09.178472Z"
    }
   },
   "outputs": [],
   "source": []
  },
  {
   "cell_type": "code",
   "execution_count": 37,
   "metadata": {
    "ExecuteTime": {
     "end_time": "2020-07-02T00:45:07.633183Z",
     "start_time": "2020-07-02T00:45:07.629676Z"
    }
   },
   "outputs": [],
   "source": [
    "# import plotly.express as px\n",
    "# px.line(NY,x='Day',y='Confirmed-Cumulative')\n",
    "# px.line(NY,x='Day',y='Confirmed')"
   ]
  },
  {
   "cell_type": "code",
   "execution_count": 38,
   "metadata": {
    "ExecuteTime": {
     "end_time": "2020-07-02T00:45:07.638433Z",
     "start_time": "2020-07-02T00:45:07.635253Z"
    }
   },
   "outputs": [],
   "source": [
    "# get_state_ts(df,'NY',ts_col='Confirmed')#.plot()"
   ]
  },
  {
   "cell_type": "code",
   "execution_count": null,
   "metadata": {},
   "outputs": [],
   "source": []
  },
  {
   "cell_type": "markdown",
   "metadata": {},
   "source": [
    "### Get all states in a dict"
   ]
  },
  {
   "cell_type": "code",
   "execution_count": 39,
   "metadata": {
    "ExecuteTime": {
     "end_time": "2020-07-02T00:45:07.648768Z",
     "start_time": "2020-07-02T00:45:07.641093Z"
    },
    "tags": []
   },
   "outputs": [
    {
     "name": "stdout",
     "output_type": "stream",
     "text": [
      "52\n"
     ]
    },
    {
     "data": {
      "text/plain": [
       "array(['WA', 'IL', 'CA', 'AZ', 'MA', 'WI', 'TX', 'NE', 'OR', 'RI', 'NH',\n",
       "       'FL', 'NY', 'GA', 'NC', 'NJ', 'NV', 'TN', 'MD', 'CO', 'PA', 'KY',\n",
       "       'IN', 'MN', 'CT', 'SC', 'UT', 'HI', 'OK', 'VA', 'DC', 'KS', 'MO',\n",
       "       'VT', 'IA', 'LA', 'OH', 'AK', 'AR', 'DE', 'ID', 'ME', 'MI', 'MS',\n",
       "       'MT', 'NM', 'ND', 'SD', 'WV', 'WY', 'AL', 'PR'], dtype=object)"
      ]
     },
     "execution_count": 39,
     "metadata": {},
     "output_type": "execute_result"
    }
   ],
   "source": [
    "state_list=df['state'].unique()\n",
    "print(len(state_list))\n",
    "state_list"
   ]
  },
  {
   "cell_type": "code",
   "execution_count": 40,
   "metadata": {
    "ExecuteTime": {
     "end_time": "2020-07-02T00:45:08.339517Z",
     "start_time": "2020-07-02T00:45:07.651572Z"
    }
   },
   "outputs": [
    {
     "data": {
      "text/plain": [
       "dict_keys(['WA', 'IL', 'CA', 'AZ', 'MA', 'WI', 'TX', 'NE', 'OR', 'RI', 'NH', 'FL', 'NY', 'GA', 'NC', 'NJ', 'NV', 'TN', 'MD', 'CO', 'PA', 'KY', 'IN', 'MN', 'CT', 'SC', 'UT', 'HI', 'OK', 'VA', 'DC', 'KS', 'MO', 'VT', 'IA', 'LA', 'OH', 'AK', 'AR', 'DE', 'ID', 'ME', 'MI', 'MS', 'MT', 'NM', 'ND', 'SD', 'WV', 'WY', 'AL', 'PR'])"
      ]
     },
     "execution_count": 40,
     "metadata": {},
     "output_type": "execute_result"
    }
   ],
   "source": [
    "state_list=df['state'].unique()\n",
    "\n",
    "STATES = {}\n",
    "for state in state_list:\n",
    "    STATES[state] = get_state_ts(df,state)\n",
    "\n",
    "STATES.keys()"
   ]
  },
  {
   "cell_type": "code",
   "execution_count": 41,
   "metadata": {
    "ExecuteTime": {
     "end_time": "2020-07-02T00:45:08.353557Z",
     "start_time": "2020-07-02T00:45:08.341246Z"
    }
   },
   "outputs": [
    {
     "data": {
      "text/html": [
       "<div>\n",
       "<style scoped>\n",
       "    .dataframe tbody tr th:only-of-type {\n",
       "        vertical-align: middle;\n",
       "    }\n",
       "\n",
       "    .dataframe tbody tr th {\n",
       "        vertical-align: top;\n",
       "    }\n",
       "\n",
       "    .dataframe thead th {\n",
       "        text-align: right;\n",
       "    }\n",
       "</style>\n",
       "<table border=\"1\" class=\"dataframe\">\n",
       "  <thead>\n",
       "    <tr style=\"text-align: right;\">\n",
       "      <th></th>\n",
       "      <th>MD - Confirmed</th>\n",
       "      <th>MD - Deaths</th>\n",
       "      <th>MD - Recovered</th>\n",
       "      <th>MD - Confirmed Per Capita</th>\n",
       "      <th>MD - Deaths Per Capita</th>\n",
       "      <th>MD - Recovered Per Capita</th>\n",
       "    </tr>\n",
       "    <tr>\n",
       "      <th>Date</th>\n",
       "      <th></th>\n",
       "      <th></th>\n",
       "      <th></th>\n",
       "      <th></th>\n",
       "      <th></th>\n",
       "      <th></th>\n",
       "    </tr>\n",
       "  </thead>\n",
       "  <tbody>\n",
       "    <tr>\n",
       "      <th>2020-03-06</th>\n",
       "      <td>3.0</td>\n",
       "      <td>0.0</td>\n",
       "      <td>0.0</td>\n",
       "      <td>4.962221e-07</td>\n",
       "      <td>0.0</td>\n",
       "      <td>0.0</td>\n",
       "    </tr>\n",
       "    <tr>\n",
       "      <th>2020-03-07</th>\n",
       "      <td>3.0</td>\n",
       "      <td>0.0</td>\n",
       "      <td>0.0</td>\n",
       "      <td>4.962221e-07</td>\n",
       "      <td>0.0</td>\n",
       "      <td>0.0</td>\n",
       "    </tr>\n",
       "    <tr>\n",
       "      <th>2020-03-08</th>\n",
       "      <td>5.0</td>\n",
       "      <td>0.0</td>\n",
       "      <td>0.0</td>\n",
       "      <td>8.270368e-07</td>\n",
       "      <td>0.0</td>\n",
       "      <td>0.0</td>\n",
       "    </tr>\n",
       "    <tr>\n",
       "      <th>2020-03-09</th>\n",
       "      <td>5.0</td>\n",
       "      <td>0.0</td>\n",
       "      <td>0.0</td>\n",
       "      <td>8.270368e-07</td>\n",
       "      <td>0.0</td>\n",
       "      <td>0.0</td>\n",
       "    </tr>\n",
       "    <tr>\n",
       "      <th>2020-03-10</th>\n",
       "      <td>8.0</td>\n",
       "      <td>0.0</td>\n",
       "      <td>0.0</td>\n",
       "      <td>1.323259e-06</td>\n",
       "      <td>0.0</td>\n",
       "      <td>0.0</td>\n",
       "    </tr>\n",
       "  </tbody>\n",
       "</table>\n",
       "</div>"
      ],
      "text/plain": [
       "            MD - Confirmed  MD - Deaths  MD - Recovered  \\\n",
       "Date                                                      \n",
       "2020-03-06             3.0          0.0             0.0   \n",
       "2020-03-07             3.0          0.0             0.0   \n",
       "2020-03-08             5.0          0.0             0.0   \n",
       "2020-03-09             5.0          0.0             0.0   \n",
       "2020-03-10             8.0          0.0             0.0   \n",
       "\n",
       "            MD - Confirmed Per Capita  MD - Deaths Per Capita  \\\n",
       "Date                                                            \n",
       "2020-03-06               4.962221e-07                     0.0   \n",
       "2020-03-07               4.962221e-07                     0.0   \n",
       "2020-03-08               8.270368e-07                     0.0   \n",
       "2020-03-09               8.270368e-07                     0.0   \n",
       "2020-03-10               1.323259e-06                     0.0   \n",
       "\n",
       "            MD - Recovered Per Capita  \n",
       "Date                                   \n",
       "2020-03-06                        0.0  \n",
       "2020-03-07                        0.0  \n",
       "2020-03-08                        0.0  \n",
       "2020-03-09                        0.0  \n",
       "2020-03-10                        0.0  "
      ]
     },
     "metadata": {},
     "output_type": "display_data"
    }
   ],
   "source": [
    "# !pip install -U plotly\n",
    "display(STATES['MD'].head())\n"
   ]
  },
  {
   "cell_type": "markdown",
   "metadata": {},
   "source": [
    "### Plot selected states and columns"
   ]
  },
  {
   "cell_type": "code",
   "execution_count": 42,
   "metadata": {
    "ExecuteTime": {
     "end_time": "2020-07-02T00:45:08.363698Z",
     "start_time": "2020-07-02T00:45:08.355190Z"
    }
   },
   "outputs": [],
   "source": [
    "### Define states and columns to plot\n",
    "plot_states = ['NY','MD','CA']\n",
    "plot_cols = ['Confirmed']\n",
    "\n",
    "\n",
    "## Make empty list for states to concat\n",
    "concat_dfs = []\n",
    "\n",
    "# Grab each state's df\n",
    "for state in plot_states:\n",
    "    dfs = STATES[state]\n",
    "    \n",
    "    ## for each plot_cols, find all columns that contain that col name\n",
    "    for plot_col in plot_cols:\n",
    "        concat_dfs.append(dfs[[col for col in dfs.columns if plot_col in col]])\n",
    "\n",
    "        \n",
    "## Concatenate final dfs\n",
    "plot_df = pd.concat(concat_dfs,axis=1)#[STATES[s] for s in plot_states],axis=1).iplot()"
   ]
  },
  {
   "cell_type": "code",
   "execution_count": 43,
   "metadata": {
    "ExecuteTime": {
     "end_time": "2020-07-02T00:45:08.370430Z",
     "start_time": "2020-07-02T00:45:08.365404Z"
    }
   },
   "outputs": [
    {
     "data": {
      "text/html": [
       "        <script type=\"text/javascript\">\n",
       "        window.PlotlyConfig = {MathJaxConfig: 'local'};\n",
       "        if (window.MathJax) {MathJax.Hub.Config({SVG: {font: \"STIX-Web\"}});}\n",
       "        if (typeof require !== 'undefined') {\n",
       "        require.undef(\"plotly\");\n",
       "        requirejs.config({\n",
       "            paths: {\n",
       "                'plotly': ['https://cdn.plot.ly/plotly-latest.min']\n",
       "            }\n",
       "        });\n",
       "        require(['plotly'], function(Plotly) {\n",
       "            window._Plotly = Plotly;\n",
       "        });\n",
       "        }\n",
       "        </script>\n",
       "        "
      ]
     },
     "metadata": {},
     "output_type": "display_data"
    }
   ],
   "source": [
    "import cufflinks as cf\n",
    "cf.go_offline()"
   ]
  },
  {
   "cell_type": "code",
   "execution_count": 44,
   "metadata": {
    "ExecuteTime": {
     "end_time": "2020-07-02T00:45:09.197475Z",
     "start_time": "2020-07-02T00:45:08.371758Z"
    }
   },
   "outputs": [
    {
     "data": {
      "application/vnd.plotly.v1+json": {
       "config": {
        "plotlyServerURL": "https://plot.ly"
       },
       "data": [
        {
         "line": {
          "color": "rgba(255, 153, 51, 1.0)",
          "dash": "solid",
          "shape": "linear",
          "width": 1.3
         },
         "mode": "lines",
         "name": "NY - Confirmed",
         "text": "",
         "type": "scatter",
         "x": [
          "2020-01-26",
          "2020-01-27",
          "2020-01-28",
          "2020-01-29",
          "2020-01-30",
          "2020-01-31",
          "2020-02-01",
          "2020-02-02",
          "2020-02-03",
          "2020-02-04",
          "2020-02-05",
          "2020-02-06",
          "2020-02-07",
          "2020-02-08",
          "2020-02-09",
          "2020-02-10",
          "2020-02-11",
          "2020-02-12",
          "2020-02-13",
          "2020-02-14",
          "2020-02-15",
          "2020-02-16",
          "2020-02-17",
          "2020-02-18",
          "2020-02-19",
          "2020-02-20",
          "2020-02-21",
          "2020-02-22",
          "2020-02-23",
          "2020-02-24",
          "2020-02-25",
          "2020-02-26",
          "2020-02-27",
          "2020-02-28",
          "2020-02-29",
          "2020-03-01",
          "2020-03-02",
          "2020-03-03",
          "2020-03-04",
          "2020-03-05",
          "2020-03-06",
          "2020-03-07",
          "2020-03-08",
          "2020-03-09",
          "2020-03-10",
          "2020-03-11",
          "2020-03-12",
          "2020-03-13",
          "2020-03-14",
          "2020-03-15",
          "2020-03-16",
          "2020-03-17",
          "2020-03-18",
          "2020-03-19",
          "2020-03-20",
          "2020-03-21",
          "2020-03-22",
          "2020-03-23",
          "2020-03-24",
          "2020-03-25",
          "2020-03-26",
          "2020-03-27",
          "2020-03-28",
          "2020-03-29",
          "2020-03-30",
          "2020-03-31",
          "2020-04-01",
          "2020-04-02",
          "2020-04-03",
          "2020-04-04",
          "2020-04-05",
          "2020-04-06",
          "2020-04-07",
          "2020-04-08",
          "2020-04-09",
          "2020-04-10",
          "2020-04-11",
          "2020-04-12",
          "2020-04-13",
          "2020-04-14",
          "2020-04-15",
          "2020-04-16",
          "2020-04-17",
          "2020-04-18",
          "2020-04-19",
          "2020-04-20",
          "2020-04-21",
          "2020-04-22",
          "2020-04-23",
          "2020-04-24",
          "2020-04-25",
          "2020-04-26",
          "2020-04-27",
          "2020-04-28",
          "2020-04-29",
          "2020-04-30",
          "2020-05-01",
          "2020-05-02",
          "2020-05-03",
          "2020-05-04",
          "2020-05-05",
          "2020-05-06",
          "2020-05-07",
          "2020-05-08",
          "2020-05-09",
          "2020-05-10",
          "2020-05-11",
          "2020-05-12",
          "2020-05-13",
          "2020-05-14",
          "2020-05-15",
          "2020-05-16",
          "2020-05-17",
          "2020-05-18",
          "2020-05-19",
          "2020-05-20",
          "2020-05-21",
          "2020-05-22",
          "2020-05-23",
          "2020-05-24",
          "2020-05-25",
          "2020-05-26",
          "2020-05-27",
          "2020-05-28",
          "2020-05-29",
          "2020-05-30",
          "2020-05-31",
          "2020-06-01",
          "2020-06-02",
          "2020-06-03",
          "2020-06-04",
          "2020-06-05",
          "2020-06-06",
          "2020-06-07",
          "2020-06-08",
          "2020-06-09",
          "2020-06-10",
          "2020-06-11",
          "2020-06-12",
          "2020-06-13",
          "2020-06-14",
          "2020-06-15",
          "2020-06-16",
          "2020-06-17",
          "2020-06-18",
          "2020-06-19",
          "2020-06-20",
          "2020-06-21",
          "2020-06-22",
          "2020-06-23",
          "2020-06-24",
          "2020-06-25",
          "2020-06-26",
          "2020-06-27",
          "2020-06-28",
          "2020-06-29",
          "2020-06-30"
         ],
         "y": [
          "",
          "",
          "",
          "",
          "",
          "",
          "",
          "",
          "",
          "",
          "",
          "",
          "",
          "",
          "",
          "",
          "",
          "",
          "",
          "",
          "",
          "",
          "",
          "",
          "",
          "",
          "",
          "",
          "",
          "",
          "",
          "",
          "",
          "",
          "",
          "",
          1,
          2,
          11,
          23,
          36,
          76,
          106,
          142,
          173,
          220,
          328,
          421,
          525,
          732,
          967,
          1706,
          2495,
          5365,
          8310,
          11710,
          15800,
          20884,
          25681,
          30841,
          37877,
          44876,
          52410,
          59648,
          66663,
          75833,
          83948,
          92506,
          102987,
          113833,
          123160,
          131815,
          139875,
          151061,
          161779,
          172348,
          181026,
          189033,
          195749,
          203020,
          214454,
          223691,
          230597,
          241712,
          247815,
          253060,
          258361,
          263292,
          263460,
          271590,
          282143,
          288045,
          291996,
          295106,
          299691,
          304372,
          308314,
          312977,
          316415,
          318953,
          321192,
          323978,
          327469,
          330407,
          333122,
          335395,
          337055,
          338485,
          340661,
          343051,
          345813,
          348232,
          350121,
          351371,
          352845,
          354370,
          356458,
          358154,
          359926,
          361515,
          362764,
          363836,
          364965,
          366733,
          368284,
          369660,
          370770,
          371711,
          373040,
          374085,
          375133,
          376208,
          377316,
          378097,
          378799,
          379482,
          380156,
          380892,
          381714,
          382630,
          383324,
          383944,
          384575,
          385142,
          385760,
          386556,
          387272,
          387936,
          388488,
          389085,
          389666,
          390415,
          391220,
          391923,
          392539,
          393403,
          393454
         ]
        },
        {
         "line": {
          "color": "rgba(55, 128, 191, 1.0)",
          "dash": "solid",
          "shape": "linear",
          "width": 1.3
         },
         "mode": "lines",
         "name": "NY - Confirmed Per Capita",
         "text": "",
         "type": "scatter",
         "x": [
          "2020-01-26",
          "2020-01-27",
          "2020-01-28",
          "2020-01-29",
          "2020-01-30",
          "2020-01-31",
          "2020-02-01",
          "2020-02-02",
          "2020-02-03",
          "2020-02-04",
          "2020-02-05",
          "2020-02-06",
          "2020-02-07",
          "2020-02-08",
          "2020-02-09",
          "2020-02-10",
          "2020-02-11",
          "2020-02-12",
          "2020-02-13",
          "2020-02-14",
          "2020-02-15",
          "2020-02-16",
          "2020-02-17",
          "2020-02-18",
          "2020-02-19",
          "2020-02-20",
          "2020-02-21",
          "2020-02-22",
          "2020-02-23",
          "2020-02-24",
          "2020-02-25",
          "2020-02-26",
          "2020-02-27",
          "2020-02-28",
          "2020-02-29",
          "2020-03-01",
          "2020-03-02",
          "2020-03-03",
          "2020-03-04",
          "2020-03-05",
          "2020-03-06",
          "2020-03-07",
          "2020-03-08",
          "2020-03-09",
          "2020-03-10",
          "2020-03-11",
          "2020-03-12",
          "2020-03-13",
          "2020-03-14",
          "2020-03-15",
          "2020-03-16",
          "2020-03-17",
          "2020-03-18",
          "2020-03-19",
          "2020-03-20",
          "2020-03-21",
          "2020-03-22",
          "2020-03-23",
          "2020-03-24",
          "2020-03-25",
          "2020-03-26",
          "2020-03-27",
          "2020-03-28",
          "2020-03-29",
          "2020-03-30",
          "2020-03-31",
          "2020-04-01",
          "2020-04-02",
          "2020-04-03",
          "2020-04-04",
          "2020-04-05",
          "2020-04-06",
          "2020-04-07",
          "2020-04-08",
          "2020-04-09",
          "2020-04-10",
          "2020-04-11",
          "2020-04-12",
          "2020-04-13",
          "2020-04-14",
          "2020-04-15",
          "2020-04-16",
          "2020-04-17",
          "2020-04-18",
          "2020-04-19",
          "2020-04-20",
          "2020-04-21",
          "2020-04-22",
          "2020-04-23",
          "2020-04-24",
          "2020-04-25",
          "2020-04-26",
          "2020-04-27",
          "2020-04-28",
          "2020-04-29",
          "2020-04-30",
          "2020-05-01",
          "2020-05-02",
          "2020-05-03",
          "2020-05-04",
          "2020-05-05",
          "2020-05-06",
          "2020-05-07",
          "2020-05-08",
          "2020-05-09",
          "2020-05-10",
          "2020-05-11",
          "2020-05-12",
          "2020-05-13",
          "2020-05-14",
          "2020-05-15",
          "2020-05-16",
          "2020-05-17",
          "2020-05-18",
          "2020-05-19",
          "2020-05-20",
          "2020-05-21",
          "2020-05-22",
          "2020-05-23",
          "2020-05-24",
          "2020-05-25",
          "2020-05-26",
          "2020-05-27",
          "2020-05-28",
          "2020-05-29",
          "2020-05-30",
          "2020-05-31",
          "2020-06-01",
          "2020-06-02",
          "2020-06-03",
          "2020-06-04",
          "2020-06-05",
          "2020-06-06",
          "2020-06-07",
          "2020-06-08",
          "2020-06-09",
          "2020-06-10",
          "2020-06-11",
          "2020-06-12",
          "2020-06-13",
          "2020-06-14",
          "2020-06-15",
          "2020-06-16",
          "2020-06-17",
          "2020-06-18",
          "2020-06-19",
          "2020-06-20",
          "2020-06-21",
          "2020-06-22",
          "2020-06-23",
          "2020-06-24",
          "2020-06-25",
          "2020-06-26",
          "2020-06-27",
          "2020-06-28",
          "2020-06-29",
          "2020-06-30"
         ],
         "y": [
          "",
          "",
          "",
          "",
          "",
          "",
          "",
          "",
          "",
          "",
          "",
          "",
          "",
          "",
          "",
          "",
          "",
          "",
          "",
          "",
          "",
          "",
          "",
          "",
          "",
          "",
          "",
          "",
          "",
          "",
          "",
          "",
          "",
          "",
          "",
          "",
          5.1404470369203867e-08,
          1.0280894073840773e-07,
          5.654491740612425e-07,
          1.182302818491689e-06,
          1.8505609332913393e-06,
          3.906739748059494e-06,
          5.4488738591356114e-06,
          7.2994347924269494e-06,
          8.89297337387227e-06,
          1.1308983481224852e-05,
          1.686066628109887e-05,
          2.164128202543483e-05,
          2.6987346943832032e-05,
          3.7628072310257235e-05,
          4.970812284702014e-05,
          8.76960264498618e-05,
          0.00012825415357116366,
          0.00027578498353077874,
          0.0004271711487680842,
          0.0006019463480233773,
          0.0008121906318334212,
          0.0010735309591904537,
          0.0013201182035515245,
          0.0015853652706566165,
          0.001947047124174335,
          0.002306827012288393,
          0.0026941082920499747,
          0.0030661738485822723,
          0.0034267762082222375,
          0.0038981552015078373,
          0.0043153024785539265,
          0.004755221935973573,
          0.005293992189913199,
          0.005851525075537584,
          0.006330974570671149,
          0.006775880261716608,
          0.007190200292892392,
          0.0077652106984423055,
          0.008316163811859434,
          0.008859457659191548,
          0.0093055456530555,
          0.009717141247301716,
          0.010062373670301288,
          0.01043613557435577,
          0.011023894288557247,
          0.011498717381357583,
          0.011853716653727305,
          0.012425077341881006,
          0.012738798824544257,
          0.01300841527163073,
          0.013280910369057881,
          0.013534385812448426,
          0.013543021763470452,
          0.01396094010757208,
          0.014503411483378288,
          0.014806800667497328,
          0.015009899729926054,
          0.015169767632774276,
          0.015405457129417077,
          0.01564608145521532,
          0.015848717877410722,
          0.016088416922742318,
          0.016265145491871642,
          0.016395610037668682,
          0.01651070464682533,
          0.016653917501273933,
          0.016833370507332822,
          0.016984396841277543,
          0.017123959978329932,
          0.017240802339479132,
          0.01732613376029201,
          0.01739964215291997,
          0.01751149828044336,
          0.017634354964625756,
          0.0177763341117855,
          0.017900681525608603,
          0.017997784570136028,
          0.018062040158097533,
          0.018137810347421738,
          0.018216202164734775,
          0.018323534698865673,
          0.018410716680611842,
          0.01850180540210607,
          0.018583487105522736,
          0.018647691289013873,
          0.01870279688124966,
          0.01876083252829649,
          0.018851715631909242,
          0.018931443965451877,
          0.019002176516679903,
          0.01905923547878972,
          0.01910760708540714,
          0.019175923626527813,
          0.019229641298063628,
          0.019283513183010557,
          0.019338772988657448,
          0.019395729141826527,
          0.019435876033184876,
          0.019471961971384056,
          0.019507071224646223,
          0.019541717837675065,
          0.0195795515278668,
          0.019621806002510286,
          0.019668892497368477,
          0.019704567199804703,
          0.01973643797143361,
          0.01976887419223658,
          0.019798020526935918,
          0.019829788489624085,
          0.01987070644803797,
          0.01990751204882232,
          0.019941644617147473,
          0.019970019884791274,
          0.02000070835360169,
          0.020030574350886194,
          0.020069076299192728,
          0.020110456897839937,
          0.020146594240509488,
          0.02017825939425692,
          0.02022267285665591,
          0.02022529448464474
         ]
        },
        {
         "line": {
          "color": "rgba(50, 171, 96, 1.0)",
          "dash": "solid",
          "shape": "linear",
          "width": 1.3
         },
         "mode": "lines",
         "name": "MD - Confirmed",
         "text": "",
         "type": "scatter",
         "x": [
          "2020-01-26",
          "2020-01-27",
          "2020-01-28",
          "2020-01-29",
          "2020-01-30",
          "2020-01-31",
          "2020-02-01",
          "2020-02-02",
          "2020-02-03",
          "2020-02-04",
          "2020-02-05",
          "2020-02-06",
          "2020-02-07",
          "2020-02-08",
          "2020-02-09",
          "2020-02-10",
          "2020-02-11",
          "2020-02-12",
          "2020-02-13",
          "2020-02-14",
          "2020-02-15",
          "2020-02-16",
          "2020-02-17",
          "2020-02-18",
          "2020-02-19",
          "2020-02-20",
          "2020-02-21",
          "2020-02-22",
          "2020-02-23",
          "2020-02-24",
          "2020-02-25",
          "2020-02-26",
          "2020-02-27",
          "2020-02-28",
          "2020-02-29",
          "2020-03-01",
          "2020-03-02",
          "2020-03-03",
          "2020-03-04",
          "2020-03-05",
          "2020-03-06",
          "2020-03-07",
          "2020-03-08",
          "2020-03-09",
          "2020-03-10",
          "2020-03-11",
          "2020-03-12",
          "2020-03-13",
          "2020-03-14",
          "2020-03-15",
          "2020-03-16",
          "2020-03-17",
          "2020-03-18",
          "2020-03-19",
          "2020-03-20",
          "2020-03-21",
          "2020-03-22",
          "2020-03-23",
          "2020-03-24",
          "2020-03-25",
          "2020-03-26",
          "2020-03-27",
          "2020-03-28",
          "2020-03-29",
          "2020-03-30",
          "2020-03-31",
          "2020-04-01",
          "2020-04-02",
          "2020-04-03",
          "2020-04-04",
          "2020-04-05",
          "2020-04-06",
          "2020-04-07",
          "2020-04-08",
          "2020-04-09",
          "2020-04-10",
          "2020-04-11",
          "2020-04-12",
          "2020-04-13",
          "2020-04-14",
          "2020-04-15",
          "2020-04-16",
          "2020-04-17",
          "2020-04-18",
          "2020-04-19",
          "2020-04-20",
          "2020-04-21",
          "2020-04-22",
          "2020-04-23",
          "2020-04-24",
          "2020-04-25",
          "2020-04-26",
          "2020-04-27",
          "2020-04-28",
          "2020-04-29",
          "2020-04-30",
          "2020-05-01",
          "2020-05-02",
          "2020-05-03",
          "2020-05-04",
          "2020-05-05",
          "2020-05-06",
          "2020-05-07",
          "2020-05-08",
          "2020-05-09",
          "2020-05-10",
          "2020-05-11",
          "2020-05-12",
          "2020-05-13",
          "2020-05-14",
          "2020-05-15",
          "2020-05-16",
          "2020-05-17",
          "2020-05-18",
          "2020-05-19",
          "2020-05-20",
          "2020-05-21",
          "2020-05-22",
          "2020-05-23",
          "2020-05-24",
          "2020-05-25",
          "2020-05-26",
          "2020-05-27",
          "2020-05-28",
          "2020-05-29",
          "2020-05-30",
          "2020-05-31",
          "2020-06-01",
          "2020-06-02",
          "2020-06-03",
          "2020-06-04",
          "2020-06-05",
          "2020-06-06",
          "2020-06-07",
          "2020-06-08",
          "2020-06-09",
          "2020-06-10",
          "2020-06-11",
          "2020-06-12",
          "2020-06-13",
          "2020-06-14",
          "2020-06-15",
          "2020-06-16",
          "2020-06-17",
          "2020-06-18",
          "2020-06-19",
          "2020-06-20",
          "2020-06-21",
          "2020-06-22",
          "2020-06-23",
          "2020-06-24",
          "2020-06-25",
          "2020-06-26",
          "2020-06-27",
          "2020-06-28",
          "2020-06-29",
          "2020-06-30"
         ],
         "y": [
          "",
          "",
          "",
          "",
          "",
          "",
          "",
          "",
          "",
          "",
          "",
          "",
          "",
          "",
          "",
          "",
          "",
          "",
          "",
          "",
          "",
          "",
          "",
          "",
          "",
          "",
          "",
          "",
          "",
          "",
          "",
          "",
          "",
          "",
          "",
          "",
          "",
          "",
          "",
          "",
          3,
          3,
          5,
          5,
          8,
          9,
          12,
          18,
          26,
          32,
          41,
          60,
          85,
          107,
          149,
          193,
          244,
          290,
          349,
          425,
          583,
          775,
          995,
          1239,
          1413,
          1660,
          1986,
          2331,
          2758,
          3125,
          3617,
          4045,
          4371,
          5529,
          6185,
          6968,
          7694,
          8225,
          8936,
          9472,
          10032,
          10784,
          11572,
          12326,
          12847,
          13684,
          14193,
          14775,
          15737,
          16616,
          17766,
          18581,
          19487,
          20113,
          20849,
          21742,
          23472,
          24473,
          25462,
          26408,
          27117,
          28163,
          29374,
          30485,
          31534,
          32587,
          33373,
          34061,
          34812,
          35903,
          36986,
          37968,
          38804,
          39762,
          41546,
          42323,
          43531,
          44424,
          45495,
          46313,
          47152,
          47687,
          48423,
          49709,
          50988,
          52015,
          52778,
          53327,
          54175,
          54982,
          55858,
          56770,
          57482,
          57973,
          58404,
          58904,
          59465,
          60197,
          60613,
          61305,
          61701,
          62032,
          62409,
          62969,
          63229,
          63548,
          63956,
          64306,
          64603,
          65007,
          65337,
          65777,
          66115,
          66450,
          66777,
          67254,
          67559
         ]
        },
        {
         "line": {
          "color": "rgba(128, 0, 128, 1.0)",
          "dash": "solid",
          "shape": "linear",
          "width": 1.3
         },
         "mode": "lines",
         "name": "MD - Confirmed Per Capita",
         "text": "",
         "type": "scatter",
         "x": [
          "2020-01-26",
          "2020-01-27",
          "2020-01-28",
          "2020-01-29",
          "2020-01-30",
          "2020-01-31",
          "2020-02-01",
          "2020-02-02",
          "2020-02-03",
          "2020-02-04",
          "2020-02-05",
          "2020-02-06",
          "2020-02-07",
          "2020-02-08",
          "2020-02-09",
          "2020-02-10",
          "2020-02-11",
          "2020-02-12",
          "2020-02-13",
          "2020-02-14",
          "2020-02-15",
          "2020-02-16",
          "2020-02-17",
          "2020-02-18",
          "2020-02-19",
          "2020-02-20",
          "2020-02-21",
          "2020-02-22",
          "2020-02-23",
          "2020-02-24",
          "2020-02-25",
          "2020-02-26",
          "2020-02-27",
          "2020-02-28",
          "2020-02-29",
          "2020-03-01",
          "2020-03-02",
          "2020-03-03",
          "2020-03-04",
          "2020-03-05",
          "2020-03-06",
          "2020-03-07",
          "2020-03-08",
          "2020-03-09",
          "2020-03-10",
          "2020-03-11",
          "2020-03-12",
          "2020-03-13",
          "2020-03-14",
          "2020-03-15",
          "2020-03-16",
          "2020-03-17",
          "2020-03-18",
          "2020-03-19",
          "2020-03-20",
          "2020-03-21",
          "2020-03-22",
          "2020-03-23",
          "2020-03-24",
          "2020-03-25",
          "2020-03-26",
          "2020-03-27",
          "2020-03-28",
          "2020-03-29",
          "2020-03-30",
          "2020-03-31",
          "2020-04-01",
          "2020-04-02",
          "2020-04-03",
          "2020-04-04",
          "2020-04-05",
          "2020-04-06",
          "2020-04-07",
          "2020-04-08",
          "2020-04-09",
          "2020-04-10",
          "2020-04-11",
          "2020-04-12",
          "2020-04-13",
          "2020-04-14",
          "2020-04-15",
          "2020-04-16",
          "2020-04-17",
          "2020-04-18",
          "2020-04-19",
          "2020-04-20",
          "2020-04-21",
          "2020-04-22",
          "2020-04-23",
          "2020-04-24",
          "2020-04-25",
          "2020-04-26",
          "2020-04-27",
          "2020-04-28",
          "2020-04-29",
          "2020-04-30",
          "2020-05-01",
          "2020-05-02",
          "2020-05-03",
          "2020-05-04",
          "2020-05-05",
          "2020-05-06",
          "2020-05-07",
          "2020-05-08",
          "2020-05-09",
          "2020-05-10",
          "2020-05-11",
          "2020-05-12",
          "2020-05-13",
          "2020-05-14",
          "2020-05-15",
          "2020-05-16",
          "2020-05-17",
          "2020-05-18",
          "2020-05-19",
          "2020-05-20",
          "2020-05-21",
          "2020-05-22",
          "2020-05-23",
          "2020-05-24",
          "2020-05-25",
          "2020-05-26",
          "2020-05-27",
          "2020-05-28",
          "2020-05-29",
          "2020-05-30",
          "2020-05-31",
          "2020-06-01",
          "2020-06-02",
          "2020-06-03",
          "2020-06-04",
          "2020-06-05",
          "2020-06-06",
          "2020-06-07",
          "2020-06-08",
          "2020-06-09",
          "2020-06-10",
          "2020-06-11",
          "2020-06-12",
          "2020-06-13",
          "2020-06-14",
          "2020-06-15",
          "2020-06-16",
          "2020-06-17",
          "2020-06-18",
          "2020-06-19",
          "2020-06-20",
          "2020-06-21",
          "2020-06-22",
          "2020-06-23",
          "2020-06-24",
          "2020-06-25",
          "2020-06-26",
          "2020-06-27",
          "2020-06-28",
          "2020-06-29",
          "2020-06-30"
         ],
         "y": [
          "",
          "",
          "",
          "",
          "",
          "",
          "",
          "",
          "",
          "",
          "",
          "",
          "",
          "",
          "",
          "",
          "",
          "",
          "",
          "",
          "",
          "",
          "",
          "",
          "",
          "",
          "",
          "",
          "",
          "",
          "",
          "",
          "",
          "",
          "",
          "",
          "",
          "",
          "",
          "",
          4.962220957774808e-07,
          4.962220957774808e-07,
          8.270368262958013e-07,
          8.270368262958013e-07,
          1.323258922073282e-06,
          1.4886662873324423e-06,
          1.984888383109923e-06,
          2.9773325746648845e-06,
          4.300591496738167e-06,
          5.293035688293128e-06,
          6.781701975625571e-06,
          9.924441915549615e-06,
          1.4059626047028622e-05,
          1.769858808273015e-05,
          2.4645697423614877e-05,
          3.192362149501793e-05,
          4.0359397123235105e-05,
          4.796813592515648e-05,
          5.772717047544693e-05,
          7.029813023514311e-05,
          9.643249394609044e-05,
          0.0001281907080758492,
          0.00016458032843286445,
          0.00020493972555609956,
          0.00023372060711119344,
          0.00027457622633020605,
          0.0003284990274046923,
          0.00038556456841910256,
          0.000456193513384764,
          0.0005168980164348758,
          0.0005982784401423827,
          0.0006690727924733033,
          0.0007229955935477895,
          0.000914537322517897,
          0.0010230445541279062,
          0.0011525585211258286,
          0.001272644268303979,
          0.001360475579256593,
          0.0014780802159558562,
          0.001566738563734766,
          0.0016593666882798958,
          0.0017837530269547842,
          0.0019140940307790025,
          0.0020388111841844092,
          0.002124988421484432,
          0.002263434386206349,
          0.0023476267351232615,
          0.0024438938217040927,
          0.002603015707083405,
          0.0027484087811462067,
          0.0029386272511942413,
          0.003073434253880457,
          0.003223293326805256,
          0.0033268383374574903,
          0.0034485781582882322,
          0.0035962869354646625,
          0.00388244167736301,
          0.004048014449987429,
          0.0042116023342287385,
          0.0043680777017639045,
          0.004485351523732649,
          0.00465836762779373,
          0.004858675947122574,
          0.005042443529925501,
          0.00521595585608236,
          0.005390129811700255,
          0.005520140000793955,
          0.005633940268092257,
          0.005758161199401887,
          0.005938620634899631,
          0.006117756811475301,
          0.006280186844159797,
          0.006418467401516454,
          0.0065769276574347306,
          0.006872014397057072,
          0.007000535919863439,
          0.007200348017096505,
          0.007348056794272935,
          0.007525208082465496,
          0.007660511307247489,
          0.007799288086699925,
          0.007887781027113575,
          0.008009520847944318,
          0.008222234719667598,
          0.008433790739834064,
          0.008603664103955222,
          0.00872986992364796,
          0.00882067856717524,
          0.008960944012915008,
          0.009094427756679149,
          0.009239324608646174,
          0.009390176125762527,
          0.00950794616982705,
          0.009589161186169298,
          0.009660451760595996,
          0.009743155443225576,
          0.009835948975135966,
          0.00995702716650567,
          0.01002583663045348,
          0.01014029852721282,
          0.010205799843855447,
          0.010260549681756229,
          0.010322908258458934,
          0.010415536383004062,
          0.010458542297971444,
          0.010511307247489117,
          0.010578793452514853,
          0.01063668603035556,
          0.01068581201783753,
          0.010752636593402231,
          0.010807221023937753,
          0.010880000264651784,
          0.01093590795410938,
          0.0109913194214712,
          0.011045407629910945,
          0.011124306943139563,
          0.011174756189543607
         ]
        },
        {
         "line": {
          "color": "rgba(219, 64, 82, 1.0)",
          "dash": "solid",
          "shape": "linear",
          "width": 1.3
         },
         "mode": "lines",
         "name": "CA - Confirmed",
         "text": "",
         "type": "scatter",
         "x": [
          "2020-01-26",
          "2020-01-27",
          "2020-01-28",
          "2020-01-29",
          "2020-01-30",
          "2020-01-31",
          "2020-02-01",
          "2020-02-02",
          "2020-02-03",
          "2020-02-04",
          "2020-02-05",
          "2020-02-06",
          "2020-02-07",
          "2020-02-08",
          "2020-02-09",
          "2020-02-10",
          "2020-02-11",
          "2020-02-12",
          "2020-02-13",
          "2020-02-14",
          "2020-02-15",
          "2020-02-16",
          "2020-02-17",
          "2020-02-18",
          "2020-02-19",
          "2020-02-20",
          "2020-02-21",
          "2020-02-22",
          "2020-02-23",
          "2020-02-24",
          "2020-02-25",
          "2020-02-26",
          "2020-02-27",
          "2020-02-28",
          "2020-02-29",
          "2020-03-01",
          "2020-03-02",
          "2020-03-03",
          "2020-03-04",
          "2020-03-05",
          "2020-03-06",
          "2020-03-07",
          "2020-03-08",
          "2020-03-09",
          "2020-03-10",
          "2020-03-11",
          "2020-03-12",
          "2020-03-13",
          "2020-03-14",
          "2020-03-15",
          "2020-03-16",
          "2020-03-17",
          "2020-03-18",
          "2020-03-19",
          "2020-03-20",
          "2020-03-21",
          "2020-03-22",
          "2020-03-23",
          "2020-03-24",
          "2020-03-25",
          "2020-03-26",
          "2020-03-27",
          "2020-03-28",
          "2020-03-29",
          "2020-03-30",
          "2020-03-31",
          "2020-04-01",
          "2020-04-02",
          "2020-04-03",
          "2020-04-04",
          "2020-04-05",
          "2020-04-06",
          "2020-04-07",
          "2020-04-08",
          "2020-04-09",
          "2020-04-10",
          "2020-04-11",
          "2020-04-12",
          "2020-04-13",
          "2020-04-14",
          "2020-04-15",
          "2020-04-16",
          "2020-04-17",
          "2020-04-18",
          "2020-04-19",
          "2020-04-20",
          "2020-04-21",
          "2020-04-22",
          "2020-04-23",
          "2020-04-24",
          "2020-04-25",
          "2020-04-26",
          "2020-04-27",
          "2020-04-28",
          "2020-04-29",
          "2020-04-30",
          "2020-05-01",
          "2020-05-02",
          "2020-05-03",
          "2020-05-04",
          "2020-05-05",
          "2020-05-06",
          "2020-05-07",
          "2020-05-08",
          "2020-05-09",
          "2020-05-10",
          "2020-05-11",
          "2020-05-12",
          "2020-05-13",
          "2020-05-14",
          "2020-05-15",
          "2020-05-16",
          "2020-05-17",
          "2020-05-18",
          "2020-05-19",
          "2020-05-20",
          "2020-05-21",
          "2020-05-22",
          "2020-05-23",
          "2020-05-24",
          "2020-05-25",
          "2020-05-26",
          "2020-05-27",
          "2020-05-28",
          "2020-05-29",
          "2020-05-30",
          "2020-05-31",
          "2020-06-01",
          "2020-06-02",
          "2020-06-03",
          "2020-06-04",
          "2020-06-05",
          "2020-06-06",
          "2020-06-07",
          "2020-06-08",
          "2020-06-09",
          "2020-06-10",
          "2020-06-11",
          "2020-06-12",
          "2020-06-13",
          "2020-06-14",
          "2020-06-15",
          "2020-06-16",
          "2020-06-17",
          "2020-06-18",
          "2020-06-19",
          "2020-06-20",
          "2020-06-21",
          "2020-06-22",
          "2020-06-23",
          "2020-06-24",
          "2020-06-25",
          "2020-06-26",
          "2020-06-27",
          "2020-06-28",
          "2020-06-29",
          "2020-06-30"
         ],
         "y": [
          2,
          2,
          2,
          2,
          2,
          2,
          3,
          3,
          6,
          6,
          6,
          6,
          6,
          6,
          6,
          6,
          7,
          7,
          8,
          8,
          8,
          8,
          8,
          8,
          8,
          8,
          15,
          15,
          15,
          10,
          10,
          10,
          11,
          11,
          12,
          12,
          21,
          25,
          35,
          51,
          59,
          82,
          98,
          104,
          144,
          177,
          221,
          282,
          340,
          426,
          557,
          698,
          751,
          952,
          1177,
          1364,
          1646,
          2108,
          2538,
          2998,
          3899,
          4657,
          5095,
          5852,
          7138,
          8210,
          9399,
          10773,
          12004,
          12837,
          15034,
          16019,
          17351,
          18897,
          19710,
          21081,
          21706,
          22795,
          23931,
          25356,
          26686,
          27677,
          29157,
          30491,
          31431,
          33686,
          35465,
          37344,
          39561,
          41355,
          42368,
          43558,
          44966,
          46164,
          48747,
          50130,
          52026,
          53347,
          54903,
          55884,
          58456,
          60616,
          62148,
          63779,
          66558,
          67600,
          69329,
          70978,
          72798,
          74871,
          76693,
          78725,
          80166,
          81457,
          83752,
          85997,
          88031,
          90252,
          92539,
          94020,
          96400,
          99387,
          101050,
          103813,
          106622,
          109895,
          111951,
          114733,
          117215,
          119348,
          122168,
          125738,
          128593,
          130615,
          133816,
          136641,
          139715,
          143377,
          146659,
          150018,
          152300,
          155726,
          158961,
          162798,
          167086,
          170862,
          175213,
          178546,
          184765,
          191477,
          195925,
          201112,
          206844,
          210584,
          215296,
          223646,
          231232
         ]
        },
        {
         "line": {
          "color": "rgba(0, 128, 128, 1.0)",
          "dash": "solid",
          "shape": "linear",
          "width": 1.3
         },
         "mode": "lines",
         "name": "CA - Confirmed Per Capita",
         "text": "",
         "type": "scatter",
         "x": [
          "2020-01-26",
          "2020-01-27",
          "2020-01-28",
          "2020-01-29",
          "2020-01-30",
          "2020-01-31",
          "2020-02-01",
          "2020-02-02",
          "2020-02-03",
          "2020-02-04",
          "2020-02-05",
          "2020-02-06",
          "2020-02-07",
          "2020-02-08",
          "2020-02-09",
          "2020-02-10",
          "2020-02-11",
          "2020-02-12",
          "2020-02-13",
          "2020-02-14",
          "2020-02-15",
          "2020-02-16",
          "2020-02-17",
          "2020-02-18",
          "2020-02-19",
          "2020-02-20",
          "2020-02-21",
          "2020-02-22",
          "2020-02-23",
          "2020-02-24",
          "2020-02-25",
          "2020-02-26",
          "2020-02-27",
          "2020-02-28",
          "2020-02-29",
          "2020-03-01",
          "2020-03-02",
          "2020-03-03",
          "2020-03-04",
          "2020-03-05",
          "2020-03-06",
          "2020-03-07",
          "2020-03-08",
          "2020-03-09",
          "2020-03-10",
          "2020-03-11",
          "2020-03-12",
          "2020-03-13",
          "2020-03-14",
          "2020-03-15",
          "2020-03-16",
          "2020-03-17",
          "2020-03-18",
          "2020-03-19",
          "2020-03-20",
          "2020-03-21",
          "2020-03-22",
          "2020-03-23",
          "2020-03-24",
          "2020-03-25",
          "2020-03-26",
          "2020-03-27",
          "2020-03-28",
          "2020-03-29",
          "2020-03-30",
          "2020-03-31",
          "2020-04-01",
          "2020-04-02",
          "2020-04-03",
          "2020-04-04",
          "2020-04-05",
          "2020-04-06",
          "2020-04-07",
          "2020-04-08",
          "2020-04-09",
          "2020-04-10",
          "2020-04-11",
          "2020-04-12",
          "2020-04-13",
          "2020-04-14",
          "2020-04-15",
          "2020-04-16",
          "2020-04-17",
          "2020-04-18",
          "2020-04-19",
          "2020-04-20",
          "2020-04-21",
          "2020-04-22",
          "2020-04-23",
          "2020-04-24",
          "2020-04-25",
          "2020-04-26",
          "2020-04-27",
          "2020-04-28",
          "2020-04-29",
          "2020-04-30",
          "2020-05-01",
          "2020-05-02",
          "2020-05-03",
          "2020-05-04",
          "2020-05-05",
          "2020-05-06",
          "2020-05-07",
          "2020-05-08",
          "2020-05-09",
          "2020-05-10",
          "2020-05-11",
          "2020-05-12",
          "2020-05-13",
          "2020-05-14",
          "2020-05-15",
          "2020-05-16",
          "2020-05-17",
          "2020-05-18",
          "2020-05-19",
          "2020-05-20",
          "2020-05-21",
          "2020-05-22",
          "2020-05-23",
          "2020-05-24",
          "2020-05-25",
          "2020-05-26",
          "2020-05-27",
          "2020-05-28",
          "2020-05-29",
          "2020-05-30",
          "2020-05-31",
          "2020-06-01",
          "2020-06-02",
          "2020-06-03",
          "2020-06-04",
          "2020-06-05",
          "2020-06-06",
          "2020-06-07",
          "2020-06-08",
          "2020-06-09",
          "2020-06-10",
          "2020-06-11",
          "2020-06-12",
          "2020-06-13",
          "2020-06-14",
          "2020-06-15",
          "2020-06-16",
          "2020-06-17",
          "2020-06-18",
          "2020-06-19",
          "2020-06-20",
          "2020-06-21",
          "2020-06-22",
          "2020-06-23",
          "2020-06-24",
          "2020-06-25",
          "2020-06-26",
          "2020-06-27",
          "2020-06-28",
          "2020-06-29",
          "2020-06-30"
         ],
         "y": [
          5.061724823733658e-08,
          5.061724823733658e-08,
          5.061724823733658e-08,
          5.061724823733658e-08,
          5.061724823733658e-08,
          5.061724823733658e-08,
          7.592587235600488e-08,
          7.592587235600488e-08,
          1.5185174471200975e-07,
          1.5185174471200975e-07,
          1.5185174471200975e-07,
          1.5185174471200975e-07,
          1.5185174471200975e-07,
          1.5185174471200975e-07,
          1.5185174471200975e-07,
          1.5185174471200975e-07,
          1.7716036883067806e-07,
          1.7716036883067806e-07,
          2.0246899294934636e-07,
          2.0246899294934636e-07,
          2.0246899294934636e-07,
          2.0246899294934636e-07,
          2.0246899294934636e-07,
          2.0246899294934636e-07,
          2.0246899294934636e-07,
          2.0246899294934636e-07,
          3.796293617800244e-07,
          3.796293617800244e-07,
          3.796293617800244e-07,
          2.5308624118668296e-07,
          2.5308624118668296e-07,
          2.5308624118668296e-07,
          2.783948653053512e-07,
          2.783948653053512e-07,
          3.037034894240195e-07,
          3.037034894240195e-07,
          5.314811064920342e-07,
          6.327156029667074e-07,
          8.858018441533903e-07,
          1.2907398300520826e-06,
          1.4932088230014286e-06,
          2.0753071777308e-06,
          2.480245163629492e-06,
          2.632096908341502e-06,
          3.644441873088234e-06,
          4.479626469004287e-06,
          5.593205930225692e-06,
          7.137032001464459e-06,
          8.60493220034722e-06,
          1.0781473874552691e-05,
          1.4096903634098238e-05,
          1.7665419634830466e-05,
          1.9006776713119888e-05,
          2.4093810160972215e-05,
          2.9788250587672578e-05,
          3.452096329786355e-05,
          4.1657995299328006e-05,
          5.335057964215276e-05,
          6.423328801318012e-05,
          7.587525510776754e-05,
          9.867832543868767e-05,
          0.00011786226252063823,
          0.00012894743988461495,
          0.00014810606834244684,
          0.00018065295895905426,
          0.00020778380401426666,
          0.00023787575809136328,
          0.0002726498076304135,
          0.00030380472392049415,
          0.00032488680781134487,
          0.0003804898550000591,
          0.00040541884975694737,
          0.0004391299370830135,
          0.0004782570699704747,
          0.000498832981378952,
          0.0005335311050456463,
          0.000549348995119814,
          0.0005769100867850437,
          0.0006056606837838509,
          0.0006417254731529532,
          0.000675385943230782,
          0.0007004667897323823,
          0.0007379235534280113,
          0.0007716852580023149,
          0.0007954753646738631,
          0.00085254631206146,
          0.0008975703543685709,
          0.0009451252590875487,
          0.0010012344787586362,
          0.0010466381504275271,
          0.0010722757866597381,
          0.0011023930493609534,
          0.0011380275921200383,
          0.001168347323814203,
          0.0012337194999127233,
          0.0012687213270688414,
          0.0013167064783978365,
          0.0013501391708585974,
          0.0013895193899872453,
          0.0014143471502476588,
          0.0014794409314808736,
          0.0015341075595771971,
          0.001572880371726997,
          0.001614158737664545,
          0.0016844914040903241,
          0.0017108629904219765,
          0.001754621601523154,
          0.001796355522694838,
          0.0018424172185908143,
          0.0018948819963888136,
          0.0019409943095330274,
          0.0019924214337421614,
          0.002028891161097162,
          0.002061564594834363,
          0.0021196478871867066,
          0.002176465748333117,
          0.0022279434897904886,
          0.0022841539439580508,
          0.002342034767317445,
          0.0023795168396371926,
          0.0024397513650396235,
          0.0025153482252820857,
          0.0025574364671914307,
          0.002627364195631311,
          0.002698456120780651,
          0.002781291247521052,
          0.0028333257787090337,
          0.0029037343710071693,
          0.0029665503760697037,
          0.0030205336713148233,
          0.0030919039913294677,
          0.0031822557794331137,
          0.0032545119012919116,
          0.0033056859392598587,
          0.003386698845063716,
          0.003458195708198954,
          0.0035359944187397406,
          0.0036286746002623035,
          0.003711737504619773,
          0.0037967491730343797,
          0.0038545034532731807,
          0.003941210799503738,
          0.004023084198527631,
          0.00412019338927096,
          0.00422871676949181,
          0.004324282134163902,
          0.004434399957704227,
          0.004518753601891749,
          0.004676147935285747,
          0.004846019420370248,
          0.004958592180450085,
          0.005089868013753617,
          0.005234937047201824,
          0.005329591301405643,
          0.0054488455382528085,
          0.005660172549643689,
          0.005852163772207907
         ]
        }
       ],
       "layout": {
        "legend": {
         "bgcolor": "#151516",
         "font": {
          "color": "#D9D9D9"
         }
        },
        "paper_bgcolor": "#151516",
        "plot_bgcolor": "#151516",
        "template": {
         "data": {
          "bar": [
           {
            "error_x": {
             "color": "#2a3f5f"
            },
            "error_y": {
             "color": "#2a3f5f"
            },
            "marker": {
             "line": {
              "color": "#E5ECF6",
              "width": 0.5
             }
            },
            "type": "bar"
           }
          ],
          "barpolar": [
           {
            "marker": {
             "line": {
              "color": "#E5ECF6",
              "width": 0.5
             }
            },
            "type": "barpolar"
           }
          ],
          "carpet": [
           {
            "aaxis": {
             "endlinecolor": "#2a3f5f",
             "gridcolor": "white",
             "linecolor": "white",
             "minorgridcolor": "white",
             "startlinecolor": "#2a3f5f"
            },
            "baxis": {
             "endlinecolor": "#2a3f5f",
             "gridcolor": "white",
             "linecolor": "white",
             "minorgridcolor": "white",
             "startlinecolor": "#2a3f5f"
            },
            "type": "carpet"
           }
          ],
          "choropleth": [
           {
            "colorbar": {
             "outlinewidth": 0,
             "ticks": ""
            },
            "type": "choropleth"
           }
          ],
          "contour": [
           {
            "colorbar": {
             "outlinewidth": 0,
             "ticks": ""
            },
            "colorscale": [
             [
              0,
              "#0d0887"
             ],
             [
              0.1111111111111111,
              "#46039f"
             ],
             [
              0.2222222222222222,
              "#7201a8"
             ],
             [
              0.3333333333333333,
              "#9c179e"
             ],
             [
              0.4444444444444444,
              "#bd3786"
             ],
             [
              0.5555555555555556,
              "#d8576b"
             ],
             [
              0.6666666666666666,
              "#ed7953"
             ],
             [
              0.7777777777777778,
              "#fb9f3a"
             ],
             [
              0.8888888888888888,
              "#fdca26"
             ],
             [
              1,
              "#f0f921"
             ]
            ],
            "type": "contour"
           }
          ],
          "contourcarpet": [
           {
            "colorbar": {
             "outlinewidth": 0,
             "ticks": ""
            },
            "type": "contourcarpet"
           }
          ],
          "heatmap": [
           {
            "colorbar": {
             "outlinewidth": 0,
             "ticks": ""
            },
            "colorscale": [
             [
              0,
              "#0d0887"
             ],
             [
              0.1111111111111111,
              "#46039f"
             ],
             [
              0.2222222222222222,
              "#7201a8"
             ],
             [
              0.3333333333333333,
              "#9c179e"
             ],
             [
              0.4444444444444444,
              "#bd3786"
             ],
             [
              0.5555555555555556,
              "#d8576b"
             ],
             [
              0.6666666666666666,
              "#ed7953"
             ],
             [
              0.7777777777777778,
              "#fb9f3a"
             ],
             [
              0.8888888888888888,
              "#fdca26"
             ],
             [
              1,
              "#f0f921"
             ]
            ],
            "type": "heatmap"
           }
          ],
          "heatmapgl": [
           {
            "colorbar": {
             "outlinewidth": 0,
             "ticks": ""
            },
            "colorscale": [
             [
              0,
              "#0d0887"
             ],
             [
              0.1111111111111111,
              "#46039f"
             ],
             [
              0.2222222222222222,
              "#7201a8"
             ],
             [
              0.3333333333333333,
              "#9c179e"
             ],
             [
              0.4444444444444444,
              "#bd3786"
             ],
             [
              0.5555555555555556,
              "#d8576b"
             ],
             [
              0.6666666666666666,
              "#ed7953"
             ],
             [
              0.7777777777777778,
              "#fb9f3a"
             ],
             [
              0.8888888888888888,
              "#fdca26"
             ],
             [
              1,
              "#f0f921"
             ]
            ],
            "type": "heatmapgl"
           }
          ],
          "histogram": [
           {
            "marker": {
             "colorbar": {
              "outlinewidth": 0,
              "ticks": ""
             }
            },
            "type": "histogram"
           }
          ],
          "histogram2d": [
           {
            "colorbar": {
             "outlinewidth": 0,
             "ticks": ""
            },
            "colorscale": [
             [
              0,
              "#0d0887"
             ],
             [
              0.1111111111111111,
              "#46039f"
             ],
             [
              0.2222222222222222,
              "#7201a8"
             ],
             [
              0.3333333333333333,
              "#9c179e"
             ],
             [
              0.4444444444444444,
              "#bd3786"
             ],
             [
              0.5555555555555556,
              "#d8576b"
             ],
             [
              0.6666666666666666,
              "#ed7953"
             ],
             [
              0.7777777777777778,
              "#fb9f3a"
             ],
             [
              0.8888888888888888,
              "#fdca26"
             ],
             [
              1,
              "#f0f921"
             ]
            ],
            "type": "histogram2d"
           }
          ],
          "histogram2dcontour": [
           {
            "colorbar": {
             "outlinewidth": 0,
             "ticks": ""
            },
            "colorscale": [
             [
              0,
              "#0d0887"
             ],
             [
              0.1111111111111111,
              "#46039f"
             ],
             [
              0.2222222222222222,
              "#7201a8"
             ],
             [
              0.3333333333333333,
              "#9c179e"
             ],
             [
              0.4444444444444444,
              "#bd3786"
             ],
             [
              0.5555555555555556,
              "#d8576b"
             ],
             [
              0.6666666666666666,
              "#ed7953"
             ],
             [
              0.7777777777777778,
              "#fb9f3a"
             ],
             [
              0.8888888888888888,
              "#fdca26"
             ],
             [
              1,
              "#f0f921"
             ]
            ],
            "type": "histogram2dcontour"
           }
          ],
          "mesh3d": [
           {
            "colorbar": {
             "outlinewidth": 0,
             "ticks": ""
            },
            "type": "mesh3d"
           }
          ],
          "parcoords": [
           {
            "line": {
             "colorbar": {
              "outlinewidth": 0,
              "ticks": ""
             }
            },
            "type": "parcoords"
           }
          ],
          "scatter": [
           {
            "marker": {
             "colorbar": {
              "outlinewidth": 0,
              "ticks": ""
             }
            },
            "type": "scatter"
           }
          ],
          "scatter3d": [
           {
            "line": {
             "colorbar": {
              "outlinewidth": 0,
              "ticks": ""
             }
            },
            "marker": {
             "colorbar": {
              "outlinewidth": 0,
              "ticks": ""
             }
            },
            "type": "scatter3d"
           }
          ],
          "scattercarpet": [
           {
            "marker": {
             "colorbar": {
              "outlinewidth": 0,
              "ticks": ""
             }
            },
            "type": "scattercarpet"
           }
          ],
          "scattergeo": [
           {
            "marker": {
             "colorbar": {
              "outlinewidth": 0,
              "ticks": ""
             }
            },
            "type": "scattergeo"
           }
          ],
          "scattergl": [
           {
            "marker": {
             "colorbar": {
              "outlinewidth": 0,
              "ticks": ""
             }
            },
            "type": "scattergl"
           }
          ],
          "scattermapbox": [
           {
            "marker": {
             "colorbar": {
              "outlinewidth": 0,
              "ticks": ""
             }
            },
            "type": "scattermapbox"
           }
          ],
          "scatterpolar": [
           {
            "marker": {
             "colorbar": {
              "outlinewidth": 0,
              "ticks": ""
             }
            },
            "type": "scatterpolar"
           }
          ],
          "scatterpolargl": [
           {
            "marker": {
             "colorbar": {
              "outlinewidth": 0,
              "ticks": ""
             }
            },
            "type": "scatterpolargl"
           }
          ],
          "scatterternary": [
           {
            "marker": {
             "colorbar": {
              "outlinewidth": 0,
              "ticks": ""
             }
            },
            "type": "scatterternary"
           }
          ],
          "surface": [
           {
            "colorbar": {
             "outlinewidth": 0,
             "ticks": ""
            },
            "colorscale": [
             [
              0,
              "#0d0887"
             ],
             [
              0.1111111111111111,
              "#46039f"
             ],
             [
              0.2222222222222222,
              "#7201a8"
             ],
             [
              0.3333333333333333,
              "#9c179e"
             ],
             [
              0.4444444444444444,
              "#bd3786"
             ],
             [
              0.5555555555555556,
              "#d8576b"
             ],
             [
              0.6666666666666666,
              "#ed7953"
             ],
             [
              0.7777777777777778,
              "#fb9f3a"
             ],
             [
              0.8888888888888888,
              "#fdca26"
             ],
             [
              1,
              "#f0f921"
             ]
            ],
            "type": "surface"
           }
          ],
          "table": [
           {
            "cells": {
             "fill": {
              "color": "#EBF0F8"
             },
             "line": {
              "color": "white"
             }
            },
            "header": {
             "fill": {
              "color": "#C8D4E3"
             },
             "line": {
              "color": "white"
             }
            },
            "type": "table"
           }
          ]
         },
         "layout": {
          "annotationdefaults": {
           "arrowcolor": "#2a3f5f",
           "arrowhead": 0,
           "arrowwidth": 1
          },
          "colorscale": {
           "diverging": [
            [
             0,
             "#8e0152"
            ],
            [
             0.1,
             "#c51b7d"
            ],
            [
             0.2,
             "#de77ae"
            ],
            [
             0.3,
             "#f1b6da"
            ],
            [
             0.4,
             "#fde0ef"
            ],
            [
             0.5,
             "#f7f7f7"
            ],
            [
             0.6,
             "#e6f5d0"
            ],
            [
             0.7,
             "#b8e186"
            ],
            [
             0.8,
             "#7fbc41"
            ],
            [
             0.9,
             "#4d9221"
            ],
            [
             1,
             "#276419"
            ]
           ],
           "sequential": [
            [
             0,
             "#0d0887"
            ],
            [
             0.1111111111111111,
             "#46039f"
            ],
            [
             0.2222222222222222,
             "#7201a8"
            ],
            [
             0.3333333333333333,
             "#9c179e"
            ],
            [
             0.4444444444444444,
             "#bd3786"
            ],
            [
             0.5555555555555556,
             "#d8576b"
            ],
            [
             0.6666666666666666,
             "#ed7953"
            ],
            [
             0.7777777777777778,
             "#fb9f3a"
            ],
            [
             0.8888888888888888,
             "#fdca26"
            ],
            [
             1,
             "#f0f921"
            ]
           ],
           "sequentialminus": [
            [
             0,
             "#0d0887"
            ],
            [
             0.1111111111111111,
             "#46039f"
            ],
            [
             0.2222222222222222,
             "#7201a8"
            ],
            [
             0.3333333333333333,
             "#9c179e"
            ],
            [
             0.4444444444444444,
             "#bd3786"
            ],
            [
             0.5555555555555556,
             "#d8576b"
            ],
            [
             0.6666666666666666,
             "#ed7953"
            ],
            [
             0.7777777777777778,
             "#fb9f3a"
            ],
            [
             0.8888888888888888,
             "#fdca26"
            ],
            [
             1,
             "#f0f921"
            ]
           ]
          },
          "colorway": [
           "#636efa",
           "#EF553B",
           "#00cc96",
           "#ab63fa",
           "#FFA15A",
           "#19d3f3",
           "#FF6692",
           "#B6E880",
           "#FF97FF",
           "#FECB52"
          ],
          "font": {
           "color": "#2a3f5f"
          },
          "geo": {
           "bgcolor": "white",
           "lakecolor": "white",
           "landcolor": "#E5ECF6",
           "showlakes": true,
           "showland": true,
           "subunitcolor": "white"
          },
          "hoverlabel": {
           "align": "left"
          },
          "hovermode": "closest",
          "mapbox": {
           "style": "light"
          },
          "paper_bgcolor": "white",
          "plot_bgcolor": "#E5ECF6",
          "polar": {
           "angularaxis": {
            "gridcolor": "white",
            "linecolor": "white",
            "ticks": ""
           },
           "bgcolor": "#E5ECF6",
           "radialaxis": {
            "gridcolor": "white",
            "linecolor": "white",
            "ticks": ""
           }
          },
          "scene": {
           "xaxis": {
            "backgroundcolor": "#E5ECF6",
            "gridcolor": "white",
            "gridwidth": 2,
            "linecolor": "white",
            "showbackground": true,
            "ticks": "",
            "zerolinecolor": "white"
           },
           "yaxis": {
            "backgroundcolor": "#E5ECF6",
            "gridcolor": "white",
            "gridwidth": 2,
            "linecolor": "white",
            "showbackground": true,
            "ticks": "",
            "zerolinecolor": "white"
           },
           "zaxis": {
            "backgroundcolor": "#E5ECF6",
            "gridcolor": "white",
            "gridwidth": 2,
            "linecolor": "white",
            "showbackground": true,
            "ticks": "",
            "zerolinecolor": "white"
           }
          },
          "shapedefaults": {
           "line": {
            "color": "#2a3f5f"
           }
          },
          "ternary": {
           "aaxis": {
            "gridcolor": "white",
            "linecolor": "white",
            "ticks": ""
           },
           "baxis": {
            "gridcolor": "white",
            "linecolor": "white",
            "ticks": ""
           },
           "bgcolor": "#E5ECF6",
           "caxis": {
            "gridcolor": "white",
            "linecolor": "white",
            "ticks": ""
           }
          },
          "title": {
           "x": 0.05
          },
          "xaxis": {
           "automargin": true,
           "gridcolor": "white",
           "linecolor": "white",
           "ticks": "",
           "zerolinecolor": "white",
           "zerolinewidth": 2
          },
          "yaxis": {
           "automargin": true,
           "gridcolor": "white",
           "linecolor": "white",
           "ticks": "",
           "zerolinecolor": "white",
           "zerolinewidth": 2
          }
         }
        },
        "title": {
         "font": {
          "color": "#D9D9D9"
         }
        },
        "xaxis": {
         "gridcolor": "#434343",
         "showgrid": true,
         "tickfont": {
          "color": "#C2C2C2"
         },
         "title": {
          "font": {
           "color": "#D9D9D9"
          },
          "text": ""
         },
         "zerolinecolor": "#666570"
        },
        "yaxis": {
         "gridcolor": "#434343",
         "showgrid": true,
         "tickfont": {
          "color": "#C2C2C2"
         },
         "title": {
          "font": {
           "color": "#D9D9D9"
          },
          "text": ""
         },
         "zerolinecolor": "#666570"
        }
       }
      },
      "text/html": [
       "<div>\n",
       "        \n",
       "        \n",
       "            <div id=\"84dbba6f-76f5-4419-995d-5b9abdb1bf86\" class=\"plotly-graph-div\" style=\"height:525px; width:100%;\"></div>\n",
       "            <script type=\"text/javascript\">\n",
       "                require([\"plotly\"], function(Plotly) {\n",
       "                    window.PLOTLYENV=window.PLOTLYENV || {};\n",
       "                    \n",
       "                if (document.getElementById(\"84dbba6f-76f5-4419-995d-5b9abdb1bf86\")) {\n",
       "                    Plotly.newPlot(\n",
       "                        '84dbba6f-76f5-4419-995d-5b9abdb1bf86',\n",
       "                        [{\"line\": {\"color\": \"rgba(255, 153, 51, 1.0)\", \"dash\": \"solid\", \"shape\": \"linear\", \"width\": 1.3}, \"mode\": \"lines\", \"name\": \"NY - Confirmed\", \"text\": \"\", \"type\": \"scatter\", \"x\": [\"2020-01-26\", \"2020-01-27\", \"2020-01-28\", \"2020-01-29\", \"2020-01-30\", \"2020-01-31\", \"2020-02-01\", \"2020-02-02\", \"2020-02-03\", \"2020-02-04\", \"2020-02-05\", \"2020-02-06\", \"2020-02-07\", \"2020-02-08\", \"2020-02-09\", \"2020-02-10\", \"2020-02-11\", \"2020-02-12\", \"2020-02-13\", \"2020-02-14\", \"2020-02-15\", \"2020-02-16\", \"2020-02-17\", \"2020-02-18\", \"2020-02-19\", \"2020-02-20\", \"2020-02-21\", \"2020-02-22\", \"2020-02-23\", \"2020-02-24\", \"2020-02-25\", \"2020-02-26\", \"2020-02-27\", \"2020-02-28\", \"2020-02-29\", \"2020-03-01\", \"2020-03-02\", \"2020-03-03\", \"2020-03-04\", \"2020-03-05\", \"2020-03-06\", \"2020-03-07\", \"2020-03-08\", \"2020-03-09\", \"2020-03-10\", \"2020-03-11\", \"2020-03-12\", \"2020-03-13\", \"2020-03-14\", \"2020-03-15\", \"2020-03-16\", \"2020-03-17\", \"2020-03-18\", \"2020-03-19\", \"2020-03-20\", \"2020-03-21\", \"2020-03-22\", \"2020-03-23\", \"2020-03-24\", \"2020-03-25\", \"2020-03-26\", \"2020-03-27\", \"2020-03-28\", \"2020-03-29\", \"2020-03-30\", \"2020-03-31\", \"2020-04-01\", \"2020-04-02\", \"2020-04-03\", \"2020-04-04\", \"2020-04-05\", \"2020-04-06\", \"2020-04-07\", \"2020-04-08\", \"2020-04-09\", \"2020-04-10\", \"2020-04-11\", \"2020-04-12\", \"2020-04-13\", \"2020-04-14\", \"2020-04-15\", \"2020-04-16\", \"2020-04-17\", \"2020-04-18\", \"2020-04-19\", \"2020-04-20\", \"2020-04-21\", \"2020-04-22\", \"2020-04-23\", \"2020-04-24\", \"2020-04-25\", \"2020-04-26\", \"2020-04-27\", \"2020-04-28\", \"2020-04-29\", \"2020-04-30\", \"2020-05-01\", \"2020-05-02\", \"2020-05-03\", \"2020-05-04\", \"2020-05-05\", \"2020-05-06\", \"2020-05-07\", \"2020-05-08\", \"2020-05-09\", \"2020-05-10\", \"2020-05-11\", \"2020-05-12\", \"2020-05-13\", \"2020-05-14\", \"2020-05-15\", \"2020-05-16\", \"2020-05-17\", \"2020-05-18\", \"2020-05-19\", \"2020-05-20\", \"2020-05-21\", \"2020-05-22\", \"2020-05-23\", \"2020-05-24\", \"2020-05-25\", \"2020-05-26\", \"2020-05-27\", \"2020-05-28\", \"2020-05-29\", \"2020-05-30\", \"2020-05-31\", \"2020-06-01\", \"2020-06-02\", \"2020-06-03\", \"2020-06-04\", \"2020-06-05\", \"2020-06-06\", \"2020-06-07\", \"2020-06-08\", \"2020-06-09\", \"2020-06-10\", \"2020-06-11\", \"2020-06-12\", \"2020-06-13\", \"2020-06-14\", \"2020-06-15\", \"2020-06-16\", \"2020-06-17\", \"2020-06-18\", \"2020-06-19\", \"2020-06-20\", \"2020-06-21\", \"2020-06-22\", \"2020-06-23\", \"2020-06-24\", \"2020-06-25\", \"2020-06-26\", \"2020-06-27\", \"2020-06-28\", \"2020-06-29\", \"2020-06-30\"], \"y\": [\"\", \"\", \"\", \"\", \"\", \"\", \"\", \"\", \"\", \"\", \"\", \"\", \"\", \"\", \"\", \"\", \"\", \"\", \"\", \"\", \"\", \"\", \"\", \"\", \"\", \"\", \"\", \"\", \"\", \"\", \"\", \"\", \"\", \"\", \"\", \"\", 1.0, 2.0, 11.0, 23.0, 36.0, 76.0, 106.0, 142.0, 173.0, 220.0, 328.0, 421.0, 525.0, 732.0, 967.0, 1706.0, 2495.0, 5365.0, 8310.0, 11710.0, 15800.0, 20884.0, 25681.0, 30841.0, 37877.0, 44876.0, 52410.0, 59648.0, 66663.0, 75833.0, 83948.0, 92506.0, 102987.0, 113833.0, 123160.0, 131815.0, 139875.0, 151061.0, 161779.0, 172348.0, 181026.0, 189033.0, 195749.0, 203020.0, 214454.0, 223691.0, 230597.0, 241712.0, 247815.0, 253060.0, 258361.0, 263292.0, 263460.0, 271590.0, 282143.0, 288045.0, 291996.0, 295106.0, 299691.0, 304372.0, 308314.0, 312977.0, 316415.0, 318953.0, 321192.0, 323978.0, 327469.0, 330407.0, 333122.0, 335395.0, 337055.0, 338485.0, 340661.0, 343051.0, 345813.0, 348232.0, 350121.0, 351371.0, 352845.0, 354370.0, 356458.0, 358154.0, 359926.0, 361515.0, 362764.0, 363836.0, 364965.0, 366733.0, 368284.0, 369660.0, 370770.0, 371711.0, 373040.0, 374085.0, 375133.0, 376208.0, 377316.0, 378097.0, 378799.0, 379482.0, 380156.0, 380892.0, 381714.0, 382630.0, 383324.0, 383944.0, 384575.0, 385142.0, 385760.0, 386556.0, 387272.0, 387936.0, 388488.0, 389085.0, 389666.0, 390415.0, 391220.0, 391923.0, 392539.0, 393403.0, 393454.0]}, {\"line\": {\"color\": \"rgba(55, 128, 191, 1.0)\", \"dash\": \"solid\", \"shape\": \"linear\", \"width\": 1.3}, \"mode\": \"lines\", \"name\": \"NY - Confirmed Per Capita\", \"text\": \"\", \"type\": \"scatter\", \"x\": [\"2020-01-26\", \"2020-01-27\", \"2020-01-28\", \"2020-01-29\", \"2020-01-30\", \"2020-01-31\", \"2020-02-01\", \"2020-02-02\", \"2020-02-03\", \"2020-02-04\", \"2020-02-05\", \"2020-02-06\", \"2020-02-07\", \"2020-02-08\", \"2020-02-09\", \"2020-02-10\", \"2020-02-11\", \"2020-02-12\", \"2020-02-13\", \"2020-02-14\", \"2020-02-15\", \"2020-02-16\", \"2020-02-17\", \"2020-02-18\", \"2020-02-19\", \"2020-02-20\", \"2020-02-21\", \"2020-02-22\", \"2020-02-23\", \"2020-02-24\", \"2020-02-25\", \"2020-02-26\", \"2020-02-27\", \"2020-02-28\", \"2020-02-29\", \"2020-03-01\", \"2020-03-02\", \"2020-03-03\", \"2020-03-04\", \"2020-03-05\", \"2020-03-06\", \"2020-03-07\", \"2020-03-08\", \"2020-03-09\", \"2020-03-10\", \"2020-03-11\", \"2020-03-12\", \"2020-03-13\", \"2020-03-14\", \"2020-03-15\", \"2020-03-16\", \"2020-03-17\", \"2020-03-18\", \"2020-03-19\", \"2020-03-20\", \"2020-03-21\", \"2020-03-22\", \"2020-03-23\", \"2020-03-24\", \"2020-03-25\", \"2020-03-26\", \"2020-03-27\", \"2020-03-28\", \"2020-03-29\", \"2020-03-30\", \"2020-03-31\", \"2020-04-01\", \"2020-04-02\", \"2020-04-03\", \"2020-04-04\", \"2020-04-05\", \"2020-04-06\", \"2020-04-07\", \"2020-04-08\", \"2020-04-09\", \"2020-04-10\", \"2020-04-11\", \"2020-04-12\", \"2020-04-13\", \"2020-04-14\", \"2020-04-15\", \"2020-04-16\", \"2020-04-17\", \"2020-04-18\", \"2020-04-19\", \"2020-04-20\", \"2020-04-21\", \"2020-04-22\", \"2020-04-23\", \"2020-04-24\", \"2020-04-25\", \"2020-04-26\", \"2020-04-27\", \"2020-04-28\", \"2020-04-29\", \"2020-04-30\", \"2020-05-01\", \"2020-05-02\", \"2020-05-03\", \"2020-05-04\", \"2020-05-05\", \"2020-05-06\", \"2020-05-07\", \"2020-05-08\", \"2020-05-09\", \"2020-05-10\", \"2020-05-11\", \"2020-05-12\", \"2020-05-13\", \"2020-05-14\", \"2020-05-15\", \"2020-05-16\", \"2020-05-17\", \"2020-05-18\", \"2020-05-19\", \"2020-05-20\", \"2020-05-21\", \"2020-05-22\", \"2020-05-23\", \"2020-05-24\", \"2020-05-25\", \"2020-05-26\", \"2020-05-27\", \"2020-05-28\", \"2020-05-29\", \"2020-05-30\", \"2020-05-31\", \"2020-06-01\", \"2020-06-02\", \"2020-06-03\", \"2020-06-04\", \"2020-06-05\", \"2020-06-06\", \"2020-06-07\", \"2020-06-08\", \"2020-06-09\", \"2020-06-10\", \"2020-06-11\", \"2020-06-12\", \"2020-06-13\", \"2020-06-14\", \"2020-06-15\", \"2020-06-16\", \"2020-06-17\", \"2020-06-18\", \"2020-06-19\", \"2020-06-20\", \"2020-06-21\", \"2020-06-22\", \"2020-06-23\", \"2020-06-24\", \"2020-06-25\", \"2020-06-26\", \"2020-06-27\", \"2020-06-28\", \"2020-06-29\", \"2020-06-30\"], \"y\": [\"\", \"\", \"\", \"\", \"\", \"\", \"\", \"\", \"\", \"\", \"\", \"\", \"\", \"\", \"\", \"\", \"\", \"\", \"\", \"\", \"\", \"\", \"\", \"\", \"\", \"\", \"\", \"\", \"\", \"\", \"\", \"\", \"\", \"\", \"\", \"\", 5.1404470369203867e-08, 1.0280894073840773e-07, 5.654491740612425e-07, 1.182302818491689e-06, 1.8505609332913393e-06, 3.906739748059494e-06, 5.4488738591356114e-06, 7.2994347924269494e-06, 8.89297337387227e-06, 1.1308983481224852e-05, 1.686066628109887e-05, 2.164128202543483e-05, 2.6987346943832032e-05, 3.7628072310257235e-05, 4.970812284702014e-05, 8.76960264498618e-05, 0.00012825415357116366, 0.00027578498353077874, 0.0004271711487680842, 0.0006019463480233773, 0.0008121906318334212, 0.0010735309591904537, 0.0013201182035515245, 0.0015853652706566165, 0.001947047124174335, 0.002306827012288393, 0.0026941082920499747, 0.0030661738485822723, 0.0034267762082222375, 0.0038981552015078373, 0.0043153024785539265, 0.004755221935973573, 0.005293992189913199, 0.005851525075537584, 0.006330974570671149, 0.006775880261716608, 0.007190200292892392, 0.0077652106984423055, 0.008316163811859434, 0.008859457659191548, 0.0093055456530555, 0.009717141247301716, 0.010062373670301288, 0.01043613557435577, 0.011023894288557247, 0.011498717381357583, 0.011853716653727305, 0.012425077341881006, 0.012738798824544257, 0.01300841527163073, 0.013280910369057881, 0.013534385812448426, 0.013543021763470452, 0.01396094010757208, 0.014503411483378288, 0.014806800667497328, 0.015009899729926054, 0.015169767632774276, 0.015405457129417077, 0.01564608145521532, 0.015848717877410722, 0.016088416922742318, 0.016265145491871642, 0.016395610037668682, 0.01651070464682533, 0.016653917501273933, 0.016833370507332822, 0.016984396841277543, 0.017123959978329932, 0.017240802339479132, 0.01732613376029201, 0.01739964215291997, 0.01751149828044336, 0.017634354964625756, 0.0177763341117855, 0.017900681525608603, 0.017997784570136028, 0.018062040158097533, 0.018137810347421738, 0.018216202164734775, 0.018323534698865673, 0.018410716680611842, 0.01850180540210607, 0.018583487105522736, 0.018647691289013873, 0.01870279688124966, 0.01876083252829649, 0.018851715631909242, 0.018931443965451877, 0.019002176516679903, 0.01905923547878972, 0.01910760708540714, 0.019175923626527813, 0.019229641298063628, 0.019283513183010557, 0.019338772988657448, 0.019395729141826527, 0.019435876033184876, 0.019471961971384056, 0.019507071224646223, 0.019541717837675065, 0.0195795515278668, 0.019621806002510286, 0.019668892497368477, 0.019704567199804703, 0.01973643797143361, 0.01976887419223658, 0.019798020526935918, 0.019829788489624085, 0.01987070644803797, 0.01990751204882232, 0.019941644617147473, 0.019970019884791274, 0.02000070835360169, 0.020030574350886194, 0.020069076299192728, 0.020110456897839937, 0.020146594240509488, 0.02017825939425692, 0.02022267285665591, 0.02022529448464474]}, {\"line\": {\"color\": \"rgba(50, 171, 96, 1.0)\", \"dash\": \"solid\", \"shape\": \"linear\", \"width\": 1.3}, \"mode\": \"lines\", \"name\": \"MD - Confirmed\", \"text\": \"\", \"type\": \"scatter\", \"x\": [\"2020-01-26\", \"2020-01-27\", \"2020-01-28\", \"2020-01-29\", \"2020-01-30\", \"2020-01-31\", \"2020-02-01\", \"2020-02-02\", \"2020-02-03\", \"2020-02-04\", \"2020-02-05\", \"2020-02-06\", \"2020-02-07\", \"2020-02-08\", \"2020-02-09\", \"2020-02-10\", \"2020-02-11\", \"2020-02-12\", \"2020-02-13\", \"2020-02-14\", \"2020-02-15\", \"2020-02-16\", \"2020-02-17\", \"2020-02-18\", \"2020-02-19\", \"2020-02-20\", \"2020-02-21\", \"2020-02-22\", \"2020-02-23\", \"2020-02-24\", \"2020-02-25\", \"2020-02-26\", \"2020-02-27\", \"2020-02-28\", \"2020-02-29\", \"2020-03-01\", \"2020-03-02\", \"2020-03-03\", \"2020-03-04\", \"2020-03-05\", \"2020-03-06\", \"2020-03-07\", \"2020-03-08\", \"2020-03-09\", \"2020-03-10\", \"2020-03-11\", \"2020-03-12\", \"2020-03-13\", \"2020-03-14\", \"2020-03-15\", \"2020-03-16\", \"2020-03-17\", \"2020-03-18\", \"2020-03-19\", \"2020-03-20\", \"2020-03-21\", \"2020-03-22\", \"2020-03-23\", \"2020-03-24\", \"2020-03-25\", \"2020-03-26\", \"2020-03-27\", \"2020-03-28\", \"2020-03-29\", \"2020-03-30\", \"2020-03-31\", \"2020-04-01\", \"2020-04-02\", \"2020-04-03\", \"2020-04-04\", \"2020-04-05\", \"2020-04-06\", \"2020-04-07\", \"2020-04-08\", \"2020-04-09\", \"2020-04-10\", \"2020-04-11\", \"2020-04-12\", \"2020-04-13\", \"2020-04-14\", \"2020-04-15\", \"2020-04-16\", \"2020-04-17\", \"2020-04-18\", \"2020-04-19\", \"2020-04-20\", \"2020-04-21\", \"2020-04-22\", \"2020-04-23\", \"2020-04-24\", \"2020-04-25\", \"2020-04-26\", \"2020-04-27\", \"2020-04-28\", \"2020-04-29\", \"2020-04-30\", \"2020-05-01\", \"2020-05-02\", \"2020-05-03\", \"2020-05-04\", \"2020-05-05\", \"2020-05-06\", \"2020-05-07\", \"2020-05-08\", \"2020-05-09\", \"2020-05-10\", \"2020-05-11\", \"2020-05-12\", \"2020-05-13\", \"2020-05-14\", \"2020-05-15\", \"2020-05-16\", \"2020-05-17\", \"2020-05-18\", \"2020-05-19\", \"2020-05-20\", \"2020-05-21\", \"2020-05-22\", \"2020-05-23\", \"2020-05-24\", \"2020-05-25\", \"2020-05-26\", \"2020-05-27\", \"2020-05-28\", \"2020-05-29\", \"2020-05-30\", \"2020-05-31\", \"2020-06-01\", \"2020-06-02\", \"2020-06-03\", \"2020-06-04\", \"2020-06-05\", \"2020-06-06\", \"2020-06-07\", \"2020-06-08\", \"2020-06-09\", \"2020-06-10\", \"2020-06-11\", \"2020-06-12\", \"2020-06-13\", \"2020-06-14\", \"2020-06-15\", \"2020-06-16\", \"2020-06-17\", \"2020-06-18\", \"2020-06-19\", \"2020-06-20\", \"2020-06-21\", \"2020-06-22\", \"2020-06-23\", \"2020-06-24\", \"2020-06-25\", \"2020-06-26\", \"2020-06-27\", \"2020-06-28\", \"2020-06-29\", \"2020-06-30\"], \"y\": [\"\", \"\", \"\", \"\", \"\", \"\", \"\", \"\", \"\", \"\", \"\", \"\", \"\", \"\", \"\", \"\", \"\", \"\", \"\", \"\", \"\", \"\", \"\", \"\", \"\", \"\", \"\", \"\", \"\", \"\", \"\", \"\", \"\", \"\", \"\", \"\", \"\", \"\", \"\", \"\", 3.0, 3.0, 5.0, 5.0, 8.0, 9.0, 12.0, 18.0, 26.0, 32.0, 41.0, 60.0, 85.0, 107.0, 149.0, 193.0, 244.0, 290.0, 349.0, 425.0, 583.0, 775.0, 995.0, 1239.0, 1413.0, 1660.0, 1986.0, 2331.0, 2758.0, 3125.0, 3617.0, 4045.0, 4371.0, 5529.0, 6185.0, 6968.0, 7694.0, 8225.0, 8936.0, 9472.0, 10032.0, 10784.0, 11572.0, 12326.0, 12847.0, 13684.0, 14193.0, 14775.0, 15737.0, 16616.0, 17766.0, 18581.0, 19487.0, 20113.0, 20849.0, 21742.0, 23472.0, 24473.0, 25462.0, 26408.0, 27117.0, 28163.0, 29374.0, 30485.0, 31534.0, 32587.0, 33373.0, 34061.0, 34812.0, 35903.0, 36986.0, 37968.0, 38804.0, 39762.0, 41546.0, 42323.0, 43531.0, 44424.0, 45495.0, 46313.0, 47152.0, 47687.0, 48423.0, 49709.0, 50988.0, 52015.0, 52778.0, 53327.0, 54175.0, 54982.0, 55858.0, 56770.0, 57482.0, 57973.0, 58404.0, 58904.0, 59465.0, 60197.0, 60613.0, 61305.0, 61701.0, 62032.0, 62409.0, 62969.0, 63229.0, 63548.0, 63956.0, 64306.0, 64603.0, 65007.0, 65337.0, 65777.0, 66115.0, 66450.0, 66777.0, 67254.0, 67559.0]}, {\"line\": {\"color\": \"rgba(128, 0, 128, 1.0)\", \"dash\": \"solid\", \"shape\": \"linear\", \"width\": 1.3}, \"mode\": \"lines\", \"name\": \"MD - Confirmed Per Capita\", \"text\": \"\", \"type\": \"scatter\", \"x\": [\"2020-01-26\", \"2020-01-27\", \"2020-01-28\", \"2020-01-29\", \"2020-01-30\", \"2020-01-31\", \"2020-02-01\", \"2020-02-02\", \"2020-02-03\", \"2020-02-04\", \"2020-02-05\", \"2020-02-06\", \"2020-02-07\", \"2020-02-08\", \"2020-02-09\", \"2020-02-10\", \"2020-02-11\", \"2020-02-12\", \"2020-02-13\", \"2020-02-14\", \"2020-02-15\", \"2020-02-16\", \"2020-02-17\", \"2020-02-18\", \"2020-02-19\", \"2020-02-20\", \"2020-02-21\", \"2020-02-22\", \"2020-02-23\", \"2020-02-24\", \"2020-02-25\", \"2020-02-26\", \"2020-02-27\", \"2020-02-28\", \"2020-02-29\", \"2020-03-01\", \"2020-03-02\", \"2020-03-03\", \"2020-03-04\", \"2020-03-05\", \"2020-03-06\", \"2020-03-07\", \"2020-03-08\", \"2020-03-09\", \"2020-03-10\", \"2020-03-11\", \"2020-03-12\", \"2020-03-13\", \"2020-03-14\", \"2020-03-15\", \"2020-03-16\", \"2020-03-17\", \"2020-03-18\", \"2020-03-19\", \"2020-03-20\", \"2020-03-21\", \"2020-03-22\", \"2020-03-23\", \"2020-03-24\", \"2020-03-25\", \"2020-03-26\", \"2020-03-27\", \"2020-03-28\", \"2020-03-29\", \"2020-03-30\", \"2020-03-31\", \"2020-04-01\", \"2020-04-02\", \"2020-04-03\", \"2020-04-04\", \"2020-04-05\", \"2020-04-06\", \"2020-04-07\", \"2020-04-08\", \"2020-04-09\", \"2020-04-10\", \"2020-04-11\", \"2020-04-12\", \"2020-04-13\", \"2020-04-14\", \"2020-04-15\", \"2020-04-16\", \"2020-04-17\", \"2020-04-18\", \"2020-04-19\", \"2020-04-20\", \"2020-04-21\", \"2020-04-22\", \"2020-04-23\", \"2020-04-24\", \"2020-04-25\", \"2020-04-26\", \"2020-04-27\", \"2020-04-28\", \"2020-04-29\", \"2020-04-30\", \"2020-05-01\", \"2020-05-02\", \"2020-05-03\", \"2020-05-04\", \"2020-05-05\", \"2020-05-06\", \"2020-05-07\", \"2020-05-08\", \"2020-05-09\", \"2020-05-10\", \"2020-05-11\", \"2020-05-12\", \"2020-05-13\", \"2020-05-14\", \"2020-05-15\", \"2020-05-16\", \"2020-05-17\", \"2020-05-18\", \"2020-05-19\", \"2020-05-20\", \"2020-05-21\", \"2020-05-22\", \"2020-05-23\", \"2020-05-24\", \"2020-05-25\", \"2020-05-26\", \"2020-05-27\", \"2020-05-28\", \"2020-05-29\", \"2020-05-30\", \"2020-05-31\", \"2020-06-01\", \"2020-06-02\", \"2020-06-03\", \"2020-06-04\", \"2020-06-05\", \"2020-06-06\", \"2020-06-07\", \"2020-06-08\", \"2020-06-09\", \"2020-06-10\", \"2020-06-11\", \"2020-06-12\", \"2020-06-13\", \"2020-06-14\", \"2020-06-15\", \"2020-06-16\", \"2020-06-17\", \"2020-06-18\", \"2020-06-19\", \"2020-06-20\", \"2020-06-21\", \"2020-06-22\", \"2020-06-23\", \"2020-06-24\", \"2020-06-25\", \"2020-06-26\", \"2020-06-27\", \"2020-06-28\", \"2020-06-29\", \"2020-06-30\"], \"y\": [\"\", \"\", \"\", \"\", \"\", \"\", \"\", \"\", \"\", \"\", \"\", \"\", \"\", \"\", \"\", \"\", \"\", \"\", \"\", \"\", \"\", \"\", \"\", \"\", \"\", \"\", \"\", \"\", \"\", \"\", \"\", \"\", \"\", \"\", \"\", \"\", \"\", \"\", \"\", \"\", 4.962220957774808e-07, 4.962220957774808e-07, 8.270368262958013e-07, 8.270368262958013e-07, 1.323258922073282e-06, 1.4886662873324423e-06, 1.984888383109923e-06, 2.9773325746648845e-06, 4.300591496738167e-06, 5.293035688293128e-06, 6.781701975625571e-06, 9.924441915549615e-06, 1.4059626047028622e-05, 1.769858808273015e-05, 2.4645697423614877e-05, 3.192362149501793e-05, 4.0359397123235105e-05, 4.796813592515648e-05, 5.772717047544693e-05, 7.029813023514311e-05, 9.643249394609044e-05, 0.0001281907080758492, 0.00016458032843286445, 0.00020493972555609956, 0.00023372060711119344, 0.00027457622633020605, 0.0003284990274046923, 0.00038556456841910256, 0.000456193513384764, 0.0005168980164348758, 0.0005982784401423827, 0.0006690727924733033, 0.0007229955935477895, 0.000914537322517897, 0.0010230445541279062, 0.0011525585211258286, 0.001272644268303979, 0.001360475579256593, 0.0014780802159558562, 0.001566738563734766, 0.0016593666882798958, 0.0017837530269547842, 0.0019140940307790025, 0.0020388111841844092, 0.002124988421484432, 0.002263434386206349, 0.0023476267351232615, 0.0024438938217040927, 0.002603015707083405, 0.0027484087811462067, 0.0029386272511942413, 0.003073434253880457, 0.003223293326805256, 0.0033268383374574903, 0.0034485781582882322, 0.0035962869354646625, 0.00388244167736301, 0.004048014449987429, 0.0042116023342287385, 0.0043680777017639045, 0.004485351523732649, 0.00465836762779373, 0.004858675947122574, 0.005042443529925501, 0.00521595585608236, 0.005390129811700255, 0.005520140000793955, 0.005633940268092257, 0.005758161199401887, 0.005938620634899631, 0.006117756811475301, 0.006280186844159797, 0.006418467401516454, 0.0065769276574347306, 0.006872014397057072, 0.007000535919863439, 0.007200348017096505, 0.007348056794272935, 0.007525208082465496, 0.007660511307247489, 0.007799288086699925, 0.007887781027113575, 0.008009520847944318, 0.008222234719667598, 0.008433790739834064, 0.008603664103955222, 0.00872986992364796, 0.00882067856717524, 0.008960944012915008, 0.009094427756679149, 0.009239324608646174, 0.009390176125762527, 0.00950794616982705, 0.009589161186169298, 0.009660451760595996, 0.009743155443225576, 0.009835948975135966, 0.00995702716650567, 0.01002583663045348, 0.01014029852721282, 0.010205799843855447, 0.010260549681756229, 0.010322908258458934, 0.010415536383004062, 0.010458542297971444, 0.010511307247489117, 0.010578793452514853, 0.01063668603035556, 0.01068581201783753, 0.010752636593402231, 0.010807221023937753, 0.010880000264651784, 0.01093590795410938, 0.0109913194214712, 0.011045407629910945, 0.011124306943139563, 0.011174756189543607]}, {\"line\": {\"color\": \"rgba(219, 64, 82, 1.0)\", \"dash\": \"solid\", \"shape\": \"linear\", \"width\": 1.3}, \"mode\": \"lines\", \"name\": \"CA - Confirmed\", \"text\": \"\", \"type\": \"scatter\", \"x\": [\"2020-01-26\", \"2020-01-27\", \"2020-01-28\", \"2020-01-29\", \"2020-01-30\", \"2020-01-31\", \"2020-02-01\", \"2020-02-02\", \"2020-02-03\", \"2020-02-04\", \"2020-02-05\", \"2020-02-06\", \"2020-02-07\", \"2020-02-08\", \"2020-02-09\", \"2020-02-10\", \"2020-02-11\", \"2020-02-12\", \"2020-02-13\", \"2020-02-14\", \"2020-02-15\", \"2020-02-16\", \"2020-02-17\", \"2020-02-18\", \"2020-02-19\", \"2020-02-20\", \"2020-02-21\", \"2020-02-22\", \"2020-02-23\", \"2020-02-24\", \"2020-02-25\", \"2020-02-26\", \"2020-02-27\", \"2020-02-28\", \"2020-02-29\", \"2020-03-01\", \"2020-03-02\", \"2020-03-03\", \"2020-03-04\", \"2020-03-05\", \"2020-03-06\", \"2020-03-07\", \"2020-03-08\", \"2020-03-09\", \"2020-03-10\", \"2020-03-11\", \"2020-03-12\", \"2020-03-13\", \"2020-03-14\", \"2020-03-15\", \"2020-03-16\", \"2020-03-17\", \"2020-03-18\", \"2020-03-19\", \"2020-03-20\", \"2020-03-21\", \"2020-03-22\", \"2020-03-23\", \"2020-03-24\", \"2020-03-25\", \"2020-03-26\", \"2020-03-27\", \"2020-03-28\", \"2020-03-29\", \"2020-03-30\", \"2020-03-31\", \"2020-04-01\", \"2020-04-02\", \"2020-04-03\", \"2020-04-04\", \"2020-04-05\", \"2020-04-06\", \"2020-04-07\", \"2020-04-08\", \"2020-04-09\", \"2020-04-10\", \"2020-04-11\", \"2020-04-12\", \"2020-04-13\", \"2020-04-14\", \"2020-04-15\", \"2020-04-16\", \"2020-04-17\", \"2020-04-18\", \"2020-04-19\", \"2020-04-20\", \"2020-04-21\", \"2020-04-22\", \"2020-04-23\", \"2020-04-24\", \"2020-04-25\", \"2020-04-26\", \"2020-04-27\", \"2020-04-28\", \"2020-04-29\", \"2020-04-30\", \"2020-05-01\", \"2020-05-02\", \"2020-05-03\", \"2020-05-04\", \"2020-05-05\", \"2020-05-06\", \"2020-05-07\", \"2020-05-08\", \"2020-05-09\", \"2020-05-10\", \"2020-05-11\", \"2020-05-12\", \"2020-05-13\", \"2020-05-14\", \"2020-05-15\", \"2020-05-16\", \"2020-05-17\", \"2020-05-18\", \"2020-05-19\", \"2020-05-20\", \"2020-05-21\", \"2020-05-22\", \"2020-05-23\", \"2020-05-24\", \"2020-05-25\", \"2020-05-26\", \"2020-05-27\", \"2020-05-28\", \"2020-05-29\", \"2020-05-30\", \"2020-05-31\", \"2020-06-01\", \"2020-06-02\", \"2020-06-03\", \"2020-06-04\", \"2020-06-05\", \"2020-06-06\", \"2020-06-07\", \"2020-06-08\", \"2020-06-09\", \"2020-06-10\", \"2020-06-11\", \"2020-06-12\", \"2020-06-13\", \"2020-06-14\", \"2020-06-15\", \"2020-06-16\", \"2020-06-17\", \"2020-06-18\", \"2020-06-19\", \"2020-06-20\", \"2020-06-21\", \"2020-06-22\", \"2020-06-23\", \"2020-06-24\", \"2020-06-25\", \"2020-06-26\", \"2020-06-27\", \"2020-06-28\", \"2020-06-29\", \"2020-06-30\"], \"y\": [2.0, 2.0, 2.0, 2.0, 2.0, 2.0, 3.0, 3.0, 6.0, 6.0, 6.0, 6.0, 6.0, 6.0, 6.0, 6.0, 7.0, 7.0, 8.0, 8.0, 8.0, 8.0, 8.0, 8.0, 8.0, 8.0, 15.0, 15.0, 15.0, 10.0, 10.0, 10.0, 11.0, 11.0, 12.0, 12.0, 21.0, 25.0, 35.0, 51.0, 59.0, 82.0, 98.0, 104.0, 144.0, 177.0, 221.0, 282.0, 340.0, 426.0, 557.0, 698.0, 751.0, 952.0, 1177.0, 1364.0, 1646.0, 2108.0, 2538.0, 2998.0, 3899.0, 4657.0, 5095.0, 5852.0, 7138.0, 8210.0, 9399.0, 10773.0, 12004.0, 12837.0, 15034.0, 16019.0, 17351.0, 18897.0, 19710.0, 21081.0, 21706.0, 22795.0, 23931.0, 25356.0, 26686.0, 27677.0, 29157.0, 30491.0, 31431.0, 33686.0, 35465.0, 37344.0, 39561.0, 41355.0, 42368.0, 43558.0, 44966.0, 46164.0, 48747.0, 50130.0, 52026.0, 53347.0, 54903.0, 55884.0, 58456.0, 60616.0, 62148.0, 63779.0, 66558.0, 67600.0, 69329.0, 70978.0, 72798.0, 74871.0, 76693.0, 78725.0, 80166.0, 81457.0, 83752.0, 85997.0, 88031.0, 90252.0, 92539.0, 94020.0, 96400.0, 99387.0, 101050.0, 103813.0, 106622.0, 109895.0, 111951.0, 114733.0, 117215.0, 119348.0, 122168.0, 125738.0, 128593.0, 130615.0, 133816.0, 136641.0, 139715.0, 143377.0, 146659.0, 150018.0, 152300.0, 155726.0, 158961.0, 162798.0, 167086.0, 170862.0, 175213.0, 178546.0, 184765.0, 191477.0, 195925.0, 201112.0, 206844.0, 210584.0, 215296.0, 223646.0, 231232.0]}, {\"line\": {\"color\": \"rgba(0, 128, 128, 1.0)\", \"dash\": \"solid\", \"shape\": \"linear\", \"width\": 1.3}, \"mode\": \"lines\", \"name\": \"CA - Confirmed Per Capita\", \"text\": \"\", \"type\": \"scatter\", \"x\": [\"2020-01-26\", \"2020-01-27\", \"2020-01-28\", \"2020-01-29\", \"2020-01-30\", \"2020-01-31\", \"2020-02-01\", \"2020-02-02\", \"2020-02-03\", \"2020-02-04\", \"2020-02-05\", \"2020-02-06\", \"2020-02-07\", \"2020-02-08\", \"2020-02-09\", \"2020-02-10\", \"2020-02-11\", \"2020-02-12\", \"2020-02-13\", \"2020-02-14\", \"2020-02-15\", \"2020-02-16\", \"2020-02-17\", \"2020-02-18\", \"2020-02-19\", \"2020-02-20\", \"2020-02-21\", \"2020-02-22\", \"2020-02-23\", \"2020-02-24\", \"2020-02-25\", \"2020-02-26\", \"2020-02-27\", \"2020-02-28\", \"2020-02-29\", \"2020-03-01\", \"2020-03-02\", \"2020-03-03\", \"2020-03-04\", \"2020-03-05\", \"2020-03-06\", \"2020-03-07\", \"2020-03-08\", \"2020-03-09\", \"2020-03-10\", \"2020-03-11\", \"2020-03-12\", \"2020-03-13\", \"2020-03-14\", \"2020-03-15\", \"2020-03-16\", \"2020-03-17\", \"2020-03-18\", \"2020-03-19\", \"2020-03-20\", \"2020-03-21\", \"2020-03-22\", \"2020-03-23\", \"2020-03-24\", \"2020-03-25\", \"2020-03-26\", \"2020-03-27\", \"2020-03-28\", \"2020-03-29\", \"2020-03-30\", \"2020-03-31\", \"2020-04-01\", \"2020-04-02\", \"2020-04-03\", \"2020-04-04\", \"2020-04-05\", \"2020-04-06\", \"2020-04-07\", \"2020-04-08\", \"2020-04-09\", \"2020-04-10\", \"2020-04-11\", \"2020-04-12\", \"2020-04-13\", \"2020-04-14\", \"2020-04-15\", \"2020-04-16\", \"2020-04-17\", \"2020-04-18\", \"2020-04-19\", \"2020-04-20\", \"2020-04-21\", \"2020-04-22\", \"2020-04-23\", \"2020-04-24\", \"2020-04-25\", \"2020-04-26\", \"2020-04-27\", \"2020-04-28\", \"2020-04-29\", \"2020-04-30\", \"2020-05-01\", \"2020-05-02\", \"2020-05-03\", \"2020-05-04\", \"2020-05-05\", \"2020-05-06\", \"2020-05-07\", \"2020-05-08\", \"2020-05-09\", \"2020-05-10\", \"2020-05-11\", \"2020-05-12\", \"2020-05-13\", \"2020-05-14\", \"2020-05-15\", \"2020-05-16\", \"2020-05-17\", \"2020-05-18\", \"2020-05-19\", \"2020-05-20\", \"2020-05-21\", \"2020-05-22\", \"2020-05-23\", \"2020-05-24\", \"2020-05-25\", \"2020-05-26\", \"2020-05-27\", \"2020-05-28\", \"2020-05-29\", \"2020-05-30\", \"2020-05-31\", \"2020-06-01\", \"2020-06-02\", \"2020-06-03\", \"2020-06-04\", \"2020-06-05\", \"2020-06-06\", \"2020-06-07\", \"2020-06-08\", \"2020-06-09\", \"2020-06-10\", \"2020-06-11\", \"2020-06-12\", \"2020-06-13\", \"2020-06-14\", \"2020-06-15\", \"2020-06-16\", \"2020-06-17\", \"2020-06-18\", \"2020-06-19\", \"2020-06-20\", \"2020-06-21\", \"2020-06-22\", \"2020-06-23\", \"2020-06-24\", \"2020-06-25\", \"2020-06-26\", \"2020-06-27\", \"2020-06-28\", \"2020-06-29\", \"2020-06-30\"], \"y\": [5.061724823733658e-08, 5.061724823733658e-08, 5.061724823733658e-08, 5.061724823733658e-08, 5.061724823733658e-08, 5.061724823733658e-08, 7.592587235600488e-08, 7.592587235600488e-08, 1.5185174471200975e-07, 1.5185174471200975e-07, 1.5185174471200975e-07, 1.5185174471200975e-07, 1.5185174471200975e-07, 1.5185174471200975e-07, 1.5185174471200975e-07, 1.5185174471200975e-07, 1.7716036883067806e-07, 1.7716036883067806e-07, 2.0246899294934636e-07, 2.0246899294934636e-07, 2.0246899294934636e-07, 2.0246899294934636e-07, 2.0246899294934636e-07, 2.0246899294934636e-07, 2.0246899294934636e-07, 2.0246899294934636e-07, 3.796293617800244e-07, 3.796293617800244e-07, 3.796293617800244e-07, 2.5308624118668296e-07, 2.5308624118668296e-07, 2.5308624118668296e-07, 2.783948653053512e-07, 2.783948653053512e-07, 3.037034894240195e-07, 3.037034894240195e-07, 5.314811064920342e-07, 6.327156029667074e-07, 8.858018441533903e-07, 1.2907398300520826e-06, 1.4932088230014286e-06, 2.0753071777308e-06, 2.480245163629492e-06, 2.632096908341502e-06, 3.644441873088234e-06, 4.479626469004287e-06, 5.593205930225692e-06, 7.137032001464459e-06, 8.60493220034722e-06, 1.0781473874552691e-05, 1.4096903634098238e-05, 1.7665419634830466e-05, 1.9006776713119888e-05, 2.4093810160972215e-05, 2.9788250587672578e-05, 3.452096329786355e-05, 4.1657995299328006e-05, 5.335057964215276e-05, 6.423328801318012e-05, 7.587525510776754e-05, 9.867832543868767e-05, 0.00011786226252063823, 0.00012894743988461495, 0.00014810606834244684, 0.00018065295895905426, 0.00020778380401426666, 0.00023787575809136328, 0.0002726498076304135, 0.00030380472392049415, 0.00032488680781134487, 0.0003804898550000591, 0.00040541884975694737, 0.0004391299370830135, 0.0004782570699704747, 0.000498832981378952, 0.0005335311050456463, 0.000549348995119814, 0.0005769100867850437, 0.0006056606837838509, 0.0006417254731529532, 0.000675385943230782, 0.0007004667897323823, 0.0007379235534280113, 0.0007716852580023149, 0.0007954753646738631, 0.00085254631206146, 0.0008975703543685709, 0.0009451252590875487, 0.0010012344787586362, 0.0010466381504275271, 0.0010722757866597381, 0.0011023930493609534, 0.0011380275921200383, 0.001168347323814203, 0.0012337194999127233, 0.0012687213270688414, 0.0013167064783978365, 0.0013501391708585974, 0.0013895193899872453, 0.0014143471502476588, 0.0014794409314808736, 0.0015341075595771971, 0.001572880371726997, 0.001614158737664545, 0.0016844914040903241, 0.0017108629904219765, 0.001754621601523154, 0.001796355522694838, 0.0018424172185908143, 0.0018948819963888136, 0.0019409943095330274, 0.0019924214337421614, 0.002028891161097162, 0.002061564594834363, 0.0021196478871867066, 0.002176465748333117, 0.0022279434897904886, 0.0022841539439580508, 0.002342034767317445, 0.0023795168396371926, 0.0024397513650396235, 0.0025153482252820857, 0.0025574364671914307, 0.002627364195631311, 0.002698456120780651, 0.002781291247521052, 0.0028333257787090337, 0.0029037343710071693, 0.0029665503760697037, 0.0030205336713148233, 0.0030919039913294677, 0.0031822557794331137, 0.0032545119012919116, 0.0033056859392598587, 0.003386698845063716, 0.003458195708198954, 0.0035359944187397406, 0.0036286746002623035, 0.003711737504619773, 0.0037967491730343797, 0.0038545034532731807, 0.003941210799503738, 0.004023084198527631, 0.00412019338927096, 0.00422871676949181, 0.004324282134163902, 0.004434399957704227, 0.004518753601891749, 0.004676147935285747, 0.004846019420370248, 0.004958592180450085, 0.005089868013753617, 0.005234937047201824, 0.005329591301405643, 0.0054488455382528085, 0.005660172549643689, 0.005852163772207907]}],\n",
       "                        {\"legend\": {\"bgcolor\": \"#151516\", \"font\": {\"color\": \"#D9D9D9\"}}, \"paper_bgcolor\": \"#151516\", \"plot_bgcolor\": \"#151516\", \"template\": {\"data\": {\"bar\": [{\"error_x\": {\"color\": \"#2a3f5f\"}, \"error_y\": {\"color\": \"#2a3f5f\"}, \"marker\": {\"line\": {\"color\": \"#E5ECF6\", \"width\": 0.5}}, \"type\": \"bar\"}], \"barpolar\": [{\"marker\": {\"line\": {\"color\": \"#E5ECF6\", \"width\": 0.5}}, \"type\": \"barpolar\"}], \"carpet\": [{\"aaxis\": {\"endlinecolor\": \"#2a3f5f\", \"gridcolor\": \"white\", \"linecolor\": \"white\", \"minorgridcolor\": \"white\", \"startlinecolor\": \"#2a3f5f\"}, \"baxis\": {\"endlinecolor\": \"#2a3f5f\", \"gridcolor\": \"white\", \"linecolor\": \"white\", \"minorgridcolor\": \"white\", \"startlinecolor\": \"#2a3f5f\"}, \"type\": \"carpet\"}], \"choropleth\": [{\"colorbar\": {\"outlinewidth\": 0, \"ticks\": \"\"}, \"type\": \"choropleth\"}], \"contour\": [{\"colorbar\": {\"outlinewidth\": 0, \"ticks\": \"\"}, \"colorscale\": [[0.0, \"#0d0887\"], [0.1111111111111111, \"#46039f\"], [0.2222222222222222, \"#7201a8\"], [0.3333333333333333, \"#9c179e\"], [0.4444444444444444, \"#bd3786\"], [0.5555555555555556, \"#d8576b\"], [0.6666666666666666, \"#ed7953\"], [0.7777777777777778, \"#fb9f3a\"], [0.8888888888888888, \"#fdca26\"], [1.0, \"#f0f921\"]], \"type\": \"contour\"}], \"contourcarpet\": [{\"colorbar\": {\"outlinewidth\": 0, \"ticks\": \"\"}, \"type\": \"contourcarpet\"}], \"heatmap\": [{\"colorbar\": {\"outlinewidth\": 0, \"ticks\": \"\"}, \"colorscale\": [[0.0, \"#0d0887\"], [0.1111111111111111, \"#46039f\"], [0.2222222222222222, \"#7201a8\"], [0.3333333333333333, \"#9c179e\"], [0.4444444444444444, \"#bd3786\"], [0.5555555555555556, \"#d8576b\"], [0.6666666666666666, \"#ed7953\"], [0.7777777777777778, \"#fb9f3a\"], [0.8888888888888888, \"#fdca26\"], [1.0, \"#f0f921\"]], \"type\": \"heatmap\"}], \"heatmapgl\": [{\"colorbar\": {\"outlinewidth\": 0, \"ticks\": \"\"}, \"colorscale\": [[0.0, \"#0d0887\"], [0.1111111111111111, \"#46039f\"], [0.2222222222222222, \"#7201a8\"], [0.3333333333333333, \"#9c179e\"], [0.4444444444444444, \"#bd3786\"], [0.5555555555555556, \"#d8576b\"], [0.6666666666666666, \"#ed7953\"], [0.7777777777777778, \"#fb9f3a\"], [0.8888888888888888, \"#fdca26\"], [1.0, \"#f0f921\"]], \"type\": \"heatmapgl\"}], \"histogram\": [{\"marker\": {\"colorbar\": {\"outlinewidth\": 0, \"ticks\": \"\"}}, \"type\": \"histogram\"}], \"histogram2d\": [{\"colorbar\": {\"outlinewidth\": 0, \"ticks\": \"\"}, \"colorscale\": [[0.0, \"#0d0887\"], [0.1111111111111111, \"#46039f\"], [0.2222222222222222, \"#7201a8\"], [0.3333333333333333, \"#9c179e\"], [0.4444444444444444, \"#bd3786\"], [0.5555555555555556, \"#d8576b\"], [0.6666666666666666, \"#ed7953\"], [0.7777777777777778, \"#fb9f3a\"], [0.8888888888888888, \"#fdca26\"], [1.0, \"#f0f921\"]], \"type\": \"histogram2d\"}], \"histogram2dcontour\": [{\"colorbar\": {\"outlinewidth\": 0, \"ticks\": \"\"}, \"colorscale\": [[0.0, \"#0d0887\"], [0.1111111111111111, \"#46039f\"], [0.2222222222222222, \"#7201a8\"], [0.3333333333333333, \"#9c179e\"], [0.4444444444444444, \"#bd3786\"], [0.5555555555555556, \"#d8576b\"], [0.6666666666666666, \"#ed7953\"], [0.7777777777777778, \"#fb9f3a\"], [0.8888888888888888, \"#fdca26\"], [1.0, \"#f0f921\"]], \"type\": \"histogram2dcontour\"}], \"mesh3d\": [{\"colorbar\": {\"outlinewidth\": 0, \"ticks\": \"\"}, \"type\": \"mesh3d\"}], \"parcoords\": [{\"line\": {\"colorbar\": {\"outlinewidth\": 0, \"ticks\": \"\"}}, \"type\": \"parcoords\"}], \"scatter\": [{\"marker\": {\"colorbar\": {\"outlinewidth\": 0, \"ticks\": \"\"}}, \"type\": \"scatter\"}], \"scatter3d\": [{\"line\": {\"colorbar\": {\"outlinewidth\": 0, \"ticks\": \"\"}}, \"marker\": {\"colorbar\": {\"outlinewidth\": 0, \"ticks\": \"\"}}, \"type\": \"scatter3d\"}], \"scattercarpet\": [{\"marker\": {\"colorbar\": {\"outlinewidth\": 0, \"ticks\": \"\"}}, \"type\": \"scattercarpet\"}], \"scattergeo\": [{\"marker\": {\"colorbar\": {\"outlinewidth\": 0, \"ticks\": \"\"}}, \"type\": \"scattergeo\"}], \"scattergl\": [{\"marker\": {\"colorbar\": {\"outlinewidth\": 0, \"ticks\": \"\"}}, \"type\": \"scattergl\"}], \"scattermapbox\": [{\"marker\": {\"colorbar\": {\"outlinewidth\": 0, \"ticks\": \"\"}}, \"type\": \"scattermapbox\"}], \"scatterpolar\": [{\"marker\": {\"colorbar\": {\"outlinewidth\": 0, \"ticks\": \"\"}}, \"type\": \"scatterpolar\"}], \"scatterpolargl\": [{\"marker\": {\"colorbar\": {\"outlinewidth\": 0, \"ticks\": \"\"}}, \"type\": \"scatterpolargl\"}], \"scatterternary\": [{\"marker\": {\"colorbar\": {\"outlinewidth\": 0, \"ticks\": \"\"}}, \"type\": \"scatterternary\"}], \"surface\": [{\"colorbar\": {\"outlinewidth\": 0, \"ticks\": \"\"}, \"colorscale\": [[0.0, \"#0d0887\"], [0.1111111111111111, \"#46039f\"], [0.2222222222222222, \"#7201a8\"], [0.3333333333333333, \"#9c179e\"], [0.4444444444444444, \"#bd3786\"], [0.5555555555555556, \"#d8576b\"], [0.6666666666666666, \"#ed7953\"], [0.7777777777777778, \"#fb9f3a\"], [0.8888888888888888, \"#fdca26\"], [1.0, \"#f0f921\"]], \"type\": \"surface\"}], \"table\": [{\"cells\": {\"fill\": {\"color\": \"#EBF0F8\"}, \"line\": {\"color\": \"white\"}}, \"header\": {\"fill\": {\"color\": \"#C8D4E3\"}, \"line\": {\"color\": \"white\"}}, \"type\": \"table\"}]}, \"layout\": {\"annotationdefaults\": {\"arrowcolor\": \"#2a3f5f\", \"arrowhead\": 0, \"arrowwidth\": 1}, \"colorscale\": {\"diverging\": [[0, \"#8e0152\"], [0.1, \"#c51b7d\"], [0.2, \"#de77ae\"], [0.3, \"#f1b6da\"], [0.4, \"#fde0ef\"], [0.5, \"#f7f7f7\"], [0.6, \"#e6f5d0\"], [0.7, \"#b8e186\"], [0.8, \"#7fbc41\"], [0.9, \"#4d9221\"], [1, \"#276419\"]], \"sequential\": [[0.0, \"#0d0887\"], [0.1111111111111111, \"#46039f\"], [0.2222222222222222, \"#7201a8\"], [0.3333333333333333, \"#9c179e\"], [0.4444444444444444, \"#bd3786\"], [0.5555555555555556, \"#d8576b\"], [0.6666666666666666, \"#ed7953\"], [0.7777777777777778, \"#fb9f3a\"], [0.8888888888888888, \"#fdca26\"], [1.0, \"#f0f921\"]], \"sequentialminus\": [[0.0, \"#0d0887\"], [0.1111111111111111, \"#46039f\"], [0.2222222222222222, \"#7201a8\"], [0.3333333333333333, \"#9c179e\"], [0.4444444444444444, \"#bd3786\"], [0.5555555555555556, \"#d8576b\"], [0.6666666666666666, \"#ed7953\"], [0.7777777777777778, \"#fb9f3a\"], [0.8888888888888888, \"#fdca26\"], [1.0, \"#f0f921\"]]}, \"colorway\": [\"#636efa\", \"#EF553B\", \"#00cc96\", \"#ab63fa\", \"#FFA15A\", \"#19d3f3\", \"#FF6692\", \"#B6E880\", \"#FF97FF\", \"#FECB52\"], \"font\": {\"color\": \"#2a3f5f\"}, \"geo\": {\"bgcolor\": \"white\", \"lakecolor\": \"white\", \"landcolor\": \"#E5ECF6\", \"showlakes\": true, \"showland\": true, \"subunitcolor\": \"white\"}, \"hoverlabel\": {\"align\": \"left\"}, \"hovermode\": \"closest\", \"mapbox\": {\"style\": \"light\"}, \"paper_bgcolor\": \"white\", \"plot_bgcolor\": \"#E5ECF6\", \"polar\": {\"angularaxis\": {\"gridcolor\": \"white\", \"linecolor\": \"white\", \"ticks\": \"\"}, \"bgcolor\": \"#E5ECF6\", \"radialaxis\": {\"gridcolor\": \"white\", \"linecolor\": \"white\", \"ticks\": \"\"}}, \"scene\": {\"xaxis\": {\"backgroundcolor\": \"#E5ECF6\", \"gridcolor\": \"white\", \"gridwidth\": 2, \"linecolor\": \"white\", \"showbackground\": true, \"ticks\": \"\", \"zerolinecolor\": \"white\"}, \"yaxis\": {\"backgroundcolor\": \"#E5ECF6\", \"gridcolor\": \"white\", \"gridwidth\": 2, \"linecolor\": \"white\", \"showbackground\": true, \"ticks\": \"\", \"zerolinecolor\": \"white\"}, \"zaxis\": {\"backgroundcolor\": \"#E5ECF6\", \"gridcolor\": \"white\", \"gridwidth\": 2, \"linecolor\": \"white\", \"showbackground\": true, \"ticks\": \"\", \"zerolinecolor\": \"white\"}}, \"shapedefaults\": {\"line\": {\"color\": \"#2a3f5f\"}}, \"ternary\": {\"aaxis\": {\"gridcolor\": \"white\", \"linecolor\": \"white\", \"ticks\": \"\"}, \"baxis\": {\"gridcolor\": \"white\", \"linecolor\": \"white\", \"ticks\": \"\"}, \"bgcolor\": \"#E5ECF6\", \"caxis\": {\"gridcolor\": \"white\", \"linecolor\": \"white\", \"ticks\": \"\"}}, \"title\": {\"x\": 0.05}, \"xaxis\": {\"automargin\": true, \"gridcolor\": \"white\", \"linecolor\": \"white\", \"ticks\": \"\", \"zerolinecolor\": \"white\", \"zerolinewidth\": 2}, \"yaxis\": {\"automargin\": true, \"gridcolor\": \"white\", \"linecolor\": \"white\", \"ticks\": \"\", \"zerolinecolor\": \"white\", \"zerolinewidth\": 2}}}, \"title\": {\"font\": {\"color\": \"#D9D9D9\"}}, \"xaxis\": {\"gridcolor\": \"#434343\", \"showgrid\": true, \"tickfont\": {\"color\": \"#C2C2C2\"}, \"title\": {\"font\": {\"color\": \"#D9D9D9\"}, \"text\": \"\"}, \"zerolinecolor\": \"#666570\"}, \"yaxis\": {\"gridcolor\": \"#434343\", \"showgrid\": true, \"tickfont\": {\"color\": \"#C2C2C2\"}, \"title\": {\"font\": {\"color\": \"#D9D9D9\"}, \"text\": \"\"}, \"zerolinecolor\": \"#666570\"}},\n",
       "                        {\"responsive\": true}\n",
       "                    ).then(function(){\n",
       "                            \n",
       "var gd = document.getElementById('84dbba6f-76f5-4419-995d-5b9abdb1bf86');\n",
       "var x = new MutationObserver(function (mutations, observer) {{\n",
       "        var display = window.getComputedStyle(gd).display;\n",
       "        if (!display || display === 'none') {{\n",
       "            console.log([gd, 'removed!']);\n",
       "            Plotly.purge(gd);\n",
       "            observer.disconnect();\n",
       "        }}\n",
       "}});\n",
       "\n",
       "// Listen for the removal of the full notebook cells\n",
       "var notebookContainer = gd.closest('#notebook-container');\n",
       "if (notebookContainer) {{\n",
       "    x.observe(notebookContainer, {childList: true});\n",
       "}}\n",
       "\n",
       "// Listen for the clearing of the current output cell\n",
       "var outputEl = gd.closest('.output');\n",
       "if (outputEl) {{\n",
       "    x.observe(outputEl, {childList: true});\n",
       "}}\n",
       "\n",
       "                        })\n",
       "                };\n",
       "                });\n",
       "            </script>\n",
       "        </div>"
      ]
     },
     "metadata": {},
     "output_type": "display_data"
    }
   ],
   "source": [
    "## Plot concatenated dfs\n",
    "pfig = plot_df.iplot(theme='solar',asFigure=True)\n",
    "pfig"
   ]
  },
  {
   "cell_type": "code",
   "execution_count": 45,
   "metadata": {
    "ExecuteTime": {
     "end_time": "2020-07-02T00:45:09.225662Z",
     "start_time": "2020-07-02T00:45:09.199524Z"
    }
   },
   "outputs": [
    {
     "data": {
      "text/html": [
       "<div>\n",
       "<style scoped>\n",
       "    .dataframe tbody tr th:only-of-type {\n",
       "        vertical-align: middle;\n",
       "    }\n",
       "\n",
       "    .dataframe tbody tr th {\n",
       "        vertical-align: top;\n",
       "    }\n",
       "\n",
       "    .dataframe thead th {\n",
       "        text-align: right;\n",
       "    }\n",
       "</style>\n",
       "<table border=\"1\" class=\"dataframe\">\n",
       "  <thead>\n",
       "    <tr style=\"text-align: right;\">\n",
       "      <th></th>\n",
       "      <th>Province/State</th>\n",
       "      <th>Country/Region</th>\n",
       "      <th>Confirmed</th>\n",
       "      <th>Deaths</th>\n",
       "      <th>Recovered</th>\n",
       "      <th>state</th>\n",
       "      <th>State</th>\n",
       "      <th>Abbreviation</th>\n",
       "      <th>Confirmed Per Capita</th>\n",
       "      <th>Deaths Per Capita</th>\n",
       "      <th>Recovered Per Capita</th>\n",
       "    </tr>\n",
       "    <tr>\n",
       "      <th>Date</th>\n",
       "      <th></th>\n",
       "      <th></th>\n",
       "      <th></th>\n",
       "      <th></th>\n",
       "      <th></th>\n",
       "      <th></th>\n",
       "      <th></th>\n",
       "      <th></th>\n",
       "      <th></th>\n",
       "      <th></th>\n",
       "      <th></th>\n",
       "    </tr>\n",
       "  </thead>\n",
       "  <tbody>\n",
       "    <tr>\n",
       "      <th>2020-01-22</th>\n",
       "      <td>Washington</td>\n",
       "      <td>US</td>\n",
       "      <td>1.0</td>\n",
       "      <td>0.0</td>\n",
       "      <td>0.0</td>\n",
       "      <td>WA</td>\n",
       "      <td>Washington</td>\n",
       "      <td>WA</td>\n",
       "      <td>1.313216e-07</td>\n",
       "      <td>0.000000</td>\n",
       "      <td>0.0</td>\n",
       "    </tr>\n",
       "    <tr>\n",
       "      <th>2020-01-23</th>\n",
       "      <td>Washington</td>\n",
       "      <td>US</td>\n",
       "      <td>1.0</td>\n",
       "      <td>0.0</td>\n",
       "      <td>0.0</td>\n",
       "      <td>WA</td>\n",
       "      <td>Washington</td>\n",
       "      <td>WA</td>\n",
       "      <td>1.313216e-07</td>\n",
       "      <td>0.000000</td>\n",
       "      <td>0.0</td>\n",
       "    </tr>\n",
       "    <tr>\n",
       "      <th>2020-01-24</th>\n",
       "      <td>Washington</td>\n",
       "      <td>US</td>\n",
       "      <td>1.0</td>\n",
       "      <td>0.0</td>\n",
       "      <td>0.0</td>\n",
       "      <td>WA</td>\n",
       "      <td>Washington</td>\n",
       "      <td>WA</td>\n",
       "      <td>1.313216e-07</td>\n",
       "      <td>0.000000</td>\n",
       "      <td>0.0</td>\n",
       "    </tr>\n",
       "    <tr>\n",
       "      <th>2020-01-25</th>\n",
       "      <td>Washington</td>\n",
       "      <td>US</td>\n",
       "      <td>1.0</td>\n",
       "      <td>0.0</td>\n",
       "      <td>0.0</td>\n",
       "      <td>WA</td>\n",
       "      <td>Washington</td>\n",
       "      <td>WA</td>\n",
       "      <td>1.313216e-07</td>\n",
       "      <td>0.000000</td>\n",
       "      <td>0.0</td>\n",
       "    </tr>\n",
       "    <tr>\n",
       "      <th>2020-01-26</th>\n",
       "      <td>Washington</td>\n",
       "      <td>US</td>\n",
       "      <td>1.0</td>\n",
       "      <td>0.0</td>\n",
       "      <td>0.0</td>\n",
       "      <td>WA</td>\n",
       "      <td>Washington</td>\n",
       "      <td>WA</td>\n",
       "      <td>1.313216e-07</td>\n",
       "      <td>0.000000</td>\n",
       "      <td>0.0</td>\n",
       "    </tr>\n",
       "    <tr>\n",
       "      <th>...</th>\n",
       "      <td>...</td>\n",
       "      <td>...</td>\n",
       "      <td>...</td>\n",
       "      <td>...</td>\n",
       "      <td>...</td>\n",
       "      <td>...</td>\n",
       "      <td>...</td>\n",
       "      <td>...</td>\n",
       "      <td>...</td>\n",
       "      <td>...</td>\n",
       "      <td>...</td>\n",
       "    </tr>\n",
       "    <tr>\n",
       "      <th>2020-06-26</th>\n",
       "      <td>Puerto Rico</td>\n",
       "      <td>US</td>\n",
       "      <td>6922.0</td>\n",
       "      <td>151.0</td>\n",
       "      <td>0.0</td>\n",
       "      <td>PR</td>\n",
       "      <td>Puerto Rico</td>\n",
       "      <td>PR</td>\n",
       "      <td>2.167396e-03</td>\n",
       "      <td>0.000047</td>\n",
       "      <td>0.0</td>\n",
       "    </tr>\n",
       "    <tr>\n",
       "      <th>2020-06-27</th>\n",
       "      <td>Puerto Rico</td>\n",
       "      <td>US</td>\n",
       "      <td>7066.0</td>\n",
       "      <td>152.0</td>\n",
       "      <td>0.0</td>\n",
       "      <td>PR</td>\n",
       "      <td>Puerto Rico</td>\n",
       "      <td>PR</td>\n",
       "      <td>2.212485e-03</td>\n",
       "      <td>0.000048</td>\n",
       "      <td>0.0</td>\n",
       "    </tr>\n",
       "    <tr>\n",
       "      <th>2020-06-28</th>\n",
       "      <td>Puerto Rico</td>\n",
       "      <td>US</td>\n",
       "      <td>7189.0</td>\n",
       "      <td>153.0</td>\n",
       "      <td>0.0</td>\n",
       "      <td>PR</td>\n",
       "      <td>Puerto Rico</td>\n",
       "      <td>PR</td>\n",
       "      <td>2.250998e-03</td>\n",
       "      <td>0.000048</td>\n",
       "      <td>0.0</td>\n",
       "    </tr>\n",
       "    <tr>\n",
       "      <th>2020-06-29</th>\n",
       "      <td>Puerto Rico</td>\n",
       "      <td>US</td>\n",
       "      <td>7250.0</td>\n",
       "      <td>153.0</td>\n",
       "      <td>0.0</td>\n",
       "      <td>PR</td>\n",
       "      <td>Puerto Rico</td>\n",
       "      <td>PR</td>\n",
       "      <td>2.270099e-03</td>\n",
       "      <td>0.000048</td>\n",
       "      <td>0.0</td>\n",
       "    </tr>\n",
       "    <tr>\n",
       "      <th>2020-06-30</th>\n",
       "      <td>Puerto Rico</td>\n",
       "      <td>US</td>\n",
       "      <td>7465.0</td>\n",
       "      <td>153.0</td>\n",
       "      <td>0.0</td>\n",
       "      <td>PR</td>\n",
       "      <td>Puerto Rico</td>\n",
       "      <td>PR</td>\n",
       "      <td>2.337419e-03</td>\n",
       "      <td>0.000048</td>\n",
       "      <td>0.0</td>\n",
       "    </tr>\n",
       "  </tbody>\n",
       "</table>\n",
       "<p>6749 rows × 11 columns</p>\n",
       "</div>"
      ],
      "text/plain": [
       "           Province/State Country/Region  Confirmed  Deaths  Recovered state  \\\n",
       "Date                                                                           \n",
       "2020-01-22     Washington             US        1.0     0.0        0.0    WA   \n",
       "2020-01-23     Washington             US        1.0     0.0        0.0    WA   \n",
       "2020-01-24     Washington             US        1.0     0.0        0.0    WA   \n",
       "2020-01-25     Washington             US        1.0     0.0        0.0    WA   \n",
       "2020-01-26     Washington             US        1.0     0.0        0.0    WA   \n",
       "...                   ...            ...        ...     ...        ...   ...   \n",
       "2020-06-26    Puerto Rico             US     6922.0   151.0        0.0    PR   \n",
       "2020-06-27    Puerto Rico             US     7066.0   152.0        0.0    PR   \n",
       "2020-06-28    Puerto Rico             US     7189.0   153.0        0.0    PR   \n",
       "2020-06-29    Puerto Rico             US     7250.0   153.0        0.0    PR   \n",
       "2020-06-30    Puerto Rico             US     7465.0   153.0        0.0    PR   \n",
       "\n",
       "                  State Abbreviation  Confirmed Per Capita  Deaths Per Capita  \\\n",
       "Date                                                                            \n",
       "2020-01-22   Washington           WA          1.313216e-07           0.000000   \n",
       "2020-01-23   Washington           WA          1.313216e-07           0.000000   \n",
       "2020-01-24   Washington           WA          1.313216e-07           0.000000   \n",
       "2020-01-25   Washington           WA          1.313216e-07           0.000000   \n",
       "2020-01-26   Washington           WA          1.313216e-07           0.000000   \n",
       "...                 ...          ...                   ...                ...   \n",
       "2020-06-26  Puerto Rico           PR          2.167396e-03           0.000047   \n",
       "2020-06-27  Puerto Rico           PR          2.212485e-03           0.000048   \n",
       "2020-06-28  Puerto Rico           PR          2.250998e-03           0.000048   \n",
       "2020-06-29  Puerto Rico           PR          2.270099e-03           0.000048   \n",
       "2020-06-30  Puerto Rico           PR          2.337419e-03           0.000048   \n",
       "\n",
       "            Recovered Per Capita  \n",
       "Date                              \n",
       "2020-01-22                   0.0  \n",
       "2020-01-23                   0.0  \n",
       "2020-01-24                   0.0  \n",
       "2020-01-25                   0.0  \n",
       "2020-01-26                   0.0  \n",
       "...                          ...  \n",
       "2020-06-26                   0.0  \n",
       "2020-06-27                   0.0  \n",
       "2020-06-28                   0.0  \n",
       "2020-06-29                   0.0  \n",
       "2020-06-30                   0.0  \n",
       "\n",
       "[6749 rows x 11 columns]"
      ]
     },
     "execution_count": 45,
     "metadata": {},
     "output_type": "execute_result"
    }
   ],
   "source": [
    "df"
   ]
  },
  {
   "cell_type": "markdown",
   "metadata": {},
   "source": [
    "# DASHBOARD FUNCTIONS & APP [06/28/20]"
   ]
  },
  {
   "cell_type": "markdown",
   "metadata": {},
   "source": [
    "**DASHBOARD FEATURES**\n",
    "- Current Features:\n",
    "    - Plotly Time Series Plot for US States\n",
    "    \n",
    "- TO DO Features:\n",
    "    - Plotly Map of Cases by State/Zipcode\n",
    "\n",
    "        - Time Series Plot by Zipcode\n",
    "\n",
    "**FOR PLOTTING:**\n",
    "- Need a plotly function that will allow for choices of data to display\n",
    "- Plotting Function options:\n",
    "    - Type of Cases: \n",
    "        - (confirmed, deaths,recovered)\n",
    "        - Per Capita versions of above\n",
    "    - Display New Cases or Cumulative Cases\n",
    "    - "
   ]
  },
  {
   "cell_type": "markdown",
   "metadata": {},
   "source": [
    "### Dashboard Functions"
   ]
  },
  {
   "cell_type": "markdown",
   "metadata": {},
   "source": [
    "### def `plot_states`"
   ]
  },
  {
   "cell_type": "code",
   "execution_count": 61,
   "metadata": {
    "ExecuteTime": {
     "end_time": "2020-07-02T00:49:52.477076Z",
     "start_time": "2020-07-02T00:49:52.450205Z"
    }
   },
   "outputs": [],
   "source": [
    "import plotly.express as px\n",
    "import plotly.io as pio\n",
    "import plotly.graph_objects as go\n",
    "\n",
    "\n",
    "def plot_states(df, state_list, plot_cols = ['Confirmed'],df_only=False,\n",
    "                new_only=False,plot_scatter=True,show=False):\n",
    "    \"\"\"Plots the plot_cols for every state in state_list.\n",
    "    Returns plotly figure\n",
    "    New as of 06/21\"\"\"\n",
    "    \n",
    "    ## Get state dataframes\n",
    "    concat_dfs = []  \n",
    "    STATES = {}\n",
    "    \n",
    "    ## Get each state\n",
    "    for state in state_list:\n",
    "\n",
    "        # Grab each state's df and save to STATES\n",
    "        dfs = get_state_ts(df,state)\n",
    "        STATES[state] = dfs\n",
    "\n",
    "        ## for each plot_cols, find all columns that contain that col name\n",
    "        for plot_col in plot_cols:\n",
    "            concat_dfs.append(dfs[[col for col in dfs.columns if col.endswith(plot_col)]])#plot_col in col]])\n",
    "\n",
    "    ## Concatenate final dfs\n",
    "    plot_df = pd.concat(concat_dfs,axis=1)#[STATES[s] for s in plot_states],axis=1).iplot()\n",
    "    \n",
    "    \n",
    "    ## Set title and df if new_only\n",
    "    if new_only:\n",
    "        plot_df = plot_df.diff()\n",
    "        title = \"Coronavirus Cases by State - New Cases\"\n",
    "    else:\n",
    "        title = 'Coronavirus Cases by State - Cumulative'\n",
    "    \n",
    "    ## Reset Indes\n",
    "    plot_df.reset_index(inplace=True)\n",
    "    \n",
    "    \n",
    "    ## Return Df or plot\n",
    "    if df_only==False:\n",
    "\n",
    "        if np.any(['per capita' in x.lower() for x in plot_cols]):\n",
    "            value_name = \"# of Cases - Per Capita\"\n",
    "        else:\n",
    "            value_name='# of Cases'\n",
    "        pfig_df_melt = plot_df.melt(id_vars=['Date'],var_name='State',\n",
    "                                    value_name=value_name)\n",
    "        \n",
    "        if plot_scatter:\n",
    "            plot_func = px.scatter\n",
    "        else:\n",
    "            plot_func = px.line\n",
    "            \n",
    "            \n",
    "        # Plot concatenated dfs\n",
    "        pfig = plot_func(pfig_df_melt,x='Date',y=value_name,color='State',\n",
    "                      width=800,height=500,title=title)\n",
    "        \n",
    "#         pfig.update_xaxes(rangeslider_visible=True)\n",
    "\n",
    "                # Add range slider\n",
    "        pfig.update_layout(\n",
    "            xaxis=dict(\n",
    "                rangeselector=dict(\n",
    "                    buttons=list([\n",
    "                        dict(count=7,\n",
    "                             label=\"1week\",\n",
    "                             step=\"day\",\n",
    "                             stepmode=\"backward\"),\n",
    "                        dict(count=14,\n",
    "                             label=\"2weeks\",\n",
    "                             step=\"day\",\n",
    "                             stepmode=\"backward\"),\n",
    "                        dict(count=1,\n",
    "                             label=\"1m\",\n",
    "                             step=\"month\",\n",
    "                             stepmode=\"backward\"),\n",
    "                        dict(count=6,\n",
    "                             label=\"6m\",\n",
    "                             step=\"month\",\n",
    "                             stepmode=\"backward\"),\n",
    "\n",
    "                        dict(step=\"all\")\n",
    "                    ])\n",
    "                ),\n",
    "                rangeslider=dict(\n",
    "                    visible=True\n",
    "                ),\n",
    "                type=\"date\"\n",
    "            )\n",
    "        )\n",
    "        \n",
    "        if show:\n",
    "            pfig.show()\n",
    "            \n",
    "        return pfig\n",
    "    else:\n",
    "        return plot_df#.reset_index()\n",
    "    "
   ]
  },
  {
   "cell_type": "code",
   "execution_count": null,
   "metadata": {
    "ExecuteTime": {
     "end_time": "2020-07-02T00:45:09.580427Z",
     "start_time": "2020-07-02T00:44:50.227Z"
    }
   },
   "outputs": [],
   "source": [
    "## Using Function\n",
    "pfig = plot_states(df,['NY','MD','KY','CA','FL','MA','DC','VA'],\n",
    "                  plot_cols=['Confirmed'],plot_scatter=True)#,new_only=True)#,df_only=True)\n",
    "pfig"
   ]
  },
  {
   "cell_type": "code",
   "execution_count": null,
   "metadata": {
    "ExecuteTime": {
     "end_time": "2020-07-02T00:45:09.582033Z",
     "start_time": "2020-07-02T00:44:50.231Z"
    },
    "code_folding": [
     0
    ]
   },
   "outputs": [],
   "source": [
    "# ## Using Function\n",
    "# pfig = plot_states(df,['NY','MD','KY','CA','FL','MA','DC','VA'],\n",
    "#                   plot_cols=['Confirmed','Deaths'],df_only=True)\n",
    "# pfig.melt(id_vars=['Date'],var_name='State',\n",
    "#                                     value_name='# of Cases')\n",
    "        # Plot concatenated dfs\n",
    "\n",
    "\n",
    "# pfig_df = plot_states(df,['NY','MD','DC','CA','FL','TX'],\n",
    "#                       plot_cols=['Confirmed'],\n",
    "#                       df_only=True)\n",
    "# # display(pfig_df.head(5)) \n",
    "\n",
    "# pfig_df.diff()\n",
    "\n",
    "# pfig_df_melt = pfig_df.melt(id_vars=['Date'],var_name='State',value_name='# of Cases')\n",
    "# pfig_df_melt\n",
    "\n",
    "# pfig = px.scatter(pfig_df_melt,x='Date',y='# of Cases',color='State')\n",
    "# pfig\n",
    "\n",
    "# pfig_df = plot_states(df,['NY','MD','KY','CA','FL'],plot_cols=['Confirmed','Deaths'],\n",
    "          \n",
    "#                       df_only=True)\n",
    "# pfig_df.head()"
   ]
  },
  {
   "cell_type": "markdown",
   "metadata": {},
   "source": [
    "## Dashboard"
   ]
  },
  {
   "cell_type": "markdown",
   "metadata": {},
   "source": [
    "### Load Dashboard Data"
   ]
  },
  {
   "cell_type": "code",
   "execution_count": null,
   "metadata": {
    "ExecuteTime": {
     "end_time": "2020-07-02T00:45:09.583196Z",
     "start_time": "2020-07-02T00:44:50.237Z"
    },
    "tags": []
   },
   "outputs": [],
   "source": [
    "## RUN FULL WORKFLOW\n",
    "corona_data = CoronaData(verbose=False,run_workflow=True)\n",
    "df = corona_data.df_us.copy()\n",
    "df.head()"
   ]
  },
  {
   "cell_type": "markdown",
   "metadata": {},
   "source": [
    "### JupyterDash app"
   ]
  },
  {
   "cell_type": "code",
   "execution_count": null,
   "metadata": {
    "ExecuteTime": {
     "end_time": "2020-07-02T00:45:09.584900Z",
     "start_time": "2020-07-02T00:44:50.242Z"
    },
    "scrolled": false
   },
   "outputs": [],
   "source": [
    "try:\n",
    "    from jupyter_dash import JupyterDash\n",
    "except:\n",
    "    %conda install -c conda-forge -c plotly jupyter-dash\n",
    "    from jupyter_dash import JupyterDash\n",
    "\n",
    "## IMPORTS\n",
    "import plotly.express as px\n",
    "import plotly.io as pio\n",
    "import plotly.graph_objects as go\n",
    "\n",
    "\n",
    "import dash_core_components as dcc\n",
    "import dash_html_components as html\n",
    "from dash.dependencies import Input, Output\n",
    "\n",
    "\n",
    "def make_options(menu_choices):\n",
    "    \"\"\"Returns list of dictionary with {'label':menu_choice,'value':menu_choice}\"\"\"\n",
    "    options = []\n",
    "    for choice in menu_choices:\n",
    "        options.append({'label':choice,'value':choice})\n",
    "    return options\n",
    "\n",
    "## Make Plot Cols list for options\n",
    "stat_cols = ['Confirmed','Deaths','Recovered']\n",
    "plot_cols = []\n",
    "for column in stat_cols:\n",
    "    plot_cols.extend([col for col in df.columns if column in col])\n",
    "\n",
    "new_options = [{'label':'New Cases Only','value':1},\n",
    "{'label':'Cumulative Cases','value':0}]\n",
    "\n",
    "\n",
    "\n",
    "# Build App\n",
    "app = JupyterDash()\n",
    "\n",
    "app.layout = html.Div([\n",
    "    html.H1(\"Coronavirus Analysis\"),\n",
    "    html.Div([\n",
    "    html.Div(id=\"menu\",children=[        \n",
    "            dcc.Dropdown(id='choose_states',multi=True,placeholder='Select States',\n",
    "                        options= make_options(df['state'].sort_values().unique( )),\n",
    "                        value=['MD','NY','TX','CA','AZ'],style={'width':'90%','display':'block'}),\n",
    "            \n",
    "            html.Div(id='case_type_menu',children=[\n",
    "                dcc.Dropdown(id='choose_cases',multi=False,\n",
    "                            placeholder='Select Case Type', \n",
    "                            options=make_options(plot_cols),\n",
    "                            value='Confirmed', \n",
    "                            style={'width':'80%','display':'inline-block'}\n",
    "                            ),\n",
    "            \n",
    "            \n",
    "            dcc.RadioItems(id='choose_new',#multi=False,\n",
    "                        options=new_options, value=0,#make_options(['True','False']),\n",
    "                        style={'display':'inline-block'}\n",
    "                        )], \n",
    "            style={'display':'inline-block','padding-top':'2em'})\n",
    "        ],\n",
    "        style={'border':\"1px solid gray\",\n",
    "        \"display\":\"block-inline\",\"width\":'90%'\n",
    "        })\n",
    ",\n",
    "        \n",
    "    dcc.Graph(id='graph')\n",
    "    ], )],\n",
    "        style={'width':'100%','display':'block','margin-left':'auto',\n",
    "        \"border\":\"2px solid black\"})\n",
    "    #\"display\":'block'})border\":\"2px solid blue\",\n",
    "\n",
    "@app.callback(Output('graph','figure'),[Input('choose_states','value'),\n",
    "                                       Input('choose_cases','value'),\n",
    "                                       Input('choose_new','value')])\n",
    "def update_output_div(states,cases,new_only):\n",
    "    if isinstance(states,list)==False:\n",
    "        states = [states]\n",
    "    if isinstance(cases,list)==False:\n",
    "        cases = [cases]\n",
    "#     if new_only=='True':\n",
    "#         new_only=True\n",
    "#     else:\n",
    "#         new_only=False\n",
    "    pfig = plot_states(df,states,plot_cols=cases,new_only=new_only)\n",
    "    return pfig\n",
    "\n",
    "app.run_server(mode='external')"
   ]
  },
  {
   "cell_type": "markdown",
   "metadata": {},
   "source": [
    "# Covid Tracking Project Data"
   ]
  },
  {
   "cell_type": "markdown",
   "metadata": {},
   "source": [
    "https://covidtracking.com/api\n",
    "\n",
    "`/api/v1/states/{state}/screenshots.csv`"
   ]
  },
  {
   "cell_type": "code",
   "execution_count": null,
   "metadata": {
    "ExecuteTime": {
     "end_time": "2020-07-02T00:45:09.585784Z",
     "start_time": "2020-07-02T00:44:50.247Z"
    }
   },
   "outputs": [],
   "source": [
    "from fsds.imports import *"
   ]
  },
  {
   "cell_type": "code",
   "execution_count": null,
   "metadata": {
    "ExecuteTime": {
     "end_time": "2020-07-02T00:45:09.586919Z",
     "start_time": "2020-07-02T00:44:50.251Z"
    }
   },
   "outputs": [],
   "source": [
    "pd.set_option('display.max_columns',0)"
   ]
  },
  {
   "cell_type": "markdown",
   "metadata": {},
   "source": [
    "### Get US Daily\n"
   ]
  },
  {
   "cell_type": "code",
   "execution_count": null,
   "metadata": {},
   "outputs": [],
   "source": []
  },
  {
   "cell_type": "code",
   "execution_count": null,
   "metadata": {
    "ExecuteTime": {
     "end_time": "2020-07-02T00:45:09.587640Z",
     "start_time": "2020-07-02T00:44:50.259Z"
    }
   },
   "outputs": [],
   "source": [
    "import datetime as dt\n",
    "import requests\n",
    "import json,urllib\n",
    "todays_date = dt.datetime.now().strftime('%m%d%Y')\n",
    "\n",
    "base_url = f\"http://covidtracking.com\"\n",
    "# state='ny'\n",
    "# url = f\"http://covidtracking.com/api/v1/states/{state}/screenshots.json\"\n",
    "us_daily_url = '/api/v1/us/daily.csv'\n",
    "states_daily_url = '/api/v1/states/daily.csv'"
   ]
  },
  {
   "cell_type": "code",
   "execution_count": null,
   "metadata": {
    "ExecuteTime": {
     "end_time": "2020-07-02T00:45:09.588919Z",
     "start_time": "2020-07-02T00:44:50.266Z"
    }
   },
   "outputs": [],
   "source": [
    "class CovidTrackingProject:\n",
    "    base_url = f\"http://covidtracking.com\"\n",
    "    data = dict()\n",
    "    urls = dict(us_daily = base_url+'/api/v1/us/daily.csv',\n",
    "                states_daily = base_url+'/api/v1/states/daily.csv',\n",
    "                state_meta = base_url+\"/api/v1/states/info.csv\"\n",
    "               )\n",
    "    \n",
    "    state_columns_of_interest = ['total','positive','negative','death','recovered','hospitalized',\n",
    "                       'hospitalizedCurrently','hospitalizedCumulative',\n",
    "                       'inIcuCurrently','inIcuCumulative',\n",
    "                       'onVentilatorCurrently','onVentilatorCumulative']\n",
    "    \n",
    "    \n",
    "    def __init__(self,base_folder=\"New Data/\",download=False):\n",
    "        self.base_folder = base_folder\n",
    "        if download:\n",
    "            workflow = [self.download_state_meta,\n",
    "             self.download_us_daily,self.download_state_daily]\n",
    "            \n",
    "            for method in workflow:\n",
    "                try:\n",
    "                    method()\n",
    "                except:\n",
    "                    print('ERROR')\n",
    "        \n",
    "\n",
    "    def __repr__(self):\n",
    "        \n",
    "        return urls\n",
    "    \n",
    "    def get_csv_save_load(self,url, fpath,read_kws={'parse_dates':['date']}):\n",
    "        import pandas as pd\n",
    "        import requests\n",
    "        response = requests.get(url).content\n",
    "        \n",
    "        with open(fpath,'wb') as file:\n",
    "            file.write(response)\n",
    "\n",
    "        state_meta = pd.read_csv(fpath,**read_kws)\n",
    "        print(f'File saved as {fpath}')\n",
    "\n",
    "        return state_meta\n",
    "    \n",
    "    def download_us_daily(self):\n",
    "        key = 'us_daily'\n",
    "        return self._download_data_key(key)\n",
    "        \n",
    "        \n",
    "    def download_state_daily(self):\n",
    "        key = 'states_daily'\n",
    "        return self._download_data_key(key)\n",
    "    \n",
    "    def download_state_meta(self):\n",
    "        key = 'state_meta'\n",
    "        return self._download_data_key(key,read_kws={})\n",
    "         \n",
    "#         url = self.urls[key]\n",
    "#         data = self.get_csv_save_load(url,fpath=self.base_folder+key+'.csv')\n",
    "#         self.data[key] = data.copy()\n",
    "#         return data\n",
    "    \n",
    "    def _download_data_key(self,key,read_kws={'parse_dates':['date'],\n",
    "                                             'index_col':'date'}):\n",
    "#         key = 'states_daily'\n",
    "        url = self.urls[key]\n",
    "        data = self.get_csv_save_load(url,fpath=self.base_folder+key+'.csv',\n",
    "                                      read_kws=read_kws)\n",
    "        self.data[key] = data.copy()\n",
    "        return data\n",
    "#         self.get_csv_save_load(self.urls['st'])\n",
    "        \n",
    "        \n",
    "#     def __init__(self):\n",
    "tracking = CovidTrackingProject()\n",
    "# tracking.urls['us_daily']\n",
    "states_daily = tracking.download_state_daily()\n",
    "\n",
    "us_daily=tracking.download_us_daily()\n",
    "\n",
    "state_meta = tracking.download_state_meta()\n",
    "display(states_daily.head(),us_daily.head(),state_meta.head())"
   ]
  },
  {
   "cell_type": "code",
   "execution_count": null,
   "metadata": {
    "ExecuteTime": {
     "end_time": "2020-07-02T00:45:09.590074Z",
     "start_time": "2020-07-02T00:44:50.270Z"
    }
   },
   "outputs": [],
   "source": [
    "DATA = CovidTrackingProject(download=True)\n",
    "state_meta = DATA.data['state_meta']\n",
    "states_daily = DATA.data['states_daily']\n",
    "state_list = meta['state'].unique()\n",
    "states_daily"
   ]
  },
  {
   "cell_type": "markdown",
   "metadata": {},
   "source": [
    "## NOTES: COLUMNS TO PLOT"
   ]
  },
  {
   "cell_type": "markdown",
   "metadata": {},
   "source": [
    "- Basic Stats:\n",
    "    - death: cumulative total people died\n",
    "    - positive: total number people positive so far\n",
    "    - negative\n",
    "    - recovered\n",
    "    \n",
    "\n",
    "- Hospitalization:\n",
    "    - hospitalizedCumulative: total number hospital so far(recovered and dead)\n",
    "    - hospitalizedCurrently: \n",
    "    - hospitalizedIncrease\n",
    "\n",
    "\n",
    "- ICU:\n",
    "    - inIcuCumulative: total number hospital so far(recovered and dead)\n",
    "    - inIcuCurrently: \n",
    "    \n",
    "- Ventilator \n",
    "    - onVentilatorCumulative\n",
    "    - onVentilatorCurrently\n"
   ]
  },
  {
   "cell_type": "code",
   "execution_count": null,
   "metadata": {
    "ExecuteTime": {
     "end_time": "2020-07-02T00:45:09.591120Z",
     "start_time": "2020-07-02T00:44:50.276Z"
    }
   },
   "outputs": [],
   "source": [
    "NY = states_daily.groupby('state').get_group('NY')[DATA.state_columns_of_interest]#.plot(subplots=True,figsize=(20,60));\n",
    "NY"
   ]
  },
  {
   "cell_type": "code",
   "execution_count": null,
   "metadata": {},
   "outputs": [],
   "source": []
  },
  {
   "cell_type": "code",
   "execution_count": null,
   "metadata": {
    "ExecuteTime": {
     "end_time": "2020-07-02T00:45:09.592061Z",
     "start_time": "2020-07-02T00:44:50.281Z"
    }
   },
   "outputs": [],
   "source": [
    "columns_of_interest = DATA.state_columns_of_interest#['total','positive','negative','death','recovered','hospitalized',\n",
    "#                        'hospitalizedCurrently','hospitalizedCumulative',\n",
    "#                        'inIcuCurrently','inIcuCumulative',\n",
    "#                        'onVentilatorCurrently','onVentilatorCumulative']\n",
    "NY"
   ]
  },
  {
   "cell_type": "markdown",
   "metadata": {},
   "source": [
    "# BOOKMARK - END OF 06/29"
   ]
  },
  {
   "cell_type": "code",
   "execution_count": null,
   "metadata": {
    "ExecuteTime": {
     "end_time": "2020-07-02T00:45:09.593306Z",
     "start_time": "2020-07-02T00:44:50.286Z"
    },
    "scrolled": false
   },
   "outputs": [],
   "source": [
    "ny_ts = NY[columns_of_interest]\n",
    "ny_ts.plot(subplots=True,figsize=(10,30),sharex=False);\n",
    "plt.tight_layout()\n",
    "# for state in state_list:\n",
    "\n",
    "#     print(state)"
   ]
  },
  {
   "cell_type": "code",
   "execution_count": null,
   "metadata": {
    "ExecuteTime": {
     "end_time": "2020-07-02T00:45:09.594813Z",
     "start_time": "2020-07-02T00:44:50.290Z"
    }
   },
   "outputs": [],
   "source": [
    "# us_daily = tracking.data['us_daily']\n",
    "# us_daily.head()"
   ]
  },
  {
   "cell_type": "code",
   "execution_count": null,
   "metadata": {
    "ExecuteTime": {
     "end_time": "2020-07-02T00:45:09.595676Z",
     "start_time": "2020-07-02T00:44:50.295Z"
    }
   },
   "outputs": [],
   "source": [
    "# states_daily=tracking.data['states_daily']\n",
    "# states_daily.head()"
   ]
  },
  {
   "cell_type": "code",
   "execution_count": null,
   "metadata": {
    "ExecuteTime": {
     "end_time": "2020-07-02T00:45:09.596897Z",
     "start_time": "2020-07-02T00:44:50.299Z"
    }
   },
   "outputs": [],
   "source": [
    "states_daily.groupby('state').get_group('MD')['positive'].plot(label='positive')\n",
    "states_daily.groupby('state').get_group('MD')['negative'].plot(label='negative')\n",
    "plt.gca().legend()"
   ]
  },
  {
   "cell_type": "code",
   "execution_count": null,
   "metadata": {
    "ExecuteTime": {
     "end_time": "2020-07-02T00:45:09.597974Z",
     "start_time": "2020-07-02T00:44:50.303Z"
    }
   },
   "outputs": [],
   "source": [
    "def get_csv_save_load(url, fpath):\n",
    "    response = requests.get(url).content\n",
    "\n",
    "    with open(fpath,'wb') as file:\n",
    "        file.write(response)\n",
    "\n",
    "    state_meta = pd.read_csv(fpath)\n",
    "    print(f'File saved as {fpath}')\n",
    "    \n",
    "    return state_meta\n"
   ]
  },
  {
   "cell_type": "code",
   "execution_count": null,
   "metadata": {
    "ExecuteTime": {
     "end_time": "2020-07-02T00:45:09.599273Z",
     "start_time": "2020-07-02T00:44:50.306Z"
    }
   },
   "outputs": [],
   "source": [
    "# response = requests.get(base_url+url) \n",
    "# url_content = response.content\n",
    "\n",
    "\n",
    "# with open('New Data/state_daily.csv', 'wb') as csv_file:\n",
    "#     csv_file.write(url_content)\n",
    "# # result = pd.DataFrame.from_records(json.loads(response.content))\n",
    "# # result"
   ]
  },
  {
   "cell_type": "code",
   "execution_count": null,
   "metadata": {
    "ExecuteTime": {
     "end_time": "2020-07-02T00:45:09.600675Z",
     "start_time": "2020-07-02T00:44:50.309Z"
    }
   },
   "outputs": [],
   "source": [
    "us_daily.columns"
   ]
  },
  {
   "cell_type": "markdown",
   "metadata": {},
   "source": [
    "Fields\n",
    "date\n",
    "Field type:integer\n",
    "Date for which the daily totals were collected.\n",
    "\n",
    "`dateChecked`\n",
    "Field type:string\n",
    "DateTime this data was entered into our database.\n",
    "\n",
    "`death`\n",
    "Field type:integer\n",
    "Total number of people who have died as a result of COVID-19 so far.\n",
    "\n",
    "Returns null if no data is available\n",
    "deathIncrease\n",
    "Field type:integer\n",
    "Deprecated\n",
    "\n",
    "Returns null if no data is available\n",
    "hash\n",
    "Field type:string\n",
    "A hash for this record\n",
    "\n",
    "hospitalized\n",
    "Field type:integer\n",
    "Deprecated\n",
    "\n",
    "Returns null if no data is available\n",
    "hospitalizedCumulative\n",
    "Field type:integer\n",
    "Total number of people who have gone to the hospital for COVID-19 so far, including those who have since recovered or died.\n",
    "\n",
    "Returns null if no data is available\n",
    "hospitalizedCurrently\n",
    "Field type:integer\n",
    "Number of people in hospital for COVID-19 on this day.\n",
    "\n",
    "Returns null if no data is available\n",
    "hospitalizedIncrease\n",
    "Field type:integer\n",
    "Deprecated\n",
    "\n",
    "Returns null if no data is available\n",
    "inIcuCumulative\n",
    "Field type:integer\n",
    "Total number of people who have gone to the ICU for COVID-19 so far, including those who have since recovered or died.\n",
    "\n",
    "Returns null if no data is available\n",
    "inIcuCurrently\n",
    "Field type:integer\n",
    "Total number of people in the ICU for COVID-19 on this day.\n",
    "\n",
    "Returns null if no data is available\n",
    "lastModified\n",
    "Field type:string\n",
    "Deprecated\n",
    "\n",
    "negative\n",
    "Field type:integer\n",
    "Total number of people who have tested negative for COVID-19 so far.\n",
    "\n",
    "Returns null if no data is available\n",
    "negativeIncrease\n",
    "Field type:integer\n",
    "Deprecated\n",
    "\n",
    "Returns null if no data is available\n",
    "onVentilatorCumulative\n",
    "Field type:integer\n",
    "Total number of people who have used a ventilator for COVID-19 so far, including those who have since recovered or died.\n",
    "\n",
    "Returns null if no data is available\n",
    "onVentilatorCurrently\n",
    "Field type:integer\n",
    "Number of people using a ventilator for COVID-19 on this day.\n",
    "\n",
    "Returns null if no data is available\n",
    "pending\n",
    "Field type:integer\n",
    "Number of tests whose results have yet to be determined.\n",
    "\n",
    "Returns null if no data is available\n",
    "posNeg\n",
    "Field type:integer\n",
    "Deprecated\n",
    "\n",
    "Returns null if no data is available\n",
    "positive\n",
    "Field type:integer\n",
    "Total number of people who have tested positive for COVID-19 so far.\n",
    "\n",
    "Returns null if no data is available\n",
    "positiveIncrease\n",
    "Field type:integer\n",
    "Deprecated\n",
    "\n",
    "Returns null if no data is available\n",
    "recovered\n",
    "Field type:integer\n",
    "Total number of people who have recovered from COVID-19 so far.\n",
    "\n",
    "Returns null if no data is available\n",
    "states\n",
    "Field type:integer\n",
    "Number of states included in the data for this day.\n",
    "\n",
    "total\n",
    "Field type:integer\n",
    "Deprecated\n",
    "\n",
    "Returns null if no data is available\n",
    "totalTestResults\n",
    "Field type:integer\n",
    "Deprecated\n",
    "\n",
    "Returns null if no data is available\n",
    "totalTestResultsIncrease\n",
    "Field type:integer\n",
    "Deprecated\n",
    "\n",
    "Returns null if no data is available"
   ]
  },
  {
   "cell_type": "code",
   "execution_count": null,
   "metadata": {
    "ExecuteTime": {
     "end_time": "2020-07-02T00:45:09.601807Z",
     "start_time": "2020-07-02T00:44:50.314Z"
    }
   },
   "outputs": [],
   "source": [
    "import requests\n",
    "def get_state_screenshots(state):\n",
    "    url = f\"http://covidtracking.com/api/v1/states/{state}/screenshots.csv\"\n",
    "    response = requests.get(url)\n",
    "    if response.status_code==response.ok:\n",
    "        return response\n",
    "    else: \n",
    "        print(f'ERROR: status code = {response.status_code}')\n",
    "        return response\n",
    "    "
   ]
  },
  {
   "cell_type": "code",
   "execution_count": null,
   "metadata": {
    "ExecuteTime": {
     "end_time": "2020-07-02T00:45:09.602897Z",
     "start_time": "2020-07-02T00:44:50.318Z"
    }
   },
   "outputs": [],
   "source": [
    "## STATE METADATA\n",
    "meta_url= \"https://covidtracking.com/api/v1/states/info.csv\"\n",
    "response = requests.get(meta_url).content\n",
    "\n",
    "csv_file = 'New Data/state_metadata.csv'\n",
    "with open(csv_file,'wb') as file:\n",
    "    file.write(response)\n",
    "    \n",
    "state_meta = pd.read_csv(csv_file)\n",
    "state_meta"
   ]
  },
  {
   "cell_type": "code",
   "execution_count": null,
   "metadata": {
    "ExecuteTime": {
     "end_time": "2020-07-02T00:45:09.603896Z",
     "start_time": "2020-07-02T00:44:50.322Z"
    }
   },
   "outputs": [],
   "source": [
    "state_meta = get_csv_save_load(meta_url,'New Data/state_metadata.csv')\n",
    "state_meta"
   ]
  },
  {
   "cell_type": "code",
   "execution_count": null,
   "metadata": {
    "ExecuteTime": {
     "end_time": "2020-07-02T00:45:09.604908Z",
     "start_time": "2020-07-02T00:44:50.326Z"
    }
   },
   "outputs": [],
   "source": [
    "for state in state_meta['state'].unique():\n",
    "    print(state)"
   ]
  },
  {
   "cell_type": "code",
   "execution_count": null,
   "metadata": {
    "ExecuteTime": {
     "end_time": "2020-07-02T00:45:09.606212Z",
     "start_time": "2020-07-02T00:44:50.330Z"
    }
   },
   "outputs": [],
   "source": [
    "## Get state historical data\n",
    "import requests\n",
    "def get_state_screenshots(state):\n",
    "    url = f\"http://covidtracking.com/api/v1/states/{state}/screenshots.csv\"\n",
    "    response = requests.get(url)\n",
    "    if response.status_code==response.ok:\n",
    "        return response\n",
    "    else: \n",
    "        print(f'ERROR: status code = {response.status_code}')\n",
    "        return response\n",
    "    "
   ]
  },
  {
   "cell_type": "code",
   "execution_count": null,
   "metadata": {
    "ExecuteTime": {
     "end_time": "2020-07-02T00:45:09.607176Z",
     "start_time": "2020-07-02T00:44:50.334Z"
    }
   },
   "outputs": [],
   "source": [
    "get_csv_save_load(base_url +\"/api/v1/states/daily.csv\")"
   ]
  },
  {
   "cell_type": "markdown",
   "metadata": {},
   "source": [
    "# PRIOR WORK - COUNTRY TIME SERIES"
   ]
  },
  {
   "cell_type": "code",
   "execution_count": null,
   "metadata": {
    "ExecuteTime": {
     "end_time": "2020-07-02T00:45:09.608388Z",
     "start_time": "2020-07-02T00:44:50.338Z"
    }
   },
   "outputs": [],
   "source": [
    "stop"
   ]
  },
  {
   "cell_type": "code",
   "execution_count": null,
   "metadata": {
    "ExecuteTime": {
     "end_time": "2020-07-02T00:45:09.609505Z",
     "start_time": "2020-07-02T00:44:50.342Z"
    }
   },
   "outputs": [],
   "source": [
    "# ## Get the column names from the file name\n",
    "# def clean_name(x,split_on='_19_'):\n",
    "#     name = x.split(split_on)[-1].replace('.csv','')\n",
    "#     return name\n",
    "\n",
    "# col_names = list(map(clean_name,ts_files))\n",
    "# col_names"
   ]
  },
  {
   "cell_type": "code",
   "execution_count": null,
   "metadata": {
    "ExecuteTime": {
     "end_time": "2020-07-02T00:45:09.611553Z",
     "start_time": "2020-07-02T00:44:50.345Z"
    }
   },
   "outputs": [],
   "source": [
    "# files_to_load = dict(zip(col_names,ts_files))\n",
    "# files_to_load"
   ]
  },
  {
   "cell_type": "code",
   "execution_count": null,
   "metadata": {
    "ExecuteTime": {
     "end_time": "2020-07-02T00:45:09.612971Z",
     "start_time": "2020-07-02T00:44:50.350Z"
    }
   },
   "outputs": [],
   "source": [
    "# deaths_df = pd.read_csv(files_to_load['deaths'])\n",
    "# deaths_df"
   ]
  },
  {
   "cell_type": "code",
   "execution_count": null,
   "metadata": {
    "ExecuteTime": {
     "end_time": "2020-07-02T00:45:09.614045Z",
     "start_time": "2020-07-02T00:44:50.353Z"
    }
   },
   "outputs": [],
   "source": [
    "# df_ts_us = deaths_df.groupby('Country/Region').get_group('US')\n",
    "# df_ts_us"
   ]
  },
  {
   "cell_type": "code",
   "execution_count": null,
   "metadata": {
    "ExecuteTime": {
     "end_time": "2020-07-02T00:45:09.615030Z",
     "start_time": "2020-07-02T00:44:50.357Z"
    }
   },
   "outputs": [],
   "source": [
    "# df_US = pd.melt(df_ts_us,id_vars=['Province/State','Country/Region','Lat','Long'], var_name='Day', value_name='Deaths')\n",
    "# df_US"
   ]
  },
  {
   "cell_type": "code",
   "execution_count": null,
   "metadata": {
    "ExecuteTime": {
     "end_time": "2020-07-02T00:45:09.616745Z",
     "start_time": "2020-07-02T00:44:50.360Z"
    }
   },
   "outputs": [],
   "source": [
    "TS = {}\n",
    "for country in df.groupby('Country/Region').groups:\n",
    "    ts_temp = df.groupby('Country/Region').get_group(country)\n",
    "#     ts_temp.set_index('Day',inplace=True)\n",
    "    TS[country] =ts_temp"
   ]
  },
  {
   "cell_type": "code",
   "execution_count": null,
   "metadata": {
    "ExecuteTime": {
     "end_time": "2020-07-02T00:45:09.618040Z",
     "start_time": "2020-07-02T00:44:50.364Z"
    }
   },
   "outputs": [],
   "source": [
    "def get_country_ts(df, country,group_col='Country/Region',ts_col='Cases'):\n",
    "    ts = df.groupby(group_col).get_group(country )\n",
    "    ts.set_index('date',inplace=True)\n",
    "\n",
    "    if ts_col is not None:\n",
    "        return ts[ts_col]\n",
    "    else:\n",
    "        return tsx\n",
    "usa = get_country_ts(df,'US')\n",
    "usa\n",
    "\n",
    "\n"
   ]
  },
  {
   "cell_type": "code",
   "execution_count": null,
   "metadata": {},
   "outputs": [],
   "source": [
    "\n"
   ]
  },
  {
   "cell_type": "code",
   "execution_count": null,
   "metadata": {
    "ExecuteTime": {
     "end_time": "2020-07-02T00:45:09.619527Z",
     "start_time": "2020-07-02T00:44:50.370Z"
    }
   },
   "outputs": [],
   "source": [
    "\n",
    "usa.iloc[-10:]"
   ]
  },
  {
   "cell_type": "code",
   "execution_count": null,
   "metadata": {
    "ExecuteTime": {
     "end_time": "2020-07-02T00:45:09.620837Z",
     "start_time": "2020-07-02T00:44:50.374Z"
    }
   },
   "outputs": [],
   "source": [
    "italy = get_country_ts(df,'Italy')\n",
    "italy.plot()"
   ]
  },
  {
   "cell_type": "code",
   "execution_count": null,
   "metadata": {
    "ExecuteTime": {
     "end_time": "2020-07-02T00:45:09.622547Z",
     "start_time": "2020-07-02T00:44:50.377Z"
    }
   },
   "outputs": [],
   "source": [
    "def get_country_cum_ts(df, group='US'):\n",
    "    US = df.groupby('Country/Region').get_group(group)\n",
    "    US.set_index('date',inplace=True)\n",
    "    ts_us = US.drop(columns=['Province/State','Day','Country/Region'])['Cases'].cumsum()#.plot()\n",
    "    return ts_us"
   ]
  },
  {
   "cell_type": "code",
   "execution_count": null,
   "metadata": {
    "ExecuteTime": {
     "end_time": "2020-07-02T00:45:09.624369Z",
     "start_time": "2020-07-02T00:44:50.382Z"
    }
   },
   "outputs": [],
   "source": [
    "ts_it = get_country_cum_ts(df,'Italy')\n",
    "ts_us = get_country_cum_ts(df,'US')\n",
    "ts_ch = get_country_cum_ts(df,'China')\n",
    "ts_ko = get_country_cum_ts(df,'Korea, South')\n",
    "ts_it.plot(label='Italty')\n",
    "ts_us.plot(label='US')\n",
    "plt.legend()"
   ]
  },
  {
   "cell_type": "code",
   "execution_count": null,
   "metadata": {
    "ExecuteTime": {
     "end_time": "2020-07-02T00:45:09.625503Z",
     "start_time": "2020-07-02T00:44:50.388Z"
    }
   },
   "outputs": [],
   "source": [
    "ts_it.head()"
   ]
  },
  {
   "cell_type": "code",
   "execution_count": null,
   "metadata": {
    "ExecuteTime": {
     "end_time": "2020-07-02T00:45:09.626635Z",
     "start_time": "2020-07-02T00:44:50.392Z"
    }
   },
   "outputs": [],
   "source": [
    "\n",
    "# ts_df = pd.concat([ts_us,ts_it,ts_ch,ts_ko],axis=1)\n",
    "# ts_df.plot(subplots=True)"
   ]
  },
  {
   "cell_type": "code",
   "execution_count": null,
   "metadata": {
    "ExecuteTime": {
     "end_time": "2020-07-02T00:45:09.628884Z",
     "start_time": "2020-07-02T00:44:50.396Z"
    }
   },
   "outputs": [],
   "source": [
    "# US = df.groupby('Country/Region').get_group('US')\n",
    "# US.set_index('date',inplace=True)\n",
    "# ts_us = US.drop(columns=['Province/State','Day','Country/Region'])['Cases'].cumsum()#.plot()\n",
    "# ts_us.plot()"
   ]
  },
  {
   "cell_type": "code",
   "execution_count": null,
   "metadata": {
    "ExecuteTime": {
     "end_time": "2020-07-02T00:45:09.630249Z",
     "start_time": "2020-07-02T00:44:50.401Z"
    }
   },
   "outputs": [],
   "source": [
    "# IT = df.groupby('Country/Region').get_group('Italy')\n",
    "# IT.set_index('date',inplace=True)\n",
    "# ts_it = IT.drop(columns=['Province/State','Day','Country/Region'])['Cases'].cumsum()#.plot()"
   ]
  },
  {
   "cell_type": "code",
   "execution_count": null,
   "metadata": {
    "ExecuteTime": {
     "end_time": "2020-07-02T00:45:09.632532Z",
     "start_time": "2020-07-02T00:44:50.405Z"
    }
   },
   "outputs": [],
   "source": [
    "# pd.concat"
   ]
  },
  {
   "cell_type": "code",
   "execution_count": null,
   "metadata": {
    "ExecuteTime": {
     "end_time": "2020-07-02T00:45:09.634522Z",
     "start_time": "2020-07-02T00:44:50.408Z"
    }
   },
   "outputs": [],
   "source": [
    "ts_it.plot(label='Italy')\n",
    "ts_us.plot(label='US')\n",
    "# ts_ch.plot(label='China')\n",
    "plt.legend()"
   ]
  },
  {
   "cell_type": "code",
   "execution_count": null,
   "metadata": {
    "ExecuteTime": {
     "end_time": "2020-07-02T00:45:09.636654Z",
     "start_time": "2020-07-02T00:44:50.412Z"
    }
   },
   "outputs": [],
   "source": [
    "fig, ax = plt.subplots()\n",
    "for country in TS:\n",
    "    TS[country]['Cases'].cumsum().plot(label=country,ax=ax)\n",
    "\n",
    "ax.legend(bbox_to_anchor=(1.1, 1.05))\n",
    "\n",
    "\n",
    "# plt.legend()"
   ]
  },
  {
   "cell_type": "code",
   "execution_count": null,
   "metadata": {},
   "outputs": [],
   "source": []
  }
 ],
 "metadata": {
  "file_extension": ".py",
  "kernelspec": {
   "display_name": "Python 3.6.9 64-bit",
   "language": "python",
   "name": "python36964bit03393eb90e194b7a9fdc02111cc1aa9d"
  },
  "language_info": {
   "codemirror_mode": {
    "name": "ipython",
    "version": 3
   },
   "file_extension": ".py",
   "mimetype": "text/x-python",
   "name": "python",
   "nbconvert_exporter": "python",
   "pygments_lexer": "ipython3",
   "version": "3.6.9"
  },
  "mimetype": "text/x-python",
  "name": "python",
  "npconvert_exporter": "python",
  "pygments_lexer": "ipython3",
  "toc": {
   "base_numbering": 1,
   "nav_menu": {},
   "number_sections": false,
   "sideBar": true,
   "skip_h1_title": false,
   "title_cell": "Table of Contents",
   "title_sidebar": "Contents",
   "toc_cell": false,
   "toc_position": {
    "height": "calc(100% - 180px)",
    "left": "10px",
    "top": "150px",
    "width": "232.719px"
   },
   "toc_section_display": true,
   "toc_window_display": true
  },
  "version": 3
 },
 "nbformat": 4,
 "nbformat_minor": 2
}
